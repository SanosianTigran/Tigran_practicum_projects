{
 "cells": [
  {
   "cell_type": "markdown",
   "metadata": {},
   "source": [
    "# Описание проекта \n",
    "\n",
    "Сеть фитнес-центров разрабатывает стратегию взаимодействия с клиентами. Основаная проблема - отток клиентов. В рамках данного проекта необходимо провести анализ имеющихся текущих метрик и подготовить план действий по удержанию клиентов, а так же: \n",
    "1. Спрогнозировать вероятность оттока (на уровне следующего месяца) для каждого клиента;\n",
    "2. Сформировать типичные портреты клиентов: выделить несколько наиболее ярких групп и охарактеризовать их основные свойства;\n",
    "3. Проанализировать основные признаки, наиболее сильно влияющие на отток;\n",
    "4. Сформулировать основные выводы и разработать рекомендации по повышению качества работы с клиентами:\n",
    "\n",
    "    a) выделить целевые группы клиентов;\n",
    "    \n",
    "    b) предложить меры по снижению оттока;\n",
    "    \n",
    "    c) определить другие особенности взаимодействия с клиентами."
   ]
  },
  {
   "cell_type": "markdown",
   "metadata": {},
   "source": [
    "## Импорт библиотек"
   ]
  },
  {
   "cell_type": "code",
   "execution_count": 1,
   "metadata": {},
   "outputs": [],
   "source": [
    "import pandas as pd\n",
    "import numpy as np \n",
    "import seaborn as sns\n",
    "import matplotlib.pyplot as plt\n",
    "\n",
    "import itertools\n",
    "from sklearn.tree import DecisionTreeClassifier \n",
    "from sklearn.model_selection import train_test_split\n",
    "from sklearn.linear_model import LogisticRegression\n",
    "from sklearn.ensemble import RandomForestClassifier\n",
    "from sklearn.metrics import accuracy_score, precision_score, recall_score, f1_score, roc_auc_score\n",
    "from scipy.cluster.hierarchy import dendrogram, linkage \n",
    "from sklearn.preprocessing import StandardScaler\n",
    "from sklearn.cluster import KMeans\n",
    "\n",
    "import warnings \n",
    "warnings.filterwarnings('ignore')"
   ]
  },
  {
   "cell_type": "markdown",
   "metadata": {},
   "source": [
    "## Знакомство и предобработка данных\n",
    "\n",
    "Посмотрю на данные. Оценю, требуется ли предобработка. Если да, сделаю. \n",
    "Для оценки качества полученных данных я воспользуюсь несколькими методами:\n",
    "\n",
    "1. `.info()` для вывода краткой общей информации о таблице;\n",
    "2. `.columns` для проверки корректности стилистики названий столбцов;\n",
    "3.  `duplicated().sum()` для проверки на дубликаты.\n",
    "\n",
    "У меня подготовлена небольшая функция. Использую ее. "
   ]
  },
  {
   "cell_type": "code",
   "execution_count": 2,
   "metadata": {},
   "outputs": [],
   "source": [
    "def description(data):\n",
    "    display(data.head())\n",
    "    print('Наименования столбцов датафрейма')\n",
    "    print(data.columns)\n",
    "    print(f'Кол-во явных дубликатов:{data.duplicated().sum()}')\n",
    "    data.info()"
   ]
  },
  {
   "cell_type": "code",
   "execution_count": 3,
   "metadata": {},
   "outputs": [],
   "source": [
    "df = pd.read_csv('~gym_churn.csv')"
   ]
  },
  {
   "cell_type": "code",
   "execution_count": 4,
   "metadata": {},
   "outputs": [
    {
     "data": {
      "text/html": [
       "<div>\n",
       "<style scoped>\n",
       "    .dataframe tbody tr th:only-of-type {\n",
       "        vertical-align: middle;\n",
       "    }\n",
       "\n",
       "    .dataframe tbody tr th {\n",
       "        vertical-align: top;\n",
       "    }\n",
       "\n",
       "    .dataframe thead th {\n",
       "        text-align: right;\n",
       "    }\n",
       "</style>\n",
       "<table border=\"1\" class=\"dataframe\">\n",
       "  <thead>\n",
       "    <tr style=\"text-align: right;\">\n",
       "      <th></th>\n",
       "      <th>gender</th>\n",
       "      <th>Near_Location</th>\n",
       "      <th>Partner</th>\n",
       "      <th>Promo_friends</th>\n",
       "      <th>Phone</th>\n",
       "      <th>Contract_period</th>\n",
       "      <th>Group_visits</th>\n",
       "      <th>Age</th>\n",
       "      <th>Avg_additional_charges_total</th>\n",
       "      <th>Month_to_end_contract</th>\n",
       "      <th>Lifetime</th>\n",
       "      <th>Avg_class_frequency_total</th>\n",
       "      <th>Avg_class_frequency_current_month</th>\n",
       "      <th>Churn</th>\n",
       "    </tr>\n",
       "  </thead>\n",
       "  <tbody>\n",
       "    <tr>\n",
       "      <th>0</th>\n",
       "      <td>1</td>\n",
       "      <td>1</td>\n",
       "      <td>1</td>\n",
       "      <td>1</td>\n",
       "      <td>0</td>\n",
       "      <td>6</td>\n",
       "      <td>1</td>\n",
       "      <td>29</td>\n",
       "      <td>14.227470</td>\n",
       "      <td>5.0</td>\n",
       "      <td>3</td>\n",
       "      <td>0.020398</td>\n",
       "      <td>0.000000</td>\n",
       "      <td>0</td>\n",
       "    </tr>\n",
       "    <tr>\n",
       "      <th>1</th>\n",
       "      <td>0</td>\n",
       "      <td>1</td>\n",
       "      <td>0</td>\n",
       "      <td>0</td>\n",
       "      <td>1</td>\n",
       "      <td>12</td>\n",
       "      <td>1</td>\n",
       "      <td>31</td>\n",
       "      <td>113.202938</td>\n",
       "      <td>12.0</td>\n",
       "      <td>7</td>\n",
       "      <td>1.922936</td>\n",
       "      <td>1.910244</td>\n",
       "      <td>0</td>\n",
       "    </tr>\n",
       "    <tr>\n",
       "      <th>2</th>\n",
       "      <td>0</td>\n",
       "      <td>1</td>\n",
       "      <td>1</td>\n",
       "      <td>0</td>\n",
       "      <td>1</td>\n",
       "      <td>1</td>\n",
       "      <td>0</td>\n",
       "      <td>28</td>\n",
       "      <td>129.448479</td>\n",
       "      <td>1.0</td>\n",
       "      <td>2</td>\n",
       "      <td>1.859098</td>\n",
       "      <td>1.736502</td>\n",
       "      <td>0</td>\n",
       "    </tr>\n",
       "    <tr>\n",
       "      <th>3</th>\n",
       "      <td>0</td>\n",
       "      <td>1</td>\n",
       "      <td>1</td>\n",
       "      <td>1</td>\n",
       "      <td>1</td>\n",
       "      <td>12</td>\n",
       "      <td>1</td>\n",
       "      <td>33</td>\n",
       "      <td>62.669863</td>\n",
       "      <td>12.0</td>\n",
       "      <td>2</td>\n",
       "      <td>3.205633</td>\n",
       "      <td>3.357215</td>\n",
       "      <td>0</td>\n",
       "    </tr>\n",
       "    <tr>\n",
       "      <th>4</th>\n",
       "      <td>1</td>\n",
       "      <td>1</td>\n",
       "      <td>1</td>\n",
       "      <td>1</td>\n",
       "      <td>1</td>\n",
       "      <td>1</td>\n",
       "      <td>0</td>\n",
       "      <td>26</td>\n",
       "      <td>198.362265</td>\n",
       "      <td>1.0</td>\n",
       "      <td>3</td>\n",
       "      <td>1.113884</td>\n",
       "      <td>1.120078</td>\n",
       "      <td>0</td>\n",
       "    </tr>\n",
       "  </tbody>\n",
       "</table>\n",
       "</div>"
      ],
      "text/plain": [
       "   gender  Near_Location  Partner  Promo_friends  Phone  Contract_period  \\\n",
       "0       1              1        1              1      0                6   \n",
       "1       0              1        0              0      1               12   \n",
       "2       0              1        1              0      1                1   \n",
       "3       0              1        1              1      1               12   \n",
       "4       1              1        1              1      1                1   \n",
       "\n",
       "   Group_visits  Age  Avg_additional_charges_total  Month_to_end_contract  \\\n",
       "0             1   29                     14.227470                    5.0   \n",
       "1             1   31                    113.202938                   12.0   \n",
       "2             0   28                    129.448479                    1.0   \n",
       "3             1   33                     62.669863                   12.0   \n",
       "4             0   26                    198.362265                    1.0   \n",
       "\n",
       "   Lifetime  Avg_class_frequency_total  Avg_class_frequency_current_month  \\\n",
       "0         3                   0.020398                           0.000000   \n",
       "1         7                   1.922936                           1.910244   \n",
       "2         2                   1.859098                           1.736502   \n",
       "3         2                   3.205633                           3.357215   \n",
       "4         3                   1.113884                           1.120078   \n",
       "\n",
       "   Churn  \n",
       "0      0  \n",
       "1      0  \n",
       "2      0  \n",
       "3      0  \n",
       "4      0  "
      ]
     },
     "metadata": {},
     "output_type": "display_data"
    },
    {
     "name": "stdout",
     "output_type": "stream",
     "text": [
      "Наименования столбцов датафрейма\n",
      "Index(['gender', 'Near_Location', 'Partner', 'Promo_friends', 'Phone',\n",
      "       'Contract_period', 'Group_visits', 'Age',\n",
      "       'Avg_additional_charges_total', 'Month_to_end_contract', 'Lifetime',\n",
      "       'Avg_class_frequency_total', 'Avg_class_frequency_current_month',\n",
      "       'Churn'],\n",
      "      dtype='object')\n",
      "Кол-во явных дубликатов:0\n",
      "<class 'pandas.core.frame.DataFrame'>\n",
      "RangeIndex: 4000 entries, 0 to 3999\n",
      "Data columns (total 14 columns):\n",
      " #   Column                             Non-Null Count  Dtype  \n",
      "---  ------                             --------------  -----  \n",
      " 0   gender                             4000 non-null   int64  \n",
      " 1   Near_Location                      4000 non-null   int64  \n",
      " 2   Partner                            4000 non-null   int64  \n",
      " 3   Promo_friends                      4000 non-null   int64  \n",
      " 4   Phone                              4000 non-null   int64  \n",
      " 5   Contract_period                    4000 non-null   int64  \n",
      " 6   Group_visits                       4000 non-null   int64  \n",
      " 7   Age                                4000 non-null   int64  \n",
      " 8   Avg_additional_charges_total       4000 non-null   float64\n",
      " 9   Month_to_end_contract              4000 non-null   float64\n",
      " 10  Lifetime                           4000 non-null   int64  \n",
      " 11  Avg_class_frequency_total          4000 non-null   float64\n",
      " 12  Avg_class_frequency_current_month  4000 non-null   float64\n",
      " 13  Churn                              4000 non-null   int64  \n",
      "dtypes: float64(4), int64(10)\n",
      "memory usage: 437.6 KB\n"
     ]
    }
   ],
   "source": [
    "description(df)"
   ]
  },
  {
   "cell_type": "markdown",
   "metadata": {},
   "source": [
    "**Промежуточный вывод**\n",
    "\n",
    "1. Немного необходимо поработать с заголовками для удобства их чтения.\n",
    "2. Хорошо, что нет явных дубликатов в данных. \n",
    "3. Также хорошо, что нет пропусков в данных. \n",
    "4. Типы данных соответствуют самим данным. \n",
    "\n",
    "Приведу заголовки к нижнему регистру."
   ]
  },
  {
   "cell_type": "code",
   "execution_count": 5,
   "metadata": {},
   "outputs": [],
   "source": [
    "df.columns = [x.lower() for x in df.columns]"
   ]
  },
  {
   "cell_type": "markdown",
   "metadata": {},
   "source": [
    "Посмотрим также на сами данные с помощью метода `describe()`."
   ]
  },
  {
   "cell_type": "code",
   "execution_count": 6,
   "metadata": {},
   "outputs": [
    {
     "data": {
      "text/html": [
       "<div>\n",
       "<style scoped>\n",
       "    .dataframe tbody tr th:only-of-type {\n",
       "        vertical-align: middle;\n",
       "    }\n",
       "\n",
       "    .dataframe tbody tr th {\n",
       "        vertical-align: top;\n",
       "    }\n",
       "\n",
       "    .dataframe thead th {\n",
       "        text-align: right;\n",
       "    }\n",
       "</style>\n",
       "<table border=\"1\" class=\"dataframe\">\n",
       "  <thead>\n",
       "    <tr style=\"text-align: right;\">\n",
       "      <th></th>\n",
       "      <th>gender</th>\n",
       "      <th>near_location</th>\n",
       "      <th>partner</th>\n",
       "      <th>promo_friends</th>\n",
       "      <th>phone</th>\n",
       "      <th>contract_period</th>\n",
       "      <th>group_visits</th>\n",
       "      <th>age</th>\n",
       "      <th>avg_additional_charges_total</th>\n",
       "      <th>month_to_end_contract</th>\n",
       "      <th>lifetime</th>\n",
       "      <th>avg_class_frequency_total</th>\n",
       "      <th>avg_class_frequency_current_month</th>\n",
       "      <th>churn</th>\n",
       "    </tr>\n",
       "  </thead>\n",
       "  <tbody>\n",
       "    <tr>\n",
       "      <th>count</th>\n",
       "      <td>4000.000000</td>\n",
       "      <td>4000.000000</td>\n",
       "      <td>4000.000000</td>\n",
       "      <td>4000.000000</td>\n",
       "      <td>4000.000000</td>\n",
       "      <td>4000.000000</td>\n",
       "      <td>4000.000000</td>\n",
       "      <td>4000.000000</td>\n",
       "      <td>4000.000000</td>\n",
       "      <td>4000.000000</td>\n",
       "      <td>4000.000000</td>\n",
       "      <td>4000.000000</td>\n",
       "      <td>4000.000000</td>\n",
       "      <td>4000.000000</td>\n",
       "    </tr>\n",
       "    <tr>\n",
       "      <th>mean</th>\n",
       "      <td>0.510250</td>\n",
       "      <td>0.845250</td>\n",
       "      <td>0.486750</td>\n",
       "      <td>0.308500</td>\n",
       "      <td>0.903500</td>\n",
       "      <td>4.681250</td>\n",
       "      <td>0.412250</td>\n",
       "      <td>29.184250</td>\n",
       "      <td>146.943728</td>\n",
       "      <td>4.322750</td>\n",
       "      <td>3.724750</td>\n",
       "      <td>1.879020</td>\n",
       "      <td>1.767052</td>\n",
       "      <td>0.265250</td>\n",
       "    </tr>\n",
       "    <tr>\n",
       "      <th>std</th>\n",
       "      <td>0.499957</td>\n",
       "      <td>0.361711</td>\n",
       "      <td>0.499887</td>\n",
       "      <td>0.461932</td>\n",
       "      <td>0.295313</td>\n",
       "      <td>4.549706</td>\n",
       "      <td>0.492301</td>\n",
       "      <td>3.258367</td>\n",
       "      <td>96.355602</td>\n",
       "      <td>4.191297</td>\n",
       "      <td>3.749267</td>\n",
       "      <td>0.972245</td>\n",
       "      <td>1.052906</td>\n",
       "      <td>0.441521</td>\n",
       "    </tr>\n",
       "    <tr>\n",
       "      <th>min</th>\n",
       "      <td>0.000000</td>\n",
       "      <td>0.000000</td>\n",
       "      <td>0.000000</td>\n",
       "      <td>0.000000</td>\n",
       "      <td>0.000000</td>\n",
       "      <td>1.000000</td>\n",
       "      <td>0.000000</td>\n",
       "      <td>18.000000</td>\n",
       "      <td>0.148205</td>\n",
       "      <td>1.000000</td>\n",
       "      <td>0.000000</td>\n",
       "      <td>0.000000</td>\n",
       "      <td>0.000000</td>\n",
       "      <td>0.000000</td>\n",
       "    </tr>\n",
       "    <tr>\n",
       "      <th>25%</th>\n",
       "      <td>0.000000</td>\n",
       "      <td>1.000000</td>\n",
       "      <td>0.000000</td>\n",
       "      <td>0.000000</td>\n",
       "      <td>1.000000</td>\n",
       "      <td>1.000000</td>\n",
       "      <td>0.000000</td>\n",
       "      <td>27.000000</td>\n",
       "      <td>68.868830</td>\n",
       "      <td>1.000000</td>\n",
       "      <td>1.000000</td>\n",
       "      <td>1.180875</td>\n",
       "      <td>0.963003</td>\n",
       "      <td>0.000000</td>\n",
       "    </tr>\n",
       "    <tr>\n",
       "      <th>50%</th>\n",
       "      <td>1.000000</td>\n",
       "      <td>1.000000</td>\n",
       "      <td>0.000000</td>\n",
       "      <td>0.000000</td>\n",
       "      <td>1.000000</td>\n",
       "      <td>1.000000</td>\n",
       "      <td>0.000000</td>\n",
       "      <td>29.000000</td>\n",
       "      <td>136.220159</td>\n",
       "      <td>1.000000</td>\n",
       "      <td>3.000000</td>\n",
       "      <td>1.832768</td>\n",
       "      <td>1.719574</td>\n",
       "      <td>0.000000</td>\n",
       "    </tr>\n",
       "    <tr>\n",
       "      <th>75%</th>\n",
       "      <td>1.000000</td>\n",
       "      <td>1.000000</td>\n",
       "      <td>1.000000</td>\n",
       "      <td>1.000000</td>\n",
       "      <td>1.000000</td>\n",
       "      <td>6.000000</td>\n",
       "      <td>1.000000</td>\n",
       "      <td>31.000000</td>\n",
       "      <td>210.949625</td>\n",
       "      <td>6.000000</td>\n",
       "      <td>5.000000</td>\n",
       "      <td>2.536078</td>\n",
       "      <td>2.510336</td>\n",
       "      <td>1.000000</td>\n",
       "    </tr>\n",
       "    <tr>\n",
       "      <th>max</th>\n",
       "      <td>1.000000</td>\n",
       "      <td>1.000000</td>\n",
       "      <td>1.000000</td>\n",
       "      <td>1.000000</td>\n",
       "      <td>1.000000</td>\n",
       "      <td>12.000000</td>\n",
       "      <td>1.000000</td>\n",
       "      <td>41.000000</td>\n",
       "      <td>552.590740</td>\n",
       "      <td>12.000000</td>\n",
       "      <td>31.000000</td>\n",
       "      <td>6.023668</td>\n",
       "      <td>6.146783</td>\n",
       "      <td>1.000000</td>\n",
       "    </tr>\n",
       "  </tbody>\n",
       "</table>\n",
       "</div>"
      ],
      "text/plain": [
       "            gender  near_location      partner  promo_friends        phone  \\\n",
       "count  4000.000000    4000.000000  4000.000000    4000.000000  4000.000000   \n",
       "mean      0.510250       0.845250     0.486750       0.308500     0.903500   \n",
       "std       0.499957       0.361711     0.499887       0.461932     0.295313   \n",
       "min       0.000000       0.000000     0.000000       0.000000     0.000000   \n",
       "25%       0.000000       1.000000     0.000000       0.000000     1.000000   \n",
       "50%       1.000000       1.000000     0.000000       0.000000     1.000000   \n",
       "75%       1.000000       1.000000     1.000000       1.000000     1.000000   \n",
       "max       1.000000       1.000000     1.000000       1.000000     1.000000   \n",
       "\n",
       "       contract_period  group_visits          age  \\\n",
       "count      4000.000000   4000.000000  4000.000000   \n",
       "mean          4.681250      0.412250    29.184250   \n",
       "std           4.549706      0.492301     3.258367   \n",
       "min           1.000000      0.000000    18.000000   \n",
       "25%           1.000000      0.000000    27.000000   \n",
       "50%           1.000000      0.000000    29.000000   \n",
       "75%           6.000000      1.000000    31.000000   \n",
       "max          12.000000      1.000000    41.000000   \n",
       "\n",
       "       avg_additional_charges_total  month_to_end_contract     lifetime  \\\n",
       "count                   4000.000000            4000.000000  4000.000000   \n",
       "mean                     146.943728               4.322750     3.724750   \n",
       "std                       96.355602               4.191297     3.749267   \n",
       "min                        0.148205               1.000000     0.000000   \n",
       "25%                       68.868830               1.000000     1.000000   \n",
       "50%                      136.220159               1.000000     3.000000   \n",
       "75%                      210.949625               6.000000     5.000000   \n",
       "max                      552.590740              12.000000    31.000000   \n",
       "\n",
       "       avg_class_frequency_total  avg_class_frequency_current_month  \\\n",
       "count                4000.000000                        4000.000000   \n",
       "mean                    1.879020                           1.767052   \n",
       "std                     0.972245                           1.052906   \n",
       "min                     0.000000                           0.000000   \n",
       "25%                     1.180875                           0.963003   \n",
       "50%                     1.832768                           1.719574   \n",
       "75%                     2.536078                           2.510336   \n",
       "max                     6.023668                           6.146783   \n",
       "\n",
       "             churn  \n",
       "count  4000.000000  \n",
       "mean      0.265250  \n",
       "std       0.441521  \n",
       "min       0.000000  \n",
       "25%       0.000000  \n",
       "50%       0.000000  \n",
       "75%       1.000000  \n",
       "max       1.000000  "
      ]
     },
     "execution_count": 6,
     "metadata": {},
     "output_type": "execute_result"
    }
   ],
   "source": [
    "df.describe()"
   ]
  },
  {
   "cell_type": "markdown",
   "metadata": {},
   "source": [
    "**Что видим:**\n",
    "1. Поскольку первые 5 столбцов с данными носят бинарный характер (либо \"1\" либо \"0\"). \n",
    "2. Мв видим, что в среднем дополнительная выручка от непрофильной деятельности на одного посетителя составляет почти 147 у.е., тогда как медианное значение равно 136 у.е. Это говорит о том, что большого кол-ва выбросов по данному столбцу нет. При этом стандарное отклонение имеет высокое значение - 96. Чуть дальше построю гистограмму, чтобы посмотреть визуально на распределение и на соответствие правилу 3-х сигм;\n",
    "3. С точки зрения частоты посещения в неделю мы видим, что клиенты сети в среднем приходят в фитнес-центр 2 раза в неделю. Медианное значение очень близко к среднему арифметическому, а стандартное отклонение равно 1. Предположу, что по данному столбцу выбросов немного. Отмечу, что в предыдущем месяце клиенты посещали чуть-чуть реже фитнес-центры, чем в среднем  с начала действия абонемента;\n",
    "4. Также видно, что в среднем у клиентов фитнес-центров остается чуть больше 3,5 месяцев до истечения срока действия абонемента. Тот факт, что среднее арифметическое значение по данному столбцу чуть выше медианного говорит о том, что людей с бОльшей остаточной длительностью абонемента чуть больше, чем клиентов с меньшей. Тут есть небольшое смещение распределения данных вправо. \n"
   ]
  },
  {
   "cell_type": "markdown",
   "metadata": {},
   "source": [
    "### Анализ средних значений признаков в двух группах\n",
    "В наших данных также есть столбец с обозначением факта оттока в этом месяце. Там отражены 2 значения: \"1\" и \"0\". Разделю данные на 2 группы и посмотрю на средние показатели с учетом сегментации по столбцу `churn`. Транспонирую данные для более удобного визуального восприятия. "
   ]
  },
  {
   "cell_type": "code",
   "execution_count": 7,
   "metadata": {},
   "outputs": [
    {
     "data": {
      "text/html": [
       "<div>\n",
       "<style scoped>\n",
       "    .dataframe tbody tr th:only-of-type {\n",
       "        vertical-align: middle;\n",
       "    }\n",
       "\n",
       "    .dataframe tbody tr th {\n",
       "        vertical-align: top;\n",
       "    }\n",
       "\n",
       "    .dataframe thead th {\n",
       "        text-align: right;\n",
       "    }\n",
       "</style>\n",
       "<table border=\"1\" class=\"dataframe\">\n",
       "  <thead>\n",
       "    <tr style=\"text-align: right;\">\n",
       "      <th>churn</th>\n",
       "      <th>0</th>\n",
       "      <th>1</th>\n",
       "    </tr>\n",
       "  </thead>\n",
       "  <tbody>\n",
       "    <tr>\n",
       "      <th>gender</th>\n",
       "      <td>0.510037</td>\n",
       "      <td>0.510839</td>\n",
       "    </tr>\n",
       "    <tr>\n",
       "      <th>near_location</th>\n",
       "      <td>0.873086</td>\n",
       "      <td>0.768143</td>\n",
       "    </tr>\n",
       "    <tr>\n",
       "      <th>partner</th>\n",
       "      <td>0.534195</td>\n",
       "      <td>0.355325</td>\n",
       "    </tr>\n",
       "    <tr>\n",
       "      <th>promo_friends</th>\n",
       "      <td>0.353522</td>\n",
       "      <td>0.183789</td>\n",
       "    </tr>\n",
       "    <tr>\n",
       "      <th>phone</th>\n",
       "      <td>0.903709</td>\n",
       "      <td>0.902922</td>\n",
       "    </tr>\n",
       "    <tr>\n",
       "      <th>contract_period</th>\n",
       "      <td>5.747193</td>\n",
       "      <td>1.728558</td>\n",
       "    </tr>\n",
       "    <tr>\n",
       "      <th>group_visits</th>\n",
       "      <td>0.464103</td>\n",
       "      <td>0.268615</td>\n",
       "    </tr>\n",
       "    <tr>\n",
       "      <th>age</th>\n",
       "      <td>29.976523</td>\n",
       "      <td>26.989632</td>\n",
       "    </tr>\n",
       "    <tr>\n",
       "      <th>avg_additional_charges_total</th>\n",
       "      <td>158.445715</td>\n",
       "      <td>115.082899</td>\n",
       "    </tr>\n",
       "    <tr>\n",
       "      <th>month_to_end_contract</th>\n",
       "      <td>5.283089</td>\n",
       "      <td>1.662582</td>\n",
       "    </tr>\n",
       "    <tr>\n",
       "      <th>lifetime</th>\n",
       "      <td>4.711807</td>\n",
       "      <td>0.990575</td>\n",
       "    </tr>\n",
       "    <tr>\n",
       "      <th>avg_class_frequency_total</th>\n",
       "      <td>2.024876</td>\n",
       "      <td>1.474995</td>\n",
       "    </tr>\n",
       "    <tr>\n",
       "      <th>avg_class_frequency_current_month</th>\n",
       "      <td>2.027882</td>\n",
       "      <td>1.044546</td>\n",
       "    </tr>\n",
       "  </tbody>\n",
       "</table>\n",
       "</div>"
      ],
      "text/plain": [
       "churn                                       0           1\n",
       "gender                               0.510037    0.510839\n",
       "near_location                        0.873086    0.768143\n",
       "partner                              0.534195    0.355325\n",
       "promo_friends                        0.353522    0.183789\n",
       "phone                                0.903709    0.902922\n",
       "contract_period                      5.747193    1.728558\n",
       "group_visits                         0.464103    0.268615\n",
       "age                                 29.976523   26.989632\n",
       "avg_additional_charges_total       158.445715  115.082899\n",
       "month_to_end_contract                5.283089    1.662582\n",
       "lifetime                             4.711807    0.990575\n",
       "avg_class_frequency_total            2.024876    1.474995\n",
       "avg_class_frequency_current_month    2.027882    1.044546"
      ]
     },
     "execution_count": 7,
     "metadata": {},
     "output_type": "execute_result"
    }
   ],
   "source": [
    "df.groupby(by='churn').mean().T"
   ]
  },
  {
   "cell_type": "markdown",
   "metadata": {},
   "source": [
    "**Что видим:**\n",
    "1. Видим, что не ушедшие в отток клиенты в среднем чаще посещали фитнес-центры, что уже ушедшие, как в целом с момента начала действия абонемента, так и за предыдущий рассматриваемый месяц. \n",
    "2. Ожидаемо среднее значение длительности текущего действующего абонемента у неушедших больше, чем у тех, кто числится в оттоке. \n",
    "3. Более того, группа активных клиентов тратит больше денег на дополнительные услуги в фитнес-центрах. \n",
    "4. Они же в среднем чаще ходят на групповые занятия. \n",
    "5. Клиенты, попавшие в группу \"0\" почти в 2 раза чаще использовали промокод от знакомого при оплате первого абонемента. \n",
    "6. Распределение между мужчинами и женщинами в обоих категориях приблизительно одинаковое. "
   ]
  },
  {
   "cell_type": "markdown",
   "metadata": {},
   "source": [
    "### Оценка распределения данных признаков для 2-х групп\n",
    "\n",
    "Оценим распределение данных по разным критериям и построим гистограммы для тех, кто ушёл (отток) и тех, кто остался (не попали в отток)."
   ]
  },
  {
   "cell_type": "code",
   "execution_count": 8,
   "metadata": {},
   "outputs": [
    {
     "data": {
      "text/plain": [
       "Index(['gender', 'near_location', 'partner', 'promo_friends', 'phone',\n",
       "       'contract_period', 'group_visits', 'age',\n",
       "       'avg_additional_charges_total', 'month_to_end_contract', 'lifetime',\n",
       "       'avg_class_frequency_total', 'avg_class_frequency_current_month',\n",
       "       'churn'],\n",
       "      dtype='object')"
      ]
     },
     "execution_count": 8,
     "metadata": {},
     "output_type": "execute_result"
    }
   ],
   "source": [
    "df.columns"
   ]
  },
  {
   "cell_type": "code",
   "execution_count": 9,
   "metadata": {
    "scrolled": false
   },
   "outputs": [
    {
     "data": {
      "image/png": "[encoded data removed]",
      "text/plain": [
       "<Figure size 1440x1800 with 6 Axes>"
      ]
     },
     "metadata": {
      "needs_background": "light"
     },
     "output_type": "display_data"
    }
   ],
   "source": [
    "fig = plt.figure(figsize=(20, 25))\n",
    "\n",
    "ax_1 = fig.add_subplot(3, 2, 1)\n",
    "ax_1 = df.loc[df['churn'] == 1]['avg_class_frequency_total'].plot(kind='hist', bins=25, linewidth=5, alpha=1, label='churn', legend=True)\n",
    "df.loc[df['churn'] == 0]['avg_class_frequency_total'].plot(kind='hist', bins=25, linewidth=5, alpha=0.5, label='non churn', ax=ax_1, legend=True)\n",
    "ax_1.set(title='Распределение данных по частоте посещения (total)', ylabel = 'кол-во посетителей', xlabel ='частота посещения')\n",
    "\n",
    "ax_2 = fig.add_subplot(3, 2, 2)\n",
    "ax_2 = df.loc[df['churn'] == 1]['avg_class_frequency_current_month'].plot(kind='hist', bins=25, linewidth=5, alpha=1, label='churn', legend=True)\n",
    "df.loc[df['churn'] == 0]['avg_class_frequency_current_month'].plot(kind='hist', bins=25, linewidth=5, alpha=0.5, label='non churn', ax=ax_2, legend=True)\n",
    "ax_2.set(title='Распределение данных по частоте посещения в неделю за прошлый месяц', ylabel = 'кол-во посетителей', xlabel ='частота посещения')\n",
    "\n",
    "ax_3 = fig.add_subplot(3, 2, 3)\n",
    "ax_3 = df.loc[df['churn'] == 1]['avg_additional_charges_total'].plot(kind='hist', bins=25, linewidth=5, alpha=1, label='churn', legend=True)\n",
    "df.loc[df['churn'] == 0]['avg_additional_charges_total'].plot(kind='hist', bins=25, linewidth=5, alpha=0.5, label='non churn', ax=ax_3, legend=True)\n",
    "ax_3.set(title='Распределение данных по суммарной выручке от дополнительных услуг', ylabel = 'кол-во посетителей', xlabel ='объем дополнительных расходов (y.e.)')\n",
    "\n",
    "ax_4 = fig.add_subplot(3, 2, 4)\n",
    "ax_4 = df.loc[df['churn'] == 1]['month_to_end_contract'].plot(kind='hist', bins=25, linewidth=5, alpha=1, label='churn', legend=True)\n",
    "df.loc[df['churn'] == 0]['month_to_end_contract'].plot(kind='hist', bins=25, linewidth=5, alpha=0.5, label='non churn', ax=ax_4, legend=True)\n",
    "ax_4.set(title='Распределение данных по сроку до окончания действия абонемента', ylabel = 'кол-во посетителей', xlabel ='кол-во месяцев')\n",
    "\n",
    "ax_5 = fig.add_subplot(3, 2, 5)\n",
    "ax_5 = df.loc[df['churn'] == 1]['contract_period'].plot(kind='hist', bins=25, linewidth=5, alpha=1, label='churn', legend=True)\n",
    "df.loc[df['churn'] == 0]['contract_period'].plot(kind='hist', bins=25, linewidth=5, alpha=0.5, label='non churn', ax=ax_5, legend=True)\n",
    "ax_5.set(title='Распределение данных по длительности текущего абонемента', ylabel = 'кол-во посетителей', xlabel ='кол-во месяцев')\n",
    "\n",
    "ax_6 = fig.add_subplot(3, 2, 6)\n",
    "ax_6 = df.loc[df['churn'] == 1]['group_visits'].plot(kind='hist', bins=25, linewidth=5, alpha=1, label='churn', legend=True)\n",
    "df.loc[df['churn'] == 0]['group_visits'].plot(kind='hist', bins=25, linewidth=5, alpha=0.5, label='non churn', ax=ax_6, legend=True)\n",
    "ax_6.set(title='Распределение данных по критерию посещения групповых занятий', ylabel = 'кол-во посетителей', xlabel ='факт посещения')\n",
    "\n",
    "plt.show()"
   ]
  },
  {
   "cell_type": "markdown",
   "metadata": {},
   "source": [
    "**Вывод по графикам**\n",
    "\n",
    "Графики буду анализировать слева направо и сверху вних. \n",
    "\n",
    "1. Как видно на первом графике, распределение данных в сегменте действующих клиентов по среднему кол-ву посещений фитнес-центров за все время немного скошено влево. \n",
    "    1. Пиковое значение около 2,5 раз в неделю. Также видим, что есть небольшое кол-во \"аномально\" высоких значений(>4 раз в неделю); \n",
    "    2. Стоит также отметить, что распределение данных в сегменте клиентов, которые уже числятся в оттоке очень близко к нормальному, несмотря на небольшое смещение влево. \n",
    "    \n",
    "2. На графике распределения данных по столбцу среднего кол-ва посещений в неделю за предыдущий месяц ситуация схожая в сегменте действующих клиентов. То же смещение влево, при этом кол-во людей, которые посещают фитнес-центры 3 раза в неделю схожее с тем, что видно на графике по среднему посещению за все время наблюдений. \n",
    "    1. Однако, больше людей, которые ходили в фитнес-центры больше 3 раз в неделю. \n",
    "    2. При этом на графике сегмента `churn` видно явное смещение влево, а пиковое значение равно 0, что говорит о том, что очень большое кол-во посетитиелей фитнес-центров, числящиеся в оттоке, не посещали фитнес-центры в последний месяц. \n",
    "    \n",
    "3. На гистограмме, построенной по критерию суммарной выручки от продажи дополнительных услуг в фитнес-центре, в обоих сегментах видно сильное смещеие влево. \n",
    "    1. В семгенте действующих клиентов аномально высокими данными можно считать те, что выше значения в 400 y.e. \n",
    "    2. В сегменте посетителей, которые считаются оттоком, таковыми являются превышающие 300 y.e. \n",
    "    3. На гистограмме хорошо видно, что действующие клиенты сети фитнес-центров тратят больше средств, чем уже ушедшие. \n",
    "    \n",
    "4. С точки зрения кол-ва оставшихся месяцев у посетителей фитнес-центров видим, что у большинства анализируемых клиентов остался всего один месяц до окончания абонемента, что означает, что в ближайшее время будут требоваться активные действия в отношении клиентов по их удержанию/реактивации. \n",
    "    1. Также большое кол-во клиентов с остатком в 6 и 12 месяцев. Предположу, что это совсем новые клиенты сети. \n",
    "\n",
    "5. На гистограмме, построенной по признаку длительности текущего действующего абонемента, видно, что рассматриваемая выборка клиентов разделена на 3 группы: \n",
    "    1. 1 месяц;\n",
    "    2. 6 месяцев;\n",
    "    3. 12 месяцев. \n",
    "    \n",
    "   Видим также, что у большей части тех посетителей, которые уже отнесены к оттоку, остался всего 1 месяц до истечения срока действия абонемента. \n",
    "   \n",
    "   \n",
    "6. Посетителей, которые ходят на групповые занятия, немного меньше, чем тех, кто их посещает. При этом, разница в сегменте оттока выше, чем в сегменте действующих клиентов. "
   ]
  },
  {
   "cell_type": "markdown",
   "metadata": {},
   "source": [
    "Проанализируем также взаимосвязь рассматриваемых нами показателей в нашем датафрейме. "
   ]
  },
  {
   "cell_type": "code",
   "execution_count": 10,
   "metadata": {},
   "outputs": [
    {
     "data": {
      "image/png": "[encoded data removed]",
      "text/plain": [
       "<Figure size 1224x576 with 2 Axes>"
      ]
     },
     "metadata": {
      "needs_background": "light"
     },
     "output_type": "display_data"
    }
   ],
   "source": [
    "plt.figure(figsize=(17,8))\n",
    "sns.heatmap(df.corr(), annot=True)\n",
    "plt.title('Матрица корреляций показателей')\n",
    "plt.show()"
   ]
  },
  {
   "cell_type": "markdown",
   "metadata": {},
   "source": [
    "**Что видим:**\n",
    "\n",
    "1. Очень сильная зависимость между показателями `month_to_end_contract` и `contract_period`.\n",
    "2. Высокий уровень зависимости между признаками посещения фитнес-центров в целом и посещениями за предыдущий месяц. \n",
    "3. Также наблюдаем выскую взаимосвязь между `avg_class_frequency_total` и `avg_class_frequency_current_month`. \n",
    "3. Относительно среднюю зависимость между признаками `promo_friends` и `partner`.\n",
    "4. Относительно среднюю отрицательную зависимость между фактом оттока и временес с момента первого обращения в фитнес-центр. \n",
    "5. Достаточно низкую зависимость между остальными показателями, что говорит о том, что в дальнейшем при обучении нам не придется удалять много созависимых признаков. \n",
    "\n",
    "В данном случае избавляться от сильно созависимых признаков не стоит, поскольку один из таких признаков вытекает из другого."
   ]
  },
  {
   "cell_type": "markdown",
   "metadata": {},
   "source": [
    "### Вывод по знакомству и предобработке"
   ]
  },
  {
   "cell_type": "markdown",
   "metadata": {},
   "source": [
    "Мы изучаем весьма качественный датафрейм, в котором нет пропусков и явных дубликатов. Кол-во аномально высоких значений немного. С ними, возможно, мы поработаем чуть дальше в проекте. "
   ]
  },
  {
   "cell_type": "markdown",
   "metadata": {},
   "source": [
    "## Модели прогнозирования оттока клиентов"
   ]
  },
  {
   "cell_type": "markdown",
   "metadata": {},
   "source": [
    "Перейдем непосредственно к построению бинарной модели классификации клиентов, в которой целевой признак - факт оттока клиентов в следующем месяце. "
   ]
  },
  {
   "cell_type": "markdown",
   "metadata": {},
   "source": [
    "Разделим данные на обучающую и валидационную, а также подготовим необходимые переменные. Целевой признак (`y`) - факт оттока клиента. "
   ]
  },
  {
   "cell_type": "code",
   "execution_count": 11,
   "metadata": {},
   "outputs": [],
   "source": [
    "y = df['churn']\n",
    "X = df.drop(['churn'], axis=1)"
   ]
  },
  {
   "cell_type": "markdown",
   "metadata": {},
   "source": [
    "Создадим 2 выборки для обучения нашей машины. Для этого разделим данные на обучающую и валидационную выборку. Разделим в пропорции 80 к 20. "
   ]
  },
  {
   "cell_type": "code",
   "execution_count": 12,
   "metadata": {},
   "outputs": [],
   "source": [
    "X_train, X_test, y_train, y_test = train_test_split(X, y, test_size=0.2, random_state=0)"
   ]
  },
  {
   "cell_type": "markdown",
   "metadata": {},
   "source": [
    "Обучим модель на train-выборке 2-мя способами: \n",
    "\n",
    "    1. Логистическая регрессия;\n",
    "    2. Случайным лесом.\n",
    "    \n",
    "Выбор этих методов обусловлен тем, что у нас целевая величина (факт оттока) бинарная. Она принимает значения либо \"0\" либо \"1\". "
   ]
  },
  {
   "cell_type": "markdown",
   "metadata": {},
   "source": [
    "### Логистическая регрессия"
   ]
  },
  {
   "cell_type": "code",
   "execution_count": 13,
   "metadata": {},
   "outputs": [],
   "source": [
    "scaler = StandardScaler()\n",
    "scaler.fit(X_train)\n",
    "\n",
    "X_train_st = scaler.transform(X_train)\n",
    "X_test_st = scaler.transform(X_test)"
   ]
  },
  {
   "cell_type": "code",
   "execution_count": 14,
   "metadata": {},
   "outputs": [
    {
     "data": {
      "text/plain": [
       "LogisticRegression(random_state=0, solver='liblinear')"
      ]
     },
     "execution_count": 14,
     "metadata": {},
     "output_type": "execute_result"
    }
   ],
   "source": [
    "model = LogisticRegression(random_state = 0, solver='liblinear')\n",
    "\n",
    "model.fit(X_train_st, y_train)"
   ]
  },
  {
   "cell_type": "markdown",
   "metadata": {},
   "source": [
    "Рассчитаем прогноз класса и вероятность принадлежности объекта к первому или второму классу (в нашем случае, к оттоку или не оттоку). "
   ]
  },
  {
   "cell_type": "code",
   "execution_count": 15,
   "metadata": {},
   "outputs": [],
   "source": [
    "predictions = model.predict(X_test_st)\n",
    "probabilities = model.predict_proba(X_test_st)[:,1]"
   ]
  },
  {
   "cell_type": "markdown",
   "metadata": {},
   "source": [
    "### Метод случайного леса"
   ]
  },
  {
   "cell_type": "code",
   "execution_count": 16,
   "metadata": {},
   "outputs": [],
   "source": [
    "model_2 = RandomForestClassifier(random_state=0)\n",
    "\n",
    "model_2.fit(X_train_st, y_train)\n",
    "\n",
    "predictions_f = model_2.predict(X_test_st)\n",
    "probabilities_f = model_2.predict_proba(X_test_st)[:,1]"
   ]
  },
  {
   "cell_type": "markdown",
   "metadata": {},
   "source": [
    "Сравним модели, посмотрим, какая из них показала себя лучше. Оценим все по трем основным критериям: accuracy, precision и recall. "
   ]
  },
  {
   "cell_type": "code",
   "execution_count": 17,
   "metadata": {},
   "outputs": [],
   "source": [
    "def print_all_metrics(y_true, y_pred, y_proba, title='Метрики классификации'):\n",
    "    print(title)\n",
    "    print('\\tAccuracy: {:.2f}'.format(accuracy_score(y_true, y_pred)))\n",
    "    print('\\tPrecision: {:.2f}'.format(precision_score(y_true, y_pred)))\n",
    "    print('\\tRecall: {:.2f}'.format(recall_score(y_true, y_pred)))\n",
    "    print('\\tF1: {:.2f}'.format(f1_score(y_true, y_pred)))\n",
    "    print('\\tROC_AUC: {:.2f}'.format(roc_auc_score(y_true, y_proba)))"
   ]
  },
  {
   "cell_type": "code",
   "execution_count": 18,
   "metadata": {},
   "outputs": [
    {
     "name": "stdout",
     "output_type": "stream",
     "text": [
      "Метрики для модели логистической регрессии:\n",
      "\tAccuracy: 0.92\n",
      "\tPrecision: 0.85\n",
      "\tRecall: 0.83\n",
      "\tF1: 0.84\n",
      "\tROC_AUC: 0.97\n"
     ]
    }
   ],
   "source": [
    "print_all_metrics(\n",
    "    y_test,predictions, probabilities, \n",
    "    title='Метрики для модели логистической регрессии:'\n",
    ")"
   ]
  },
  {
   "cell_type": "code",
   "execution_count": 19,
   "metadata": {},
   "outputs": [
    {
     "name": "stdout",
     "output_type": "stream",
     "text": [
      "Метрики для модели случайного леса:\n",
      "\tAccuracy: 0.92\n",
      "\tPrecision: 0.84\n",
      "\tRecall: 0.81\n",
      "\tF1: 0.83\n",
      "\tROC_AUC: 0.97\n"
     ]
    }
   ],
   "source": [
    "print_all_metrics(\n",
    "    y_test,predictions_f, probabilities_f, \n",
    "    title='Метрики для модели случайного леса:'\n",
    ")"
   ]
  },
  {
   "cell_type": "markdown",
   "metadata": {},
   "source": [
    "Посмотрим сначала на долю правильных ответов. "
   ]
  },
  {
   "cell_type": "markdown",
   "metadata": {},
   "source": [
    "92% в обоих моделях - очень высокий показатель."
   ]
  },
  {
   "cell_type": "markdown",
   "metadata": {},
   "source": [
    "Теперь взглянем на точность и полноту. \n",
    "У модели логистической регрессии этот показатель немного выше (85% против 84% у модели случайного леса). "
   ]
  },
  {
   "cell_type": "markdown",
   "metadata": {},
   "source": [
    "С точки зрения того, сколько реальных объектов мы смогли обнаружить, то мы видим, что при применении модели логистической регрессии это показатель на 2 пункта выше - 83% против 81%. "
   ]
  },
  {
   "cell_type": "markdown",
   "metadata": {},
   "source": [
    "Посмотрим также на сводную метрику f_1. \n",
    "В данному случае модель логистической регрессии также показа себя немного лучше, чем модель случайного леса - 0.84 против 0.83. "
   ]
  },
  {
   "cell_type": "markdown",
   "metadata": {},
   "source": [
    "### Вывод по построению и оценке моделей"
   ]
  },
  {
   "cell_type": "markdown",
   "metadata": {},
   "source": [
    "Построили 2 модели, которые, основываясь на метриках точности, плотности и доли правильных ответов, показали себя хорошо. \n",
    "\n",
    "В данному случае модель логистической регрессии показала себя немного лучше.  "
   ]
  },
  {
   "cell_type": "markdown",
   "metadata": {},
   "source": [
    "## Кластеризация клиентов\n",
    "\n",
    "Проведем кластеризацию данных о клиентах. \n",
    "\n",
    "Поскольку чуть раньше мы выяснили, что распределения данных в основном смещены влево, нам необходимо провести стандартизацию данных, чтобы привести их к виду стандартного нормального распределения. После построю матрицу расстояний и нарисую дендонаграмму.  "
   ]
  },
  {
   "cell_type": "code",
   "execution_count": 20,
   "metadata": {},
   "outputs": [],
   "source": [
    "sc = StandardScaler()\n",
    "X_sc = sc.fit_transform(df.drop(columns = ['churn']))"
   ]
  },
  {
   "cell_type": "code",
   "execution_count": 21,
   "metadata": {},
   "outputs": [
    {
     "data": {
      "image/png": "[encoded data removed]",
      "text/plain": [
       "<Figure size 1080x720 with 1 Axes>"
      ]
     },
     "metadata": {
      "needs_background": "light"
     },
     "output_type": "display_data"
    }
   ],
   "source": [
    "linked = linkage(X_sc, method = 'ward')\n",
    "plt.figure(figsize=(15, 10))  \n",
    "dendrogram(linked, orientation='top')\n",
    "plt.title('Матрица расстояний')\n",
    "plt.show() "
   ]
  },
  {
   "cell_type": "markdown",
   "metadata": {},
   "source": [
    "Обучим модель кластеризации на основании алгоритма K-Means и спрогнозируем кластеры клиентов.\n",
    "\n",
    "Чтобы не потерять удачный вариант кластеризации, зафиксируем случайное состояние алгоритма. Для этого параметру random_state передадим значение 0."
   ]
  },
  {
   "cell_type": "code",
   "execution_count": 22,
   "metadata": {},
   "outputs": [],
   "source": [
    "km = KMeans(n_clusters=5, random_state=0)\n",
    "labels = km.fit_predict(X_sc)"
   ]
  },
  {
   "cell_type": "code",
   "execution_count": 23,
   "metadata": {},
   "outputs": [
    {
     "data": {
      "text/html": [
       "<div>\n",
       "<style scoped>\n",
       "    .dataframe tbody tr th:only-of-type {\n",
       "        vertical-align: middle;\n",
       "    }\n",
       "\n",
       "    .dataframe tbody tr th {\n",
       "        vertical-align: top;\n",
       "    }\n",
       "\n",
       "    .dataframe thead th {\n",
       "        text-align: right;\n",
       "    }\n",
       "</style>\n",
       "<table border=\"1\" class=\"dataframe\">\n",
       "  <thead>\n",
       "    <tr style=\"text-align: right;\">\n",
       "      <th>cluster_km</th>\n",
       "      <th>0</th>\n",
       "      <th>1</th>\n",
       "      <th>2</th>\n",
       "      <th>3</th>\n",
       "      <th>4</th>\n",
       "    </tr>\n",
       "  </thead>\n",
       "  <tbody>\n",
       "    <tr>\n",
       "      <th>gender</th>\n",
       "      <td>0.502970</td>\n",
       "      <td>0.522078</td>\n",
       "      <td>0.495050</td>\n",
       "      <td>0.485737</td>\n",
       "      <td>0.559666</td>\n",
       "    </tr>\n",
       "    <tr>\n",
       "      <th>near_location</th>\n",
       "      <td>0.959406</td>\n",
       "      <td>0.862338</td>\n",
       "      <td>0.000000</td>\n",
       "      <td>1.000000</td>\n",
       "      <td>0.976134</td>\n",
       "    </tr>\n",
       "    <tr>\n",
       "      <th>partner</th>\n",
       "      <td>0.783168</td>\n",
       "      <td>0.470130</td>\n",
       "      <td>0.463366</td>\n",
       "      <td>0.350238</td>\n",
       "      <td>0.356802</td>\n",
       "    </tr>\n",
       "    <tr>\n",
       "      <th>promo_friends</th>\n",
       "      <td>0.574257</td>\n",
       "      <td>0.306494</td>\n",
       "      <td>0.079208</td>\n",
       "      <td>0.240095</td>\n",
       "      <td>0.230310</td>\n",
       "    </tr>\n",
       "    <tr>\n",
       "      <th>phone</th>\n",
       "      <td>1.000000</td>\n",
       "      <td>0.000000</td>\n",
       "      <td>1.000000</td>\n",
       "      <td>1.000000</td>\n",
       "      <td>0.998807</td>\n",
       "    </tr>\n",
       "    <tr>\n",
       "      <th>contract_period</th>\n",
       "      <td>10.889109</td>\n",
       "      <td>4.787013</td>\n",
       "      <td>2.352475</td>\n",
       "      <td>1.948494</td>\n",
       "      <td>2.669451</td>\n",
       "    </tr>\n",
       "    <tr>\n",
       "      <th>group_visits</th>\n",
       "      <td>0.542574</td>\n",
       "      <td>0.425974</td>\n",
       "      <td>0.215842</td>\n",
       "      <td>0.341521</td>\n",
       "      <td>0.473747</td>\n",
       "    </tr>\n",
       "    <tr>\n",
       "      <th>age</th>\n",
       "      <td>29.982178</td>\n",
       "      <td>29.301299</td>\n",
       "      <td>28.477228</td>\n",
       "      <td>28.167987</td>\n",
       "      <td>30.125298</td>\n",
       "    </tr>\n",
       "    <tr>\n",
       "      <th>avg_additional_charges_total</th>\n",
       "      <td>160.761016</td>\n",
       "      <td>143.957664</td>\n",
       "      <td>135.457501</td>\n",
       "      <td>131.622204</td>\n",
       "      <td>161.657905</td>\n",
       "    </tr>\n",
       "    <tr>\n",
       "      <th>month_to_end_contract</th>\n",
       "      <td>9.954455</td>\n",
       "      <td>4.475325</td>\n",
       "      <td>2.198020</td>\n",
       "      <td>1.856577</td>\n",
       "      <td>2.459427</td>\n",
       "    </tr>\n",
       "    <tr>\n",
       "      <th>lifetime</th>\n",
       "      <td>4.736634</td>\n",
       "      <td>3.924675</td>\n",
       "      <td>2.809901</td>\n",
       "      <td>2.440571</td>\n",
       "      <td>4.898568</td>\n",
       "    </tr>\n",
       "    <tr>\n",
       "      <th>avg_class_frequency_total</th>\n",
       "      <td>1.982055</td>\n",
       "      <td>1.847220</td>\n",
       "      <td>1.660461</td>\n",
       "      <td>1.247634</td>\n",
       "      <td>2.852002</td>\n",
       "    </tr>\n",
       "    <tr>\n",
       "      <th>avg_class_frequency_current_month</th>\n",
       "      <td>1.974789</td>\n",
       "      <td>1.716369</td>\n",
       "      <td>1.477324</td>\n",
       "      <td>1.012983</td>\n",
       "      <td>2.850161</td>\n",
       "    </tr>\n",
       "  </tbody>\n",
       "</table>\n",
       "</div>"
      ],
      "text/plain": [
       "cluster_km                                  0           1           2  \\\n",
       "gender                               0.502970    0.522078    0.495050   \n",
       "near_location                        0.959406    0.862338    0.000000   \n",
       "partner                              0.783168    0.470130    0.463366   \n",
       "promo_friends                        0.574257    0.306494    0.079208   \n",
       "phone                                1.000000    0.000000    1.000000   \n",
       "contract_period                     10.889109    4.787013    2.352475   \n",
       "group_visits                         0.542574    0.425974    0.215842   \n",
       "age                                 29.982178   29.301299   28.477228   \n",
       "avg_additional_charges_total       160.761016  143.957664  135.457501   \n",
       "month_to_end_contract                9.954455    4.475325    2.198020   \n",
       "lifetime                             4.736634    3.924675    2.809901   \n",
       "avg_class_frequency_total            1.982055    1.847220    1.660461   \n",
       "avg_class_frequency_current_month    1.974789    1.716369    1.477324   \n",
       "\n",
       "cluster_km                                  3           4  \n",
       "gender                               0.485737    0.559666  \n",
       "near_location                        1.000000    0.976134  \n",
       "partner                              0.350238    0.356802  \n",
       "promo_friends                        0.240095    0.230310  \n",
       "phone                                1.000000    0.998807  \n",
       "contract_period                      1.948494    2.669451  \n",
       "group_visits                         0.341521    0.473747  \n",
       "age                                 28.167987   30.125298  \n",
       "avg_additional_charges_total       131.622204  161.657905  \n",
       "month_to_end_contract                1.856577    2.459427  \n",
       "lifetime                             2.440571    4.898568  \n",
       "avg_class_frequency_total            1.247634    2.852002  \n",
       "avg_class_frequency_current_month    1.012983    2.850161  "
      ]
     },
     "metadata": {},
     "output_type": "display_data"
    }
   ],
   "source": [
    "df['cluster_km'] = labels\n",
    "display(df.drop(columns = ['churn']).groupby(['cluster_km']).mean().T)"
   ]
  },
  {
   "cell_type": "markdown",
   "metadata": {},
   "source": [
    "Получили небольшую таблицу со средними значениями признаков для кластеров. \n",
    "В глаза бросается сразу несколько пунктов: \n",
    "\n",
    "    1. Пользователи первого кластера чаще других пользуются промокодом от друзей. \n",
    "    2. 2-й кластер вообще не пользуется мобильной связью. Во всяком случае клиенты этого кластера не указали свой номер телефона. С данным кластером не стоит выстраивать холодные продажи традиционным образом (по телефону). Это будет бесполезно. \n",
    "    3. Средний возвраст всех 5 кластеров приблизительно одинаковый. Разница совсем не существенная. \n",
    "    4. Клиенты, попавшие в 5-й кластер, больше других тратят денежные средства на дополнительные услуги в фитнес-центре. Чуть меньше затрат у пользователей 1-го кластера. \n",
    "    5. Самое большое время до окончания абонемента у клиентов, попавших в первый кластер. \n",
    "    6. Самое маленькое время до окончания абонемента у клиентов, попавших в 4-й кластер. \n",
    "    7. Чаще всего в среднем в фитнес-центры ходят клиенты 5-го кластера, как в целом за все время, так и за последний месяц. \n",
    "    8. Реже всех остальных в фитнес-центры ходят клиенты 4-го кластера одинаково за все периоды          наблюдений. "
   ]
  },
  {
   "cell_type": "markdown",
   "metadata": {},
   "source": [
    "Посмотрим распределения признаков для кластеров наглядно. "
   ]
  },
  {
   "cell_type": "code",
   "execution_count": 24,
   "metadata": {},
   "outputs": [],
   "source": [
    "def get_hist(x, key_cols):\n",
    "    x_new = x.copy()\n",
    "    x_new[key_cols] = df[key_cols]\n",
    "    for c in key_cols[:-1]:\n",
    "        print('Распределение признака {} по кластерам'.format(c))\n",
    "        sns.displot(data=x_new, x=x_new[c], col='cluster_km', height=4, aspect=0.7)\n",
    "        plt.show()"
   ]
  },
  {
   "cell_type": "code",
   "execution_count": 25,
   "metadata": {},
   "outputs": [
    {
     "name": "stdout",
     "output_type": "stream",
     "text": [
      "Распределение признака gender по кластерам\n"
     ]
    },
    {
     "data": {
      "image/png": "[encoded data removed]",
      "text/plain": [
       "<Figure size 1008x288 with 5 Axes>"
      ]
     },
     "metadata": {
      "needs_background": "light"
     },
     "output_type": "display_data"
    },
    {
     "name": "stdout",
     "output_type": "stream",
     "text": [
      "Распределение признака near_location по кластерам\n"
     ]
    },
    {
     "data": {
      "image/png": "[encoded data removed]",
      "text/plain": [
       "<Figure size 1008x288 with 5 Axes>"
      ]
     },
     "metadata": {
      "needs_background": "light"
     },
     "output_type": "display_data"
    },
    {
     "name": "stdout",
     "output_type": "stream",
     "text": [
      "Распределение признака partner по кластерам\n"
     ]
    },
    {
     "data": {
      "image/png": "[encoded data removed]",
      "text/plain": [
       "<Figure size 1008x288 with 5 Axes>"
      ]
     },
     "metadata": {
      "needs_background": "light"
     },
     "output_type": "display_data"
    },
    {
     "name": "stdout",
     "output_type": "stream",
     "text": [
      "Распределение признака promo_friends по кластерам\n"
     ]
    },
    {
     "data": {
      "image/png": "[encoded data removed]",
      "text/plain": [
       "<Figure size 1008x288 with 5 Axes>"
      ]
     },
     "metadata": {
      "needs_background": "light"
     },
     "output_type": "display_data"
    },
    {
     "name": "stdout",
     "output_type": "stream",
     "text": [
      "Распределение признака phone по кластерам\n"
     ]
    },
    {
     "data": {
      "image/png": "[encoded data removed]",
      "text/plain": [
       "<Figure size 1008x288 with 5 Axes>"
      ]
     },
     "metadata": {
      "needs_background": "light"
     },
     "output_type": "display_data"
    },
    {
     "name": "stdout",
     "output_type": "stream",
     "text": [
      "Распределение признака contract_period по кластерам\n"
     ]
    },
    {
     "data": {
      "image/png": "[encoded data removed]",
      "text/plain": [
       "<Figure size 1008x288 with 5 Axes>"
      ]
     },
     "metadata": {
      "needs_background": "light"
     },
     "output_type": "display_data"
    },
    {
     "name": "stdout",
     "output_type": "stream",
     "text": [
      "Распределение признака group_visits по кластерам\n"
     ]
    },
    {
     "data": {
      "image/png": "[encoded data removed]",
      "text/plain": [
       "<Figure size 1008x288 with 5 Axes>"
      ]
     },
     "metadata": {
      "needs_background": "light"
     },
     "output_type": "display_data"
    },
    {
     "name": "stdout",
     "output_type": "stream",
     "text": [
      "Распределение признака age по кластерам\n"
     ]
    },
    {
     "data": {
      "image/png": "[encoded data removed]",
      "text/plain": [
       "<Figure size 1008x288 with 5 Axes>"
      ]
     },
     "metadata": {
      "needs_background": "light"
     },
     "output_type": "display_data"
    },
    {
     "name": "stdout",
     "output_type": "stream",
     "text": [
      "Распределение признака avg_additional_charges_total по кластерам\n"
     ]
    },
    {
     "data": {
      "image/png": "[encoded data removed]",
      "text/plain": [
       "<Figure size 1008x288 with 5 Axes>"
      ]
     },
     "metadata": {
      "needs_background": "light"
     },
     "output_type": "display_data"
    },
    {
     "name": "stdout",
     "output_type": "stream",
     "text": [
      "Распределение признака month_to_end_contract по кластерам\n"
     ]
    },
    {
     "data": {
      "image/png": "[encoded data removed]",
      "text/plain": [
       "<Figure size 1008x288 with 5 Axes>"
      ]
     },
     "metadata": {
      "needs_background": "light"
     },
     "output_type": "display_data"
    },
    {
     "name": "stdout",
     "output_type": "stream",
     "text": [
      "Распределение признака lifetime по кластерам\n"
     ]
    },
    {
     "data": {
      "image/png": "[encoded data removed]",
      "text/plain": [
       "<Figure size 1008x288 with 5 Axes>"
      ]
     },
     "metadata": {
      "needs_background": "light"
     },
     "output_type": "display_data"
    },
    {
     "name": "stdout",
     "output_type": "stream",
     "text": [
      "Распределение признака avg_class_frequency_total по кластерам\n"
     ]
    },
    {
     "data": {
      "image/png": "[encoded data removed]",
      "text/plain": [
       "<Figure size 1008x288 with 5 Axes>"
      ]
     },
     "metadata": {
      "needs_background": "light"
     },
     "output_type": "display_data"
    },
    {
     "name": "stdout",
     "output_type": "stream",
     "text": [
      "Распределение признака avg_class_frequency_current_month по кластерам\n"
     ]
    },
    {
     "data": {
      "image/png": "[encoded data removed]",
      "text/plain": [
       "<Figure size 1008x288 with 5 Axes>"
      ]
     },
     "metadata": {
      "needs_background": "light"
     },
     "output_type": "display_data"
    },
    {
     "name": "stdout",
     "output_type": "stream",
     "text": [
      "Распределение признака churn по кластерам\n"
     ]
    },
    {
     "data": {
      "image/png": "[encoded data removed]",
      "text/plain": [
       "<Figure size 1008x288 with 5 Axes>"
      ]
     },
     "metadata": {
      "needs_background": "light"
     },
     "output_type": "display_data"
    }
   ],
   "source": [
    "get_hist(df, df.columns)"
   ]
  },
  {
   "cell_type": "markdown",
   "metadata": {},
   "source": [
    "**Что видим**\n",
    "\n",
    "Получилось очень много гистограмм. \n",
    "\n",
    "1. С точки зрения распределения по признаку длительности текущего абонемента: распредления 2-го, 3-го, 4-го и 5-го кластеров смещены влево, при этом распределение данных первого кластера - вправо. \n",
    "2. По признаку `group_visits` данные 1-го, 2-го и 5-го кластеров приблизительно равномерно расположены относительно значений `0` и `1`. Распределение данных 3-го и 4-го кластеров смещены влево. \n",
    "3. Данные по возрасту почти во всех кластерах распределены нормально. Отличие лишь в общем кол-ве. \n",
    "4. Как заметили и раньше, с точки зрения среднего чека, который оставляют посетители фитнес-центров, также в либерах 5-й кластер и 1-й. \n",
    "5. Выводы по `avg_class_frequency_total` и `avg_class_frequency_current_month` на гистограммах подтверждают те, что были написаны ранее. "
   ]
  },
  {
   "cell_type": "markdown",
   "metadata": {},
   "source": [
    "Для каждого полученного кластера посчитаем долю оттока, чтобы понять, какой кластер более склонен к нему. "
   ]
  },
  {
   "cell_type": "code",
   "execution_count": 26,
   "metadata": {},
   "outputs": [
    {
     "data": {
      "text/html": [
       "<div>\n",
       "<style scoped>\n",
       "    .dataframe tbody tr th:only-of-type {\n",
       "        vertical-align: middle;\n",
       "    }\n",
       "\n",
       "    .dataframe tbody tr th {\n",
       "        vertical-align: top;\n",
       "    }\n",
       "\n",
       "    .dataframe thead th {\n",
       "        text-align: right;\n",
       "    }\n",
       "</style>\n",
       "<table border=\"1\" class=\"dataframe\">\n",
       "  <thead>\n",
       "    <tr style=\"text-align: right;\">\n",
       "      <th></th>\n",
       "      <th>index</th>\n",
       "      <th>cluster_km</th>\n",
       "      <th>count</th>\n",
       "      <th>churn</th>\n",
       "      <th>ratio</th>\n",
       "    </tr>\n",
       "  </thead>\n",
       "  <tbody>\n",
       "    <tr>\n",
       "      <th>0</th>\n",
       "      <td>3</td>\n",
       "      <td>3</td>\n",
       "      <td>1262</td>\n",
       "      <td>649</td>\n",
       "      <td>0.514263</td>\n",
       "    </tr>\n",
       "    <tr>\n",
       "      <th>1</th>\n",
       "      <td>0</td>\n",
       "      <td>0</td>\n",
       "      <td>1010</td>\n",
       "      <td>28</td>\n",
       "      <td>0.027723</td>\n",
       "    </tr>\n",
       "    <tr>\n",
       "      <th>2</th>\n",
       "      <td>4</td>\n",
       "      <td>4</td>\n",
       "      <td>838</td>\n",
       "      <td>57</td>\n",
       "      <td>0.068019</td>\n",
       "    </tr>\n",
       "    <tr>\n",
       "      <th>3</th>\n",
       "      <td>2</td>\n",
       "      <td>2</td>\n",
       "      <td>505</td>\n",
       "      <td>224</td>\n",
       "      <td>0.443564</td>\n",
       "    </tr>\n",
       "    <tr>\n",
       "      <th>4</th>\n",
       "      <td>1</td>\n",
       "      <td>1</td>\n",
       "      <td>385</td>\n",
       "      <td>103</td>\n",
       "      <td>0.267532</td>\n",
       "    </tr>\n",
       "  </tbody>\n",
       "</table>\n",
       "</div>"
      ],
      "text/plain": [
       "   index  cluster_km  count  churn     ratio\n",
       "0      3           3   1262    649  0.514263\n",
       "1      0           0   1010     28  0.027723\n",
       "2      4           4    838     57  0.068019\n",
       "3      2           2    505    224  0.443564\n",
       "4      1           1    385    103  0.267532"
      ]
     },
     "execution_count": 26,
     "metadata": {},
     "output_type": "execute_result"
    }
   ],
   "source": [
    "df_churn = df.groupby('cluster_km')['churn'].agg(['count']).reset_index().sort_values('count', ascending=False)\n",
    "df_churn['churn'] = df.query('churn == 1').groupby('cluster_km')['churn'].agg(['count'])\n",
    "df_churn['ratio'] = df_churn['churn'] / df_churn['count']\n",
    "df_churn.reset_index()"
   ]
  },
  {
   "cell_type": "markdown",
   "metadata": {},
   "source": [
    "Видим, что кластеры с точки зрения оттока очень сильно отличаются друг от друга. \n",
    "Очевидно, 3-й кластер наиболеее склонен к оттоку, так как доля оттока у него 51%. \n",
    "Наименее склонный к оттоку кластер 1-й. Всего 2,7%. "
   ]
  },
  {
   "cell_type": "markdown",
   "metadata": {},
   "source": [
    "## Выводы по проекту"
   ]
  },
  {
   "cell_type": "markdown",
   "metadata": {},
   "source": [
    "Зависимости в данных, влияющие на отток клиентов, следующие: \n",
    "1. Очень сильная зависимость между показателями `month_to_end_contract` и `contract_period`.\n",
    "2. Высокий уровень зависимости между признаками посещения фитнес-центров в целом и посещениями за предыдущий месяц. \n",
    "3. Относительно среднюю зависимость между признаками `promo_friends` и `partner`.\n",
    "4. Относительно среднюю отрицательную зависимость между фактом оттока и временес с момента первого обращения в фитнес-центр. \n",
    "5. Достаточно низкую зависимость между остальными показателями, что говорит о том, что в дальнейшем при обучении нам не придется удалять много созависимых признаков. \n",
    "\n",
    "В рамках кластеризации клиентов мы получили 5 основных кластеров. В них: \n",
    "    1. Пользователи первого кластера чаще других пользуются промокодом от друзей. \n",
    "    2. 2-й кластер вообще не пользуется мобильной связью. Во всяком случае клиенты этого кластера не указали свой номер телефона. \n",
    "    3. Средний возвраст всех 5 кластеров приблизительно одинаковый. Разница совсем не существенная. \n",
    "    4. Клиенты, попавшие в 5-й кластер, больше других тратят денежные средства на дополнительные услуги в фитнес-центре. Чуть меньше затрат у пользователей 1-го кластера. \n",
    "    5. Самое большое время до окончания абонемента у клиентов, попавших в первый кластер. \n",
    "    6. Самое маленькое время до окончания абонемента у клиентов, попавших в 4-й кластер. \n",
    "    7. Чаще всего в среднем в фитнес-центры ходят клиенты 5-го кластера, как в целом за все время, так и за последний месяц. \n",
    "    8. Реже всех остальных в фитнес-центры ходят клиенты 4-го кластера одинаково за все периоды          наблюдений. \n",
    "    \n",
    "В рамках разработки стратегии по взаимодействию с клиентами, в данному случае необходимо сконцентрироваться на наиболее уязвимом кластере клиентов - 3-м, поскольку он наименее надежный. \n",
    "\n",
    "Использовать можно следующие инструменты: \n",
    "\n",
    "    1. Скидочная программа лояльности. \n",
    "    2. Выстроенная коммуникация с клиентами (телефон, email, соц. сети, push-уведомления) \n",
    "    3. Активная работа с клиентами по реактивации и удержанию: программы посещения групповых занятий и т.д. \n",
    "    4. Разработать мини-стратегию на акции, стимулирующие покупку более длинных абонементов, поскольку клиенты с такими абонементами реже уходят. Таким образом, мы сможем снизить отток клиентов. "
   ]
  }
 ],
 "metadata": {
  "ExecuteTimeLog": [
   {
    "duration": 3,
    "start_time": "2022-06-01T07:51:47.433Z"
   },
   {
    "duration": 1579,
    "start_time": "2022-06-01T07:52:08.554Z"
   },
   {
    "duration": 3,
    "start_time": "2022-06-01T07:52:14.206Z"
   },
   {
    "duration": 6,
    "start_time": "2022-06-01T07:54:21.576Z"
   },
   {
    "duration": 3,
    "start_time": "2022-06-01T07:54:27.302Z"
   },
   {
    "duration": 4,
    "start_time": "2022-06-01T07:54:33.182Z"
   },
   {
    "duration": 3,
    "start_time": "2022-06-01T07:54:55.109Z"
   },
   {
    "duration": 99,
    "start_time": "2022-06-01T07:56:41.589Z"
   },
   {
    "duration": 39,
    "start_time": "2022-06-01T07:56:53.941Z"
   },
   {
    "duration": 112,
    "start_time": "2022-06-01T07:57:08.229Z"
   },
   {
    "duration": 28,
    "start_time": "2022-06-01T07:57:14.333Z"
   },
   {
    "duration": 3,
    "start_time": "2022-06-01T07:58:27.221Z"
   },
   {
    "duration": 59,
    "start_time": "2022-06-01T08:02:02.713Z"
   },
   {
    "duration": 1615,
    "start_time": "2022-06-01T12:30:43.445Z"
   },
   {
    "duration": 3,
    "start_time": "2022-06-01T12:30:45.062Z"
   },
   {
    "duration": 88,
    "start_time": "2022-06-01T12:30:45.067Z"
   },
   {
    "duration": 38,
    "start_time": "2022-06-01T12:30:45.157Z"
   },
   {
    "duration": 70,
    "start_time": "2022-06-01T12:30:45.197Z"
   },
   {
    "duration": 6,
    "start_time": "2022-06-01T12:53:46.768Z"
   },
   {
    "duration": 123,
    "start_time": "2022-06-01T12:58:24.271Z"
   },
   {
    "duration": 15,
    "start_time": "2022-06-01T12:58:26.566Z"
   },
   {
    "duration": 22,
    "start_time": "2022-06-01T12:58:59.863Z"
   },
   {
    "duration": 13,
    "start_time": "2022-06-01T12:59:40.405Z"
   },
   {
    "duration": 5,
    "start_time": "2022-06-01T12:59:47.934Z"
   },
   {
    "duration": 12,
    "start_time": "2022-06-01T12:59:53.245Z"
   },
   {
    "duration": 10,
    "start_time": "2022-06-01T13:00:00.733Z"
   },
   {
    "duration": 14,
    "start_time": "2022-06-01T13:02:14.011Z"
   },
   {
    "duration": 12,
    "start_time": "2022-06-01T13:02:43.958Z"
   },
   {
    "duration": 1395,
    "start_time": "2022-06-01T13:02:48.576Z"
   },
   {
    "duration": 8,
    "start_time": "2022-06-01T13:02:49.973Z"
   },
   {
    "duration": 44,
    "start_time": "2022-06-01T13:02:49.983Z"
   },
   {
    "duration": 41,
    "start_time": "2022-06-01T13:02:50.029Z"
   },
   {
    "duration": 4,
    "start_time": "2022-06-01T13:02:50.072Z"
   },
   {
    "duration": 55,
    "start_time": "2022-06-01T13:02:50.080Z"
   },
   {
    "duration": 28,
    "start_time": "2022-06-01T13:02:50.137Z"
   },
   {
    "duration": 5,
    "start_time": "2022-06-01T13:03:19.589Z"
   },
   {
    "duration": 16,
    "start_time": "2022-06-01T13:03:22.709Z"
   },
   {
    "duration": 138,
    "start_time": "2022-06-01T13:13:19.269Z"
   },
   {
    "duration": 5,
    "start_time": "2022-06-01T13:13:24.981Z"
   },
   {
    "duration": 2285,
    "start_time": "2022-06-01T13:14:55.369Z"
   },
   {
    "duration": 1657,
    "start_time": "2022-06-01T13:15:00.949Z"
   },
   {
    "duration": 1576,
    "start_time": "2022-06-01T13:15:07.925Z"
   },
   {
    "duration": 1778,
    "start_time": "2022-06-01T13:15:13.180Z"
   },
   {
    "duration": 1622,
    "start_time": "2022-06-01T13:16:41.839Z"
   },
   {
    "duration": 1439,
    "start_time": "2022-06-01T13:16:50.398Z"
   },
   {
    "duration": 157,
    "start_time": "2022-06-01T14:09:04.070Z"
   },
   {
    "duration": 131,
    "start_time": "2022-06-01T14:15:27.404Z"
   },
   {
    "duration": 8,
    "start_time": "2022-06-01T14:22:52.311Z"
   },
   {
    "duration": 14,
    "start_time": "2022-06-01T14:22:55.371Z"
   },
   {
    "duration": 4,
    "start_time": "2022-06-01T14:23:04.844Z"
   },
   {
    "duration": 78,
    "start_time": "2022-06-01T14:24:01.713Z"
   },
   {
    "duration": 488,
    "start_time": "2022-06-01T14:24:43.610Z"
   },
   {
    "duration": 19,
    "start_time": "2022-06-01T14:25:03.962Z"
   },
   {
    "duration": 5,
    "start_time": "2022-06-01T14:25:33.755Z"
   },
   {
    "duration": 6,
    "start_time": "2022-06-01T14:25:41.978Z"
   },
   {
    "duration": 4,
    "start_time": "2022-06-01T14:25:46.610Z"
   },
   {
    "duration": 171,
    "start_time": "2022-06-01T14:26:06.347Z"
   },
   {
    "duration": 160,
    "start_time": "2022-06-01T14:26:11.334Z"
   },
   {
    "duration": 5,
    "start_time": "2022-06-01T14:27:04.834Z"
   },
   {
    "duration": 1273,
    "start_time": "2022-06-01T14:28:31.439Z"
   },
   {
    "duration": 3,
    "start_time": "2022-06-01T14:28:32.714Z"
   },
   {
    "duration": 34,
    "start_time": "2022-06-01T14:28:32.718Z"
   },
   {
    "duration": 31,
    "start_time": "2022-06-01T14:28:32.754Z"
   },
   {
    "duration": 6,
    "start_time": "2022-06-01T14:28:32.792Z"
   },
   {
    "duration": 44,
    "start_time": "2022-06-01T14:28:32.799Z"
   },
   {
    "duration": 10,
    "start_time": "2022-06-01T14:28:32.845Z"
   },
   {
    "duration": 5,
    "start_time": "2022-06-01T14:28:32.856Z"
   },
   {
    "duration": 1235,
    "start_time": "2022-06-01T14:28:52.297Z"
   },
   {
    "duration": 3,
    "start_time": "2022-06-01T14:28:53.533Z"
   },
   {
    "duration": 42,
    "start_time": "2022-06-01T14:28:53.538Z"
   },
   {
    "duration": 25,
    "start_time": "2022-06-01T14:28:53.594Z"
   },
   {
    "duration": 2,
    "start_time": "2022-06-01T14:28:53.621Z"
   },
   {
    "duration": 46,
    "start_time": "2022-06-01T14:28:53.625Z"
   },
   {
    "duration": 23,
    "start_time": "2022-06-01T14:28:53.672Z"
   },
   {
    "duration": 4,
    "start_time": "2022-06-01T14:28:53.696Z"
   },
   {
    "duration": 7,
    "start_time": "2022-06-01T14:28:53.701Z"
   },
   {
    "duration": 160,
    "start_time": "2022-06-01T14:28:53.710Z"
   },
   {
    "duration": 1365,
    "start_time": "2022-06-01T14:28:53.872Z"
   },
   {
    "duration": 1280,
    "start_time": "2022-06-01T14:34:15.444Z"
   },
   {
    "duration": 4,
    "start_time": "2022-06-01T14:34:16.726Z"
   },
   {
    "duration": 35,
    "start_time": "2022-06-01T14:34:16.731Z"
   },
   {
    "duration": 32,
    "start_time": "2022-06-01T14:34:16.768Z"
   },
   {
    "duration": 2,
    "start_time": "2022-06-01T14:34:16.803Z"
   },
   {
    "duration": 42,
    "start_time": "2022-06-01T14:34:16.807Z"
   },
   {
    "duration": 11,
    "start_time": "2022-06-01T14:34:16.851Z"
   },
   {
    "duration": 27,
    "start_time": "2022-06-01T14:34:16.863Z"
   },
   {
    "duration": 2,
    "start_time": "2022-06-01T14:34:16.895Z"
   },
   {
    "duration": 444,
    "start_time": "2022-06-01T14:34:16.899Z"
   },
   {
    "duration": 6,
    "start_time": "2022-06-01T14:34:17.345Z"
   },
   {
    "duration": 158,
    "start_time": "2022-06-01T14:34:17.353Z"
   },
   {
    "duration": 1312,
    "start_time": "2022-06-01T14:34:17.512Z"
   },
   {
    "duration": 164,
    "start_time": "2022-06-01T14:34:52.571Z"
   },
   {
    "duration": 284,
    "start_time": "2022-06-01T14:35:08.418Z"
   },
   {
    "duration": 214,
    "start_time": "2022-06-01T14:35:38.657Z"
   },
   {
    "duration": 176,
    "start_time": "2022-06-01T14:35:49.948Z"
   },
   {
    "duration": 128,
    "start_time": "2022-06-01T14:35:54.969Z"
   },
   {
    "duration": 185,
    "start_time": "2022-06-01T14:36:02.459Z"
   },
   {
    "duration": 191,
    "start_time": "2022-06-01T14:36:06.465Z"
   },
   {
    "duration": 154,
    "start_time": "2022-06-01T14:36:13.849Z"
   },
   {
    "duration": 152,
    "start_time": "2022-06-01T14:36:44.341Z"
   },
   {
    "duration": 1267,
    "start_time": "2022-06-01T14:36:51.606Z"
   },
   {
    "duration": 5,
    "start_time": "2022-06-01T14:36:52.875Z"
   },
   {
    "duration": 43,
    "start_time": "2022-06-01T14:36:52.886Z"
   },
   {
    "duration": 25,
    "start_time": "2022-06-01T14:36:52.931Z"
   },
   {
    "duration": 3,
    "start_time": "2022-06-01T14:36:52.958Z"
   },
   {
    "duration": 62,
    "start_time": "2022-06-01T14:36:52.962Z"
   },
   {
    "duration": 11,
    "start_time": "2022-06-01T14:36:53.025Z"
   },
   {
    "duration": 4,
    "start_time": "2022-06-01T14:36:53.037Z"
   },
   {
    "duration": 174,
    "start_time": "2022-06-01T14:36:53.043Z"
   },
   {
    "duration": 7,
    "start_time": "2022-06-01T14:36:53.220Z"
   },
   {
    "duration": 172,
    "start_time": "2022-06-01T14:36:53.228Z"
   },
   {
    "duration": 1371,
    "start_time": "2022-06-01T14:36:53.402Z"
   },
   {
    "duration": 485,
    "start_time": "2022-06-01T14:37:27.912Z"
   },
   {
    "duration": 560,
    "start_time": "2022-06-01T14:38:10.544Z"
   },
   {
    "duration": 148,
    "start_time": "2022-06-01T14:38:21.389Z"
   },
   {
    "duration": 130,
    "start_time": "2022-06-01T14:38:27.045Z"
   },
   {
    "duration": 156,
    "start_time": "2022-06-01T14:39:12.216Z"
   },
   {
    "duration": 222,
    "start_time": "2022-06-01T14:39:35.200Z"
   },
   {
    "duration": 268,
    "start_time": "2022-06-01T14:39:39.968Z"
   },
   {
    "duration": 162,
    "start_time": "2022-06-01T14:39:43.264Z"
   },
   {
    "duration": 15,
    "start_time": "2022-06-01T14:39:50.353Z"
   },
   {
    "duration": 17,
    "start_time": "2022-06-01T14:39:58.320Z"
   },
   {
    "duration": 1387,
    "start_time": "2022-06-01T14:40:07.223Z"
   },
   {
    "duration": 4,
    "start_time": "2022-06-01T14:40:08.612Z"
   },
   {
    "duration": 37,
    "start_time": "2022-06-01T14:40:08.617Z"
   },
   {
    "duration": 34,
    "start_time": "2022-06-01T14:40:08.656Z"
   },
   {
    "duration": 4,
    "start_time": "2022-06-01T14:40:08.692Z"
   },
   {
    "duration": 51,
    "start_time": "2022-06-01T14:40:08.698Z"
   },
   {
    "duration": 39,
    "start_time": "2022-06-01T14:40:08.751Z"
   },
   {
    "duration": 5,
    "start_time": "2022-06-01T14:40:08.792Z"
   },
   {
    "duration": 144,
    "start_time": "2022-06-01T14:40:08.799Z"
   },
   {
    "duration": 0,
    "start_time": "2022-06-01T14:40:08.945Z"
   },
   {
    "duration": 0,
    "start_time": "2022-06-01T14:40:08.946Z"
   },
   {
    "duration": 0,
    "start_time": "2022-06-01T14:40:08.947Z"
   },
   {
    "duration": 0,
    "start_time": "2022-06-01T14:40:08.948Z"
   },
   {
    "duration": 165,
    "start_time": "2022-06-01T14:40:20.232Z"
   },
   {
    "duration": 1302,
    "start_time": "2022-06-01T14:40:25.094Z"
   },
   {
    "duration": 3,
    "start_time": "2022-06-01T14:40:26.398Z"
   },
   {
    "duration": 36,
    "start_time": "2022-06-01T14:40:26.403Z"
   },
   {
    "duration": 26,
    "start_time": "2022-06-01T14:40:26.440Z"
   },
   {
    "duration": 3,
    "start_time": "2022-06-01T14:40:26.468Z"
   },
   {
    "duration": 49,
    "start_time": "2022-06-01T14:40:26.472Z"
   },
   {
    "duration": 11,
    "start_time": "2022-06-01T14:40:26.523Z"
   },
   {
    "duration": 3,
    "start_time": "2022-06-01T14:40:26.536Z"
   },
   {
    "duration": 182,
    "start_time": "2022-06-01T14:40:26.540Z"
   },
   {
    "duration": 125,
    "start_time": "2022-06-01T14:40:26.724Z"
   },
   {
    "duration": 0,
    "start_time": "2022-06-01T14:40:26.851Z"
   },
   {
    "duration": 0,
    "start_time": "2022-06-01T14:40:26.853Z"
   },
   {
    "duration": 0,
    "start_time": "2022-06-01T14:40:26.854Z"
   },
   {
    "duration": 1359,
    "start_time": "2022-06-01T14:43:22.815Z"
   },
   {
    "duration": 340,
    "start_time": "2022-06-01T14:49:47.824Z"
   },
   {
    "duration": 465,
    "start_time": "2022-06-01T14:50:04.423Z"
   },
   {
    "duration": 327,
    "start_time": "2022-06-01T14:50:40.431Z"
   },
   {
    "duration": 360,
    "start_time": "2022-06-01T14:50:45.607Z"
   },
   {
    "duration": 362,
    "start_time": "2022-06-01T14:50:56.681Z"
   },
   {
    "duration": 513,
    "start_time": "2022-06-01T14:52:09.558Z"
   },
   {
    "duration": 106,
    "start_time": "2022-06-01T14:52:28.535Z"
   },
   {
    "duration": 117,
    "start_time": "2022-06-01T14:52:33.192Z"
   },
   {
    "duration": 428,
    "start_time": "2022-06-01T14:53:36.703Z"
   },
   {
    "duration": 660,
    "start_time": "2022-06-01T14:53:53.271Z"
   },
   {
    "duration": 637,
    "start_time": "2022-06-01T14:54:02.358Z"
   },
   {
    "duration": 706,
    "start_time": "2022-06-01T14:55:26.798Z"
   },
   {
    "duration": 105,
    "start_time": "2022-06-01T14:55:32.616Z"
   },
   {
    "duration": 537,
    "start_time": "2022-06-01T14:55:36.871Z"
   },
   {
    "duration": 1687,
    "start_time": "2022-06-02T07:11:45.515Z"
   },
   {
    "duration": 4,
    "start_time": "2022-06-02T07:11:47.204Z"
   },
   {
    "duration": 85,
    "start_time": "2022-06-02T07:11:47.209Z"
   },
   {
    "duration": 31,
    "start_time": "2022-06-02T07:11:47.296Z"
   },
   {
    "duration": 3,
    "start_time": "2022-06-02T07:11:47.329Z"
   },
   {
    "duration": 64,
    "start_time": "2022-06-02T07:11:47.334Z"
   },
   {
    "duration": 26,
    "start_time": "2022-06-02T07:11:47.401Z"
   },
   {
    "duration": 5,
    "start_time": "2022-06-02T07:11:47.429Z"
   },
   {
    "duration": 527,
    "start_time": "2022-06-02T07:11:47.436Z"
   },
   {
    "duration": 8,
    "start_time": "2022-06-02T07:11:47.966Z"
   },
   {
    "duration": 204,
    "start_time": "2022-06-02T07:11:47.976Z"
   },
   {
    "duration": 1873,
    "start_time": "2022-06-02T07:11:48.182Z"
   },
   {
    "duration": 63,
    "start_time": "2022-06-02T11:36:22.140Z"
   },
   {
    "duration": 9,
    "start_time": "2022-06-02T11:36:25.484Z"
   },
   {
    "duration": 1530,
    "start_time": "2022-06-02T11:36:31.580Z"
   },
   {
    "duration": 3,
    "start_time": "2022-06-02T11:36:33.112Z"
   },
   {
    "duration": 84,
    "start_time": "2022-06-02T11:36:33.117Z"
   },
   {
    "duration": 26,
    "start_time": "2022-06-02T11:36:33.203Z"
   },
   {
    "duration": 3,
    "start_time": "2022-06-02T11:36:33.231Z"
   },
   {
    "duration": 57,
    "start_time": "2022-06-02T11:36:33.236Z"
   },
   {
    "duration": 11,
    "start_time": "2022-06-02T11:36:33.294Z"
   },
   {
    "duration": 4,
    "start_time": "2022-06-02T11:36:33.307Z"
   },
   {
    "duration": 462,
    "start_time": "2022-06-02T11:36:33.312Z"
   },
   {
    "duration": 7,
    "start_time": "2022-06-02T11:36:33.779Z"
   },
   {
    "duration": 176,
    "start_time": "2022-06-02T11:36:33.788Z"
   },
   {
    "duration": 1588,
    "start_time": "2022-06-02T11:36:33.967Z"
   },
   {
    "duration": 493,
    "start_time": "2022-06-02T11:36:53.997Z"
   },
   {
    "duration": 402,
    "start_time": "2022-06-02T11:37:18.405Z"
   },
   {
    "duration": 366,
    "start_time": "2022-06-02T11:37:20.169Z"
   },
   {
    "duration": 255,
    "start_time": "2022-06-02T11:39:51.837Z"
   },
   {
    "duration": 122,
    "start_time": "2022-06-02T11:40:07.671Z"
   },
   {
    "duration": 138,
    "start_time": "2022-06-02T11:40:23.389Z"
   },
   {
    "duration": 448,
    "start_time": "2022-06-02T11:41:05.389Z"
   },
   {
    "duration": 302,
    "start_time": "2022-06-02T11:41:12.013Z"
   },
   {
    "duration": 363,
    "start_time": "2022-06-02T11:42:18.580Z"
   },
   {
    "duration": 334,
    "start_time": "2022-06-02T11:42:31.170Z"
   },
   {
    "duration": 431,
    "start_time": "2022-06-02T11:45:43.569Z"
   },
   {
    "duration": 402,
    "start_time": "2022-06-02T11:45:48.765Z"
   },
   {
    "duration": 414,
    "start_time": "2022-06-02T11:46:22.577Z"
   },
   {
    "duration": 44,
    "start_time": "2022-06-02T11:48:23.776Z"
   },
   {
    "duration": 3,
    "start_time": "2022-06-02T11:48:35.281Z"
   },
   {
    "duration": 163,
    "start_time": "2022-06-02T11:50:22.396Z"
   },
   {
    "duration": 1264,
    "start_time": "2022-06-02T11:50:41.295Z"
   },
   {
    "duration": 4,
    "start_time": "2022-06-02T11:50:42.561Z"
   },
   {
    "duration": 48,
    "start_time": "2022-06-02T11:50:42.566Z"
   },
   {
    "duration": 29,
    "start_time": "2022-06-02T11:50:42.616Z"
   },
   {
    "duration": 3,
    "start_time": "2022-06-02T11:50:42.646Z"
   },
   {
    "duration": 47,
    "start_time": "2022-06-02T11:50:42.651Z"
   },
   {
    "duration": 11,
    "start_time": "2022-06-02T11:50:42.700Z"
   },
   {
    "duration": 4,
    "start_time": "2022-06-02T11:50:42.713Z"
   },
   {
    "duration": 162,
    "start_time": "2022-06-02T11:50:42.718Z"
   },
   {
    "duration": 0,
    "start_time": "2022-06-02T11:50:42.882Z"
   },
   {
    "duration": 0,
    "start_time": "2022-06-02T11:50:42.883Z"
   },
   {
    "duration": 0,
    "start_time": "2022-06-02T11:50:42.884Z"
   },
   {
    "duration": 0,
    "start_time": "2022-06-02T11:50:42.886Z"
   },
   {
    "duration": 1722,
    "start_time": "2022-06-02T11:54:57.577Z"
   },
   {
    "duration": 1474,
    "start_time": "2022-06-02T11:58:38.680Z"
   },
   {
    "duration": 20,
    "start_time": "2022-06-02T12:04:02.125Z"
   },
   {
    "duration": 13,
    "start_time": "2022-06-02T12:04:11.876Z"
   },
   {
    "duration": 12,
    "start_time": "2022-06-02T12:04:22.169Z"
   },
   {
    "duration": 10,
    "start_time": "2022-06-02T12:04:37.071Z"
   },
   {
    "duration": 13,
    "start_time": "2022-06-02T12:07:24.672Z"
   },
   {
    "duration": 221,
    "start_time": "2022-06-02T12:07:46.662Z"
   },
   {
    "duration": 382,
    "start_time": "2022-06-02T12:09:08.982Z"
   },
   {
    "duration": 272,
    "start_time": "2022-06-02T12:09:20.871Z"
   },
   {
    "duration": 272,
    "start_time": "2022-06-02T12:09:31.381Z"
   },
   {
    "duration": 30,
    "start_time": "2022-06-02T12:10:47.675Z"
   },
   {
    "duration": 274,
    "start_time": "2022-06-02T12:10:52.170Z"
   },
   {
    "duration": 279,
    "start_time": "2022-06-02T12:11:20.578Z"
   },
   {
    "duration": 237,
    "start_time": "2022-06-02T12:12:15.478Z"
   },
   {
    "duration": 592,
    "start_time": "2022-06-02T12:13:04.379Z"
   },
   {
    "duration": 524,
    "start_time": "2022-06-02T12:13:17.020Z"
   },
   {
    "duration": 622,
    "start_time": "2022-06-02T12:13:23.717Z"
   },
   {
    "duration": 526,
    "start_time": "2022-06-02T12:13:31.091Z"
   },
   {
    "duration": 474,
    "start_time": "2022-06-02T12:13:35.820Z"
   },
   {
    "duration": 581,
    "start_time": "2022-06-02T12:13:47.925Z"
   },
   {
    "duration": 475,
    "start_time": "2022-06-02T12:13:55.291Z"
   },
   {
    "duration": 477,
    "start_time": "2022-06-02T12:14:32.205Z"
   },
   {
    "duration": 671,
    "start_time": "2022-06-02T12:18:11.789Z"
   },
   {
    "duration": 25,
    "start_time": "2022-06-02T12:18:20.419Z"
   },
   {
    "duration": 518,
    "start_time": "2022-06-02T12:18:23.478Z"
   },
   {
    "duration": 525,
    "start_time": "2022-06-02T12:18:29.299Z"
   },
   {
    "duration": 597,
    "start_time": "2022-06-02T12:18:34.983Z"
   },
   {
    "duration": 528,
    "start_time": "2022-06-02T12:19:03.523Z"
   },
   {
    "duration": 493,
    "start_time": "2022-06-02T12:19:09.970Z"
   },
   {
    "duration": 669,
    "start_time": "2022-06-02T12:19:16.107Z"
   },
   {
    "duration": 583,
    "start_time": "2022-06-02T12:19:21.071Z"
   },
   {
    "duration": 5,
    "start_time": "2022-06-02T12:19:56.307Z"
   },
   {
    "duration": 725,
    "start_time": "2022-06-02T12:21:25.804Z"
   },
   {
    "duration": 15,
    "start_time": "2022-06-02T12:22:01.867Z"
   },
   {
    "duration": 8,
    "start_time": "2022-06-02T12:22:03.670Z"
   },
   {
    "duration": 15,
    "start_time": "2022-06-02T12:22:15.141Z"
   },
   {
    "duration": 17,
    "start_time": "2022-06-02T12:22:32.294Z"
   },
   {
    "duration": 47,
    "start_time": "2022-06-02T12:22:51.687Z"
   },
   {
    "duration": 1157,
    "start_time": "2022-06-02T12:24:27.943Z"
   },
   {
    "duration": 1206,
    "start_time": "2022-06-02T12:25:52.367Z"
   },
   {
    "duration": 1023,
    "start_time": "2022-06-02T12:26:50.467Z"
   },
   {
    "duration": 1464,
    "start_time": "2022-06-02T12:28:14.319Z"
   },
   {
    "duration": 1450,
    "start_time": "2022-06-02T12:28:48.436Z"
   },
   {
    "duration": 1468,
    "start_time": "2022-06-02T12:29:38.985Z"
   },
   {
    "duration": 1484,
    "start_time": "2022-06-02T12:29:43.068Z"
   },
   {
    "duration": 1374,
    "start_time": "2022-06-02T12:30:06.892Z"
   },
   {
    "duration": 1311,
    "start_time": "2022-06-02T12:30:15.684Z"
   },
   {
    "duration": 1494,
    "start_time": "2022-06-02T12:30:21.387Z"
   },
   {
    "duration": 1636,
    "start_time": "2022-06-02T12:30:29.841Z"
   },
   {
    "duration": 108,
    "start_time": "2022-06-02T12:32:38.984Z"
   },
   {
    "duration": 1659,
    "start_time": "2022-06-02T12:32:51.586Z"
   },
   {
    "duration": 1697,
    "start_time": "2022-06-02T12:33:37.772Z"
   },
   {
    "duration": 1277,
    "start_time": "2022-06-02T12:33:44.301Z"
   },
   {
    "duration": 4,
    "start_time": "2022-06-02T12:33:45.580Z"
   },
   {
    "duration": 40,
    "start_time": "2022-06-02T12:33:45.585Z"
   },
   {
    "duration": 30,
    "start_time": "2022-06-02T12:33:45.627Z"
   },
   {
    "duration": 3,
    "start_time": "2022-06-02T12:33:45.658Z"
   },
   {
    "duration": 46,
    "start_time": "2022-06-02T12:33:45.663Z"
   },
   {
    "duration": 11,
    "start_time": "2022-06-02T12:33:45.711Z"
   },
   {
    "duration": 4,
    "start_time": "2022-06-02T12:33:45.724Z"
   },
   {
    "duration": 1622,
    "start_time": "2022-06-02T12:33:45.730Z"
   },
   {
    "duration": 1492,
    "start_time": "2022-06-02T12:33:47.354Z"
   },
   {
    "duration": 1503,
    "start_time": "2022-06-02T12:34:37.684Z"
   },
   {
    "duration": 1708,
    "start_time": "2022-06-02T12:34:48.802Z"
   },
   {
    "duration": 1619,
    "start_time": "2022-06-02T12:38:07.594Z"
   },
   {
    "duration": 1638,
    "start_time": "2022-06-02T12:38:28.068Z"
   },
   {
    "duration": 1580,
    "start_time": "2022-06-02T12:38:36.730Z"
   },
   {
    "duration": 1815,
    "start_time": "2022-06-02T12:38:42.618Z"
   },
   {
    "duration": 1596,
    "start_time": "2022-06-02T12:39:40.722Z"
   },
   {
    "duration": 1550,
    "start_time": "2022-06-02T12:40:01.684Z"
   },
   {
    "duration": 1579,
    "start_time": "2022-06-02T12:41:07.026Z"
   },
   {
    "duration": 1627,
    "start_time": "2022-06-02T12:42:27.922Z"
   },
   {
    "duration": 1411,
    "start_time": "2022-06-02T12:42:44.794Z"
   },
   {
    "duration": 1554,
    "start_time": "2022-06-02T12:43:09.498Z"
   },
   {
    "duration": 4,
    "start_time": "2022-06-02T12:45:22.905Z"
   },
   {
    "duration": 1673,
    "start_time": "2022-06-02T12:46:08.514Z"
   },
   {
    "duration": 203,
    "start_time": "2022-06-02T13:10:41.522Z"
   },
   {
    "duration": 183,
    "start_time": "2022-06-02T13:10:48.098Z"
   },
   {
    "duration": 191,
    "start_time": "2022-06-02T13:10:50.289Z"
   },
   {
    "duration": 144,
    "start_time": "2022-06-02T13:11:55.833Z"
   },
   {
    "duration": 197,
    "start_time": "2022-06-02T13:12:51.633Z"
   },
   {
    "duration": 1473,
    "start_time": "2022-06-02T13:42:40.294Z"
   },
   {
    "duration": 3,
    "start_time": "2022-06-02T14:11:21.863Z"
   },
   {
    "duration": 1457,
    "start_time": "2022-06-02T14:15:11.974Z"
   },
   {
    "duration": 1762,
    "start_time": "2022-06-02T14:15:27.037Z"
   },
   {
    "duration": 226,
    "start_time": "2022-06-02T14:20:38.029Z"
   },
   {
    "duration": 1313,
    "start_time": "2022-06-03T07:25:53.850Z"
   },
   {
    "duration": 4,
    "start_time": "2022-06-03T07:25:55.165Z"
   },
   {
    "duration": 147,
    "start_time": "2022-06-03T07:25:55.170Z"
   },
   {
    "duration": 30,
    "start_time": "2022-06-03T07:25:55.319Z"
   },
   {
    "duration": 4,
    "start_time": "2022-06-03T07:25:55.350Z"
   },
   {
    "duration": 58,
    "start_time": "2022-06-03T07:25:55.355Z"
   },
   {
    "duration": 20,
    "start_time": "2022-06-03T07:25:55.414Z"
   },
   {
    "duration": 4,
    "start_time": "2022-06-03T07:25:55.435Z"
   },
   {
    "duration": 1688,
    "start_time": "2022-06-03T07:25:55.442Z"
   },
   {
    "duration": 1545,
    "start_time": "2022-06-03T07:25:57.133Z"
   },
   {
    "duration": 90,
    "start_time": "2022-06-03T07:42:51.711Z"
   },
   {
    "duration": 121,
    "start_time": "2022-06-03T07:43:02.716Z"
   },
   {
    "duration": 67,
    "start_time": "2022-06-03T07:43:11.549Z"
   },
   {
    "duration": 13,
    "start_time": "2022-06-05T16:35:41.975Z"
   },
   {
    "duration": 1645,
    "start_time": "2022-06-05T17:11:00.831Z"
   },
   {
    "duration": 3,
    "start_time": "2022-06-05T17:11:05.404Z"
   },
   {
    "duration": 9,
    "start_time": "2022-06-05T17:11:05.409Z"
   },
   {
    "duration": 97,
    "start_time": "2022-06-05T17:11:05.420Z"
   },
   {
    "duration": 45,
    "start_time": "2022-06-05T17:11:05.518Z"
   },
   {
    "duration": 7,
    "start_time": "2022-06-05T17:11:05.571Z"
   },
   {
    "duration": 66,
    "start_time": "2022-06-05T17:11:05.582Z"
   },
   {
    "duration": 11,
    "start_time": "2022-06-05T17:11:05.650Z"
   },
   {
    "duration": 11,
    "start_time": "2022-06-05T17:11:05.662Z"
   },
   {
    "duration": 1670,
    "start_time": "2022-06-05T17:11:05.677Z"
   },
   {
    "duration": 1721,
    "start_time": "2022-06-05T17:11:07.348Z"
   },
   {
    "duration": 23,
    "start_time": "2022-06-05T17:13:20.227Z"
   },
   {
    "duration": 3,
    "start_time": "2022-06-05T17:14:30.004Z"
   },
   {
    "duration": 11,
    "start_time": "2022-06-05T17:14:32.191Z"
   },
   {
    "duration": 3,
    "start_time": "2022-06-05T17:14:36.454Z"
   },
   {
    "duration": 5,
    "start_time": "2022-06-05T17:15:11.494Z"
   },
   {
    "duration": 21,
    "start_time": "2022-06-05T17:15:13.494Z"
   },
   {
    "duration": 144,
    "start_time": "2022-06-05T17:20:55.758Z"
   },
   {
    "duration": 3,
    "start_time": "2022-06-05T17:21:15.643Z"
   },
   {
    "duration": 4,
    "start_time": "2022-06-05T17:21:18.294Z"
   },
   {
    "duration": 8,
    "start_time": "2022-06-05T17:21:18.300Z"
   },
   {
    "duration": 33,
    "start_time": "2022-06-05T17:21:18.310Z"
   },
   {
    "duration": 24,
    "start_time": "2022-06-05T17:21:18.344Z"
   },
   {
    "duration": 11,
    "start_time": "2022-06-05T17:21:18.370Z"
   },
   {
    "duration": 60,
    "start_time": "2022-06-05T17:21:18.382Z"
   },
   {
    "duration": 17,
    "start_time": "2022-06-05T17:21:18.444Z"
   },
   {
    "duration": 23,
    "start_time": "2022-06-05T17:21:18.463Z"
   },
   {
    "duration": 1725,
    "start_time": "2022-06-05T17:21:18.490Z"
   },
   {
    "duration": 1629,
    "start_time": "2022-06-05T17:21:20.217Z"
   },
   {
    "duration": 4,
    "start_time": "2022-06-05T17:21:21.848Z"
   },
   {
    "duration": 18,
    "start_time": "2022-06-05T17:21:21.853Z"
   },
   {
    "duration": 4,
    "start_time": "2022-06-05T17:21:36.799Z"
   },
   {
    "duration": 6,
    "start_time": "2022-06-05T17:21:37.894Z"
   },
   {
    "duration": 6,
    "start_time": "2022-06-05T17:23:07.217Z"
   },
   {
    "duration": 9,
    "start_time": "2022-06-05T17:26:19.421Z"
   },
   {
    "duration": 140,
    "start_time": "2022-06-05T17:26:38.304Z"
   },
   {
    "duration": 3,
    "start_time": "2022-06-05T17:26:40.943Z"
   },
   {
    "duration": 6,
    "start_time": "2022-06-05T17:26:40.948Z"
   },
   {
    "duration": 51,
    "start_time": "2022-06-05T17:26:40.956Z"
   },
   {
    "duration": 23,
    "start_time": "2022-06-05T17:26:41.009Z"
   },
   {
    "duration": 3,
    "start_time": "2022-06-05T17:26:41.034Z"
   },
   {
    "duration": 53,
    "start_time": "2022-06-05T17:26:41.038Z"
   },
   {
    "duration": 11,
    "start_time": "2022-06-05T17:26:41.092Z"
   },
   {
    "duration": 4,
    "start_time": "2022-06-05T17:26:41.105Z"
   },
   {
    "duration": 1609,
    "start_time": "2022-06-05T17:26:41.111Z"
   },
   {
    "duration": 1574,
    "start_time": "2022-06-05T17:26:42.722Z"
   },
   {
    "duration": 5,
    "start_time": "2022-06-05T17:26:44.299Z"
   },
   {
    "duration": 13,
    "start_time": "2022-06-05T17:26:44.305Z"
   },
   {
    "duration": 738,
    "start_time": "2022-06-05T17:26:44.320Z"
   },
   {
    "duration": 754,
    "start_time": "2022-06-05T17:27:03.447Z"
   },
   {
    "duration": 17,
    "start_time": "2022-06-05T17:27:09.164Z"
   },
   {
    "duration": 4,
    "start_time": "2022-06-05T17:42:01.700Z"
   },
   {
    "duration": 8,
    "start_time": "2022-06-05T17:42:04.592Z"
   },
   {
    "duration": 5,
    "start_time": "2022-06-05T17:42:04.603Z"
   },
   {
    "duration": 34,
    "start_time": "2022-06-05T17:42:04.610Z"
   },
   {
    "duration": 25,
    "start_time": "2022-06-05T17:42:04.645Z"
   },
   {
    "duration": 3,
    "start_time": "2022-06-05T17:42:04.674Z"
   },
   {
    "duration": 70,
    "start_time": "2022-06-05T17:42:04.678Z"
   },
   {
    "duration": 12,
    "start_time": "2022-06-05T17:42:04.749Z"
   },
   {
    "duration": 9,
    "start_time": "2022-06-05T17:42:04.762Z"
   },
   {
    "duration": 1782,
    "start_time": "2022-06-05T17:42:04.778Z"
   },
   {
    "duration": 1617,
    "start_time": "2022-06-05T17:42:06.564Z"
   },
   {
    "duration": 16,
    "start_time": "2022-06-05T17:42:08.183Z"
   },
   {
    "duration": 10,
    "start_time": "2022-06-05T17:42:08.203Z"
   },
   {
    "duration": 801,
    "start_time": "2022-06-05T17:42:08.214Z"
   },
   {
    "duration": 48,
    "start_time": "2022-06-05T17:44:57.619Z"
   },
   {
    "duration": 8,
    "start_time": "2022-06-05T17:47:36.413Z"
   },
   {
    "duration": 8,
    "start_time": "2022-06-05T17:48:54.830Z"
   },
   {
    "duration": 28,
    "start_time": "2022-06-05T17:52:02.686Z"
   },
   {
    "duration": 104,
    "start_time": "2022-06-05T17:52:23.594Z"
   },
   {
    "duration": 10,
    "start_time": "2022-06-05T17:52:31.814Z"
   },
   {
    "duration": 3,
    "start_time": "2022-06-05T17:52:36.343Z"
   },
   {
    "duration": 6,
    "start_time": "2022-06-05T17:52:36.348Z"
   },
   {
    "duration": 43,
    "start_time": "2022-06-05T17:52:36.356Z"
   },
   {
    "duration": 23,
    "start_time": "2022-06-05T17:52:36.400Z"
   },
   {
    "duration": 3,
    "start_time": "2022-06-05T17:52:36.425Z"
   },
   {
    "duration": 59,
    "start_time": "2022-06-05T17:52:36.430Z"
   },
   {
    "duration": 12,
    "start_time": "2022-06-05T17:52:36.491Z"
   },
   {
    "duration": 4,
    "start_time": "2022-06-05T17:52:36.505Z"
   },
   {
    "duration": 1710,
    "start_time": "2022-06-05T17:52:36.510Z"
   },
   {
    "duration": 1684,
    "start_time": "2022-06-05T17:52:38.221Z"
   },
   {
    "duration": 4,
    "start_time": "2022-06-05T17:52:39.906Z"
   },
   {
    "duration": 13,
    "start_time": "2022-06-05T17:52:39.912Z"
   },
   {
    "duration": 25,
    "start_time": "2022-06-05T17:52:39.926Z"
   },
   {
    "duration": 29,
    "start_time": "2022-06-05T17:52:39.968Z"
   },
   {
    "duration": 121,
    "start_time": "2022-06-05T17:52:40.064Z"
   },
   {
    "duration": 31,
    "start_time": "2022-06-05T18:13:56.602Z"
   },
   {
    "duration": 12,
    "start_time": "2022-06-05T18:14:34.986Z"
   },
   {
    "duration": 3,
    "start_time": "2022-06-05T18:14:48.515Z"
   },
   {
    "duration": 5,
    "start_time": "2022-06-05T18:14:50.813Z"
   },
   {
    "duration": 5,
    "start_time": "2022-06-05T18:14:50.820Z"
   },
   {
    "duration": 44,
    "start_time": "2022-06-05T18:14:50.827Z"
   },
   {
    "duration": 26,
    "start_time": "2022-06-05T18:14:50.878Z"
   },
   {
    "duration": 3,
    "start_time": "2022-06-05T18:14:50.906Z"
   },
   {
    "duration": 71,
    "start_time": "2022-06-05T18:14:50.911Z"
   },
   {
    "duration": 10,
    "start_time": "2022-06-05T18:14:50.984Z"
   },
   {
    "duration": 4,
    "start_time": "2022-06-05T18:14:50.996Z"
   },
   {
    "duration": 1776,
    "start_time": "2022-06-05T18:14:51.002Z"
   },
   {
    "duration": 1579,
    "start_time": "2022-06-05T18:14:52.780Z"
   },
   {
    "duration": 10,
    "start_time": "2022-06-05T18:14:54.360Z"
   },
   {
    "duration": 16,
    "start_time": "2022-06-05T18:14:54.376Z"
   },
   {
    "duration": 27,
    "start_time": "2022-06-05T18:14:54.394Z"
   },
   {
    "duration": 52,
    "start_time": "2022-06-05T18:14:54.423Z"
   },
   {
    "duration": 214,
    "start_time": "2022-06-05T18:14:54.477Z"
   },
   {
    "duration": 5,
    "start_time": "2022-06-05T18:14:54.694Z"
   },
   {
    "duration": 127,
    "start_time": "2022-06-05T18:14:54.764Z"
   },
   {
    "duration": 33,
    "start_time": "2022-06-05T18:15:16.955Z"
   },
   {
    "duration": 4,
    "start_time": "2022-06-05T18:16:00.047Z"
   },
   {
    "duration": 5,
    "start_time": "2022-06-05T18:16:15.062Z"
   },
   {
    "duration": 4,
    "start_time": "2022-06-05T18:16:44.693Z"
   },
   {
    "duration": 1325,
    "start_time": "2022-06-05T18:16:58.189Z"
   },
   {
    "duration": 3,
    "start_time": "2022-06-05T18:16:59.516Z"
   },
   {
    "duration": 36,
    "start_time": "2022-06-05T18:16:59.521Z"
   },
   {
    "duration": 32,
    "start_time": "2022-06-05T18:16:59.559Z"
   },
   {
    "duration": 2,
    "start_time": "2022-06-05T18:16:59.593Z"
   },
   {
    "duration": 47,
    "start_time": "2022-06-05T18:16:59.596Z"
   },
   {
    "duration": 28,
    "start_time": "2022-06-05T18:16:59.645Z"
   },
   {
    "duration": 5,
    "start_time": "2022-06-05T18:16:59.674Z"
   },
   {
    "duration": 1654,
    "start_time": "2022-06-05T18:16:59.681Z"
   },
   {
    "duration": 1685,
    "start_time": "2022-06-05T18:17:01.338Z"
   },
   {
    "duration": 5,
    "start_time": "2022-06-05T18:17:03.025Z"
   },
   {
    "duration": 28,
    "start_time": "2022-06-05T18:17:03.032Z"
   },
   {
    "duration": 47,
    "start_time": "2022-06-05T18:17:03.062Z"
   },
   {
    "duration": 73,
    "start_time": "2022-06-05T18:17:03.110Z"
   },
   {
    "duration": 185,
    "start_time": "2022-06-05T18:17:03.185Z"
   },
   {
    "duration": 98,
    "start_time": "2022-06-05T18:17:03.372Z"
   },
   {
    "duration": 20,
    "start_time": "2022-06-05T18:17:03.472Z"
   },
   {
    "duration": 11,
    "start_time": "2022-06-05T18:17:03.495Z"
   },
   {
    "duration": 5,
    "start_time": "2022-06-05T18:17:56.820Z"
   },
   {
    "duration": 6,
    "start_time": "2022-06-05T18:17:58.947Z"
   },
   {
    "duration": 4,
    "start_time": "2022-06-05T18:19:27.859Z"
   },
   {
    "duration": 7,
    "start_time": "2022-06-05T18:19:29.201Z"
   },
   {
    "duration": 5,
    "start_time": "2022-06-05T18:21:10.490Z"
   },
   {
    "duration": 6,
    "start_time": "2022-06-05T18:21:10.854Z"
   },
   {
    "duration": 20,
    "start_time": "2022-06-05T18:22:48.075Z"
   },
   {
    "duration": 6,
    "start_time": "2022-06-05T18:23:45.076Z"
   },
   {
    "duration": 5,
    "start_time": "2022-06-05T18:23:46.829Z"
   },
   {
    "duration": 33,
    "start_time": "2022-06-05T18:24:08.585Z"
   },
   {
    "duration": 21,
    "start_time": "2022-06-05T18:28:38.095Z"
   },
   {
    "duration": 5,
    "start_time": "2022-06-05T18:29:08.384Z"
   },
   {
    "duration": 26,
    "start_time": "2022-06-05T18:29:48.455Z"
   },
   {
    "duration": 11,
    "start_time": "2022-06-05T18:29:51.967Z"
   },
   {
    "duration": 16,
    "start_time": "2022-06-05T18:29:51.980Z"
   },
   {
    "duration": 61,
    "start_time": "2022-06-05T18:29:51.998Z"
   },
   {
    "duration": 30,
    "start_time": "2022-06-05T18:29:52.061Z"
   },
   {
    "duration": 3,
    "start_time": "2022-06-05T18:29:52.092Z"
   },
   {
    "duration": 64,
    "start_time": "2022-06-05T18:29:52.097Z"
   },
   {
    "duration": 23,
    "start_time": "2022-06-05T18:29:52.163Z"
   },
   {
    "duration": 15,
    "start_time": "2022-06-05T18:29:52.188Z"
   },
   {
    "duration": 1542,
    "start_time": "2022-06-05T18:29:52.205Z"
   },
   {
    "duration": 1477,
    "start_time": "2022-06-05T18:29:53.750Z"
   },
   {
    "duration": 4,
    "start_time": "2022-06-05T18:29:55.229Z"
   },
   {
    "duration": 9,
    "start_time": "2022-06-05T18:29:55.234Z"
   },
   {
    "duration": 37,
    "start_time": "2022-06-05T18:29:55.245Z"
   },
   {
    "duration": 14,
    "start_time": "2022-06-05T18:29:55.286Z"
   },
   {
    "duration": 120,
    "start_time": "2022-06-05T18:29:55.370Z"
   },
   {
    "duration": 73,
    "start_time": "2022-06-05T18:29:55.492Z"
   },
   {
    "duration": 117,
    "start_time": "2022-06-05T18:29:55.567Z"
   },
   {
    "duration": 6,
    "start_time": "2022-06-05T18:29:55.686Z"
   },
   {
    "duration": 5,
    "start_time": "2022-06-05T18:29:55.693Z"
   },
   {
    "duration": 4,
    "start_time": "2022-06-05T18:29:55.699Z"
   },
   {
    "duration": 5,
    "start_time": "2022-06-05T18:29:55.705Z"
   },
   {
    "duration": 35,
    "start_time": "2022-06-05T18:29:55.712Z"
   },
   {
    "duration": 0,
    "start_time": "2022-06-05T18:29:55.749Z"
   },
   {
    "duration": 0,
    "start_time": "2022-06-05T18:29:55.750Z"
   },
   {
    "duration": 1302,
    "start_time": "2022-06-05T18:30:07.082Z"
   },
   {
    "duration": 3,
    "start_time": "2022-06-05T18:30:08.386Z"
   },
   {
    "duration": 35,
    "start_time": "2022-06-05T18:30:08.391Z"
   },
   {
    "duration": 26,
    "start_time": "2022-06-05T18:30:08.428Z"
   },
   {
    "duration": 3,
    "start_time": "2022-06-05T18:30:08.455Z"
   },
   {
    "duration": 48,
    "start_time": "2022-06-05T18:30:08.459Z"
   },
   {
    "duration": 11,
    "start_time": "2022-06-05T18:30:08.508Z"
   },
   {
    "duration": 4,
    "start_time": "2022-06-05T18:30:08.520Z"
   },
   {
    "duration": 1654,
    "start_time": "2022-06-05T18:30:08.525Z"
   },
   {
    "duration": 1552,
    "start_time": "2022-06-05T18:30:10.182Z"
   },
   {
    "duration": 4,
    "start_time": "2022-06-05T18:30:11.736Z"
   },
   {
    "duration": 9,
    "start_time": "2022-06-05T18:30:11.741Z"
   },
   {
    "duration": 25,
    "start_time": "2022-06-05T18:30:11.766Z"
   },
   {
    "duration": 8,
    "start_time": "2022-06-05T18:30:11.793Z"
   },
   {
    "duration": 187,
    "start_time": "2022-06-05T18:30:11.802Z"
   },
   {
    "duration": 75,
    "start_time": "2022-06-05T18:30:11.992Z"
   },
   {
    "duration": 119,
    "start_time": "2022-06-05T18:30:12.069Z"
   },
   {
    "duration": 7,
    "start_time": "2022-06-05T18:30:12.190Z"
   },
   {
    "duration": 7,
    "start_time": "2022-06-05T18:30:12.198Z"
   },
   {
    "duration": 9,
    "start_time": "2022-06-05T18:30:12.206Z"
   },
   {
    "duration": 5,
    "start_time": "2022-06-05T18:30:12.216Z"
   },
   {
    "duration": 9,
    "start_time": "2022-06-05T18:30:12.222Z"
   },
   {
    "duration": 4,
    "start_time": "2022-06-05T18:30:12.233Z"
   },
   {
    "duration": 25,
    "start_time": "2022-06-05T18:30:33.910Z"
   },
   {
    "duration": 1570,
    "start_time": "2022-06-06T11:11:57.838Z"
   },
   {
    "duration": 3,
    "start_time": "2022-06-06T11:11:59.412Z"
   },
   {
    "duration": 78,
    "start_time": "2022-06-06T11:11:59.417Z"
   },
   {
    "duration": 28,
    "start_time": "2022-06-06T11:11:59.497Z"
   },
   {
    "duration": 4,
    "start_time": "2022-06-06T11:11:59.526Z"
   },
   {
    "duration": 55,
    "start_time": "2022-06-06T11:11:59.531Z"
   },
   {
    "duration": 11,
    "start_time": "2022-06-06T11:11:59.588Z"
   },
   {
    "duration": 5,
    "start_time": "2022-06-06T11:11:59.601Z"
   },
   {
    "duration": 1705,
    "start_time": "2022-06-06T11:11:59.607Z"
   },
   {
    "duration": 1810,
    "start_time": "2022-06-06T11:12:01.315Z"
   },
   {
    "duration": 4,
    "start_time": "2022-06-06T11:12:03.127Z"
   },
   {
    "duration": 14,
    "start_time": "2022-06-06T11:12:03.133Z"
   },
   {
    "duration": 27,
    "start_time": "2022-06-06T11:12:03.158Z"
   },
   {
    "duration": 91,
    "start_time": "2022-06-06T11:12:03.186Z"
   },
   {
    "duration": 206,
    "start_time": "2022-06-06T11:12:03.279Z"
   },
   {
    "duration": 6,
    "start_time": "2022-06-06T11:12:03.487Z"
   },
   {
    "duration": 111,
    "start_time": "2022-06-06T11:12:03.567Z"
   },
   {
    "duration": 13,
    "start_time": "2022-06-06T11:12:03.680Z"
   },
   {
    "duration": 11,
    "start_time": "2022-06-06T11:12:03.695Z"
   },
   {
    "duration": 10,
    "start_time": "2022-06-06T11:12:03.708Z"
   },
   {
    "duration": 20,
    "start_time": "2022-06-06T11:12:03.720Z"
   },
   {
    "duration": 11,
    "start_time": "2022-06-06T11:12:03.742Z"
   },
   {
    "duration": 15,
    "start_time": "2022-06-06T11:12:03.755Z"
   },
   {
    "duration": 22,
    "start_time": "2022-06-06T11:26:48.673Z"
   },
   {
    "duration": 4,
    "start_time": "2022-06-06T11:26:53.491Z"
   },
   {
    "duration": 4,
    "start_time": "2022-06-06T11:27:13.599Z"
   },
   {
    "duration": 9,
    "start_time": "2022-06-06T11:27:13.605Z"
   },
   {
    "duration": 35,
    "start_time": "2022-06-06T11:27:13.615Z"
   },
   {
    "duration": 22,
    "start_time": "2022-06-06T11:27:13.652Z"
   },
   {
    "duration": 3,
    "start_time": "2022-06-06T11:27:13.676Z"
   },
   {
    "duration": 53,
    "start_time": "2022-06-06T11:27:13.681Z"
   },
   {
    "duration": 28,
    "start_time": "2022-06-06T11:27:13.736Z"
   },
   {
    "duration": 9,
    "start_time": "2022-06-06T11:27:13.766Z"
   },
   {
    "duration": 1598,
    "start_time": "2022-06-06T11:27:13.776Z"
   },
   {
    "duration": 1496,
    "start_time": "2022-06-06T11:27:15.376Z"
   },
   {
    "duration": 4,
    "start_time": "2022-06-06T11:27:16.875Z"
   },
   {
    "duration": 9,
    "start_time": "2022-06-06T11:27:16.881Z"
   },
   {
    "duration": 33,
    "start_time": "2022-06-06T11:27:16.892Z"
   },
   {
    "duration": 42,
    "start_time": "2022-06-06T11:27:16.927Z"
   },
   {
    "duration": 208,
    "start_time": "2022-06-06T11:27:16.971Z"
   },
   {
    "duration": 5,
    "start_time": "2022-06-06T11:27:17.181Z"
   },
   {
    "duration": 83,
    "start_time": "2022-06-06T11:27:17.188Z"
   },
   {
    "duration": 105,
    "start_time": "2022-06-06T11:27:17.273Z"
   },
   {
    "duration": 6,
    "start_time": "2022-06-06T11:27:17.381Z"
   },
   {
    "duration": 22,
    "start_time": "2022-06-06T11:27:17.389Z"
   },
   {
    "duration": 9,
    "start_time": "2022-06-06T11:27:17.413Z"
   },
   {
    "duration": 9,
    "start_time": "2022-06-06T11:27:17.423Z"
   },
   {
    "duration": 11,
    "start_time": "2022-06-06T11:27:17.433Z"
   },
   {
    "duration": 5,
    "start_time": "2022-06-06T11:31:05.459Z"
   },
   {
    "duration": 5,
    "start_time": "2022-06-06T11:31:08.283Z"
   },
   {
    "duration": 5,
    "start_time": "2022-06-06T11:31:08.294Z"
   },
   {
    "duration": 38,
    "start_time": "2022-06-06T11:31:08.301Z"
   },
   {
    "duration": 26,
    "start_time": "2022-06-06T11:31:08.341Z"
   },
   {
    "duration": 3,
    "start_time": "2022-06-06T11:31:08.373Z"
   },
   {
    "duration": 199,
    "start_time": "2022-06-06T11:31:08.378Z"
   },
   {
    "duration": 13,
    "start_time": "2022-06-06T11:31:08.579Z"
   },
   {
    "duration": 4,
    "start_time": "2022-06-06T11:31:08.593Z"
   },
   {
    "duration": 1589,
    "start_time": "2022-06-06T11:31:08.599Z"
   },
   {
    "duration": 1475,
    "start_time": "2022-06-06T11:31:10.189Z"
   },
   {
    "duration": 9,
    "start_time": "2022-06-06T11:31:11.666Z"
   },
   {
    "duration": 14,
    "start_time": "2022-06-06T11:31:11.677Z"
   },
   {
    "duration": 26,
    "start_time": "2022-06-06T11:31:11.693Z"
   },
   {
    "duration": 49,
    "start_time": "2022-06-06T11:31:11.721Z"
   },
   {
    "duration": 206,
    "start_time": "2022-06-06T11:31:11.773Z"
   },
   {
    "duration": 87,
    "start_time": "2022-06-06T11:31:11.982Z"
   },
   {
    "duration": 110,
    "start_time": "2022-06-06T11:31:12.072Z"
   },
   {
    "duration": 8,
    "start_time": "2022-06-06T11:31:12.183Z"
   },
   {
    "duration": 5,
    "start_time": "2022-06-06T11:31:12.193Z"
   },
   {
    "duration": 6,
    "start_time": "2022-06-06T11:31:12.200Z"
   },
   {
    "duration": 7,
    "start_time": "2022-06-06T11:31:12.207Z"
   },
   {
    "duration": 9,
    "start_time": "2022-06-06T11:31:12.216Z"
   },
   {
    "duration": 10,
    "start_time": "2022-06-06T11:31:12.227Z"
   },
   {
    "duration": 8,
    "start_time": "2022-06-06T11:33:29.694Z"
   },
   {
    "duration": 547,
    "start_time": "2022-06-06T11:33:41.005Z"
   },
   {
    "duration": 120821,
    "start_time": "2022-06-06T11:34:00.220Z"
   },
   {
    "duration": 120,
    "start_time": "2022-06-06T11:43:08.968Z"
   },
   {
    "duration": 49,
    "start_time": "2022-06-06T11:43:19.682Z"
   },
   {
    "duration": 5,
    "start_time": "2022-06-06T11:43:22.029Z"
   },
   {
    "duration": 33,
    "start_time": "2022-06-06T11:43:22.037Z"
   },
   {
    "duration": 36,
    "start_time": "2022-06-06T11:43:22.073Z"
   },
   {
    "duration": 27,
    "start_time": "2022-06-06T11:43:22.112Z"
   },
   {
    "duration": 4,
    "start_time": "2022-06-06T11:43:22.141Z"
   },
   {
    "duration": 78,
    "start_time": "2022-06-06T11:43:22.147Z"
   },
   {
    "duration": 16,
    "start_time": "2022-06-06T11:43:22.226Z"
   },
   {
    "duration": 5,
    "start_time": "2022-06-06T11:43:22.244Z"
   },
   {
    "duration": 1845,
    "start_time": "2022-06-06T11:43:22.258Z"
   },
   {
    "duration": 1539,
    "start_time": "2022-06-06T11:43:24.105Z"
   },
   {
    "duration": 13,
    "start_time": "2022-06-06T11:43:25.646Z"
   },
   {
    "duration": 17,
    "start_time": "2022-06-06T11:43:25.661Z"
   },
   {
    "duration": 33,
    "start_time": "2022-06-06T11:43:25.680Z"
   },
   {
    "duration": 51,
    "start_time": "2022-06-06T11:43:25.715Z"
   },
   {
    "duration": 195,
    "start_time": "2022-06-06T11:43:25.769Z"
   },
   {
    "duration": 6,
    "start_time": "2022-06-06T11:43:25.967Z"
   },
   {
    "duration": 87,
    "start_time": "2022-06-06T11:43:25.975Z"
   },
   {
    "duration": 104,
    "start_time": "2022-06-06T11:43:26.065Z"
   },
   {
    "duration": 8,
    "start_time": "2022-06-06T11:43:26.171Z"
   },
   {
    "duration": 14,
    "start_time": "2022-06-06T11:43:26.181Z"
   },
   {
    "duration": 13,
    "start_time": "2022-06-06T11:43:26.197Z"
   },
   {
    "duration": 11,
    "start_time": "2022-06-06T11:43:26.211Z"
   },
   {
    "duration": 10,
    "start_time": "2022-06-06T11:43:26.224Z"
   },
   {
    "duration": 22,
    "start_time": "2022-06-06T11:43:26.237Z"
   },
   {
    "duration": 114583,
    "start_time": "2022-06-06T11:43:26.261Z"
   },
   {
    "duration": 1518,
    "start_time": "2022-06-06T11:45:20.846Z"
   },
   {
    "duration": 1477,
    "start_time": "2022-06-06T11:51:01.082Z"
   },
   {
    "duration": 12,
    "start_time": "2022-06-06T12:01:57.117Z"
   },
   {
    "duration": 5,
    "start_time": "2022-06-06T12:02:06.745Z"
   },
   {
    "duration": 4,
    "start_time": "2022-06-06T12:03:46.470Z"
   },
   {
    "duration": 9,
    "start_time": "2022-06-06T12:06:18.686Z"
   },
   {
    "duration": 15,
    "start_time": "2022-06-06T12:06:43.757Z"
   },
   {
    "duration": 13,
    "start_time": "2022-06-06T12:06:49.748Z"
   },
   {
    "duration": 1435,
    "start_time": "2022-06-07T04:36:47.815Z"
   },
   {
    "duration": 3,
    "start_time": "2022-06-07T04:36:49.252Z"
   },
   {
    "duration": 77,
    "start_time": "2022-06-07T04:36:49.258Z"
   },
   {
    "duration": 25,
    "start_time": "2022-06-07T04:36:49.337Z"
   },
   {
    "duration": 3,
    "start_time": "2022-06-07T04:36:49.364Z"
   },
   {
    "duration": 46,
    "start_time": "2022-06-07T04:36:49.368Z"
   },
   {
    "duration": 20,
    "start_time": "2022-06-07T04:36:49.415Z"
   },
   {
    "duration": 3,
    "start_time": "2022-06-07T04:36:49.437Z"
   },
   {
    "duration": 1388,
    "start_time": "2022-06-07T04:36:49.442Z"
   },
   {
    "duration": 1459,
    "start_time": "2022-06-07T04:36:50.833Z"
   },
   {
    "duration": 4,
    "start_time": "2022-06-07T04:36:52.293Z"
   },
   {
    "duration": 8,
    "start_time": "2022-06-07T04:36:52.298Z"
   },
   {
    "duration": 27,
    "start_time": "2022-06-07T04:36:52.308Z"
   },
   {
    "duration": 14,
    "start_time": "2022-06-07T04:36:52.336Z"
   },
   {
    "duration": 195,
    "start_time": "2022-06-07T04:36:52.351Z"
   },
   {
    "duration": 80,
    "start_time": "2022-06-07T04:36:52.548Z"
   },
   {
    "duration": 101,
    "start_time": "2022-06-07T04:36:52.631Z"
   },
   {
    "duration": 9,
    "start_time": "2022-06-07T04:36:52.734Z"
   },
   {
    "duration": 5,
    "start_time": "2022-06-07T04:36:52.744Z"
   },
   {
    "duration": 5,
    "start_time": "2022-06-07T04:36:52.751Z"
   },
   {
    "duration": 5,
    "start_time": "2022-06-07T04:36:52.757Z"
   },
   {
    "duration": 6,
    "start_time": "2022-06-07T04:36:52.764Z"
   },
   {
    "duration": 8,
    "start_time": "2022-06-07T04:36:52.772Z"
   },
   {
    "duration": 8,
    "start_time": "2022-06-07T04:36:52.781Z"
   },
   {
    "duration": 103834,
    "start_time": "2022-06-07T04:36:52.790Z"
   },
   {
    "duration": 1101,
    "start_time": "2022-06-07T04:38:36.626Z"
   },
   {
    "duration": 103,
    "start_time": "2022-06-07T04:38:37.733Z"
   },
   {
    "duration": 16,
    "start_time": "2022-06-07T04:39:25.996Z"
   },
   {
    "duration": 12,
    "start_time": "2022-06-07T04:42:54.982Z"
   },
   {
    "duration": 17,
    "start_time": "2022-06-07T04:43:00.623Z"
   },
   {
    "duration": 5,
    "start_time": "2022-06-07T04:49:03.536Z"
   },
   {
    "duration": 9,
    "start_time": "2022-06-07T04:49:11.740Z"
   },
   {
    "duration": 9,
    "start_time": "2022-06-07T04:51:26.817Z"
   },
   {
    "duration": 114,
    "start_time": "2022-06-07T04:51:33.446Z"
   },
   {
    "duration": 59,
    "start_time": "2022-06-07T04:58:46.286Z"
   },
   {
    "duration": 2055,
    "start_time": "2022-06-07T04:59:17.500Z"
   },
   {
    "duration": 5,
    "start_time": "2022-06-07T05:00:21.452Z"
   },
   {
    "duration": 2029,
    "start_time": "2022-06-07T05:00:27.016Z"
   },
   {
    "duration": 2017,
    "start_time": "2022-06-07T05:00:43.503Z"
   },
   {
    "duration": 5,
    "start_time": "2022-06-07T05:00:49.704Z"
   },
   {
    "duration": 2044,
    "start_time": "2022-06-07T05:00:52.264Z"
   },
   {
    "duration": 1496,
    "start_time": "2022-06-08T07:22:50.708Z"
   },
   {
    "duration": 4,
    "start_time": "2022-06-08T07:22:52.206Z"
   },
   {
    "duration": 72,
    "start_time": "2022-06-08T07:22:52.211Z"
   },
   {
    "duration": 25,
    "start_time": "2022-06-08T07:22:52.286Z"
   },
   {
    "duration": 3,
    "start_time": "2022-06-08T07:22:52.312Z"
   },
   {
    "duration": 47,
    "start_time": "2022-06-08T07:22:52.316Z"
   },
   {
    "duration": 11,
    "start_time": "2022-06-08T07:22:52.364Z"
   },
   {
    "duration": 4,
    "start_time": "2022-06-08T07:22:52.376Z"
   },
   {
    "duration": 1586,
    "start_time": "2022-06-08T07:22:52.381Z"
   },
   {
    "duration": 1565,
    "start_time": "2022-06-08T07:22:53.969Z"
   },
   {
    "duration": 4,
    "start_time": "2022-06-08T07:22:55.536Z"
   },
   {
    "duration": 8,
    "start_time": "2022-06-08T07:22:55.541Z"
   },
   {
    "duration": 24,
    "start_time": "2022-06-08T07:22:55.550Z"
   },
   {
    "duration": 52,
    "start_time": "2022-06-08T07:22:55.576Z"
   },
   {
    "duration": 208,
    "start_time": "2022-06-08T07:22:55.630Z"
   },
   {
    "duration": 87,
    "start_time": "2022-06-08T07:22:55.844Z"
   },
   {
    "duration": 9,
    "start_time": "2022-06-08T07:22:56.023Z"
   },
   {
    "duration": 10,
    "start_time": "2022-06-08T07:22:56.034Z"
   },
   {
    "duration": 9,
    "start_time": "2022-06-08T07:22:56.045Z"
   },
   {
    "duration": 6,
    "start_time": "2022-06-08T07:22:56.055Z"
   },
   {
    "duration": 5,
    "start_time": "2022-06-08T07:22:56.063Z"
   },
   {
    "duration": 5,
    "start_time": "2022-06-08T07:22:56.070Z"
   },
   {
    "duration": 7,
    "start_time": "2022-06-08T07:22:56.077Z"
   },
   {
    "duration": 42,
    "start_time": "2022-06-08T07:22:56.086Z"
   },
   {
    "duration": 111476,
    "start_time": "2022-06-08T07:22:56.129Z"
   },
   {
    "duration": 1317,
    "start_time": "2022-06-08T07:24:47.606Z"
   },
   {
    "duration": 28,
    "start_time": "2022-06-08T07:24:48.926Z"
   },
   {
    "duration": 4,
    "start_time": "2022-06-08T07:24:48.957Z"
   },
   {
    "duration": 505,
    "start_time": "2022-06-08T07:24:48.963Z"
   },
   {
    "duration": 0,
    "start_time": "2022-06-08T07:24:49.471Z"
   },
   {
    "duration": 9,
    "start_time": "2022-06-08T07:34:34.173Z"
   },
   {
    "duration": 10,
    "start_time": "2022-06-08T07:34:43.505Z"
   },
   {
    "duration": 8,
    "start_time": "2022-06-08T07:34:49.992Z"
   },
   {
    "duration": 106412,
    "start_time": "2022-06-08T07:35:25.172Z"
   },
   {
    "duration": 107210,
    "start_time": "2022-06-08T07:37:21.671Z"
   },
   {
    "duration": 1537,
    "start_time": "2022-06-08T07:40:26.286Z"
   },
   {
    "duration": 1134,
    "start_time": "2022-06-08T07:40:32.092Z"
   },
   {
    "duration": 1416,
    "start_time": "2022-06-08T07:40:42.412Z"
   },
   {
    "duration": 1453,
    "start_time": "2022-06-08T07:40:49.780Z"
   },
   {
    "duration": 906,
    "start_time": "2022-06-08T07:41:19.020Z"
   },
   {
    "duration": 12,
    "start_time": "2022-06-08T07:42:24.693Z"
   },
   {
    "duration": 18,
    "start_time": "2022-06-08T07:42:29.883Z"
   },
   {
    "duration": 15,
    "start_time": "2022-06-08T07:42:37.400Z"
   },
   {
    "duration": 16,
    "start_time": "2022-06-08T07:43:07.793Z"
   },
   {
    "duration": 2,
    "start_time": "2022-06-08T07:53:04.705Z"
   },
   {
    "duration": 10,
    "start_time": "2022-06-08T07:53:15.224Z"
   },
   {
    "duration": 16,
    "start_time": "2022-06-08T07:53:22.373Z"
   },
   {
    "duration": 4,
    "start_time": "2022-06-08T07:53:46.178Z"
   },
   {
    "duration": 17,
    "start_time": "2022-06-08T07:53:46.717Z"
   },
   {
    "duration": 37608,
    "start_time": "2022-06-08T07:53:56.093Z"
   },
   {
    "duration": 3,
    "start_time": "2022-06-08T08:01:43.863Z"
   },
   {
    "duration": 435,
    "start_time": "2022-06-08T08:02:02.043Z"
   },
   {
    "duration": 2216,
    "start_time": "2022-06-08T08:02:06.269Z"
   },
   {
    "duration": 12,
    "start_time": "2022-06-08T08:04:42.002Z"
   },
   {
    "duration": 13098,
    "start_time": "2022-06-08T08:04:52.043Z"
   },
   {
    "duration": 13998,
    "start_time": "2022-06-08T08:05:05.143Z"
   },
   {
    "duration": 4,
    "start_time": "2022-06-08T08:05:19.142Z"
   },
   {
    "duration": 11,
    "start_time": "2022-06-08T08:05:19.148Z"
   },
   {
    "duration": 1400,
    "start_time": "2022-06-08T08:05:36.542Z"
   },
   {
    "duration": 5,
    "start_time": "2022-06-08T08:05:37.944Z"
   },
   {
    "duration": 44,
    "start_time": "2022-06-08T08:05:37.951Z"
   },
   {
    "duration": 33,
    "start_time": "2022-06-08T08:05:37.997Z"
   },
   {
    "duration": 4,
    "start_time": "2022-06-08T08:05:38.031Z"
   },
   {
    "duration": 56,
    "start_time": "2022-06-08T08:05:38.036Z"
   },
   {
    "duration": 13,
    "start_time": "2022-06-08T08:05:38.094Z"
   },
   {
    "duration": 17,
    "start_time": "2022-06-08T08:05:38.109Z"
   },
   {
    "duration": 1595,
    "start_time": "2022-06-08T08:05:38.128Z"
   },
   {
    "duration": 1633,
    "start_time": "2022-06-08T08:05:39.727Z"
   },
   {
    "duration": 4,
    "start_time": "2022-06-08T08:05:41.362Z"
   },
   {
    "duration": 8,
    "start_time": "2022-06-08T08:05:41.367Z"
   },
   {
    "duration": 23,
    "start_time": "2022-06-08T08:05:41.377Z"
   },
   {
    "duration": 223,
    "start_time": "2022-06-08T08:05:41.402Z"
   },
   {
    "duration": 114,
    "start_time": "2022-06-08T08:05:41.628Z"
   },
   {
    "duration": 80,
    "start_time": "2022-06-08T08:05:41.744Z"
   },
   {
    "duration": 98,
    "start_time": "2022-06-08T08:05:41.827Z"
   },
   {
    "duration": 6,
    "start_time": "2022-06-08T08:05:41.927Z"
   },
   {
    "duration": 37,
    "start_time": "2022-06-08T08:05:41.935Z"
   },
   {
    "duration": 6,
    "start_time": "2022-06-08T08:05:41.974Z"
   },
   {
    "duration": 8,
    "start_time": "2022-06-08T08:05:41.982Z"
   },
   {
    "duration": 9,
    "start_time": "2022-06-08T08:05:41.992Z"
   },
   {
    "duration": 7,
    "start_time": "2022-06-08T08:05:42.002Z"
   },
   {
    "duration": 17,
    "start_time": "2022-06-08T08:05:42.011Z"
   },
   {
    "duration": 113046,
    "start_time": "2022-06-08T08:05:42.030Z"
   },
   {
    "duration": 1448,
    "start_time": "2022-06-08T08:07:35.078Z"
   },
   {
    "duration": 101,
    "start_time": "2022-06-08T08:07:36.528Z"
   },
   {
    "duration": 4,
    "start_time": "2022-06-08T08:07:36.633Z"
   },
   {
    "duration": 13308,
    "start_time": "2022-06-08T08:07:36.638Z"
   },
   {
    "duration": 30,
    "start_time": "2022-06-08T08:19:27.568Z"
   },
   {
    "duration": 493,
    "start_time": "2022-06-08T08:23:09.245Z"
   },
   {
    "duration": 12,
    "start_time": "2022-06-08T08:23:19.741Z"
   },
   {
    "duration": 13,
    "start_time": "2022-06-08T08:24:42.254Z"
   },
   {
    "duration": 17,
    "start_time": "2022-06-08T08:27:09.119Z"
   },
   {
    "duration": 20,
    "start_time": "2022-06-08T08:27:12.710Z"
   },
   {
    "duration": 5,
    "start_time": "2022-06-08T08:27:47.421Z"
   },
   {
    "duration": 9,
    "start_time": "2022-06-08T08:27:55.694Z"
   },
   {
    "duration": 11,
    "start_time": "2022-06-08T08:28:01.724Z"
   },
   {
    "duration": 11,
    "start_time": "2022-06-08T08:28:16.620Z"
   },
   {
    "duration": 12,
    "start_time": "2022-06-08T08:29:11.159Z"
   },
   {
    "duration": 16,
    "start_time": "2022-06-08T08:31:13.202Z"
   },
   {
    "duration": 347,
    "start_time": "2022-06-08T08:33:15.225Z"
   },
   {
    "duration": 360,
    "start_time": "2022-06-08T08:33:33.845Z"
   },
   {
    "duration": 16,
    "start_time": "2022-06-08T08:35:11.618Z"
   },
   {
    "duration": 443,
    "start_time": "2022-06-08T08:35:33.363Z"
   },
   {
    "duration": 14,
    "start_time": "2022-06-08T08:35:45.324Z"
   },
   {
    "duration": 21,
    "start_time": "2022-06-08T08:35:50.715Z"
   },
   {
    "duration": 17,
    "start_time": "2022-06-08T08:36:02.283Z"
   },
   {
    "duration": 17,
    "start_time": "2022-06-08T08:37:37.612Z"
   },
   {
    "duration": 19,
    "start_time": "2022-06-08T08:39:46.953Z"
   },
   {
    "duration": 2,
    "start_time": "2022-06-08T08:41:48.447Z"
   },
   {
    "duration": 9,
    "start_time": "2022-06-10T09:38:17.621Z"
   },
   {
    "duration": 42,
    "start_time": "2022-06-10T09:46:44.431Z"
   },
   {
    "duration": 1493,
    "start_time": "2022-06-10T09:46:50.339Z"
   },
   {
    "duration": 3,
    "start_time": "2022-06-10T09:46:51.834Z"
   },
   {
    "duration": 73,
    "start_time": "2022-06-10T09:46:51.839Z"
   },
   {
    "duration": 32,
    "start_time": "2022-06-10T09:46:51.914Z"
   },
   {
    "duration": 3,
    "start_time": "2022-06-10T09:46:51.947Z"
   },
   {
    "duration": 47,
    "start_time": "2022-06-10T09:46:51.951Z"
   },
   {
    "duration": 25,
    "start_time": "2022-06-10T09:46:52.000Z"
   },
   {
    "duration": 4,
    "start_time": "2022-06-10T09:46:52.027Z"
   },
   {
    "duration": 1670,
    "start_time": "2022-06-10T09:46:52.033Z"
   },
   {
    "duration": 1522,
    "start_time": "2022-06-10T09:46:53.707Z"
   },
   {
    "duration": 4,
    "start_time": "2022-06-10T09:46:55.232Z"
   },
   {
    "duration": 11,
    "start_time": "2022-06-10T09:46:55.238Z"
   },
   {
    "duration": 24,
    "start_time": "2022-06-10T09:46:55.251Z"
   },
   {
    "duration": 48,
    "start_time": "2022-06-10T09:46:55.276Z"
   },
   {
    "duration": 247,
    "start_time": "2022-06-10T09:46:55.327Z"
   },
   {
    "duration": 0,
    "start_time": "2022-06-10T09:46:55.575Z"
   },
   {
    "duration": 0,
    "start_time": "2022-06-10T09:46:55.576Z"
   },
   {
    "duration": 0,
    "start_time": "2022-06-10T09:46:55.577Z"
   },
   {
    "duration": 0,
    "start_time": "2022-06-10T09:46:55.579Z"
   },
   {
    "duration": 0,
    "start_time": "2022-06-10T09:46:55.579Z"
   },
   {
    "duration": 0,
    "start_time": "2022-06-10T09:46:55.580Z"
   },
   {
    "duration": 0,
    "start_time": "2022-06-10T09:46:55.581Z"
   },
   {
    "duration": 0,
    "start_time": "2022-06-10T09:46:55.583Z"
   },
   {
    "duration": 0,
    "start_time": "2022-06-10T09:46:55.584Z"
   },
   {
    "duration": 0,
    "start_time": "2022-06-10T09:46:55.585Z"
   },
   {
    "duration": 0,
    "start_time": "2022-06-10T09:46:55.586Z"
   },
   {
    "duration": 0,
    "start_time": "2022-06-10T09:46:55.587Z"
   },
   {
    "duration": 0,
    "start_time": "2022-06-10T09:46:55.588Z"
   },
   {
    "duration": 0,
    "start_time": "2022-06-10T09:46:55.590Z"
   },
   {
    "duration": 0,
    "start_time": "2022-06-10T09:46:55.591Z"
   },
   {
    "duration": 4,
    "start_time": "2022-06-10T09:52:54.768Z"
   },
   {
    "duration": 5,
    "start_time": "2022-06-10T09:52:57.353Z"
   },
   {
    "duration": 7,
    "start_time": "2022-06-10T09:52:57.360Z"
   },
   {
    "duration": 35,
    "start_time": "2022-06-10T09:52:57.368Z"
   },
   {
    "duration": 31,
    "start_time": "2022-06-10T09:52:57.404Z"
   },
   {
    "duration": 4,
    "start_time": "2022-06-10T09:52:57.437Z"
   },
   {
    "duration": 44,
    "start_time": "2022-06-10T09:52:57.443Z"
   },
   {
    "duration": 10,
    "start_time": "2022-06-10T09:52:57.489Z"
   },
   {
    "duration": 24,
    "start_time": "2022-06-10T09:52:57.500Z"
   },
   {
    "duration": 1687,
    "start_time": "2022-06-10T09:52:57.528Z"
   },
   {
    "duration": 1591,
    "start_time": "2022-06-10T09:52:59.217Z"
   },
   {
    "duration": 4,
    "start_time": "2022-06-10T09:53:00.810Z"
   },
   {
    "duration": 33,
    "start_time": "2022-06-10T09:53:00.822Z"
   },
   {
    "duration": 42,
    "start_time": "2022-06-10T09:53:00.856Z"
   },
   {
    "duration": 23,
    "start_time": "2022-06-10T09:53:00.900Z"
   },
   {
    "duration": 197,
    "start_time": "2022-06-10T09:53:00.926Z"
   },
   {
    "duration": 6,
    "start_time": "2022-06-10T09:53:01.125Z"
   },
   {
    "duration": 110,
    "start_time": "2022-06-10T09:53:01.134Z"
   },
   {
    "duration": 20,
    "start_time": "2022-06-10T09:53:01.245Z"
   },
   {
    "duration": 33,
    "start_time": "2022-06-10T09:53:01.267Z"
   },
   {
    "duration": 18,
    "start_time": "2022-06-10T09:53:01.302Z"
   },
   {
    "duration": 67,
    "start_time": "2022-06-10T09:53:01.322Z"
   },
   {
    "duration": 44,
    "start_time": "2022-06-10T09:53:01.390Z"
   },
   {
    "duration": 101,
    "start_time": "2022-06-10T09:53:01.437Z"
   },
   {
    "duration": 69,
    "start_time": "2022-06-10T09:53:01.541Z"
   },
   {
    "duration": 118988,
    "start_time": "2022-06-10T09:53:01.612Z"
   },
   {
    "duration": 1224,
    "start_time": "2022-06-10T09:55:00.602Z"
   },
   {
    "duration": 112,
    "start_time": "2022-06-10T09:55:01.828Z"
   },
   {
    "duration": 47,
    "start_time": "2022-06-10T09:55:01.943Z"
   },
   {
    "duration": 12844,
    "start_time": "2022-06-10T09:55:01.992Z"
   },
   {
    "duration": 22,
    "start_time": "2022-06-10T09:55:14.838Z"
   },
   {
    "duration": 111,
    "start_time": "2022-06-10T09:55:14.926Z"
   },
   {
    "duration": 91,
    "start_time": "2022-06-10T09:55:15.039Z"
   },
   {
    "duration": 227,
    "start_time": "2022-06-10T09:55:15.133Z"
   },
   {
    "duration": 7,
    "start_time": "2022-06-10T09:55:15.422Z"
   },
   {
    "duration": 100,
    "start_time": "2022-06-10T09:55:15.431Z"
   },
   {
    "duration": 9,
    "start_time": "2022-06-10T09:55:15.532Z"
   },
   {
    "duration": 8,
    "start_time": "2022-06-10T09:55:15.543Z"
   },
   {
    "duration": 12,
    "start_time": "2022-06-10T09:55:15.552Z"
   },
   {
    "duration": 5,
    "start_time": "2022-06-10T09:55:15.566Z"
   },
   {
    "duration": 7,
    "start_time": "2022-06-10T09:55:15.572Z"
   },
   {
    "duration": 10,
    "start_time": "2022-06-10T09:55:15.580Z"
   },
   {
    "duration": 1294,
    "start_time": "2022-06-10T09:55:33.770Z"
   },
   {
    "duration": 3,
    "start_time": "2022-06-10T09:55:35.066Z"
   },
   {
    "duration": 39,
    "start_time": "2022-06-10T09:55:35.070Z"
   },
   {
    "duration": 26,
    "start_time": "2022-06-10T09:55:35.112Z"
   },
   {
    "duration": 3,
    "start_time": "2022-06-10T09:55:35.140Z"
   },
   {
    "duration": 61,
    "start_time": "2022-06-10T09:55:35.145Z"
   },
   {
    "duration": 20,
    "start_time": "2022-06-10T09:55:35.207Z"
   },
   {
    "duration": 3,
    "start_time": "2022-06-10T09:55:35.229Z"
   },
   {
    "duration": 2645,
    "start_time": "2022-06-10T09:55:35.234Z"
   },
   {
    "duration": 1474,
    "start_time": "2022-06-10T09:55:37.883Z"
   },
   {
    "duration": 4,
    "start_time": "2022-06-10T09:55:39.358Z"
   },
   {
    "duration": 9,
    "start_time": "2022-06-10T09:55:39.364Z"
   },
   {
    "duration": 25,
    "start_time": "2022-06-10T09:55:39.374Z"
   },
   {
    "duration": 26,
    "start_time": "2022-06-10T09:55:39.401Z"
   },
   {
    "duration": 107,
    "start_time": "2022-06-10T09:55:39.429Z"
   },
   {
    "duration": 8,
    "start_time": "2022-06-10T09:55:39.623Z"
   },
   {
    "duration": 92,
    "start_time": "2022-06-10T09:55:39.633Z"
   },
   {
    "duration": 8,
    "start_time": "2022-06-10T09:55:39.727Z"
   },
   {
    "duration": 6,
    "start_time": "2022-06-10T09:55:39.737Z"
   },
   {
    "duration": 5,
    "start_time": "2022-06-10T09:55:39.745Z"
   },
   {
    "duration": 5,
    "start_time": "2022-06-10T09:55:39.752Z"
   },
   {
    "duration": 6,
    "start_time": "2022-06-10T09:55:39.759Z"
   },
   {
    "duration": 7,
    "start_time": "2022-06-10T09:55:39.766Z"
   },
   {
    "duration": 49,
    "start_time": "2022-06-10T09:55:39.774Z"
   },
   {
    "duration": 114043,
    "start_time": "2022-06-10T09:55:39.825Z"
   },
   {
    "duration": 1364,
    "start_time": "2022-06-10T09:57:33.870Z"
   },
   {
    "duration": 21,
    "start_time": "2022-06-10T09:57:35.236Z"
   },
   {
    "duration": 4,
    "start_time": "2022-06-10T09:57:35.260Z"
   },
   {
    "duration": 12948,
    "start_time": "2022-06-10T09:57:35.266Z"
   },
   {
    "duration": 28,
    "start_time": "2022-06-10T09:57:48.215Z"
   },
   {
    "duration": 31,
    "start_time": "2022-06-10T10:00:02.561Z"
   },
   {
    "duration": 10,
    "start_time": "2022-06-10T10:00:05.520Z"
   },
   {
    "duration": 4,
    "start_time": "2022-06-10T10:00:06.471Z"
   },
   {
    "duration": 7,
    "start_time": "2022-06-10T10:00:07.566Z"
   },
   {
    "duration": 7,
    "start_time": "2022-06-10T10:00:07.778Z"
   },
   {
    "duration": 11,
    "start_time": "2022-06-10T10:00:08.230Z"
   },
   {
    "duration": 6,
    "start_time": "2022-06-10T10:00:08.702Z"
   },
   {
    "duration": 6,
    "start_time": "2022-06-10T10:00:10.456Z"
   },
   {
    "duration": 7,
    "start_time": "2022-06-10T10:00:10.674Z"
   },
   {
    "duration": 30,
    "start_time": "2022-06-10T10:00:28.589Z"
   },
   {
    "duration": 6,
    "start_time": "2022-06-10T10:00:31.797Z"
   },
   {
    "duration": 4,
    "start_time": "2022-06-10T10:00:32.284Z"
   },
   {
    "duration": 6,
    "start_time": "2022-06-10T10:00:33.011Z"
   },
   {
    "duration": 5,
    "start_time": "2022-06-10T10:00:33.203Z"
   },
   {
    "duration": 5,
    "start_time": "2022-06-10T10:00:33.601Z"
   },
   {
    "duration": 5,
    "start_time": "2022-06-10T10:00:33.875Z"
   },
   {
    "duration": 6,
    "start_time": "2022-06-10T10:00:35.171Z"
   },
   {
    "duration": 6,
    "start_time": "2022-06-10T10:00:35.434Z"
   },
   {
    "duration": 7,
    "start_time": "2022-06-10T10:00:54.515Z"
   },
   {
    "duration": 11,
    "start_time": "2022-06-10T10:01:07.531Z"
   },
   {
    "duration": 20,
    "start_time": "2022-06-10T10:01:30.082Z"
   },
   {
    "duration": 5,
    "start_time": "2022-06-10T10:01:32.185Z"
   },
   {
    "duration": 5,
    "start_time": "2022-06-10T10:01:32.671Z"
   },
   {
    "duration": 6,
    "start_time": "2022-06-10T10:01:33.154Z"
   },
   {
    "duration": 6,
    "start_time": "2022-06-10T10:01:33.971Z"
   },
   {
    "duration": 5,
    "start_time": "2022-06-10T10:01:35.168Z"
   },
   {
    "duration": 5,
    "start_time": "2022-06-10T10:01:35.746Z"
   },
   {
    "duration": 4,
    "start_time": "2022-06-10T10:01:36.704Z"
   },
   {
    "duration": 5,
    "start_time": "2022-06-10T10:01:37.241Z"
   },
   {
    "duration": 4,
    "start_time": "2022-06-10T10:02:11.648Z"
   },
   {
    "duration": 118,
    "start_time": "2022-06-10T10:02:39.672Z"
   },
   {
    "duration": 45,
    "start_time": "2022-06-10T10:03:27.883Z"
   },
   {
    "duration": 22,
    "start_time": "2022-06-10T10:03:37.884Z"
   },
   {
    "duration": 28,
    "start_time": "2022-06-10T10:03:40.411Z"
   },
   {
    "duration": 22,
    "start_time": "2022-06-10T10:03:57.381Z"
   },
   {
    "duration": 1432,
    "start_time": "2022-06-10T10:04:05.708Z"
   },
   {
    "duration": 4,
    "start_time": "2022-06-10T10:04:07.142Z"
   },
   {
    "duration": 36,
    "start_time": "2022-06-10T10:04:07.147Z"
   },
   {
    "duration": 27,
    "start_time": "2022-06-10T10:04:07.185Z"
   },
   {
    "duration": 3,
    "start_time": "2022-06-10T10:04:07.213Z"
   },
   {
    "duration": 54,
    "start_time": "2022-06-10T10:04:07.217Z"
   },
   {
    "duration": 13,
    "start_time": "2022-06-10T10:04:07.273Z"
   },
   {
    "duration": 4,
    "start_time": "2022-06-10T10:04:07.288Z"
   },
   {
    "duration": 1729,
    "start_time": "2022-06-10T10:04:07.294Z"
   },
   {
    "duration": 1529,
    "start_time": "2022-06-10T10:04:09.027Z"
   },
   {
    "duration": 4,
    "start_time": "2022-06-10T10:04:10.558Z"
   },
   {
    "duration": 9,
    "start_time": "2022-06-10T10:04:10.564Z"
   },
   {
    "duration": 27,
    "start_time": "2022-06-10T10:04:10.574Z"
   },
   {
    "duration": 40,
    "start_time": "2022-06-10T10:04:10.603Z"
   },
   {
    "duration": 210,
    "start_time": "2022-06-10T10:04:10.645Z"
   },
   {
    "duration": 129,
    "start_time": "2022-06-10T10:04:10.857Z"
   },
   {
    "duration": 0,
    "start_time": "2022-06-10T10:04:10.988Z"
   },
   {
    "duration": 0,
    "start_time": "2022-06-10T10:04:10.989Z"
   },
   {
    "duration": 0,
    "start_time": "2022-06-10T10:04:10.990Z"
   },
   {
    "duration": 0,
    "start_time": "2022-06-10T10:04:10.992Z"
   },
   {
    "duration": 0,
    "start_time": "2022-06-10T10:04:10.993Z"
   },
   {
    "duration": 0,
    "start_time": "2022-06-10T10:04:10.994Z"
   },
   {
    "duration": 0,
    "start_time": "2022-06-10T10:04:10.995Z"
   },
   {
    "duration": 0,
    "start_time": "2022-06-10T10:04:10.997Z"
   },
   {
    "duration": 0,
    "start_time": "2022-06-10T10:04:10.998Z"
   },
   {
    "duration": 0,
    "start_time": "2022-06-10T10:04:10.999Z"
   },
   {
    "duration": 0,
    "start_time": "2022-06-10T10:04:11.000Z"
   },
   {
    "duration": 0,
    "start_time": "2022-06-10T10:04:11.001Z"
   },
   {
    "duration": 0,
    "start_time": "2022-06-10T10:04:11.022Z"
   },
   {
    "duration": 0,
    "start_time": "2022-06-10T10:04:11.027Z"
   },
   {
    "duration": 0,
    "start_time": "2022-06-10T10:04:11.028Z"
   },
   {
    "duration": 0,
    "start_time": "2022-06-10T10:04:11.029Z"
   },
   {
    "duration": 0,
    "start_time": "2022-06-10T10:04:11.029Z"
   },
   {
    "duration": 391,
    "start_time": "2022-06-10T10:04:32.601Z"
   },
   {
    "duration": 4,
    "start_time": "2022-06-10T10:04:36.371Z"
   },
   {
    "duration": 10,
    "start_time": "2022-06-10T10:04:36.957Z"
   },
   {
    "duration": 26,
    "start_time": "2022-06-10T10:04:43.515Z"
   },
   {
    "duration": 5,
    "start_time": "2022-06-10T10:04:51.919Z"
   },
   {
    "duration": 5,
    "start_time": "2022-06-10T10:04:53.760Z"
   },
   {
    "duration": 6,
    "start_time": "2022-06-10T10:04:56.888Z"
   },
   {
    "duration": 5,
    "start_time": "2022-06-10T10:04:57.399Z"
   },
   {
    "duration": 6,
    "start_time": "2022-06-10T10:04:58.064Z"
   },
   {
    "duration": 6,
    "start_time": "2022-06-10T10:04:58.261Z"
   },
   {
    "duration": 6,
    "start_time": "2022-06-10T10:04:59.055Z"
   },
   {
    "duration": 5,
    "start_time": "2022-06-10T10:05:00.306Z"
   },
   {
    "duration": 4,
    "start_time": "2022-06-10T10:05:43.279Z"
   },
   {
    "duration": 1392,
    "start_time": "2022-06-10T10:05:48.039Z"
   },
   {
    "duration": 5,
    "start_time": "2022-06-10T10:05:49.433Z"
   },
   {
    "duration": 37,
    "start_time": "2022-06-10T10:05:49.440Z"
   },
   {
    "duration": 27,
    "start_time": "2022-06-10T10:05:49.478Z"
   },
   {
    "duration": 3,
    "start_time": "2022-06-10T10:05:49.507Z"
   },
   {
    "duration": 50,
    "start_time": "2022-06-10T10:05:49.511Z"
   },
   {
    "duration": 11,
    "start_time": "2022-06-10T10:05:49.563Z"
   },
   {
    "duration": 4,
    "start_time": "2022-06-10T10:05:49.575Z"
   },
   {
    "duration": 1682,
    "start_time": "2022-06-10T10:05:49.581Z"
   },
   {
    "duration": 1532,
    "start_time": "2022-06-10T10:05:51.265Z"
   },
   {
    "duration": 5,
    "start_time": "2022-06-10T10:05:52.799Z"
   },
   {
    "duration": 20,
    "start_time": "2022-06-10T10:05:52.806Z"
   },
   {
    "duration": 49,
    "start_time": "2022-06-10T10:05:52.833Z"
   },
   {
    "duration": 44,
    "start_time": "2022-06-10T10:05:52.885Z"
   },
   {
    "duration": 216,
    "start_time": "2022-06-10T10:05:52.930Z"
   },
   {
    "duration": 382,
    "start_time": "2022-06-10T10:05:53.148Z"
   },
   {
    "duration": 7,
    "start_time": "2022-06-10T10:05:53.532Z"
   },
   {
    "duration": 114,
    "start_time": "2022-06-10T10:05:53.546Z"
   },
   {
    "duration": 4,
    "start_time": "2022-06-10T10:05:53.662Z"
   },
   {
    "duration": 8,
    "start_time": "2022-06-10T10:05:53.668Z"
   },
   {
    "duration": 12,
    "start_time": "2022-06-10T10:05:53.678Z"
   },
   {
    "duration": 22,
    "start_time": "2022-06-10T10:05:53.692Z"
   },
   {
    "duration": 17,
    "start_time": "2022-06-10T10:05:53.717Z"
   },
   {
    "duration": 13,
    "start_time": "2022-06-10T10:05:53.739Z"
   },
   {
    "duration": 6,
    "start_time": "2022-06-10T10:05:53.753Z"
   },
   {
    "duration": 6,
    "start_time": "2022-06-10T10:05:53.760Z"
   },
   {
    "duration": 11,
    "start_time": "2022-06-10T10:05:53.767Z"
   },
   {
    "duration": 1333,
    "start_time": "2022-06-10T10:06:55.381Z"
   },
   {
    "duration": 3,
    "start_time": "2022-06-10T10:06:56.716Z"
   },
   {
    "duration": 50,
    "start_time": "2022-06-10T10:06:56.733Z"
   },
   {
    "duration": 28,
    "start_time": "2022-06-10T10:06:56.785Z"
   },
   {
    "duration": 3,
    "start_time": "2022-06-10T10:06:56.814Z"
   },
   {
    "duration": 61,
    "start_time": "2022-06-10T10:06:56.819Z"
   },
   {
    "duration": 12,
    "start_time": "2022-06-10T10:06:56.882Z"
   },
   {
    "duration": 4,
    "start_time": "2022-06-10T10:06:56.895Z"
   },
   {
    "duration": 1732,
    "start_time": "2022-06-10T10:06:56.900Z"
   },
   {
    "duration": 1583,
    "start_time": "2022-06-10T10:06:58.636Z"
   },
   {
    "duration": 5,
    "start_time": "2022-06-10T10:07:00.221Z"
   },
   {
    "duration": 35,
    "start_time": "2022-06-10T10:07:00.228Z"
   },
   {
    "duration": 29,
    "start_time": "2022-06-10T10:07:00.264Z"
   },
   {
    "duration": 44,
    "start_time": "2022-06-10T10:07:00.295Z"
   },
   {
    "duration": 83,
    "start_time": "2022-06-10T10:07:00.341Z"
   },
   {
    "duration": 486,
    "start_time": "2022-06-10T10:07:00.426Z"
   },
   {
    "duration": 22,
    "start_time": "2022-06-10T10:07:00.914Z"
   },
   {
    "duration": 45,
    "start_time": "2022-06-10T10:07:00.942Z"
   },
   {
    "duration": 8,
    "start_time": "2022-06-10T10:07:00.989Z"
   },
   {
    "duration": 19,
    "start_time": "2022-06-10T10:07:00.999Z"
   },
   {
    "duration": 53,
    "start_time": "2022-06-10T10:07:01.020Z"
   },
   {
    "duration": 13,
    "start_time": "2022-06-10T10:07:01.075Z"
   },
   {
    "duration": 14,
    "start_time": "2022-06-10T10:07:01.091Z"
   },
   {
    "duration": 13,
    "start_time": "2022-06-10T10:07:01.107Z"
   },
   {
    "duration": 37,
    "start_time": "2022-06-10T10:07:01.121Z"
   },
   {
    "duration": 32,
    "start_time": "2022-06-10T10:07:01.160Z"
   },
   {
    "duration": 42,
    "start_time": "2022-06-10T10:07:01.193Z"
   },
   {
    "duration": 121162,
    "start_time": "2022-06-10T10:07:01.241Z"
   },
   {
    "duration": 1246,
    "start_time": "2022-06-10T10:09:02.404Z"
   },
   {
    "duration": 95,
    "start_time": "2022-06-10T10:09:03.735Z"
   },
   {
    "duration": 10,
    "start_time": "2022-06-10T10:09:03.833Z"
   },
   {
    "duration": 13511,
    "start_time": "2022-06-10T10:09:03.844Z"
   },
   {
    "duration": 21,
    "start_time": "2022-06-10T10:09:17.357Z"
   },
   {
    "duration": 9,
    "start_time": "2022-06-10T10:09:17.380Z"
   },
   {
    "duration": 49,
    "start_time": "2022-06-10T10:09:17.391Z"
   },
   {
    "duration": 83,
    "start_time": "2022-06-10T10:09:17.442Z"
   },
   {
    "duration": 10,
    "start_time": "2022-06-10T10:14:25.889Z"
   },
   {
    "duration": 13,
    "start_time": "2022-06-10T10:14:26.158Z"
   },
   {
    "duration": 9,
    "start_time": "2022-06-10T10:14:27.801Z"
   },
   {
    "duration": 353,
    "start_time": "2022-06-10T10:14:29.674Z"
   },
   {
    "duration": 5,
    "start_time": "2022-06-10T10:14:32.584Z"
   },
   {
    "duration": 12,
    "start_time": "2022-06-10T10:14:34.072Z"
   },
   {
    "duration": 4,
    "start_time": "2022-06-10T10:14:41.482Z"
   },
   {
    "duration": 4,
    "start_time": "2022-06-10T10:14:45.336Z"
   },
   {
    "duration": 5,
    "start_time": "2022-06-10T10:14:47.135Z"
   },
   {
    "duration": 7,
    "start_time": "2022-06-10T10:14:47.396Z"
   },
   {
    "duration": 6,
    "start_time": "2022-06-10T10:14:47.799Z"
   },
   {
    "duration": 6,
    "start_time": "2022-06-10T10:14:47.971Z"
   },
   {
    "duration": 6,
    "start_time": "2022-06-10T10:14:48.508Z"
   },
   {
    "duration": 6,
    "start_time": "2022-06-10T10:14:48.671Z"
   },
   {
    "duration": 13,
    "start_time": "2022-06-10T10:15:25.891Z"
   },
   {
    "duration": 10,
    "start_time": "2022-06-10T10:15:46.215Z"
   },
   {
    "duration": 11,
    "start_time": "2022-06-10T10:16:07.309Z"
   },
   {
    "duration": 1310,
    "start_time": "2022-06-10T10:16:19.158Z"
   },
   {
    "duration": 4,
    "start_time": "2022-06-10T10:16:20.470Z"
   },
   {
    "duration": 41,
    "start_time": "2022-06-10T10:16:20.476Z"
   },
   {
    "duration": 27,
    "start_time": "2022-06-10T10:16:20.519Z"
   },
   {
    "duration": 3,
    "start_time": "2022-06-10T10:16:20.548Z"
   },
   {
    "duration": 46,
    "start_time": "2022-06-10T10:16:20.553Z"
   },
   {
    "duration": 28,
    "start_time": "2022-06-10T10:16:20.601Z"
   },
   {
    "duration": 4,
    "start_time": "2022-06-10T10:16:20.631Z"
   },
   {
    "duration": 1647,
    "start_time": "2022-06-10T10:16:20.636Z"
   },
   {
    "duration": 1520,
    "start_time": "2022-06-10T10:16:22.286Z"
   },
   {
    "duration": 4,
    "start_time": "2022-06-10T10:16:23.808Z"
   },
   {
    "duration": 6,
    "start_time": "2022-06-10T10:16:23.822Z"
   },
   {
    "duration": 10,
    "start_time": "2022-06-10T10:16:23.829Z"
   },
   {
    "duration": 16,
    "start_time": "2022-06-10T10:16:23.840Z"
   },
   {
    "duration": 15,
    "start_time": "2022-06-10T10:16:23.858Z"
   },
   {
    "duration": 57,
    "start_time": "2022-06-10T10:16:23.875Z"
   },
   {
    "duration": 200,
    "start_time": "2022-06-10T10:16:23.934Z"
   },
   {
    "duration": 390,
    "start_time": "2022-06-10T10:16:24.135Z"
   },
   {
    "duration": 9,
    "start_time": "2022-06-10T10:16:24.528Z"
   },
   {
    "duration": 5,
    "start_time": "2022-06-10T10:16:24.539Z"
   },
   {
    "duration": 4,
    "start_time": "2022-06-10T10:16:24.546Z"
   },
   {
    "duration": 7,
    "start_time": "2022-06-10T10:16:24.552Z"
   },
   {
    "duration": 10,
    "start_time": "2022-06-10T10:16:24.560Z"
   },
   {
    "duration": 6,
    "start_time": "2022-06-10T10:16:24.571Z"
   },
   {
    "duration": 7,
    "start_time": "2022-06-10T10:16:24.579Z"
   },
   {
    "duration": 40,
    "start_time": "2022-06-10T10:16:24.587Z"
   },
   {
    "duration": 20,
    "start_time": "2022-06-10T10:16:24.629Z"
   },
   {
    "duration": 10,
    "start_time": "2022-06-10T10:16:24.653Z"
   },
   {
    "duration": 111341,
    "start_time": "2022-06-10T10:16:24.665Z"
   },
   {
    "duration": 1318,
    "start_time": "2022-06-10T10:18:16.007Z"
   },
   {
    "duration": 103,
    "start_time": "2022-06-10T10:18:17.327Z"
   },
   {
    "duration": 3,
    "start_time": "2022-06-10T10:18:17.432Z"
   },
   {
    "duration": 13881,
    "start_time": "2022-06-10T10:18:17.437Z"
   },
   {
    "duration": 21,
    "start_time": "2022-06-10T10:18:31.322Z"
   },
   {
    "duration": 19,
    "start_time": "2022-06-10T10:18:31.346Z"
   },
   {
    "duration": 372,
    "start_time": "2022-06-10T10:19:28.023Z"
   },
   {
    "duration": 11,
    "start_time": "2022-06-10T10:19:29.789Z"
   },
   {
    "duration": 15,
    "start_time": "2022-06-10T10:23:48.770Z"
   },
   {
    "duration": 4,
    "start_time": "2022-06-10T10:23:50.147Z"
   },
   {
    "duration": 362,
    "start_time": "2022-06-10T10:23:50.955Z"
   },
   {
    "duration": 6,
    "start_time": "2022-06-10T10:23:55.991Z"
   },
   {
    "duration": 5,
    "start_time": "2022-06-10T10:23:56.375Z"
   },
   {
    "duration": 6,
    "start_time": "2022-06-10T10:23:56.904Z"
   },
   {
    "duration": 5,
    "start_time": "2022-06-10T10:23:57.072Z"
   },
   {
    "duration": 6,
    "start_time": "2022-06-10T10:23:57.426Z"
   },
   {
    "duration": 6,
    "start_time": "2022-06-10T10:23:57.624Z"
   },
   {
    "duration": 6,
    "start_time": "2022-06-10T10:23:58.731Z"
   },
   {
    "duration": 6,
    "start_time": "2022-06-10T10:23:58.930Z"
   },
   {
    "duration": 12,
    "start_time": "2022-06-10T10:25:08.312Z"
   },
   {
    "duration": 9,
    "start_time": "2022-06-10T10:25:23.591Z"
   },
   {
    "duration": 11,
    "start_time": "2022-06-10T10:25:23.793Z"
   },
   {
    "duration": 364,
    "start_time": "2022-06-10T10:26:09.662Z"
   },
   {
    "duration": 6,
    "start_time": "2022-06-10T10:29:23.668Z"
   },
   {
    "duration": 15,
    "start_time": "2022-06-10T10:29:24.089Z"
   },
   {
    "duration": 15,
    "start_time": "2022-06-10T10:29:24.303Z"
   },
   {
    "duration": 1367,
    "start_time": "2022-06-10T10:29:30.145Z"
   },
   {
    "duration": 4,
    "start_time": "2022-06-10T10:29:31.513Z"
   },
   {
    "duration": 40,
    "start_time": "2022-06-10T10:29:31.522Z"
   },
   {
    "duration": 26,
    "start_time": "2022-06-10T10:29:31.564Z"
   },
   {
    "duration": 5,
    "start_time": "2022-06-10T10:29:31.592Z"
   },
   {
    "duration": 65,
    "start_time": "2022-06-10T10:29:31.598Z"
   },
   {
    "duration": 15,
    "start_time": "2022-06-10T10:29:31.664Z"
   },
   {
    "duration": 5,
    "start_time": "2022-06-10T10:29:31.681Z"
   },
   {
    "duration": 1735,
    "start_time": "2022-06-10T10:29:31.688Z"
   },
   {
    "duration": 1452,
    "start_time": "2022-06-10T10:29:33.425Z"
   },
   {
    "duration": 4,
    "start_time": "2022-06-10T10:29:34.879Z"
   },
   {
    "duration": 12,
    "start_time": "2022-06-10T10:29:34.885Z"
   },
   {
    "duration": 14,
    "start_time": "2022-06-10T10:29:34.899Z"
   },
   {
    "duration": 14,
    "start_time": "2022-06-10T10:29:34.922Z"
   },
   {
    "duration": 87,
    "start_time": "2022-06-10T10:29:34.937Z"
   },
   {
    "duration": 446,
    "start_time": "2022-06-10T10:29:35.028Z"
   },
   {
    "duration": 4,
    "start_time": "2022-06-10T10:29:35.475Z"
   },
   {
    "duration": 20,
    "start_time": "2022-06-10T10:29:35.481Z"
   },
   {
    "duration": 22,
    "start_time": "2022-06-10T10:29:35.502Z"
   },
   {
    "duration": 4,
    "start_time": "2022-06-10T10:29:35.526Z"
   },
   {
    "duration": 14,
    "start_time": "2022-06-10T10:29:35.531Z"
   },
   {
    "duration": 9,
    "start_time": "2022-06-10T10:29:35.547Z"
   },
   {
    "duration": 10,
    "start_time": "2022-06-10T10:29:35.557Z"
   },
   {
    "duration": 9,
    "start_time": "2022-06-10T10:29:35.569Z"
   },
   {
    "duration": 26,
    "start_time": "2022-06-10T10:29:35.580Z"
   },
   {
    "duration": 8,
    "start_time": "2022-06-10T10:29:35.608Z"
   },
   {
    "duration": 5,
    "start_time": "2022-06-10T10:29:35.617Z"
   },
   {
    "duration": 10,
    "start_time": "2022-06-10T10:29:35.624Z"
   },
   {
    "duration": 109051,
    "start_time": "2022-06-10T10:29:35.635Z"
   },
   {
    "duration": 1440,
    "start_time": "2022-06-10T10:31:24.688Z"
   },
   {
    "duration": 15,
    "start_time": "2022-06-10T10:31:26.130Z"
   },
   {
    "duration": 3,
    "start_time": "2022-06-10T10:31:26.146Z"
   },
   {
    "duration": 12170,
    "start_time": "2022-06-10T10:31:26.150Z"
   },
   {
    "duration": 21,
    "start_time": "2022-06-10T10:31:38.323Z"
   },
   {
    "duration": 22,
    "start_time": "2022-06-10T10:33:52.662Z"
   },
   {
    "duration": 1337,
    "start_time": "2022-06-10T10:35:15.771Z"
   },
   {
    "duration": 3,
    "start_time": "2022-06-10T10:35:17.110Z"
   },
   {
    "duration": 55,
    "start_time": "2022-06-10T10:35:17.114Z"
   },
   {
    "duration": 28,
    "start_time": "2022-06-10T10:35:17.171Z"
   },
   {
    "duration": 3,
    "start_time": "2022-06-10T10:35:17.201Z"
   },
   {
    "duration": 47,
    "start_time": "2022-06-10T10:35:17.206Z"
   },
   {
    "duration": 11,
    "start_time": "2022-06-10T10:35:17.255Z"
   },
   {
    "duration": 9,
    "start_time": "2022-06-10T10:35:17.268Z"
   },
   {
    "duration": 1721,
    "start_time": "2022-06-10T10:35:17.278Z"
   },
   {
    "duration": 1543,
    "start_time": "2022-06-10T10:35:19.003Z"
   },
   {
    "duration": 5,
    "start_time": "2022-06-10T10:35:20.548Z"
   },
   {
    "duration": 11,
    "start_time": "2022-06-10T10:35:20.555Z"
   },
   {
    "duration": 23,
    "start_time": "2022-06-10T10:35:20.567Z"
   },
   {
    "duration": 46,
    "start_time": "2022-06-10T10:35:20.591Z"
   },
   {
    "duration": 8,
    "start_time": "2022-06-10T10:35:20.639Z"
   },
   {
    "duration": 527,
    "start_time": "2022-06-10T10:35:20.649Z"
   },
   {
    "duration": 4,
    "start_time": "2022-06-10T10:35:21.177Z"
   },
   {
    "duration": 25,
    "start_time": "2022-06-10T10:35:21.183Z"
   },
   {
    "duration": 18,
    "start_time": "2022-06-10T10:35:21.210Z"
   },
   {
    "duration": 4,
    "start_time": "2022-06-10T10:35:21.230Z"
   },
   {
    "duration": 25,
    "start_time": "2022-06-10T10:35:21.236Z"
   },
   {
    "duration": 24,
    "start_time": "2022-06-10T10:35:21.262Z"
   },
   {
    "duration": 25,
    "start_time": "2022-06-10T10:35:21.287Z"
   },
   {
    "duration": 12,
    "start_time": "2022-06-10T10:35:21.314Z"
   },
   {
    "duration": 20,
    "start_time": "2022-06-10T10:35:21.327Z"
   },
   {
    "duration": 15,
    "start_time": "2022-06-10T10:35:21.349Z"
   },
   {
    "duration": 27,
    "start_time": "2022-06-10T10:35:21.366Z"
   },
   {
    "duration": 24,
    "start_time": "2022-06-10T10:35:21.397Z"
   },
   {
    "duration": 109753,
    "start_time": "2022-06-10T10:35:21.423Z"
   },
   {
    "duration": 1348,
    "start_time": "2022-06-10T10:37:11.178Z"
   },
   {
    "duration": 106,
    "start_time": "2022-06-10T10:37:12.528Z"
   },
   {
    "duration": 4,
    "start_time": "2022-06-10T10:37:12.636Z"
   },
   {
    "duration": 12451,
    "start_time": "2022-06-10T10:37:12.642Z"
   },
   {
    "duration": 19,
    "start_time": "2022-06-10T10:37:25.094Z"
   },
   {
    "duration": 1358,
    "start_time": "2022-06-10T12:15:07.954Z"
   },
   {
    "duration": 4,
    "start_time": "2022-06-10T12:15:09.314Z"
   },
   {
    "duration": 143,
    "start_time": "2022-06-10T12:15:09.319Z"
   },
   {
    "duration": 27,
    "start_time": "2022-06-10T12:15:09.464Z"
   },
   {
    "duration": 3,
    "start_time": "2022-06-10T12:15:09.492Z"
   },
   {
    "duration": 39,
    "start_time": "2022-06-10T12:15:09.497Z"
   },
   {
    "duration": 11,
    "start_time": "2022-06-10T12:15:09.538Z"
   },
   {
    "duration": 4,
    "start_time": "2022-06-10T12:15:09.550Z"
   },
   {
    "duration": 1437,
    "start_time": "2022-06-10T12:15:09.556Z"
   },
   {
    "duration": 1322,
    "start_time": "2022-06-10T12:15:10.996Z"
   },
   {
    "duration": 4,
    "start_time": "2022-06-10T12:15:12.320Z"
   },
   {
    "duration": 8,
    "start_time": "2022-06-10T12:15:12.325Z"
   },
   {
    "duration": 9,
    "start_time": "2022-06-10T12:15:12.334Z"
   },
   {
    "duration": 12,
    "start_time": "2022-06-10T12:15:12.345Z"
   },
   {
    "duration": 43,
    "start_time": "2022-06-10T12:15:12.358Z"
   },
   {
    "duration": 502,
    "start_time": "2022-06-10T12:15:12.403Z"
   },
   {
    "duration": 4,
    "start_time": "2022-06-10T12:15:12.907Z"
   },
   {
    "duration": 15,
    "start_time": "2022-06-10T12:15:12.912Z"
   },
   {
    "duration": 7,
    "start_time": "2022-06-10T12:15:12.928Z"
   },
   {
    "duration": 7,
    "start_time": "2022-06-10T12:15:12.937Z"
   },
   {
    "duration": 96850,
    "start_time": "2022-06-10T12:15:12.946Z"
   },
   {
    "duration": 1301,
    "start_time": "2022-06-10T12:16:49.797Z"
   },
   {
    "duration": 19,
    "start_time": "2022-06-10T12:16:51.100Z"
   },
   {
    "duration": 5,
    "start_time": "2022-06-10T12:16:51.121Z"
   },
   {
    "duration": 11556,
    "start_time": "2022-06-10T12:16:51.127Z"
   },
   {
    "duration": 19,
    "start_time": "2022-06-10T12:17:02.685Z"
   },
   {
    "duration": 27,
    "start_time": "2022-06-10T12:21:16.336Z"
   },
   {
    "duration": 1298,
    "start_time": "2022-06-10T12:34:23.534Z"
   },
   {
    "duration": 4,
    "start_time": "2022-06-10T12:34:24.837Z"
   },
   {
    "duration": 38,
    "start_time": "2022-06-10T12:34:24.842Z"
   },
   {
    "duration": 26,
    "start_time": "2022-06-10T12:34:24.882Z"
   },
   {
    "duration": 3,
    "start_time": "2022-06-10T12:34:24.910Z"
   },
   {
    "duration": 44,
    "start_time": "2022-06-10T12:34:24.914Z"
   },
   {
    "duration": 10,
    "start_time": "2022-06-10T12:34:24.959Z"
   },
   {
    "duration": 24,
    "start_time": "2022-06-10T12:34:24.971Z"
   },
   {
    "duration": 1475,
    "start_time": "2022-06-10T12:34:24.997Z"
   },
   {
    "duration": 1451,
    "start_time": "2022-06-10T12:34:26.475Z"
   },
   {
    "duration": 4,
    "start_time": "2022-06-10T12:34:27.928Z"
   },
   {
    "duration": 12,
    "start_time": "2022-06-10T12:34:27.934Z"
   },
   {
    "duration": 10,
    "start_time": "2022-06-10T12:34:27.948Z"
   },
   {
    "duration": 16,
    "start_time": "2022-06-10T12:34:27.960Z"
   },
   {
    "duration": 18,
    "start_time": "2022-06-10T12:34:27.978Z"
   },
   {
    "duration": 532,
    "start_time": "2022-06-10T12:34:27.998Z"
   },
   {
    "duration": 4,
    "start_time": "2022-06-10T12:34:28.532Z"
   },
   {
    "duration": 15,
    "start_time": "2022-06-10T12:34:28.537Z"
   },
   {
    "duration": 9,
    "start_time": "2022-06-10T12:34:28.553Z"
   },
   {
    "duration": 8,
    "start_time": "2022-06-10T12:34:28.563Z"
   },
   {
    "duration": 100361,
    "start_time": "2022-06-10T12:34:28.572Z"
   },
   {
    "duration": 780,
    "start_time": "2022-06-10T12:36:08.934Z"
   },
   {
    "duration": 16,
    "start_time": "2022-06-10T12:36:09.794Z"
   },
   {
    "duration": 3,
    "start_time": "2022-06-10T12:36:09.812Z"
   },
   {
    "duration": 11641,
    "start_time": "2022-06-10T12:36:09.816Z"
   },
   {
    "duration": 18,
    "start_time": "2022-06-10T12:36:21.459Z"
   },
   {
    "duration": 1395,
    "start_time": "2022-06-16T07:53:32.940Z"
   },
   {
    "duration": 4,
    "start_time": "2022-06-16T07:53:34.337Z"
   },
   {
    "duration": 147,
    "start_time": "2022-06-16T07:53:34.343Z"
   },
   {
    "duration": 32,
    "start_time": "2022-06-16T07:53:34.492Z"
   },
   {
    "duration": 3,
    "start_time": "2022-06-16T07:53:34.526Z"
   },
   {
    "duration": 59,
    "start_time": "2022-06-16T07:53:34.531Z"
   },
   {
    "duration": 16,
    "start_time": "2022-06-16T07:53:34.592Z"
   },
   {
    "duration": 27,
    "start_time": "2022-06-16T07:53:34.610Z"
   },
   {
    "duration": 1742,
    "start_time": "2022-06-16T07:53:34.639Z"
   },
   {
    "duration": 1518,
    "start_time": "2022-06-16T07:53:36.385Z"
   },
   {
    "duration": 4,
    "start_time": "2022-06-16T07:53:37.905Z"
   },
   {
    "duration": 17,
    "start_time": "2022-06-16T07:53:37.910Z"
   },
   {
    "duration": 9,
    "start_time": "2022-06-16T07:53:37.929Z"
   },
   {
    "duration": 16,
    "start_time": "2022-06-16T07:53:37.939Z"
   },
   {
    "duration": 71,
    "start_time": "2022-06-16T07:53:37.956Z"
   },
   {
    "duration": 522,
    "start_time": "2022-06-16T07:53:38.029Z"
   },
   {
    "duration": 4,
    "start_time": "2022-06-16T07:53:38.553Z"
   },
   {
    "duration": 19,
    "start_time": "2022-06-16T07:53:38.559Z"
   },
   {
    "duration": 13,
    "start_time": "2022-06-16T07:53:38.580Z"
   },
   {
    "duration": 9,
    "start_time": "2022-06-16T07:53:38.595Z"
   },
   {
    "duration": 109428,
    "start_time": "2022-06-16T07:53:38.625Z"
   },
   {
    "duration": 1971,
    "start_time": "2022-06-16T07:55:28.055Z"
   },
   {
    "duration": 18,
    "start_time": "2022-06-16T07:55:30.028Z"
   },
   {
    "duration": 19,
    "start_time": "2022-06-16T07:55:30.048Z"
   },
   {
    "duration": 13892,
    "start_time": "2022-06-16T07:55:30.069Z"
   },
   {
    "duration": 20,
    "start_time": "2022-06-16T07:55:43.963Z"
   }
  ],
  "kernelspec": {
   "display_name": "Python 3 (ipykernel)",
   "language": "python",
   "name": "python3"
  },
  "language_info": {
   "codemirror_mode": {
    "name": "ipython",
    "version": 3
   },
   "file_extension": ".py",
   "mimetype": "text/x-python",
   "name": "python",
   "nbconvert_exporter": "python",
   "pygments_lexer": "ipython3",
   "version": "3.9.5"
  },
  "toc": {
   "base_numbering": 1,
   "nav_menu": {},
   "number_sections": true,
   "sideBar": true,
   "skip_h1_title": true,
   "title_cell": "Table of Contents",
   "title_sidebar": "Contents",
   "toc_cell": false,
   "toc_position": {},
   "toc_section_display": true,
   "toc_window_display": true
  }
 },
 "nbformat": 4,
 "nbformat_minor": 2
}
