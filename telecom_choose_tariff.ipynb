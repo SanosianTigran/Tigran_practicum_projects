{
 "cells": [
  {
   "cell_type": "markdown",
   "metadata": {
    "toc": true
   },
   "source": [
    "<h1>Содержание<span class=\"tocSkip\"></span></h1>\n",
    "<div class=\"toc\"><ul class=\"toc-item\"><li><span><a href=\"#Импорт-библиотек-и-данных\" data-toc-modified-id=\"Импорт-библиотек-и-данных-1\"><span class=\"toc-item-num\">1&nbsp;&nbsp;</span>Импорт библиотек и данных</a></span><ul class=\"toc-item\"><li><span><a href=\"#Знакомство-с-файлами\" data-toc-modified-id=\"Знакомство-с-файлами-1.1\"><span class=\"toc-item-num\">1.1&nbsp;&nbsp;</span>Знакомство с файлами</a></span></li><li><span><a href=\"#Вывод-по-первичному-анализу-датафреймов\" data-toc-modified-id=\"Вывод-по-первичному-анализу-датафреймов-1.2\"><span class=\"toc-item-num\">1.2&nbsp;&nbsp;</span>Вывод по первичному анализу датафреймов</a></span></li></ul></li><li><span><a href=\"#Предобработка-и-подготовка-данных\" data-toc-modified-id=\"Предобработка-и-подготовка-данных-2\"><span class=\"toc-item-num\">2&nbsp;&nbsp;</span>Предобработка и подготовка данных</a></span><ul class=\"toc-item\"><li><span><a href=\"#Замена-форматов-данных\" data-toc-modified-id=\"Замена-форматов-данных-2.1\"><span class=\"toc-item-num\">2.1&nbsp;&nbsp;</span>Замена форматов данных</a></span></li><li><span><a href=\"#Расчет-дополнительных-данных\" data-toc-modified-id=\"Расчет-дополнительных-данных-2.2\"><span class=\"toc-item-num\">2.2&nbsp;&nbsp;</span>Расчет дополнительных данных</a></span></li><li><span><a href=\"#Объединение-таблиц\" data-toc-modified-id=\"Объединение-таблиц-2.3\"><span class=\"toc-item-num\">2.3&nbsp;&nbsp;</span>Объединение таблиц</a></span></li><li><span><a href=\"#Обработка-объединенного-датафрейма\" data-toc-modified-id=\"Обработка-объединенного-датафрейма-2.4\"><span class=\"toc-item-num\">2.4&nbsp;&nbsp;</span>Обработка объединенного датафрейма</a></span></li><li><span><a href=\"#Вывод-по-предобработке-данных\" data-toc-modified-id=\"Вывод-по-предобработке-данных-2.5\"><span class=\"toc-item-num\">2.5&nbsp;&nbsp;</span>Вывод по предобработке данных</a></span></li></ul></li><li><span><a href=\"#Расчет-выручки-по-месяцам\" data-toc-modified-id=\"Расчет-выручки-по-месяцам-3\"><span class=\"toc-item-num\">3&nbsp;&nbsp;</span>Расчет выручки по месяцам</a></span><ul class=\"toc-item\"><li><span><a href=\"#Расчеты\" data-toc-modified-id=\"Расчеты-3.1\"><span class=\"toc-item-num\">3.1&nbsp;&nbsp;</span>Расчеты</a></span></li><li><span><a href=\"#Вывод-по-предобработке-и-расчету-выручки\" data-toc-modified-id=\"Вывод-по-предобработке-и-расчету-выручки-3.2\"><span class=\"toc-item-num\">3.2&nbsp;&nbsp;</span>Вывод по предобработке и расчету выручки</a></span></li></ul></li><li><span><a href=\"#Анализ-полученных-данных\" data-toc-modified-id=\"Анализ-полученных-данных-4\"><span class=\"toc-item-num\">4&nbsp;&nbsp;</span>Анализ полученных данных</a></span><ul class=\"toc-item\"><li><span><a href=\"#Ultra.-Распределение-по-кол-ву-использованных-минут\" data-toc-modified-id=\"Ultra.-Распределение-по-кол-ву-использованных-минут-4.1\"><span class=\"toc-item-num\">4.1&nbsp;&nbsp;</span>Ultra. Распределение по кол-ву использованных минут</a></span></li><li><span><a href=\"#Ultra.-Распределение-по-кол-ву-сообщений\" data-toc-modified-id=\"Ultra.-Распределение-по-кол-ву-сообщений-4.2\"><span class=\"toc-item-num\">4.2&nbsp;&nbsp;</span>Ultra. Распределение по кол-ву сообщений</a></span></li><li><span><a href=\"#Ultra.-Распределение-по-кол-ву-трафика\" data-toc-modified-id=\"Ultra.-Распределение-по-кол-ву-трафика-4.3\"><span class=\"toc-item-num\">4.3&nbsp;&nbsp;</span>Ultra. Распределение по кол-ву трафика</a></span></li><li><span><a href=\"#Smart.-Распределение-по-кол-ву-минут\" data-toc-modified-id=\"Smart.-Распределение-по-кол-ву-минут-4.4\"><span class=\"toc-item-num\">4.4&nbsp;&nbsp;</span>Smart. Распределение по кол-ву минут</a></span></li><li><span><a href=\"#Smart.-Распределение-по-кол-ву-сообщений\" data-toc-modified-id=\"Smart.-Распределение-по-кол-ву-сообщений-4.5\"><span class=\"toc-item-num\">4.5&nbsp;&nbsp;</span>Smart. Распределение по кол-ву сообщений</a></span></li><li><span><a href=\"#Распределение-по-кол-ву-трафика\" data-toc-modified-id=\"Распределение-по-кол-ву-трафика-4.6\"><span class=\"toc-item-num\">4.6&nbsp;&nbsp;</span>Распределение по кол-ву трафика</a></span></li></ul></li><li><span><a href=\"#Выводы-относительно-распределения-данных\" data-toc-modified-id=\"Выводы-относительно-распределения-данных-5\"><span class=\"toc-item-num\">5&nbsp;&nbsp;</span>Выводы относительно распределения данных</a></span></li><li><span><a href=\"#Сравнение-на-едином-графике\" data-toc-modified-id=\"Сравнение-на-едином-графике-6\"><span class=\"toc-item-num\">6&nbsp;&nbsp;</span>Сравнение на едином графике</a></span></li><li><span><a href=\"#Проверка-гипотез\" data-toc-modified-id=\"Проверка-гипотез-7\"><span class=\"toc-item-num\">7&nbsp;&nbsp;</span>Проверка гипотез</a></span><ul class=\"toc-item\"><li><span><a href=\"#Cредняя-выручка-пользователей-тарифов-«Ультра»-и-«Смарт»-различаются\" data-toc-modified-id=\"Cредняя-выручка-пользователей-тарифов-«Ультра»-и-«Смарт»-различаются-7.1\"><span class=\"toc-item-num\">7.1&nbsp;&nbsp;</span>Cредняя выручка пользователей тарифов «Ультра» и «Смарт» различаются</a></span></li><li><span><a href=\"#Вывод-по-тесту\" data-toc-modified-id=\"Вывод-по-тесту-7.2\"><span class=\"toc-item-num\">7.2&nbsp;&nbsp;</span>Вывод по тесту</a></span></li><li><span><a href=\"#Cредняя-выручка-пользователи-из-Москвы-отличается-от-выручки-пользователей-из-других-регионов\" data-toc-modified-id=\"Cредняя-выручка-пользователи-из-Москвы-отличается-от-выручки-пользователей-из-других-регионов-7.3\"><span class=\"toc-item-num\">7.3&nbsp;&nbsp;</span>Cредняя выручка пользователи из Москвы отличается от выручки пользователей из других регионов</a></span></li><li><span><a href=\"#Вывод-по-тесту\" data-toc-modified-id=\"Вывод-по-тесту-7.4\"><span class=\"toc-item-num\">7.4&nbsp;&nbsp;</span>Вывод по тесту</a></span></li></ul></li><li><span><a href=\"#Общий-вывод\" data-toc-modified-id=\"Общий-вывод-8\"><span class=\"toc-item-num\">8&nbsp;&nbsp;</span>Общий вывод</a></span></li></ul></div>"
   ]
  },
  {
   "cell_type": "markdown",
   "metadata": {
    "id": "UnkrmAX3rXP1"
   },
   "source": [
    "# Описание проекта #\n",
    "\n",
    "Цель проекта - сделать предварительный анализ тарифов на небольшой выборке клиентов. Необходимо проанализировать поведение клиентов и сделать вывод - какой тариф лучше.\n",
    "\n",
    "\n",
    "В нашем распоряжении 2 тарифа. Их характеристики я выведу сюда, чтобы мне было проще, если понадобится, возвращаться к ним. \n",
    "\n",
    "Описание тарифов: \n",
    "\n",
    "- Тариф «Смарт»\n",
    "\n",
    "  - Ежемесячная плата: 550 рублей\n",
    "  - Включено 500 минут разговора, 50 сообщений и 15 Гб интернет-трафика\n",
    "  - Стоимость услуг сверх тарифного пакета: \n",
    "    1. минута разговора: 3 рубля («Мегалайн» всегда округляет вверх значения минут и мегабайтов. Если пользователь проговорил всего 1 секунду, в тарифе засчитывается целая минута); \n",
    "    2. сообщение: 3 рубля; \n",
    "    3. 1 Гб интернет-трафика: 200 рублей.\n",
    "\n",
    "- Тариф «Ультра»\n",
    "  - Ежемесячная плата: 1950 рублей\n",
    "  - Включено 3000 минут разговора, 1000 сообщений и 30 Гб интернет-трафика\n",
    "  - Стоимость услуг сверх тарифного пакета: \n",
    "    1. минута разговора: 1 рубль; \n",
    "    2. сообщение: 1 рубль; \n",
    "    3. 1 Гб интернет-трафика: 150 рублей."
   ]
  },
  {
   "cell_type": "markdown",
   "metadata": {
    "id": "jOSnp7A-twCH"
   },
   "source": [
    "## Импорт библиотек и данных\n",
    "\n",
    "Для начала импортируем все необходимые библиотеки для анализа данных и посмотрим на сами данные. \n"
   ]
  },
  {
   "cell_type": "code",
   "execution_count": 1,
   "metadata": {
    "id": "-rkrsTkzunF9"
   },
   "outputs": [],
   "source": [
    "import pandas as pd \n",
    "import numpy as np \n",
    "from matplotlib import pyplot as plt\n",
    "from scipy import stats as st"
   ]
  },
  {
   "cell_type": "code",
   "execution_count": 2,
   "metadata": {
    "id": "2jofFc5D02jm"
   },
   "outputs": [],
   "source": [
    "calls_data = pd.read_csv('calls.csv')\n",
    "internet_data = pd.read_csv('internet.csv', index_col=0)\n",
    "messages_data = pd.read_csv('messages.csv')\n",
    "tariffs_data = pd.read_csv('tariffs.csv')\n",
    "users_data = pd.read_csv('users.csv')"
   ]
  },
  {
   "cell_type": "markdown",
   "metadata": {
    "id": "IPFZvxwr1oaU"
   },
   "source": [
    "### Знакомство с файлами ### \n",
    "\n",
    "Я буду использовать методы `.info()` и `.duplicated` для первичного анализа полученных выгрузок данных. "
   ]
  },
  {
   "cell_type": "code",
   "execution_count": 3,
   "metadata": {
    "colab": {
     "base_uri": "https://localhost:8080/",
     "height": 414
    },
    "id": "R5mF3dKh09YL",
    "outputId": "cb5365b0-8b59-4072-8efc-97e0a30f77cf"
   },
   "outputs": [
    {
     "name": "stdout",
     "output_type": "stream",
     "text": [
      "<class 'pandas.core.frame.DataFrame'>\n",
      "RangeIndex: 202607 entries, 0 to 202606\n",
      "Data columns (total 4 columns):\n",
      " #   Column     Non-Null Count   Dtype  \n",
      "---  ------     --------------   -----  \n",
      " 0   id         202607 non-null  object \n",
      " 1   call_date  202607 non-null  object \n",
      " 2   duration   202607 non-null  float64\n",
      " 3   user_id    202607 non-null  int64  \n",
      "dtypes: float64(1), int64(1), object(2)\n",
      "memory usage: 6.2+ MB\n"
     ]
    },
    {
     "data": {
      "text/html": [
       "<div>\n",
       "<style scoped>\n",
       "    .dataframe tbody tr th:only-of-type {\n",
       "        vertical-align: middle;\n",
       "    }\n",
       "\n",
       "    .dataframe tbody tr th {\n",
       "        vertical-align: top;\n",
       "    }\n",
       "\n",
       "    .dataframe thead th {\n",
       "        text-align: right;\n",
       "    }\n",
       "</style>\n",
       "<table border=\"1\" class=\"dataframe\">\n",
       "  <thead>\n",
       "    <tr style=\"text-align: right;\">\n",
       "      <th></th>\n",
       "      <th>id</th>\n",
       "      <th>call_date</th>\n",
       "      <th>duration</th>\n",
       "      <th>user_id</th>\n",
       "    </tr>\n",
       "  </thead>\n",
       "  <tbody>\n",
       "    <tr>\n",
       "      <th>0</th>\n",
       "      <td>1000_0</td>\n",
       "      <td>2018-07-25</td>\n",
       "      <td>0.00</td>\n",
       "      <td>1000</td>\n",
       "    </tr>\n",
       "    <tr>\n",
       "      <th>1</th>\n",
       "      <td>1000_1</td>\n",
       "      <td>2018-08-17</td>\n",
       "      <td>0.00</td>\n",
       "      <td>1000</td>\n",
       "    </tr>\n",
       "    <tr>\n",
       "      <th>2</th>\n",
       "      <td>1000_2</td>\n",
       "      <td>2018-06-11</td>\n",
       "      <td>2.85</td>\n",
       "      <td>1000</td>\n",
       "    </tr>\n",
       "    <tr>\n",
       "      <th>3</th>\n",
       "      <td>1000_3</td>\n",
       "      <td>2018-09-21</td>\n",
       "      <td>13.80</td>\n",
       "      <td>1000</td>\n",
       "    </tr>\n",
       "    <tr>\n",
       "      <th>4</th>\n",
       "      <td>1000_4</td>\n",
       "      <td>2018-12-15</td>\n",
       "      <td>5.18</td>\n",
       "      <td>1000</td>\n",
       "    </tr>\n",
       "  </tbody>\n",
       "</table>\n",
       "</div>"
      ],
      "text/plain": [
       "       id   call_date  duration  user_id\n",
       "0  1000_0  2018-07-25      0.00     1000\n",
       "1  1000_1  2018-08-17      0.00     1000\n",
       "2  1000_2  2018-06-11      2.85     1000\n",
       "3  1000_3  2018-09-21     13.80     1000\n",
       "4  1000_4  2018-12-15      5.18     1000"
      ]
     },
     "metadata": {},
     "output_type": "display_data"
    },
    {
     "name": "stdout",
     "output_type": "stream",
     "text": [
      "Кол-во явных дубликатов: 0\n"
     ]
    }
   ],
   "source": [
    "calls_data.info()\n",
    "display(calls_data.head())\n",
    "print('Кол-во явных дубликатов:', calls_data.duplicated().sum())"
   ]
  },
  {
   "cell_type": "markdown",
   "metadata": {
    "id": "mFEAdjLe2oSj"
   },
   "source": [
    "Что видим: \n",
    "1. Совсем нет пропусков. Отлично. \n",
    "2. Столбец с датой звонка типо object. Переводу его в формат даты. \n",
    "3. Как сказано в описании проекта, нулевые значения в столбце `duration` - это пропущенные звонки. \n",
    "4. Всего 202607 строк. \n",
    "\n",
    "Посмотрим также на остальные файлы."
   ]
  },
  {
   "cell_type": "code",
   "execution_count": 4,
   "metadata": {
    "colab": {
     "base_uri": "https://localhost:8080/",
     "height": 432
    },
    "id": "k2S1QKoc3FJK",
    "outputId": "f1f39530-82d7-4e4b-a015-bb9b6ddeb519"
   },
   "outputs": [
    {
     "name": "stdout",
     "output_type": "stream",
     "text": [
      "<class 'pandas.core.frame.DataFrame'>\n",
      "Int64Index: 149396 entries, 0 to 149395\n",
      "Data columns (total 4 columns):\n",
      " #   Column        Non-Null Count   Dtype  \n",
      "---  ------        --------------   -----  \n",
      " 0   id            149396 non-null  object \n",
      " 1   mb_used       149396 non-null  float64\n",
      " 2   session_date  149396 non-null  object \n",
      " 3   user_id       149396 non-null  int64  \n",
      "dtypes: float64(1), int64(1), object(2)\n",
      "memory usage: 5.7+ MB\n"
     ]
    },
    {
     "data": {
      "text/html": [
       "<div>\n",
       "<style scoped>\n",
       "    .dataframe tbody tr th:only-of-type {\n",
       "        vertical-align: middle;\n",
       "    }\n",
       "\n",
       "    .dataframe tbody tr th {\n",
       "        vertical-align: top;\n",
       "    }\n",
       "\n",
       "    .dataframe thead th {\n",
       "        text-align: right;\n",
       "    }\n",
       "</style>\n",
       "<table border=\"1\" class=\"dataframe\">\n",
       "  <thead>\n",
       "    <tr style=\"text-align: right;\">\n",
       "      <th></th>\n",
       "      <th>id</th>\n",
       "      <th>mb_used</th>\n",
       "      <th>session_date</th>\n",
       "      <th>user_id</th>\n",
       "    </tr>\n",
       "  </thead>\n",
       "  <tbody>\n",
       "    <tr>\n",
       "      <th>0</th>\n",
       "      <td>1000_0</td>\n",
       "      <td>112.95</td>\n",
       "      <td>2018-11-25</td>\n",
       "      <td>1000</td>\n",
       "    </tr>\n",
       "    <tr>\n",
       "      <th>1</th>\n",
       "      <td>1000_1</td>\n",
       "      <td>1052.81</td>\n",
       "      <td>2018-09-07</td>\n",
       "      <td>1000</td>\n",
       "    </tr>\n",
       "    <tr>\n",
       "      <th>2</th>\n",
       "      <td>1000_2</td>\n",
       "      <td>1197.26</td>\n",
       "      <td>2018-06-25</td>\n",
       "      <td>1000</td>\n",
       "    </tr>\n",
       "    <tr>\n",
       "      <th>3</th>\n",
       "      <td>1000_3</td>\n",
       "      <td>550.27</td>\n",
       "      <td>2018-08-22</td>\n",
       "      <td>1000</td>\n",
       "    </tr>\n",
       "    <tr>\n",
       "      <th>4</th>\n",
       "      <td>1000_4</td>\n",
       "      <td>302.56</td>\n",
       "      <td>2018-09-24</td>\n",
       "      <td>1000</td>\n",
       "    </tr>\n",
       "  </tbody>\n",
       "</table>\n",
       "</div>"
      ],
      "text/plain": [
       "       id  mb_used session_date  user_id\n",
       "0  1000_0   112.95   2018-11-25     1000\n",
       "1  1000_1  1052.81   2018-09-07     1000\n",
       "2  1000_2  1197.26   2018-06-25     1000\n",
       "3  1000_3   550.27   2018-08-22     1000\n",
       "4  1000_4   302.56   2018-09-24     1000"
      ]
     },
     "metadata": {},
     "output_type": "display_data"
    },
    {
     "name": "stdout",
     "output_type": "stream",
     "text": [
      "Кол-во явных дубликатов: 0\n"
     ]
    }
   ],
   "source": [
    "internet_data.info()\n",
    "display(internet_data.head())\n",
    "print('Кол-во явных дубликатов:', internet_data.duplicated().sum())"
   ]
  },
  {
   "cell_type": "markdown",
   "metadata": {
    "id": "VPNk3Kl43hUE"
   },
   "source": [
    "Что видим: \n",
    "1. Удивительно, но тут тоже нет пропусков. \n",
    "2. Общее кол-во строк сильно ниже, чем в датафрейме со звонками. Всего - 149 396. \n",
    "3. Столбец `session_date` в формате object, хотя отображает дату сессия. Переформатирую столбец. \n",
    "4. `mb_used` в формате float64, хотя в условии сказано, что оператор связи округляет значения в большую сторону. В следующем блоке проекта подумаю, переводить ли в ГБ или нет и стоит ли округлять значения этого столбца. \n",
    "5. Столбец `Unnamed : 0` дублирует индексацию датафрейма. Удалю его на втором этапе проекта. \n"
   ]
  },
  {
   "cell_type": "code",
   "execution_count": 5,
   "metadata": {
    "colab": {
     "base_uri": "https://localhost:8080/",
     "height": 397
    },
    "id": "is0jf4mE3W1y",
    "outputId": "4d95b2c3-523f-4aa4-f94c-c37d79869649"
   },
   "outputs": [
    {
     "name": "stdout",
     "output_type": "stream",
     "text": [
      "<class 'pandas.core.frame.DataFrame'>\n",
      "RangeIndex: 123036 entries, 0 to 123035\n",
      "Data columns (total 3 columns):\n",
      " #   Column        Non-Null Count   Dtype \n",
      "---  ------        --------------   ----- \n",
      " 0   id            123036 non-null  object\n",
      " 1   message_date  123036 non-null  object\n",
      " 2   user_id       123036 non-null  int64 \n",
      "dtypes: int64(1), object(2)\n",
      "memory usage: 2.8+ MB\n"
     ]
    },
    {
     "data": {
      "text/html": [
       "<div>\n",
       "<style scoped>\n",
       "    .dataframe tbody tr th:only-of-type {\n",
       "        vertical-align: middle;\n",
       "    }\n",
       "\n",
       "    .dataframe tbody tr th {\n",
       "        vertical-align: top;\n",
       "    }\n",
       "\n",
       "    .dataframe thead th {\n",
       "        text-align: right;\n",
       "    }\n",
       "</style>\n",
       "<table border=\"1\" class=\"dataframe\">\n",
       "  <thead>\n",
       "    <tr style=\"text-align: right;\">\n",
       "      <th></th>\n",
       "      <th>id</th>\n",
       "      <th>message_date</th>\n",
       "      <th>user_id</th>\n",
       "    </tr>\n",
       "  </thead>\n",
       "  <tbody>\n",
       "    <tr>\n",
       "      <th>0</th>\n",
       "      <td>1000_0</td>\n",
       "      <td>2018-06-27</td>\n",
       "      <td>1000</td>\n",
       "    </tr>\n",
       "    <tr>\n",
       "      <th>1</th>\n",
       "      <td>1000_1</td>\n",
       "      <td>2018-10-08</td>\n",
       "      <td>1000</td>\n",
       "    </tr>\n",
       "    <tr>\n",
       "      <th>2</th>\n",
       "      <td>1000_2</td>\n",
       "      <td>2018-08-04</td>\n",
       "      <td>1000</td>\n",
       "    </tr>\n",
       "    <tr>\n",
       "      <th>3</th>\n",
       "      <td>1000_3</td>\n",
       "      <td>2018-06-16</td>\n",
       "      <td>1000</td>\n",
       "    </tr>\n",
       "    <tr>\n",
       "      <th>4</th>\n",
       "      <td>1000_4</td>\n",
       "      <td>2018-12-05</td>\n",
       "      <td>1000</td>\n",
       "    </tr>\n",
       "  </tbody>\n",
       "</table>\n",
       "</div>"
      ],
      "text/plain": [
       "       id message_date  user_id\n",
       "0  1000_0   2018-06-27     1000\n",
       "1  1000_1   2018-10-08     1000\n",
       "2  1000_2   2018-08-04     1000\n",
       "3  1000_3   2018-06-16     1000\n",
       "4  1000_4   2018-12-05     1000"
      ]
     },
     "metadata": {},
     "output_type": "display_data"
    },
    {
     "name": "stdout",
     "output_type": "stream",
     "text": [
      "Кол-во явных дубликатов: 0\n"
     ]
    }
   ],
   "source": [
    "messages_data.info()\n",
    "display(messages_data.head())\n",
    "print('Кол-во явных дубликатов:', messages_data.duplicated().sum())"
   ]
  },
  {
   "cell_type": "markdown",
   "metadata": {
    "id": "_dvpAyFn40eK"
   },
   "source": [
    "Что видим: \n",
    "1. Данных по сообщениям еще меньше, чем в предыдущих 2-х датафреймах. Всего - 123 036. \n",
    "2. `message_date` также в формате object. "
   ]
  },
  {
   "cell_type": "code",
   "execution_count": 6,
   "metadata": {
    "colab": {
     "base_uri": "https://localhost:8080/",
     "height": 372
    },
    "id": "Nj39VVo14yIB",
    "outputId": "c01b9787-582e-4769-9dff-9e10f6c920f8"
   },
   "outputs": [
    {
     "name": "stdout",
     "output_type": "stream",
     "text": [
      "<class 'pandas.core.frame.DataFrame'>\n",
      "RangeIndex: 2 entries, 0 to 1\n",
      "Data columns (total 8 columns):\n",
      " #   Column                 Non-Null Count  Dtype \n",
      "---  ------                 --------------  ----- \n",
      " 0   messages_included      2 non-null      int64 \n",
      " 1   mb_per_month_included  2 non-null      int64 \n",
      " 2   minutes_included       2 non-null      int64 \n",
      " 3   rub_monthly_fee        2 non-null      int64 \n",
      " 4   rub_per_gb             2 non-null      int64 \n",
      " 5   rub_per_message        2 non-null      int64 \n",
      " 6   rub_per_minute         2 non-null      int64 \n",
      " 7   tariff_name            2 non-null      object\n",
      "dtypes: int64(7), object(1)\n",
      "memory usage: 256.0+ bytes\n"
     ]
    },
    {
     "data": {
      "text/html": [
       "<div>\n",
       "<style scoped>\n",
       "    .dataframe tbody tr th:only-of-type {\n",
       "        vertical-align: middle;\n",
       "    }\n",
       "\n",
       "    .dataframe tbody tr th {\n",
       "        vertical-align: top;\n",
       "    }\n",
       "\n",
       "    .dataframe thead th {\n",
       "        text-align: right;\n",
       "    }\n",
       "</style>\n",
       "<table border=\"1\" class=\"dataframe\">\n",
       "  <thead>\n",
       "    <tr style=\"text-align: right;\">\n",
       "      <th></th>\n",
       "      <th>messages_included</th>\n",
       "      <th>mb_per_month_included</th>\n",
       "      <th>minutes_included</th>\n",
       "      <th>rub_monthly_fee</th>\n",
       "      <th>rub_per_gb</th>\n",
       "      <th>rub_per_message</th>\n",
       "      <th>rub_per_minute</th>\n",
       "      <th>tariff_name</th>\n",
       "    </tr>\n",
       "  </thead>\n",
       "  <tbody>\n",
       "    <tr>\n",
       "      <th>0</th>\n",
       "      <td>50</td>\n",
       "      <td>15360</td>\n",
       "      <td>500</td>\n",
       "      <td>550</td>\n",
       "      <td>200</td>\n",
       "      <td>3</td>\n",
       "      <td>3</td>\n",
       "      <td>smart</td>\n",
       "    </tr>\n",
       "    <tr>\n",
       "      <th>1</th>\n",
       "      <td>1000</td>\n",
       "      <td>30720</td>\n",
       "      <td>3000</td>\n",
       "      <td>1950</td>\n",
       "      <td>150</td>\n",
       "      <td>1</td>\n",
       "      <td>1</td>\n",
       "      <td>ultra</td>\n",
       "    </tr>\n",
       "  </tbody>\n",
       "</table>\n",
       "</div>"
      ],
      "text/plain": [
       "   messages_included  mb_per_month_included  minutes_included  \\\n",
       "0                 50                  15360               500   \n",
       "1               1000                  30720              3000   \n",
       "\n",
       "   rub_monthly_fee  rub_per_gb  rub_per_message  rub_per_minute tariff_name  \n",
       "0              550         200                3               3       smart  \n",
       "1             1950         150                1               1       ultra  "
      ]
     },
     "execution_count": 6,
     "metadata": {},
     "output_type": "execute_result"
    }
   ],
   "source": [
    "tariffs_data.info()\n",
    "tariffs_data.head()"
   ]
  },
  {
   "cell_type": "markdown",
   "metadata": {
    "id": "w5LBzDfu5jNZ"
   },
   "source": [
    "В файле с описанием тарифов все пока выглядит ок. "
   ]
  },
  {
   "cell_type": "code",
   "execution_count": 7,
   "metadata": {
    "colab": {
     "base_uri": "https://localhost:8080/",
     "height": 484
    },
    "id": "KdB4ICxe5RNZ",
    "outputId": "7318bb48-765c-4b0f-a993-2a905fa17881"
   },
   "outputs": [
    {
     "name": "stdout",
     "output_type": "stream",
     "text": [
      "<class 'pandas.core.frame.DataFrame'>\n",
      "RangeIndex: 500 entries, 0 to 499\n",
      "Data columns (total 8 columns):\n",
      " #   Column      Non-Null Count  Dtype \n",
      "---  ------      --------------  ----- \n",
      " 0   user_id     500 non-null    int64 \n",
      " 1   age         500 non-null    int64 \n",
      " 2   churn_date  38 non-null     object\n",
      " 3   city        500 non-null    object\n",
      " 4   first_name  500 non-null    object\n",
      " 5   last_name   500 non-null    object\n",
      " 6   reg_date    500 non-null    object\n",
      " 7   tariff      500 non-null    object\n",
      "dtypes: int64(2), object(6)\n",
      "memory usage: 31.4+ KB\n"
     ]
    },
    {
     "data": {
      "text/html": [
       "<div>\n",
       "<style scoped>\n",
       "    .dataframe tbody tr th:only-of-type {\n",
       "        vertical-align: middle;\n",
       "    }\n",
       "\n",
       "    .dataframe tbody tr th {\n",
       "        vertical-align: top;\n",
       "    }\n",
       "\n",
       "    .dataframe thead th {\n",
       "        text-align: right;\n",
       "    }\n",
       "</style>\n",
       "<table border=\"1\" class=\"dataframe\">\n",
       "  <thead>\n",
       "    <tr style=\"text-align: right;\">\n",
       "      <th></th>\n",
       "      <th>user_id</th>\n",
       "      <th>age</th>\n",
       "      <th>churn_date</th>\n",
       "      <th>city</th>\n",
       "      <th>first_name</th>\n",
       "      <th>last_name</th>\n",
       "      <th>reg_date</th>\n",
       "      <th>tariff</th>\n",
       "    </tr>\n",
       "  </thead>\n",
       "  <tbody>\n",
       "    <tr>\n",
       "      <th>0</th>\n",
       "      <td>1000</td>\n",
       "      <td>52</td>\n",
       "      <td>NaN</td>\n",
       "      <td>Краснодар</td>\n",
       "      <td>Рафаил</td>\n",
       "      <td>Верещагин</td>\n",
       "      <td>2018-05-25</td>\n",
       "      <td>ultra</td>\n",
       "    </tr>\n",
       "    <tr>\n",
       "      <th>1</th>\n",
       "      <td>1001</td>\n",
       "      <td>41</td>\n",
       "      <td>NaN</td>\n",
       "      <td>Москва</td>\n",
       "      <td>Иван</td>\n",
       "      <td>Ежов</td>\n",
       "      <td>2018-11-01</td>\n",
       "      <td>smart</td>\n",
       "    </tr>\n",
       "    <tr>\n",
       "      <th>2</th>\n",
       "      <td>1002</td>\n",
       "      <td>59</td>\n",
       "      <td>NaN</td>\n",
       "      <td>Стерлитамак</td>\n",
       "      <td>Евгений</td>\n",
       "      <td>Абрамович</td>\n",
       "      <td>2018-06-17</td>\n",
       "      <td>smart</td>\n",
       "    </tr>\n",
       "    <tr>\n",
       "      <th>3</th>\n",
       "      <td>1003</td>\n",
       "      <td>23</td>\n",
       "      <td>NaN</td>\n",
       "      <td>Москва</td>\n",
       "      <td>Белла</td>\n",
       "      <td>Белякова</td>\n",
       "      <td>2018-08-17</td>\n",
       "      <td>ultra</td>\n",
       "    </tr>\n",
       "    <tr>\n",
       "      <th>4</th>\n",
       "      <td>1004</td>\n",
       "      <td>68</td>\n",
       "      <td>NaN</td>\n",
       "      <td>Новокузнецк</td>\n",
       "      <td>Татьяна</td>\n",
       "      <td>Авдеенко</td>\n",
       "      <td>2018-05-14</td>\n",
       "      <td>ultra</td>\n",
       "    </tr>\n",
       "    <tr>\n",
       "      <th>...</th>\n",
       "      <td>...</td>\n",
       "      <td>...</td>\n",
       "      <td>...</td>\n",
       "      <td>...</td>\n",
       "      <td>...</td>\n",
       "      <td>...</td>\n",
       "      <td>...</td>\n",
       "      <td>...</td>\n",
       "    </tr>\n",
       "    <tr>\n",
       "      <th>495</th>\n",
       "      <td>1495</td>\n",
       "      <td>65</td>\n",
       "      <td>NaN</td>\n",
       "      <td>Иркутск</td>\n",
       "      <td>Авксентий</td>\n",
       "      <td>Фокин</td>\n",
       "      <td>2018-08-28</td>\n",
       "      <td>ultra</td>\n",
       "    </tr>\n",
       "    <tr>\n",
       "      <th>496</th>\n",
       "      <td>1496</td>\n",
       "      <td>36</td>\n",
       "      <td>NaN</td>\n",
       "      <td>Вологда</td>\n",
       "      <td>Трифон</td>\n",
       "      <td>Блохин</td>\n",
       "      <td>2018-01-27</td>\n",
       "      <td>smart</td>\n",
       "    </tr>\n",
       "    <tr>\n",
       "      <th>497</th>\n",
       "      <td>1497</td>\n",
       "      <td>32</td>\n",
       "      <td>NaN</td>\n",
       "      <td>Челябинск</td>\n",
       "      <td>Каролина</td>\n",
       "      <td>Агеева</td>\n",
       "      <td>2018-10-09</td>\n",
       "      <td>smart</td>\n",
       "    </tr>\n",
       "    <tr>\n",
       "      <th>498</th>\n",
       "      <td>1498</td>\n",
       "      <td>68</td>\n",
       "      <td>2018-10-25</td>\n",
       "      <td>Владикавказ</td>\n",
       "      <td>Всеволод</td>\n",
       "      <td>Акимчин</td>\n",
       "      <td>2018-07-19</td>\n",
       "      <td>smart</td>\n",
       "    </tr>\n",
       "    <tr>\n",
       "      <th>499</th>\n",
       "      <td>1499</td>\n",
       "      <td>35</td>\n",
       "      <td>NaN</td>\n",
       "      <td>Пермь</td>\n",
       "      <td>Гектор</td>\n",
       "      <td>Корнилов</td>\n",
       "      <td>2018-09-27</td>\n",
       "      <td>smart</td>\n",
       "    </tr>\n",
       "  </tbody>\n",
       "</table>\n",
       "<p>500 rows × 8 columns</p>\n",
       "</div>"
      ],
      "text/plain": [
       "     user_id  age  churn_date         city first_name  last_name    reg_date  \\\n",
       "0       1000   52         NaN    Краснодар     Рафаил  Верещагин  2018-05-25   \n",
       "1       1001   41         NaN       Москва       Иван       Ежов  2018-11-01   \n",
       "2       1002   59         NaN  Стерлитамак    Евгений  Абрамович  2018-06-17   \n",
       "3       1003   23         NaN       Москва      Белла   Белякова  2018-08-17   \n",
       "4       1004   68         NaN  Новокузнецк    Татьяна   Авдеенко  2018-05-14   \n",
       "..       ...  ...         ...          ...        ...        ...         ...   \n",
       "495     1495   65         NaN      Иркутск  Авксентий      Фокин  2018-08-28   \n",
       "496     1496   36         NaN      Вологда     Трифон     Блохин  2018-01-27   \n",
       "497     1497   32         NaN    Челябинск   Каролина     Агеева  2018-10-09   \n",
       "498     1498   68  2018-10-25  Владикавказ   Всеволод    Акимчин  2018-07-19   \n",
       "499     1499   35         NaN        Пермь     Гектор   Корнилов  2018-09-27   \n",
       "\n",
       "    tariff  \n",
       "0    ultra  \n",
       "1    smart  \n",
       "2    smart  \n",
       "3    ultra  \n",
       "4    ultra  \n",
       "..     ...  \n",
       "495  ultra  \n",
       "496  smart  \n",
       "497  smart  \n",
       "498  smart  \n",
       "499  smart  \n",
       "\n",
       "[500 rows x 8 columns]"
      ]
     },
     "metadata": {},
     "output_type": "display_data"
    }
   ],
   "source": [
    "users_data.info()\n",
    "display(users_data)"
   ]
  },
  {
   "cell_type": "markdown",
   "metadata": {
    "id": "WDr1WojH57Ax"
   },
   "source": [
    "Что видим: \n",
    "1. Ожидаемые 500 пользователей. \n",
    "2. Пропуски в `churn_date` не страшны, так как в условии проекта сказано, что пропуски по данному столбцу означают, что пользователь еще активен на момент выгрузки данных. Из 500 пользователей 38 уже неактивны. \n",
    "3. `reg_date` в формате object. "
   ]
  },
  {
   "cell_type": "markdown",
   "metadata": {
    "id": "gEfO_scw6ppA"
   },
   "source": [
    "### Вывод по первичному анализу датафреймов \n",
    "\n",
    "1. Практически отсутствуют пропуски данных. \n",
    "2. Общий объем основных датафреймов сильно отличается. \n",
    "3. Датафреймы можно будет объединять по столбцу `user_id`. Наличие этого столбца, на первый взгляд, упрощает этот процесс. \n",
    "4. Есть немного столбцов, которые требуют смену формата. \n",
    "5. Явные дубликаты отсутствуют. "
   ]
  },
  {
   "cell_type": "markdown",
   "metadata": {
    "id": "1OgITdK0I02P"
   },
   "source": [
    "## Предобработка и подготовка данных ###\n",
    "\n",
    "### Замена форматов данных\n",
    "\n",
    "Заменим формат столбцов с датами во всех датафреймах, которые описаны выше на datetime. \n",
    "\n"
   ]
  },
  {
   "cell_type": "code",
   "execution_count": 8,
   "metadata": {
    "id": "7PkxoENSaRCI"
   },
   "outputs": [],
   "source": [
    "calls_data['call_date'] = pd.to_datetime(calls_data['call_date'], format='%Y-%m-%d %H:%M')"
   ]
  },
  {
   "cell_type": "code",
   "execution_count": 9,
   "metadata": {
    "id": "U9d9YbH7ani8"
   },
   "outputs": [],
   "source": [
    "internet_data['session_date'] = pd.to_datetime(internet_data['session_date'], format='%Y-%m-%d %H:%M')"
   ]
  },
  {
   "cell_type": "code",
   "execution_count": 10,
   "metadata": {
    "id": "Vu8QrA3Ga5Ta"
   },
   "outputs": [],
   "source": [
    "messages_data['message_date'] = pd.to_datetime(messages_data['message_date'], format='%Y-%m-%d %H:%M')"
   ]
  },
  {
   "cell_type": "code",
   "execution_count": 11,
   "metadata": {
    "id": "U0RelnpsbVtr"
   },
   "outputs": [],
   "source": [
    "users_data['reg_date'] = pd.to_datetime(users_data['reg_date'], format='%Y-%m-%d %H:%M')"
   ]
  },
  {
   "cell_type": "markdown",
   "metadata": {
    "id": "W9lYpSt8dBuR"
   },
   "source": [
    "Удалю дублирующий индексацию столбец в датафрейме интернет-трафика. \n",
    "\n",
    "Как писал выше, нулевые значения не буду удалять или заменять, поскольку это очень важные данные, отражающие пропущенные звонки и активность/неактивность пользователя. "
   ]
  },
  {
   "cell_type": "code",
   "execution_count": 12,
   "metadata": {},
   "outputs": [
    {
     "data": {
      "text/plain": [
       "116616       0.00\n",
       "53410        0.00\n",
       "104303       0.00\n",
       "19438        0.00\n",
       "19437        0.00\n",
       "           ...   \n",
       "140299    1623.92\n",
       "103480    1651.25\n",
       "7063      1651.55\n",
       "119156    1702.75\n",
       "137493    1724.83\n",
       "Name: mb_used, Length: 149396, dtype: float64"
      ]
     },
     "execution_count": 12,
     "metadata": {},
     "output_type": "execute_result"
    }
   ],
   "source": [
    "internet_data['mb_used'].sort_values(ascending=True)"
   ]
  },
  {
   "cell_type": "code",
   "execution_count": 13,
   "metadata": {},
   "outputs": [
    {
     "name": "stdout",
     "output_type": "stream",
     "text": [
      "<class 'pandas.core.frame.DataFrame'>\n",
      "Int64Index: 19598 entries, 11 to 149393\n",
      "Data columns (total 4 columns):\n",
      " #   Column        Non-Null Count  Dtype         \n",
      "---  ------        --------------  -----         \n",
      " 0   id            19598 non-null  object        \n",
      " 1   mb_used       19598 non-null  float64       \n",
      " 2   session_date  19598 non-null  datetime64[ns]\n",
      " 3   user_id       19598 non-null  int64         \n",
      "dtypes: datetime64[ns](1), float64(1), int64(1), object(1)\n",
      "memory usage: 765.5+ KB\n"
     ]
    }
   ],
   "source": [
    "zero_traffic_users = internet_data.loc[internet_data['mb_used'] == 0]\n",
    "zero_traffic_users.info()"
   ]
  },
  {
   "cell_type": "code",
   "execution_count": 14,
   "metadata": {},
   "outputs": [
    {
     "data": {
      "text/plain": [
       "array([1000, 1001, 1002, 1003, 1004, 1005, 1006, 1007, 1008, 1009, 1010,\n",
       "       1011, 1012, 1013, 1014, 1015, 1016, 1017, 1018, 1019, 1020, 1021,\n",
       "       1022, 1023, 1024, 1025, 1026, 1027, 1028, 1029, 1030, 1031, 1032,\n",
       "       1033, 1034, 1035, 1036, 1037, 1038, 1039, 1040, 1041, 1042, 1043,\n",
       "       1044, 1045, 1046, 1047, 1048, 1049, 1050, 1051, 1052, 1053, 1054,\n",
       "       1055, 1056, 1057, 1058, 1059, 1060, 1061, 1062, 1063, 1064, 1065,\n",
       "       1066, 1067, 1068, 1069, 1070, 1071, 1072, 1073, 1074, 1075, 1076,\n",
       "       1077, 1078, 1079, 1080, 1081, 1082, 1083, 1084, 1085, 1086, 1087,\n",
       "       1088, 1089, 1090, 1091, 1092, 1093, 1094, 1095, 1096, 1097, 1098,\n",
       "       1099, 1100, 1101, 1102, 1103, 1104, 1105, 1106, 1107, 1108, 1109,\n",
       "       1110, 1111, 1112, 1113, 1114, 1115, 1116, 1117, 1118, 1119, 1120,\n",
       "       1121, 1122, 1123, 1124, 1125, 1126, 1127, 1129, 1130, 1131, 1132,\n",
       "       1133, 1134, 1135, 1136, 1137, 1138, 1139, 1140, 1141, 1142, 1143,\n",
       "       1144, 1145, 1146, 1147, 1148, 1149, 1150, 1151, 1152, 1153, 1154,\n",
       "       1155, 1156, 1157, 1158, 1159, 1160, 1161, 1162, 1163, 1164, 1165,\n",
       "       1166, 1167, 1168, 1169, 1170, 1171, 1172, 1173, 1174, 1175, 1176,\n",
       "       1177, 1178, 1179, 1180, 1181, 1182, 1183, 1184, 1185, 1186, 1187,\n",
       "       1188, 1189, 1190, 1191, 1192, 1193, 1194, 1195, 1196, 1197, 1198,\n",
       "       1199, 1200, 1201, 1202, 1203, 1204, 1205, 1206, 1207, 1208, 1209,\n",
       "       1210, 1211, 1212, 1213, 1214, 1215, 1216, 1217, 1218, 1219, 1220,\n",
       "       1221, 1222, 1223, 1224, 1225, 1226, 1227, 1228, 1229, 1230, 1231,\n",
       "       1232, 1233, 1234, 1235, 1236, 1237, 1238, 1239, 1240, 1241, 1242,\n",
       "       1243, 1244, 1245, 1246, 1247, 1248, 1249, 1250, 1251, 1252, 1253,\n",
       "       1254, 1255, 1256, 1257, 1258, 1259, 1260, 1261, 1262, 1263, 1264,\n",
       "       1265, 1266, 1267, 1268, 1269, 1270, 1271, 1272, 1274, 1275, 1276,\n",
       "       1277, 1278, 1279, 1280, 1281, 1282, 1283, 1284, 1285, 1286, 1287,\n",
       "       1288, 1289, 1290, 1291, 1292, 1293, 1294, 1295, 1296, 1297, 1298,\n",
       "       1299, 1300, 1301, 1302, 1303, 1304, 1305, 1306, 1307, 1308, 1309,\n",
       "       1310, 1311, 1312, 1313, 1314, 1315, 1316, 1317, 1318, 1319, 1320,\n",
       "       1321, 1322, 1323, 1324, 1325, 1326, 1327, 1328, 1329, 1330, 1331,\n",
       "       1332, 1333, 1334, 1335, 1336, 1337, 1338, 1339, 1340, 1341, 1342,\n",
       "       1344, 1345, 1346, 1347, 1348, 1349, 1350, 1351, 1352, 1353, 1354,\n",
       "       1355, 1356, 1357, 1358, 1359, 1360, 1361, 1362, 1363, 1364, 1365,\n",
       "       1366, 1367, 1368, 1369, 1370, 1372, 1373, 1374, 1375, 1376, 1377,\n",
       "       1378, 1379, 1380, 1381, 1382, 1383, 1384, 1385, 1386, 1387, 1388,\n",
       "       1389, 1390, 1391, 1392, 1393, 1394, 1395, 1396, 1398, 1400, 1401,\n",
       "       1402, 1403, 1404, 1405, 1406, 1407, 1408, 1409, 1410, 1411, 1412,\n",
       "       1413, 1414, 1415, 1416, 1417, 1418, 1419, 1420, 1421, 1422, 1423,\n",
       "       1424, 1425, 1426, 1427, 1428, 1429, 1430, 1431, 1432, 1433, 1434,\n",
       "       1435, 1436, 1437, 1438, 1439, 1440, 1441, 1442, 1443, 1444, 1445,\n",
       "       1446, 1447, 1448, 1449, 1450, 1451, 1452, 1453, 1454, 1455, 1456,\n",
       "       1457, 1458, 1459, 1460, 1461, 1462, 1463, 1464, 1465, 1466, 1467,\n",
       "       1468, 1469, 1470, 1471, 1472, 1473, 1474, 1475, 1476, 1477, 1478,\n",
       "       1479, 1480, 1481, 1482, 1483, 1484, 1485, 1486, 1487, 1488, 1489,\n",
       "       1490, 1491, 1492, 1493, 1494, 1495, 1496, 1497, 1498, 1499])"
      ]
     },
     "execution_count": 14,
     "metadata": {},
     "output_type": "execute_result"
    }
   ],
   "source": [
    "zero_traffic_users['user_id'].unique()"
   ]
  },
  {
   "cell_type": "markdown",
   "metadata": {
    "id": "G8Af1QTZeTvR"
   },
   "source": [
    "### Расчет дополнительных данных\n",
    "Дальше перейдем к расчету дополнительных данных и их добавлению в датафреймы перед началом анализа. \n",
    "\n",
    "Добавление количества сделанных звонков и израсходованных минут разговора по месяцам для каждого пользователя. Группировать будем по столбцу уникального идентификатора пользователя. \n",
    "\n",
    "Собственно, добавлю необходимые столбцы в датафрейм и округлю значения в столбце `duration`, исходя из условия проекта. "
   ]
  },
  {
   "cell_type": "code",
   "execution_count": 15,
   "metadata": {
    "colab": {
     "base_uri": "https://localhost:8080/",
     "height": 455
    },
    "id": "FdTfAhm9pMDg",
    "outputId": "106657cf-147f-43b5-e548-f1dea227f4ec"
   },
   "outputs": [
    {
     "data": {
      "text/html": [
       "<div>\n",
       "<style scoped>\n",
       "    .dataframe tbody tr th:only-of-type {\n",
       "        vertical-align: middle;\n",
       "    }\n",
       "\n",
       "    .dataframe tbody tr th {\n",
       "        vertical-align: top;\n",
       "    }\n",
       "\n",
       "    .dataframe thead th {\n",
       "        text-align: right;\n",
       "    }\n",
       "</style>\n",
       "<table border=\"1\" class=\"dataframe\">\n",
       "  <thead>\n",
       "    <tr style=\"text-align: right;\">\n",
       "      <th></th>\n",
       "      <th>user_id</th>\n",
       "      <th>month</th>\n",
       "      <th>count_calls</th>\n",
       "      <th>sum_minutes_spent</th>\n",
       "    </tr>\n",
       "  </thead>\n",
       "  <tbody>\n",
       "    <tr>\n",
       "      <th>0</th>\n",
       "      <td>1000</td>\n",
       "      <td>2018-05-01</td>\n",
       "      <td>22</td>\n",
       "      <td>159.0</td>\n",
       "    </tr>\n",
       "    <tr>\n",
       "      <th>1</th>\n",
       "      <td>1000</td>\n",
       "      <td>2018-06-01</td>\n",
       "      <td>43</td>\n",
       "      <td>172.0</td>\n",
       "    </tr>\n",
       "    <tr>\n",
       "      <th>2</th>\n",
       "      <td>1000</td>\n",
       "      <td>2018-07-01</td>\n",
       "      <td>47</td>\n",
       "      <td>340.0</td>\n",
       "    </tr>\n",
       "    <tr>\n",
       "      <th>3</th>\n",
       "      <td>1000</td>\n",
       "      <td>2018-08-01</td>\n",
       "      <td>52</td>\n",
       "      <td>408.0</td>\n",
       "    </tr>\n",
       "    <tr>\n",
       "      <th>4</th>\n",
       "      <td>1000</td>\n",
       "      <td>2018-09-01</td>\n",
       "      <td>58</td>\n",
       "      <td>466.0</td>\n",
       "    </tr>\n",
       "    <tr>\n",
       "      <th>...</th>\n",
       "      <td>...</td>\n",
       "      <td>...</td>\n",
       "      <td>...</td>\n",
       "      <td>...</td>\n",
       "    </tr>\n",
       "    <tr>\n",
       "      <th>3169</th>\n",
       "      <td>1498</td>\n",
       "      <td>2018-10-01</td>\n",
       "      <td>41</td>\n",
       "      <td>247.0</td>\n",
       "    </tr>\n",
       "    <tr>\n",
       "      <th>3170</th>\n",
       "      <td>1499</td>\n",
       "      <td>2018-09-01</td>\n",
       "      <td>9</td>\n",
       "      <td>70.0</td>\n",
       "    </tr>\n",
       "    <tr>\n",
       "      <th>3171</th>\n",
       "      <td>1499</td>\n",
       "      <td>2018-10-01</td>\n",
       "      <td>68</td>\n",
       "      <td>449.0</td>\n",
       "    </tr>\n",
       "    <tr>\n",
       "      <th>3172</th>\n",
       "      <td>1499</td>\n",
       "      <td>2018-11-01</td>\n",
       "      <td>74</td>\n",
       "      <td>612.0</td>\n",
       "    </tr>\n",
       "    <tr>\n",
       "      <th>3173</th>\n",
       "      <td>1499</td>\n",
       "      <td>2018-12-01</td>\n",
       "      <td>69</td>\n",
       "      <td>492.0</td>\n",
       "    </tr>\n",
       "  </tbody>\n",
       "</table>\n",
       "<p>3174 rows × 4 columns</p>\n",
       "</div>"
      ],
      "text/plain": [
       "      user_id      month  count_calls  sum_minutes_spent\n",
       "0        1000 2018-05-01           22              159.0\n",
       "1        1000 2018-06-01           43              172.0\n",
       "2        1000 2018-07-01           47              340.0\n",
       "3        1000 2018-08-01           52              408.0\n",
       "4        1000 2018-09-01           58              466.0\n",
       "...       ...        ...          ...                ...\n",
       "3169     1498 2018-10-01           41              247.0\n",
       "3170     1499 2018-09-01            9               70.0\n",
       "3171     1499 2018-10-01           68              449.0\n",
       "3172     1499 2018-11-01           74              612.0\n",
       "3173     1499 2018-12-01           69              492.0\n",
       "\n",
       "[3174 rows x 4 columns]"
      ]
     },
     "execution_count": 15,
     "metadata": {},
     "output_type": "execute_result"
    }
   ],
   "source": [
    "calls_data['duration'] = np.ceil(calls_data['duration'])\n",
    "calls_data['month'] = calls_data['call_date'].astype('datetime64[M]')\n",
    "calls_grouped = calls_data.pivot_table(index=['user_id', 'month'], values='duration', aggfunc=['count', 'sum']).reset_index()\n",
    "calls_grouped.columns=('user_id', 'month', 'count_calls', 'sum_minutes_spent')\n",
    "calls_grouped"
   ]
  },
  {
   "cell_type": "code",
   "execution_count": 16,
   "metadata": {},
   "outputs": [
    {
     "data": {
      "text/plain": [
       "array(['2018-07-01T00:00:00.000000000', '2018-08-01T00:00:00.000000000',\n",
       "       '2018-06-01T00:00:00.000000000', '2018-09-01T00:00:00.000000000',\n",
       "       '2018-12-01T00:00:00.000000000', '2018-11-01T00:00:00.000000000',\n",
       "       '2018-10-01T00:00:00.000000000', '2018-05-01T00:00:00.000000000',\n",
       "       '2018-03-01T00:00:00.000000000', '2018-04-01T00:00:00.000000000',\n",
       "       '2018-01-01T00:00:00.000000000', '2018-02-01T00:00:00.000000000'],\n",
       "      dtype='datetime64[ns]')"
      ]
     },
     "execution_count": 16,
     "metadata": {},
     "output_type": "execute_result"
    }
   ],
   "source": [
    "calls_data['month'].unique()"
   ]
  },
  {
   "cell_type": "markdown",
   "metadata": {
    "id": "U9WKWqHd6eD6"
   },
   "source": [
    "Кол-во отправленных сообщений по месяцам."
   ]
  },
  {
   "cell_type": "code",
   "execution_count": 17,
   "metadata": {
    "id": "5ZF0TSMg4LUq"
   },
   "outputs": [
    {
     "data": {
      "text/html": [
       "<div>\n",
       "<style scoped>\n",
       "    .dataframe tbody tr th:only-of-type {\n",
       "        vertical-align: middle;\n",
       "    }\n",
       "\n",
       "    .dataframe tbody tr th {\n",
       "        vertical-align: top;\n",
       "    }\n",
       "\n",
       "    .dataframe thead th {\n",
       "        text-align: right;\n",
       "    }\n",
       "</style>\n",
       "<table border=\"1\" class=\"dataframe\">\n",
       "  <thead>\n",
       "    <tr style=\"text-align: right;\">\n",
       "      <th></th>\n",
       "      <th>user_id</th>\n",
       "      <th>month</th>\n",
       "      <th>message_count</th>\n",
       "    </tr>\n",
       "  </thead>\n",
       "  <tbody>\n",
       "    <tr>\n",
       "      <th>0</th>\n",
       "      <td>1000</td>\n",
       "      <td>2018-05-01</td>\n",
       "      <td>22</td>\n",
       "    </tr>\n",
       "    <tr>\n",
       "      <th>1</th>\n",
       "      <td>1000</td>\n",
       "      <td>2018-06-01</td>\n",
       "      <td>60</td>\n",
       "    </tr>\n",
       "    <tr>\n",
       "      <th>2</th>\n",
       "      <td>1000</td>\n",
       "      <td>2018-07-01</td>\n",
       "      <td>75</td>\n",
       "    </tr>\n",
       "    <tr>\n",
       "      <th>3</th>\n",
       "      <td>1000</td>\n",
       "      <td>2018-08-01</td>\n",
       "      <td>81</td>\n",
       "    </tr>\n",
       "    <tr>\n",
       "      <th>4</th>\n",
       "      <td>1000</td>\n",
       "      <td>2018-09-01</td>\n",
       "      <td>57</td>\n",
       "    </tr>\n",
       "    <tr>\n",
       "      <th>...</th>\n",
       "      <td>...</td>\n",
       "      <td>...</td>\n",
       "      <td>...</td>\n",
       "    </tr>\n",
       "    <tr>\n",
       "      <th>2712</th>\n",
       "      <td>1498</td>\n",
       "      <td>2018-10-01</td>\n",
       "      <td>42</td>\n",
       "    </tr>\n",
       "    <tr>\n",
       "      <th>2713</th>\n",
       "      <td>1499</td>\n",
       "      <td>2018-09-01</td>\n",
       "      <td>11</td>\n",
       "    </tr>\n",
       "    <tr>\n",
       "      <th>2714</th>\n",
       "      <td>1499</td>\n",
       "      <td>2018-10-01</td>\n",
       "      <td>48</td>\n",
       "    </tr>\n",
       "    <tr>\n",
       "      <th>2715</th>\n",
       "      <td>1499</td>\n",
       "      <td>2018-11-01</td>\n",
       "      <td>59</td>\n",
       "    </tr>\n",
       "    <tr>\n",
       "      <th>2716</th>\n",
       "      <td>1499</td>\n",
       "      <td>2018-12-01</td>\n",
       "      <td>66</td>\n",
       "    </tr>\n",
       "  </tbody>\n",
       "</table>\n",
       "<p>2717 rows × 3 columns</p>\n",
       "</div>"
      ],
      "text/plain": [
       "      user_id      month  message_count\n",
       "0        1000 2018-05-01             22\n",
       "1        1000 2018-06-01             60\n",
       "2        1000 2018-07-01             75\n",
       "3        1000 2018-08-01             81\n",
       "4        1000 2018-09-01             57\n",
       "...       ...        ...            ...\n",
       "2712     1498 2018-10-01             42\n",
       "2713     1499 2018-09-01             11\n",
       "2714     1499 2018-10-01             48\n",
       "2715     1499 2018-11-01             59\n",
       "2716     1499 2018-12-01             66\n",
       "\n",
       "[2717 rows x 3 columns]"
      ]
     },
     "execution_count": 17,
     "metadata": {},
     "output_type": "execute_result"
    }
   ],
   "source": [
    "messages_data['month'] = messages_data['message_date'].astype('datetime64[M]')\n",
    "messages_grouped = messages_data.pivot_table(index=['user_id', 'month'], values='message_date', aggfunc='count').reset_index()\n",
    "messages_grouped = messages_grouped.rename(columns={'message_date' :'message_count'})\n",
    "messages_grouped"
   ]
  },
  {
   "cell_type": "markdown",
   "metadata": {
    "id": "_Md7lKLJ95eh"
   },
   "source": [
    "Объем израсходанного трафика по месяцам. \n",
    "1. Добавим столбец с месяцами.\n",
    "2. Добавлю столбец с расходом трафика по месяцам. \n",
    "3. После окргулю суммарный расход трафика."
   ]
  },
  {
   "cell_type": "code",
   "execution_count": 18,
   "metadata": {
    "id": "qPe9OASr9zHv"
   },
   "outputs": [],
   "source": [
    "internet_data['month'] = internet_data['session_date'].astype('datetime64[M]')\n",
    "internet_data['gb_used'] = internet_data['mb_used'] / 1024"
   ]
  },
  {
   "cell_type": "code",
   "execution_count": 19,
   "metadata": {
    "colab": {
     "base_uri": "https://localhost:8080/",
     "height": 363
    },
    "id": "3QU18fuy-HQf",
    "outputId": "608276e7-2b23-4415-9a04-31dacf20a22d"
   },
   "outputs": [
    {
     "name": "stdout",
     "output_type": "stream",
     "text": [
      "<class 'pandas.core.frame.DataFrame'>\n",
      "Int64Index: 149396 entries, 0 to 149395\n",
      "Data columns (total 6 columns):\n",
      " #   Column        Non-Null Count   Dtype         \n",
      "---  ------        --------------   -----         \n",
      " 0   id            149396 non-null  object        \n",
      " 1   mb_used       149396 non-null  float64       \n",
      " 2   session_date  149396 non-null  datetime64[ns]\n",
      " 3   user_id       149396 non-null  int64         \n",
      " 4   month         149396 non-null  datetime64[ns]\n",
      " 5   gb_used       149396 non-null  float64       \n",
      "dtypes: datetime64[ns](2), float64(2), int64(1), object(1)\n",
      "memory usage: 8.0+ MB\n"
     ]
    }
   ],
   "source": [
    "internet_data.info()"
   ]
  },
  {
   "cell_type": "code",
   "execution_count": 20,
   "metadata": {},
   "outputs": [
    {
     "data": {
      "text/html": [
       "<div>\n",
       "<style scoped>\n",
       "    .dataframe tbody tr th:only-of-type {\n",
       "        vertical-align: middle;\n",
       "    }\n",
       "\n",
       "    .dataframe tbody tr th {\n",
       "        vertical-align: top;\n",
       "    }\n",
       "\n",
       "    .dataframe thead th {\n",
       "        text-align: right;\n",
       "    }\n",
       "</style>\n",
       "<table border=\"1\" class=\"dataframe\">\n",
       "  <thead>\n",
       "    <tr style=\"text-align: right;\">\n",
       "      <th></th>\n",
       "      <th>user_id</th>\n",
       "      <th>month</th>\n",
       "      <th>gb_used</th>\n",
       "    </tr>\n",
       "  </thead>\n",
       "  <tbody>\n",
       "    <tr>\n",
       "      <th>0</th>\n",
       "      <td>1000</td>\n",
       "      <td>2018-05-01</td>\n",
       "      <td>2.200674</td>\n",
       "    </tr>\n",
       "    <tr>\n",
       "      <th>1</th>\n",
       "      <td>1000</td>\n",
       "      <td>2018-06-01</td>\n",
       "      <td>22.689229</td>\n",
       "    </tr>\n",
       "    <tr>\n",
       "      <th>2</th>\n",
       "      <td>1000</td>\n",
       "      <td>2018-07-01</td>\n",
       "      <td>13.675430</td>\n",
       "    </tr>\n",
       "    <tr>\n",
       "      <th>3</th>\n",
       "      <td>1000</td>\n",
       "      <td>2018-08-01</td>\n",
       "      <td>13.726494</td>\n",
       "    </tr>\n",
       "    <tr>\n",
       "      <th>4</th>\n",
       "      <td>1000</td>\n",
       "      <td>2018-09-01</td>\n",
       "      <td>14.227451</td>\n",
       "    </tr>\n",
       "    <tr>\n",
       "      <th>...</th>\n",
       "      <td>...</td>\n",
       "      <td>...</td>\n",
       "      <td>...</td>\n",
       "    </tr>\n",
       "    <tr>\n",
       "      <th>3198</th>\n",
       "      <td>1498</td>\n",
       "      <td>2018-10-01</td>\n",
       "      <td>20.097031</td>\n",
       "    </tr>\n",
       "    <tr>\n",
       "      <th>3199</th>\n",
       "      <td>1499</td>\n",
       "      <td>2018-09-01</td>\n",
       "      <td>1.802490</td>\n",
       "    </tr>\n",
       "    <tr>\n",
       "      <th>3200</th>\n",
       "      <td>1499</td>\n",
       "      <td>2018-10-01</td>\n",
       "      <td>17.371592</td>\n",
       "    </tr>\n",
       "    <tr>\n",
       "      <th>3201</th>\n",
       "      <td>1499</td>\n",
       "      <td>2018-11-01</td>\n",
       "      <td>17.542295</td>\n",
       "    </tr>\n",
       "    <tr>\n",
       "      <th>3202</th>\n",
       "      <td>1499</td>\n",
       "      <td>2018-12-01</td>\n",
       "      <td>12.749590</td>\n",
       "    </tr>\n",
       "  </tbody>\n",
       "</table>\n",
       "<p>3203 rows × 3 columns</p>\n",
       "</div>"
      ],
      "text/plain": [
       "      user_id      month    gb_used\n",
       "0        1000 2018-05-01   2.200674\n",
       "1        1000 2018-06-01  22.689229\n",
       "2        1000 2018-07-01  13.675430\n",
       "3        1000 2018-08-01  13.726494\n",
       "4        1000 2018-09-01  14.227451\n",
       "...       ...        ...        ...\n",
       "3198     1498 2018-10-01  20.097031\n",
       "3199     1499 2018-09-01   1.802490\n",
       "3200     1499 2018-10-01  17.371592\n",
       "3201     1499 2018-11-01  17.542295\n",
       "3202     1499 2018-12-01  12.749590\n",
       "\n",
       "[3203 rows x 3 columns]"
      ]
     },
     "execution_count": 20,
     "metadata": {},
     "output_type": "execute_result"
    }
   ],
   "source": [
    "internet_grouped = internet_data.pivot_table(index=['user_id','month'], values='gb_used', aggfunc='sum').reset_index()\n",
    "internet_grouped"
   ]
  },
  {
   "cell_type": "markdown",
   "metadata": {},
   "source": [
    "Вот здесь мы уже получили суммарный объем трафика для каждого уникального пользователя в разбивке по месяцам. Теперь можно округлять в большую сторону в соответствии с правилами оператора связи. "
   ]
  },
  {
   "cell_type": "code",
   "execution_count": 21,
   "metadata": {},
   "outputs": [
    {
     "data": {
      "text/html": [
       "<div>\n",
       "<style scoped>\n",
       "    .dataframe tbody tr th:only-of-type {\n",
       "        vertical-align: middle;\n",
       "    }\n",
       "\n",
       "    .dataframe tbody tr th {\n",
       "        vertical-align: top;\n",
       "    }\n",
       "\n",
       "    .dataframe thead th {\n",
       "        text-align: right;\n",
       "    }\n",
       "</style>\n",
       "<table border=\"1\" class=\"dataframe\">\n",
       "  <thead>\n",
       "    <tr style=\"text-align: right;\">\n",
       "      <th></th>\n",
       "      <th>user_id</th>\n",
       "      <th>month</th>\n",
       "      <th>gb_used</th>\n",
       "    </tr>\n",
       "  </thead>\n",
       "  <tbody>\n",
       "    <tr>\n",
       "      <th>0</th>\n",
       "      <td>1000</td>\n",
       "      <td>2018-05-01</td>\n",
       "      <td>3.0</td>\n",
       "    </tr>\n",
       "    <tr>\n",
       "      <th>1</th>\n",
       "      <td>1000</td>\n",
       "      <td>2018-06-01</td>\n",
       "      <td>23.0</td>\n",
       "    </tr>\n",
       "    <tr>\n",
       "      <th>2</th>\n",
       "      <td>1000</td>\n",
       "      <td>2018-07-01</td>\n",
       "      <td>14.0</td>\n",
       "    </tr>\n",
       "    <tr>\n",
       "      <th>3</th>\n",
       "      <td>1000</td>\n",
       "      <td>2018-08-01</td>\n",
       "      <td>14.0</td>\n",
       "    </tr>\n",
       "    <tr>\n",
       "      <th>4</th>\n",
       "      <td>1000</td>\n",
       "      <td>2018-09-01</td>\n",
       "      <td>15.0</td>\n",
       "    </tr>\n",
       "  </tbody>\n",
       "</table>\n",
       "</div>"
      ],
      "text/plain": [
       "   user_id      month  gb_used\n",
       "0     1000 2018-05-01      3.0\n",
       "1     1000 2018-06-01     23.0\n",
       "2     1000 2018-07-01     14.0\n",
       "3     1000 2018-08-01     14.0\n",
       "4     1000 2018-09-01     15.0"
      ]
     },
     "execution_count": 21,
     "metadata": {},
     "output_type": "execute_result"
    }
   ],
   "source": [
    "internet_grouped['gb_used'] = np.ceil(internet_grouped['gb_used'])\n",
    "internet_grouped.head()"
   ]
  },
  {
   "cell_type": "markdown",
   "metadata": {
    "id": "VUa9Fgho7LDl"
   },
   "source": [
    "### Объединение таблиц\n",
    "Далее расчитаем помесячную выручку с каждого пользователя. \n",
    "\n",
    "Чтобы это сделать проще и быстрее, мне кажется, что стоит объединить 3 таблицы (`calls`, `internet` и `messages`) в одну. После буду считать выручку. \n",
    "\n",
    "Поскольку, самый объемный датафрейм - это данные по звонкам, то этот датафрейм и ляжет в основу совокупной таблицы данных. Если по каким-то user_id будут отсутствовать данные при объединении, то это означает, что пользователь просто не пользовался этой услугой.\n",
    "\n",
    "Общий датафрейм я назову переменной `full_data`. "
   ]
  },
  {
   "cell_type": "markdown",
   "metadata": {},
   "source": [
    "Объединять будет в несколько этапов. \n",
    "1. Добавим столбец из данных по смс. "
   ]
  },
  {
   "cell_type": "code",
   "execution_count": 22,
   "metadata": {},
   "outputs": [
    {
     "data": {
      "text/html": [
       "<div>\n",
       "<style scoped>\n",
       "    .dataframe tbody tr th:only-of-type {\n",
       "        vertical-align: middle;\n",
       "    }\n",
       "\n",
       "    .dataframe tbody tr th {\n",
       "        vertical-align: top;\n",
       "    }\n",
       "\n",
       "    .dataframe thead th {\n",
       "        text-align: right;\n",
       "    }\n",
       "</style>\n",
       "<table border=\"1\" class=\"dataframe\">\n",
       "  <thead>\n",
       "    <tr style=\"text-align: right;\">\n",
       "      <th></th>\n",
       "      <th>user_id</th>\n",
       "      <th>month</th>\n",
       "      <th>count_calls</th>\n",
       "      <th>sum_minutes_spent</th>\n",
       "      <th>message_count</th>\n",
       "    </tr>\n",
       "  </thead>\n",
       "  <tbody>\n",
       "    <tr>\n",
       "      <th>0</th>\n",
       "      <td>1000</td>\n",
       "      <td>2018-05-01</td>\n",
       "      <td>22.0</td>\n",
       "      <td>159.0</td>\n",
       "      <td>22.0</td>\n",
       "    </tr>\n",
       "    <tr>\n",
       "      <th>1</th>\n",
       "      <td>1000</td>\n",
       "      <td>2018-06-01</td>\n",
       "      <td>43.0</td>\n",
       "      <td>172.0</td>\n",
       "      <td>60.0</td>\n",
       "    </tr>\n",
       "    <tr>\n",
       "      <th>2</th>\n",
       "      <td>1000</td>\n",
       "      <td>2018-07-01</td>\n",
       "      <td>47.0</td>\n",
       "      <td>340.0</td>\n",
       "      <td>75.0</td>\n",
       "    </tr>\n",
       "    <tr>\n",
       "      <th>3</th>\n",
       "      <td>1000</td>\n",
       "      <td>2018-08-01</td>\n",
       "      <td>52.0</td>\n",
       "      <td>408.0</td>\n",
       "      <td>81.0</td>\n",
       "    </tr>\n",
       "    <tr>\n",
       "      <th>4</th>\n",
       "      <td>1000</td>\n",
       "      <td>2018-09-01</td>\n",
       "      <td>58.0</td>\n",
       "      <td>466.0</td>\n",
       "      <td>57.0</td>\n",
       "    </tr>\n",
       "    <tr>\n",
       "      <th>...</th>\n",
       "      <td>...</td>\n",
       "      <td>...</td>\n",
       "      <td>...</td>\n",
       "      <td>...</td>\n",
       "      <td>...</td>\n",
       "    </tr>\n",
       "    <tr>\n",
       "      <th>3208</th>\n",
       "      <td>1489</td>\n",
       "      <td>2018-08-01</td>\n",
       "      <td>NaN</td>\n",
       "      <td>NaN</td>\n",
       "      <td>17.0</td>\n",
       "    </tr>\n",
       "    <tr>\n",
       "      <th>3209</th>\n",
       "      <td>1489</td>\n",
       "      <td>2018-09-01</td>\n",
       "      <td>NaN</td>\n",
       "      <td>NaN</td>\n",
       "      <td>32.0</td>\n",
       "    </tr>\n",
       "    <tr>\n",
       "      <th>3210</th>\n",
       "      <td>1489</td>\n",
       "      <td>2018-10-01</td>\n",
       "      <td>NaN</td>\n",
       "      <td>NaN</td>\n",
       "      <td>21.0</td>\n",
       "    </tr>\n",
       "    <tr>\n",
       "      <th>3211</th>\n",
       "      <td>1489</td>\n",
       "      <td>2018-11-01</td>\n",
       "      <td>NaN</td>\n",
       "      <td>NaN</td>\n",
       "      <td>20.0</td>\n",
       "    </tr>\n",
       "    <tr>\n",
       "      <th>3212</th>\n",
       "      <td>1489</td>\n",
       "      <td>2018-12-01</td>\n",
       "      <td>NaN</td>\n",
       "      <td>NaN</td>\n",
       "      <td>35.0</td>\n",
       "    </tr>\n",
       "  </tbody>\n",
       "</table>\n",
       "<p>3213 rows × 5 columns</p>\n",
       "</div>"
      ],
      "text/plain": [
       "      user_id      month  count_calls  sum_minutes_spent  message_count\n",
       "0        1000 2018-05-01         22.0              159.0           22.0\n",
       "1        1000 2018-06-01         43.0              172.0           60.0\n",
       "2        1000 2018-07-01         47.0              340.0           75.0\n",
       "3        1000 2018-08-01         52.0              408.0           81.0\n",
       "4        1000 2018-09-01         58.0              466.0           57.0\n",
       "...       ...        ...          ...                ...            ...\n",
       "3208     1489 2018-08-01          NaN                NaN           17.0\n",
       "3209     1489 2018-09-01          NaN                NaN           32.0\n",
       "3210     1489 2018-10-01          NaN                NaN           21.0\n",
       "3211     1489 2018-11-01          NaN                NaN           20.0\n",
       "3212     1489 2018-12-01          NaN                NaN           35.0\n",
       "\n",
       "[3213 rows x 5 columns]"
      ]
     },
     "execution_count": 22,
     "metadata": {},
     "output_type": "execute_result"
    }
   ],
   "source": [
    "full_data = calls_grouped.merge(messages_grouped, on=['user_id', 'month'], how='outer')\n",
    "full_data"
   ]
  },
  {
   "cell_type": "markdown",
   "metadata": {},
   "source": [
    "Теперь данные из датафрейма по интернет-трафику."
   ]
  },
  {
   "cell_type": "code",
   "execution_count": 23,
   "metadata": {},
   "outputs": [
    {
     "data": {
      "text/html": [
       "<div>\n",
       "<style scoped>\n",
       "    .dataframe tbody tr th:only-of-type {\n",
       "        vertical-align: middle;\n",
       "    }\n",
       "\n",
       "    .dataframe tbody tr th {\n",
       "        vertical-align: top;\n",
       "    }\n",
       "\n",
       "    .dataframe thead th {\n",
       "        text-align: right;\n",
       "    }\n",
       "</style>\n",
       "<table border=\"1\" class=\"dataframe\">\n",
       "  <thead>\n",
       "    <tr style=\"text-align: right;\">\n",
       "      <th></th>\n",
       "      <th>user_id</th>\n",
       "      <th>month</th>\n",
       "      <th>count_calls</th>\n",
       "      <th>sum_minutes_spent</th>\n",
       "      <th>message_count</th>\n",
       "      <th>gb_used</th>\n",
       "    </tr>\n",
       "  </thead>\n",
       "  <tbody>\n",
       "    <tr>\n",
       "      <th>0</th>\n",
       "      <td>1000</td>\n",
       "      <td>2018-05-01</td>\n",
       "      <td>22.0</td>\n",
       "      <td>159.0</td>\n",
       "      <td>22.0</td>\n",
       "      <td>3.0</td>\n",
       "    </tr>\n",
       "    <tr>\n",
       "      <th>1</th>\n",
       "      <td>1000</td>\n",
       "      <td>2018-06-01</td>\n",
       "      <td>43.0</td>\n",
       "      <td>172.0</td>\n",
       "      <td>60.0</td>\n",
       "      <td>23.0</td>\n",
       "    </tr>\n",
       "    <tr>\n",
       "      <th>2</th>\n",
       "      <td>1000</td>\n",
       "      <td>2018-07-01</td>\n",
       "      <td>47.0</td>\n",
       "      <td>340.0</td>\n",
       "      <td>75.0</td>\n",
       "      <td>14.0</td>\n",
       "    </tr>\n",
       "    <tr>\n",
       "      <th>3</th>\n",
       "      <td>1000</td>\n",
       "      <td>2018-08-01</td>\n",
       "      <td>52.0</td>\n",
       "      <td>408.0</td>\n",
       "      <td>81.0</td>\n",
       "      <td>14.0</td>\n",
       "    </tr>\n",
       "    <tr>\n",
       "      <th>4</th>\n",
       "      <td>1000</td>\n",
       "      <td>2018-09-01</td>\n",
       "      <td>58.0</td>\n",
       "      <td>466.0</td>\n",
       "      <td>57.0</td>\n",
       "      <td>15.0</td>\n",
       "    </tr>\n",
       "    <tr>\n",
       "      <th>...</th>\n",
       "      <td>...</td>\n",
       "      <td>...</td>\n",
       "      <td>...</td>\n",
       "      <td>...</td>\n",
       "      <td>...</td>\n",
       "      <td>...</td>\n",
       "    </tr>\n",
       "    <tr>\n",
       "      <th>3209</th>\n",
       "      <td>1489</td>\n",
       "      <td>2018-09-01</td>\n",
       "      <td>NaN</td>\n",
       "      <td>NaN</td>\n",
       "      <td>32.0</td>\n",
       "      <td>17.0</td>\n",
       "    </tr>\n",
       "    <tr>\n",
       "      <th>3210</th>\n",
       "      <td>1489</td>\n",
       "      <td>2018-10-01</td>\n",
       "      <td>NaN</td>\n",
       "      <td>NaN</td>\n",
       "      <td>21.0</td>\n",
       "      <td>20.0</td>\n",
       "    </tr>\n",
       "    <tr>\n",
       "      <th>3211</th>\n",
       "      <td>1489</td>\n",
       "      <td>2018-11-01</td>\n",
       "      <td>NaN</td>\n",
       "      <td>NaN</td>\n",
       "      <td>20.0</td>\n",
       "      <td>18.0</td>\n",
       "    </tr>\n",
       "    <tr>\n",
       "      <th>3212</th>\n",
       "      <td>1489</td>\n",
       "      <td>2018-12-01</td>\n",
       "      <td>NaN</td>\n",
       "      <td>NaN</td>\n",
       "      <td>35.0</td>\n",
       "      <td>17.0</td>\n",
       "    </tr>\n",
       "    <tr>\n",
       "      <th>3213</th>\n",
       "      <td>1476</td>\n",
       "      <td>2018-04-01</td>\n",
       "      <td>NaN</td>\n",
       "      <td>NaN</td>\n",
       "      <td>NaN</td>\n",
       "      <td>1.0</td>\n",
       "    </tr>\n",
       "  </tbody>\n",
       "</table>\n",
       "<p>3214 rows × 6 columns</p>\n",
       "</div>"
      ],
      "text/plain": [
       "      user_id      month  count_calls  sum_minutes_spent  message_count  \\\n",
       "0        1000 2018-05-01         22.0              159.0           22.0   \n",
       "1        1000 2018-06-01         43.0              172.0           60.0   \n",
       "2        1000 2018-07-01         47.0              340.0           75.0   \n",
       "3        1000 2018-08-01         52.0              408.0           81.0   \n",
       "4        1000 2018-09-01         58.0              466.0           57.0   \n",
       "...       ...        ...          ...                ...            ...   \n",
       "3209     1489 2018-09-01          NaN                NaN           32.0   \n",
       "3210     1489 2018-10-01          NaN                NaN           21.0   \n",
       "3211     1489 2018-11-01          NaN                NaN           20.0   \n",
       "3212     1489 2018-12-01          NaN                NaN           35.0   \n",
       "3213     1476 2018-04-01          NaN                NaN            NaN   \n",
       "\n",
       "      gb_used  \n",
       "0         3.0  \n",
       "1        23.0  \n",
       "2        14.0  \n",
       "3        14.0  \n",
       "4        15.0  \n",
       "...       ...  \n",
       "3209     17.0  \n",
       "3210     20.0  \n",
       "3211     18.0  \n",
       "3212     17.0  \n",
       "3213      1.0  \n",
       "\n",
       "[3214 rows x 6 columns]"
      ]
     },
     "execution_count": 23,
     "metadata": {},
     "output_type": "execute_result"
    }
   ],
   "source": [
    "full_data = full_data.merge(internet_grouped, on=['user_id', 'month'], how='outer')\n",
    "full_data"
   ]
  },
  {
   "cell_type": "markdown",
   "metadata": {},
   "source": [
    "Подтянем тарифы по `user_id`, чтобы было удобно дальше проводить расчеты. "
   ]
  },
  {
   "cell_type": "code",
   "execution_count": 24,
   "metadata": {},
   "outputs": [
    {
     "data": {
      "text/html": [
       "<div>\n",
       "<style scoped>\n",
       "    .dataframe tbody tr th:only-of-type {\n",
       "        vertical-align: middle;\n",
       "    }\n",
       "\n",
       "    .dataframe tbody tr th {\n",
       "        vertical-align: top;\n",
       "    }\n",
       "\n",
       "    .dataframe thead th {\n",
       "        text-align: right;\n",
       "    }\n",
       "</style>\n",
       "<table border=\"1\" class=\"dataframe\">\n",
       "  <thead>\n",
       "    <tr style=\"text-align: right;\">\n",
       "      <th></th>\n",
       "      <th>user_id</th>\n",
       "      <th>month</th>\n",
       "      <th>count_calls</th>\n",
       "      <th>sum_minutes_spent</th>\n",
       "      <th>message_count</th>\n",
       "      <th>gb_used</th>\n",
       "      <th>age</th>\n",
       "      <th>churn_date</th>\n",
       "      <th>city</th>\n",
       "      <th>first_name</th>\n",
       "      <th>last_name</th>\n",
       "      <th>reg_date</th>\n",
       "      <th>tariff</th>\n",
       "    </tr>\n",
       "  </thead>\n",
       "  <tbody>\n",
       "    <tr>\n",
       "      <th>0</th>\n",
       "      <td>1000</td>\n",
       "      <td>2018-05-01</td>\n",
       "      <td>22.0</td>\n",
       "      <td>159.0</td>\n",
       "      <td>22.0</td>\n",
       "      <td>3.0</td>\n",
       "      <td>52</td>\n",
       "      <td>NaN</td>\n",
       "      <td>Краснодар</td>\n",
       "      <td>Рафаил</td>\n",
       "      <td>Верещагин</td>\n",
       "      <td>2018-05-25</td>\n",
       "      <td>ultra</td>\n",
       "    </tr>\n",
       "    <tr>\n",
       "      <th>1</th>\n",
       "      <td>1000</td>\n",
       "      <td>2018-06-01</td>\n",
       "      <td>43.0</td>\n",
       "      <td>172.0</td>\n",
       "      <td>60.0</td>\n",
       "      <td>23.0</td>\n",
       "      <td>52</td>\n",
       "      <td>NaN</td>\n",
       "      <td>Краснодар</td>\n",
       "      <td>Рафаил</td>\n",
       "      <td>Верещагин</td>\n",
       "      <td>2018-05-25</td>\n",
       "      <td>ultra</td>\n",
       "    </tr>\n",
       "    <tr>\n",
       "      <th>2</th>\n",
       "      <td>1000</td>\n",
       "      <td>2018-07-01</td>\n",
       "      <td>47.0</td>\n",
       "      <td>340.0</td>\n",
       "      <td>75.0</td>\n",
       "      <td>14.0</td>\n",
       "      <td>52</td>\n",
       "      <td>NaN</td>\n",
       "      <td>Краснодар</td>\n",
       "      <td>Рафаил</td>\n",
       "      <td>Верещагин</td>\n",
       "      <td>2018-05-25</td>\n",
       "      <td>ultra</td>\n",
       "    </tr>\n",
       "    <tr>\n",
       "      <th>3</th>\n",
       "      <td>1000</td>\n",
       "      <td>2018-08-01</td>\n",
       "      <td>52.0</td>\n",
       "      <td>408.0</td>\n",
       "      <td>81.0</td>\n",
       "      <td>14.0</td>\n",
       "      <td>52</td>\n",
       "      <td>NaN</td>\n",
       "      <td>Краснодар</td>\n",
       "      <td>Рафаил</td>\n",
       "      <td>Верещагин</td>\n",
       "      <td>2018-05-25</td>\n",
       "      <td>ultra</td>\n",
       "    </tr>\n",
       "    <tr>\n",
       "      <th>4</th>\n",
       "      <td>1000</td>\n",
       "      <td>2018-09-01</td>\n",
       "      <td>58.0</td>\n",
       "      <td>466.0</td>\n",
       "      <td>57.0</td>\n",
       "      <td>15.0</td>\n",
       "      <td>52</td>\n",
       "      <td>NaN</td>\n",
       "      <td>Краснодар</td>\n",
       "      <td>Рафаил</td>\n",
       "      <td>Верещагин</td>\n",
       "      <td>2018-05-25</td>\n",
       "      <td>ultra</td>\n",
       "    </tr>\n",
       "    <tr>\n",
       "      <th>...</th>\n",
       "      <td>...</td>\n",
       "      <td>...</td>\n",
       "      <td>...</td>\n",
       "      <td>...</td>\n",
       "      <td>...</td>\n",
       "      <td>...</td>\n",
       "      <td>...</td>\n",
       "      <td>...</td>\n",
       "      <td>...</td>\n",
       "      <td>...</td>\n",
       "      <td>...</td>\n",
       "      <td>...</td>\n",
       "      <td>...</td>\n",
       "    </tr>\n",
       "    <tr>\n",
       "      <th>3209</th>\n",
       "      <td>1489</td>\n",
       "      <td>2018-09-01</td>\n",
       "      <td>NaN</td>\n",
       "      <td>NaN</td>\n",
       "      <td>32.0</td>\n",
       "      <td>17.0</td>\n",
       "      <td>35</td>\n",
       "      <td>NaN</td>\n",
       "      <td>Санкт-Петербург</td>\n",
       "      <td>Павел</td>\n",
       "      <td>Гончаров</td>\n",
       "      <td>2018-08-15</td>\n",
       "      <td>smart</td>\n",
       "    </tr>\n",
       "    <tr>\n",
       "      <th>3210</th>\n",
       "      <td>1489</td>\n",
       "      <td>2018-10-01</td>\n",
       "      <td>NaN</td>\n",
       "      <td>NaN</td>\n",
       "      <td>21.0</td>\n",
       "      <td>20.0</td>\n",
       "      <td>35</td>\n",
       "      <td>NaN</td>\n",
       "      <td>Санкт-Петербург</td>\n",
       "      <td>Павел</td>\n",
       "      <td>Гончаров</td>\n",
       "      <td>2018-08-15</td>\n",
       "      <td>smart</td>\n",
       "    </tr>\n",
       "    <tr>\n",
       "      <th>3211</th>\n",
       "      <td>1489</td>\n",
       "      <td>2018-11-01</td>\n",
       "      <td>NaN</td>\n",
       "      <td>NaN</td>\n",
       "      <td>20.0</td>\n",
       "      <td>18.0</td>\n",
       "      <td>35</td>\n",
       "      <td>NaN</td>\n",
       "      <td>Санкт-Петербург</td>\n",
       "      <td>Павел</td>\n",
       "      <td>Гончаров</td>\n",
       "      <td>2018-08-15</td>\n",
       "      <td>smart</td>\n",
       "    </tr>\n",
       "    <tr>\n",
       "      <th>3212</th>\n",
       "      <td>1489</td>\n",
       "      <td>2018-12-01</td>\n",
       "      <td>NaN</td>\n",
       "      <td>NaN</td>\n",
       "      <td>35.0</td>\n",
       "      <td>17.0</td>\n",
       "      <td>35</td>\n",
       "      <td>NaN</td>\n",
       "      <td>Санкт-Петербург</td>\n",
       "      <td>Павел</td>\n",
       "      <td>Гончаров</td>\n",
       "      <td>2018-08-15</td>\n",
       "      <td>smart</td>\n",
       "    </tr>\n",
       "    <tr>\n",
       "      <th>3213</th>\n",
       "      <td>1476</td>\n",
       "      <td>2018-04-01</td>\n",
       "      <td>NaN</td>\n",
       "      <td>NaN</td>\n",
       "      <td>NaN</td>\n",
       "      <td>1.0</td>\n",
       "      <td>50</td>\n",
       "      <td>NaN</td>\n",
       "      <td>Москва</td>\n",
       "      <td>Валентина</td>\n",
       "      <td>Семенова</td>\n",
       "      <td>2018-04-30</td>\n",
       "      <td>ultra</td>\n",
       "    </tr>\n",
       "  </tbody>\n",
       "</table>\n",
       "<p>3214 rows × 13 columns</p>\n",
       "</div>"
      ],
      "text/plain": [
       "      user_id      month  count_calls  sum_minutes_spent  message_count  \\\n",
       "0        1000 2018-05-01         22.0              159.0           22.0   \n",
       "1        1000 2018-06-01         43.0              172.0           60.0   \n",
       "2        1000 2018-07-01         47.0              340.0           75.0   \n",
       "3        1000 2018-08-01         52.0              408.0           81.0   \n",
       "4        1000 2018-09-01         58.0              466.0           57.0   \n",
       "...       ...        ...          ...                ...            ...   \n",
       "3209     1489 2018-09-01          NaN                NaN           32.0   \n",
       "3210     1489 2018-10-01          NaN                NaN           21.0   \n",
       "3211     1489 2018-11-01          NaN                NaN           20.0   \n",
       "3212     1489 2018-12-01          NaN                NaN           35.0   \n",
       "3213     1476 2018-04-01          NaN                NaN            NaN   \n",
       "\n",
       "      gb_used  age churn_date             city first_name  last_name  \\\n",
       "0         3.0   52        NaN        Краснодар     Рафаил  Верещагин   \n",
       "1        23.0   52        NaN        Краснодар     Рафаил  Верещагин   \n",
       "2        14.0   52        NaN        Краснодар     Рафаил  Верещагин   \n",
       "3        14.0   52        NaN        Краснодар     Рафаил  Верещагин   \n",
       "4        15.0   52        NaN        Краснодар     Рафаил  Верещагин   \n",
       "...       ...  ...        ...              ...        ...        ...   \n",
       "3209     17.0   35        NaN  Санкт-Петербург      Павел   Гончаров   \n",
       "3210     20.0   35        NaN  Санкт-Петербург      Павел   Гончаров   \n",
       "3211     18.0   35        NaN  Санкт-Петербург      Павел   Гончаров   \n",
       "3212     17.0   35        NaN  Санкт-Петербург      Павел   Гончаров   \n",
       "3213      1.0   50        NaN           Москва  Валентина   Семенова   \n",
       "\n",
       "       reg_date tariff  \n",
       "0    2018-05-25  ultra  \n",
       "1    2018-05-25  ultra  \n",
       "2    2018-05-25  ultra  \n",
       "3    2018-05-25  ultra  \n",
       "4    2018-05-25  ultra  \n",
       "...         ...    ...  \n",
       "3209 2018-08-15  smart  \n",
       "3210 2018-08-15  smart  \n",
       "3211 2018-08-15  smart  \n",
       "3212 2018-08-15  smart  \n",
       "3213 2018-04-30  ultra  \n",
       "\n",
       "[3214 rows x 13 columns]"
      ]
     },
     "execution_count": 24,
     "metadata": {},
     "output_type": "execute_result"
    }
   ],
   "source": [
    "full_data = full_data.merge(users_data, on='user_id', how='left')\n",
    "full_data"
   ]
  },
  {
   "cell_type": "code",
   "execution_count": 25,
   "metadata": {},
   "outputs": [
    {
     "data": {
      "text/plain": [
       "498"
      ]
     },
     "execution_count": 25,
     "metadata": {},
     "output_type": "execute_result"
    }
   ],
   "source": [
    "full_data['user_id'].nunique()"
   ]
  },
  {
   "cell_type": "markdown",
   "metadata": {},
   "source": [
    "Наконец, подтянем условия тарифного плана в общий датасет."
   ]
  },
  {
   "cell_type": "code",
   "execution_count": 26,
   "metadata": {},
   "outputs": [
    {
     "data": {
      "text/html": [
       "<div>\n",
       "<style scoped>\n",
       "    .dataframe tbody tr th:only-of-type {\n",
       "        vertical-align: middle;\n",
       "    }\n",
       "\n",
       "    .dataframe tbody tr th {\n",
       "        vertical-align: top;\n",
       "    }\n",
       "\n",
       "    .dataframe thead th {\n",
       "        text-align: right;\n",
       "    }\n",
       "</style>\n",
       "<table border=\"1\" class=\"dataframe\">\n",
       "  <thead>\n",
       "    <tr style=\"text-align: right;\">\n",
       "      <th></th>\n",
       "      <th>user_id</th>\n",
       "      <th>month</th>\n",
       "      <th>count_calls</th>\n",
       "      <th>sum_minutes_spent</th>\n",
       "      <th>message_count</th>\n",
       "      <th>gb_used</th>\n",
       "      <th>age</th>\n",
       "      <th>churn_date</th>\n",
       "      <th>city</th>\n",
       "      <th>first_name</th>\n",
       "      <th>last_name</th>\n",
       "      <th>reg_date</th>\n",
       "      <th>tariff</th>\n",
       "      <th>messages_included</th>\n",
       "      <th>mb_per_month_included</th>\n",
       "      <th>minutes_included</th>\n",
       "      <th>rub_monthly_fee</th>\n",
       "      <th>rub_per_gb</th>\n",
       "      <th>rub_per_message</th>\n",
       "      <th>rub_per_minute</th>\n",
       "    </tr>\n",
       "  </thead>\n",
       "  <tbody>\n",
       "    <tr>\n",
       "      <th>0</th>\n",
       "      <td>1000</td>\n",
       "      <td>2018-05-01</td>\n",
       "      <td>22.0</td>\n",
       "      <td>159.0</td>\n",
       "      <td>22.0</td>\n",
       "      <td>3.0</td>\n",
       "      <td>52</td>\n",
       "      <td>NaN</td>\n",
       "      <td>Краснодар</td>\n",
       "      <td>Рафаил</td>\n",
       "      <td>Верещагин</td>\n",
       "      <td>2018-05-25</td>\n",
       "      <td>ultra</td>\n",
       "      <td>1000</td>\n",
       "      <td>30720</td>\n",
       "      <td>3000</td>\n",
       "      <td>1950</td>\n",
       "      <td>150</td>\n",
       "      <td>1</td>\n",
       "      <td>1</td>\n",
       "    </tr>\n",
       "    <tr>\n",
       "      <th>1</th>\n",
       "      <td>1000</td>\n",
       "      <td>2018-06-01</td>\n",
       "      <td>43.0</td>\n",
       "      <td>172.0</td>\n",
       "      <td>60.0</td>\n",
       "      <td>23.0</td>\n",
       "      <td>52</td>\n",
       "      <td>NaN</td>\n",
       "      <td>Краснодар</td>\n",
       "      <td>Рафаил</td>\n",
       "      <td>Верещагин</td>\n",
       "      <td>2018-05-25</td>\n",
       "      <td>ultra</td>\n",
       "      <td>1000</td>\n",
       "      <td>30720</td>\n",
       "      <td>3000</td>\n",
       "      <td>1950</td>\n",
       "      <td>150</td>\n",
       "      <td>1</td>\n",
       "      <td>1</td>\n",
       "    </tr>\n",
       "    <tr>\n",
       "      <th>2</th>\n",
       "      <td>1000</td>\n",
       "      <td>2018-07-01</td>\n",
       "      <td>47.0</td>\n",
       "      <td>340.0</td>\n",
       "      <td>75.0</td>\n",
       "      <td>14.0</td>\n",
       "      <td>52</td>\n",
       "      <td>NaN</td>\n",
       "      <td>Краснодар</td>\n",
       "      <td>Рафаил</td>\n",
       "      <td>Верещагин</td>\n",
       "      <td>2018-05-25</td>\n",
       "      <td>ultra</td>\n",
       "      <td>1000</td>\n",
       "      <td>30720</td>\n",
       "      <td>3000</td>\n",
       "      <td>1950</td>\n",
       "      <td>150</td>\n",
       "      <td>1</td>\n",
       "      <td>1</td>\n",
       "    </tr>\n",
       "    <tr>\n",
       "      <th>3</th>\n",
       "      <td>1000</td>\n",
       "      <td>2018-08-01</td>\n",
       "      <td>52.0</td>\n",
       "      <td>408.0</td>\n",
       "      <td>81.0</td>\n",
       "      <td>14.0</td>\n",
       "      <td>52</td>\n",
       "      <td>NaN</td>\n",
       "      <td>Краснодар</td>\n",
       "      <td>Рафаил</td>\n",
       "      <td>Верещагин</td>\n",
       "      <td>2018-05-25</td>\n",
       "      <td>ultra</td>\n",
       "      <td>1000</td>\n",
       "      <td>30720</td>\n",
       "      <td>3000</td>\n",
       "      <td>1950</td>\n",
       "      <td>150</td>\n",
       "      <td>1</td>\n",
       "      <td>1</td>\n",
       "    </tr>\n",
       "    <tr>\n",
       "      <th>4</th>\n",
       "      <td>1000</td>\n",
       "      <td>2018-09-01</td>\n",
       "      <td>58.0</td>\n",
       "      <td>466.0</td>\n",
       "      <td>57.0</td>\n",
       "      <td>15.0</td>\n",
       "      <td>52</td>\n",
       "      <td>NaN</td>\n",
       "      <td>Краснодар</td>\n",
       "      <td>Рафаил</td>\n",
       "      <td>Верещагин</td>\n",
       "      <td>2018-05-25</td>\n",
       "      <td>ultra</td>\n",
       "      <td>1000</td>\n",
       "      <td>30720</td>\n",
       "      <td>3000</td>\n",
       "      <td>1950</td>\n",
       "      <td>150</td>\n",
       "      <td>1</td>\n",
       "      <td>1</td>\n",
       "    </tr>\n",
       "    <tr>\n",
       "      <th>...</th>\n",
       "      <td>...</td>\n",
       "      <td>...</td>\n",
       "      <td>...</td>\n",
       "      <td>...</td>\n",
       "      <td>...</td>\n",
       "      <td>...</td>\n",
       "      <td>...</td>\n",
       "      <td>...</td>\n",
       "      <td>...</td>\n",
       "      <td>...</td>\n",
       "      <td>...</td>\n",
       "      <td>...</td>\n",
       "      <td>...</td>\n",
       "      <td>...</td>\n",
       "      <td>...</td>\n",
       "      <td>...</td>\n",
       "      <td>...</td>\n",
       "      <td>...</td>\n",
       "      <td>...</td>\n",
       "      <td>...</td>\n",
       "    </tr>\n",
       "    <tr>\n",
       "      <th>3209</th>\n",
       "      <td>1489</td>\n",
       "      <td>2018-08-01</td>\n",
       "      <td>NaN</td>\n",
       "      <td>NaN</td>\n",
       "      <td>17.0</td>\n",
       "      <td>11.0</td>\n",
       "      <td>35</td>\n",
       "      <td>NaN</td>\n",
       "      <td>Санкт-Петербург</td>\n",
       "      <td>Павел</td>\n",
       "      <td>Гончаров</td>\n",
       "      <td>2018-08-15</td>\n",
       "      <td>smart</td>\n",
       "      <td>50</td>\n",
       "      <td>15360</td>\n",
       "      <td>500</td>\n",
       "      <td>550</td>\n",
       "      <td>200</td>\n",
       "      <td>3</td>\n",
       "      <td>3</td>\n",
       "    </tr>\n",
       "    <tr>\n",
       "      <th>3210</th>\n",
       "      <td>1489</td>\n",
       "      <td>2018-09-01</td>\n",
       "      <td>NaN</td>\n",
       "      <td>NaN</td>\n",
       "      <td>32.0</td>\n",
       "      <td>17.0</td>\n",
       "      <td>35</td>\n",
       "      <td>NaN</td>\n",
       "      <td>Санкт-Петербург</td>\n",
       "      <td>Павел</td>\n",
       "      <td>Гончаров</td>\n",
       "      <td>2018-08-15</td>\n",
       "      <td>smart</td>\n",
       "      <td>50</td>\n",
       "      <td>15360</td>\n",
       "      <td>500</td>\n",
       "      <td>550</td>\n",
       "      <td>200</td>\n",
       "      <td>3</td>\n",
       "      <td>3</td>\n",
       "    </tr>\n",
       "    <tr>\n",
       "      <th>3211</th>\n",
       "      <td>1489</td>\n",
       "      <td>2018-10-01</td>\n",
       "      <td>NaN</td>\n",
       "      <td>NaN</td>\n",
       "      <td>21.0</td>\n",
       "      <td>20.0</td>\n",
       "      <td>35</td>\n",
       "      <td>NaN</td>\n",
       "      <td>Санкт-Петербург</td>\n",
       "      <td>Павел</td>\n",
       "      <td>Гончаров</td>\n",
       "      <td>2018-08-15</td>\n",
       "      <td>smart</td>\n",
       "      <td>50</td>\n",
       "      <td>15360</td>\n",
       "      <td>500</td>\n",
       "      <td>550</td>\n",
       "      <td>200</td>\n",
       "      <td>3</td>\n",
       "      <td>3</td>\n",
       "    </tr>\n",
       "    <tr>\n",
       "      <th>3212</th>\n",
       "      <td>1489</td>\n",
       "      <td>2018-11-01</td>\n",
       "      <td>NaN</td>\n",
       "      <td>NaN</td>\n",
       "      <td>20.0</td>\n",
       "      <td>18.0</td>\n",
       "      <td>35</td>\n",
       "      <td>NaN</td>\n",
       "      <td>Санкт-Петербург</td>\n",
       "      <td>Павел</td>\n",
       "      <td>Гончаров</td>\n",
       "      <td>2018-08-15</td>\n",
       "      <td>smart</td>\n",
       "      <td>50</td>\n",
       "      <td>15360</td>\n",
       "      <td>500</td>\n",
       "      <td>550</td>\n",
       "      <td>200</td>\n",
       "      <td>3</td>\n",
       "      <td>3</td>\n",
       "    </tr>\n",
       "    <tr>\n",
       "      <th>3213</th>\n",
       "      <td>1489</td>\n",
       "      <td>2018-12-01</td>\n",
       "      <td>NaN</td>\n",
       "      <td>NaN</td>\n",
       "      <td>35.0</td>\n",
       "      <td>17.0</td>\n",
       "      <td>35</td>\n",
       "      <td>NaN</td>\n",
       "      <td>Санкт-Петербург</td>\n",
       "      <td>Павел</td>\n",
       "      <td>Гончаров</td>\n",
       "      <td>2018-08-15</td>\n",
       "      <td>smart</td>\n",
       "      <td>50</td>\n",
       "      <td>15360</td>\n",
       "      <td>500</td>\n",
       "      <td>550</td>\n",
       "      <td>200</td>\n",
       "      <td>3</td>\n",
       "      <td>3</td>\n",
       "    </tr>\n",
       "  </tbody>\n",
       "</table>\n",
       "<p>3214 rows × 20 columns</p>\n",
       "</div>"
      ],
      "text/plain": [
       "      user_id      month  count_calls  sum_minutes_spent  message_count  \\\n",
       "0        1000 2018-05-01         22.0              159.0           22.0   \n",
       "1        1000 2018-06-01         43.0              172.0           60.0   \n",
       "2        1000 2018-07-01         47.0              340.0           75.0   \n",
       "3        1000 2018-08-01         52.0              408.0           81.0   \n",
       "4        1000 2018-09-01         58.0              466.0           57.0   \n",
       "...       ...        ...          ...                ...            ...   \n",
       "3209     1489 2018-08-01          NaN                NaN           17.0   \n",
       "3210     1489 2018-09-01          NaN                NaN           32.0   \n",
       "3211     1489 2018-10-01          NaN                NaN           21.0   \n",
       "3212     1489 2018-11-01          NaN                NaN           20.0   \n",
       "3213     1489 2018-12-01          NaN                NaN           35.0   \n",
       "\n",
       "      gb_used  age churn_date             city first_name  last_name  \\\n",
       "0         3.0   52        NaN        Краснодар     Рафаил  Верещагин   \n",
       "1        23.0   52        NaN        Краснодар     Рафаил  Верещагин   \n",
       "2        14.0   52        NaN        Краснодар     Рафаил  Верещагин   \n",
       "3        14.0   52        NaN        Краснодар     Рафаил  Верещагин   \n",
       "4        15.0   52        NaN        Краснодар     Рафаил  Верещагин   \n",
       "...       ...  ...        ...              ...        ...        ...   \n",
       "3209     11.0   35        NaN  Санкт-Петербург      Павел   Гончаров   \n",
       "3210     17.0   35        NaN  Санкт-Петербург      Павел   Гончаров   \n",
       "3211     20.0   35        NaN  Санкт-Петербург      Павел   Гончаров   \n",
       "3212     18.0   35        NaN  Санкт-Петербург      Павел   Гончаров   \n",
       "3213     17.0   35        NaN  Санкт-Петербург      Павел   Гончаров   \n",
       "\n",
       "       reg_date tariff  messages_included  mb_per_month_included  \\\n",
       "0    2018-05-25  ultra               1000                  30720   \n",
       "1    2018-05-25  ultra               1000                  30720   \n",
       "2    2018-05-25  ultra               1000                  30720   \n",
       "3    2018-05-25  ultra               1000                  30720   \n",
       "4    2018-05-25  ultra               1000                  30720   \n",
       "...         ...    ...                ...                    ...   \n",
       "3209 2018-08-15  smart                 50                  15360   \n",
       "3210 2018-08-15  smart                 50                  15360   \n",
       "3211 2018-08-15  smart                 50                  15360   \n",
       "3212 2018-08-15  smart                 50                  15360   \n",
       "3213 2018-08-15  smart                 50                  15360   \n",
       "\n",
       "      minutes_included  rub_monthly_fee  rub_per_gb  rub_per_message  \\\n",
       "0                 3000             1950         150                1   \n",
       "1                 3000             1950         150                1   \n",
       "2                 3000             1950         150                1   \n",
       "3                 3000             1950         150                1   \n",
       "4                 3000             1950         150                1   \n",
       "...                ...              ...         ...              ...   \n",
       "3209               500              550         200                3   \n",
       "3210               500              550         200                3   \n",
       "3211               500              550         200                3   \n",
       "3212               500              550         200                3   \n",
       "3213               500              550         200                3   \n",
       "\n",
       "      rub_per_minute  \n",
       "0                  1  \n",
       "1                  1  \n",
       "2                  1  \n",
       "3                  1  \n",
       "4                  1  \n",
       "...              ...  \n",
       "3209               3  \n",
       "3210               3  \n",
       "3211               3  \n",
       "3212               3  \n",
       "3213               3  \n",
       "\n",
       "[3214 rows x 20 columns]"
      ]
     },
     "execution_count": 26,
     "metadata": {},
     "output_type": "execute_result"
    }
   ],
   "source": [
    "tariffs_data = tariffs_data.rename(columns={'tariff_name' : 'tariff'})\n",
    "full_data = full_data.merge(tariffs_data, on='tariff', how='outer')\n",
    "full_data"
   ]
  },
  {
   "cell_type": "markdown",
   "metadata": {},
   "source": [
    "### Обработка объединенного датафрейма"
   ]
  },
  {
   "cell_type": "code",
   "execution_count": 27,
   "metadata": {},
   "outputs": [],
   "source": [
    "full_data = full_data.drop(['count_calls', 'first_name', 'last_name'], axis=1)"
   ]
  },
  {
   "cell_type": "code",
   "execution_count": 28,
   "metadata": {},
   "outputs": [
    {
     "data": {
      "text/plain": [
       "user_id                     0\n",
       "month                       0\n",
       "sum_minutes_spent          40\n",
       "message_count             497\n",
       "gb_used                    11\n",
       "age                         0\n",
       "churn_date               3027\n",
       "city                        0\n",
       "reg_date                    0\n",
       "tariff                      0\n",
       "messages_included           0\n",
       "mb_per_month_included       0\n",
       "minutes_included            0\n",
       "rub_monthly_fee             0\n",
       "rub_per_gb                  0\n",
       "rub_per_message             0\n",
       "rub_per_minute              0\n",
       "dtype: int64"
      ]
     },
     "execution_count": 28,
     "metadata": {},
     "output_type": "execute_result"
    }
   ],
   "source": [
    "full_data.isna().sum()"
   ]
  },
  {
   "cell_type": "code",
   "execution_count": 29,
   "metadata": {},
   "outputs": [
    {
     "data": {
      "text/html": [
       "<div>\n",
       "<style scoped>\n",
       "    .dataframe tbody tr th:only-of-type {\n",
       "        vertical-align: middle;\n",
       "    }\n",
       "\n",
       "    .dataframe tbody tr th {\n",
       "        vertical-align: top;\n",
       "    }\n",
       "\n",
       "    .dataframe thead th {\n",
       "        text-align: right;\n",
       "    }\n",
       "</style>\n",
       "<table border=\"1\" class=\"dataframe\">\n",
       "  <thead>\n",
       "    <tr style=\"text-align: right;\">\n",
       "      <th></th>\n",
       "      <th>user_id</th>\n",
       "      <th>month</th>\n",
       "      <th>sum_minutes_spent</th>\n",
       "      <th>message_count</th>\n",
       "      <th>gb_used</th>\n",
       "      <th>age</th>\n",
       "      <th>churn_date</th>\n",
       "      <th>city</th>\n",
       "      <th>reg_date</th>\n",
       "      <th>tariff</th>\n",
       "      <th>messages_included</th>\n",
       "      <th>mb_per_month_included</th>\n",
       "      <th>minutes_included</th>\n",
       "      <th>rub_monthly_fee</th>\n",
       "      <th>rub_per_gb</th>\n",
       "      <th>rub_per_message</th>\n",
       "      <th>rub_per_minute</th>\n",
       "    </tr>\n",
       "  </thead>\n",
       "  <tbody>\n",
       "  </tbody>\n",
       "</table>\n",
       "</div>"
      ],
      "text/plain": [
       "Empty DataFrame\n",
       "Columns: [user_id, month, sum_minutes_spent, message_count, gb_used, age, churn_date, city, reg_date, tariff, messages_included, mb_per_month_included, minutes_included, rub_monthly_fee, rub_per_gb, rub_per_message, rub_per_minute]\n",
       "Index: []"
      ]
     },
     "execution_count": 29,
     "metadata": {},
     "output_type": "execute_result"
    }
   ],
   "source": [
    "full_data.loc[full_data['month'].isna() == True]"
   ]
  },
  {
   "cell_type": "markdown",
   "metadata": {},
   "source": [
    "Совсем нет никаких данных по этим двум строкам. Толку от них нет, поэтому избавлюсь от них и пойду дальше. "
   ]
  },
  {
   "cell_type": "code",
   "execution_count": 30,
   "metadata": {},
   "outputs": [],
   "source": [
    "full_data = full_data.dropna(subset=['month'])"
   ]
  },
  {
   "cell_type": "code",
   "execution_count": 31,
   "metadata": {},
   "outputs": [
    {
     "data": {
      "text/html": [
       "<div>\n",
       "<style scoped>\n",
       "    .dataframe tbody tr th:only-of-type {\n",
       "        vertical-align: middle;\n",
       "    }\n",
       "\n",
       "    .dataframe tbody tr th {\n",
       "        vertical-align: top;\n",
       "    }\n",
       "\n",
       "    .dataframe thead th {\n",
       "        text-align: right;\n",
       "    }\n",
       "</style>\n",
       "<table border=\"1\" class=\"dataframe\">\n",
       "  <thead>\n",
       "    <tr style=\"text-align: right;\">\n",
       "      <th></th>\n",
       "      <th>user_id</th>\n",
       "      <th>month</th>\n",
       "      <th>sum_minutes_spent</th>\n",
       "      <th>message_count</th>\n",
       "      <th>gb_used</th>\n",
       "      <th>age</th>\n",
       "      <th>churn_date</th>\n",
       "      <th>city</th>\n",
       "      <th>reg_date</th>\n",
       "      <th>tariff</th>\n",
       "      <th>messages_included</th>\n",
       "      <th>mb_per_month_included</th>\n",
       "      <th>minutes_included</th>\n",
       "      <th>rub_monthly_fee</th>\n",
       "      <th>rub_per_gb</th>\n",
       "      <th>rub_per_message</th>\n",
       "      <th>rub_per_minute</th>\n",
       "    </tr>\n",
       "  </thead>\n",
       "  <tbody>\n",
       "    <tr>\n",
       "      <th>951</th>\n",
       "      <td>1091</td>\n",
       "      <td>2018-05-01</td>\n",
       "      <td>NaN</td>\n",
       "      <td>30.0</td>\n",
       "      <td>11.0</td>\n",
       "      <td>36</td>\n",
       "      <td>NaN</td>\n",
       "      <td>Набережные Челны</td>\n",
       "      <td>2018-05-08</td>\n",
       "      <td>ultra</td>\n",
       "      <td>1000</td>\n",
       "      <td>30720</td>\n",
       "      <td>3000</td>\n",
       "      <td>1950</td>\n",
       "      <td>150</td>\n",
       "      <td>1</td>\n",
       "      <td>1</td>\n",
       "    </tr>\n",
       "    <tr>\n",
       "      <th>952</th>\n",
       "      <td>1091</td>\n",
       "      <td>2018-06-01</td>\n",
       "      <td>NaN</td>\n",
       "      <td>30.0</td>\n",
       "      <td>10.0</td>\n",
       "      <td>36</td>\n",
       "      <td>NaN</td>\n",
       "      <td>Набережные Челны</td>\n",
       "      <td>2018-05-08</td>\n",
       "      <td>ultra</td>\n",
       "      <td>1000</td>\n",
       "      <td>30720</td>\n",
       "      <td>3000</td>\n",
       "      <td>1950</td>\n",
       "      <td>150</td>\n",
       "      <td>1</td>\n",
       "      <td>1</td>\n",
       "    </tr>\n",
       "    <tr>\n",
       "      <th>953</th>\n",
       "      <td>1091</td>\n",
       "      <td>2018-07-01</td>\n",
       "      <td>NaN</td>\n",
       "      <td>35.0</td>\n",
       "      <td>17.0</td>\n",
       "      <td>36</td>\n",
       "      <td>NaN</td>\n",
       "      <td>Набережные Челны</td>\n",
       "      <td>2018-05-08</td>\n",
       "      <td>ultra</td>\n",
       "      <td>1000</td>\n",
       "      <td>30720</td>\n",
       "      <td>3000</td>\n",
       "      <td>1950</td>\n",
       "      <td>150</td>\n",
       "      <td>1</td>\n",
       "      <td>1</td>\n",
       "    </tr>\n",
       "    <tr>\n",
       "      <th>954</th>\n",
       "      <td>1091</td>\n",
       "      <td>2018-08-01</td>\n",
       "      <td>NaN</td>\n",
       "      <td>31.0</td>\n",
       "      <td>13.0</td>\n",
       "      <td>36</td>\n",
       "      <td>NaN</td>\n",
       "      <td>Набережные Челны</td>\n",
       "      <td>2018-05-08</td>\n",
       "      <td>ultra</td>\n",
       "      <td>1000</td>\n",
       "      <td>30720</td>\n",
       "      <td>3000</td>\n",
       "      <td>1950</td>\n",
       "      <td>150</td>\n",
       "      <td>1</td>\n",
       "      <td>1</td>\n",
       "    </tr>\n",
       "    <tr>\n",
       "      <th>955</th>\n",
       "      <td>1091</td>\n",
       "      <td>2018-09-01</td>\n",
       "      <td>NaN</td>\n",
       "      <td>32.0</td>\n",
       "      <td>17.0</td>\n",
       "      <td>36</td>\n",
       "      <td>NaN</td>\n",
       "      <td>Набережные Челны</td>\n",
       "      <td>2018-05-08</td>\n",
       "      <td>ultra</td>\n",
       "      <td>1000</td>\n",
       "      <td>30720</td>\n",
       "      <td>3000</td>\n",
       "      <td>1950</td>\n",
       "      <td>150</td>\n",
       "      <td>1</td>\n",
       "      <td>1</td>\n",
       "    </tr>\n",
       "    <tr>\n",
       "      <th>956</th>\n",
       "      <td>1091</td>\n",
       "      <td>2018-10-01</td>\n",
       "      <td>NaN</td>\n",
       "      <td>44.0</td>\n",
       "      <td>16.0</td>\n",
       "      <td>36</td>\n",
       "      <td>NaN</td>\n",
       "      <td>Набережные Челны</td>\n",
       "      <td>2018-05-08</td>\n",
       "      <td>ultra</td>\n",
       "      <td>1000</td>\n",
       "      <td>30720</td>\n",
       "      <td>3000</td>\n",
       "      <td>1950</td>\n",
       "      <td>150</td>\n",
       "      <td>1</td>\n",
       "      <td>1</td>\n",
       "    </tr>\n",
       "    <tr>\n",
       "      <th>957</th>\n",
       "      <td>1091</td>\n",
       "      <td>2018-11-01</td>\n",
       "      <td>NaN</td>\n",
       "      <td>28.0</td>\n",
       "      <td>12.0</td>\n",
       "      <td>36</td>\n",
       "      <td>NaN</td>\n",
       "      <td>Набережные Челны</td>\n",
       "      <td>2018-05-08</td>\n",
       "      <td>ultra</td>\n",
       "      <td>1000</td>\n",
       "      <td>30720</td>\n",
       "      <td>3000</td>\n",
       "      <td>1950</td>\n",
       "      <td>150</td>\n",
       "      <td>1</td>\n",
       "      <td>1</td>\n",
       "    </tr>\n",
       "    <tr>\n",
       "      <th>958</th>\n",
       "      <td>1091</td>\n",
       "      <td>2018-12-01</td>\n",
       "      <td>NaN</td>\n",
       "      <td>42.0</td>\n",
       "      <td>13.0</td>\n",
       "      <td>36</td>\n",
       "      <td>NaN</td>\n",
       "      <td>Набережные Челны</td>\n",
       "      <td>2018-05-08</td>\n",
       "      <td>ultra</td>\n",
       "      <td>1000</td>\n",
       "      <td>30720</td>\n",
       "      <td>3000</td>\n",
       "      <td>1950</td>\n",
       "      <td>150</td>\n",
       "      <td>1</td>\n",
       "      <td>1</td>\n",
       "    </tr>\n",
       "    <tr>\n",
       "      <th>959</th>\n",
       "      <td>1106</td>\n",
       "      <td>2018-04-01</td>\n",
       "      <td>NaN</td>\n",
       "      <td>9.0</td>\n",
       "      <td>3.0</td>\n",
       "      <td>67</td>\n",
       "      <td>NaN</td>\n",
       "      <td>Калуга</td>\n",
       "      <td>2018-04-26</td>\n",
       "      <td>ultra</td>\n",
       "      <td>1000</td>\n",
       "      <td>30720</td>\n",
       "      <td>3000</td>\n",
       "      <td>1950</td>\n",
       "      <td>150</td>\n",
       "      <td>1</td>\n",
       "      <td>1</td>\n",
       "    </tr>\n",
       "    <tr>\n",
       "      <th>960</th>\n",
       "      <td>1106</td>\n",
       "      <td>2018-05-01</td>\n",
       "      <td>NaN</td>\n",
       "      <td>28.0</td>\n",
       "      <td>17.0</td>\n",
       "      <td>67</td>\n",
       "      <td>NaN</td>\n",
       "      <td>Калуга</td>\n",
       "      <td>2018-04-26</td>\n",
       "      <td>ultra</td>\n",
       "      <td>1000</td>\n",
       "      <td>30720</td>\n",
       "      <td>3000</td>\n",
       "      <td>1950</td>\n",
       "      <td>150</td>\n",
       "      <td>1</td>\n",
       "      <td>1</td>\n",
       "    </tr>\n",
       "    <tr>\n",
       "      <th>961</th>\n",
       "      <td>1106</td>\n",
       "      <td>2018-06-01</td>\n",
       "      <td>NaN</td>\n",
       "      <td>30.0</td>\n",
       "      <td>20.0</td>\n",
       "      <td>67</td>\n",
       "      <td>NaN</td>\n",
       "      <td>Калуга</td>\n",
       "      <td>2018-04-26</td>\n",
       "      <td>ultra</td>\n",
       "      <td>1000</td>\n",
       "      <td>30720</td>\n",
       "      <td>3000</td>\n",
       "      <td>1950</td>\n",
       "      <td>150</td>\n",
       "      <td>1</td>\n",
       "      <td>1</td>\n",
       "    </tr>\n",
       "    <tr>\n",
       "      <th>962</th>\n",
       "      <td>1106</td>\n",
       "      <td>2018-07-01</td>\n",
       "      <td>NaN</td>\n",
       "      <td>24.0</td>\n",
       "      <td>22.0</td>\n",
       "      <td>67</td>\n",
       "      <td>NaN</td>\n",
       "      <td>Калуга</td>\n",
       "      <td>2018-04-26</td>\n",
       "      <td>ultra</td>\n",
       "      <td>1000</td>\n",
       "      <td>30720</td>\n",
       "      <td>3000</td>\n",
       "      <td>1950</td>\n",
       "      <td>150</td>\n",
       "      <td>1</td>\n",
       "      <td>1</td>\n",
       "    </tr>\n",
       "    <tr>\n",
       "      <th>963</th>\n",
       "      <td>1106</td>\n",
       "      <td>2018-08-01</td>\n",
       "      <td>NaN</td>\n",
       "      <td>25.0</td>\n",
       "      <td>19.0</td>\n",
       "      <td>67</td>\n",
       "      <td>NaN</td>\n",
       "      <td>Калуга</td>\n",
       "      <td>2018-04-26</td>\n",
       "      <td>ultra</td>\n",
       "      <td>1000</td>\n",
       "      <td>30720</td>\n",
       "      <td>3000</td>\n",
       "      <td>1950</td>\n",
       "      <td>150</td>\n",
       "      <td>1</td>\n",
       "      <td>1</td>\n",
       "    </tr>\n",
       "    <tr>\n",
       "      <th>964</th>\n",
       "      <td>1106</td>\n",
       "      <td>2018-09-01</td>\n",
       "      <td>NaN</td>\n",
       "      <td>23.0</td>\n",
       "      <td>22.0</td>\n",
       "      <td>67</td>\n",
       "      <td>NaN</td>\n",
       "      <td>Калуга</td>\n",
       "      <td>2018-04-26</td>\n",
       "      <td>ultra</td>\n",
       "      <td>1000</td>\n",
       "      <td>30720</td>\n",
       "      <td>3000</td>\n",
       "      <td>1950</td>\n",
       "      <td>150</td>\n",
       "      <td>1</td>\n",
       "      <td>1</td>\n",
       "    </tr>\n",
       "    <tr>\n",
       "      <th>965</th>\n",
       "      <td>1106</td>\n",
       "      <td>2018-10-01</td>\n",
       "      <td>NaN</td>\n",
       "      <td>33.0</td>\n",
       "      <td>14.0</td>\n",
       "      <td>67</td>\n",
       "      <td>NaN</td>\n",
       "      <td>Калуга</td>\n",
       "      <td>2018-04-26</td>\n",
       "      <td>ultra</td>\n",
       "      <td>1000</td>\n",
       "      <td>30720</td>\n",
       "      <td>3000</td>\n",
       "      <td>1950</td>\n",
       "      <td>150</td>\n",
       "      <td>1</td>\n",
       "      <td>1</td>\n",
       "    </tr>\n",
       "    <tr>\n",
       "      <th>966</th>\n",
       "      <td>1106</td>\n",
       "      <td>2018-11-01</td>\n",
       "      <td>NaN</td>\n",
       "      <td>29.0</td>\n",
       "      <td>21.0</td>\n",
       "      <td>67</td>\n",
       "      <td>NaN</td>\n",
       "      <td>Калуга</td>\n",
       "      <td>2018-04-26</td>\n",
       "      <td>ultra</td>\n",
       "      <td>1000</td>\n",
       "      <td>30720</td>\n",
       "      <td>3000</td>\n",
       "      <td>1950</td>\n",
       "      <td>150</td>\n",
       "      <td>1</td>\n",
       "      <td>1</td>\n",
       "    </tr>\n",
       "    <tr>\n",
       "      <th>967</th>\n",
       "      <td>1106</td>\n",
       "      <td>2018-12-01</td>\n",
       "      <td>NaN</td>\n",
       "      <td>24.0</td>\n",
       "      <td>19.0</td>\n",
       "      <td>67</td>\n",
       "      <td>NaN</td>\n",
       "      <td>Калуга</td>\n",
       "      <td>2018-04-26</td>\n",
       "      <td>ultra</td>\n",
       "      <td>1000</td>\n",
       "      <td>30720</td>\n",
       "      <td>3000</td>\n",
       "      <td>1950</td>\n",
       "      <td>150</td>\n",
       "      <td>1</td>\n",
       "      <td>1</td>\n",
       "    </tr>\n",
       "    <tr>\n",
       "      <th>968</th>\n",
       "      <td>1231</td>\n",
       "      <td>2018-05-01</td>\n",
       "      <td>NaN</td>\n",
       "      <td>55.0</td>\n",
       "      <td>11.0</td>\n",
       "      <td>63</td>\n",
       "      <td>NaN</td>\n",
       "      <td>Чебоксары</td>\n",
       "      <td>2018-05-23</td>\n",
       "      <td>ultra</td>\n",
       "      <td>1000</td>\n",
       "      <td>30720</td>\n",
       "      <td>3000</td>\n",
       "      <td>1950</td>\n",
       "      <td>150</td>\n",
       "      <td>1</td>\n",
       "      <td>1</td>\n",
       "    </tr>\n",
       "    <tr>\n",
       "      <th>969</th>\n",
       "      <td>1231</td>\n",
       "      <td>2018-06-01</td>\n",
       "      <td>NaN</td>\n",
       "      <td>201.0</td>\n",
       "      <td>28.0</td>\n",
       "      <td>63</td>\n",
       "      <td>NaN</td>\n",
       "      <td>Чебоксары</td>\n",
       "      <td>2018-05-23</td>\n",
       "      <td>ultra</td>\n",
       "      <td>1000</td>\n",
       "      <td>30720</td>\n",
       "      <td>3000</td>\n",
       "      <td>1950</td>\n",
       "      <td>150</td>\n",
       "      <td>1</td>\n",
       "      <td>1</td>\n",
       "    </tr>\n",
       "    <tr>\n",
       "      <th>970</th>\n",
       "      <td>1231</td>\n",
       "      <td>2018-07-01</td>\n",
       "      <td>NaN</td>\n",
       "      <td>211.0</td>\n",
       "      <td>28.0</td>\n",
       "      <td>63</td>\n",
       "      <td>NaN</td>\n",
       "      <td>Чебоксары</td>\n",
       "      <td>2018-05-23</td>\n",
       "      <td>ultra</td>\n",
       "      <td>1000</td>\n",
       "      <td>30720</td>\n",
       "      <td>3000</td>\n",
       "      <td>1950</td>\n",
       "      <td>150</td>\n",
       "      <td>1</td>\n",
       "      <td>1</td>\n",
       "    </tr>\n",
       "    <tr>\n",
       "      <th>971</th>\n",
       "      <td>1231</td>\n",
       "      <td>2018-08-01</td>\n",
       "      <td>NaN</td>\n",
       "      <td>180.0</td>\n",
       "      <td>32.0</td>\n",
       "      <td>63</td>\n",
       "      <td>NaN</td>\n",
       "      <td>Чебоксары</td>\n",
       "      <td>2018-05-23</td>\n",
       "      <td>ultra</td>\n",
       "      <td>1000</td>\n",
       "      <td>30720</td>\n",
       "      <td>3000</td>\n",
       "      <td>1950</td>\n",
       "      <td>150</td>\n",
       "      <td>1</td>\n",
       "      <td>1</td>\n",
       "    </tr>\n",
       "    <tr>\n",
       "      <th>972</th>\n",
       "      <td>1231</td>\n",
       "      <td>2018-09-01</td>\n",
       "      <td>NaN</td>\n",
       "      <td>188.0</td>\n",
       "      <td>33.0</td>\n",
       "      <td>63</td>\n",
       "      <td>NaN</td>\n",
       "      <td>Чебоксары</td>\n",
       "      <td>2018-05-23</td>\n",
       "      <td>ultra</td>\n",
       "      <td>1000</td>\n",
       "      <td>30720</td>\n",
       "      <td>3000</td>\n",
       "      <td>1950</td>\n",
       "      <td>150</td>\n",
       "      <td>1</td>\n",
       "      <td>1</td>\n",
       "    </tr>\n",
       "    <tr>\n",
       "      <th>973</th>\n",
       "      <td>1231</td>\n",
       "      <td>2018-10-01</td>\n",
       "      <td>NaN</td>\n",
       "      <td>185.0</td>\n",
       "      <td>31.0</td>\n",
       "      <td>63</td>\n",
       "      <td>NaN</td>\n",
       "      <td>Чебоксары</td>\n",
       "      <td>2018-05-23</td>\n",
       "      <td>ultra</td>\n",
       "      <td>1000</td>\n",
       "      <td>30720</td>\n",
       "      <td>3000</td>\n",
       "      <td>1950</td>\n",
       "      <td>150</td>\n",
       "      <td>1</td>\n",
       "      <td>1</td>\n",
       "    </tr>\n",
       "    <tr>\n",
       "      <th>974</th>\n",
       "      <td>1231</td>\n",
       "      <td>2018-11-01</td>\n",
       "      <td>NaN</td>\n",
       "      <td>173.0</td>\n",
       "      <td>27.0</td>\n",
       "      <td>63</td>\n",
       "      <td>NaN</td>\n",
       "      <td>Чебоксары</td>\n",
       "      <td>2018-05-23</td>\n",
       "      <td>ultra</td>\n",
       "      <td>1000</td>\n",
       "      <td>30720</td>\n",
       "      <td>3000</td>\n",
       "      <td>1950</td>\n",
       "      <td>150</td>\n",
       "      <td>1</td>\n",
       "      <td>1</td>\n",
       "    </tr>\n",
       "    <tr>\n",
       "      <th>975</th>\n",
       "      <td>1231</td>\n",
       "      <td>2018-12-01</td>\n",
       "      <td>NaN</td>\n",
       "      <td>191.0</td>\n",
       "      <td>32.0</td>\n",
       "      <td>63</td>\n",
       "      <td>NaN</td>\n",
       "      <td>Чебоксары</td>\n",
       "      <td>2018-05-23</td>\n",
       "      <td>ultra</td>\n",
       "      <td>1000</td>\n",
       "      <td>30720</td>\n",
       "      <td>3000</td>\n",
       "      <td>1950</td>\n",
       "      <td>150</td>\n",
       "      <td>1</td>\n",
       "      <td>1</td>\n",
       "    </tr>\n",
       "    <tr>\n",
       "      <th>976</th>\n",
       "      <td>1328</td>\n",
       "      <td>2018-10-01</td>\n",
       "      <td>NaN</td>\n",
       "      <td>6.0</td>\n",
       "      <td>22.0</td>\n",
       "      <td>44</td>\n",
       "      <td>NaN</td>\n",
       "      <td>Мурманск</td>\n",
       "      <td>2018-10-16</td>\n",
       "      <td>ultra</td>\n",
       "      <td>1000</td>\n",
       "      <td>30720</td>\n",
       "      <td>3000</td>\n",
       "      <td>1950</td>\n",
       "      <td>150</td>\n",
       "      <td>1</td>\n",
       "      <td>1</td>\n",
       "    </tr>\n",
       "    <tr>\n",
       "      <th>977</th>\n",
       "      <td>1328</td>\n",
       "      <td>2018-11-01</td>\n",
       "      <td>NaN</td>\n",
       "      <td>8.0</td>\n",
       "      <td>35.0</td>\n",
       "      <td>44</td>\n",
       "      <td>NaN</td>\n",
       "      <td>Мурманск</td>\n",
       "      <td>2018-10-16</td>\n",
       "      <td>ultra</td>\n",
       "      <td>1000</td>\n",
       "      <td>30720</td>\n",
       "      <td>3000</td>\n",
       "      <td>1950</td>\n",
       "      <td>150</td>\n",
       "      <td>1</td>\n",
       "      <td>1</td>\n",
       "    </tr>\n",
       "    <tr>\n",
       "      <th>978</th>\n",
       "      <td>1328</td>\n",
       "      <td>2018-12-01</td>\n",
       "      <td>NaN</td>\n",
       "      <td>7.0</td>\n",
       "      <td>39.0</td>\n",
       "      <td>44</td>\n",
       "      <td>NaN</td>\n",
       "      <td>Мурманск</td>\n",
       "      <td>2018-10-16</td>\n",
       "      <td>ultra</td>\n",
       "      <td>1000</td>\n",
       "      <td>30720</td>\n",
       "      <td>3000</td>\n",
       "      <td>1950</td>\n",
       "      <td>150</td>\n",
       "      <td>1</td>\n",
       "      <td>1</td>\n",
       "    </tr>\n",
       "    <tr>\n",
       "      <th>979</th>\n",
       "      <td>1473</td>\n",
       "      <td>2018-08-01</td>\n",
       "      <td>NaN</td>\n",
       "      <td>17.0</td>\n",
       "      <td>13.0</td>\n",
       "      <td>18</td>\n",
       "      <td>NaN</td>\n",
       "      <td>Красноярск</td>\n",
       "      <td>2018-08-05</td>\n",
       "      <td>ultra</td>\n",
       "      <td>1000</td>\n",
       "      <td>30720</td>\n",
       "      <td>3000</td>\n",
       "      <td>1950</td>\n",
       "      <td>150</td>\n",
       "      <td>1</td>\n",
       "      <td>1</td>\n",
       "    </tr>\n",
       "    <tr>\n",
       "      <th>980</th>\n",
       "      <td>1473</td>\n",
       "      <td>2018-09-01</td>\n",
       "      <td>NaN</td>\n",
       "      <td>19.0</td>\n",
       "      <td>17.0</td>\n",
       "      <td>18</td>\n",
       "      <td>NaN</td>\n",
       "      <td>Красноярск</td>\n",
       "      <td>2018-08-05</td>\n",
       "      <td>ultra</td>\n",
       "      <td>1000</td>\n",
       "      <td>30720</td>\n",
       "      <td>3000</td>\n",
       "      <td>1950</td>\n",
       "      <td>150</td>\n",
       "      <td>1</td>\n",
       "      <td>1</td>\n",
       "    </tr>\n",
       "    <tr>\n",
       "      <th>981</th>\n",
       "      <td>1473</td>\n",
       "      <td>2018-10-01</td>\n",
       "      <td>NaN</td>\n",
       "      <td>20.0</td>\n",
       "      <td>14.0</td>\n",
       "      <td>18</td>\n",
       "      <td>NaN</td>\n",
       "      <td>Красноярск</td>\n",
       "      <td>2018-08-05</td>\n",
       "      <td>ultra</td>\n",
       "      <td>1000</td>\n",
       "      <td>30720</td>\n",
       "      <td>3000</td>\n",
       "      <td>1950</td>\n",
       "      <td>150</td>\n",
       "      <td>1</td>\n",
       "      <td>1</td>\n",
       "    </tr>\n",
       "    <tr>\n",
       "      <th>982</th>\n",
       "      <td>1473</td>\n",
       "      <td>2018-11-01</td>\n",
       "      <td>NaN</td>\n",
       "      <td>14.0</td>\n",
       "      <td>22.0</td>\n",
       "      <td>18</td>\n",
       "      <td>NaN</td>\n",
       "      <td>Красноярск</td>\n",
       "      <td>2018-08-05</td>\n",
       "      <td>ultra</td>\n",
       "      <td>1000</td>\n",
       "      <td>30720</td>\n",
       "      <td>3000</td>\n",
       "      <td>1950</td>\n",
       "      <td>150</td>\n",
       "      <td>1</td>\n",
       "      <td>1</td>\n",
       "    </tr>\n",
       "    <tr>\n",
       "      <th>983</th>\n",
       "      <td>1473</td>\n",
       "      <td>2018-12-01</td>\n",
       "      <td>NaN</td>\n",
       "      <td>20.0</td>\n",
       "      <td>18.0</td>\n",
       "      <td>18</td>\n",
       "      <td>NaN</td>\n",
       "      <td>Красноярск</td>\n",
       "      <td>2018-08-05</td>\n",
       "      <td>ultra</td>\n",
       "      <td>1000</td>\n",
       "      <td>30720</td>\n",
       "      <td>3000</td>\n",
       "      <td>1950</td>\n",
       "      <td>150</td>\n",
       "      <td>1</td>\n",
       "      <td>1</td>\n",
       "    </tr>\n",
       "    <tr>\n",
       "      <th>984</th>\n",
       "      <td>1476</td>\n",
       "      <td>2018-04-01</td>\n",
       "      <td>NaN</td>\n",
       "      <td>NaN</td>\n",
       "      <td>1.0</td>\n",
       "      <td>50</td>\n",
       "      <td>NaN</td>\n",
       "      <td>Москва</td>\n",
       "      <td>2018-04-30</td>\n",
       "      <td>ultra</td>\n",
       "      <td>1000</td>\n",
       "      <td>30720</td>\n",
       "      <td>3000</td>\n",
       "      <td>1950</td>\n",
       "      <td>150</td>\n",
       "      <td>1</td>\n",
       "      <td>1</td>\n",
       "    </tr>\n",
       "    <tr>\n",
       "      <th>3208</th>\n",
       "      <td>1373</td>\n",
       "      <td>2018-06-01</td>\n",
       "      <td>NaN</td>\n",
       "      <td>48.0</td>\n",
       "      <td>13.0</td>\n",
       "      <td>34</td>\n",
       "      <td>NaN</td>\n",
       "      <td>Улан-Удэ</td>\n",
       "      <td>2018-01-17</td>\n",
       "      <td>smart</td>\n",
       "      <td>50</td>\n",
       "      <td>15360</td>\n",
       "      <td>500</td>\n",
       "      <td>550</td>\n",
       "      <td>200</td>\n",
       "      <td>3</td>\n",
       "      <td>3</td>\n",
       "    </tr>\n",
       "    <tr>\n",
       "      <th>3209</th>\n",
       "      <td>1489</td>\n",
       "      <td>2018-08-01</td>\n",
       "      <td>NaN</td>\n",
       "      <td>17.0</td>\n",
       "      <td>11.0</td>\n",
       "      <td>35</td>\n",
       "      <td>NaN</td>\n",
       "      <td>Санкт-Петербург</td>\n",
       "      <td>2018-08-15</td>\n",
       "      <td>smart</td>\n",
       "      <td>50</td>\n",
       "      <td>15360</td>\n",
       "      <td>500</td>\n",
       "      <td>550</td>\n",
       "      <td>200</td>\n",
       "      <td>3</td>\n",
       "      <td>3</td>\n",
       "    </tr>\n",
       "    <tr>\n",
       "      <th>3210</th>\n",
       "      <td>1489</td>\n",
       "      <td>2018-09-01</td>\n",
       "      <td>NaN</td>\n",
       "      <td>32.0</td>\n",
       "      <td>17.0</td>\n",
       "      <td>35</td>\n",
       "      <td>NaN</td>\n",
       "      <td>Санкт-Петербург</td>\n",
       "      <td>2018-08-15</td>\n",
       "      <td>smart</td>\n",
       "      <td>50</td>\n",
       "      <td>15360</td>\n",
       "      <td>500</td>\n",
       "      <td>550</td>\n",
       "      <td>200</td>\n",
       "      <td>3</td>\n",
       "      <td>3</td>\n",
       "    </tr>\n",
       "    <tr>\n",
       "      <th>3211</th>\n",
       "      <td>1489</td>\n",
       "      <td>2018-10-01</td>\n",
       "      <td>NaN</td>\n",
       "      <td>21.0</td>\n",
       "      <td>20.0</td>\n",
       "      <td>35</td>\n",
       "      <td>NaN</td>\n",
       "      <td>Санкт-Петербург</td>\n",
       "      <td>2018-08-15</td>\n",
       "      <td>smart</td>\n",
       "      <td>50</td>\n",
       "      <td>15360</td>\n",
       "      <td>500</td>\n",
       "      <td>550</td>\n",
       "      <td>200</td>\n",
       "      <td>3</td>\n",
       "      <td>3</td>\n",
       "    </tr>\n",
       "    <tr>\n",
       "      <th>3212</th>\n",
       "      <td>1489</td>\n",
       "      <td>2018-11-01</td>\n",
       "      <td>NaN</td>\n",
       "      <td>20.0</td>\n",
       "      <td>18.0</td>\n",
       "      <td>35</td>\n",
       "      <td>NaN</td>\n",
       "      <td>Санкт-Петербург</td>\n",
       "      <td>2018-08-15</td>\n",
       "      <td>smart</td>\n",
       "      <td>50</td>\n",
       "      <td>15360</td>\n",
       "      <td>500</td>\n",
       "      <td>550</td>\n",
       "      <td>200</td>\n",
       "      <td>3</td>\n",
       "      <td>3</td>\n",
       "    </tr>\n",
       "    <tr>\n",
       "      <th>3213</th>\n",
       "      <td>1489</td>\n",
       "      <td>2018-12-01</td>\n",
       "      <td>NaN</td>\n",
       "      <td>35.0</td>\n",
       "      <td>17.0</td>\n",
       "      <td>35</td>\n",
       "      <td>NaN</td>\n",
       "      <td>Санкт-Петербург</td>\n",
       "      <td>2018-08-15</td>\n",
       "      <td>smart</td>\n",
       "      <td>50</td>\n",
       "      <td>15360</td>\n",
       "      <td>500</td>\n",
       "      <td>550</td>\n",
       "      <td>200</td>\n",
       "      <td>3</td>\n",
       "      <td>3</td>\n",
       "    </tr>\n",
       "  </tbody>\n",
       "</table>\n",
       "</div>"
      ],
      "text/plain": [
       "      user_id      month  sum_minutes_spent  message_count  gb_used  age  \\\n",
       "951      1091 2018-05-01                NaN           30.0     11.0   36   \n",
       "952      1091 2018-06-01                NaN           30.0     10.0   36   \n",
       "953      1091 2018-07-01                NaN           35.0     17.0   36   \n",
       "954      1091 2018-08-01                NaN           31.0     13.0   36   \n",
       "955      1091 2018-09-01                NaN           32.0     17.0   36   \n",
       "956      1091 2018-10-01                NaN           44.0     16.0   36   \n",
       "957      1091 2018-11-01                NaN           28.0     12.0   36   \n",
       "958      1091 2018-12-01                NaN           42.0     13.0   36   \n",
       "959      1106 2018-04-01                NaN            9.0      3.0   67   \n",
       "960      1106 2018-05-01                NaN           28.0     17.0   67   \n",
       "961      1106 2018-06-01                NaN           30.0     20.0   67   \n",
       "962      1106 2018-07-01                NaN           24.0     22.0   67   \n",
       "963      1106 2018-08-01                NaN           25.0     19.0   67   \n",
       "964      1106 2018-09-01                NaN           23.0     22.0   67   \n",
       "965      1106 2018-10-01                NaN           33.0     14.0   67   \n",
       "966      1106 2018-11-01                NaN           29.0     21.0   67   \n",
       "967      1106 2018-12-01                NaN           24.0     19.0   67   \n",
       "968      1231 2018-05-01                NaN           55.0     11.0   63   \n",
       "969      1231 2018-06-01                NaN          201.0     28.0   63   \n",
       "970      1231 2018-07-01                NaN          211.0     28.0   63   \n",
       "971      1231 2018-08-01                NaN          180.0     32.0   63   \n",
       "972      1231 2018-09-01                NaN          188.0     33.0   63   \n",
       "973      1231 2018-10-01                NaN          185.0     31.0   63   \n",
       "974      1231 2018-11-01                NaN          173.0     27.0   63   \n",
       "975      1231 2018-12-01                NaN          191.0     32.0   63   \n",
       "976      1328 2018-10-01                NaN            6.0     22.0   44   \n",
       "977      1328 2018-11-01                NaN            8.0     35.0   44   \n",
       "978      1328 2018-12-01                NaN            7.0     39.0   44   \n",
       "979      1473 2018-08-01                NaN           17.0     13.0   18   \n",
       "980      1473 2018-09-01                NaN           19.0     17.0   18   \n",
       "981      1473 2018-10-01                NaN           20.0     14.0   18   \n",
       "982      1473 2018-11-01                NaN           14.0     22.0   18   \n",
       "983      1473 2018-12-01                NaN           20.0     18.0   18   \n",
       "984      1476 2018-04-01                NaN            NaN      1.0   50   \n",
       "3208     1373 2018-06-01                NaN           48.0     13.0   34   \n",
       "3209     1489 2018-08-01                NaN           17.0     11.0   35   \n",
       "3210     1489 2018-09-01                NaN           32.0     17.0   35   \n",
       "3211     1489 2018-10-01                NaN           21.0     20.0   35   \n",
       "3212     1489 2018-11-01                NaN           20.0     18.0   35   \n",
       "3213     1489 2018-12-01                NaN           35.0     17.0   35   \n",
       "\n",
       "     churn_date              city   reg_date tariff  messages_included  \\\n",
       "951         NaN  Набережные Челны 2018-05-08  ultra               1000   \n",
       "952         NaN  Набережные Челны 2018-05-08  ultra               1000   \n",
       "953         NaN  Набережные Челны 2018-05-08  ultra               1000   \n",
       "954         NaN  Набережные Челны 2018-05-08  ultra               1000   \n",
       "955         NaN  Набережные Челны 2018-05-08  ultra               1000   \n",
       "956         NaN  Набережные Челны 2018-05-08  ultra               1000   \n",
       "957         NaN  Набережные Челны 2018-05-08  ultra               1000   \n",
       "958         NaN  Набережные Челны 2018-05-08  ultra               1000   \n",
       "959         NaN            Калуга 2018-04-26  ultra               1000   \n",
       "960         NaN            Калуга 2018-04-26  ultra               1000   \n",
       "961         NaN            Калуга 2018-04-26  ultra               1000   \n",
       "962         NaN            Калуга 2018-04-26  ultra               1000   \n",
       "963         NaN            Калуга 2018-04-26  ultra               1000   \n",
       "964         NaN            Калуга 2018-04-26  ultra               1000   \n",
       "965         NaN            Калуга 2018-04-26  ultra               1000   \n",
       "966         NaN            Калуга 2018-04-26  ultra               1000   \n",
       "967         NaN            Калуга 2018-04-26  ultra               1000   \n",
       "968         NaN         Чебоксары 2018-05-23  ultra               1000   \n",
       "969         NaN         Чебоксары 2018-05-23  ultra               1000   \n",
       "970         NaN         Чебоксары 2018-05-23  ultra               1000   \n",
       "971         NaN         Чебоксары 2018-05-23  ultra               1000   \n",
       "972         NaN         Чебоксары 2018-05-23  ultra               1000   \n",
       "973         NaN         Чебоксары 2018-05-23  ultra               1000   \n",
       "974         NaN         Чебоксары 2018-05-23  ultra               1000   \n",
       "975         NaN         Чебоксары 2018-05-23  ultra               1000   \n",
       "976         NaN          Мурманск 2018-10-16  ultra               1000   \n",
       "977         NaN          Мурманск 2018-10-16  ultra               1000   \n",
       "978         NaN          Мурманск 2018-10-16  ultra               1000   \n",
       "979         NaN        Красноярск 2018-08-05  ultra               1000   \n",
       "980         NaN        Красноярск 2018-08-05  ultra               1000   \n",
       "981         NaN        Красноярск 2018-08-05  ultra               1000   \n",
       "982         NaN        Красноярск 2018-08-05  ultra               1000   \n",
       "983         NaN        Красноярск 2018-08-05  ultra               1000   \n",
       "984         NaN            Москва 2018-04-30  ultra               1000   \n",
       "3208        NaN          Улан-Удэ 2018-01-17  smart                 50   \n",
       "3209        NaN   Санкт-Петербург 2018-08-15  smart                 50   \n",
       "3210        NaN   Санкт-Петербург 2018-08-15  smart                 50   \n",
       "3211        NaN   Санкт-Петербург 2018-08-15  smart                 50   \n",
       "3212        NaN   Санкт-Петербург 2018-08-15  smart                 50   \n",
       "3213        NaN   Санкт-Петербург 2018-08-15  smart                 50   \n",
       "\n",
       "      mb_per_month_included  minutes_included  rub_monthly_fee  rub_per_gb  \\\n",
       "951                   30720              3000             1950         150   \n",
       "952                   30720              3000             1950         150   \n",
       "953                   30720              3000             1950         150   \n",
       "954                   30720              3000             1950         150   \n",
       "955                   30720              3000             1950         150   \n",
       "956                   30720              3000             1950         150   \n",
       "957                   30720              3000             1950         150   \n",
       "958                   30720              3000             1950         150   \n",
       "959                   30720              3000             1950         150   \n",
       "960                   30720              3000             1950         150   \n",
       "961                   30720              3000             1950         150   \n",
       "962                   30720              3000             1950         150   \n",
       "963                   30720              3000             1950         150   \n",
       "964                   30720              3000             1950         150   \n",
       "965                   30720              3000             1950         150   \n",
       "966                   30720              3000             1950         150   \n",
       "967                   30720              3000             1950         150   \n",
       "968                   30720              3000             1950         150   \n",
       "969                   30720              3000             1950         150   \n",
       "970                   30720              3000             1950         150   \n",
       "971                   30720              3000             1950         150   \n",
       "972                   30720              3000             1950         150   \n",
       "973                   30720              3000             1950         150   \n",
       "974                   30720              3000             1950         150   \n",
       "975                   30720              3000             1950         150   \n",
       "976                   30720              3000             1950         150   \n",
       "977                   30720              3000             1950         150   \n",
       "978                   30720              3000             1950         150   \n",
       "979                   30720              3000             1950         150   \n",
       "980                   30720              3000             1950         150   \n",
       "981                   30720              3000             1950         150   \n",
       "982                   30720              3000             1950         150   \n",
       "983                   30720              3000             1950         150   \n",
       "984                   30720              3000             1950         150   \n",
       "3208                  15360               500              550         200   \n",
       "3209                  15360               500              550         200   \n",
       "3210                  15360               500              550         200   \n",
       "3211                  15360               500              550         200   \n",
       "3212                  15360               500              550         200   \n",
       "3213                  15360               500              550         200   \n",
       "\n",
       "      rub_per_message  rub_per_minute  \n",
       "951                 1               1  \n",
       "952                 1               1  \n",
       "953                 1               1  \n",
       "954                 1               1  \n",
       "955                 1               1  \n",
       "956                 1               1  \n",
       "957                 1               1  \n",
       "958                 1               1  \n",
       "959                 1               1  \n",
       "960                 1               1  \n",
       "961                 1               1  \n",
       "962                 1               1  \n",
       "963                 1               1  \n",
       "964                 1               1  \n",
       "965                 1               1  \n",
       "966                 1               1  \n",
       "967                 1               1  \n",
       "968                 1               1  \n",
       "969                 1               1  \n",
       "970                 1               1  \n",
       "971                 1               1  \n",
       "972                 1               1  \n",
       "973                 1               1  \n",
       "974                 1               1  \n",
       "975                 1               1  \n",
       "976                 1               1  \n",
       "977                 1               1  \n",
       "978                 1               1  \n",
       "979                 1               1  \n",
       "980                 1               1  \n",
       "981                 1               1  \n",
       "982                 1               1  \n",
       "983                 1               1  \n",
       "984                 1               1  \n",
       "3208                3               3  \n",
       "3209                3               3  \n",
       "3210                3               3  \n",
       "3211                3               3  \n",
       "3212                3               3  \n",
       "3213                3               3  "
      ]
     },
     "execution_count": 31,
     "metadata": {},
     "output_type": "execute_result"
    }
   ],
   "source": [
    "full_data.loc[full_data['sum_minutes_spent'].isna() == True]"
   ]
  },
  {
   "cell_type": "markdown",
   "metadata": {},
   "source": [
    "Здесь я заменю пропущенные значения на 0, так как из данных видно, что пользователи активные, просто не звонят, а используют смс и интернет-трафик. "
   ]
  },
  {
   "cell_type": "code",
   "execution_count": 32,
   "metadata": {},
   "outputs": [
    {
     "data": {
      "text/plain": [
       "user_id                     0\n",
       "month                       0\n",
       "sum_minutes_spent           0\n",
       "message_count             497\n",
       "gb_used                    11\n",
       "age                         0\n",
       "churn_date               3027\n",
       "city                        0\n",
       "reg_date                    0\n",
       "tariff                      0\n",
       "messages_included           0\n",
       "mb_per_month_included       0\n",
       "minutes_included            0\n",
       "rub_monthly_fee             0\n",
       "rub_per_gb                  0\n",
       "rub_per_message             0\n",
       "rub_per_minute              0\n",
       "dtype: int64"
      ]
     },
     "execution_count": 32,
     "metadata": {},
     "output_type": "execute_result"
    }
   ],
   "source": [
    "full_data['sum_minutes_spent'] = full_data['sum_minutes_spent'].fillna(0)\n",
    "full_data.isna().sum()"
   ]
  },
  {
   "cell_type": "markdown",
   "metadata": {},
   "source": [
    "В столбцах с сообщениями и трафиком пропуски означают, что пользователь не отправлял сообщений в этот месяц и заходил в интернет с мобильного устройства, поэтому я просто заменю пропуски на 0. Столбец с `churn_date` я трогать не буду. "
   ]
  },
  {
   "cell_type": "code",
   "execution_count": 33,
   "metadata": {},
   "outputs": [],
   "source": [
    "full_data['message_count'] = full_data['message_count'].fillna(0)\n",
    "full_data['gb_used'] = full_data['gb_used'].fillna(0)"
   ]
  },
  {
   "cell_type": "markdown",
   "metadata": {},
   "source": []
  },
  {
   "cell_type": "markdown",
   "metadata": {},
   "source": [
    "### Вывод по предобработке данных\n",
    "\n",
    "Проблем особо не возникло, единственное - таблица раздулась очень сильно. В дальнейшем подумаю, может сделать срез, в который включу только те столбцы, которые нужны для анализа. "
   ]
  },
  {
   "cell_type": "markdown",
   "metadata": {},
   "source": [
    "## Расчет выручки по месяцам\n",
    "### Расчеты\n",
    "\n",
    "Подход у меня будет следующий. Я постараюсь его сделать просто, без функций. \n",
    "1. Сначала посчитаю разницу между фактом использованных минут, сообщений и трафика и лимитом по тарифу на месяц. \n",
    "2. Заменю все отрицательные значения на `0`, так как отрицательная разница между \"факт\" и \"лимит\" означает, что пользователь не вышел за месячный лимит и должен заплатить только абонентнскую плату. \n",
    "3. Полученные значения умножу на тариф доплаты по звонкам, сообщениям и трафику.\n",
    "4. Прибавлю абонентскую плату. \n",
    "\n",
    "Это раздует мою таблицу еще больше, но, если будет дальше необходимо, я просто сделаю срез методом `.loc`, в который включу выборку столбцов и буду работать со срезом. "
   ]
  },
  {
   "cell_type": "code",
   "execution_count": 34,
   "metadata": {},
   "outputs": [
    {
     "data": {
      "text/html": [
       "<div>\n",
       "<style scoped>\n",
       "    .dataframe tbody tr th:only-of-type {\n",
       "        vertical-align: middle;\n",
       "    }\n",
       "\n",
       "    .dataframe tbody tr th {\n",
       "        vertical-align: top;\n",
       "    }\n",
       "\n",
       "    .dataframe thead th {\n",
       "        text-align: right;\n",
       "    }\n",
       "</style>\n",
       "<table border=\"1\" class=\"dataframe\">\n",
       "  <thead>\n",
       "    <tr style=\"text-align: right;\">\n",
       "      <th></th>\n",
       "      <th>user_id</th>\n",
       "      <th>month</th>\n",
       "      <th>sum_minutes_spent</th>\n",
       "      <th>message_count</th>\n",
       "      <th>gb_used</th>\n",
       "      <th>age</th>\n",
       "      <th>churn_date</th>\n",
       "      <th>city</th>\n",
       "      <th>reg_date</th>\n",
       "      <th>tariff</th>\n",
       "      <th>messages_included</th>\n",
       "      <th>mb_per_month_included</th>\n",
       "      <th>minutes_included</th>\n",
       "      <th>rub_monthly_fee</th>\n",
       "      <th>rub_per_gb</th>\n",
       "      <th>rub_per_message</th>\n",
       "      <th>rub_per_minute</th>\n",
       "      <th>minutes_delta</th>\n",
       "      <th>messages_delta</th>\n",
       "      <th>gb_delta</th>\n",
       "    </tr>\n",
       "  </thead>\n",
       "  <tbody>\n",
       "    <tr>\n",
       "      <th>0</th>\n",
       "      <td>1000</td>\n",
       "      <td>2018-05-01</td>\n",
       "      <td>159.0</td>\n",
       "      <td>22.0</td>\n",
       "      <td>3.0</td>\n",
       "      <td>52</td>\n",
       "      <td>NaN</td>\n",
       "      <td>Краснодар</td>\n",
       "      <td>2018-05-25</td>\n",
       "      <td>ultra</td>\n",
       "      <td>1000</td>\n",
       "      <td>30720</td>\n",
       "      <td>3000</td>\n",
       "      <td>1950</td>\n",
       "      <td>150</td>\n",
       "      <td>1</td>\n",
       "      <td>1</td>\n",
       "      <td>0.0</td>\n",
       "      <td>0.0</td>\n",
       "      <td>0.0</td>\n",
       "    </tr>\n",
       "    <tr>\n",
       "      <th>1</th>\n",
       "      <td>1000</td>\n",
       "      <td>2018-06-01</td>\n",
       "      <td>172.0</td>\n",
       "      <td>60.0</td>\n",
       "      <td>23.0</td>\n",
       "      <td>52</td>\n",
       "      <td>NaN</td>\n",
       "      <td>Краснодар</td>\n",
       "      <td>2018-05-25</td>\n",
       "      <td>ultra</td>\n",
       "      <td>1000</td>\n",
       "      <td>30720</td>\n",
       "      <td>3000</td>\n",
       "      <td>1950</td>\n",
       "      <td>150</td>\n",
       "      <td>1</td>\n",
       "      <td>1</td>\n",
       "      <td>0.0</td>\n",
       "      <td>0.0</td>\n",
       "      <td>0.0</td>\n",
       "    </tr>\n",
       "    <tr>\n",
       "      <th>2</th>\n",
       "      <td>1000</td>\n",
       "      <td>2018-07-01</td>\n",
       "      <td>340.0</td>\n",
       "      <td>75.0</td>\n",
       "      <td>14.0</td>\n",
       "      <td>52</td>\n",
       "      <td>NaN</td>\n",
       "      <td>Краснодар</td>\n",
       "      <td>2018-05-25</td>\n",
       "      <td>ultra</td>\n",
       "      <td>1000</td>\n",
       "      <td>30720</td>\n",
       "      <td>3000</td>\n",
       "      <td>1950</td>\n",
       "      <td>150</td>\n",
       "      <td>1</td>\n",
       "      <td>1</td>\n",
       "      <td>0.0</td>\n",
       "      <td>0.0</td>\n",
       "      <td>0.0</td>\n",
       "    </tr>\n",
       "    <tr>\n",
       "      <th>3</th>\n",
       "      <td>1000</td>\n",
       "      <td>2018-08-01</td>\n",
       "      <td>408.0</td>\n",
       "      <td>81.0</td>\n",
       "      <td>14.0</td>\n",
       "      <td>52</td>\n",
       "      <td>NaN</td>\n",
       "      <td>Краснодар</td>\n",
       "      <td>2018-05-25</td>\n",
       "      <td>ultra</td>\n",
       "      <td>1000</td>\n",
       "      <td>30720</td>\n",
       "      <td>3000</td>\n",
       "      <td>1950</td>\n",
       "      <td>150</td>\n",
       "      <td>1</td>\n",
       "      <td>1</td>\n",
       "      <td>0.0</td>\n",
       "      <td>0.0</td>\n",
       "      <td>0.0</td>\n",
       "    </tr>\n",
       "    <tr>\n",
       "      <th>4</th>\n",
       "      <td>1000</td>\n",
       "      <td>2018-09-01</td>\n",
       "      <td>466.0</td>\n",
       "      <td>57.0</td>\n",
       "      <td>15.0</td>\n",
       "      <td>52</td>\n",
       "      <td>NaN</td>\n",
       "      <td>Краснодар</td>\n",
       "      <td>2018-05-25</td>\n",
       "      <td>ultra</td>\n",
       "      <td>1000</td>\n",
       "      <td>30720</td>\n",
       "      <td>3000</td>\n",
       "      <td>1950</td>\n",
       "      <td>150</td>\n",
       "      <td>1</td>\n",
       "      <td>1</td>\n",
       "      <td>0.0</td>\n",
       "      <td>0.0</td>\n",
       "      <td>0.0</td>\n",
       "    </tr>\n",
       "    <tr>\n",
       "      <th>...</th>\n",
       "      <td>...</td>\n",
       "      <td>...</td>\n",
       "      <td>...</td>\n",
       "      <td>...</td>\n",
       "      <td>...</td>\n",
       "      <td>...</td>\n",
       "      <td>...</td>\n",
       "      <td>...</td>\n",
       "      <td>...</td>\n",
       "      <td>...</td>\n",
       "      <td>...</td>\n",
       "      <td>...</td>\n",
       "      <td>...</td>\n",
       "      <td>...</td>\n",
       "      <td>...</td>\n",
       "      <td>...</td>\n",
       "      <td>...</td>\n",
       "      <td>...</td>\n",
       "      <td>...</td>\n",
       "      <td>...</td>\n",
       "    </tr>\n",
       "    <tr>\n",
       "      <th>3209</th>\n",
       "      <td>1489</td>\n",
       "      <td>2018-08-01</td>\n",
       "      <td>0.0</td>\n",
       "      <td>17.0</td>\n",
       "      <td>11.0</td>\n",
       "      <td>35</td>\n",
       "      <td>NaN</td>\n",
       "      <td>Санкт-Петербург</td>\n",
       "      <td>2018-08-15</td>\n",
       "      <td>smart</td>\n",
       "      <td>50</td>\n",
       "      <td>15360</td>\n",
       "      <td>500</td>\n",
       "      <td>550</td>\n",
       "      <td>200</td>\n",
       "      <td>3</td>\n",
       "      <td>3</td>\n",
       "      <td>0.0</td>\n",
       "      <td>0.0</td>\n",
       "      <td>0.0</td>\n",
       "    </tr>\n",
       "    <tr>\n",
       "      <th>3210</th>\n",
       "      <td>1489</td>\n",
       "      <td>2018-09-01</td>\n",
       "      <td>0.0</td>\n",
       "      <td>32.0</td>\n",
       "      <td>17.0</td>\n",
       "      <td>35</td>\n",
       "      <td>NaN</td>\n",
       "      <td>Санкт-Петербург</td>\n",
       "      <td>2018-08-15</td>\n",
       "      <td>smart</td>\n",
       "      <td>50</td>\n",
       "      <td>15360</td>\n",
       "      <td>500</td>\n",
       "      <td>550</td>\n",
       "      <td>200</td>\n",
       "      <td>3</td>\n",
       "      <td>3</td>\n",
       "      <td>0.0</td>\n",
       "      <td>0.0</td>\n",
       "      <td>2.0</td>\n",
       "    </tr>\n",
       "    <tr>\n",
       "      <th>3211</th>\n",
       "      <td>1489</td>\n",
       "      <td>2018-10-01</td>\n",
       "      <td>0.0</td>\n",
       "      <td>21.0</td>\n",
       "      <td>20.0</td>\n",
       "      <td>35</td>\n",
       "      <td>NaN</td>\n",
       "      <td>Санкт-Петербург</td>\n",
       "      <td>2018-08-15</td>\n",
       "      <td>smart</td>\n",
       "      <td>50</td>\n",
       "      <td>15360</td>\n",
       "      <td>500</td>\n",
       "      <td>550</td>\n",
       "      <td>200</td>\n",
       "      <td>3</td>\n",
       "      <td>3</td>\n",
       "      <td>0.0</td>\n",
       "      <td>0.0</td>\n",
       "      <td>5.0</td>\n",
       "    </tr>\n",
       "    <tr>\n",
       "      <th>3212</th>\n",
       "      <td>1489</td>\n",
       "      <td>2018-11-01</td>\n",
       "      <td>0.0</td>\n",
       "      <td>20.0</td>\n",
       "      <td>18.0</td>\n",
       "      <td>35</td>\n",
       "      <td>NaN</td>\n",
       "      <td>Санкт-Петербург</td>\n",
       "      <td>2018-08-15</td>\n",
       "      <td>smart</td>\n",
       "      <td>50</td>\n",
       "      <td>15360</td>\n",
       "      <td>500</td>\n",
       "      <td>550</td>\n",
       "      <td>200</td>\n",
       "      <td>3</td>\n",
       "      <td>3</td>\n",
       "      <td>0.0</td>\n",
       "      <td>0.0</td>\n",
       "      <td>3.0</td>\n",
       "    </tr>\n",
       "    <tr>\n",
       "      <th>3213</th>\n",
       "      <td>1489</td>\n",
       "      <td>2018-12-01</td>\n",
       "      <td>0.0</td>\n",
       "      <td>35.0</td>\n",
       "      <td>17.0</td>\n",
       "      <td>35</td>\n",
       "      <td>NaN</td>\n",
       "      <td>Санкт-Петербург</td>\n",
       "      <td>2018-08-15</td>\n",
       "      <td>smart</td>\n",
       "      <td>50</td>\n",
       "      <td>15360</td>\n",
       "      <td>500</td>\n",
       "      <td>550</td>\n",
       "      <td>200</td>\n",
       "      <td>3</td>\n",
       "      <td>3</td>\n",
       "      <td>0.0</td>\n",
       "      <td>0.0</td>\n",
       "      <td>2.0</td>\n",
       "    </tr>\n",
       "  </tbody>\n",
       "</table>\n",
       "<p>3214 rows × 20 columns</p>\n",
       "</div>"
      ],
      "text/plain": [
       "      user_id      month  sum_minutes_spent  message_count  gb_used  age  \\\n",
       "0        1000 2018-05-01              159.0           22.0      3.0   52   \n",
       "1        1000 2018-06-01              172.0           60.0     23.0   52   \n",
       "2        1000 2018-07-01              340.0           75.0     14.0   52   \n",
       "3        1000 2018-08-01              408.0           81.0     14.0   52   \n",
       "4        1000 2018-09-01              466.0           57.0     15.0   52   \n",
       "...       ...        ...                ...            ...      ...  ...   \n",
       "3209     1489 2018-08-01                0.0           17.0     11.0   35   \n",
       "3210     1489 2018-09-01                0.0           32.0     17.0   35   \n",
       "3211     1489 2018-10-01                0.0           21.0     20.0   35   \n",
       "3212     1489 2018-11-01                0.0           20.0     18.0   35   \n",
       "3213     1489 2018-12-01                0.0           35.0     17.0   35   \n",
       "\n",
       "     churn_date             city   reg_date tariff  messages_included  \\\n",
       "0           NaN        Краснодар 2018-05-25  ultra               1000   \n",
       "1           NaN        Краснодар 2018-05-25  ultra               1000   \n",
       "2           NaN        Краснодар 2018-05-25  ultra               1000   \n",
       "3           NaN        Краснодар 2018-05-25  ultra               1000   \n",
       "4           NaN        Краснодар 2018-05-25  ultra               1000   \n",
       "...         ...              ...        ...    ...                ...   \n",
       "3209        NaN  Санкт-Петербург 2018-08-15  smart                 50   \n",
       "3210        NaN  Санкт-Петербург 2018-08-15  smart                 50   \n",
       "3211        NaN  Санкт-Петербург 2018-08-15  smart                 50   \n",
       "3212        NaN  Санкт-Петербург 2018-08-15  smart                 50   \n",
       "3213        NaN  Санкт-Петербург 2018-08-15  smart                 50   \n",
       "\n",
       "      mb_per_month_included  minutes_included  rub_monthly_fee  rub_per_gb  \\\n",
       "0                     30720              3000             1950         150   \n",
       "1                     30720              3000             1950         150   \n",
       "2                     30720              3000             1950         150   \n",
       "3                     30720              3000             1950         150   \n",
       "4                     30720              3000             1950         150   \n",
       "...                     ...               ...              ...         ...   \n",
       "3209                  15360               500              550         200   \n",
       "3210                  15360               500              550         200   \n",
       "3211                  15360               500              550         200   \n",
       "3212                  15360               500              550         200   \n",
       "3213                  15360               500              550         200   \n",
       "\n",
       "      rub_per_message  rub_per_minute  minutes_delta  messages_delta  gb_delta  \n",
       "0                   1               1            0.0             0.0       0.0  \n",
       "1                   1               1            0.0             0.0       0.0  \n",
       "2                   1               1            0.0             0.0       0.0  \n",
       "3                   1               1            0.0             0.0       0.0  \n",
       "4                   1               1            0.0             0.0       0.0  \n",
       "...               ...             ...            ...             ...       ...  \n",
       "3209                3               3            0.0             0.0       0.0  \n",
       "3210                3               3            0.0             0.0       2.0  \n",
       "3211                3               3            0.0             0.0       5.0  \n",
       "3212                3               3            0.0             0.0       3.0  \n",
       "3213                3               3            0.0             0.0       2.0  \n",
       "\n",
       "[3214 rows x 20 columns]"
      ]
     },
     "execution_count": 34,
     "metadata": {},
     "output_type": "execute_result"
    }
   ],
   "source": [
    "full_data['minutes_delta'] = (full_data['sum_minutes_spent'] - full_data['minutes_included'])\n",
    "full_data.loc[full_data['minutes_delta'] < 0, 'minutes_delta'] = 0\n",
    "\n",
    "full_data['messages_delta'] = (full_data['message_count'] - full_data['messages_included'])\n",
    "full_data.loc[full_data['messages_delta'] < 0, 'messages_delta'] = 0\n",
    "\n",
    "full_data['gb_delta'] = full_data['gb_used'] - (full_data['mb_per_month_included'] / 1024)\n",
    "full_data.loc[full_data['gb_delta'] < 0, 'gb_delta'] = 0\n",
    "\n",
    "full_data"
   ]
  },
  {
   "cell_type": "markdown",
   "metadata": {},
   "source": [
    "Теперь создам столбец с выручкой (`revenue`) и посчитаю ее. "
   ]
  },
  {
   "cell_type": "code",
   "execution_count": 35,
   "metadata": {},
   "outputs": [
    {
     "data": {
      "text/html": [
       "<div>\n",
       "<style scoped>\n",
       "    .dataframe tbody tr th:only-of-type {\n",
       "        vertical-align: middle;\n",
       "    }\n",
       "\n",
       "    .dataframe tbody tr th {\n",
       "        vertical-align: top;\n",
       "    }\n",
       "\n",
       "    .dataframe thead th {\n",
       "        text-align: right;\n",
       "    }\n",
       "</style>\n",
       "<table border=\"1\" class=\"dataframe\">\n",
       "  <thead>\n",
       "    <tr style=\"text-align: right;\">\n",
       "      <th></th>\n",
       "      <th>user_id</th>\n",
       "      <th>month</th>\n",
       "      <th>sum_minutes_spent</th>\n",
       "      <th>message_count</th>\n",
       "      <th>gb_used</th>\n",
       "      <th>age</th>\n",
       "      <th>churn_date</th>\n",
       "      <th>city</th>\n",
       "      <th>reg_date</th>\n",
       "      <th>tariff</th>\n",
       "      <th>...</th>\n",
       "      <th>mb_per_month_included</th>\n",
       "      <th>minutes_included</th>\n",
       "      <th>rub_monthly_fee</th>\n",
       "      <th>rub_per_gb</th>\n",
       "      <th>rub_per_message</th>\n",
       "      <th>rub_per_minute</th>\n",
       "      <th>minutes_delta</th>\n",
       "      <th>messages_delta</th>\n",
       "      <th>gb_delta</th>\n",
       "      <th>revenue</th>\n",
       "    </tr>\n",
       "  </thead>\n",
       "  <tbody>\n",
       "  </tbody>\n",
       "</table>\n",
       "<p>0 rows × 21 columns</p>\n",
       "</div>"
      ],
      "text/plain": [
       "Empty DataFrame\n",
       "Columns: [user_id, month, sum_minutes_spent, message_count, gb_used, age, churn_date, city, reg_date, tariff, messages_included, mb_per_month_included, minutes_included, rub_monthly_fee, rub_per_gb, rub_per_message, rub_per_minute, minutes_delta, messages_delta, gb_delta, revenue]\n",
       "Index: []\n",
       "\n",
       "[0 rows x 21 columns]"
      ]
     },
     "execution_count": 35,
     "metadata": {},
     "output_type": "execute_result"
    }
   ],
   "source": [
    "full_data['revenue'] = (full_data['minutes_delta'] * full_data['rub_per_minute']) + (full_data['messages_delta'] * full_data['rub_per_message']) + (full_data['gb_delta'] * full_data['rub_per_gb']) + full_data['rub_monthly_fee']\n",
    "full_data.query('revenue == \"nan\"')"
   ]
  },
  {
   "cell_type": "markdown",
   "metadata": {},
   "source": [
    "Возникли пропуски в столбце с выручкой из-за того, что есть пропуски в других столбцах.\n",
    "Отсутствие данных в столбцах `messages_delta` и `gb_delta` объясняется тем, что в это месяце не использовались эти услуги."
   ]
  },
  {
   "cell_type": "code",
   "execution_count": 36,
   "metadata": {},
   "outputs": [
    {
     "data": {
      "text/plain": [
       "2875351.0"
      ]
     },
     "execution_count": 36,
     "metadata": {},
     "output_type": "execute_result"
    }
   ],
   "source": [
    "full_data.loc[full_data['tariff'] == 'smart']['revenue'].sum()"
   ]
  },
  {
   "cell_type": "code",
   "execution_count": 37,
   "metadata": {},
   "outputs": [
    {
     "data": {
      "text/plain": [
       "2039100.0"
      ]
     },
     "execution_count": 37,
     "metadata": {},
     "output_type": "execute_result"
    }
   ],
   "source": [
    "full_data.loc[full_data['tariff'] == 'ultra']['revenue'].sum()"
   ]
  },
  {
   "cell_type": "code",
   "execution_count": 38,
   "metadata": {},
   "outputs": [
    {
     "name": "stdout",
     "output_type": "stream",
     "text": [
      "<class 'pandas.core.frame.DataFrame'>\n",
      "Int64Index: 3214 entries, 0 to 3213\n",
      "Data columns (total 21 columns):\n",
      " #   Column                 Non-Null Count  Dtype         \n",
      "---  ------                 --------------  -----         \n",
      " 0   user_id                3214 non-null   int64         \n",
      " 1   month                  3214 non-null   datetime64[ns]\n",
      " 2   sum_minutes_spent      3214 non-null   float64       \n",
      " 3   message_count          3214 non-null   float64       \n",
      " 4   gb_used                3214 non-null   float64       \n",
      " 5   age                    3214 non-null   int64         \n",
      " 6   churn_date             187 non-null    object        \n",
      " 7   city                   3214 non-null   object        \n",
      " 8   reg_date               3214 non-null   datetime64[ns]\n",
      " 9   tariff                 3214 non-null   object        \n",
      " 10  messages_included      3214 non-null   int64         \n",
      " 11  mb_per_month_included  3214 non-null   int64         \n",
      " 12  minutes_included       3214 non-null   int64         \n",
      " 13  rub_monthly_fee        3214 non-null   int64         \n",
      " 14  rub_per_gb             3214 non-null   int64         \n",
      " 15  rub_per_message        3214 non-null   int64         \n",
      " 16  rub_per_minute         3214 non-null   int64         \n",
      " 17  minutes_delta          3214 non-null   float64       \n",
      " 18  messages_delta         3214 non-null   float64       \n",
      " 19  gb_delta               3214 non-null   float64       \n",
      " 20  revenue                3214 non-null   float64       \n",
      "dtypes: datetime64[ns](2), float64(7), int64(9), object(3)\n",
      "memory usage: 552.4+ KB\n"
     ]
    }
   ],
   "source": [
    "full_data.info()"
   ]
  },
  {
   "cell_type": "code",
   "execution_count": 39,
   "metadata": {},
   "outputs": [],
   "source": [
    "full_data['messages_delta'] = full_data['messages_delta'].fillna(0)\n",
    "full_data['gb_delta'] = full_data['gb_delta'].fillna(0)"
   ]
  },
  {
   "cell_type": "code",
   "execution_count": 40,
   "metadata": {},
   "outputs": [
    {
     "data": {
      "text/html": [
       "<div>\n",
       "<style scoped>\n",
       "    .dataframe tbody tr th:only-of-type {\n",
       "        vertical-align: middle;\n",
       "    }\n",
       "\n",
       "    .dataframe tbody tr th {\n",
       "        vertical-align: top;\n",
       "    }\n",
       "\n",
       "    .dataframe thead th {\n",
       "        text-align: right;\n",
       "    }\n",
       "</style>\n",
       "<table border=\"1\" class=\"dataframe\">\n",
       "  <thead>\n",
       "    <tr style=\"text-align: right;\">\n",
       "      <th></th>\n",
       "      <th>user_id</th>\n",
       "      <th>month</th>\n",
       "      <th>sum_minutes_spent</th>\n",
       "      <th>message_count</th>\n",
       "      <th>gb_used</th>\n",
       "      <th>age</th>\n",
       "      <th>churn_date</th>\n",
       "      <th>city</th>\n",
       "      <th>reg_date</th>\n",
       "      <th>tariff</th>\n",
       "      <th>...</th>\n",
       "      <th>mb_per_month_included</th>\n",
       "      <th>minutes_included</th>\n",
       "      <th>rub_monthly_fee</th>\n",
       "      <th>rub_per_gb</th>\n",
       "      <th>rub_per_message</th>\n",
       "      <th>rub_per_minute</th>\n",
       "      <th>minutes_delta</th>\n",
       "      <th>messages_delta</th>\n",
       "      <th>gb_delta</th>\n",
       "      <th>revenue</th>\n",
       "    </tr>\n",
       "  </thead>\n",
       "  <tbody>\n",
       "    <tr>\n",
       "      <th>0</th>\n",
       "      <td>1000</td>\n",
       "      <td>2018-05-01</td>\n",
       "      <td>159.0</td>\n",
       "      <td>22.0</td>\n",
       "      <td>3.0</td>\n",
       "      <td>52</td>\n",
       "      <td>NaN</td>\n",
       "      <td>Краснодар</td>\n",
       "      <td>2018-05-25</td>\n",
       "      <td>ultra</td>\n",
       "      <td>...</td>\n",
       "      <td>30720</td>\n",
       "      <td>3000</td>\n",
       "      <td>1950</td>\n",
       "      <td>150</td>\n",
       "      <td>1</td>\n",
       "      <td>1</td>\n",
       "      <td>0.0</td>\n",
       "      <td>0.0</td>\n",
       "      <td>0.0</td>\n",
       "      <td>1950.0</td>\n",
       "    </tr>\n",
       "    <tr>\n",
       "      <th>1</th>\n",
       "      <td>1000</td>\n",
       "      <td>2018-06-01</td>\n",
       "      <td>172.0</td>\n",
       "      <td>60.0</td>\n",
       "      <td>23.0</td>\n",
       "      <td>52</td>\n",
       "      <td>NaN</td>\n",
       "      <td>Краснодар</td>\n",
       "      <td>2018-05-25</td>\n",
       "      <td>ultra</td>\n",
       "      <td>...</td>\n",
       "      <td>30720</td>\n",
       "      <td>3000</td>\n",
       "      <td>1950</td>\n",
       "      <td>150</td>\n",
       "      <td>1</td>\n",
       "      <td>1</td>\n",
       "      <td>0.0</td>\n",
       "      <td>0.0</td>\n",
       "      <td>0.0</td>\n",
       "      <td>1950.0</td>\n",
       "    </tr>\n",
       "    <tr>\n",
       "      <th>2</th>\n",
       "      <td>1000</td>\n",
       "      <td>2018-07-01</td>\n",
       "      <td>340.0</td>\n",
       "      <td>75.0</td>\n",
       "      <td>14.0</td>\n",
       "      <td>52</td>\n",
       "      <td>NaN</td>\n",
       "      <td>Краснодар</td>\n",
       "      <td>2018-05-25</td>\n",
       "      <td>ultra</td>\n",
       "      <td>...</td>\n",
       "      <td>30720</td>\n",
       "      <td>3000</td>\n",
       "      <td>1950</td>\n",
       "      <td>150</td>\n",
       "      <td>1</td>\n",
       "      <td>1</td>\n",
       "      <td>0.0</td>\n",
       "      <td>0.0</td>\n",
       "      <td>0.0</td>\n",
       "      <td>1950.0</td>\n",
       "    </tr>\n",
       "    <tr>\n",
       "      <th>3</th>\n",
       "      <td>1000</td>\n",
       "      <td>2018-08-01</td>\n",
       "      <td>408.0</td>\n",
       "      <td>81.0</td>\n",
       "      <td>14.0</td>\n",
       "      <td>52</td>\n",
       "      <td>NaN</td>\n",
       "      <td>Краснодар</td>\n",
       "      <td>2018-05-25</td>\n",
       "      <td>ultra</td>\n",
       "      <td>...</td>\n",
       "      <td>30720</td>\n",
       "      <td>3000</td>\n",
       "      <td>1950</td>\n",
       "      <td>150</td>\n",
       "      <td>1</td>\n",
       "      <td>1</td>\n",
       "      <td>0.0</td>\n",
       "      <td>0.0</td>\n",
       "      <td>0.0</td>\n",
       "      <td>1950.0</td>\n",
       "    </tr>\n",
       "    <tr>\n",
       "      <th>4</th>\n",
       "      <td>1000</td>\n",
       "      <td>2018-09-01</td>\n",
       "      <td>466.0</td>\n",
       "      <td>57.0</td>\n",
       "      <td>15.0</td>\n",
       "      <td>52</td>\n",
       "      <td>NaN</td>\n",
       "      <td>Краснодар</td>\n",
       "      <td>2018-05-25</td>\n",
       "      <td>ultra</td>\n",
       "      <td>...</td>\n",
       "      <td>30720</td>\n",
       "      <td>3000</td>\n",
       "      <td>1950</td>\n",
       "      <td>150</td>\n",
       "      <td>1</td>\n",
       "      <td>1</td>\n",
       "      <td>0.0</td>\n",
       "      <td>0.0</td>\n",
       "      <td>0.0</td>\n",
       "      <td>1950.0</td>\n",
       "    </tr>\n",
       "    <tr>\n",
       "      <th>...</th>\n",
       "      <td>...</td>\n",
       "      <td>...</td>\n",
       "      <td>...</td>\n",
       "      <td>...</td>\n",
       "      <td>...</td>\n",
       "      <td>...</td>\n",
       "      <td>...</td>\n",
       "      <td>...</td>\n",
       "      <td>...</td>\n",
       "      <td>...</td>\n",
       "      <td>...</td>\n",
       "      <td>...</td>\n",
       "      <td>...</td>\n",
       "      <td>...</td>\n",
       "      <td>...</td>\n",
       "      <td>...</td>\n",
       "      <td>...</td>\n",
       "      <td>...</td>\n",
       "      <td>...</td>\n",
       "      <td>...</td>\n",
       "      <td>...</td>\n",
       "    </tr>\n",
       "    <tr>\n",
       "      <th>3209</th>\n",
       "      <td>1489</td>\n",
       "      <td>2018-08-01</td>\n",
       "      <td>0.0</td>\n",
       "      <td>17.0</td>\n",
       "      <td>11.0</td>\n",
       "      <td>35</td>\n",
       "      <td>NaN</td>\n",
       "      <td>Санкт-Петербург</td>\n",
       "      <td>2018-08-15</td>\n",
       "      <td>smart</td>\n",
       "      <td>...</td>\n",
       "      <td>15360</td>\n",
       "      <td>500</td>\n",
       "      <td>550</td>\n",
       "      <td>200</td>\n",
       "      <td>3</td>\n",
       "      <td>3</td>\n",
       "      <td>0.0</td>\n",
       "      <td>0.0</td>\n",
       "      <td>0.0</td>\n",
       "      <td>550.0</td>\n",
       "    </tr>\n",
       "    <tr>\n",
       "      <th>3210</th>\n",
       "      <td>1489</td>\n",
       "      <td>2018-09-01</td>\n",
       "      <td>0.0</td>\n",
       "      <td>32.0</td>\n",
       "      <td>17.0</td>\n",
       "      <td>35</td>\n",
       "      <td>NaN</td>\n",
       "      <td>Санкт-Петербург</td>\n",
       "      <td>2018-08-15</td>\n",
       "      <td>smart</td>\n",
       "      <td>...</td>\n",
       "      <td>15360</td>\n",
       "      <td>500</td>\n",
       "      <td>550</td>\n",
       "      <td>200</td>\n",
       "      <td>3</td>\n",
       "      <td>3</td>\n",
       "      <td>0.0</td>\n",
       "      <td>0.0</td>\n",
       "      <td>2.0</td>\n",
       "      <td>950.0</td>\n",
       "    </tr>\n",
       "    <tr>\n",
       "      <th>3211</th>\n",
       "      <td>1489</td>\n",
       "      <td>2018-10-01</td>\n",
       "      <td>0.0</td>\n",
       "      <td>21.0</td>\n",
       "      <td>20.0</td>\n",
       "      <td>35</td>\n",
       "      <td>NaN</td>\n",
       "      <td>Санкт-Петербург</td>\n",
       "      <td>2018-08-15</td>\n",
       "      <td>smart</td>\n",
       "      <td>...</td>\n",
       "      <td>15360</td>\n",
       "      <td>500</td>\n",
       "      <td>550</td>\n",
       "      <td>200</td>\n",
       "      <td>3</td>\n",
       "      <td>3</td>\n",
       "      <td>0.0</td>\n",
       "      <td>0.0</td>\n",
       "      <td>5.0</td>\n",
       "      <td>1550.0</td>\n",
       "    </tr>\n",
       "    <tr>\n",
       "      <th>3212</th>\n",
       "      <td>1489</td>\n",
       "      <td>2018-11-01</td>\n",
       "      <td>0.0</td>\n",
       "      <td>20.0</td>\n",
       "      <td>18.0</td>\n",
       "      <td>35</td>\n",
       "      <td>NaN</td>\n",
       "      <td>Санкт-Петербург</td>\n",
       "      <td>2018-08-15</td>\n",
       "      <td>smart</td>\n",
       "      <td>...</td>\n",
       "      <td>15360</td>\n",
       "      <td>500</td>\n",
       "      <td>550</td>\n",
       "      <td>200</td>\n",
       "      <td>3</td>\n",
       "      <td>3</td>\n",
       "      <td>0.0</td>\n",
       "      <td>0.0</td>\n",
       "      <td>3.0</td>\n",
       "      <td>1150.0</td>\n",
       "    </tr>\n",
       "    <tr>\n",
       "      <th>3213</th>\n",
       "      <td>1489</td>\n",
       "      <td>2018-12-01</td>\n",
       "      <td>0.0</td>\n",
       "      <td>35.0</td>\n",
       "      <td>17.0</td>\n",
       "      <td>35</td>\n",
       "      <td>NaN</td>\n",
       "      <td>Санкт-Петербург</td>\n",
       "      <td>2018-08-15</td>\n",
       "      <td>smart</td>\n",
       "      <td>...</td>\n",
       "      <td>15360</td>\n",
       "      <td>500</td>\n",
       "      <td>550</td>\n",
       "      <td>200</td>\n",
       "      <td>3</td>\n",
       "      <td>3</td>\n",
       "      <td>0.0</td>\n",
       "      <td>0.0</td>\n",
       "      <td>2.0</td>\n",
       "      <td>950.0</td>\n",
       "    </tr>\n",
       "  </tbody>\n",
       "</table>\n",
       "<p>3214 rows × 21 columns</p>\n",
       "</div>"
      ],
      "text/plain": [
       "      user_id      month  sum_minutes_spent  message_count  gb_used  age  \\\n",
       "0        1000 2018-05-01              159.0           22.0      3.0   52   \n",
       "1        1000 2018-06-01              172.0           60.0     23.0   52   \n",
       "2        1000 2018-07-01              340.0           75.0     14.0   52   \n",
       "3        1000 2018-08-01              408.0           81.0     14.0   52   \n",
       "4        1000 2018-09-01              466.0           57.0     15.0   52   \n",
       "...       ...        ...                ...            ...      ...  ...   \n",
       "3209     1489 2018-08-01                0.0           17.0     11.0   35   \n",
       "3210     1489 2018-09-01                0.0           32.0     17.0   35   \n",
       "3211     1489 2018-10-01                0.0           21.0     20.0   35   \n",
       "3212     1489 2018-11-01                0.0           20.0     18.0   35   \n",
       "3213     1489 2018-12-01                0.0           35.0     17.0   35   \n",
       "\n",
       "     churn_date             city   reg_date tariff  ...  \\\n",
       "0           NaN        Краснодар 2018-05-25  ultra  ...   \n",
       "1           NaN        Краснодар 2018-05-25  ultra  ...   \n",
       "2           NaN        Краснодар 2018-05-25  ultra  ...   \n",
       "3           NaN        Краснодар 2018-05-25  ultra  ...   \n",
       "4           NaN        Краснодар 2018-05-25  ultra  ...   \n",
       "...         ...              ...        ...    ...  ...   \n",
       "3209        NaN  Санкт-Петербург 2018-08-15  smart  ...   \n",
       "3210        NaN  Санкт-Петербург 2018-08-15  smart  ...   \n",
       "3211        NaN  Санкт-Петербург 2018-08-15  smart  ...   \n",
       "3212        NaN  Санкт-Петербург 2018-08-15  smart  ...   \n",
       "3213        NaN  Санкт-Петербург 2018-08-15  smart  ...   \n",
       "\n",
       "      mb_per_month_included  minutes_included  rub_monthly_fee  rub_per_gb  \\\n",
       "0                     30720              3000             1950         150   \n",
       "1                     30720              3000             1950         150   \n",
       "2                     30720              3000             1950         150   \n",
       "3                     30720              3000             1950         150   \n",
       "4                     30720              3000             1950         150   \n",
       "...                     ...               ...              ...         ...   \n",
       "3209                  15360               500              550         200   \n",
       "3210                  15360               500              550         200   \n",
       "3211                  15360               500              550         200   \n",
       "3212                  15360               500              550         200   \n",
       "3213                  15360               500              550         200   \n",
       "\n",
       "      rub_per_message  rub_per_minute  minutes_delta  messages_delta  \\\n",
       "0                   1               1            0.0             0.0   \n",
       "1                   1               1            0.0             0.0   \n",
       "2                   1               1            0.0             0.0   \n",
       "3                   1               1            0.0             0.0   \n",
       "4                   1               1            0.0             0.0   \n",
       "...               ...             ...            ...             ...   \n",
       "3209                3               3            0.0             0.0   \n",
       "3210                3               3            0.0             0.0   \n",
       "3211                3               3            0.0             0.0   \n",
       "3212                3               3            0.0             0.0   \n",
       "3213                3               3            0.0             0.0   \n",
       "\n",
       "      gb_delta  revenue  \n",
       "0          0.0   1950.0  \n",
       "1          0.0   1950.0  \n",
       "2          0.0   1950.0  \n",
       "3          0.0   1950.0  \n",
       "4          0.0   1950.0  \n",
       "...        ...      ...  \n",
       "3209       0.0    550.0  \n",
       "3210       2.0    950.0  \n",
       "3211       5.0   1550.0  \n",
       "3212       3.0   1150.0  \n",
       "3213       2.0    950.0  \n",
       "\n",
       "[3214 rows x 21 columns]"
      ]
     },
     "execution_count": 40,
     "metadata": {},
     "output_type": "execute_result"
    }
   ],
   "source": [
    "full_data['revenue'] = (full_data['minutes_delta'] * full_data['rub_per_minute']) + (full_data['messages_delta'] * full_data['rub_per_message']) + (full_data['gb_delta'] * full_data['rub_per_gb']) + full_data['rub_monthly_fee']\n",
    "full_data"
   ]
  },
  {
   "cell_type": "code",
   "execution_count": 41,
   "metadata": {},
   "outputs": [
    {
     "name": "stdout",
     "output_type": "stream",
     "text": [
      "Совокупная выручка - 4914451 рублей.\n"
     ]
    }
   ],
   "source": [
    "print('Совокупная выручка -', full_data['revenue'].sum().astype('int'), 'рублей.')"
   ]
  },
  {
   "cell_type": "markdown",
   "metadata": {},
   "source": [
    "### Вывод по предобработке и расчету выручки\n",
    "\n"
   ]
  },
  {
   "cell_type": "markdown",
   "metadata": {},
   "source": [
    "На причесываение данных ушло совсем немного времени, что хорошо. Это очень качественная выгрузка.\n",
    "Расчет помесячной, попользовательской выручки также занял недолгое время. У нас есть все данные для дальнейшего анализа. \n",
    "Еще раз подчеркну качество выгрузки. "
   ]
  },
  {
   "cell_type": "markdown",
   "metadata": {},
   "source": [
    "## Анализ полученных данных"
   ]
  },
  {
   "cell_type": "markdown",
   "metadata": {},
   "source": [
    "Посмотрю сначала на данные, потом построю гистограмму диаграмму размаха для каждого показателя.  \n",
    "\n",
    "Поскольку нам необходимо посмотреть на данные в разрезе тарифов, то я сделаю срез по тарифам. Соответствующие тарифу данные помещу в переменные `data_ultra` и `data_smart`."
   ]
  },
  {
   "cell_type": "markdown",
   "metadata": {},
   "source": [
    "Для начала я взгляну на среднее, дисперсию и стандартное отклонение по общему датафрейму, потом разделю его по тарифам."
   ]
  },
  {
   "cell_type": "code",
   "execution_count": 42,
   "metadata": {},
   "outputs": [
    {
     "data": {
      "text/html": [
       "<div>\n",
       "<style scoped>\n",
       "    .dataframe tbody tr th:only-of-type {\n",
       "        vertical-align: middle;\n",
       "    }\n",
       "\n",
       "    .dataframe tbody tr th {\n",
       "        vertical-align: top;\n",
       "    }\n",
       "\n",
       "    .dataframe thead tr th {\n",
       "        text-align: left;\n",
       "    }\n",
       "\n",
       "    .dataframe thead tr:last-of-type th {\n",
       "        text-align: right;\n",
       "    }\n",
       "</style>\n",
       "<table border=\"1\" class=\"dataframe\">\n",
       "  <thead>\n",
       "    <tr>\n",
       "      <th></th>\n",
       "      <th colspan=\"3\" halign=\"left\">mean</th>\n",
       "      <th colspan=\"3\" halign=\"left\">var</th>\n",
       "      <th colspan=\"3\" halign=\"left\">std</th>\n",
       "    </tr>\n",
       "    <tr>\n",
       "      <th></th>\n",
       "      <th>gb_used</th>\n",
       "      <th>message_count</th>\n",
       "      <th>sum_minutes_spent</th>\n",
       "      <th>gb_used</th>\n",
       "      <th>message_count</th>\n",
       "      <th>sum_minutes_spent</th>\n",
       "      <th>gb_used</th>\n",
       "      <th>message_count</th>\n",
       "      <th>sum_minutes_spent</th>\n",
       "    </tr>\n",
       "    <tr>\n",
       "      <th>tariff</th>\n",
       "      <th></th>\n",
       "      <th></th>\n",
       "      <th></th>\n",
       "      <th></th>\n",
       "      <th></th>\n",
       "      <th></th>\n",
       "      <th></th>\n",
       "      <th></th>\n",
       "      <th></th>\n",
       "    </tr>\n",
       "  </thead>\n",
       "  <tbody>\n",
       "    <tr>\n",
       "      <th>smart</th>\n",
       "      <td>17</td>\n",
       "      <td>34</td>\n",
       "      <td>418</td>\n",
       "      <td>34</td>\n",
       "      <td>797</td>\n",
       "      <td>36220</td>\n",
       "      <td>6</td>\n",
       "      <td>29</td>\n",
       "      <td>191</td>\n",
       "    </tr>\n",
       "    <tr>\n",
       "      <th>ultra</th>\n",
       "      <td>20</td>\n",
       "      <td>50</td>\n",
       "      <td>527</td>\n",
       "      <td>98</td>\n",
       "      <td>2286</td>\n",
       "      <td>100874</td>\n",
       "      <td>10</td>\n",
       "      <td>48</td>\n",
       "      <td>318</td>\n",
       "    </tr>\n",
       "  </tbody>\n",
       "</table>\n",
       "</div>"
      ],
      "text/plain": [
       "          mean                                     var                \\\n",
       "       gb_used message_count sum_minutes_spent gb_used message_count   \n",
       "tariff                                                                 \n",
       "smart       17            34               418      34           797   \n",
       "ultra       20            50               527      98          2286   \n",
       "\n",
       "                             std                                  \n",
       "       sum_minutes_spent gb_used message_count sum_minutes_spent  \n",
       "tariff                                                            \n",
       "smart              36220       6            29               191  \n",
       "ultra             100874      10            48               318  "
      ]
     },
     "execution_count": 42,
     "metadata": {},
     "output_type": "execute_result"
    }
   ],
   "source": [
    "full_data_pivot = full_data.pivot_table(index='tariff', values=['sum_minutes_spent', 'message_count', 'gb_used'], aggfunc=['mean', 'var', 'std'])\n",
    "full_data_pivot = np.ceil(full_data_pivot).astype('int')\n",
    "full_data_pivot"
   ]
  },
  {
   "cell_type": "markdown",
   "metadata": {},
   "source": [
    "### Ultra. Распределение по кол-ву использованных минут "
   ]
  },
  {
   "cell_type": "code",
   "execution_count": 43,
   "metadata": {},
   "outputs": [
    {
     "data": {
      "text/plain": [
       "count     985.000000\n",
       "mean      526.623350\n",
       "std       317.606098\n",
       "min         0.000000\n",
       "25%       284.000000\n",
       "50%       518.000000\n",
       "75%       752.000000\n",
       "max      1673.000000\n",
       "Name: sum_minutes_spent, dtype: float64"
      ]
     },
     "execution_count": 43,
     "metadata": {},
     "output_type": "execute_result"
    },
    {
     "data": {
      "image/png": "[encoded data removed]",
      "text/plain": [
       "<Figure size 864x360 with 1 Axes>"
      ]
     },
     "metadata": {
      "needs_background": "light"
     },
     "output_type": "display_data"
    }
   ],
   "source": [
    "data_ultra = full_data.query('tariff == \"ultra\"')\n",
    "data_ultra['sum_minutes_spent'].hist(bins=100, figsize=(12,5))\n",
    "data_ultra['sum_minutes_spent'].describe()"
   ]
  },
  {
   "cell_type": "code",
   "execution_count": 44,
   "metadata": {},
   "outputs": [
    {
     "data": {
      "image/png": "[encoded data removed]",
      "text/plain": [
       "<Figure size 432x288 with 1 Axes>"
      ]
     },
     "metadata": {
      "needs_background": "light"
     },
     "output_type": "display_data"
    }
   ],
   "source": [
    "data_ultra.loc[:, ['sum_minutes_spent']].boxplot()\n",
    "plt.show()"
   ]
  },
  {
   "cell_type": "markdown",
   "metadata": {},
   "source": [
    "Что видим: \n",
    "\n",
    "1. Среднее арифметическое и медианное значения очень близки друг к другу. Более того, по гистограмме видно, что крайне высоких значений очень мало. Диаграмма размаха показывает, что медиана равноудалена от 3-го и первого персентиля, что говорит о том, что данные распределены дастаточно равномерно относительно медианы и среднего.\n",
    "\n",
    "2. Судя по тому, что данные по первым 3-м персентиля рапспределены практически одинаково, наверно, можно сказать, что распределение значений выборки по потраченным пользователями минутам очень близко к нормальному. \n",
    "\n",
    "3. Данные распределены достаточно плотно относительно медианы данных. \n",
    "\n",
    "Сколько минут разговора требуется пользователям тарифа \"ultra\" в месяц? В среднем - 545. "
   ]
  },
  {
   "cell_type": "markdown",
   "metadata": {},
   "source": [
    "### Ultra. Распределение по кол-ву сообщений"
   ]
  },
  {
   "cell_type": "code",
   "execution_count": 45,
   "metadata": {},
   "outputs": [
    {
     "data": {
      "text/plain": [
       "count    985.000000\n",
       "mean      49.363452\n",
       "std       47.804457\n",
       "min        0.000000\n",
       "25%        6.000000\n",
       "50%       38.000000\n",
       "75%       79.000000\n",
       "max      224.000000\n",
       "Name: message_count, dtype: float64"
      ]
     },
     "execution_count": 45,
     "metadata": {},
     "output_type": "execute_result"
    },
    {
     "data": {
      "image/png": "[encoded data removed]",
      "text/plain": [
       "<Figure size 864x360 with 1 Axes>"
      ]
     },
     "metadata": {
      "needs_background": "light"
     },
     "output_type": "display_data"
    }
   ],
   "source": [
    "data_ultra['message_count'].hist(bins=100, figsize=(12,5))\n",
    "data_ultra['message_count'].describe()"
   ]
  },
  {
   "cell_type": "code",
   "execution_count": 46,
   "metadata": {},
   "outputs": [
    {
     "data": {
      "image/png": "[encoded data removed]",
      "text/plain": [
       "<Figure size 432x288 with 1 Axes>"
      ]
     },
     "metadata": {
      "needs_background": "light"
     },
     "output_type": "display_data"
    }
   ],
   "source": [
    "data_ultra.loc[:, ['message_count']].boxplot()\n",
    "plt.show()"
   ]
  },
  {
   "cell_type": "markdown",
   "metadata": {},
   "source": [
    "Что видим: \n",
    "\n",
    "На гистограмме видно (да и на диаграмме размаха), что распределение скошенно вправо. При этом значений свыше верхнего \"уса\" не так много, тогда как значений в 4-м квартиле (больших) достаточно, чтобы сместить распределение. Эта также видно по разнице среднего и медианного значений. В отличие от распределения по кол-ву минут, тут видна большая разница между этими значениями. \n",
    "\n",
    "Мы видим также достаточно большое значений стандартного отклонения, что подтверждает то, что распределение в выборке скошенно. \n",
    "Очень много пиков на гистограмме, что является также косвенным подтверждением наличия выбросов в данных выборки. \n",
    "\n",
    "Сколько сообщений требуется пользователям каждого тарифа \"Ultra \"в месяц? В среднем - 61. "
   ]
  },
  {
   "cell_type": "markdown",
   "metadata": {},
   "source": [
    "### Ultra. Распределение по кол-ву трафика"
   ]
  },
  {
   "cell_type": "code",
   "execution_count": 47,
   "metadata": {},
   "outputs": [
    {
     "data": {
      "text/plain": [
       "count    985.000000\n",
       "mean      19.494416\n",
       "std        9.853511\n",
       "min        0.000000\n",
       "25%       12.000000\n",
       "50%       19.000000\n",
       "75%       27.000000\n",
       "max       49.000000\n",
       "Name: gb_used, dtype: float64"
      ]
     },
     "execution_count": 47,
     "metadata": {},
     "output_type": "execute_result"
    },
    {
     "data": {
      "image/png": "[encoded data removed]",
      "text/plain": [
       "<Figure size 864x360 with 1 Axes>"
      ]
     },
     "metadata": {
      "needs_background": "light"
     },
     "output_type": "display_data"
    }
   ],
   "source": [
    "data_ultra['gb_used'].hist(bins=100, figsize=(12,5))\n",
    "data_ultra['gb_used'].describe()"
   ]
  },
  {
   "cell_type": "code",
   "execution_count": 48,
   "metadata": {},
   "outputs": [
    {
     "data": {
      "image/png": "[encoded data removed]",
      "text/plain": [
       "<Figure size 432x288 with 1 Axes>"
      ]
     },
     "metadata": {
      "needs_background": "light"
     },
     "output_type": "display_data"
    }
   ],
   "source": [
    "data_ultra.loc[:, ['gb_used']].boxplot()\n",
    "plt.show()"
   ]
  },
  {
   "cell_type": "markdown",
   "metadata": {},
   "source": [
    "Что видим: \n",
    "\n",
    "1. Распределение данных очень похоже на нормальное, поскольку медиана равноудалена от 1 и 3 персентилей. На гистограмме видно, что значений свыше 95 (верхний \"ус\" диаграммы размаха) совсем немного. Есть локальные разовые пики, но общее распределение очень сильно напоминает нормальное. \n",
    "\n",
    "2. Медианное и среднее значения практически идентичны, что говорит о том, что в выборке нет сверхвысоких значений, искажающих данные. Правило 3-х сигм выполняется полностью. Все данные лежат в пределах 3-х значений стандартного отклонения (19).\n",
    "\n",
    "Какой объём интернет-трафика требуется пользователям каждого тарифа \"ultra\" в месяц?  В среднем - 38 ГБ. "
   ]
  },
  {
   "cell_type": "markdown",
   "metadata": {},
   "source": [
    "### Smart. Распределение по кол-ву минут"
   ]
  },
  {
   "cell_type": "code",
   "execution_count": 49,
   "metadata": {},
   "outputs": [
    {
     "data": {
      "text/plain": [
       "count    2229.000000\n",
       "mean      417.934948\n",
       "std       190.313730\n",
       "min         0.000000\n",
       "25%       282.000000\n",
       "50%       422.000000\n",
       "75%       545.000000\n",
       "max      1435.000000\n",
       "Name: sum_minutes_spent, dtype: float64"
      ]
     },
     "execution_count": 49,
     "metadata": {},
     "output_type": "execute_result"
    },
    {
     "data": {
      "image/png": "[encoded data removed]",
      "text/plain": [
       "<Figure size 864x360 with 1 Axes>"
      ]
     },
     "metadata": {
      "needs_background": "light"
     },
     "output_type": "display_data"
    }
   ],
   "source": [
    "data_smart = full_data.query('tariff == \"smart\"')\n",
    "data_smart['sum_minutes_spent'].hist(bins=100, figsize=(12,5))\n",
    "data_smart['sum_minutes_spent'].describe()"
   ]
  },
  {
   "cell_type": "code",
   "execution_count": 50,
   "metadata": {},
   "outputs": [
    {
     "data": {
      "image/png": "[encoded data removed]",
      "text/plain": [
       "<Figure size 432x288 with 1 Axes>"
      ]
     },
     "metadata": {
      "needs_background": "light"
     },
     "output_type": "display_data"
    }
   ],
   "source": [
    "data_smart.loc[:, ['sum_minutes_spent']].boxplot()\n",
    "plt.show()"
   ]
  },
  {
   "cell_type": "markdown",
   "metadata": {},
   "source": [
    "Что видим: \n",
    "\n",
    "1. Медианное и среднее арифметическое значения очень близки друг к другу. \n",
    "2. При этом медиана равноудалена от 1 и 3-го персентиля. Вся выборка же немного смещена вправо (незначительно), так как есть значения свыше 800. Но их совсем немного. Нулевые значения здесь есть, поскольку они означают пропущенные звонки. Я их не удалял ранее в предобработке, поскольку в этих строках есть важные данные по трафику интернета и смс. Этим объясняется небольшое пик значений у \"0\". \n",
    "\n",
    "3. Если ориентироваться на правило 3-х сигм, то наши данные лежат в рамках диапозона 3-х сигм, так как стандартное отклонения равно 189.\n",
    "4. Данные распределены очень плотно относительно среднего выборки.\n",
    "\n",
    "Здесь я, наверно, скажу, что распределение выбоки по звонкам тарифа \"smart\" близко к нормальному.\n",
    "\n",
    "\"Сколько минут разговора требуется пользователям каждого тарифа \"Smart\" в месяц?\" В среднем - 419. "
   ]
  },
  {
   "cell_type": "markdown",
   "metadata": {},
   "source": [
    "### Smart. Распределение по кол-ву сообщений"
   ]
  },
  {
   "cell_type": "code",
   "execution_count": 51,
   "metadata": {
    "scrolled": true
   },
   "outputs": [
    {
     "data": {
      "text/plain": [
       "count    2229.000000\n",
       "mean       33.384029\n",
       "std        28.227876\n",
       "min         0.000000\n",
       "25%        10.000000\n",
       "50%        28.000000\n",
       "75%        51.000000\n",
       "max       143.000000\n",
       "Name: message_count, dtype: float64"
      ]
     },
     "execution_count": 51,
     "metadata": {},
     "output_type": "execute_result"
    },
    {
     "data": {
      "image/png": "[encoded data removed]",
      "text/plain": [
       "<Figure size 864x360 with 1 Axes>"
      ]
     },
     "metadata": {
      "needs_background": "light"
     },
     "output_type": "display_data"
    }
   ],
   "source": [
    "data_smart['message_count'].hist(bins=100, figsize=(12,5))\n",
    "data_smart['message_count'].describe()"
   ]
  },
  {
   "cell_type": "code",
   "execution_count": 52,
   "metadata": {},
   "outputs": [
    {
     "data": {
      "image/png": "[encoded data removed]",
      "text/plain": [
       "<Figure size 432x288 with 1 Axes>"
      ]
     },
     "metadata": {
      "needs_background": "light"
     },
     "output_type": "display_data"
    }
   ],
   "source": [
    "data_smart.loc[:, ['message_count']].boxplot()\n",
    "plt.show()"
   ]
  },
  {
   "cell_type": "markdown",
   "metadata": {},
   "source": [
    "Что видим: \n",
    "\n",
    "В отличие от распределения по звонкам, распределение значений выборки по сообщения очень сильно смещено вправо.\n",
    "На диаграмме размаха видно, что медиана ближе к первому персентилю, нежели к 3-му. Более того, учитывая, что стандартное отклонение выборки равно 27, то верхний порог \"нормальности\" значений равен 115 (судя по графику размаха). Значений свыше порога немного, но они влияют значительно на распределение. \n",
    "\n",
    "Более того, много около нулевых значений. Я предположу, что это те люди, которые либо вообще не пользуются смс, так как есть месенджеры, либо отправляют очень небольшое кол-во сообщений в месяц. \n",
    "\n",
    "Сколько сообщений требуется пользователям каждого тарифа \"Smart\" в месяц? В среднем - 39."
   ]
  },
  {
   "cell_type": "markdown",
   "metadata": {},
   "source": [
    "### Распределение по кол-ву трафика"
   ]
  },
  {
   "cell_type": "code",
   "execution_count": 53,
   "metadata": {},
   "outputs": [
    {
     "data": {
      "text/plain": [
       "count    2229.000000\n",
       "mean       16.328847\n",
       "std         5.747061\n",
       "min         0.000000\n",
       "25%        13.000000\n",
       "50%        17.000000\n",
       "75%        20.000000\n",
       "max        38.000000\n",
       "Name: gb_used, dtype: float64"
      ]
     },
     "execution_count": 53,
     "metadata": {},
     "output_type": "execute_result"
    },
    {
     "data": {
      "image/png": "[encoded data removed]",
      "text/plain": [
       "<Figure size 864x360 with 1 Axes>"
      ]
     },
     "metadata": {
      "needs_background": "light"
     },
     "output_type": "display_data"
    }
   ],
   "source": [
    "data_smart['gb_used'].hist(bins=100, figsize=(12,5))\n",
    "data_smart['gb_used'].describe()"
   ]
  },
  {
   "cell_type": "code",
   "execution_count": 54,
   "metadata": {},
   "outputs": [
    {
     "data": {
      "image/png": "[encoded data removed]",
      "text/plain": [
       "<Figure size 432x288 with 1 Axes>"
      ]
     },
     "metadata": {
      "needs_background": "light"
     },
     "output_type": "display_data"
    }
   ],
   "source": [
    "data_smart.loc[:, ['gb_used']].boxplot()\n",
    "plt.show()"
   ]
  },
  {
   "cell_type": "markdown",
   "metadata": {},
   "source": [
    "Что видим: \n",
    "\n",
    "Учитывая оба графика (гистограмму и диаграмму размаха), можно сказать, что распреление значений использованного интернет-трафика для пользователей тарифа \"Smart\" очень близко к нормальному. \n",
    "\n",
    "1. На диаграмме размаха видно, что медиана практически одинаково близка как к первому персентилю, так и к 3-му. Более того, среднее арифметическое и медианное значения практически идентичны, что говорит о том, что в данных крайне мало выбросов. Собственно, самы выбросы также видны на обоих диаграммах - значения свыше `80`. Их совсем немного. \n",
    "2. Мы также видим небольшое кол-во значений ниже \"нижнего уса\", которые могут слегка исказить общую выборку. Однако, влияние этих данных невелико в данном кейсе. \n",
    "Стандартное отклонение равно 14.932788. Это значит, что, если следовать правилу 3-х сигм, то 99% значений лежат в диапозоне ~ [0:97]. Если мы взглянем на нашу гистограмму, то увидим, что в этот диапозон входят практически все значения нашей выборки. При этом значение дисперсии - аж 223.\n",
    "3. Данные распределены очень плотно, из-за чего можно говорить, что очень большое кол-во данных попало в диапозон первых 3-х квартилей. \n",
    "\n",
    "\n",
    "\"Какой объем трафика требуется пользователям тарифа `Smart` в месяц?\"\n",
    "В среднем - 43 ГБ. Что, кстати, выше этого же показателя в тарифе `Ultra`. \n",
    "Не в среднем - большинству до 52 ГБ."
   ]
  },
  {
   "cell_type": "markdown",
   "metadata": {},
   "source": [
    "## Выводы относительно распределения данных\n",
    "\n",
    "1. Распределение данных по кол-ву используемых минут и трафика для обоих тарифов распределены нормально. Больших выбросов в данных нет. \n",
    "2. Кол-во минут, используемых пользователями тарифа `Ultra`, сильно выше, чем у пользователей на тарифе `Smart` (ожидаемо).  При это важная особенность: средний показатель у пользователей тарифа `Ultra` сильно меньше лимита, предоставляемого оператором связи (545 из 3000). \n",
    "3. Другой особенностью является тот факт, что пользователям тарифа `Smart` требуется в среднем больше трафика, чем пользоателям на тарифе `Ultra`. Разница очень значима - 5 ГБ.\n",
    "Я сделаю предположение, что такая разница в объеме используемого трафика связана с тем, что на тарифе `Smart` более молодая аудитория, которая меньше использует телефонные звонки, но больше интернет-трафик. Это, в приниципе, объясняет такую разницу. \n",
    "\n",
    "Дополнительно предположу, что если наложить графики распределения кол-ва минут и трафика по двум тарифам, они друг друга перекроют. \n",
    "\n",
    "4. Графики распределения данных по кол-ву сообщений на обоих тарифах смещены вправо. Тренд для обоих сегментов одинаков : много околонулевых значений, а также много \"высоких\" значений. На обоих тарифах значения стандартного отклонения очень высоки. Само распределение имеет очень много пиков.\n",
    "\n",
    "Отдельно отмечу, что распределения по кол-ву сообщения не такое плотное, как в случае с трафиком и минутами. \n",
    "\n",
    "Что касается анализа средних значений и дисперсий: из данных видно, что средние значения сильно ниже пороговых, установленных тарифами, при этом разброс данных очень большой. Это говорит о том, что очень много пользователей, которые выходят за пороговые значения, установленных лимитами тарифов. \n",
    "    \n",
    "Диспресия значений пользователей тарифа `ultra` сильно выше, чем на тарифе `smart` (почти в 3 раза). Наверно, перевод пользователей тарифа ultra на smart или на какой-то новый тариф может быть выгоднее для компании, так как пользователи, сильно вышедшие за лимиты, могут принести больше выручки. "
   ]
  },
  {
   "cell_type": "markdown",
   "metadata": {},
   "source": [
    "## Сравнение на едином графике"
   ]
  },
  {
   "cell_type": "markdown",
   "metadata": {},
   "source": [
    "Чуть выше писал, что если наложить графики двух тарифов, они наложатся друг на друга. Решил проверить ниже. \n",
    "\n",
    "Гистограмма по трафику."
   ]
  },
  {
   "cell_type": "code",
   "execution_count": 55,
   "metadata": {},
   "outputs": [
    {
     "data": {
      "text/plain": [
       "<AxesSubplot:ylabel='Frequency'>"
      ]
     },
     "execution_count": 55,
     "metadata": {},
     "output_type": "execute_result"
    },
    {
     "data": {
      "image/png": "[encoded data removed]",
      "text/plain": [
       "<Figure size 432x288 with 1 Axes>"
      ]
     },
     "metadata": {
      "needs_background": "light"
     },
     "output_type": "display_data"
    }
   ],
   "source": [
    "ax = data_ultra['gb_used'].plot(kind='hist', y='gb_used', range=(0, 100), bins=25, linewidth=5, alpha=1, label='ultra', legend=True)\n",
    "data_smart['gb_used'].plot(kind='hist', y='gb_used', range=(0, 100), bins=25, linewidth=5, alpha=0.5, label='smart', ax=ax, grid=True, legend=True)"
   ]
  },
  {
   "cell_type": "markdown",
   "metadata": {},
   "source": [
    "Гистограмма по кол-ву минут."
   ]
  },
  {
   "cell_type": "code",
   "execution_count": 56,
   "metadata": {},
   "outputs": [
    {
     "data": {
      "image/png": "[encoded data removed]",
      "text/plain": [
       "<Figure size 432x288 with 1 Axes>"
      ]
     },
     "metadata": {
      "needs_background": "light"
     },
     "output_type": "display_data"
    }
   ],
   "source": [
    "ax = data_ultra['sum_minutes_spent'].plot(kind='hist', y='sum_minutes_spent', range=(0, 2000), bins=25, linewidth=5, alpha=1, label='ultra', legend=True)\n",
    "data_smart['sum_minutes_spent'].plot(kind='hist', y='sum_minutes_spent', range=(0, 2000), bins=25, linewidth=5, alpha=0.5, label='smart', ax=ax, grid=True, legend=True)\n",
    "plt.xlabel('sum_minutes_spent')\n",
    "plt.ylabel('frequency')\n",
    "plt.show()"
   ]
  },
  {
   "cell_type": "markdown",
   "metadata": {},
   "source": [
    "Гистограмма по кол-ву сообщений."
   ]
  },
  {
   "cell_type": "code",
   "execution_count": 57,
   "metadata": {},
   "outputs": [
    {
     "data": {
      "image/png": "[encoded data removed]",
      "text/plain": [
       "<Figure size 432x288 with 1 Axes>"
      ]
     },
     "metadata": {
      "needs_background": "light"
     },
     "output_type": "display_data"
    }
   ],
   "source": [
    "ax = data_ultra['message_count'].plot(kind='hist', y='message_count', range=(0, 100), bins=25, linewidth=5, alpha=1, label='ultra', legend=True)\n",
    "data_smart['message_count'].plot(kind='hist', y='message_count', range=(0, 100), bins=25, linewidth=5, alpha=0.5, label='smart', ax=ax, grid=True, legend=True)\n",
    "plt.ylabel('message_count')\n",
    "plt.xlabel('frequency')\n",
    "plt.show()"
   ]
  },
  {
   "cell_type": "markdown",
   "metadata": {},
   "source": [
    "## Проверка гипотез\n",
    "\n",
    "Ранее я уже сделал срез датафрейма по тарифам.\n",
    "Данные выборки пользователей тарифа \"Ultra\" сохранены в переменную `data_ultra`, тогда как выборка пользователей тарифа \"Smart\" сохранена в переменную `data_smart`. Ими и будем дальше оперировать. \n",
    "\n",
    "Для начала проверим первую гипотезу из задания. "
   ]
  },
  {
   "cell_type": "markdown",
   "metadata": {},
   "source": [
    "### Cредняя выручка пользователей тарифов «Ультра» и «Смарт» различаются\n",
    "\n",
    "Поскольку мы будем сравнивать средние двух совокупностей, то нам необходимо обращать внимание как на сами средние, так и на дисперсии, потому что разброс данных в совокупностях может повлиять на результат статистического теста. \n",
    "\n",
    "В качестве нулевой гипотезы я возьму следующую :\n",
    "`H₀ - cредняя выручка пользователей тарифов «Ультра» и «Смарт» не различаются`. Другими словами: выручка пользователей тарифа \"Ultra\" = средней выручка пользователей тарифа \"Smart\". \n",
    " \n",
    "Альтернативная: \n",
    "`H₁ - cредняя выручка пользователей тарифов «Ультра» и «Смарт» различаются.` Другими словами: выручка пользователей тарифа \"Ultra\" != средней выручка пользователей тарифа \"Smart\".  \n",
    "\n",
    "В качестве уровня значимости я возьму значение в 5%. Чуть раньше мы смотрели на распределение значений совокупностей, и по 2-м из 3-х параметров распределение очень сильно напоминало нормальное. Поэтому, думаю, в данном случае все-таки не стоит брать 1% в качестве уровня значимости (или любое другое значение).\n",
    "\n",
    "Да, важная оговорка. Выборки у нас несозависимые."
   ]
  },
  {
   "cell_type": "markdown",
   "metadata": {},
   "source": [
    "Распределение значений по выручке от тарифов. "
   ]
  },
  {
   "cell_type": "code",
   "execution_count": 58,
   "metadata": {},
   "outputs": [
    {
     "data": {
      "image/png": "[encoded data removed]",
      "text/plain": [
       "<Figure size 432x288 with 1 Axes>"
      ]
     },
     "metadata": {
      "needs_background": "light"
     },
     "output_type": "display_data"
    }
   ],
   "source": [
    "ax = data_ultra['revenue'].plot(kind='hist', y='revenue', range=(0, 6000), bins=25, linewidth=5, alpha=1, label='ultra', legend=True)\n",
    "data_smart['revenue'].plot(kind='hist', y='revenue', range=(0, 6000), bins=25, linewidth=5, alpha=0.5, label='smart', ax=ax, grid=True, legend=True, title='Revenue')\n",
    "plt.show()"
   ]
  },
  {
   "cell_type": "code",
   "execution_count": 59,
   "metadata": {},
   "outputs": [
    {
     "name": "stdout",
     "output_type": "stream",
     "text": [
      "p-значение:  4.2606313931076085e-250\n"
     ]
    }
   ],
   "source": [
    "alpha = .05\n",
    "\n",
    "result = st.ttest_ind(data_smart['revenue'], data_ultra['revenue'], equal_var=False) \n",
    "print('p-значение: ', result.pvalue)"
   ]
  },
  {
   "cell_type": "markdown",
   "metadata": {},
   "source": [
    "### Вывод по тесту\n",
    "\n",
    "Мы получили значение, которое сильно меньше нашего порогового значения в 5%, что говорит о том, что вероятность получить равные средние значения двух выборок очень мала. Отвергаем нулевую гипотезу. \n",
    "\n",
    "Таким образом, мы не отвергаем нашу альтернативную гипотезу: `Средняя выручка пользователей тарифов «Ультра» и «Смарт» различаются.`"
   ]
  },
  {
   "cell_type": "markdown",
   "metadata": {},
   "source": [
    "### Cредняя выручка пользователи из Москвы отличается от выручки пользователей из других регионов"
   ]
  },
  {
   "cell_type": "markdown",
   "metadata": {},
   "source": [
    "Теперь проверим вторую гипотезу: средняя выручка пользователи из Москвы отличается от выручки пользователей из других регионов.\n",
    "\n",
    "Моей нулевой гипотезой будет `H₀ - средняя выручка пользователей из Москвы равна средней выручке пользователей из других регионов.`\n",
    "\n",
    "`H₁ - средняя выручка пользователей из Москвы не равна средней выручке пользователей из других регионов`.\n",
    "\n",
    "Чтобы провести этот тест, нам необходимо будет сделать срез по городу объединенной таблицы, сохраненной в переменную full_data."
   ]
  },
  {
   "cell_type": "code",
   "execution_count": 60,
   "metadata": {},
   "outputs": [
    {
     "data": {
      "text/plain": [
       "array(['Краснодар', 'Москва', 'Новокузнецк', 'Иваново', 'Омск', 'Уфа',\n",
       "       'Томск', 'Санкт-Петербург', 'Тверь', 'Ярославль', 'Тюмень',\n",
       "       'Ростов-на-Дону', 'Калуга', 'Тула', 'Волгоград', 'Саранск',\n",
       "       'Иркутск', 'Череповец', 'Новосибирск', 'Брянск', 'Тольятти',\n",
       "       'Нижний Тагил', 'Воронеж', 'Махачкала', 'Пермь', 'Сургут', 'Пенза',\n",
       "       'Мурманск', 'Набережные Челны', 'Самара', 'Нижний Новгород',\n",
       "       'Кемерово', 'Кострома', 'Оренбург', 'Магнитогорск', 'Астрахань',\n",
       "       'Нижневартовск', 'Челябинск', 'Курган', 'Красноярск',\n",
       "       'Владивосток', 'Смоленск', 'Владимир', 'Казань', 'Саратов',\n",
       "       'Севастополь', 'Рязань', 'Екатеринбург', 'Стерлитамак',\n",
       "       'Ульяновск', 'Балашиха', 'Барнаул', 'Киров', 'Сочи', 'Вологда',\n",
       "       'Чебоксары', 'Чита', 'Петрозаводск', 'Хабаровск', 'Ставрополь',\n",
       "       'Улан-Удэ', 'Курск', 'Якутск', 'Химки', 'Владикавказ', 'Ижевск',\n",
       "       'Орёл', 'Белгород', 'Архангельск', 'Липецк', 'Волжский', 'Тамбов',\n",
       "       'Калининград', 'Новороссийск', 'Грозный', 'Подольск'], dtype=object)"
      ]
     },
     "execution_count": 60,
     "metadata": {},
     "output_type": "execute_result"
    }
   ],
   "source": [
    "full_data['city'].unique()"
   ]
  },
  {
   "cell_type": "markdown",
   "metadata": {},
   "source": [
    "Неявных дубликатов нет в столбце с городами, поэтому можем спокойно сделать срез следующим образом: \n",
    "\n",
    "Для теста в качестве уровня значимости я также возьму значение в 5%."
   ]
  },
  {
   "cell_type": "code",
   "execution_count": 61,
   "metadata": {},
   "outputs": [],
   "source": [
    "moscow_data = full_data.query('city == \"Москва\"')\n",
    "other_cities_data = full_data.query('city != \"Москва\"')"
   ]
  },
  {
   "cell_type": "code",
   "execution_count": 62,
   "metadata": {},
   "outputs": [
    {
     "name": "stdout",
     "output_type": "stream",
     "text": [
      "p-значение:  0.5257376663729298\n"
     ]
    }
   ],
   "source": [
    "alpha = .05\n",
    "\n",
    "result = st.ttest_ind(moscow_data['revenue'], other_cities_data['revenue'], equal_var=False) \n",
    "print('p-значение: ', result.pvalue)"
   ]
  },
  {
   "cell_type": "markdown",
   "metadata": {},
   "source": [
    "### Вывод по тесту\n",
    "\n",
    "Полученное значение p-value говорит о том, что вероятность получить такое или большее различие почти 50%. Это очень большое значение, чтобы делать вывод, что средняя выручка пользователей из Москвы не равна средней выручке пользователей из других городов.\n",
    "\n",
    "Таким образом, у нас мало оснований отвергать нашу нулевую гипотезу. "
   ]
  },
  {
   "cell_type": "markdown",
   "metadata": {},
   "source": [
    "## Общий вывод"
   ]
  },
  {
   "cell_type": "markdown",
   "metadata": {},
   "source": [
    "1. Кол-во минут, используемых пользователями тарифа `Ultra`, сильно выше, чем у пользователей на тарифе `Smart` (ожидаемо).  При это важная особенность: средний показатель у пользователей тарифа `Ultra` сильно меньше лимита, предоставляемого оператором связи (545 из 3000). \n",
    "2. Другой особенностью является тот факт, что пользователям тарифа `Smart` требуется в среднем больше трафика, чем пользоателям на тарифе `Ultra`. Разница очень значима - 5 ГБ.\n",
    "3. Сообщения одинаково малопопулярны в обоих сегментах. При это распределение данных по сообщениям смещено вправо.\n",
    "4. Средняя выручка пользователей тарифа `Ultra` и `Smart` различаются. \n",
    "5. При этом средняя выручка от пользователей из Москвы равна средней выручка пользователей из других регионов. \n",
    "\n",
    "Учитывая вышеописанное поведение клиентов компании \"Мегалайн\", более прибыльным тарифом является тариф `Smart`."
   ]
  }
 ],
 "metadata": {
  "ExecuteTimeLog": [
   {
    "duration": 1349,
    "start_time": "2022-02-05T09:07:10.876Z"
   },
   {
    "duration": 3,
    "start_time": "2022-02-05T09:07:12.228Z"
   },
   {
    "duration": 666,
    "start_time": "2022-02-05T09:07:12.234Z"
   },
   {
    "duration": -20,
    "start_time": "2022-02-05T09:07:12.925Z"
   },
   {
    "duration": -19,
    "start_time": "2022-02-05T09:07:12.926Z"
   },
   {
    "duration": -23,
    "start_time": "2022-02-05T09:07:12.932Z"
   },
   {
    "duration": -24,
    "start_time": "2022-02-05T09:07:12.934Z"
   },
   {
    "duration": -23,
    "start_time": "2022-02-05T09:07:12.935Z"
   },
   {
    "duration": -23,
    "start_time": "2022-02-05T09:07:12.937Z"
   },
   {
    "duration": -22,
    "start_time": "2022-02-05T09:07:12.938Z"
   },
   {
    "duration": -22,
    "start_time": "2022-02-05T09:07:12.940Z"
   },
   {
    "duration": -22,
    "start_time": "2022-02-05T09:07:12.941Z"
   },
   {
    "duration": -21,
    "start_time": "2022-02-05T09:07:12.942Z"
   },
   {
    "duration": -22,
    "start_time": "2022-02-05T09:07:12.944Z"
   },
   {
    "duration": -22,
    "start_time": "2022-02-05T09:07:12.946Z"
   },
   {
    "duration": -23,
    "start_time": "2022-02-05T09:07:12.948Z"
   },
   {
    "duration": -22,
    "start_time": "2022-02-05T09:07:12.949Z"
   },
   {
    "duration": -26,
    "start_time": "2022-02-05T09:07:12.954Z"
   },
   {
    "duration": -27,
    "start_time": "2022-02-05T09:07:12.956Z"
   },
   {
    "duration": -28,
    "start_time": "2022-02-05T09:07:12.958Z"
   },
   {
    "duration": -27,
    "start_time": "2022-02-05T09:07:12.959Z"
   },
   {
    "duration": -28,
    "start_time": "2022-02-05T09:07:12.961Z"
   },
   {
    "duration": 2563,
    "start_time": "2022-02-05T09:08:56.898Z"
   },
   {
    "duration": 4,
    "start_time": "2022-02-05T09:09:00.228Z"
   },
   {
    "duration": 8,
    "start_time": "2022-02-05T09:09:00.234Z"
   },
   {
    "duration": 2702,
    "start_time": "2022-02-05T09:09:00.245Z"
   },
   {
    "duration": -18,
    "start_time": "2022-02-05T09:09:02.968Z"
   },
   {
    "duration": -19,
    "start_time": "2022-02-05T09:09:02.971Z"
   },
   {
    "duration": -19,
    "start_time": "2022-02-05T09:09:02.972Z"
   },
   {
    "duration": -19,
    "start_time": "2022-02-05T09:09:02.974Z"
   },
   {
    "duration": -20,
    "start_time": "2022-02-05T09:09:02.976Z"
   },
   {
    "duration": -20,
    "start_time": "2022-02-05T09:09:02.978Z"
   },
   {
    "duration": -18,
    "start_time": "2022-02-05T09:09:02.979Z"
   },
   {
    "duration": -18,
    "start_time": "2022-02-05T09:09:02.981Z"
   },
   {
    "duration": -17,
    "start_time": "2022-02-05T09:09:02.982Z"
   },
   {
    "duration": -19,
    "start_time": "2022-02-05T09:09:02.986Z"
   },
   {
    "duration": -19,
    "start_time": "2022-02-05T09:09:02.988Z"
   },
   {
    "duration": -20,
    "start_time": "2022-02-05T09:09:02.991Z"
   },
   {
    "duration": -19,
    "start_time": "2022-02-05T09:09:02.992Z"
   },
   {
    "duration": -21,
    "start_time": "2022-02-05T09:09:02.995Z"
   },
   {
    "duration": -21,
    "start_time": "2022-02-05T09:09:02.997Z"
   },
   {
    "duration": -24,
    "start_time": "2022-02-05T09:09:03.001Z"
   },
   {
    "duration": -25,
    "start_time": "2022-02-05T09:09:03.003Z"
   },
   {
    "duration": -25,
    "start_time": "2022-02-05T09:09:03.005Z"
   },
   {
    "duration": -26,
    "start_time": "2022-02-05T09:09:03.007Z"
   },
   {
    "duration": 530,
    "start_time": "2022-02-05T09:09:19.772Z"
   },
   {
    "duration": 4,
    "start_time": "2022-02-05T09:09:25.437Z"
   },
   {
    "duration": 5,
    "start_time": "2022-02-05T09:09:25.443Z"
   },
   {
    "duration": 513,
    "start_time": "2022-02-05T09:09:25.451Z"
   },
   {
    "duration": 193,
    "start_time": "2022-02-05T09:09:25.967Z"
   },
   {
    "duration": 147,
    "start_time": "2022-02-05T09:09:26.163Z"
   },
   {
    "duration": 13,
    "start_time": "2022-02-05T09:09:26.312Z"
   },
   {
    "duration": 100,
    "start_time": "2022-02-05T09:09:26.328Z"
   },
   {
    "duration": 31,
    "start_time": "2022-02-05T09:09:26.431Z"
   },
   {
    "duration": 32,
    "start_time": "2022-02-05T09:09:26.466Z"
   },
   {
    "duration": 70,
    "start_time": "2022-02-05T09:09:26.501Z"
   },
   {
    "duration": 29,
    "start_time": "2022-02-05T09:09:26.574Z"
   },
   {
    "duration": 24,
    "start_time": "2022-02-05T09:09:26.606Z"
   },
   {
    "duration": 27,
    "start_time": "2022-02-05T09:09:26.632Z"
   },
   {
    "duration": 25,
    "start_time": "2022-02-05T09:09:26.666Z"
   },
   {
    "duration": 103,
    "start_time": "2022-02-05T09:09:26.694Z"
   },
   {
    "duration": 21,
    "start_time": "2022-02-05T09:09:26.800Z"
   },
   {
    "duration": 43,
    "start_time": "2022-02-05T09:09:26.824Z"
   },
   {
    "duration": 27,
    "start_time": "2022-02-05T09:09:26.869Z"
   },
   {
    "duration": 26,
    "start_time": "2022-02-05T09:09:26.899Z"
   },
   {
    "duration": 45,
    "start_time": "2022-02-05T09:09:26.927Z"
   },
   {
    "duration": 56,
    "start_time": "2022-02-05T09:09:26.975Z"
   },
   {
    "duration": 315,
    "start_time": "2022-02-05T09:09:27.033Z"
   },
   {
    "duration": 88,
    "start_time": "2022-02-05T09:15:32.801Z"
   },
   {
    "duration": 97,
    "start_time": "2022-02-05T09:15:35.305Z"
   },
   {
    "duration": 70,
    "start_time": "2022-02-05T09:15:56.458Z"
   },
   {
    "duration": 385,
    "start_time": "2022-02-05T09:16:12.842Z"
   },
   {
    "duration": 62,
    "start_time": "2022-02-05T09:16:16.978Z"
   },
   {
    "duration": 5,
    "start_time": "2022-02-05T09:18:41.353Z"
   },
   {
    "duration": 58,
    "start_time": "2022-02-05T09:18:43.082Z"
   },
   {
    "duration": 66,
    "start_time": "2022-02-05T09:18:53.472Z"
   },
   {
    "duration": 68,
    "start_time": "2022-02-05T09:19:20.372Z"
   },
   {
    "duration": 1317,
    "start_time": "2022-02-05T09:19:29.509Z"
   },
   {
    "duration": 623,
    "start_time": "2022-02-05T09:19:30.829Z"
   },
   {
    "duration": 180,
    "start_time": "2022-02-05T09:19:31.456Z"
   },
   {
    "duration": 137,
    "start_time": "2022-02-05T09:19:31.639Z"
   },
   {
    "duration": 13,
    "start_time": "2022-02-05T09:19:31.778Z"
   },
   {
    "duration": 109,
    "start_time": "2022-02-05T09:19:31.793Z"
   },
   {
    "duration": 17,
    "start_time": "2022-02-05T09:19:31.904Z"
   },
   {
    "duration": 61,
    "start_time": "2022-02-05T09:19:31.925Z"
   },
   {
    "duration": 39,
    "start_time": "2022-02-05T09:19:31.989Z"
   },
   {
    "duration": 53,
    "start_time": "2022-02-05T09:19:32.030Z"
   },
   {
    "duration": 24,
    "start_time": "2022-02-05T09:19:32.086Z"
   },
   {
    "duration": 6,
    "start_time": "2022-02-05T09:19:32.112Z"
   },
   {
    "duration": 49,
    "start_time": "2022-02-05T09:19:32.121Z"
   },
   {
    "duration": 8,
    "start_time": "2022-02-05T09:19:32.173Z"
   },
   {
    "duration": 87,
    "start_time": "2022-02-05T09:19:32.184Z"
   },
   {
    "duration": 21,
    "start_time": "2022-02-05T09:19:32.273Z"
   },
   {
    "duration": 18,
    "start_time": "2022-02-05T09:19:32.296Z"
   },
   {
    "duration": 61,
    "start_time": "2022-02-05T09:19:32.316Z"
   },
   {
    "duration": 27,
    "start_time": "2022-02-05T09:19:32.379Z"
   },
   {
    "duration": 14,
    "start_time": "2022-02-05T09:19:32.408Z"
   },
   {
    "duration": 83,
    "start_time": "2022-02-05T09:19:32.424Z"
   },
   {
    "duration": 446,
    "start_time": "2022-02-05T09:19:32.510Z"
   },
   {
    "duration": 64,
    "start_time": "2022-02-05T09:20:59.058Z"
   },
   {
    "duration": 39,
    "start_time": "2022-02-05T09:21:30.139Z"
   },
   {
    "duration": 47,
    "start_time": "2022-02-05T09:21:31.373Z"
   },
   {
    "duration": 62,
    "start_time": "2022-02-05T09:21:37.411Z"
   },
   {
    "duration": 63,
    "start_time": "2022-02-05T09:24:52.555Z"
   },
   {
    "duration": 4,
    "start_time": "2022-02-05T09:24:57.530Z"
   },
   {
    "duration": 521,
    "start_time": "2022-02-05T09:24:57.537Z"
   },
   {
    "duration": 159,
    "start_time": "2022-02-05T09:24:58.060Z"
   },
   {
    "duration": 129,
    "start_time": "2022-02-05T09:24:58.221Z"
   },
   {
    "duration": 14,
    "start_time": "2022-02-05T09:24:58.360Z"
   },
   {
    "duration": 110,
    "start_time": "2022-02-05T09:24:58.376Z"
   },
   {
    "duration": 16,
    "start_time": "2022-02-05T09:24:58.488Z"
   },
   {
    "duration": 52,
    "start_time": "2022-02-05T09:24:58.507Z"
   },
   {
    "duration": 39,
    "start_time": "2022-02-05T09:24:58.563Z"
   },
   {
    "duration": 60,
    "start_time": "2022-02-05T09:24:58.605Z"
   },
   {
    "duration": 27,
    "start_time": "2022-02-05T09:24:58.668Z"
   },
   {
    "duration": 6,
    "start_time": "2022-02-05T09:24:58.697Z"
   },
   {
    "duration": 27,
    "start_time": "2022-02-05T09:24:58.705Z"
   },
   {
    "duration": 35,
    "start_time": "2022-02-05T09:24:58.760Z"
   },
   {
    "duration": 8953,
    "start_time": "2022-02-05T09:24:58.797Z"
   },
   {
    "duration": -32,
    "start_time": "2022-02-05T09:25:07.785Z"
   },
   {
    "duration": -35,
    "start_time": "2022-02-05T09:25:07.789Z"
   },
   {
    "duration": -35,
    "start_time": "2022-02-05T09:25:07.790Z"
   },
   {
    "duration": -35,
    "start_time": "2022-02-05T09:25:07.791Z"
   },
   {
    "duration": -35,
    "start_time": "2022-02-05T09:25:07.793Z"
   },
   {
    "duration": -36,
    "start_time": "2022-02-05T09:25:07.795Z"
   },
   {
    "duration": 343,
    "start_time": "2022-02-05T09:32:52.099Z"
   },
   {
    "duration": 344,
    "start_time": "2022-02-05T09:33:01.530Z"
   },
   {
    "duration": 349,
    "start_time": "2022-02-05T09:33:09.953Z"
   },
   {
    "duration": 441,
    "start_time": "2022-02-05T09:33:22.033Z"
   },
   {
    "duration": 38,
    "start_time": "2022-02-05T09:33:51.497Z"
   },
   {
    "duration": 39,
    "start_time": "2022-02-05T09:34:01.513Z"
   },
   {
    "duration": 72,
    "start_time": "2022-02-05T09:34:23.330Z"
   },
   {
    "duration": 66,
    "start_time": "2022-02-05T09:34:34.472Z"
   },
   {
    "duration": 34,
    "start_time": "2022-02-05T09:34:55.266Z"
   },
   {
    "duration": 32,
    "start_time": "2022-02-05T09:35:15.973Z"
   },
   {
    "duration": 30,
    "start_time": "2022-02-05T09:35:18.281Z"
   },
   {
    "duration": 4,
    "start_time": "2022-02-05T09:35:32.498Z"
   },
   {
    "duration": 2294,
    "start_time": "2022-02-05T09:35:44.333Z"
   },
   {
    "duration": 552,
    "start_time": "2022-02-05T09:35:46.630Z"
   },
   {
    "duration": 165,
    "start_time": "2022-02-05T09:35:47.186Z"
   },
   {
    "duration": 156,
    "start_time": "2022-02-05T09:35:47.353Z"
   },
   {
    "duration": 14,
    "start_time": "2022-02-05T09:35:47.512Z"
   },
   {
    "duration": 102,
    "start_time": "2022-02-05T09:35:47.529Z"
   },
   {
    "duration": 40,
    "start_time": "2022-02-05T09:35:47.634Z"
   },
   {
    "duration": 28,
    "start_time": "2022-02-05T09:35:47.677Z"
   },
   {
    "duration": 77,
    "start_time": "2022-02-05T09:35:47.709Z"
   },
   {
    "duration": 29,
    "start_time": "2022-02-05T09:35:47.788Z"
   },
   {
    "duration": 45,
    "start_time": "2022-02-05T09:35:47.820Z"
   },
   {
    "duration": 8,
    "start_time": "2022-02-05T09:35:47.876Z"
   },
   {
    "duration": 29,
    "start_time": "2022-02-05T09:35:47.887Z"
   },
   {
    "duration": 56,
    "start_time": "2022-02-05T09:35:47.919Z"
   },
   {
    "duration": 35,
    "start_time": "2022-02-05T09:35:47.977Z"
   },
   {
    "duration": 20,
    "start_time": "2022-02-05T09:35:48.014Z"
   },
   {
    "duration": 45,
    "start_time": "2022-02-05T09:35:48.036Z"
   },
   {
    "duration": 26,
    "start_time": "2022-02-05T09:35:48.083Z"
   },
   {
    "duration": 65,
    "start_time": "2022-02-05T09:35:48.111Z"
   },
   {
    "duration": 14,
    "start_time": "2022-02-05T09:35:48.178Z"
   },
   {
    "duration": 69,
    "start_time": "2022-02-05T09:35:48.196Z"
   },
   {
    "duration": 53,
    "start_time": "2022-02-05T09:36:23.820Z"
   },
   {
    "duration": 1355,
    "start_time": "2022-02-05T09:39:42.150Z"
   },
   {
    "duration": 500,
    "start_time": "2022-02-05T09:39:43.508Z"
   },
   {
    "duration": 155,
    "start_time": "2022-02-05T09:39:44.014Z"
   },
   {
    "duration": 135,
    "start_time": "2022-02-05T09:39:44.171Z"
   },
   {
    "duration": 12,
    "start_time": "2022-02-05T09:39:44.309Z"
   },
   {
    "duration": 101,
    "start_time": "2022-02-05T09:39:44.323Z"
   },
   {
    "duration": 32,
    "start_time": "2022-02-05T09:39:44.428Z"
   },
   {
    "duration": 28,
    "start_time": "2022-02-05T09:39:44.463Z"
   },
   {
    "duration": 78,
    "start_time": "2022-02-05T09:39:44.494Z"
   },
   {
    "duration": 31,
    "start_time": "2022-02-05T09:39:44.575Z"
   },
   {
    "duration": 25,
    "start_time": "2022-02-05T09:39:44.609Z"
   },
   {
    "duration": 26,
    "start_time": "2022-02-05T09:39:44.636Z"
   },
   {
    "duration": 25,
    "start_time": "2022-02-05T09:39:44.665Z"
   },
   {
    "duration": 69,
    "start_time": "2022-02-05T09:39:44.693Z"
   },
   {
    "duration": 4439,
    "start_time": "2022-02-05T09:39:44.764Z"
   },
   {
    "duration": 21,
    "start_time": "2022-02-05T09:39:49.205Z"
   },
   {
    "duration": 41,
    "start_time": "2022-02-05T09:39:49.228Z"
   },
   {
    "duration": 23,
    "start_time": "2022-02-05T09:39:49.272Z"
   },
   {
    "duration": 24,
    "start_time": "2022-02-05T09:39:49.297Z"
   },
   {
    "duration": 37,
    "start_time": "2022-02-05T09:39:49.323Z"
   },
   {
    "duration": 55,
    "start_time": "2022-02-05T09:39:49.362Z"
   },
   {
    "duration": 425,
    "start_time": "2022-02-05T09:40:39.886Z"
   },
   {
    "duration": 1771,
    "start_time": "2022-02-05T09:40:47.166Z"
   },
   {
    "duration": 29,
    "start_time": "2022-02-05T09:40:57.646Z"
   },
   {
    "duration": 43,
    "start_time": "2022-02-05T09:41:18.773Z"
   },
   {
    "duration": 5173,
    "start_time": "2022-02-05T09:42:58.957Z"
   },
   {
    "duration": 112,
    "start_time": "2022-02-05T09:43:32.934Z"
   },
   {
    "duration": 297,
    "start_time": "2022-02-05T09:43:44.871Z"
   },
   {
    "duration": 47,
    "start_time": "2022-02-05T09:45:09.093Z"
   },
   {
    "duration": 335,
    "start_time": "2022-02-05T09:45:44.662Z"
   },
   {
    "duration": 40,
    "start_time": "2022-02-05T09:45:56.757Z"
   },
   {
    "duration": 44,
    "start_time": "2022-02-05T09:46:31.495Z"
   },
   {
    "duration": 118,
    "start_time": "2022-02-05T09:48:29.101Z"
   },
   {
    "duration": 340,
    "start_time": "2022-02-05T09:48:47.606Z"
   },
   {
    "duration": 337,
    "start_time": "2022-02-05T09:50:53.324Z"
   },
   {
    "duration": 350,
    "start_time": "2022-02-05T09:55:11.620Z"
   },
   {
    "duration": 1382,
    "start_time": "2022-02-05T09:55:23.036Z"
   },
   {
    "duration": 524,
    "start_time": "2022-02-05T09:55:24.422Z"
   },
   {
    "duration": 175,
    "start_time": "2022-02-05T09:55:24.948Z"
   },
   {
    "duration": 143,
    "start_time": "2022-02-05T09:55:25.125Z"
   },
   {
    "duration": 16,
    "start_time": "2022-02-05T09:55:25.270Z"
   },
   {
    "duration": 112,
    "start_time": "2022-02-05T09:55:25.289Z"
   },
   {
    "duration": 17,
    "start_time": "2022-02-05T09:55:25.403Z"
   },
   {
    "duration": 50,
    "start_time": "2022-02-05T09:55:25.423Z"
   },
   {
    "duration": 39,
    "start_time": "2022-02-05T09:55:25.477Z"
   },
   {
    "duration": 59,
    "start_time": "2022-02-05T09:55:25.519Z"
   },
   {
    "duration": 27,
    "start_time": "2022-02-05T09:55:25.580Z"
   },
   {
    "duration": 7,
    "start_time": "2022-02-05T09:55:25.610Z"
   },
   {
    "duration": 52,
    "start_time": "2022-02-05T09:55:25.620Z"
   },
   {
    "duration": 38,
    "start_time": "2022-02-05T09:55:25.675Z"
   },
   {
    "duration": 413,
    "start_time": "2022-02-05T09:55:25.715Z"
   },
   {
    "duration": 33,
    "start_time": "2022-02-05T09:55:26.131Z"
   },
   {
    "duration": 18,
    "start_time": "2022-02-05T09:55:26.167Z"
   },
   {
    "duration": 24,
    "start_time": "2022-02-05T09:55:26.188Z"
   },
   {
    "duration": 53,
    "start_time": "2022-02-05T09:55:26.215Z"
   },
   {
    "duration": 14,
    "start_time": "2022-02-05T09:55:26.271Z"
   },
   {
    "duration": 73,
    "start_time": "2022-02-05T09:55:26.287Z"
   },
   {
    "duration": 392,
    "start_time": "2022-02-05T09:55:50.968Z"
   },
   {
    "duration": 4266,
    "start_time": "2022-02-05T10:11:11.871Z"
   },
   {
    "duration": 399,
    "start_time": "2022-02-05T10:11:45.543Z"
   },
   {
    "duration": 324,
    "start_time": "2022-02-05T10:11:53.318Z"
   },
   {
    "duration": 327,
    "start_time": "2022-02-05T10:23:31.421Z"
   },
   {
    "duration": 366,
    "start_time": "2022-02-05T10:23:41.093Z"
   },
   {
    "duration": 362,
    "start_time": "2022-02-05T10:23:58.525Z"
   },
   {
    "duration": 369,
    "start_time": "2022-02-05T10:29:44.156Z"
   },
   {
    "duration": 1317,
    "start_time": "2022-02-05T10:29:58.626Z"
   },
   {
    "duration": 520,
    "start_time": "2022-02-05T10:29:59.945Z"
   },
   {
    "duration": 190,
    "start_time": "2022-02-05T10:30:00.471Z"
   },
   {
    "duration": 159,
    "start_time": "2022-02-05T10:30:00.664Z"
   },
   {
    "duration": 16,
    "start_time": "2022-02-05T10:30:00.825Z"
   },
   {
    "duration": 99,
    "start_time": "2022-02-05T10:30:00.860Z"
   },
   {
    "duration": 20,
    "start_time": "2022-02-05T10:30:00.963Z"
   },
   {
    "duration": 27,
    "start_time": "2022-02-05T10:30:00.987Z"
   },
   {
    "duration": 79,
    "start_time": "2022-02-05T10:30:01.017Z"
   },
   {
    "duration": 31,
    "start_time": "2022-02-05T10:30:01.098Z"
   },
   {
    "duration": 45,
    "start_time": "2022-02-05T10:30:01.131Z"
   },
   {
    "duration": 6,
    "start_time": "2022-02-05T10:30:01.179Z"
   },
   {
    "duration": 27,
    "start_time": "2022-02-05T10:30:01.187Z"
   },
   {
    "duration": 69,
    "start_time": "2022-02-05T10:30:01.217Z"
   },
   {
    "duration": 385,
    "start_time": "2022-02-05T10:30:01.288Z"
   },
   {
    "duration": 21,
    "start_time": "2022-02-05T10:30:01.675Z"
   },
   {
    "duration": 19,
    "start_time": "2022-02-05T10:30:01.698Z"
   },
   {
    "duration": 52,
    "start_time": "2022-02-05T10:30:01.720Z"
   },
   {
    "duration": 26,
    "start_time": "2022-02-05T10:30:01.774Z"
   },
   {
    "duration": 15,
    "start_time": "2022-02-05T10:30:01.802Z"
   },
   {
    "duration": 88,
    "start_time": "2022-02-05T10:30:01.820Z"
   },
   {
    "duration": 342,
    "start_time": "2022-02-05T10:39:24.668Z"
   },
   {
    "duration": 359,
    "start_time": "2022-02-05T10:39:50.755Z"
   },
   {
    "duration": 764,
    "start_time": "2022-02-05T10:48:43.371Z"
   },
   {
    "duration": 697,
    "start_time": "2022-02-05T10:51:22.923Z"
   },
   {
    "duration": 1761,
    "start_time": "2022-02-05T10:51:29.646Z"
   },
   {
    "duration": 543,
    "start_time": "2022-02-05T10:51:31.409Z"
   },
   {
    "duration": 192,
    "start_time": "2022-02-05T10:51:31.955Z"
   },
   {
    "duration": 162,
    "start_time": "2022-02-05T10:51:32.150Z"
   },
   {
    "duration": 14,
    "start_time": "2022-02-05T10:51:32.315Z"
   },
   {
    "duration": 102,
    "start_time": "2022-02-05T10:51:32.332Z"
   },
   {
    "duration": 39,
    "start_time": "2022-02-05T10:51:32.437Z"
   },
   {
    "duration": 33,
    "start_time": "2022-02-05T10:51:32.482Z"
   },
   {
    "duration": 84,
    "start_time": "2022-02-05T10:51:32.518Z"
   },
   {
    "duration": 33,
    "start_time": "2022-02-05T10:51:32.604Z"
   },
   {
    "duration": 50,
    "start_time": "2022-02-05T10:51:32.639Z"
   },
   {
    "duration": 6,
    "start_time": "2022-02-05T10:51:32.691Z"
   },
   {
    "duration": 25,
    "start_time": "2022-02-05T10:51:32.700Z"
   },
   {
    "duration": 78,
    "start_time": "2022-02-05T10:51:32.728Z"
   },
   {
    "duration": 1000,
    "start_time": "2022-02-05T10:51:32.809Z"
   },
   {
    "duration": -14,
    "start_time": "2022-02-05T10:51:33.826Z"
   },
   {
    "duration": -14,
    "start_time": "2022-02-05T10:51:33.828Z"
   },
   {
    "duration": -16,
    "start_time": "2022-02-05T10:51:33.832Z"
   },
   {
    "duration": -16,
    "start_time": "2022-02-05T10:51:33.833Z"
   },
   {
    "duration": -15,
    "start_time": "2022-02-05T10:51:33.834Z"
   },
   {
    "duration": -14,
    "start_time": "2022-02-05T10:51:33.835Z"
   },
   {
    "duration": 1847,
    "start_time": "2022-02-05T10:52:01.885Z"
   },
   {
    "duration": 729,
    "start_time": "2022-02-05T10:55:31.414Z"
   },
   {
    "duration": 810,
    "start_time": "2022-02-05T10:55:35.710Z"
   },
   {
    "duration": 784,
    "start_time": "2022-02-05T10:55:41.487Z"
   },
   {
    "duration": 362,
    "start_time": "2022-02-05T10:55:44.575Z"
   },
   {
    "duration": 384,
    "start_time": "2022-02-05T10:55:48.008Z"
   },
   {
    "duration": 412,
    "start_time": "2022-02-05T10:56:26.086Z"
   },
   {
    "duration": 359,
    "start_time": "2022-02-05T10:56:43.654Z"
   },
   {
    "duration": 319,
    "start_time": "2022-02-05T10:57:25.493Z"
   },
   {
    "duration": 20,
    "start_time": "2022-02-05T10:57:54.119Z"
   },
   {
    "duration": 331,
    "start_time": "2022-02-05T10:58:02.014Z"
   },
   {
    "duration": 20,
    "start_time": "2022-02-05T10:58:07.108Z"
   },
   {
    "duration": 24,
    "start_time": "2022-02-05T10:58:10.381Z"
   },
   {
    "duration": 10044,
    "start_time": "2022-02-05T10:59:20.138Z"
   },
   {
    "duration": 9316,
    "start_time": "2022-02-05T10:59:36.543Z"
   },
   {
    "duration": 352,
    "start_time": "2022-02-05T10:59:52.183Z"
   },
   {
    "duration": 9805,
    "start_time": "2022-02-05T11:00:50.281Z"
   },
   {
    "duration": 372,
    "start_time": "2022-02-05T11:01:14.494Z"
   },
   {
    "duration": 1487,
    "start_time": "2022-02-05T11:03:46.968Z"
   },
   {
    "duration": 555,
    "start_time": "2022-02-05T11:03:48.460Z"
   },
   {
    "duration": 243,
    "start_time": "2022-02-05T11:03:49.018Z"
   },
   {
    "duration": 226,
    "start_time": "2022-02-05T11:03:49.264Z"
   },
   {
    "duration": 22,
    "start_time": "2022-02-05T11:03:49.493Z"
   },
   {
    "duration": 127,
    "start_time": "2022-02-05T11:03:49.518Z"
   },
   {
    "duration": 27,
    "start_time": "2022-02-05T11:03:49.647Z"
   },
   {
    "duration": 25,
    "start_time": "2022-02-05T11:03:49.677Z"
   },
   {
    "duration": 81,
    "start_time": "2022-02-05T11:03:49.706Z"
   },
   {
    "duration": 33,
    "start_time": "2022-02-05T11:03:49.790Z"
   },
   {
    "duration": 47,
    "start_time": "2022-02-05T11:03:49.825Z"
   },
   {
    "duration": 7,
    "start_time": "2022-02-05T11:03:49.874Z"
   },
   {
    "duration": 29,
    "start_time": "2022-02-05T11:03:49.884Z"
   },
   {
    "duration": 58,
    "start_time": "2022-02-05T11:03:49.915Z"
   },
   {
    "duration": 4,
    "start_time": "2022-02-05T11:05:23.624Z"
   },
   {
    "duration": 474,
    "start_time": "2022-02-05T11:05:23.631Z"
   },
   {
    "duration": 136,
    "start_time": "2022-02-05T11:05:24.107Z"
   },
   {
    "duration": 129,
    "start_time": "2022-02-05T11:05:24.245Z"
   },
   {
    "duration": 13,
    "start_time": "2022-02-05T11:05:24.376Z"
   },
   {
    "duration": 100,
    "start_time": "2022-02-05T11:05:24.391Z"
   },
   {
    "duration": 17,
    "start_time": "2022-02-05T11:05:24.493Z"
   },
   {
    "duration": 52,
    "start_time": "2022-02-05T11:05:24.512Z"
   },
   {
    "duration": 39,
    "start_time": "2022-02-05T11:05:24.566Z"
   },
   {
    "duration": 51,
    "start_time": "2022-02-05T11:05:24.608Z"
   },
   {
    "duration": 24,
    "start_time": "2022-02-05T11:05:24.662Z"
   },
   {
    "duration": 5,
    "start_time": "2022-02-05T11:05:24.689Z"
   },
   {
    "duration": 23,
    "start_time": "2022-02-05T11:05:24.697Z"
   },
   {
    "duration": 68,
    "start_time": "2022-02-05T11:05:24.723Z"
   },
   {
    "duration": 321,
    "start_time": "2022-02-05T11:05:24.793Z"
   },
   {
    "duration": 20,
    "start_time": "2022-02-05T11:05:25.116Z"
   },
   {
    "duration": 33,
    "start_time": "2022-02-05T11:05:25.138Z"
   },
   {
    "duration": 25,
    "start_time": "2022-02-05T11:05:25.174Z"
   },
   {
    "duration": 25,
    "start_time": "2022-02-05T11:05:25.202Z"
   },
   {
    "duration": 39,
    "start_time": "2022-02-05T11:05:25.231Z"
   },
   {
    "duration": 48,
    "start_time": "2022-02-05T11:05:25.272Z"
   },
   {
    "duration": 128,
    "start_time": "2022-02-05T11:06:00.949Z"
   },
   {
    "duration": 1395,
    "start_time": "2022-02-05T11:07:57.591Z"
   },
   {
    "duration": 114,
    "start_time": "2022-02-05T11:08:43.958Z"
   },
   {
    "duration": 8282,
    "start_time": "2022-02-05T11:09:54.277Z"
   },
   {
    "duration": 312,
    "start_time": "2022-02-05T11:16:25.316Z"
   },
   {
    "duration": 350,
    "start_time": "2022-02-05T11:16:46.468Z"
   },
   {
    "duration": 1301,
    "start_time": "2022-02-05T11:19:12.514Z"
   },
   {
    "duration": 500,
    "start_time": "2022-02-05T11:19:13.818Z"
   },
   {
    "duration": 160,
    "start_time": "2022-02-05T11:19:14.325Z"
   },
   {
    "duration": 140,
    "start_time": "2022-02-05T11:19:14.488Z"
   },
   {
    "duration": 14,
    "start_time": "2022-02-05T11:19:14.631Z"
   },
   {
    "duration": 105,
    "start_time": "2022-02-05T11:19:14.660Z"
   },
   {
    "duration": 18,
    "start_time": "2022-02-05T11:19:14.769Z"
   },
   {
    "duration": 26,
    "start_time": "2022-02-05T11:19:14.790Z"
   },
   {
    "duration": 77,
    "start_time": "2022-02-05T11:19:14.819Z"
   },
   {
    "duration": 32,
    "start_time": "2022-02-05T11:19:14.898Z"
   },
   {
    "duration": 48,
    "start_time": "2022-02-05T11:19:14.932Z"
   },
   {
    "duration": 7,
    "start_time": "2022-02-05T11:19:14.982Z"
   },
   {
    "duration": 30,
    "start_time": "2022-02-05T11:19:14.992Z"
   },
   {
    "duration": 1352,
    "start_time": "2022-02-05T11:19:29.786Z"
   },
   {
    "duration": 509,
    "start_time": "2022-02-05T11:19:31.141Z"
   },
   {
    "duration": 172,
    "start_time": "2022-02-05T11:19:31.652Z"
   },
   {
    "duration": 140,
    "start_time": "2022-02-05T11:19:31.828Z"
   },
   {
    "duration": 16,
    "start_time": "2022-02-05T11:19:31.971Z"
   },
   {
    "duration": 116,
    "start_time": "2022-02-05T11:19:31.990Z"
   },
   {
    "duration": 18,
    "start_time": "2022-02-05T11:19:32.109Z"
   },
   {
    "duration": 47,
    "start_time": "2022-02-05T11:19:32.130Z"
   },
   {
    "duration": 42,
    "start_time": "2022-02-05T11:19:32.180Z"
   },
   {
    "duration": 61,
    "start_time": "2022-02-05T11:19:32.225Z"
   },
   {
    "duration": 25,
    "start_time": "2022-02-05T11:19:32.288Z"
   },
   {
    "duration": 6,
    "start_time": "2022-02-05T11:19:32.316Z"
   },
   {
    "duration": 51,
    "start_time": "2022-02-05T11:19:32.324Z"
   },
   {
    "duration": 381,
    "start_time": "2022-02-05T11:20:01.072Z"
   },
   {
    "duration": 1315,
    "start_time": "2022-02-05T11:20:13.704Z"
   },
   {
    "duration": 946,
    "start_time": "2022-02-05T11:20:19.975Z"
   },
   {
    "duration": 1404,
    "start_time": "2022-02-05T11:20:22.303Z"
   },
   {
    "duration": 1373,
    "start_time": "2022-02-05T11:20:31.114Z"
   },
   {
    "duration": 496,
    "start_time": "2022-02-05T11:20:32.490Z"
   },
   {
    "duration": 161,
    "start_time": "2022-02-05T11:20:32.989Z"
   },
   {
    "duration": 145,
    "start_time": "2022-02-05T11:20:33.153Z"
   },
   {
    "duration": 15,
    "start_time": "2022-02-05T11:20:33.301Z"
   },
   {
    "duration": 109,
    "start_time": "2022-02-05T11:20:33.318Z"
   },
   {
    "duration": 33,
    "start_time": "2022-02-05T11:20:33.429Z"
   },
   {
    "duration": 25,
    "start_time": "2022-02-05T11:20:33.464Z"
   },
   {
    "duration": 70,
    "start_time": "2022-02-05T11:20:33.493Z"
   },
   {
    "duration": 31,
    "start_time": "2022-02-05T11:20:33.567Z"
   },
   {
    "duration": 27,
    "start_time": "2022-02-05T11:20:33.600Z"
   },
   {
    "duration": 32,
    "start_time": "2022-02-05T11:20:33.629Z"
   },
   {
    "duration": 24,
    "start_time": "2022-02-05T11:20:33.664Z"
   },
   {
    "duration": 372,
    "start_time": "2022-02-05T11:22:59.899Z"
   },
   {
    "duration": 1338,
    "start_time": "2022-02-05T11:23:07.772Z"
   },
   {
    "duration": 499,
    "start_time": "2022-02-05T11:23:09.113Z"
   },
   {
    "duration": 159,
    "start_time": "2022-02-05T11:23:10.004Z"
   },
   {
    "duration": 137,
    "start_time": "2022-02-05T11:23:12.859Z"
   },
   {
    "duration": 17,
    "start_time": "2022-02-05T11:23:15.259Z"
   },
   {
    "duration": 81,
    "start_time": "2022-02-05T11:23:16.624Z"
   },
   {
    "duration": 18,
    "start_time": "2022-02-05T11:23:19.507Z"
   },
   {
    "duration": 29,
    "start_time": "2022-02-05T11:23:21.596Z"
   },
   {
    "duration": 39,
    "start_time": "2022-02-05T11:23:24.932Z"
   },
   {
    "duration": 32,
    "start_time": "2022-02-05T11:23:25.723Z"
   },
   {
    "duration": 25,
    "start_time": "2022-02-05T11:23:26.636Z"
   },
   {
    "duration": 6,
    "start_time": "2022-02-05T11:23:27.531Z"
   },
   {
    "duration": 22,
    "start_time": "2022-02-05T11:23:28.787Z"
   },
   {
    "duration": 376,
    "start_time": "2022-02-05T11:24:02.268Z"
   },
   {
    "duration": 314,
    "start_time": "2022-02-05T11:26:16.211Z"
   },
   {
    "duration": 1435,
    "start_time": "2022-02-05T11:26:22.571Z"
   },
   {
    "duration": 491,
    "start_time": "2022-02-05T11:26:24.008Z"
   },
   {
    "duration": 161,
    "start_time": "2022-02-05T11:26:24.502Z"
   },
   {
    "duration": 132,
    "start_time": "2022-02-05T11:26:24.665Z"
   },
   {
    "duration": 13,
    "start_time": "2022-02-05T11:26:24.799Z"
   },
   {
    "duration": 100,
    "start_time": "2022-02-05T11:26:24.814Z"
   },
   {
    "duration": 17,
    "start_time": "2022-02-05T11:26:24.916Z"
   },
   {
    "duration": 26,
    "start_time": "2022-02-05T11:26:24.959Z"
   },
   {
    "duration": 44,
    "start_time": "2022-02-05T11:26:24.989Z"
   },
   {
    "duration": 51,
    "start_time": "2022-02-05T11:26:25.036Z"
   },
   {
    "duration": 26,
    "start_time": "2022-02-05T11:26:25.089Z"
   },
   {
    "duration": 5,
    "start_time": "2022-02-05T11:26:25.117Z"
   },
   {
    "duration": 50,
    "start_time": "2022-02-05T11:26:25.124Z"
   },
   {
    "duration": 368,
    "start_time": "2022-02-05T11:26:47.272Z"
   },
   {
    "duration": 300,
    "start_time": "2022-02-05T11:27:07.494Z"
   },
   {
    "duration": 325,
    "start_time": "2022-02-05T11:31:02.007Z"
   },
   {
    "duration": 1350,
    "start_time": "2022-02-05T11:31:08.567Z"
   },
   {
    "duration": 493,
    "start_time": "2022-02-05T11:31:09.920Z"
   },
   {
    "duration": 167,
    "start_time": "2022-02-05T11:31:11.071Z"
   },
   {
    "duration": 4,
    "start_time": "2022-02-05T11:31:14.953Z"
   },
   {
    "duration": 511,
    "start_time": "2022-02-05T11:31:14.961Z"
   },
   {
    "duration": 141,
    "start_time": "2022-02-05T11:31:15.476Z"
   },
   {
    "duration": 134,
    "start_time": "2022-02-05T11:31:15.619Z"
   },
   {
    "duration": 13,
    "start_time": "2022-02-05T11:31:15.760Z"
   },
   {
    "duration": 114,
    "start_time": "2022-02-05T11:31:15.775Z"
   },
   {
    "duration": 18,
    "start_time": "2022-02-05T11:31:15.891Z"
   },
   {
    "duration": 51,
    "start_time": "2022-02-05T11:31:15.912Z"
   },
   {
    "duration": 45,
    "start_time": "2022-02-05T11:31:15.966Z"
   },
   {
    "duration": 55,
    "start_time": "2022-02-05T11:31:16.014Z"
   },
   {
    "duration": 41,
    "start_time": "2022-02-05T11:31:16.073Z"
   },
   {
    "duration": 8,
    "start_time": "2022-02-05T11:31:16.117Z"
   },
   {
    "duration": 57,
    "start_time": "2022-02-05T11:31:16.128Z"
   },
   {
    "duration": 461,
    "start_time": "2022-02-05T11:31:16.188Z"
   },
   {
    "duration": -18,
    "start_time": "2022-02-05T11:31:16.670Z"
   },
   {
    "duration": -20,
    "start_time": "2022-02-05T11:31:16.674Z"
   },
   {
    "duration": -18,
    "start_time": "2022-02-05T11:31:16.675Z"
   },
   {
    "duration": -17,
    "start_time": "2022-02-05T11:31:16.676Z"
   },
   {
    "duration": -16,
    "start_time": "2022-02-05T11:31:16.677Z"
   },
   {
    "duration": -19,
    "start_time": "2022-02-05T11:31:16.682Z"
   },
   {
    "duration": -18,
    "start_time": "2022-02-05T11:31:16.683Z"
   },
   {
    "duration": -17,
    "start_time": "2022-02-05T11:31:16.685Z"
   },
   {
    "duration": 9355,
    "start_time": "2022-02-05T11:31:37.775Z"
   },
   {
    "duration": 1345,
    "start_time": "2022-02-05T11:32:31.874Z"
   },
   {
    "duration": 510,
    "start_time": "2022-02-05T11:32:33.222Z"
   },
   {
    "duration": 162,
    "start_time": "2022-02-05T11:32:33.738Z"
   },
   {
    "duration": 188,
    "start_time": "2022-02-05T11:32:33.903Z"
   },
   {
    "duration": 17,
    "start_time": "2022-02-05T11:32:34.094Z"
   },
   {
    "duration": 183,
    "start_time": "2022-02-05T11:32:34.114Z"
   },
   {
    "duration": 18,
    "start_time": "2022-02-05T11:32:34.300Z"
   },
   {
    "duration": 25,
    "start_time": "2022-02-05T11:32:34.359Z"
   },
   {
    "duration": 38,
    "start_time": "2022-02-05T11:32:34.387Z"
   },
   {
    "duration": 53,
    "start_time": "2022-02-05T11:32:34.428Z"
   },
   {
    "duration": 26,
    "start_time": "2022-02-05T11:32:34.484Z"
   },
   {
    "duration": 6,
    "start_time": "2022-02-05T11:32:34.512Z"
   },
   {
    "duration": 50,
    "start_time": "2022-02-05T11:32:34.521Z"
   },
   {
    "duration": 37,
    "start_time": "2022-02-05T11:32:34.574Z"
   },
   {
    "duration": 8478,
    "start_time": "2022-02-05T11:32:34.613Z"
   },
   {
    "duration": -23,
    "start_time": "2022-02-05T11:32:43.116Z"
   },
   {
    "duration": -25,
    "start_time": "2022-02-05T11:32:43.120Z"
   },
   {
    "duration": -24,
    "start_time": "2022-02-05T11:32:43.121Z"
   },
   {
    "duration": -28,
    "start_time": "2022-02-05T11:32:43.126Z"
   },
   {
    "duration": -28,
    "start_time": "2022-02-05T11:32:43.128Z"
   },
   {
    "duration": -29,
    "start_time": "2022-02-05T11:32:43.130Z"
   },
   {
    "duration": 1416,
    "start_time": "2022-02-05T11:36:21.005Z"
   },
   {
    "duration": 521,
    "start_time": "2022-02-05T11:36:22.423Z"
   },
   {
    "duration": 172,
    "start_time": "2022-02-05T11:36:22.947Z"
   },
   {
    "duration": 139,
    "start_time": "2022-02-05T11:36:23.122Z"
   },
   {
    "duration": 16,
    "start_time": "2022-02-05T11:36:23.263Z"
   },
   {
    "duration": 111,
    "start_time": "2022-02-05T11:36:23.282Z"
   },
   {
    "duration": 17,
    "start_time": "2022-02-05T11:36:23.396Z"
   },
   {
    "duration": 53,
    "start_time": "2022-02-05T11:36:23.417Z"
   },
   {
    "duration": 40,
    "start_time": "2022-02-05T11:36:23.475Z"
   },
   {
    "duration": 59,
    "start_time": "2022-02-05T11:36:23.518Z"
   },
   {
    "duration": 27,
    "start_time": "2022-02-05T11:36:23.579Z"
   },
   {
    "duration": 7,
    "start_time": "2022-02-05T11:36:23.608Z"
   },
   {
    "duration": 57,
    "start_time": "2022-02-05T11:36:23.618Z"
   },
   {
    "duration": 36,
    "start_time": "2022-02-05T11:36:23.677Z"
   },
   {
    "duration": 71,
    "start_time": "2022-02-05T11:36:23.715Z"
   },
   {
    "duration": 20,
    "start_time": "2022-02-05T11:36:23.788Z"
   },
   {
    "duration": 20,
    "start_time": "2022-02-05T11:36:23.810Z"
   },
   {
    "duration": 51,
    "start_time": "2022-02-05T11:36:23.832Z"
   },
   {
    "duration": 27,
    "start_time": "2022-02-05T11:36:23.885Z"
   },
   {
    "duration": 14,
    "start_time": "2022-02-05T11:36:23.914Z"
   },
   {
    "duration": 85,
    "start_time": "2022-02-05T11:36:23.930Z"
   },
   {
    "duration": 1532,
    "start_time": "2022-02-05T11:38:45.412Z"
   },
   {
    "duration": 33,
    "start_time": "2022-02-05T11:39:01.909Z"
   },
   {
    "duration": 47,
    "start_time": "2022-02-05T11:39:06.036Z"
   },
   {
    "duration": 333,
    "start_time": "2022-02-05T11:39:58.877Z"
   },
   {
    "duration": 149,
    "start_time": "2022-02-05T11:40:05.812Z"
   },
   {
    "duration": 122,
    "start_time": "2022-02-05T11:46:16.651Z"
   },
   {
    "duration": 32,
    "start_time": "2022-02-05T11:47:37.284Z"
   },
   {
    "duration": 49,
    "start_time": "2022-02-05T11:48:00.148Z"
   },
   {
    "duration": 3,
    "start_time": "2022-02-05T11:48:01.539Z"
   },
   {
    "duration": 46,
    "start_time": "2022-02-05T11:48:02.973Z"
   },
   {
    "duration": 70,
    "start_time": "2022-02-05T11:49:45.939Z"
   },
   {
    "duration": 6,
    "start_time": "2022-02-05T11:50:07.075Z"
   },
   {
    "duration": 120,
    "start_time": "2022-02-05T11:50:14.826Z"
   },
   {
    "duration": 52,
    "start_time": "2022-02-05T11:50:18.010Z"
   },
   {
    "duration": 63,
    "start_time": "2022-02-05T11:50:55.235Z"
   },
   {
    "duration": 50,
    "start_time": "2022-02-05T11:51:00.610Z"
   },
   {
    "duration": 55,
    "start_time": "2022-02-05T11:51:04.074Z"
   },
   {
    "duration": 120,
    "start_time": "2022-02-05T11:51:20.906Z"
   },
   {
    "duration": 25,
    "start_time": "2022-02-05T11:51:24.426Z"
   },
   {
    "duration": 27,
    "start_time": "2022-02-05T11:51:27.538Z"
   },
   {
    "duration": 35,
    "start_time": "2022-02-05T11:51:39.402Z"
   },
   {
    "duration": 1495,
    "start_time": "2022-02-05T11:51:49.941Z"
   },
   {
    "duration": 513,
    "start_time": "2022-02-05T11:51:51.439Z"
   },
   {
    "duration": 185,
    "start_time": "2022-02-05T11:51:51.956Z"
   },
   {
    "duration": 170,
    "start_time": "2022-02-05T11:51:52.144Z"
   },
   {
    "duration": 19,
    "start_time": "2022-02-05T11:51:52.317Z"
   },
   {
    "duration": 120,
    "start_time": "2022-02-05T11:51:52.359Z"
   },
   {
    "duration": 17,
    "start_time": "2022-02-05T11:51:52.481Z"
   },
   {
    "duration": 58,
    "start_time": "2022-02-05T11:51:52.503Z"
   },
   {
    "duration": 40,
    "start_time": "2022-02-05T11:51:52.564Z"
   },
   {
    "duration": 58,
    "start_time": "2022-02-05T11:51:52.607Z"
   },
   {
    "duration": 26,
    "start_time": "2022-02-05T11:51:52.668Z"
   },
   {
    "duration": 7,
    "start_time": "2022-02-05T11:51:52.697Z"
   },
   {
    "duration": 23,
    "start_time": "2022-02-05T11:51:52.707Z"
   },
   {
    "duration": 146,
    "start_time": "2022-02-05T11:51:52.734Z"
   },
   {
    "duration": 58,
    "start_time": "2022-02-05T11:51:52.883Z"
   },
   {
    "duration": 28,
    "start_time": "2022-02-05T11:51:52.960Z"
   },
   {
    "duration": 17,
    "start_time": "2022-02-05T11:51:52.991Z"
   },
   {
    "duration": 466,
    "start_time": "2022-02-05T11:51:53.011Z"
   },
   {
    "duration": 312,
    "start_time": "2022-02-05T11:53:37.964Z"
   },
   {
    "duration": 310,
    "start_time": "2022-02-05T11:53:48.621Z"
   },
   {
    "duration": 56,
    "start_time": "2022-02-05T11:53:54.094Z"
   },
   {
    "duration": 51,
    "start_time": "2022-02-05T11:54:19.628Z"
   },
   {
    "duration": 105,
    "start_time": "2022-02-05T11:55:10.858Z"
   },
   {
    "duration": 100,
    "start_time": "2022-02-05T11:55:22.981Z"
   },
   {
    "duration": 56,
    "start_time": "2022-02-05T11:55:39.580Z"
   },
   {
    "duration": 23,
    "start_time": "2022-02-05T11:56:22.181Z"
   },
   {
    "duration": 37,
    "start_time": "2022-02-05T11:56:28.812Z"
   },
   {
    "duration": 145,
    "start_time": "2022-02-05T13:25:11.716Z"
   },
   {
    "duration": 13,
    "start_time": "2022-02-05T13:25:17.141Z"
   },
   {
    "duration": 24,
    "start_time": "2022-02-05T13:25:24.181Z"
   },
   {
    "duration": 36,
    "start_time": "2022-02-05T13:26:01.276Z"
   },
   {
    "duration": 31,
    "start_time": "2022-02-05T13:26:15.372Z"
   },
   {
    "duration": 32,
    "start_time": "2022-02-05T13:26:22.573Z"
   },
   {
    "duration": 16,
    "start_time": "2022-02-05T13:28:15.629Z"
   },
   {
    "duration": 38,
    "start_time": "2022-02-05T13:28:21.141Z"
   },
   {
    "duration": 31,
    "start_time": "2022-02-05T13:28:39.077Z"
   },
   {
    "duration": 80,
    "start_time": "2022-02-05T13:28:41.819Z"
   },
   {
    "duration": 4,
    "start_time": "2022-02-05T13:28:52.659Z"
   },
   {
    "duration": 493,
    "start_time": "2022-02-05T13:28:52.666Z"
   },
   {
    "duration": 141,
    "start_time": "2022-02-05T13:28:53.162Z"
   },
   {
    "duration": 116,
    "start_time": "2022-02-05T13:28:53.306Z"
   },
   {
    "duration": 11,
    "start_time": "2022-02-05T13:28:53.425Z"
   },
   {
    "duration": 74,
    "start_time": "2022-02-05T13:28:53.458Z"
   },
   {
    "duration": 35,
    "start_time": "2022-02-05T13:28:53.535Z"
   },
   {
    "duration": 26,
    "start_time": "2022-02-05T13:28:53.573Z"
   },
   {
    "duration": 73,
    "start_time": "2022-02-05T13:28:53.602Z"
   },
   {
    "duration": 31,
    "start_time": "2022-02-05T13:28:53.679Z"
   },
   {
    "duration": 26,
    "start_time": "2022-02-05T13:28:53.712Z"
   },
   {
    "duration": 5,
    "start_time": "2022-02-05T13:28:53.760Z"
   },
   {
    "duration": 23,
    "start_time": "2022-02-05T13:28:53.768Z"
   },
   {
    "duration": 113,
    "start_time": "2022-02-05T13:28:53.793Z"
   },
   {
    "duration": 63,
    "start_time": "2022-02-05T13:28:53.908Z"
   },
   {
    "duration": 25,
    "start_time": "2022-02-05T13:28:53.973Z"
   },
   {
    "duration": 15,
    "start_time": "2022-02-05T13:28:54.000Z"
   },
   {
    "duration": 70,
    "start_time": "2022-02-05T13:28:54.017Z"
   },
   {
    "duration": 30,
    "start_time": "2022-02-05T13:28:54.090Z"
   },
   {
    "duration": 49,
    "start_time": "2022-02-05T13:28:54.123Z"
   },
   {
    "duration": 325,
    "start_time": "2022-02-05T13:29:05.524Z"
   },
   {
    "duration": 340,
    "start_time": "2022-02-05T13:29:20.477Z"
   },
   {
    "duration": 4,
    "start_time": "2022-02-05T13:29:28.830Z"
   },
   {
    "duration": 481,
    "start_time": "2022-02-05T13:29:28.837Z"
   },
   {
    "duration": 138,
    "start_time": "2022-02-05T13:29:29.322Z"
   },
   {
    "duration": 133,
    "start_time": "2022-02-05T13:29:29.463Z"
   },
   {
    "duration": 12,
    "start_time": "2022-02-05T13:29:29.598Z"
   },
   {
    "duration": 96,
    "start_time": "2022-02-05T13:29:29.612Z"
   },
   {
    "duration": 18,
    "start_time": "2022-02-05T13:29:29.710Z"
   },
   {
    "duration": 50,
    "start_time": "2022-02-05T13:29:29.733Z"
   },
   {
    "duration": 39,
    "start_time": "2022-02-05T13:29:29.787Z"
   },
   {
    "duration": 54,
    "start_time": "2022-02-05T13:29:29.829Z"
   },
   {
    "duration": 26,
    "start_time": "2022-02-05T13:29:29.885Z"
   },
   {
    "duration": 6,
    "start_time": "2022-02-05T13:29:29.913Z"
   },
   {
    "duration": 51,
    "start_time": "2022-02-05T13:29:29.922Z"
   },
   {
    "duration": 119,
    "start_time": "2022-02-05T13:29:29.975Z"
   },
   {
    "duration": 64,
    "start_time": "2022-02-05T13:29:30.097Z"
   },
   {
    "duration": 26,
    "start_time": "2022-02-05T13:29:30.164Z"
   },
   {
    "duration": 14,
    "start_time": "2022-02-05T13:29:30.192Z"
   },
   {
    "duration": 69,
    "start_time": "2022-02-05T13:29:30.209Z"
   },
   {
    "duration": 30,
    "start_time": "2022-02-05T13:29:30.280Z"
   },
   {
    "duration": 53,
    "start_time": "2022-02-05T13:29:30.312Z"
   },
   {
    "duration": 329,
    "start_time": "2022-02-05T13:35:01.292Z"
   },
   {
    "duration": 350,
    "start_time": "2022-02-05T13:36:38.220Z"
   },
   {
    "duration": 1448,
    "start_time": "2022-02-05T13:36:49.632Z"
   },
   {
    "duration": 606,
    "start_time": "2022-02-05T13:36:51.084Z"
   },
   {
    "duration": 169,
    "start_time": "2022-02-05T13:36:51.693Z"
   },
   {
    "duration": 152,
    "start_time": "2022-02-05T13:36:51.865Z"
   },
   {
    "duration": 17,
    "start_time": "2022-02-05T13:36:52.020Z"
   },
   {
    "duration": 100,
    "start_time": "2022-02-05T13:36:52.039Z"
   },
   {
    "duration": 18,
    "start_time": "2022-02-05T13:36:52.158Z"
   },
   {
    "duration": 25,
    "start_time": "2022-02-05T13:36:52.178Z"
   },
   {
    "duration": 77,
    "start_time": "2022-02-05T13:36:52.207Z"
   },
   {
    "duration": 30,
    "start_time": "2022-02-05T13:36:52.286Z"
   },
   {
    "duration": 43,
    "start_time": "2022-02-05T13:36:52.318Z"
   },
   {
    "duration": 6,
    "start_time": "2022-02-05T13:36:52.363Z"
   },
   {
    "duration": 24,
    "start_time": "2022-02-05T13:36:52.371Z"
   },
   {
    "duration": 147,
    "start_time": "2022-02-05T13:36:52.398Z"
   },
   {
    "duration": 68,
    "start_time": "2022-02-05T13:36:52.548Z"
   },
   {
    "duration": 43,
    "start_time": "2022-02-05T13:36:52.618Z"
   },
   {
    "duration": 18,
    "start_time": "2022-02-05T13:36:52.664Z"
   },
   {
    "duration": 81,
    "start_time": "2022-02-05T13:36:52.685Z"
   },
   {
    "duration": 44,
    "start_time": "2022-02-05T13:36:52.769Z"
   },
   {
    "duration": 72,
    "start_time": "2022-02-05T13:36:52.816Z"
   },
   {
    "duration": 524,
    "start_time": "2022-02-05T13:36:52.890Z"
   },
   {
    "duration": 8,
    "start_time": "2022-02-05T13:41:25.540Z"
   },
   {
    "duration": 342,
    "start_time": "2022-02-05T13:41:38.716Z"
   },
   {
    "duration": 30,
    "start_time": "2022-02-05T13:42:50.131Z"
   },
   {
    "duration": 13,
    "start_time": "2022-02-05T13:43:20.579Z"
   },
   {
    "duration": 325,
    "start_time": "2022-02-05T13:43:39.419Z"
   },
   {
    "duration": 1377,
    "start_time": "2022-02-05T13:48:37.937Z"
   },
   {
    "duration": 503,
    "start_time": "2022-02-05T13:48:39.317Z"
   },
   {
    "duration": 160,
    "start_time": "2022-02-05T13:48:39.823Z"
   },
   {
    "duration": 151,
    "start_time": "2022-02-05T13:48:39.986Z"
   },
   {
    "duration": 27,
    "start_time": "2022-02-05T13:48:40.139Z"
   },
   {
    "duration": 105,
    "start_time": "2022-02-05T13:48:40.169Z"
   },
   {
    "duration": 18,
    "start_time": "2022-02-05T13:48:40.277Z"
   },
   {
    "duration": 26,
    "start_time": "2022-02-05T13:48:40.298Z"
   },
   {
    "duration": 71,
    "start_time": "2022-02-05T13:48:40.327Z"
   },
   {
    "duration": 32,
    "start_time": "2022-02-05T13:48:40.400Z"
   },
   {
    "duration": 28,
    "start_time": "2022-02-05T13:48:40.458Z"
   },
   {
    "duration": 8,
    "start_time": "2022-02-05T13:48:40.489Z"
   },
   {
    "duration": 63,
    "start_time": "2022-02-05T13:48:40.500Z"
   },
   {
    "duration": 177,
    "start_time": "2022-02-05T13:48:40.566Z"
   },
   {
    "duration": 87,
    "start_time": "2022-02-05T13:48:40.747Z"
   },
   {
    "duration": 45,
    "start_time": "2022-02-05T13:48:40.837Z"
   },
   {
    "duration": 21,
    "start_time": "2022-02-05T13:48:40.885Z"
   },
   {
    "duration": 68,
    "start_time": "2022-02-05T13:48:40.909Z"
   },
   {
    "duration": 33,
    "start_time": "2022-02-05T13:48:40.980Z"
   },
   {
    "duration": 55,
    "start_time": "2022-02-05T13:48:41.016Z"
   },
   {
    "duration": 438,
    "start_time": "2022-02-05T13:48:41.073Z"
   },
   {
    "duration": 331,
    "start_time": "2022-02-05T13:49:02.376Z"
   },
   {
    "duration": 328,
    "start_time": "2022-02-05T13:49:05.479Z"
   },
   {
    "duration": 352,
    "start_time": "2022-02-05T13:49:14.878Z"
   },
   {
    "duration": 8,
    "start_time": "2022-02-05T13:49:25.351Z"
   },
   {
    "duration": 458,
    "start_time": "2022-02-05T13:50:44.839Z"
   },
   {
    "duration": 149,
    "start_time": "2022-02-05T13:50:53.600Z"
   },
   {
    "duration": 34,
    "start_time": "2022-02-05T13:51:06.695Z"
   },
   {
    "duration": 331,
    "start_time": "2022-02-05T13:53:10.391Z"
   },
   {
    "duration": 306,
    "start_time": "2022-02-05T13:53:16.575Z"
   },
   {
    "duration": 500,
    "start_time": "2022-02-05T14:00:59.941Z"
   },
   {
    "duration": 7570,
    "start_time": "2022-02-05T14:05:23.733Z"
   },
   {
    "duration": 321,
    "start_time": "2022-02-05T14:05:38.677Z"
   },
   {
    "duration": 26,
    "start_time": "2022-02-05T14:06:20.245Z"
   },
   {
    "duration": 1725,
    "start_time": "2022-02-05T14:16:34.387Z"
   },
   {
    "duration": 611,
    "start_time": "2022-02-05T14:16:36.114Z"
   },
   {
    "duration": 196,
    "start_time": "2022-02-05T14:16:36.729Z"
   },
   {
    "duration": 195,
    "start_time": "2022-02-05T14:16:36.929Z"
   },
   {
    "duration": 15,
    "start_time": "2022-02-05T14:16:37.127Z"
   },
   {
    "duration": 100,
    "start_time": "2022-02-05T14:16:37.160Z"
   },
   {
    "duration": 18,
    "start_time": "2022-02-05T14:16:37.263Z"
   },
   {
    "duration": 25,
    "start_time": "2022-02-05T14:16:37.286Z"
   },
   {
    "duration": 79,
    "start_time": "2022-02-05T14:16:37.313Z"
   },
   {
    "duration": 31,
    "start_time": "2022-02-05T14:16:37.394Z"
   },
   {
    "duration": 43,
    "start_time": "2022-02-05T14:16:37.428Z"
   },
   {
    "duration": 6,
    "start_time": "2022-02-05T14:16:37.474Z"
   },
   {
    "duration": 25,
    "start_time": "2022-02-05T14:16:37.483Z"
   },
   {
    "duration": 149,
    "start_time": "2022-02-05T14:16:37.510Z"
   },
   {
    "duration": 55,
    "start_time": "2022-02-05T14:16:37.661Z"
   },
   {
    "duration": 50,
    "start_time": "2022-02-05T14:16:37.718Z"
   },
   {
    "duration": 15,
    "start_time": "2022-02-05T14:16:37.770Z"
   },
   {
    "duration": 43,
    "start_time": "2022-02-05T14:16:37.787Z"
   },
   {
    "duration": 57,
    "start_time": "2022-02-05T14:16:37.833Z"
   },
   {
    "duration": 34,
    "start_time": "2022-02-05T14:16:37.894Z"
   },
   {
    "duration": 536,
    "start_time": "2022-02-05T14:16:37.958Z"
   },
   {
    "duration": 14,
    "start_time": "2022-02-05T14:17:20.174Z"
   },
   {
    "duration": 52,
    "start_time": "2022-02-05T14:17:32.751Z"
   },
   {
    "duration": 318,
    "start_time": "2022-02-05T14:19:37.617Z"
   },
   {
    "duration": 116,
    "start_time": "2022-02-05T14:19:44.310Z"
   },
   {
    "duration": 144,
    "start_time": "2022-02-05T14:19:54.238Z"
   },
   {
    "duration": 126,
    "start_time": "2022-02-05T14:20:04.918Z"
   },
   {
    "duration": 50,
    "start_time": "2022-02-05T14:20:19.014Z"
   },
   {
    "duration": 26,
    "start_time": "2022-02-05T14:20:29.871Z"
   },
   {
    "duration": 15,
    "start_time": "2022-02-05T14:20:31.414Z"
   },
   {
    "duration": 38,
    "start_time": "2022-02-05T14:20:32.910Z"
   },
   {
    "duration": 31,
    "start_time": "2022-02-05T14:20:34.744Z"
   },
   {
    "duration": 35,
    "start_time": "2022-02-05T14:20:38.070Z"
   },
   {
    "duration": 24,
    "start_time": "2022-02-05T14:20:50.462Z"
   },
   {
    "duration": 96,
    "start_time": "2022-02-05T14:23:47.758Z"
   },
   {
    "duration": 15,
    "start_time": "2022-02-05T14:23:57.817Z"
   },
   {
    "duration": 81,
    "start_time": "2022-02-05T14:24:01.342Z"
   },
   {
    "duration": 5,
    "start_time": "2022-02-05T14:24:49.782Z"
   },
   {
    "duration": 8882,
    "start_time": "2022-02-05T14:27:17.663Z"
   },
   {
    "duration": 63,
    "start_time": "2022-02-05T14:30:19.414Z"
   },
   {
    "duration": 67,
    "start_time": "2022-02-05T14:31:27.286Z"
   },
   {
    "duration": 1360,
    "start_time": "2022-02-05T14:31:52.758Z"
   },
   {
    "duration": 124,
    "start_time": "2022-02-05T14:32:07.086Z"
   },
   {
    "duration": 285,
    "start_time": "2022-02-05T14:33:44.438Z"
   },
   {
    "duration": 234,
    "start_time": "2022-02-05T14:33:55.581Z"
   },
   {
    "duration": 96,
    "start_time": "2022-02-05T14:34:18.830Z"
   },
   {
    "duration": 1567,
    "start_time": "2022-02-05T14:34:38.388Z"
   },
   {
    "duration": 555,
    "start_time": "2022-02-05T14:34:39.960Z"
   },
   {
    "duration": 181,
    "start_time": "2022-02-05T14:34:40.523Z"
   },
   {
    "duration": 189,
    "start_time": "2022-02-05T14:34:40.706Z"
   },
   {
    "duration": 18,
    "start_time": "2022-02-05T14:34:40.897Z"
   },
   {
    "duration": 141,
    "start_time": "2022-02-05T14:34:40.918Z"
   },
   {
    "duration": 18,
    "start_time": "2022-02-05T14:34:41.063Z"
   },
   {
    "duration": 24,
    "start_time": "2022-02-05T14:34:41.084Z"
   },
   {
    "duration": 85,
    "start_time": "2022-02-05T14:34:41.112Z"
   },
   {
    "duration": 31,
    "start_time": "2022-02-05T14:34:41.200Z"
   },
   {
    "duration": 47,
    "start_time": "2022-02-05T14:34:41.234Z"
   },
   {
    "duration": 8,
    "start_time": "2022-02-05T14:34:41.283Z"
   },
   {
    "duration": 25,
    "start_time": "2022-02-05T14:34:41.294Z"
   },
   {
    "duration": 161,
    "start_time": "2022-02-05T14:34:41.322Z"
   },
   {
    "duration": 56,
    "start_time": "2022-02-05T14:34:41.486Z"
   },
   {
    "duration": 38,
    "start_time": "2022-02-05T14:34:41.544Z"
   },
   {
    "duration": 15,
    "start_time": "2022-02-05T14:34:41.584Z"
   },
   {
    "duration": 70,
    "start_time": "2022-02-05T14:34:41.601Z"
   },
   {
    "duration": 34,
    "start_time": "2022-02-05T14:34:41.673Z"
   },
   {
    "duration": 52,
    "start_time": "2022-02-05T14:34:41.710Z"
   },
   {
    "duration": 41,
    "start_time": "2022-02-05T14:34:41.764Z"
   },
   {
    "duration": 50,
    "start_time": "2022-02-05T14:35:04.413Z"
   },
   {
    "duration": 36,
    "start_time": "2022-02-05T14:35:14.741Z"
   },
   {
    "duration": 935,
    "start_time": "2022-02-05T14:35:34.917Z"
   },
   {
    "duration": 667,
    "start_time": "2022-02-05T14:37:12.358Z"
   },
   {
    "duration": 1504,
    "start_time": "2022-02-05T14:37:26.793Z"
   },
   {
    "duration": 527,
    "start_time": "2022-02-05T14:37:28.300Z"
   },
   {
    "duration": 170,
    "start_time": "2022-02-05T14:37:28.830Z"
   },
   {
    "duration": 144,
    "start_time": "2022-02-05T14:37:29.002Z"
   },
   {
    "duration": 24,
    "start_time": "2022-02-05T14:37:29.149Z"
   },
   {
    "duration": 105,
    "start_time": "2022-02-05T14:37:29.177Z"
   },
   {
    "duration": 19,
    "start_time": "2022-02-05T14:37:29.285Z"
   },
   {
    "duration": 25,
    "start_time": "2022-02-05T14:37:29.306Z"
   },
   {
    "duration": 40,
    "start_time": "2022-02-05T14:37:29.363Z"
   },
   {
    "duration": 55,
    "start_time": "2022-02-05T14:37:29.406Z"
   },
   {
    "duration": 27,
    "start_time": "2022-02-05T14:37:29.464Z"
   },
   {
    "duration": 6,
    "start_time": "2022-02-05T14:37:29.493Z"
   },
   {
    "duration": 24,
    "start_time": "2022-02-05T14:37:29.501Z"
   },
   {
    "duration": 181,
    "start_time": "2022-02-05T14:37:29.527Z"
   },
   {
    "duration": 67,
    "start_time": "2022-02-05T14:37:29.711Z"
   },
   {
    "duration": 32,
    "start_time": "2022-02-05T14:37:29.780Z"
   },
   {
    "duration": 19,
    "start_time": "2022-02-05T14:37:29.815Z"
   },
   {
    "duration": 57,
    "start_time": "2022-02-05T14:37:29.860Z"
   },
   {
    "duration": 608,
    "start_time": "2022-02-05T14:37:29.920Z"
   },
   {
    "duration": 342,
    "start_time": "2022-02-05T14:37:30.189Z"
   },
   {
    "duration": 344,
    "start_time": "2022-02-05T14:37:30.190Z"
   },
   {
    "duration": 696,
    "start_time": "2022-02-05T14:38:01.385Z"
   },
   {
    "duration": 120,
    "start_time": "2022-02-05T14:38:05.713Z"
   },
   {
    "duration": 141,
    "start_time": "2022-02-05T14:38:58.522Z"
   },
   {
    "duration": 117,
    "start_time": "2022-02-05T14:39:02.865Z"
   },
   {
    "duration": 50,
    "start_time": "2022-02-05T14:39:10.665Z"
   },
   {
    "duration": 25,
    "start_time": "2022-02-05T14:39:12.569Z"
   },
   {
    "duration": 14,
    "start_time": "2022-02-05T14:39:14.401Z"
   },
   {
    "duration": 38,
    "start_time": "2022-02-05T14:39:15.489Z"
   },
   {
    "duration": 337,
    "start_time": "2022-02-05T14:39:17.553Z"
   },
   {
    "duration": 317,
    "start_time": "2022-02-05T14:39:32.369Z"
   },
   {
    "duration": 333,
    "start_time": "2022-02-05T14:39:38.665Z"
   },
   {
    "duration": 28,
    "start_time": "2022-02-05T14:39:46.945Z"
   },
   {
    "duration": 30,
    "start_time": "2022-02-05T14:40:01.169Z"
   },
   {
    "duration": 25,
    "start_time": "2022-02-05T14:40:06.640Z"
   },
   {
    "duration": 43,
    "start_time": "2022-02-05T14:40:13.041Z"
   },
   {
    "duration": 39,
    "start_time": "2022-02-05T14:40:31.106Z"
   },
   {
    "duration": 620,
    "start_time": "2022-02-05T14:40:37.537Z"
   },
   {
    "duration": 53,
    "start_time": "2022-02-05T14:40:43.635Z"
   },
   {
    "duration": 133,
    "start_time": "2022-02-05T14:44:47.296Z"
   },
   {
    "duration": 47,
    "start_time": "2022-02-05T14:45:02.280Z"
   },
   {
    "duration": 45,
    "start_time": "2022-02-05T14:45:26.440Z"
   },
   {
    "duration": 310,
    "start_time": "2022-02-05T14:49:40.608Z"
   },
   {
    "duration": 434,
    "start_time": "2022-02-05T14:49:56.088Z"
   },
   {
    "duration": 306,
    "start_time": "2022-02-05T14:50:02.201Z"
   },
   {
    "duration": 735,
    "start_time": "2022-02-05T14:50:11.119Z"
   },
   {
    "duration": 361,
    "start_time": "2022-02-05T14:50:16.824Z"
   },
   {
    "duration": 345,
    "start_time": "2022-02-05T14:50:31.520Z"
   },
   {
    "duration": 316,
    "start_time": "2022-02-05T14:52:46.544Z"
   },
   {
    "duration": 320,
    "start_time": "2022-02-05T14:52:54.384Z"
   },
   {
    "duration": 44,
    "start_time": "2022-02-05T14:53:23.192Z"
   },
   {
    "duration": 61,
    "start_time": "2022-02-05T14:54:22.056Z"
   },
   {
    "duration": 56,
    "start_time": "2022-02-05T14:54:32.311Z"
   },
   {
    "duration": 59,
    "start_time": "2022-02-05T14:54:34.744Z"
   },
   {
    "duration": 32,
    "start_time": "2022-02-05T14:58:16.192Z"
   },
   {
    "duration": 26,
    "start_time": "2022-02-05T14:58:33.183Z"
   },
   {
    "duration": 1370,
    "start_time": "2022-02-05T14:58:46.710Z"
   },
   {
    "duration": 514,
    "start_time": "2022-02-05T14:58:48.083Z"
   },
   {
    "duration": 169,
    "start_time": "2022-02-05T14:58:48.603Z"
   },
   {
    "duration": 156,
    "start_time": "2022-02-05T14:58:48.774Z"
   },
   {
    "duration": 27,
    "start_time": "2022-02-05T14:58:48.933Z"
   },
   {
    "duration": 103,
    "start_time": "2022-02-05T14:58:48.963Z"
   },
   {
    "duration": 19,
    "start_time": "2022-02-05T14:58:49.069Z"
   },
   {
    "duration": 24,
    "start_time": "2022-02-05T14:58:49.091Z"
   },
   {
    "duration": 77,
    "start_time": "2022-02-05T14:58:49.117Z"
   },
   {
    "duration": 30,
    "start_time": "2022-02-05T14:58:49.197Z"
   },
   {
    "duration": 50,
    "start_time": "2022-02-05T14:58:49.229Z"
   },
   {
    "duration": 5,
    "start_time": "2022-02-05T14:58:49.282Z"
   },
   {
    "duration": 27,
    "start_time": "2022-02-05T14:58:49.290Z"
   },
   {
    "duration": 139,
    "start_time": "2022-02-05T14:58:49.320Z"
   },
   {
    "duration": 55,
    "start_time": "2022-02-05T14:58:49.461Z"
   },
   {
    "duration": 50,
    "start_time": "2022-02-05T14:58:49.519Z"
   },
   {
    "duration": 15,
    "start_time": "2022-02-05T14:58:49.572Z"
   },
   {
    "duration": 46,
    "start_time": "2022-02-05T14:58:49.590Z"
   },
   {
    "duration": 23,
    "start_time": "2022-02-05T14:58:49.660Z"
   },
   {
    "duration": 24,
    "start_time": "2022-02-05T14:58:49.686Z"
   },
   {
    "duration": 71,
    "start_time": "2022-02-05T14:58:49.712Z"
   },
   {
    "duration": 504,
    "start_time": "2022-02-05T14:58:49.789Z"
   },
   {
    "duration": -42,
    "start_time": "2022-02-05T14:58:50.338Z"
   },
   {
    "duration": 312,
    "start_time": "2022-02-05T14:59:29.669Z"
   },
   {
    "duration": 52,
    "start_time": "2022-02-05T15:00:37.804Z"
   },
   {
    "duration": 12,
    "start_time": "2022-02-05T15:10:12.371Z"
   },
   {
    "duration": 33,
    "start_time": "2022-02-05T15:18:03.355Z"
   },
   {
    "duration": 17,
    "start_time": "2022-02-05T15:18:06.548Z"
   },
   {
    "duration": 27,
    "start_time": "2022-02-05T15:18:55.339Z"
   },
   {
    "duration": 17,
    "start_time": "2022-02-05T15:18:57.723Z"
   },
   {
    "duration": 45,
    "start_time": "2022-02-05T15:19:04.859Z"
   },
   {
    "duration": 68,
    "start_time": "2022-02-05T15:19:12.811Z"
   },
   {
    "duration": 64,
    "start_time": "2022-02-05T15:19:14.403Z"
   },
   {
    "duration": 67,
    "start_time": "2022-02-05T15:19:16.763Z"
   },
   {
    "duration": 1371,
    "start_time": "2022-02-05T15:19:26.347Z"
   },
   {
    "duration": 670,
    "start_time": "2022-02-05T15:19:27.721Z"
   },
   {
    "duration": 239,
    "start_time": "2022-02-05T15:19:28.396Z"
   },
   {
    "duration": 191,
    "start_time": "2022-02-05T15:19:28.639Z"
   },
   {
    "duration": 28,
    "start_time": "2022-02-05T15:19:28.833Z"
   },
   {
    "duration": 99,
    "start_time": "2022-02-05T15:19:28.863Z"
   },
   {
    "duration": 17,
    "start_time": "2022-02-05T15:19:28.965Z"
   },
   {
    "duration": 23,
    "start_time": "2022-02-05T15:19:28.987Z"
   },
   {
    "duration": 73,
    "start_time": "2022-02-05T15:19:29.013Z"
   },
   {
    "duration": 33,
    "start_time": "2022-02-05T15:19:29.088Z"
   },
   {
    "duration": 47,
    "start_time": "2022-02-05T15:19:29.123Z"
   },
   {
    "duration": 6,
    "start_time": "2022-02-05T15:19:29.173Z"
   },
   {
    "duration": 26,
    "start_time": "2022-02-05T15:19:29.181Z"
   },
   {
    "duration": 151,
    "start_time": "2022-02-05T15:19:29.209Z"
   },
   {
    "duration": 53,
    "start_time": "2022-02-05T15:19:29.363Z"
   },
   {
    "duration": 54,
    "start_time": "2022-02-05T15:19:29.418Z"
   },
   {
    "duration": 17,
    "start_time": "2022-02-05T15:19:29.474Z"
   },
   {
    "duration": 65,
    "start_time": "2022-02-05T15:19:29.494Z"
   },
   {
    "duration": 25,
    "start_time": "2022-02-05T15:19:29.561Z"
   },
   {
    "duration": 23,
    "start_time": "2022-02-05T15:19:29.589Z"
   },
   {
    "duration": 66,
    "start_time": "2022-02-05T15:19:29.615Z"
   },
   {
    "duration": 44,
    "start_time": "2022-02-05T15:19:29.683Z"
   },
   {
    "duration": 105,
    "start_time": "2022-02-05T15:19:29.731Z"
   },
   {
    "duration": 26,
    "start_time": "2022-02-05T15:22:49.843Z"
   },
   {
    "duration": 15,
    "start_time": "2022-02-05T15:22:50.874Z"
   },
   {
    "duration": 15,
    "start_time": "2022-02-05T15:23:02.819Z"
   },
   {
    "duration": 34,
    "start_time": "2022-02-05T15:23:04.490Z"
   },
   {
    "duration": 1305,
    "start_time": "2022-02-05T15:23:16.225Z"
   },
   {
    "duration": 502,
    "start_time": "2022-02-05T15:23:17.533Z"
   },
   {
    "duration": 158,
    "start_time": "2022-02-05T15:23:18.038Z"
   },
   {
    "duration": 132,
    "start_time": "2022-02-05T15:23:18.199Z"
   },
   {
    "duration": 28,
    "start_time": "2022-02-05T15:23:18.333Z"
   },
   {
    "duration": 95,
    "start_time": "2022-02-05T15:23:18.364Z"
   },
   {
    "duration": 19,
    "start_time": "2022-02-05T15:23:18.462Z"
   },
   {
    "duration": 25,
    "start_time": "2022-02-05T15:23:18.484Z"
   },
   {
    "duration": 76,
    "start_time": "2022-02-05T15:23:18.511Z"
   },
   {
    "duration": 28,
    "start_time": "2022-02-05T15:23:18.590Z"
   },
   {
    "duration": 46,
    "start_time": "2022-02-05T15:23:18.620Z"
   },
   {
    "duration": 6,
    "start_time": "2022-02-05T15:23:18.668Z"
   },
   {
    "duration": 23,
    "start_time": "2022-02-05T15:23:18.677Z"
   },
   {
    "duration": 130,
    "start_time": "2022-02-05T15:23:18.703Z"
   },
   {
    "duration": 65,
    "start_time": "2022-02-05T15:23:18.836Z"
   },
   {
    "duration": 34,
    "start_time": "2022-02-05T15:23:18.903Z"
   },
   {
    "duration": 24,
    "start_time": "2022-02-05T15:23:18.939Z"
   },
   {
    "duration": 45,
    "start_time": "2022-02-05T15:23:18.965Z"
   },
   {
    "duration": 49,
    "start_time": "2022-02-05T15:23:19.013Z"
   },
   {
    "duration": 24,
    "start_time": "2022-02-05T15:23:19.064Z"
   },
   {
    "duration": 35,
    "start_time": "2022-02-05T15:23:19.091Z"
   },
   {
    "duration": 69,
    "start_time": "2022-02-05T15:23:19.128Z"
   },
   {
    "duration": 108,
    "start_time": "2022-02-05T15:23:19.201Z"
   },
   {
    "duration": 551,
    "start_time": "2022-02-05T15:34:37.057Z"
   },
   {
    "duration": 348,
    "start_time": "2022-02-05T15:34:49.659Z"
   },
   {
    "duration": 1648,
    "start_time": "2022-02-05T15:35:03.617Z"
   },
   {
    "duration": 31,
    "start_time": "2022-02-05T15:35:09.808Z"
   },
   {
    "duration": 32,
    "start_time": "2022-02-05T15:35:36.394Z"
   },
   {
    "duration": 701,
    "start_time": "2022-02-05T15:35:39.480Z"
   },
   {
    "duration": 679,
    "start_time": "2022-02-05T15:35:46.512Z"
   },
   {
    "duration": 327,
    "start_time": "2022-02-05T15:36:07.713Z"
   },
   {
    "duration": 362,
    "start_time": "2022-02-05T15:36:17.678Z"
   },
   {
    "duration": 1332,
    "start_time": "2022-02-05T15:36:59.353Z"
   },
   {
    "duration": 317,
    "start_time": "2022-02-05T15:37:03.313Z"
   },
   {
    "duration": 317,
    "start_time": "2022-02-05T15:37:04.697Z"
   },
   {
    "duration": 1335,
    "start_time": "2022-02-05T15:37:16.272Z"
   },
   {
    "duration": 621,
    "start_time": "2022-02-05T15:37:17.609Z"
   },
   {
    "duration": 163,
    "start_time": "2022-02-05T15:37:18.234Z"
   },
   {
    "duration": 138,
    "start_time": "2022-02-05T15:37:18.400Z"
   },
   {
    "duration": 23,
    "start_time": "2022-02-05T15:37:18.540Z"
   },
   {
    "duration": 103,
    "start_time": "2022-02-05T15:37:18.565Z"
   },
   {
    "duration": 18,
    "start_time": "2022-02-05T15:37:18.671Z"
   },
   {
    "duration": 25,
    "start_time": "2022-02-05T15:37:18.695Z"
   },
   {
    "duration": 39,
    "start_time": "2022-02-05T15:37:18.759Z"
   },
   {
    "duration": 31,
    "start_time": "2022-02-05T15:37:18.800Z"
   },
   {
    "duration": 53,
    "start_time": "2022-02-05T15:37:18.833Z"
   },
   {
    "duration": 7,
    "start_time": "2022-02-05T15:37:18.889Z"
   },
   {
    "duration": 24,
    "start_time": "2022-02-05T15:37:18.899Z"
   },
   {
    "duration": 149,
    "start_time": "2022-02-05T15:37:18.926Z"
   },
   {
    "duration": 51,
    "start_time": "2022-02-05T15:37:19.078Z"
   },
   {
    "duration": 48,
    "start_time": "2022-02-05T15:37:19.131Z"
   },
   {
    "duration": 16,
    "start_time": "2022-02-05T15:37:19.182Z"
   },
   {
    "duration": 64,
    "start_time": "2022-02-05T15:37:19.200Z"
   },
   {
    "duration": 24,
    "start_time": "2022-02-05T15:37:19.266Z"
   },
   {
    "duration": 24,
    "start_time": "2022-02-05T15:37:19.292Z"
   },
   {
    "duration": 69,
    "start_time": "2022-02-05T15:37:19.318Z"
   },
   {
    "duration": 46,
    "start_time": "2022-02-05T15:37:19.389Z"
   },
   {
    "duration": 144,
    "start_time": "2022-02-05T15:37:19.439Z"
   },
   {
    "duration": 33,
    "start_time": "2022-02-05T15:37:35.367Z"
   },
   {
    "duration": 27,
    "start_time": "2022-02-05T15:37:50.848Z"
   },
   {
    "duration": 1381,
    "start_time": "2022-02-05T15:38:02.229Z"
   },
   {
    "duration": 507,
    "start_time": "2022-02-05T15:38:03.613Z"
   },
   {
    "duration": 159,
    "start_time": "2022-02-05T15:38:04.123Z"
   },
   {
    "duration": 136,
    "start_time": "2022-02-05T15:38:04.285Z"
   },
   {
    "duration": 13,
    "start_time": "2022-02-05T15:38:04.424Z"
   },
   {
    "duration": 96,
    "start_time": "2022-02-05T15:38:04.439Z"
   },
   {
    "duration": 35,
    "start_time": "2022-02-05T15:38:04.538Z"
   },
   {
    "duration": 33,
    "start_time": "2022-02-05T15:38:04.577Z"
   },
   {
    "duration": 88,
    "start_time": "2022-02-05T15:38:04.614Z"
   },
   {
    "duration": 29,
    "start_time": "2022-02-05T15:38:04.705Z"
   },
   {
    "duration": 46,
    "start_time": "2022-02-05T15:38:04.736Z"
   },
   {
    "duration": 7,
    "start_time": "2022-02-05T15:38:04.785Z"
   },
   {
    "duration": 25,
    "start_time": "2022-02-05T15:38:04.795Z"
   },
   {
    "duration": 153,
    "start_time": "2022-02-05T15:38:04.822Z"
   },
   {
    "duration": 85,
    "start_time": "2022-02-05T15:38:04.978Z"
   },
   {
    "duration": 40,
    "start_time": "2022-02-05T15:38:05.065Z"
   },
   {
    "duration": 20,
    "start_time": "2022-02-05T15:38:05.108Z"
   },
   {
    "duration": 66,
    "start_time": "2022-02-05T15:38:05.130Z"
   },
   {
    "duration": 22,
    "start_time": "2022-02-05T15:38:05.199Z"
   },
   {
    "duration": 50,
    "start_time": "2022-02-05T15:38:05.223Z"
   },
   {
    "duration": 38,
    "start_time": "2022-02-05T15:38:05.276Z"
   },
   {
    "duration": 83,
    "start_time": "2022-02-05T15:38:05.317Z"
   },
   {
    "duration": 102,
    "start_time": "2022-02-05T15:38:05.403Z"
   },
   {
    "duration": 5,
    "start_time": "2022-02-05T15:47:07.464Z"
   },
   {
    "duration": 9,
    "start_time": "2022-02-05T15:47:13.591Z"
   },
   {
    "duration": 417,
    "start_time": "2022-02-05T15:47:39.119Z"
   },
   {
    "duration": 9,
    "start_time": "2022-02-05T15:47:42.720Z"
   },
   {
    "duration": 360,
    "start_time": "2022-02-05T15:59:28.022Z"
   },
   {
    "duration": 309,
    "start_time": "2022-02-05T15:59:52.839Z"
   },
   {
    "duration": 10,
    "start_time": "2022-02-05T16:03:00.711Z"
   },
   {
    "duration": 48,
    "start_time": "2022-02-05T16:08:08.602Z"
   },
   {
    "duration": 358,
    "start_time": "2022-02-05T16:09:30.175Z"
   },
   {
    "duration": 338,
    "start_time": "2022-02-05T16:09:41.838Z"
   },
   {
    "duration": 346,
    "start_time": "2022-02-05T16:10:02.542Z"
   },
   {
    "duration": 322,
    "start_time": "2022-02-05T16:10:15.278Z"
   },
   {
    "duration": 52,
    "start_time": "2022-02-05T16:13:02.934Z"
   },
   {
    "duration": 111,
    "start_time": "2022-02-05T16:19:47.727Z"
   },
   {
    "duration": 10,
    "start_time": "2022-02-05T16:19:59.686Z"
   },
   {
    "duration": 48,
    "start_time": "2022-02-05T16:20:06.110Z"
   },
   {
    "duration": 69,
    "start_time": "2022-02-05T16:21:00.262Z"
   },
   {
    "duration": 55,
    "start_time": "2022-02-05T16:23:01.678Z"
   },
   {
    "duration": 57,
    "start_time": "2022-02-05T16:23:10.429Z"
   },
   {
    "duration": 47,
    "start_time": "2022-02-05T16:27:00.493Z"
   },
   {
    "duration": 10,
    "start_time": "2022-02-05T16:27:15.285Z"
   },
   {
    "duration": 430,
    "start_time": "2022-02-05T16:27:30.580Z"
   },
   {
    "duration": 10,
    "start_time": "2022-02-05T16:27:37.748Z"
   },
   {
    "duration": 10,
    "start_time": "2022-02-05T16:27:43.309Z"
   },
   {
    "duration": 10,
    "start_time": "2022-02-05T16:28:25.780Z"
   },
   {
    "duration": 343,
    "start_time": "2022-02-05T16:28:53.869Z"
   },
   {
    "duration": 54,
    "start_time": "2022-02-05T16:29:06.533Z"
   },
   {
    "duration": 1543,
    "start_time": "2022-02-05T16:30:17.135Z"
   },
   {
    "duration": 512,
    "start_time": "2022-02-05T16:30:18.680Z"
   },
   {
    "duration": 154,
    "start_time": "2022-02-05T16:30:19.195Z"
   },
   {
    "duration": 137,
    "start_time": "2022-02-05T16:30:19.352Z"
   },
   {
    "duration": 14,
    "start_time": "2022-02-05T16:30:19.491Z"
   },
   {
    "duration": 107,
    "start_time": "2022-02-05T16:30:19.508Z"
   },
   {
    "duration": 17,
    "start_time": "2022-02-05T16:30:19.618Z"
   },
   {
    "duration": 24,
    "start_time": "2022-02-05T16:30:19.659Z"
   },
   {
    "duration": 43,
    "start_time": "2022-02-05T16:30:19.686Z"
   },
   {
    "duration": 54,
    "start_time": "2022-02-05T16:30:19.731Z"
   },
   {
    "duration": 27,
    "start_time": "2022-02-05T16:30:19.787Z"
   },
   {
    "duration": 7,
    "start_time": "2022-02-05T16:30:19.817Z"
   },
   {
    "duration": 54,
    "start_time": "2022-02-05T16:30:19.826Z"
   },
   {
    "duration": 130,
    "start_time": "2022-02-05T16:30:19.883Z"
   },
   {
    "duration": 66,
    "start_time": "2022-02-05T16:30:20.016Z"
   },
   {
    "duration": 35,
    "start_time": "2022-02-05T16:30:20.085Z"
   },
   {
    "duration": 15,
    "start_time": "2022-02-05T16:30:20.123Z"
   },
   {
    "duration": 57,
    "start_time": "2022-02-05T16:30:20.140Z"
   },
   {
    "duration": 22,
    "start_time": "2022-02-05T16:30:20.199Z"
   },
   {
    "duration": 55,
    "start_time": "2022-02-05T16:30:20.223Z"
   },
   {
    "duration": 38,
    "start_time": "2022-02-05T16:30:20.281Z"
   },
   {
    "duration": 71,
    "start_time": "2022-02-05T16:30:20.321Z"
   },
   {
    "duration": 65,
    "start_time": "2022-02-05T16:30:20.396Z"
   },
   {
    "duration": 49,
    "start_time": "2022-02-05T16:30:20.463Z"
   },
   {
    "duration": 423,
    "start_time": "2022-02-05T16:36:53.259Z"
   },
   {
    "duration": 44,
    "start_time": "2022-02-05T16:37:05.116Z"
   },
   {
    "duration": 9,
    "start_time": "2022-02-05T16:37:25.475Z"
   },
   {
    "duration": 7,
    "start_time": "2022-02-05T16:37:29.363Z"
   },
   {
    "duration": 13,
    "start_time": "2022-02-05T16:38:16.932Z"
   },
   {
    "duration": 366,
    "start_time": "2022-02-05T16:38:22.835Z"
   },
   {
    "duration": 40,
    "start_time": "2022-02-05T16:38:34.563Z"
   },
   {
    "duration": 24,
    "start_time": "2022-02-05T16:38:36.219Z"
   },
   {
    "duration": 26,
    "start_time": "2022-02-05T16:38:37.164Z"
   },
   {
    "duration": 26,
    "start_time": "2022-02-05T16:38:37.891Z"
   },
   {
    "duration": 25,
    "start_time": "2022-02-05T16:38:38.467Z"
   },
   {
    "duration": 340,
    "start_time": "2022-02-05T16:38:56.499Z"
   },
   {
    "duration": 381,
    "start_time": "2022-02-05T16:38:59.019Z"
   },
   {
    "duration": 12,
    "start_time": "2022-02-05T16:39:04.979Z"
   },
   {
    "duration": 4,
    "start_time": "2022-02-05T16:47:31.930Z"
   },
   {
    "duration": 43,
    "start_time": "2022-02-05T16:47:35.474Z"
   },
   {
    "duration": 13,
    "start_time": "2022-02-05T16:47:47.483Z"
   },
   {
    "duration": 8,
    "start_time": "2022-02-05T16:48:24.155Z"
   },
   {
    "duration": 6,
    "start_time": "2022-02-05T16:48:28.108Z"
   },
   {
    "duration": 7,
    "start_time": "2022-02-05T16:48:34.354Z"
   },
   {
    "duration": 7,
    "start_time": "2022-02-05T16:48:40.546Z"
   },
   {
    "duration": 43,
    "start_time": "2022-02-05T16:49:15.699Z"
   },
   {
    "duration": 1306,
    "start_time": "2022-02-05T16:49:32.508Z"
   },
   {
    "duration": 521,
    "start_time": "2022-02-05T16:49:33.817Z"
   },
   {
    "duration": 159,
    "start_time": "2022-02-05T16:49:34.345Z"
   },
   {
    "duration": 141,
    "start_time": "2022-02-05T16:49:34.507Z"
   },
   {
    "duration": 21,
    "start_time": "2022-02-05T16:49:34.651Z"
   },
   {
    "duration": 114,
    "start_time": "2022-02-05T16:49:34.675Z"
   },
   {
    "duration": 17,
    "start_time": "2022-02-05T16:49:34.794Z"
   },
   {
    "duration": 54,
    "start_time": "2022-02-05T16:49:34.815Z"
   },
   {
    "duration": 41,
    "start_time": "2022-02-05T16:49:34.872Z"
   },
   {
    "duration": 61,
    "start_time": "2022-02-05T16:49:34.916Z"
   },
   {
    "duration": 29,
    "start_time": "2022-02-05T16:49:34.979Z"
   },
   {
    "duration": 7,
    "start_time": "2022-02-05T16:49:35.011Z"
   },
   {
    "duration": 52,
    "start_time": "2022-02-05T16:49:35.021Z"
   },
   {
    "duration": 116,
    "start_time": "2022-02-05T16:49:35.075Z"
   },
   {
    "duration": 50,
    "start_time": "2022-02-05T16:49:35.193Z"
   },
   {
    "duration": 32,
    "start_time": "2022-02-05T16:49:35.259Z"
   },
   {
    "duration": 16,
    "start_time": "2022-02-05T16:49:35.293Z"
   },
   {
    "duration": 71,
    "start_time": "2022-02-05T16:49:35.312Z"
   },
   {
    "duration": 24,
    "start_time": "2022-02-05T16:49:35.385Z"
   },
   {
    "duration": 25,
    "start_time": "2022-02-05T16:49:35.411Z"
   },
   {
    "duration": 37,
    "start_time": "2022-02-05T16:49:35.460Z"
   },
   {
    "duration": 64,
    "start_time": "2022-02-05T16:49:35.501Z"
   },
   {
    "duration": 55,
    "start_time": "2022-02-05T16:49:35.568Z"
   },
   {
    "duration": 69,
    "start_time": "2022-02-05T16:49:35.625Z"
   },
   {
    "duration": 12,
    "start_time": "2022-02-05T16:49:35.697Z"
   },
   {
    "duration": 7,
    "start_time": "2022-02-05T16:49:35.711Z"
   },
   {
    "duration": 72,
    "start_time": "2022-02-05T16:49:35.721Z"
   },
   {
    "duration": 41,
    "start_time": "2022-02-05T16:50:01.561Z"
   },
   {
    "duration": 10,
    "start_time": "2022-02-05T16:50:51.626Z"
   },
   {
    "duration": 36,
    "start_time": "2022-02-05T16:50:53.273Z"
   },
   {
    "duration": 24,
    "start_time": "2022-02-05T16:50:57.678Z"
   },
   {
    "duration": 7,
    "start_time": "2022-02-05T16:51:09.833Z"
   },
   {
    "duration": 9,
    "start_time": "2022-02-05T16:51:12.280Z"
   },
   {
    "duration": 16,
    "start_time": "2022-02-05T16:51:18.393Z"
   },
   {
    "duration": 7,
    "start_time": "2022-02-05T16:51:30.993Z"
   },
   {
    "duration": 25,
    "start_time": "2022-02-05T16:51:36.696Z"
   },
   {
    "duration": 416,
    "start_time": "2022-02-05T16:52:29.520Z"
   },
   {
    "duration": 43,
    "start_time": "2022-02-05T16:52:35.168Z"
   },
   {
    "duration": 113,
    "start_time": "2022-02-05T16:59:40.528Z"
   },
   {
    "duration": 4,
    "start_time": "2022-02-05T17:03:39.282Z"
   },
   {
    "duration": 506,
    "start_time": "2022-02-05T17:03:39.289Z"
   },
   {
    "duration": 142,
    "start_time": "2022-02-05T17:03:39.798Z"
   },
   {
    "duration": 138,
    "start_time": "2022-02-05T17:03:39.943Z"
   },
   {
    "duration": 13,
    "start_time": "2022-02-05T17:03:40.084Z"
   },
   {
    "duration": 107,
    "start_time": "2022-02-05T17:03:40.100Z"
   },
   {
    "duration": 18,
    "start_time": "2022-02-05T17:03:40.210Z"
   },
   {
    "duration": 50,
    "start_time": "2022-02-05T17:03:40.233Z"
   },
   {
    "duration": 39,
    "start_time": "2022-02-05T17:03:40.286Z"
   },
   {
    "duration": 54,
    "start_time": "2022-02-05T17:03:40.327Z"
   },
   {
    "duration": 25,
    "start_time": "2022-02-05T17:03:40.383Z"
   },
   {
    "duration": 5,
    "start_time": "2022-02-05T17:03:40.411Z"
   },
   {
    "duration": 51,
    "start_time": "2022-02-05T17:03:40.419Z"
   },
   {
    "duration": 118,
    "start_time": "2022-02-05T17:03:40.472Z"
   },
   {
    "duration": 51,
    "start_time": "2022-02-05T17:03:40.592Z"
   },
   {
    "duration": 27,
    "start_time": "2022-02-05T17:03:40.659Z"
   },
   {
    "duration": 15,
    "start_time": "2022-02-05T17:03:40.688Z"
   },
   {
    "duration": 69,
    "start_time": "2022-02-05T17:03:40.706Z"
   },
   {
    "duration": 22,
    "start_time": "2022-02-05T17:03:40.777Z"
   },
   {
    "duration": 24,
    "start_time": "2022-02-05T17:03:40.801Z"
   },
   {
    "duration": 64,
    "start_time": "2022-02-05T17:03:40.827Z"
   },
   {
    "duration": 46,
    "start_time": "2022-02-05T17:03:40.894Z"
   },
   {
    "duration": 57,
    "start_time": "2022-02-05T17:03:40.963Z"
   },
   {
    "duration": 73,
    "start_time": "2022-02-05T17:03:41.024Z"
   },
   {
    "duration": 13,
    "start_time": "2022-02-05T17:03:41.100Z"
   },
   {
    "duration": 44,
    "start_time": "2022-02-05T17:03:41.116Z"
   },
   {
    "duration": 46,
    "start_time": "2022-02-05T17:03:41.163Z"
   },
   {
    "duration": 304,
    "start_time": "2022-02-05T17:04:35.785Z"
   },
   {
    "duration": 16,
    "start_time": "2022-02-05T17:04:41.128Z"
   },
   {
    "duration": 1015,
    "start_time": "2022-02-05T19:37:07.171Z"
   },
   {
    "duration": 392,
    "start_time": "2022-02-05T19:37:08.188Z"
   },
   {
    "duration": 121,
    "start_time": "2022-02-05T19:37:08.582Z"
   },
   {
    "duration": 87,
    "start_time": "2022-02-05T19:37:08.705Z"
   },
   {
    "duration": 21,
    "start_time": "2022-02-05T19:37:08.794Z"
   },
   {
    "duration": 56,
    "start_time": "2022-02-05T19:37:08.816Z"
   },
   {
    "duration": 11,
    "start_time": "2022-02-05T19:37:08.874Z"
   },
   {
    "duration": 15,
    "start_time": "2022-02-05T19:37:08.912Z"
   },
   {
    "duration": 27,
    "start_time": "2022-02-05T19:37:08.929Z"
   },
   {
    "duration": 21,
    "start_time": "2022-02-05T19:37:08.958Z"
   },
   {
    "duration": 43,
    "start_time": "2022-02-05T19:37:08.981Z"
   },
   {
    "duration": 4,
    "start_time": "2022-02-05T19:37:09.026Z"
   },
   {
    "duration": 17,
    "start_time": "2022-02-05T19:37:09.032Z"
   },
   {
    "duration": 91,
    "start_time": "2022-02-05T19:37:09.051Z"
   },
   {
    "duration": 35,
    "start_time": "2022-02-05T19:37:09.144Z"
   },
   {
    "duration": 36,
    "start_time": "2022-02-05T19:37:09.181Z"
   },
   {
    "duration": 11,
    "start_time": "2022-02-05T19:37:09.219Z"
   },
   {
    "duration": 30,
    "start_time": "2022-02-05T19:37:09.232Z"
   },
   {
    "duration": 14,
    "start_time": "2022-02-05T19:37:09.264Z"
   },
   {
    "duration": 40,
    "start_time": "2022-02-05T19:37:09.279Z"
   },
   {
    "duration": 24,
    "start_time": "2022-02-05T19:37:09.321Z"
   },
   {
    "duration": 27,
    "start_time": "2022-02-05T19:37:09.346Z"
   },
   {
    "duration": 57,
    "start_time": "2022-02-05T19:37:09.377Z"
   },
   {
    "duration": 29,
    "start_time": "2022-02-05T19:37:09.435Z"
   },
   {
    "duration": 7,
    "start_time": "2022-02-05T19:37:09.465Z"
   },
   {
    "duration": 10,
    "start_time": "2022-02-05T19:37:09.474Z"
   },
   {
    "duration": 34,
    "start_time": "2022-02-05T19:37:09.485Z"
   },
   {
    "duration": 1027,
    "start_time": "2022-02-07T07:08:52.272Z"
   },
   {
    "duration": 349,
    "start_time": "2022-02-07T07:08:53.301Z"
   },
   {
    "duration": 101,
    "start_time": "2022-02-07T07:08:53.652Z"
   },
   {
    "duration": 78,
    "start_time": "2022-02-07T07:08:53.755Z"
   },
   {
    "duration": 10,
    "start_time": "2022-02-07T07:08:53.835Z"
   },
   {
    "duration": 65,
    "start_time": "2022-02-07T07:08:53.847Z"
   },
   {
    "duration": 10,
    "start_time": "2022-02-07T07:08:53.913Z"
   },
   {
    "duration": 14,
    "start_time": "2022-02-07T07:08:53.926Z"
   },
   {
    "duration": 55,
    "start_time": "2022-02-07T07:08:53.942Z"
   },
   {
    "duration": 20,
    "start_time": "2022-02-07T07:08:53.999Z"
   },
   {
    "duration": 17,
    "start_time": "2022-02-07T07:08:54.020Z"
   },
   {
    "duration": 4,
    "start_time": "2022-02-07T07:08:54.038Z"
   },
   {
    "duration": 39,
    "start_time": "2022-02-07T07:08:54.044Z"
   },
   {
    "duration": 70,
    "start_time": "2022-02-07T07:08:54.084Z"
   },
   {
    "duration": 44,
    "start_time": "2022-02-07T07:08:54.155Z"
   },
   {
    "duration": 22,
    "start_time": "2022-02-07T07:08:54.200Z"
   },
   {
    "duration": 9,
    "start_time": "2022-02-07T07:08:54.224Z"
   },
   {
    "duration": 38,
    "start_time": "2022-02-07T07:08:54.235Z"
   },
   {
    "duration": 13,
    "start_time": "2022-02-07T07:08:54.274Z"
   },
   {
    "duration": 14,
    "start_time": "2022-02-07T07:08:54.289Z"
   },
   {
    "duration": 22,
    "start_time": "2022-02-07T07:08:54.304Z"
   },
   {
    "duration": 50,
    "start_time": "2022-02-07T07:08:54.327Z"
   },
   {
    "duration": 32,
    "start_time": "2022-02-07T07:08:54.379Z"
   },
   {
    "duration": 27,
    "start_time": "2022-02-07T07:08:54.412Z"
   },
   {
    "duration": 7,
    "start_time": "2022-02-07T07:08:54.441Z"
   },
   {
    "duration": 30,
    "start_time": "2022-02-07T07:08:54.449Z"
   },
   {
    "duration": 9,
    "start_time": "2022-02-07T07:08:54.481Z"
   },
   {
    "duration": 4,
    "start_time": "2022-02-07T07:08:59.597Z"
   },
   {
    "duration": 10,
    "start_time": "2022-02-07T07:09:01.421Z"
   },
   {
    "duration": 49,
    "start_time": "2022-02-07T07:30:55.699Z"
   },
   {
    "duration": 467,
    "start_time": "2022-02-07T07:39:02.225Z"
   },
   {
    "duration": 4,
    "start_time": "2022-02-07T07:39:06.443Z"
   },
   {
    "duration": 4133,
    "start_time": "2022-02-07T07:40:07.019Z"
   },
   {
    "duration": 1618,
    "start_time": "2022-02-07T07:40:20.427Z"
   },
   {
    "duration": 59,
    "start_time": "2022-02-07T07:40:23.826Z"
   },
   {
    "duration": 9,
    "start_time": "2022-02-07T07:40:31.699Z"
   },
   {
    "duration": 48,
    "start_time": "2022-02-07T07:40:42.738Z"
   },
   {
    "duration": 49,
    "start_time": "2022-02-07T07:41:04.467Z"
   },
   {
    "duration": 52,
    "start_time": "2022-02-07T07:41:09.986Z"
   },
   {
    "duration": 49,
    "start_time": "2022-02-07T07:41:11.762Z"
   },
   {
    "duration": -31,
    "start_time": "2022-02-07T07:44:15.854Z"
   },
   {
    "duration": 170,
    "start_time": "2022-02-07T07:44:35.578Z"
   },
   {
    "duration": 854,
    "start_time": "2022-02-07T07:44:42.818Z"
   },
   {
    "duration": 353,
    "start_time": "2022-02-07T07:44:47.969Z"
   },
   {
    "duration": 340,
    "start_time": "2022-02-07T07:45:04.874Z"
   },
   {
    "duration": 282,
    "start_time": "2022-02-07T07:45:11.842Z"
   },
   {
    "duration": 300,
    "start_time": "2022-02-07T07:45:55.610Z"
   },
   {
    "duration": 297,
    "start_time": "2022-02-07T07:46:01.018Z"
   },
   {
    "duration": 282,
    "start_time": "2022-02-07T07:46:04.434Z"
   },
   {
    "duration": 549,
    "start_time": "2022-02-07T07:48:08.434Z"
   },
   {
    "duration": 284,
    "start_time": "2022-02-07T07:48:35.538Z"
   },
   {
    "duration": 276,
    "start_time": "2022-02-07T07:48:58.130Z"
   },
   {
    "duration": 375,
    "start_time": "2022-02-07T07:49:54.169Z"
   },
   {
    "duration": 88,
    "start_time": "2022-02-07T07:50:21.089Z"
   },
   {
    "duration": 274,
    "start_time": "2022-02-07T07:50:25.449Z"
   },
   {
    "duration": 581,
    "start_time": "2022-02-07T07:53:24.345Z"
   },
   {
    "duration": 292,
    "start_time": "2022-02-07T07:53:37.049Z"
   },
   {
    "duration": 314,
    "start_time": "2022-02-07T07:54:34.448Z"
   },
   {
    "duration": 295,
    "start_time": "2022-02-07T07:54:47.313Z"
   },
   {
    "duration": 436,
    "start_time": "2022-02-07T07:54:50.768Z"
   },
   {
    "duration": 277,
    "start_time": "2022-02-07T08:06:46.160Z"
   },
   {
    "duration": 273,
    "start_time": "2022-02-07T08:06:54.840Z"
   },
   {
    "duration": 283,
    "start_time": "2022-02-07T08:07:05.400Z"
   },
   {
    "duration": 370,
    "start_time": "2022-02-07T08:07:16.960Z"
   },
   {
    "duration": 25,
    "start_time": "2022-02-07T08:07:23.320Z"
   },
   {
    "duration": 35,
    "start_time": "2022-02-07T08:07:34.295Z"
   },
   {
    "duration": 30,
    "start_time": "2022-02-07T08:08:53.457Z"
   },
   {
    "duration": 22,
    "start_time": "2022-02-07T08:09:29.663Z"
   },
   {
    "duration": 31,
    "start_time": "2022-02-07T08:09:36.224Z"
   },
   {
    "duration": 28,
    "start_time": "2022-02-07T08:09:43.624Z"
   },
   {
    "duration": 63,
    "start_time": "2022-02-07T08:36:38.646Z"
   },
   {
    "duration": 75,
    "start_time": "2022-02-07T08:36:52.869Z"
   },
   {
    "duration": 62,
    "start_time": "2022-02-07T08:37:01.885Z"
   },
   {
    "duration": 54,
    "start_time": "2022-02-07T08:37:06.733Z"
   },
   {
    "duration": 67,
    "start_time": "2022-02-07T08:37:12.044Z"
   },
   {
    "duration": 28,
    "start_time": "2022-02-07T08:37:32.221Z"
   },
   {
    "duration": 50,
    "start_time": "2022-02-07T08:37:44.956Z"
   },
   {
    "duration": 27,
    "start_time": "2022-02-07T08:38:23.581Z"
   },
   {
    "duration": 28,
    "start_time": "2022-02-07T08:39:35.285Z"
   },
   {
    "duration": 7,
    "start_time": "2022-02-07T08:41:05.157Z"
   },
   {
    "duration": 28,
    "start_time": "2022-02-07T08:41:43.445Z"
   },
   {
    "duration": 91,
    "start_time": "2022-02-07T08:46:27.332Z"
   },
   {
    "duration": 30,
    "start_time": "2022-02-07T08:46:32.876Z"
   },
   {
    "duration": 402,
    "start_time": "2022-02-07T08:48:09.437Z"
   },
   {
    "duration": 25,
    "start_time": "2022-02-07T08:48:15.971Z"
   },
   {
    "duration": 24,
    "start_time": "2022-02-07T08:48:21.988Z"
   },
   {
    "duration": 978,
    "start_time": "2022-02-07T08:48:35.059Z"
   },
   {
    "duration": 361,
    "start_time": "2022-02-07T08:48:36.039Z"
   },
   {
    "duration": 107,
    "start_time": "2022-02-07T08:48:36.402Z"
   },
   {
    "duration": 78,
    "start_time": "2022-02-07T08:48:36.511Z"
   },
   {
    "duration": 8,
    "start_time": "2022-02-07T08:48:36.590Z"
   },
   {
    "duration": 52,
    "start_time": "2022-02-07T08:48:36.600Z"
   },
   {
    "duration": 24,
    "start_time": "2022-02-07T08:48:36.654Z"
   },
   {
    "duration": 39,
    "start_time": "2022-02-07T08:48:36.680Z"
   },
   {
    "duration": 32,
    "start_time": "2022-02-07T08:48:36.720Z"
   },
   {
    "duration": 18,
    "start_time": "2022-02-07T08:48:36.754Z"
   },
   {
    "duration": 28,
    "start_time": "2022-02-07T08:48:36.773Z"
   },
   {
    "duration": 10,
    "start_time": "2022-02-07T08:48:36.803Z"
   },
   {
    "duration": 26,
    "start_time": "2022-02-07T08:48:36.814Z"
   },
   {
    "duration": 78,
    "start_time": "2022-02-07T08:48:36.841Z"
   },
   {
    "duration": 33,
    "start_time": "2022-02-07T08:48:36.920Z"
   },
   {
    "duration": 36,
    "start_time": "2022-02-07T08:48:36.954Z"
   },
   {
    "duration": 10,
    "start_time": "2022-02-07T08:48:36.992Z"
   },
   {
    "duration": 27,
    "start_time": "2022-02-07T08:48:37.004Z"
   },
   {
    "duration": 15,
    "start_time": "2022-02-07T08:48:37.032Z"
   },
   {
    "duration": 32,
    "start_time": "2022-02-07T08:48:37.048Z"
   },
   {
    "duration": 23,
    "start_time": "2022-02-07T08:48:37.081Z"
   },
   {
    "duration": 26,
    "start_time": "2022-02-07T08:48:37.106Z"
   },
   {
    "duration": 56,
    "start_time": "2022-02-07T08:48:37.135Z"
   },
   {
    "duration": 27,
    "start_time": "2022-02-07T08:48:37.192Z"
   },
   {
    "duration": 8,
    "start_time": "2022-02-07T08:48:37.220Z"
   },
   {
    "duration": 21,
    "start_time": "2022-02-07T08:48:37.229Z"
   },
   {
    "duration": 11,
    "start_time": "2022-02-07T08:48:37.252Z"
   },
   {
    "duration": 31,
    "start_time": "2022-02-07T08:48:37.265Z"
   },
   {
    "duration": 27,
    "start_time": "2022-02-07T08:48:37.297Z"
   },
   {
    "duration": 4,
    "start_time": "2022-02-07T08:48:37.326Z"
   },
   {
    "duration": 40,
    "start_time": "2022-02-07T08:48:37.332Z"
   },
   {
    "duration": 21,
    "start_time": "2022-02-07T08:49:49.148Z"
   },
   {
    "duration": 18,
    "start_time": "2022-02-07T08:49:57.027Z"
   },
   {
    "duration": 916,
    "start_time": "2022-02-07T08:52:25.022Z"
   },
   {
    "duration": 365,
    "start_time": "2022-02-07T08:52:25.940Z"
   },
   {
    "duration": 99,
    "start_time": "2022-02-07T08:52:26.307Z"
   },
   {
    "duration": 72,
    "start_time": "2022-02-07T08:52:26.408Z"
   },
   {
    "duration": 8,
    "start_time": "2022-02-07T08:52:26.481Z"
   },
   {
    "duration": 52,
    "start_time": "2022-02-07T08:52:26.490Z"
   },
   {
    "duration": 33,
    "start_time": "2022-02-07T08:52:26.543Z"
   },
   {
    "duration": 24,
    "start_time": "2022-02-07T08:52:26.577Z"
   },
   {
    "duration": 47,
    "start_time": "2022-02-07T08:52:26.604Z"
   },
   {
    "duration": 34,
    "start_time": "2022-02-07T08:52:26.653Z"
   },
   {
    "duration": 23,
    "start_time": "2022-02-07T08:52:26.689Z"
   },
   {
    "duration": 5,
    "start_time": "2022-02-07T08:52:26.714Z"
   },
   {
    "duration": 29,
    "start_time": "2022-02-07T08:52:26.721Z"
   },
   {
    "duration": 78,
    "start_time": "2022-02-07T08:52:26.752Z"
   },
   {
    "duration": 31,
    "start_time": "2022-02-07T08:52:26.831Z"
   },
   {
    "duration": 21,
    "start_time": "2022-02-07T08:52:26.872Z"
   },
   {
    "duration": 8,
    "start_time": "2022-02-07T08:52:26.895Z"
   },
   {
    "duration": 27,
    "start_time": "2022-02-07T08:52:26.905Z"
   },
   {
    "duration": 14,
    "start_time": "2022-02-07T08:52:26.933Z"
   },
   {
    "duration": 37,
    "start_time": "2022-02-07T08:52:26.948Z"
   },
   {
    "duration": 21,
    "start_time": "2022-02-07T08:52:26.987Z"
   },
   {
    "duration": 25,
    "start_time": "2022-02-07T08:52:27.009Z"
   },
   {
    "duration": 57,
    "start_time": "2022-02-07T08:52:27.036Z"
   },
   {
    "duration": 26,
    "start_time": "2022-02-07T08:52:27.094Z"
   },
   {
    "duration": 7,
    "start_time": "2022-02-07T08:52:27.121Z"
   },
   {
    "duration": 4,
    "start_time": "2022-02-07T08:52:27.130Z"
   },
   {
    "duration": 10,
    "start_time": "2022-02-07T08:52:27.136Z"
   },
   {
    "duration": 18,
    "start_time": "2022-02-07T08:52:27.172Z"
   },
   {
    "duration": 46,
    "start_time": "2022-02-07T08:52:27.192Z"
   },
   {
    "duration": 4,
    "start_time": "2022-02-07T08:52:27.240Z"
   },
   {
    "duration": 30,
    "start_time": "2022-02-07T08:52:27.245Z"
   },
   {
    "duration": 20,
    "start_time": "2022-02-07T08:52:55.652Z"
   },
   {
    "duration": 25,
    "start_time": "2022-02-07T08:53:03.325Z"
   },
   {
    "duration": 7097,
    "start_time": "2022-02-07T08:55:44.116Z"
   },
   {
    "duration": 1036,
    "start_time": "2022-02-07T08:56:04.401Z"
   },
   {
    "duration": 379,
    "start_time": "2022-02-07T08:56:05.439Z"
   },
   {
    "duration": 115,
    "start_time": "2022-02-07T08:56:05.822Z"
   },
   {
    "duration": 75,
    "start_time": "2022-02-07T08:56:05.939Z"
   },
   {
    "duration": 8,
    "start_time": "2022-02-07T08:56:06.016Z"
   },
   {
    "duration": 71,
    "start_time": "2022-02-07T08:56:06.025Z"
   },
   {
    "duration": 10,
    "start_time": "2022-02-07T08:56:06.098Z"
   },
   {
    "duration": 15,
    "start_time": "2022-02-07T08:56:06.110Z"
   },
   {
    "duration": 47,
    "start_time": "2022-02-07T08:56:06.126Z"
   },
   {
    "duration": 20,
    "start_time": "2022-02-07T08:56:06.175Z"
   },
   {
    "duration": 17,
    "start_time": "2022-02-07T08:56:06.197Z"
   },
   {
    "duration": 4,
    "start_time": "2022-02-07T08:56:06.215Z"
   },
   {
    "duration": 17,
    "start_time": "2022-02-07T08:56:06.220Z"
   },
   {
    "duration": 96,
    "start_time": "2022-02-07T08:56:06.238Z"
   },
   {
    "duration": 42,
    "start_time": "2022-02-07T08:56:06.335Z"
   },
   {
    "duration": 22,
    "start_time": "2022-02-07T08:56:06.378Z"
   },
   {
    "duration": 9,
    "start_time": "2022-02-07T08:56:06.402Z"
   },
   {
    "duration": 28,
    "start_time": "2022-02-07T08:56:06.412Z"
   },
   {
    "duration": 34,
    "start_time": "2022-02-07T08:56:06.441Z"
   },
   {
    "duration": 15,
    "start_time": "2022-02-07T08:56:06.476Z"
   },
   {
    "duration": 22,
    "start_time": "2022-02-07T08:56:06.492Z"
   },
   {
    "duration": 24,
    "start_time": "2022-02-07T08:56:06.517Z"
   },
   {
    "duration": 55,
    "start_time": "2022-02-07T08:56:06.543Z"
   },
   {
    "duration": 27,
    "start_time": "2022-02-07T08:56:06.600Z"
   },
   {
    "duration": 7,
    "start_time": "2022-02-07T08:56:06.629Z"
   },
   {
    "duration": 4,
    "start_time": "2022-02-07T08:56:06.637Z"
   },
   {
    "duration": 30,
    "start_time": "2022-02-07T08:56:06.642Z"
   },
   {
    "duration": 6942,
    "start_time": "2022-02-07T08:56:06.673Z"
   },
   {
    "duration": -43,
    "start_time": "2022-02-07T08:56:13.659Z"
   },
   {
    "duration": -46,
    "start_time": "2022-02-07T08:56:13.663Z"
   },
   {
    "duration": -48,
    "start_time": "2022-02-07T08:56:13.666Z"
   },
   {
    "duration": 27,
    "start_time": "2022-02-07T08:56:54.773Z"
   },
   {
    "duration": 966,
    "start_time": "2022-02-07T08:57:12.564Z"
   },
   {
    "duration": 21,
    "start_time": "2022-02-07T08:57:20.636Z"
   },
   {
    "duration": 27,
    "start_time": "2022-02-07T08:57:28.020Z"
   },
   {
    "duration": 262,
    "start_time": "2022-02-07T08:57:46.380Z"
   },
   {
    "duration": 33,
    "start_time": "2022-02-07T09:43:38.431Z"
   },
   {
    "duration": 3,
    "start_time": "2022-02-07T09:48:05.432Z"
   },
   {
    "duration": 383,
    "start_time": "2022-02-07T09:48:05.436Z"
   },
   {
    "duration": 100,
    "start_time": "2022-02-07T09:48:05.821Z"
   },
   {
    "duration": 72,
    "start_time": "2022-02-07T09:48:05.923Z"
   },
   {
    "duration": 7,
    "start_time": "2022-02-07T09:48:05.997Z"
   },
   {
    "duration": 66,
    "start_time": "2022-02-07T09:48:06.006Z"
   },
   {
    "duration": 11,
    "start_time": "2022-02-07T09:48:06.074Z"
   },
   {
    "duration": 19,
    "start_time": "2022-02-07T09:48:06.087Z"
   },
   {
    "duration": 47,
    "start_time": "2022-02-07T09:48:06.108Z"
   },
   {
    "duration": 23,
    "start_time": "2022-02-07T09:48:06.157Z"
   },
   {
    "duration": 30,
    "start_time": "2022-02-07T09:48:06.181Z"
   },
   {
    "duration": 9,
    "start_time": "2022-02-07T09:48:06.212Z"
   },
   {
    "duration": 45,
    "start_time": "2022-02-07T09:48:06.222Z"
   },
   {
    "duration": 83,
    "start_time": "2022-02-07T09:48:06.268Z"
   },
   {
    "duration": 32,
    "start_time": "2022-02-07T09:48:06.353Z"
   },
   {
    "duration": 28,
    "start_time": "2022-02-07T09:48:06.386Z"
   },
   {
    "duration": 23,
    "start_time": "2022-02-07T09:48:06.415Z"
   },
   {
    "duration": 57,
    "start_time": "2022-02-07T09:48:06.440Z"
   },
   {
    "duration": 13,
    "start_time": "2022-02-07T09:48:06.500Z"
   },
   {
    "duration": 30,
    "start_time": "2022-02-07T09:48:06.515Z"
   },
   {
    "duration": 42,
    "start_time": "2022-02-07T09:48:06.546Z"
   },
   {
    "duration": 28,
    "start_time": "2022-02-07T09:48:06.590Z"
   },
   {
    "duration": 48,
    "start_time": "2022-02-07T09:48:06.619Z"
   },
   {
    "duration": 38,
    "start_time": "2022-02-07T09:48:06.668Z"
   },
   {
    "duration": 9,
    "start_time": "2022-02-07T09:48:06.707Z"
   },
   {
    "duration": 32,
    "start_time": "2022-02-07T09:48:06.718Z"
   },
   {
    "duration": 37,
    "start_time": "2022-02-07T09:48:06.751Z"
   },
   {
    "duration": 38,
    "start_time": "2022-02-07T09:48:06.790Z"
   },
   {
    "duration": 56,
    "start_time": "2022-02-07T09:48:06.829Z"
   },
   {
    "duration": 5,
    "start_time": "2022-02-07T09:48:06.886Z"
   },
   {
    "duration": 50,
    "start_time": "2022-02-07T09:48:06.893Z"
   },
   {
    "duration": 26,
    "start_time": "2022-02-07T09:48:13.550Z"
   },
   {
    "duration": 38,
    "start_time": "2022-02-07T09:52:30.861Z"
   },
   {
    "duration": 34,
    "start_time": "2022-02-07T10:00:06.110Z"
   },
   {
    "duration": 33,
    "start_time": "2022-02-07T10:00:10.477Z"
   },
   {
    "duration": 2141,
    "start_time": "2022-02-07T10:45:20.704Z"
   },
   {
    "duration": 28,
    "start_time": "2022-02-07T10:45:36.407Z"
   },
   {
    "duration": 6752,
    "start_time": "2022-02-07T10:47:03.952Z"
   },
   {
    "duration": 2,
    "start_time": "2022-02-07T10:47:16.490Z"
   },
   {
    "duration": 361,
    "start_time": "2022-02-07T10:47:16.494Z"
   },
   {
    "duration": 100,
    "start_time": "2022-02-07T10:47:16.858Z"
   },
   {
    "duration": 68,
    "start_time": "2022-02-07T10:47:16.973Z"
   },
   {
    "duration": 7,
    "start_time": "2022-02-07T10:47:17.043Z"
   },
   {
    "duration": 48,
    "start_time": "2022-02-07T10:47:17.072Z"
   },
   {
    "duration": 11,
    "start_time": "2022-02-07T10:47:17.122Z"
   },
   {
    "duration": 13,
    "start_time": "2022-02-07T10:47:17.135Z"
   },
   {
    "duration": 25,
    "start_time": "2022-02-07T10:47:17.172Z"
   },
   {
    "duration": 19,
    "start_time": "2022-02-07T10:47:17.199Z"
   },
   {
    "duration": 16,
    "start_time": "2022-02-07T10:47:17.220Z"
   },
   {
    "duration": 4,
    "start_time": "2022-02-07T10:47:17.238Z"
   },
   {
    "duration": 40,
    "start_time": "2022-02-07T10:47:17.243Z"
   },
   {
    "duration": 74,
    "start_time": "2022-02-07T10:47:17.285Z"
   },
   {
    "duration": 43,
    "start_time": "2022-02-07T10:47:17.361Z"
   },
   {
    "duration": 18,
    "start_time": "2022-02-07T10:47:17.405Z"
   },
   {
    "duration": 10,
    "start_time": "2022-02-07T10:47:17.425Z"
   },
   {
    "duration": 45,
    "start_time": "2022-02-07T10:47:17.436Z"
   },
   {
    "duration": 13,
    "start_time": "2022-02-07T10:47:17.482Z"
   },
   {
    "duration": 15,
    "start_time": "2022-02-07T10:47:17.497Z"
   },
   {
    "duration": 21,
    "start_time": "2022-02-07T10:47:17.513Z"
   },
   {
    "duration": 50,
    "start_time": "2022-02-07T10:47:17.537Z"
   },
   {
    "duration": 30,
    "start_time": "2022-02-07T10:47:17.590Z"
   },
   {
    "duration": 27,
    "start_time": "2022-02-07T10:47:17.622Z"
   },
   {
    "duration": 27,
    "start_time": "2022-02-07T10:47:17.650Z"
   },
   {
    "duration": 3,
    "start_time": "2022-02-07T10:47:17.679Z"
   },
   {
    "duration": 10,
    "start_time": "2022-02-07T10:47:17.683Z"
   },
   {
    "duration": 27,
    "start_time": "2022-02-07T10:47:17.695Z"
   },
   {
    "duration": 7202,
    "start_time": "2022-02-07T10:47:17.724Z"
   },
   {
    "duration": 330,
    "start_time": "2022-02-07T10:47:24.598Z"
   },
   {
    "duration": 328,
    "start_time": "2022-02-07T10:47:24.601Z"
   },
   {
    "duration": 395,
    "start_time": "2022-02-07T10:48:46.927Z"
   },
   {
    "duration": 539,
    "start_time": "2022-02-07T10:52:23.232Z"
   },
   {
    "duration": 179,
    "start_time": "2022-02-07T10:53:15.639Z"
   },
   {
    "duration": 177,
    "start_time": "2022-02-07T10:53:33.823Z"
   },
   {
    "duration": 198,
    "start_time": "2022-02-07T10:54:08.063Z"
   },
   {
    "duration": 202,
    "start_time": "2022-02-07T10:54:14.967Z"
   },
   {
    "duration": 176,
    "start_time": "2022-02-07T10:54:51.183Z"
   },
   {
    "duration": 294,
    "start_time": "2022-02-07T10:55:11.190Z"
   },
   {
    "duration": 226,
    "start_time": "2022-02-07T10:55:18.439Z"
   },
   {
    "duration": 364,
    "start_time": "2022-02-07T10:55:34.640Z"
   },
   {
    "duration": 380,
    "start_time": "2022-02-07T10:55:51.055Z"
   },
   {
    "duration": 521,
    "start_time": "2022-02-07T10:56:08.529Z"
   },
   {
    "duration": 263,
    "start_time": "2022-02-07T10:56:19.631Z"
   },
   {
    "duration": 172,
    "start_time": "2022-02-07T10:57:00.959Z"
   },
   {
    "duration": 247,
    "start_time": "2022-02-07T10:57:17.935Z"
   },
   {
    "duration": 500,
    "start_time": "2022-02-07T10:57:27.566Z"
   },
   {
    "duration": 518,
    "start_time": "2022-02-07T10:57:41.721Z"
   },
   {
    "duration": 256,
    "start_time": "2022-02-07T10:57:56.399Z"
   },
   {
    "duration": 254,
    "start_time": "2022-02-07T10:58:02.782Z"
   },
   {
    "duration": 553,
    "start_time": "2022-02-07T10:58:21.542Z"
   },
   {
    "duration": 6985,
    "start_time": "2022-02-07T11:01:22.895Z"
   },
   {
    "duration": 7094,
    "start_time": "2022-02-07T11:02:24.815Z"
   },
   {
    "duration": 7455,
    "start_time": "2022-02-07T11:02:35.358Z"
   },
   {
    "duration": 315,
    "start_time": "2022-02-07T11:02:57.407Z"
   },
   {
    "duration": 306,
    "start_time": "2022-02-07T11:03:04.439Z"
   },
   {
    "duration": 7220,
    "start_time": "2022-02-07T11:03:24.845Z"
   },
   {
    "duration": 371,
    "start_time": "2022-02-07T11:04:14.998Z"
   },
   {
    "duration": 288,
    "start_time": "2022-02-07T11:04:23.133Z"
   },
   {
    "duration": 2292,
    "start_time": "2022-02-07T11:04:41.014Z"
   },
   {
    "duration": 119,
    "start_time": "2022-02-07T11:04:54.740Z"
   },
   {
    "duration": 905,
    "start_time": "2022-02-07T11:05:01.022Z"
   },
   {
    "duration": 802,
    "start_time": "2022-02-07T11:05:17.782Z"
   },
   {
    "duration": 294,
    "start_time": "2022-02-07T11:06:16.879Z"
   },
   {
    "duration": 317,
    "start_time": "2022-02-07T11:06:33.493Z"
   },
   {
    "duration": 496,
    "start_time": "2022-02-07T11:06:57.829Z"
   },
   {
    "duration": 306,
    "start_time": "2022-02-07T11:07:23.494Z"
   },
   {
    "duration": 308,
    "start_time": "2022-02-07T11:07:45.198Z"
   },
   {
    "duration": 330,
    "start_time": "2022-02-07T11:08:26.462Z"
   },
   {
    "duration": 326,
    "start_time": "2022-02-07T11:08:38.277Z"
   },
   {
    "duration": 27,
    "start_time": "2022-02-07T11:14:30.397Z"
   },
   {
    "duration": 595,
    "start_time": "2022-02-07T11:15:53.974Z"
   },
   {
    "duration": 306,
    "start_time": "2022-02-07T11:16:03.205Z"
   },
   {
    "duration": 282,
    "start_time": "2022-02-07T11:16:56.814Z"
   },
   {
    "duration": 335,
    "start_time": "2022-02-07T11:17:02.973Z"
   },
   {
    "duration": 7261,
    "start_time": "2022-02-07T11:17:45.326Z"
   },
   {
    "duration": 312,
    "start_time": "2022-02-07T11:17:53.645Z"
   },
   {
    "duration": 7689,
    "start_time": "2022-02-07T11:19:00.814Z"
   },
   {
    "duration": 342,
    "start_time": "2022-02-07T11:19:49.373Z"
   },
   {
    "duration": 9,
    "start_time": "2022-02-07T11:20:01.070Z"
   },
   {
    "duration": 137,
    "start_time": "2022-02-07T11:20:08.805Z"
   },
   {
    "duration": 1068,
    "start_time": "2022-02-07T11:21:06.086Z"
   },
   {
    "duration": 95,
    "start_time": "2022-02-07T11:21:25.382Z"
   },
   {
    "duration": 298,
    "start_time": "2022-02-07T11:21:33.582Z"
   },
   {
    "duration": 382,
    "start_time": "2022-02-07T11:21:47.119Z"
   },
   {
    "duration": 312,
    "start_time": "2022-02-07T11:21:54.430Z"
   },
   {
    "duration": 329,
    "start_time": "2022-02-07T11:22:08.958Z"
   },
   {
    "duration": 126,
    "start_time": "2022-02-07T11:22:12.566Z"
   },
   {
    "duration": 113,
    "start_time": "2022-02-07T11:23:17.406Z"
   },
   {
    "duration": 142,
    "start_time": "2022-02-07T11:23:57.110Z"
   },
   {
    "duration": 97,
    "start_time": "2022-02-07T11:27:40.502Z"
   },
   {
    "duration": 123,
    "start_time": "2022-02-07T11:31:14.332Z"
   },
   {
    "duration": 1031,
    "start_time": "2022-02-07T11:31:26.110Z"
   },
   {
    "duration": 370,
    "start_time": "2022-02-07T11:31:27.143Z"
   },
   {
    "duration": 107,
    "start_time": "2022-02-07T11:31:27.517Z"
   },
   {
    "duration": 99,
    "start_time": "2022-02-07T11:31:27.626Z"
   },
   {
    "duration": 9,
    "start_time": "2022-02-07T11:31:27.727Z"
   },
   {
    "duration": 76,
    "start_time": "2022-02-07T11:31:27.738Z"
   },
   {
    "duration": 11,
    "start_time": "2022-02-07T11:31:27.816Z"
   },
   {
    "duration": 15,
    "start_time": "2022-02-07T11:31:27.829Z"
   },
   {
    "duration": 48,
    "start_time": "2022-02-07T11:31:27.845Z"
   },
   {
    "duration": 28,
    "start_time": "2022-02-07T11:31:27.895Z"
   },
   {
    "duration": 24,
    "start_time": "2022-02-07T11:31:27.925Z"
   },
   {
    "duration": 21,
    "start_time": "2022-02-07T11:31:27.951Z"
   },
   {
    "duration": 18,
    "start_time": "2022-02-07T11:31:27.974Z"
   },
   {
    "duration": 92,
    "start_time": "2022-02-07T11:31:27.994Z"
   },
   {
    "duration": 31,
    "start_time": "2022-02-07T11:31:28.088Z"
   },
   {
    "duration": 21,
    "start_time": "2022-02-07T11:31:28.121Z"
   },
   {
    "duration": 9,
    "start_time": "2022-02-07T11:31:28.143Z"
   },
   {
    "duration": 30,
    "start_time": "2022-02-07T11:31:28.172Z"
   },
   {
    "duration": 17,
    "start_time": "2022-02-07T11:31:28.204Z"
   },
   {
    "duration": 16,
    "start_time": "2022-02-07T11:31:28.223Z"
   },
   {
    "duration": 47,
    "start_time": "2022-02-07T11:31:28.240Z"
   },
   {
    "duration": 41,
    "start_time": "2022-02-07T11:31:28.291Z"
   },
   {
    "duration": 67,
    "start_time": "2022-02-07T11:31:28.334Z"
   },
   {
    "duration": 46,
    "start_time": "2022-02-07T11:31:28.403Z"
   },
   {
    "duration": 22,
    "start_time": "2022-02-07T11:31:28.451Z"
   },
   {
    "duration": 4,
    "start_time": "2022-02-07T11:31:28.475Z"
   },
   {
    "duration": 38,
    "start_time": "2022-02-07T11:31:28.481Z"
   },
   {
    "duration": 58,
    "start_time": "2022-02-07T11:31:28.521Z"
   },
   {
    "duration": 123,
    "start_time": "2022-02-07T11:31:28.581Z"
   },
   {
    "duration": 344,
    "start_time": "2022-02-07T11:31:28.362Z"
   },
   {
    "duration": 344,
    "start_time": "2022-02-07T11:31:28.364Z"
   },
   {
    "duration": 339,
    "start_time": "2022-02-07T11:31:28.370Z"
   },
   {
    "duration": 338,
    "start_time": "2022-02-07T11:31:28.373Z"
   },
   {
    "duration": 336,
    "start_time": "2022-02-07T11:31:28.376Z"
   },
   {
    "duration": 335,
    "start_time": "2022-02-07T11:31:28.378Z"
   },
   {
    "duration": 335,
    "start_time": "2022-02-07T11:31:28.380Z"
   },
   {
    "duration": 6656,
    "start_time": "2022-02-07T11:31:49.924Z"
   },
   {
    "duration": 348,
    "start_time": "2022-02-07T11:32:28.633Z"
   },
   {
    "duration": 129,
    "start_time": "2022-02-07T11:32:46.465Z"
   },
   {
    "duration": 116,
    "start_time": "2022-02-07T11:33:16.785Z"
   },
   {
    "duration": 307,
    "start_time": "2022-02-07T11:33:18.369Z"
   },
   {
    "duration": 116,
    "start_time": "2022-02-07T11:33:28.120Z"
   },
   {
    "duration": 553,
    "start_time": "2022-02-07T11:33:31.425Z"
   },
   {
    "duration": 334,
    "start_time": "2022-02-07T11:35:03.841Z"
   },
   {
    "duration": 150,
    "start_time": "2022-02-07T11:35:34.768Z"
   },
   {
    "duration": 343,
    "start_time": "2022-02-07T11:37:12.250Z"
   },
   {
    "duration": 339,
    "start_time": "2022-02-07T11:37:35.289Z"
   },
   {
    "duration": 461,
    "start_time": "2022-02-07T11:37:37.193Z"
   },
   {
    "duration": 172,
    "start_time": "2022-02-07T11:38:37.765Z"
   },
   {
    "duration": 334,
    "start_time": "2022-02-07T11:38:39.432Z"
   },
   {
    "duration": 126,
    "start_time": "2022-02-07T11:39:07.417Z"
   },
   {
    "duration": 332,
    "start_time": "2022-02-07T11:39:16.560Z"
   },
   {
    "duration": 120,
    "start_time": "2022-02-07T11:39:28.800Z"
   },
   {
    "duration": 3,
    "start_time": "2022-02-07T11:44:06.748Z"
   },
   {
    "duration": 424,
    "start_time": "2022-02-07T11:44:06.753Z"
   },
   {
    "duration": 108,
    "start_time": "2022-02-07T11:44:07.180Z"
   },
   {
    "duration": 89,
    "start_time": "2022-02-07T11:44:07.290Z"
   },
   {
    "duration": 8,
    "start_time": "2022-02-07T11:44:07.381Z"
   },
   {
    "duration": 87,
    "start_time": "2022-02-07T11:44:07.391Z"
   },
   {
    "duration": 14,
    "start_time": "2022-02-07T11:44:07.481Z"
   },
   {
    "duration": 14,
    "start_time": "2022-02-07T11:44:07.498Z"
   },
   {
    "duration": 26,
    "start_time": "2022-02-07T11:44:07.514Z"
   },
   {
    "duration": 39,
    "start_time": "2022-02-07T11:44:07.542Z"
   },
   {
    "duration": 23,
    "start_time": "2022-02-07T11:44:07.583Z"
   },
   {
    "duration": 4,
    "start_time": "2022-02-07T11:44:07.608Z"
   },
   {
    "duration": 16,
    "start_time": "2022-02-07T11:44:07.614Z"
   },
   {
    "duration": 110,
    "start_time": "2022-02-07T11:44:07.631Z"
   },
   {
    "duration": 42,
    "start_time": "2022-02-07T11:44:07.743Z"
   },
   {
    "duration": 19,
    "start_time": "2022-02-07T11:44:07.786Z"
   },
   {
    "duration": 10,
    "start_time": "2022-02-07T11:44:07.807Z"
   },
   {
    "duration": 60,
    "start_time": "2022-02-07T11:44:07.819Z"
   },
   {
    "duration": 15,
    "start_time": "2022-02-07T11:44:07.881Z"
   },
   {
    "duration": 23,
    "start_time": "2022-02-07T11:44:07.898Z"
   },
   {
    "duration": 57,
    "start_time": "2022-02-07T11:44:07.923Z"
   },
   {
    "duration": 29,
    "start_time": "2022-02-07T11:44:07.982Z"
   },
   {
    "duration": 71,
    "start_time": "2022-02-07T11:44:08.015Z"
   },
   {
    "duration": 42,
    "start_time": "2022-02-07T11:44:08.088Z"
   },
   {
    "duration": 11,
    "start_time": "2022-02-07T11:44:08.133Z"
   },
   {
    "duration": 4,
    "start_time": "2022-02-07T11:44:08.146Z"
   },
   {
    "duration": 48,
    "start_time": "2022-02-07T11:44:08.152Z"
   },
   {
    "duration": 39,
    "start_time": "2022-02-07T11:44:08.202Z"
   },
   {
    "duration": 371,
    "start_time": "2022-02-07T11:44:08.243Z"
   },
   {
    "duration": 140,
    "start_time": "2022-02-07T11:44:08.616Z"
   },
   {
    "duration": 417,
    "start_time": "2022-02-07T11:44:08.758Z"
   },
   {
    "duration": 124,
    "start_time": "2022-02-07T11:44:09.177Z"
   },
   {
    "duration": 332,
    "start_time": "2022-02-07T11:44:09.303Z"
   },
   {
    "duration": 136,
    "start_time": "2022-02-07T11:44:09.637Z"
   },
   {
    "duration": 336,
    "start_time": "2022-02-07T11:44:09.775Z"
   },
   {
    "duration": 131,
    "start_time": "2022-02-07T11:44:10.112Z"
   },
   {
    "duration": 339,
    "start_time": "2022-02-07T11:44:10.245Z"
   },
   {
    "duration": 229,
    "start_time": "2022-02-07T11:44:10.586Z"
   },
   {
    "duration": 444,
    "start_time": "2022-02-07T11:44:10.816Z"
   },
   {
    "duration": 188,
    "start_time": "2022-02-07T11:44:11.262Z"
   },
   {
    "duration": 53,
    "start_time": "2022-02-07T11:44:11.452Z"
   },
   {
    "duration": 7,
    "start_time": "2022-02-07T11:44:11.508Z"
   },
   {
    "duration": 4623,
    "start_time": "2022-02-07T11:46:10.264Z"
   },
   {
    "duration": 4221,
    "start_time": "2022-02-07T11:46:32.880Z"
   },
   {
    "duration": 329,
    "start_time": "2022-02-07T14:58:02.883Z"
   },
   {
    "duration": 121,
    "start_time": "2022-02-07T14:58:05.795Z"
   },
   {
    "duration": 938,
    "start_time": "2022-02-07T15:03:24.827Z"
   },
   {
    "duration": 396,
    "start_time": "2022-02-07T15:03:25.766Z"
   },
   {
    "duration": 128,
    "start_time": "2022-02-07T15:03:26.166Z"
   },
   {
    "duration": 91,
    "start_time": "2022-02-07T15:03:26.296Z"
   },
   {
    "duration": 9,
    "start_time": "2022-02-07T15:03:26.388Z"
   },
   {
    "duration": 53,
    "start_time": "2022-02-07T15:03:26.398Z"
   },
   {
    "duration": 27,
    "start_time": "2022-02-07T15:03:26.453Z"
   },
   {
    "duration": 13,
    "start_time": "2022-02-07T15:03:26.482Z"
   },
   {
    "duration": 27,
    "start_time": "2022-02-07T15:03:26.496Z"
   },
   {
    "duration": 21,
    "start_time": "2022-02-07T15:03:26.526Z"
   },
   {
    "duration": 20,
    "start_time": "2022-02-07T15:03:26.572Z"
   },
   {
    "duration": 4,
    "start_time": "2022-02-07T15:03:26.594Z"
   },
   {
    "duration": 17,
    "start_time": "2022-02-07T15:03:26.600Z"
   },
   {
    "duration": 101,
    "start_time": "2022-02-07T15:03:26.619Z"
   },
   {
    "duration": 35,
    "start_time": "2022-02-07T15:03:26.722Z"
   },
   {
    "duration": 31,
    "start_time": "2022-02-07T15:03:26.758Z"
   },
   {
    "duration": 10,
    "start_time": "2022-02-07T15:03:26.790Z"
   },
   {
    "duration": 31,
    "start_time": "2022-02-07T15:03:26.802Z"
   },
   {
    "duration": 14,
    "start_time": "2022-02-07T15:03:26.834Z"
   },
   {
    "duration": 35,
    "start_time": "2022-02-07T15:03:26.850Z"
   },
   {
    "duration": 20,
    "start_time": "2022-02-07T15:03:26.887Z"
   },
   {
    "duration": 24,
    "start_time": "2022-02-07T15:03:26.910Z"
   },
   {
    "duration": 54,
    "start_time": "2022-02-07T15:03:26.935Z"
   },
   {
    "duration": 28,
    "start_time": "2022-02-07T15:03:26.990Z"
   },
   {
    "duration": 8,
    "start_time": "2022-02-07T15:03:27.019Z"
   },
   {
    "duration": 3,
    "start_time": "2022-02-07T15:03:27.029Z"
   },
   {
    "duration": 49,
    "start_time": "2022-02-07T15:03:27.034Z"
   },
   {
    "duration": 27,
    "start_time": "2022-02-07T15:03:27.085Z"
   },
   {
    "duration": 131,
    "start_time": "2022-02-07T15:03:43.234Z"
   },
   {
    "duration": 336,
    "start_time": "2022-02-07T15:03:43.367Z"
   },
   {
    "duration": 128,
    "start_time": "2022-02-07T15:03:43.705Z"
   },
   {
    "duration": 322,
    "start_time": "2022-02-07T15:03:43.834Z"
   },
   {
    "duration": 125,
    "start_time": "2022-02-07T15:03:44.158Z"
   },
   {
    "duration": 1374,
    "start_time": "2022-02-07T15:03:44.285Z"
   },
   {
    "duration": 127,
    "start_time": "2022-02-07T15:03:45.661Z"
   },
   {
    "duration": 347,
    "start_time": "2022-02-07T15:03:45.790Z"
   },
   {
    "duration": 127,
    "start_time": "2022-02-07T15:03:46.139Z"
   },
   {
    "duration": 339,
    "start_time": "2022-02-07T15:03:46.272Z"
   },
   {
    "duration": 134,
    "start_time": "2022-02-07T15:03:46.613Z"
   },
   {
    "duration": 43,
    "start_time": "2022-02-07T15:03:46.749Z"
   },
   {
    "duration": 352,
    "start_time": "2022-02-07T15:03:46.794Z"
   },
   {
    "duration": 1684,
    "start_time": "2022-02-07T15:03:52.441Z"
   },
   {
    "duration": 347,
    "start_time": "2022-02-07T15:03:56.679Z"
   },
   {
    "duration": 1750,
    "start_time": "2022-02-07T15:04:01.801Z"
   },
   {
    "duration": 452,
    "start_time": "2022-02-07T15:04:06.305Z"
   },
   {
    "duration": 1484,
    "start_time": "2022-02-08T12:15:52.087Z"
   },
   {
    "duration": 497,
    "start_time": "2022-02-08T12:15:53.575Z"
   },
   {
    "duration": 180,
    "start_time": "2022-02-08T12:15:54.075Z"
   },
   {
    "duration": 145,
    "start_time": "2022-02-08T12:15:54.258Z"
   },
   {
    "duration": 26,
    "start_time": "2022-02-08T12:15:54.406Z"
   },
   {
    "duration": 115,
    "start_time": "2022-02-08T12:15:54.435Z"
   },
   {
    "duration": 22,
    "start_time": "2022-02-08T12:15:54.553Z"
   },
   {
    "duration": 55,
    "start_time": "2022-02-08T12:15:54.580Z"
   },
   {
    "duration": 43,
    "start_time": "2022-02-08T12:15:54.639Z"
   },
   {
    "duration": 59,
    "start_time": "2022-02-08T12:15:54.685Z"
   },
   {
    "duration": 27,
    "start_time": "2022-02-08T12:15:54.747Z"
   },
   {
    "duration": 6,
    "start_time": "2022-02-08T12:15:54.776Z"
   },
   {
    "duration": 54,
    "start_time": "2022-02-08T12:15:54.784Z"
   },
   {
    "duration": 143,
    "start_time": "2022-02-08T12:15:54.840Z"
   },
   {
    "duration": 68,
    "start_time": "2022-02-08T12:15:54.986Z"
   },
   {
    "duration": 35,
    "start_time": "2022-02-08T12:15:55.057Z"
   },
   {
    "duration": 37,
    "start_time": "2022-02-08T12:15:55.094Z"
   },
   {
    "duration": 47,
    "start_time": "2022-02-08T12:15:55.134Z"
   },
   {
    "duration": 53,
    "start_time": "2022-02-08T12:15:55.184Z"
   },
   {
    "duration": 30,
    "start_time": "2022-02-08T12:15:55.240Z"
   },
   {
    "duration": 67,
    "start_time": "2022-02-08T12:15:55.273Z"
   },
   {
    "duration": 49,
    "start_time": "2022-02-08T12:15:55.343Z"
   },
   {
    "duration": 75,
    "start_time": "2022-02-08T12:15:55.397Z"
   },
   {
    "duration": 70,
    "start_time": "2022-02-08T12:15:55.475Z"
   },
   {
    "duration": 12,
    "start_time": "2022-02-08T12:15:55.548Z"
   },
   {
    "duration": 6,
    "start_time": "2022-02-08T12:15:55.562Z"
   },
   {
    "duration": 90,
    "start_time": "2022-02-08T12:15:55.570Z"
   },
   {
    "duration": 44,
    "start_time": "2022-02-08T12:15:55.662Z"
   },
   {
    "duration": 656,
    "start_time": "2022-02-08T12:15:55.724Z"
   },
   {
    "duration": 230,
    "start_time": "2022-02-08T12:15:56.383Z"
   },
   {
    "duration": 626,
    "start_time": "2022-02-08T12:15:56.616Z"
   },
   {
    "duration": 258,
    "start_time": "2022-02-08T12:15:57.245Z"
   },
   {
    "duration": 650,
    "start_time": "2022-02-08T12:15:57.505Z"
   },
   {
    "duration": 228,
    "start_time": "2022-02-08T12:15:58.158Z"
   },
   {
    "duration": 717,
    "start_time": "2022-02-08T12:15:58.388Z"
   },
   {
    "duration": 335,
    "start_time": "2022-02-08T12:15:59.108Z"
   },
   {
    "duration": 622,
    "start_time": "2022-02-08T12:15:59.446Z"
   },
   {
    "duration": 238,
    "start_time": "2022-02-08T12:16:00.070Z"
   },
   {
    "duration": 943,
    "start_time": "2022-02-08T12:16:00.311Z"
   },
   {
    "duration": 334,
    "start_time": "2022-02-08T12:16:01.257Z"
   },
   {
    "duration": 71,
    "start_time": "2022-02-08T12:16:01.594Z"
   },
   {
    "duration": 796,
    "start_time": "2022-02-08T12:22:12.778Z"
   },
   {
    "duration": 461,
    "start_time": "2022-02-08T12:22:35.603Z"
   },
   {
    "duration": 539,
    "start_time": "2022-02-08T12:22:51.764Z"
   },
   {
    "duration": 464,
    "start_time": "2022-02-08T12:23:14.732Z"
   },
   {
    "duration": 439,
    "start_time": "2022-02-08T12:26:04.995Z"
   },
   {
    "duration": 455,
    "start_time": "2022-02-08T12:26:12.531Z"
   },
   {
    "duration": 469,
    "start_time": "2022-02-08T12:26:17.491Z"
   },
   {
    "duration": 468,
    "start_time": "2022-02-08T12:26:27.427Z"
   },
   {
    "duration": 488,
    "start_time": "2022-02-08T12:27:11.771Z"
   },
   {
    "duration": 547,
    "start_time": "2022-02-08T12:28:11.619Z"
   },
   {
    "duration": 468,
    "start_time": "2022-02-08T12:28:21.506Z"
   },
   {
    "duration": 461,
    "start_time": "2022-02-08T12:28:29.259Z"
   },
   {
    "duration": 449,
    "start_time": "2022-02-08T12:28:33.771Z"
   },
   {
    "duration": 7,
    "start_time": "2022-02-08T12:30:13.986Z"
   },
   {
    "duration": 6,
    "start_time": "2022-02-08T12:30:42.266Z"
   },
   {
    "duration": 6,
    "start_time": "2022-02-08T12:31:00.843Z"
   },
   {
    "duration": 5,
    "start_time": "2022-02-08T12:31:04.515Z"
   },
   {
    "duration": 624,
    "start_time": "2022-02-08T12:32:01.019Z"
   },
   {
    "duration": 6,
    "start_time": "2022-02-08T12:33:47.686Z"
   },
   {
    "duration": 1490,
    "start_time": "2022-02-09T08:45:38.365Z"
   },
   {
    "duration": 528,
    "start_time": "2022-02-09T08:45:39.858Z"
   },
   {
    "duration": 175,
    "start_time": "2022-02-09T08:45:40.389Z"
   },
   {
    "duration": 208,
    "start_time": "2022-02-09T08:45:40.571Z"
   },
   {
    "duration": 19,
    "start_time": "2022-02-09T08:45:40.783Z"
   },
   {
    "duration": 109,
    "start_time": "2022-02-09T08:45:40.804Z"
   },
   {
    "duration": 20,
    "start_time": "2022-02-09T08:45:40.916Z"
   },
   {
    "duration": 50,
    "start_time": "2022-02-09T08:45:40.943Z"
   },
   {
    "duration": 43,
    "start_time": "2022-02-09T08:45:40.996Z"
   },
   {
    "duration": 55,
    "start_time": "2022-02-09T08:45:41.042Z"
   },
   {
    "duration": 27,
    "start_time": "2022-02-09T08:45:41.100Z"
   },
   {
    "duration": 6,
    "start_time": "2022-02-09T08:45:41.130Z"
   },
   {
    "duration": 53,
    "start_time": "2022-02-09T08:45:41.138Z"
   },
   {
    "duration": 132,
    "start_time": "2022-02-09T08:45:41.193Z"
   },
   {
    "duration": 78,
    "start_time": "2022-02-09T08:45:41.328Z"
   },
   {
    "duration": 40,
    "start_time": "2022-02-09T08:45:41.410Z"
   },
   {
    "duration": 36,
    "start_time": "2022-02-09T08:45:41.453Z"
   },
   {
    "duration": 82,
    "start_time": "2022-02-09T08:45:41.492Z"
   },
   {
    "duration": 23,
    "start_time": "2022-02-09T08:45:41.577Z"
   },
   {
    "duration": 27,
    "start_time": "2022-02-09T08:45:41.602Z"
   },
   {
    "duration": 68,
    "start_time": "2022-02-09T08:45:41.631Z"
   },
   {
    "duration": 45,
    "start_time": "2022-02-09T08:45:41.702Z"
   },
   {
    "duration": 57,
    "start_time": "2022-02-09T08:45:41.774Z"
   },
   {
    "duration": 68,
    "start_time": "2022-02-09T08:45:41.834Z"
   },
   {
    "duration": 12,
    "start_time": "2022-02-09T08:45:41.906Z"
   },
   {
    "duration": 14,
    "start_time": "2022-02-09T08:45:41.921Z"
   },
   {
    "duration": 67,
    "start_time": "2022-02-09T08:45:41.937Z"
   },
   {
    "duration": 6,
    "start_time": "2022-02-09T08:45:42.007Z"
   },
   {
    "duration": 62,
    "start_time": "2022-02-09T08:45:42.016Z"
   },
   {
    "duration": 737,
    "start_time": "2022-02-09T08:45:42.081Z"
   },
   {
    "duration": 240,
    "start_time": "2022-02-09T08:45:42.820Z"
   },
   {
    "duration": 600,
    "start_time": "2022-02-09T08:45:43.069Z"
   },
   {
    "duration": 229,
    "start_time": "2022-02-09T08:45:43.671Z"
   },
   {
    "duration": 628,
    "start_time": "2022-02-09T08:45:43.902Z"
   },
   {
    "duration": 236,
    "start_time": "2022-02-09T08:45:44.533Z"
   },
   {
    "duration": 733,
    "start_time": "2022-02-09T08:45:44.771Z"
   },
   {
    "duration": 267,
    "start_time": "2022-02-09T08:45:45.506Z"
   },
   {
    "duration": 628,
    "start_time": "2022-02-09T08:45:45.776Z"
   },
   {
    "duration": 259,
    "start_time": "2022-02-09T08:45:46.407Z"
   },
   {
    "duration": 748,
    "start_time": "2022-02-09T08:45:46.669Z"
   },
   {
    "duration": 330,
    "start_time": "2022-02-09T08:45:47.419Z"
   },
   {
    "duration": 769,
    "start_time": "2022-02-09T08:45:47.752Z"
   },
   {
    "duration": 887,
    "start_time": "2022-02-09T08:45:48.525Z"
   },
   {
    "duration": 500,
    "start_time": "2022-02-09T08:45:49.415Z"
   },
   {
    "duration": 473,
    "start_time": "2022-02-09T11:57:42.085Z"
   },
   {
    "duration": 41,
    "start_time": "2022-02-09T11:58:13.421Z"
   },
   {
    "duration": 530,
    "start_time": "2022-02-09T11:58:30.892Z"
   },
   {
    "duration": 1474,
    "start_time": "2022-02-09T11:58:56.231Z"
   },
   {
    "duration": 537,
    "start_time": "2022-02-09T11:58:57.708Z"
   },
   {
    "duration": 188,
    "start_time": "2022-02-09T11:58:58.249Z"
   },
   {
    "duration": 162,
    "start_time": "2022-02-09T11:58:58.440Z"
   },
   {
    "duration": 20,
    "start_time": "2022-02-09T11:58:58.604Z"
   },
   {
    "duration": 144,
    "start_time": "2022-02-09T11:58:58.626Z"
   },
   {
    "duration": 28,
    "start_time": "2022-02-09T11:58:58.773Z"
   },
   {
    "duration": 25,
    "start_time": "2022-02-09T11:58:58.805Z"
   },
   {
    "duration": 72,
    "start_time": "2022-02-09T11:58:58.834Z"
   },
   {
    "duration": 31,
    "start_time": "2022-02-09T11:58:58.909Z"
   },
   {
    "duration": 48,
    "start_time": "2022-02-09T11:58:58.943Z"
   },
   {
    "duration": 6,
    "start_time": "2022-02-09T11:58:58.994Z"
   },
   {
    "duration": 26,
    "start_time": "2022-02-09T11:58:59.002Z"
   },
   {
    "duration": 155,
    "start_time": "2022-02-09T11:58:59.030Z"
   },
   {
    "duration": 54,
    "start_time": "2022-02-09T11:58:59.188Z"
   },
   {
    "duration": 58,
    "start_time": "2022-02-09T11:58:59.244Z"
   },
   {
    "duration": 17,
    "start_time": "2022-02-09T11:58:59.304Z"
   },
   {
    "duration": 58,
    "start_time": "2022-02-09T11:58:59.323Z"
   },
   {
    "duration": 29,
    "start_time": "2022-02-09T11:58:59.384Z"
   },
   {
    "duration": 55,
    "start_time": "2022-02-09T11:58:59.416Z"
   },
   {
    "duration": 52,
    "start_time": "2022-02-09T11:58:59.473Z"
   },
   {
    "duration": 89,
    "start_time": "2022-02-09T11:58:59.529Z"
   },
   {
    "duration": 84,
    "start_time": "2022-02-09T11:58:59.623Z"
   },
   {
    "duration": 75,
    "start_time": "2022-02-09T11:58:59.711Z"
   },
   {
    "duration": 15,
    "start_time": "2022-02-09T11:58:59.789Z"
   },
   {
    "duration": 7,
    "start_time": "2022-02-09T11:58:59.807Z"
   },
   {
    "duration": 84,
    "start_time": "2022-02-09T11:58:59.817Z"
   },
   {
    "duration": 5,
    "start_time": "2022-02-09T11:58:59.904Z"
   },
   {
    "duration": 72,
    "start_time": "2022-02-09T11:58:59.913Z"
   },
   {
    "duration": 647,
    "start_time": "2022-02-09T11:58:59.987Z"
   },
   {
    "duration": 338,
    "start_time": "2022-02-09T11:59:00.637Z"
   },
   {
    "duration": 1012,
    "start_time": "2022-02-09T11:59:00.978Z"
   },
   {
    "duration": 345,
    "start_time": "2022-02-09T11:59:01.993Z"
   },
   {
    "duration": 621,
    "start_time": "2022-02-09T11:59:02.342Z"
   },
   {
    "duration": 227,
    "start_time": "2022-02-09T11:59:02.969Z"
   },
   {
    "duration": 739,
    "start_time": "2022-02-09T11:59:03.199Z"
   },
   {
    "duration": 263,
    "start_time": "2022-02-09T11:59:03.940Z"
   },
   {
    "duration": 633,
    "start_time": "2022-02-09T11:59:04.206Z"
   },
   {
    "duration": 246,
    "start_time": "2022-02-09T11:59:04.842Z"
   },
   {
    "duration": 623,
    "start_time": "2022-02-09T11:59:05.091Z"
   },
   {
    "duration": 237,
    "start_time": "2022-02-09T11:59:05.716Z"
   },
   {
    "duration": 494,
    "start_time": "2022-02-09T11:59:05.956Z"
   },
   {
    "duration": 586,
    "start_time": "2022-02-09T11:59:06.453Z"
   },
   {
    "duration": 511,
    "start_time": "2022-02-09T11:59:07.042Z"
   },
   {
    "duration": 482,
    "start_time": "2022-02-09T11:59:07.556Z"
   },
   {
    "duration": 74,
    "start_time": "2022-02-09T11:59:08.042Z"
   },
   {
    "duration": 207,
    "start_time": "2022-02-09T11:59:23.545Z"
   },
   {
    "duration": 237,
    "start_time": "2022-02-09T11:59:34.482Z"
   },
   {
    "duration": 212,
    "start_time": "2022-02-09T11:59:48.946Z"
   },
   {
    "duration": 203,
    "start_time": "2022-02-09T11:59:53.090Z"
   },
   {
    "duration": 201,
    "start_time": "2022-02-09T11:59:57.274Z"
   },
   {
    "duration": 244,
    "start_time": "2022-02-09T12:00:01.306Z"
   },
   {
    "duration": 46,
    "start_time": "2022-02-09T12:00:19.801Z"
   },
   {
    "duration": 359,
    "start_time": "2022-02-09T12:00:25.658Z"
   },
   {
    "duration": 472,
    "start_time": "2022-02-09T12:00:43.138Z"
   },
   {
    "duration": 355,
    "start_time": "2022-02-09T12:00:47.858Z"
   },
   {
    "duration": 614,
    "start_time": "2022-02-09T12:00:56.274Z"
   },
   {
    "duration": 322,
    "start_time": "2022-02-09T12:00:59.732Z"
   },
   {
    "duration": 316,
    "start_time": "2022-02-09T12:01:02.602Z"
   },
   {
    "duration": 336,
    "start_time": "2022-02-09T12:01:04.538Z"
   },
   {
    "duration": 315,
    "start_time": "2022-02-09T12:01:06.850Z"
   },
   {
    "duration": 348,
    "start_time": "2022-02-09T12:01:14.914Z"
   },
   {
    "duration": 340,
    "start_time": "2022-02-09T12:01:21.770Z"
   },
   {
    "duration": 355,
    "start_time": "2022-02-09T12:01:27.185Z"
   },
   {
    "duration": 652,
    "start_time": "2022-02-09T12:01:44.467Z"
   },
   {
    "duration": 443,
    "start_time": "2022-02-09T12:02:02.977Z"
   },
   {
    "duration": 443,
    "start_time": "2022-02-09T12:02:20.329Z"
   },
   {
    "duration": 458,
    "start_time": "2022-02-09T12:02:27.753Z"
   },
   {
    "duration": 673,
    "start_time": "2022-02-09T12:05:30.418Z"
   },
   {
    "duration": 572,
    "start_time": "2022-02-09T12:06:19.914Z"
   },
   {
    "duration": 529,
    "start_time": "2022-02-09T12:07:18.042Z"
   },
   {
    "duration": 8,
    "start_time": "2022-02-09T12:08:43.082Z"
   },
   {
    "duration": 7,
    "start_time": "2022-02-09T12:09:12.777Z"
   },
   {
    "duration": 8,
    "start_time": "2022-02-09T12:11:13.730Z"
   },
   {
    "duration": 7,
    "start_time": "2022-02-09T12:11:26.146Z"
   },
   {
    "duration": 8,
    "start_time": "2022-02-09T12:11:28.297Z"
   },
   {
    "duration": 306,
    "start_time": "2022-02-09T12:11:36.504Z"
   },
   {
    "duration": 9,
    "start_time": "2022-02-09T12:11:53.450Z"
   },
   {
    "duration": 10,
    "start_time": "2022-02-09T12:11:59.490Z"
   },
   {
    "duration": 7,
    "start_time": "2022-02-09T12:12:06.898Z"
   },
   {
    "duration": 4,
    "start_time": "2022-02-09T12:13:12.134Z"
   },
   {
    "duration": 553,
    "start_time": "2022-02-09T12:13:12.140Z"
   },
   {
    "duration": 156,
    "start_time": "2022-02-09T12:13:12.697Z"
   },
   {
    "duration": 149,
    "start_time": "2022-02-09T12:13:12.856Z"
   },
   {
    "duration": 14,
    "start_time": "2022-02-09T12:13:13.007Z"
   },
   {
    "duration": 104,
    "start_time": "2022-02-09T12:13:13.023Z"
   },
   {
    "duration": 17,
    "start_time": "2022-02-09T12:13:13.130Z"
   },
   {
    "duration": 25,
    "start_time": "2022-02-09T12:13:13.171Z"
   },
   {
    "duration": 52,
    "start_time": "2022-02-09T12:13:13.199Z"
   },
   {
    "duration": 44,
    "start_time": "2022-02-09T12:13:13.254Z"
   },
   {
    "duration": 25,
    "start_time": "2022-02-09T12:13:13.301Z"
   },
   {
    "duration": 6,
    "start_time": "2022-02-09T12:13:13.329Z"
   },
   {
    "duration": 56,
    "start_time": "2022-02-09T12:13:13.337Z"
   },
   {
    "duration": 120,
    "start_time": "2022-02-09T12:13:13.396Z"
   },
   {
    "duration": 63,
    "start_time": "2022-02-09T12:13:13.518Z"
   },
   {
    "duration": 28,
    "start_time": "2022-02-09T12:13:13.584Z"
   },
   {
    "duration": 15,
    "start_time": "2022-02-09T12:13:13.614Z"
   },
   {
    "duration": 71,
    "start_time": "2022-02-09T12:13:13.632Z"
   },
   {
    "duration": 31,
    "start_time": "2022-02-09T12:13:13.705Z"
   },
   {
    "duration": 49,
    "start_time": "2022-02-09T12:13:13.739Z"
   },
   {
    "duration": 39,
    "start_time": "2022-02-09T12:13:13.790Z"
   },
   {
    "duration": 75,
    "start_time": "2022-02-09T12:13:13.832Z"
   },
   {
    "duration": 79,
    "start_time": "2022-02-09T12:13:13.912Z"
   },
   {
    "duration": 49,
    "start_time": "2022-02-09T12:13:13.994Z"
   },
   {
    "duration": 15,
    "start_time": "2022-02-09T12:13:14.069Z"
   },
   {
    "duration": 8,
    "start_time": "2022-02-09T12:13:14.087Z"
   },
   {
    "duration": 74,
    "start_time": "2022-02-09T12:13:14.097Z"
   },
   {
    "duration": 7,
    "start_time": "2022-02-09T12:13:14.174Z"
   },
   {
    "duration": 47,
    "start_time": "2022-02-09T12:13:14.184Z"
   },
   {
    "duration": 671,
    "start_time": "2022-02-09T12:13:14.234Z"
   },
   {
    "duration": 236,
    "start_time": "2022-02-09T12:13:14.907Z"
   },
   {
    "duration": 619,
    "start_time": "2022-02-09T12:13:15.145Z"
   },
   {
    "duration": 223,
    "start_time": "2022-02-09T12:13:15.770Z"
   },
   {
    "duration": 844,
    "start_time": "2022-02-09T12:13:15.996Z"
   },
   {
    "duration": 215,
    "start_time": "2022-02-09T12:13:16.843Z"
   },
   {
    "duration": 638,
    "start_time": "2022-02-09T12:13:17.061Z"
   },
   {
    "duration": 241,
    "start_time": "2022-02-09T12:13:17.702Z"
   },
   {
    "duration": 635,
    "start_time": "2022-02-09T12:13:17.945Z"
   },
   {
    "duration": 335,
    "start_time": "2022-02-09T12:13:18.583Z"
   },
   {
    "duration": 960,
    "start_time": "2022-02-09T12:13:18.921Z"
   },
   {
    "duration": 220,
    "start_time": "2022-02-09T12:13:19.884Z"
   },
   {
    "duration": 769,
    "start_time": "2022-02-09T12:13:20.106Z"
   },
   {
    "duration": 502,
    "start_time": "2022-02-09T12:13:20.878Z"
   },
   {
    "duration": 497,
    "start_time": "2022-02-09T12:13:21.382Z"
   },
   {
    "duration": 563,
    "start_time": "2022-02-09T12:13:21.881Z"
   },
   {
    "duration": 8,
    "start_time": "2022-02-09T12:13:22.447Z"
   },
   {
    "duration": 6,
    "start_time": "2022-02-09T12:13:42.899Z"
   },
   {
    "duration": 9,
    "start_time": "2022-02-09T12:13:56.089Z"
   },
   {
    "duration": 21,
    "start_time": "2022-02-09T12:14:24.137Z"
   },
   {
    "duration": 28,
    "start_time": "2022-02-09T12:14:39.409Z"
   },
   {
    "duration": 1439,
    "start_time": "2022-02-09T12:14:55.298Z"
   },
   {
    "duration": 523,
    "start_time": "2022-02-09T12:14:56.740Z"
   },
   {
    "duration": 187,
    "start_time": "2022-02-09T12:14:57.266Z"
   },
   {
    "duration": 159,
    "start_time": "2022-02-09T12:14:57.456Z"
   },
   {
    "duration": 18,
    "start_time": "2022-02-09T12:14:57.618Z"
   },
   {
    "duration": 103,
    "start_time": "2022-02-09T12:14:57.638Z"
   },
   {
    "duration": 40,
    "start_time": "2022-02-09T12:14:57.743Z"
   },
   {
    "duration": 30,
    "start_time": "2022-02-09T12:14:57.787Z"
   },
   {
    "duration": 79,
    "start_time": "2022-02-09T12:14:57.820Z"
   },
   {
    "duration": 31,
    "start_time": "2022-02-09T12:14:57.901Z"
   },
   {
    "duration": 45,
    "start_time": "2022-02-09T12:14:57.935Z"
   },
   {
    "duration": 7,
    "start_time": "2022-02-09T12:14:57.983Z"
   },
   {
    "duration": 34,
    "start_time": "2022-02-09T12:14:57.993Z"
   },
   {
    "duration": 186,
    "start_time": "2022-02-09T12:14:58.030Z"
   },
   {
    "duration": 87,
    "start_time": "2022-02-09T12:14:58.219Z"
   },
   {
    "duration": 34,
    "start_time": "2022-02-09T12:14:58.318Z"
   },
   {
    "duration": 20,
    "start_time": "2022-02-09T12:14:58.355Z"
   },
   {
    "duration": 45,
    "start_time": "2022-02-09T12:14:58.378Z"
   },
   {
    "duration": 53,
    "start_time": "2022-02-09T12:14:58.425Z"
   },
   {
    "duration": 27,
    "start_time": "2022-02-09T12:14:58.481Z"
   },
   {
    "duration": 68,
    "start_time": "2022-02-09T12:14:58.511Z"
   },
   {
    "duration": 48,
    "start_time": "2022-02-09T12:14:58.582Z"
   },
   {
    "duration": 86,
    "start_time": "2022-02-09T12:14:58.637Z"
   },
   {
    "duration": 67,
    "start_time": "2022-02-09T12:14:58.727Z"
   },
   {
    "duration": 14,
    "start_time": "2022-02-09T12:14:58.797Z"
   },
   {
    "duration": 7,
    "start_time": "2022-02-09T12:14:58.813Z"
   },
   {
    "duration": 77,
    "start_time": "2022-02-09T12:14:58.823Z"
   },
   {
    "duration": 5,
    "start_time": "2022-02-09T12:14:58.902Z"
   },
   {
    "duration": 64,
    "start_time": "2022-02-09T12:14:58.910Z"
   },
   {
    "duration": 679,
    "start_time": "2022-02-09T12:14:58.976Z"
   },
   {
    "duration": 247,
    "start_time": "2022-02-09T12:14:59.657Z"
   },
   {
    "duration": 627,
    "start_time": "2022-02-09T12:14:59.907Z"
   },
   {
    "duration": 233,
    "start_time": "2022-02-09T12:15:00.537Z"
   },
   {
    "duration": 675,
    "start_time": "2022-02-09T12:15:00.773Z"
   },
   {
    "duration": 224,
    "start_time": "2022-02-09T12:15:01.451Z"
   },
   {
    "duration": 747,
    "start_time": "2022-02-09T12:15:01.678Z"
   },
   {
    "duration": 228,
    "start_time": "2022-02-09T12:15:02.427Z"
   },
   {
    "duration": 650,
    "start_time": "2022-02-09T12:15:02.657Z"
   },
   {
    "duration": 239,
    "start_time": "2022-02-09T12:15:03.310Z"
   },
   {
    "duration": 651,
    "start_time": "2022-02-09T12:15:03.552Z"
   },
   {
    "duration": 230,
    "start_time": "2022-02-09T12:15:04.206Z"
   },
   {
    "duration": 502,
    "start_time": "2022-02-09T12:15:04.438Z"
   },
   {
    "duration": 593,
    "start_time": "2022-02-09T12:15:04.943Z"
   },
   {
    "duration": 493,
    "start_time": "2022-02-09T12:15:05.539Z"
   },
   {
    "duration": 479,
    "start_time": "2022-02-09T12:15:06.034Z"
   },
   {
    "duration": 11,
    "start_time": "2022-02-09T12:15:06.517Z"
   },
   {
    "duration": 30,
    "start_time": "2022-02-09T12:17:56.925Z"
   },
   {
    "duration": 6,
    "start_time": "2022-02-09T12:18:30.628Z"
   },
   {
    "duration": 9,
    "start_time": "2022-02-09T12:28:16.684Z"
   },
   {
    "duration": 7,
    "start_time": "2022-02-09T12:28:27.844Z"
   },
   {
    "duration": 9,
    "start_time": "2022-02-09T12:29:12.605Z"
   },
   {
    "duration": 1596,
    "start_time": "2022-02-09T12:29:30.450Z"
   },
   {
    "duration": 637,
    "start_time": "2022-02-09T12:29:32.050Z"
   },
   {
    "duration": 191,
    "start_time": "2022-02-09T12:29:32.691Z"
   },
   {
    "duration": 160,
    "start_time": "2022-02-09T12:29:32.885Z"
   },
   {
    "duration": 30,
    "start_time": "2022-02-09T12:29:33.047Z"
   },
   {
    "duration": 113,
    "start_time": "2022-02-09T12:29:33.080Z"
   },
   {
    "duration": 18,
    "start_time": "2022-02-09T12:29:33.195Z"
   },
   {
    "duration": 28,
    "start_time": "2022-02-09T12:29:33.217Z"
   },
   {
    "duration": 65,
    "start_time": "2022-02-09T12:29:33.247Z"
   },
   {
    "duration": 55,
    "start_time": "2022-02-09T12:29:33.315Z"
   },
   {
    "duration": 26,
    "start_time": "2022-02-09T12:29:33.372Z"
   },
   {
    "duration": 5,
    "start_time": "2022-02-09T12:29:33.401Z"
   },
   {
    "duration": 26,
    "start_time": "2022-02-09T12:29:33.409Z"
   },
   {
    "duration": 125,
    "start_time": "2022-02-09T12:29:33.470Z"
   },
   {
    "duration": 52,
    "start_time": "2022-02-09T12:29:33.597Z"
   },
   {
    "duration": 45,
    "start_time": "2022-02-09T12:29:33.651Z"
   },
   {
    "duration": 15,
    "start_time": "2022-02-09T12:29:33.698Z"
   },
   {
    "duration": 69,
    "start_time": "2022-02-09T12:29:33.716Z"
   },
   {
    "duration": 25,
    "start_time": "2022-02-09T12:29:33.787Z"
   },
   {
    "duration": 26,
    "start_time": "2022-02-09T12:29:33.814Z"
   },
   {
    "duration": 66,
    "start_time": "2022-02-09T12:29:33.842Z"
   },
   {
    "duration": 68,
    "start_time": "2022-02-09T12:29:33.910Z"
   },
   {
    "duration": 57,
    "start_time": "2022-02-09T12:29:33.983Z"
   },
   {
    "duration": 73,
    "start_time": "2022-02-09T12:29:34.043Z"
   },
   {
    "duration": 14,
    "start_time": "2022-02-09T12:29:34.118Z"
   },
   {
    "duration": 7,
    "start_time": "2022-02-09T12:29:34.134Z"
   },
   {
    "duration": 74,
    "start_time": "2022-02-09T12:29:34.143Z"
   },
   {
    "duration": 6,
    "start_time": "2022-02-09T12:29:34.219Z"
   },
   {
    "duration": 78,
    "start_time": "2022-02-09T12:29:34.227Z"
   },
   {
    "duration": 664,
    "start_time": "2022-02-09T12:29:34.308Z"
   },
   {
    "duration": 258,
    "start_time": "2022-02-09T12:29:34.974Z"
   },
   {
    "duration": 612,
    "start_time": "2022-02-09T12:29:35.235Z"
   },
   {
    "duration": 223,
    "start_time": "2022-02-09T12:29:35.849Z"
   },
   {
    "duration": 938,
    "start_time": "2022-02-09T12:29:36.074Z"
   },
   {
    "duration": 214,
    "start_time": "2022-02-09T12:29:37.015Z"
   },
   {
    "duration": 728,
    "start_time": "2022-02-09T12:29:37.232Z"
   },
   {
    "duration": 232,
    "start_time": "2022-02-09T12:29:37.969Z"
   },
   {
    "duration": 656,
    "start_time": "2022-02-09T12:29:38.204Z"
   },
   {
    "duration": 233,
    "start_time": "2022-02-09T12:29:38.869Z"
   },
   {
    "duration": 734,
    "start_time": "2022-02-09T12:29:39.105Z"
   },
   {
    "duration": 230,
    "start_time": "2022-02-09T12:29:39.842Z"
   },
   {
    "duration": 510,
    "start_time": "2022-02-09T12:29:40.075Z"
   },
   {
    "duration": 582,
    "start_time": "2022-02-09T12:29:40.588Z"
   },
   {
    "duration": 489,
    "start_time": "2022-02-09T12:29:41.173Z"
   },
   {
    "duration": 485,
    "start_time": "2022-02-09T12:29:41.665Z"
   },
   {
    "duration": 19,
    "start_time": "2022-02-09T12:29:42.152Z"
   },
   {
    "duration": 1463,
    "start_time": "2022-02-09T12:38:03.193Z"
   },
   {
    "duration": 565,
    "start_time": "2022-02-09T12:38:04.659Z"
   },
   {
    "duration": 180,
    "start_time": "2022-02-09T12:38:05.228Z"
   },
   {
    "duration": 161,
    "start_time": "2022-02-09T12:38:05.411Z"
   },
   {
    "duration": 16,
    "start_time": "2022-02-09T12:38:05.574Z"
   },
   {
    "duration": 119,
    "start_time": "2022-02-09T12:38:05.593Z"
   },
   {
    "duration": 19,
    "start_time": "2022-02-09T12:38:05.716Z"
   },
   {
    "duration": 49,
    "start_time": "2022-02-09T12:38:05.741Z"
   },
   {
    "duration": 45,
    "start_time": "2022-02-09T12:38:05.793Z"
   },
   {
    "duration": 52,
    "start_time": "2022-02-09T12:38:05.840Z"
   },
   {
    "duration": 26,
    "start_time": "2022-02-09T12:38:05.895Z"
   },
   {
    "duration": 6,
    "start_time": "2022-02-09T12:38:05.924Z"
   },
   {
    "duration": 56,
    "start_time": "2022-02-09T12:38:05.932Z"
   },
   {
    "duration": 137,
    "start_time": "2022-02-09T12:38:05.990Z"
   },
   {
    "duration": 67,
    "start_time": "2022-02-09T12:38:06.129Z"
   },
   {
    "duration": 32,
    "start_time": "2022-02-09T12:38:06.198Z"
   },
   {
    "duration": 15,
    "start_time": "2022-02-09T12:38:06.233Z"
   },
   {
    "duration": 44,
    "start_time": "2022-02-09T12:38:06.269Z"
   },
   {
    "duration": 24,
    "start_time": "2022-02-09T12:38:06.315Z"
   },
   {
    "duration": 62,
    "start_time": "2022-02-09T12:38:06.342Z"
   },
   {
    "duration": 79,
    "start_time": "2022-02-09T12:38:06.408Z"
   },
   {
    "duration": 46,
    "start_time": "2022-02-09T12:38:06.490Z"
   },
   {
    "duration": 80,
    "start_time": "2022-02-09T12:38:06.541Z"
   },
   {
    "duration": 67,
    "start_time": "2022-02-09T12:38:06.624Z"
   },
   {
    "duration": 13,
    "start_time": "2022-02-09T12:38:06.693Z"
   },
   {
    "duration": 6,
    "start_time": "2022-02-09T12:38:06.708Z"
   },
   {
    "duration": 86,
    "start_time": "2022-02-09T12:38:06.717Z"
   },
   {
    "duration": 6,
    "start_time": "2022-02-09T12:38:06.806Z"
   },
   {
    "duration": 69,
    "start_time": "2022-02-09T12:38:06.814Z"
   },
   {
    "duration": 757,
    "start_time": "2022-02-09T12:38:06.886Z"
   },
   {
    "duration": 235,
    "start_time": "2022-02-09T12:38:07.646Z"
   },
   {
    "duration": 615,
    "start_time": "2022-02-09T12:38:07.883Z"
   },
   {
    "duration": 221,
    "start_time": "2022-02-09T12:38:08.502Z"
   },
   {
    "duration": 629,
    "start_time": "2022-02-09T12:38:08.725Z"
   },
   {
    "duration": 224,
    "start_time": "2022-02-09T12:38:09.356Z"
   },
   {
    "duration": 772,
    "start_time": "2022-02-09T12:38:09.582Z"
   },
   {
    "duration": 243,
    "start_time": "2022-02-09T12:38:10.357Z"
   },
   {
    "duration": 816,
    "start_time": "2022-02-09T12:38:10.603Z"
   },
   {
    "duration": 252,
    "start_time": "2022-02-09T12:38:11.422Z"
   },
   {
    "duration": 652,
    "start_time": "2022-02-09T12:38:11.676Z"
   },
   {
    "duration": 285,
    "start_time": "2022-02-09T12:38:12.330Z"
   },
   {
    "duration": 489,
    "start_time": "2022-02-09T12:38:12.618Z"
   },
   {
    "duration": 586,
    "start_time": "2022-02-09T12:38:13.109Z"
   },
   {
    "duration": 505,
    "start_time": "2022-02-09T12:38:13.697Z"
   },
   {
    "duration": 484,
    "start_time": "2022-02-09T12:38:14.206Z"
   },
   {
    "duration": 12,
    "start_time": "2022-02-09T12:38:14.693Z"
   },
   {
    "duration": 7,
    "start_time": "2022-02-09T12:41:58.637Z"
   },
   {
    "duration": 7,
    "start_time": "2022-02-09T12:42:03.494Z"
   },
   {
    "duration": 7,
    "start_time": "2022-02-09T12:47:12.709Z"
   },
   {
    "duration": 7,
    "start_time": "2022-02-09T12:47:21.581Z"
   },
   {
    "duration": 8,
    "start_time": "2022-02-09T12:53:33.270Z"
   },
   {
    "duration": 6,
    "start_time": "2022-02-09T12:54:40.637Z"
   },
   {
    "duration": 28,
    "start_time": "2022-02-09T12:54:48.941Z"
   },
   {
    "duration": 7,
    "start_time": "2022-02-09T12:55:07.509Z"
   },
   {
    "duration": 6,
    "start_time": "2022-02-09T13:24:06.115Z"
   },
   {
    "duration": 5,
    "start_time": "2022-02-09T13:38:18.856Z"
   },
   {
    "duration": 7,
    "start_time": "2022-02-09T13:38:36.785Z"
   },
   {
    "duration": 72,
    "start_time": "2022-02-09T13:40:29.521Z"
   },
   {
    "duration": 50,
    "start_time": "2022-02-09T13:40:37.394Z"
   },
   {
    "duration": 512,
    "start_time": "2022-02-09T13:40:43.192Z"
   },
   {
    "duration": 50,
    "start_time": "2022-02-09T13:40:47.744Z"
   },
   {
    "duration": 12,
    "start_time": "2022-02-09T13:40:51.768Z"
   },
   {
    "duration": 11,
    "start_time": "2022-02-09T13:42:26.330Z"
   },
   {
    "duration": 6,
    "start_time": "2022-02-09T13:42:59.033Z"
   },
   {
    "duration": 14,
    "start_time": "2022-02-09T13:47:02.006Z"
   },
   {
    "duration": 8,
    "start_time": "2022-02-09T13:47:03.343Z"
   },
   {
    "duration": 10,
    "start_time": "2022-02-09T13:55:34.743Z"
   },
   {
    "duration": 11,
    "start_time": "2022-02-09T13:55:45.743Z"
   },
   {
    "duration": 1022,
    "start_time": "2022-02-10T07:02:01.919Z"
   },
   {
    "duration": 375,
    "start_time": "2022-02-10T07:02:02.942Z"
   },
   {
    "duration": 103,
    "start_time": "2022-02-10T07:02:03.319Z"
   },
   {
    "duration": 90,
    "start_time": "2022-02-10T07:02:03.423Z"
   },
   {
    "duration": 8,
    "start_time": "2022-02-10T07:02:03.514Z"
   },
   {
    "duration": 64,
    "start_time": "2022-02-10T07:02:03.523Z"
   },
   {
    "duration": 10,
    "start_time": "2022-02-10T07:02:03.588Z"
   },
   {
    "duration": 21,
    "start_time": "2022-02-10T07:02:03.600Z"
   },
   {
    "duration": 37,
    "start_time": "2022-02-10T07:02:03.623Z"
   },
   {
    "duration": 23,
    "start_time": "2022-02-10T07:02:03.662Z"
   },
   {
    "duration": 17,
    "start_time": "2022-02-10T07:02:03.687Z"
   },
   {
    "duration": 4,
    "start_time": "2022-02-10T07:02:03.705Z"
   },
   {
    "duration": 25,
    "start_time": "2022-02-10T07:02:03.710Z"
   },
   {
    "duration": 83,
    "start_time": "2022-02-10T07:02:03.737Z"
   },
   {
    "duration": 32,
    "start_time": "2022-02-10T07:02:03.821Z"
   },
   {
    "duration": 34,
    "start_time": "2022-02-10T07:02:03.855Z"
   },
   {
    "duration": 10,
    "start_time": "2022-02-10T07:02:03.890Z"
   },
   {
    "duration": 45,
    "start_time": "2022-02-10T07:02:03.901Z"
   },
   {
    "duration": 13,
    "start_time": "2022-02-10T07:02:03.948Z"
   },
   {
    "duration": 19,
    "start_time": "2022-02-10T07:02:03.963Z"
   },
   {
    "duration": 28,
    "start_time": "2022-02-10T07:02:03.984Z"
   },
   {
    "duration": 25,
    "start_time": "2022-02-10T07:02:04.014Z"
   },
   {
    "duration": 44,
    "start_time": "2022-02-10T07:02:04.042Z"
   },
   {
    "duration": 26,
    "start_time": "2022-02-10T07:02:04.088Z"
   },
   {
    "duration": 7,
    "start_time": "2022-02-10T07:02:04.115Z"
   },
   {
    "duration": 16,
    "start_time": "2022-02-10T07:02:04.124Z"
   },
   {
    "duration": 35,
    "start_time": "2022-02-10T07:02:04.142Z"
   },
   {
    "duration": 3,
    "start_time": "2022-02-10T07:02:04.179Z"
   },
   {
    "duration": 42,
    "start_time": "2022-02-10T07:02:04.183Z"
   },
   {
    "duration": 334,
    "start_time": "2022-02-10T07:02:04.227Z"
   },
   {
    "duration": 124,
    "start_time": "2022-02-10T07:02:04.563Z"
   },
   {
    "duration": 342,
    "start_time": "2022-02-10T07:02:04.689Z"
   },
   {
    "duration": 124,
    "start_time": "2022-02-10T07:02:05.033Z"
   },
   {
    "duration": 324,
    "start_time": "2022-02-10T07:02:05.159Z"
   },
   {
    "duration": 115,
    "start_time": "2022-02-10T07:02:05.485Z"
   },
   {
    "duration": 400,
    "start_time": "2022-02-10T07:02:05.602Z"
   },
   {
    "duration": 143,
    "start_time": "2022-02-10T07:02:06.004Z"
   },
   {
    "duration": 332,
    "start_time": "2022-02-10T07:02:06.148Z"
   },
   {
    "duration": 126,
    "start_time": "2022-02-10T07:02:06.481Z"
   },
   {
    "duration": 331,
    "start_time": "2022-02-10T07:02:06.608Z"
   },
   {
    "duration": 121,
    "start_time": "2022-02-10T07:02:06.941Z"
   },
   {
    "duration": 258,
    "start_time": "2022-02-10T07:02:07.064Z"
   },
   {
    "duration": 328,
    "start_time": "2022-02-10T07:02:07.324Z"
   },
   {
    "duration": 272,
    "start_time": "2022-02-10T07:02:07.654Z"
   },
   {
    "duration": 246,
    "start_time": "2022-02-10T07:02:07.928Z"
   },
   {
    "duration": 4,
    "start_time": "2022-02-10T07:02:08.176Z"
   },
   {
    "duration": 4,
    "start_time": "2022-02-10T07:02:08.182Z"
   },
   {
    "duration": 8,
    "start_time": "2022-02-10T07:02:08.188Z"
   },
   {
    "duration": 5,
    "start_time": "2022-02-10T07:02:08.197Z"
   },
   {
    "duration": 348,
    "start_time": "2022-02-10T07:14:06.597Z"
   },
   {
    "duration": 1078,
    "start_time": "2022-02-10T20:07:49.115Z"
   },
   {
    "duration": 355,
    "start_time": "2022-02-10T20:07:50.195Z"
   },
   {
    "duration": 119,
    "start_time": "2022-02-10T20:07:50.553Z"
   },
   {
    "duration": 88,
    "start_time": "2022-02-10T20:07:50.674Z"
   },
   {
    "duration": 9,
    "start_time": "2022-02-10T20:07:50.764Z"
   },
   {
    "duration": 74,
    "start_time": "2022-02-10T20:07:50.775Z"
   },
   {
    "duration": 12,
    "start_time": "2022-02-10T20:07:50.851Z"
   },
   {
    "duration": 15,
    "start_time": "2022-02-10T20:07:50.866Z"
   },
   {
    "duration": 49,
    "start_time": "2022-02-10T20:07:50.883Z"
   },
   {
    "duration": 22,
    "start_time": "2022-02-10T20:07:50.934Z"
   },
   {
    "duration": 18,
    "start_time": "2022-02-10T20:07:50.958Z"
   },
   {
    "duration": 4,
    "start_time": "2022-02-10T20:07:50.978Z"
   },
   {
    "duration": 18,
    "start_time": "2022-02-10T20:07:51.012Z"
   },
   {
    "duration": 94,
    "start_time": "2022-02-10T20:07:51.032Z"
   },
   {
    "duration": 35,
    "start_time": "2022-02-10T20:07:51.128Z"
   },
   {
    "duration": 21,
    "start_time": "2022-02-10T20:07:51.165Z"
   },
   {
    "duration": 26,
    "start_time": "2022-02-10T20:07:51.187Z"
   },
   {
    "duration": 32,
    "start_time": "2022-02-10T20:07:51.215Z"
   },
   {
    "duration": 16,
    "start_time": "2022-02-10T20:07:51.249Z"
   },
   {
    "duration": 20,
    "start_time": "2022-02-10T20:07:51.266Z"
   },
   {
    "duration": 44,
    "start_time": "2022-02-10T20:07:51.287Z"
   },
   {
    "duration": 26,
    "start_time": "2022-02-10T20:07:51.333Z"
   },
   {
    "duration": 54,
    "start_time": "2022-02-10T20:07:51.362Z"
   },
   {
    "duration": 28,
    "start_time": "2022-02-10T20:07:51.418Z"
   },
   {
    "duration": 7,
    "start_time": "2022-02-10T20:07:51.448Z"
   },
   {
    "duration": 14,
    "start_time": "2022-02-10T20:07:51.457Z"
   },
   {
    "duration": 44,
    "start_time": "2022-02-10T20:07:51.473Z"
   },
   {
    "duration": 3,
    "start_time": "2022-02-10T20:07:51.519Z"
   },
   {
    "duration": 37,
    "start_time": "2022-02-10T20:07:51.524Z"
   },
   {
    "duration": 427,
    "start_time": "2022-02-10T20:07:51.563Z"
   },
   {
    "duration": 152,
    "start_time": "2022-02-10T20:07:51.991Z"
   },
   {
    "duration": 399,
    "start_time": "2022-02-10T20:07:52.145Z"
   },
   {
    "duration": 148,
    "start_time": "2022-02-10T20:07:52.545Z"
   },
   {
    "duration": 401,
    "start_time": "2022-02-10T20:07:52.695Z"
   },
   {
    "duration": 151,
    "start_time": "2022-02-10T20:07:53.097Z"
   },
   {
    "duration": 460,
    "start_time": "2022-02-10T20:07:53.250Z"
   },
   {
    "duration": 152,
    "start_time": "2022-02-10T20:07:53.712Z"
   },
   {
    "duration": 392,
    "start_time": "2022-02-10T20:07:53.865Z"
   },
   {
    "duration": 144,
    "start_time": "2022-02-10T20:07:54.258Z"
   },
   {
    "duration": 395,
    "start_time": "2022-02-10T20:07:54.404Z"
   },
   {
    "duration": 138,
    "start_time": "2022-02-10T20:07:54.801Z"
   },
   {
    "duration": 317,
    "start_time": "2022-02-10T20:07:54.941Z"
   },
   {
    "duration": 379,
    "start_time": "2022-02-10T20:07:55.260Z"
   },
   {
    "duration": 315,
    "start_time": "2022-02-10T20:07:55.641Z"
   },
   {
    "duration": 310,
    "start_time": "2022-02-10T20:07:55.957Z"
   },
   {
    "duration": 4,
    "start_time": "2022-02-10T20:07:56.268Z"
   },
   {
    "duration": 8,
    "start_time": "2022-02-10T20:07:56.274Z"
   },
   {
    "duration": 8,
    "start_time": "2022-02-10T20:07:56.284Z"
   },
   {
    "duration": 19,
    "start_time": "2022-02-10T20:07:56.294Z"
   },
   {
    "duration": 911,
    "start_time": "2022-02-11T03:41:36.876Z"
   },
   {
    "duration": 353,
    "start_time": "2022-02-11T03:41:37.789Z"
   },
   {
    "duration": 109,
    "start_time": "2022-02-11T03:41:38.144Z"
   },
   {
    "duration": 75,
    "start_time": "2022-02-11T03:41:38.255Z"
   },
   {
    "duration": 8,
    "start_time": "2022-02-11T03:41:38.332Z"
   },
   {
    "duration": 51,
    "start_time": "2022-02-11T03:41:38.341Z"
   },
   {
    "duration": 9,
    "start_time": "2022-02-11T03:41:38.394Z"
   },
   {
    "duration": 13,
    "start_time": "2022-02-11T03:41:38.428Z"
   },
   {
    "duration": 26,
    "start_time": "2022-02-11T03:41:38.443Z"
   },
   {
    "duration": 18,
    "start_time": "2022-02-11T03:41:38.470Z"
   },
   {
    "duration": 40,
    "start_time": "2022-02-11T03:41:38.490Z"
   },
   {
    "duration": 4,
    "start_time": "2022-02-11T03:41:38.531Z"
   },
   {
    "duration": 19,
    "start_time": "2022-02-11T03:41:38.536Z"
   },
   {
    "duration": 80,
    "start_time": "2022-02-11T03:41:38.556Z"
   },
   {
    "duration": 31,
    "start_time": "2022-02-11T03:41:38.637Z"
   },
   {
    "duration": 20,
    "start_time": "2022-02-11T03:41:38.670Z"
   },
   {
    "duration": 8,
    "start_time": "2022-02-11T03:41:38.692Z"
   },
   {
    "duration": 47,
    "start_time": "2022-02-11T03:41:38.702Z"
   },
   {
    "duration": 14,
    "start_time": "2022-02-11T03:41:38.751Z"
   },
   {
    "duration": 15,
    "start_time": "2022-02-11T03:41:38.766Z"
   },
   {
    "duration": 46,
    "start_time": "2022-02-11T03:41:38.782Z"
   },
   {
    "duration": 24,
    "start_time": "2022-02-11T03:41:38.830Z"
   },
   {
    "duration": 30,
    "start_time": "2022-02-11T03:41:38.858Z"
   },
   {
    "duration": 45,
    "start_time": "2022-02-11T03:41:38.891Z"
   },
   {
    "duration": 6,
    "start_time": "2022-02-11T03:41:38.937Z"
   },
   {
    "duration": 3,
    "start_time": "2022-02-11T03:41:38.945Z"
   },
   {
    "duration": 24,
    "start_time": "2022-02-11T03:41:38.949Z"
   },
   {
    "duration": 3,
    "start_time": "2022-02-11T03:41:38.975Z"
   },
   {
    "duration": 48,
    "start_time": "2022-02-11T03:41:38.979Z"
   },
   {
    "duration": 450,
    "start_time": "2022-02-11T03:41:39.028Z"
   },
   {
    "duration": 120,
    "start_time": "2022-02-11T03:41:39.480Z"
   },
   {
    "duration": 298,
    "start_time": "2022-02-11T03:41:39.601Z"
   },
   {
    "duration": 116,
    "start_time": "2022-02-11T03:41:39.901Z"
   },
   {
    "duration": 413,
    "start_time": "2022-02-11T03:41:40.019Z"
   },
   {
    "duration": 120,
    "start_time": "2022-02-11T03:41:40.434Z"
   },
   {
    "duration": 378,
    "start_time": "2022-02-11T03:41:40.555Z"
   },
   {
    "duration": 125,
    "start_time": "2022-02-11T03:41:40.935Z"
   },
   {
    "duration": 311,
    "start_time": "2022-02-11T03:41:41.061Z"
   },
   {
    "duration": 120,
    "start_time": "2022-02-11T03:41:41.373Z"
   },
   {
    "duration": 318,
    "start_time": "2022-02-11T03:41:41.494Z"
   },
   {
    "duration": 115,
    "start_time": "2022-02-11T03:41:41.814Z"
   },
   {
    "duration": 247,
    "start_time": "2022-02-11T03:41:41.930Z"
   },
   {
    "duration": 311,
    "start_time": "2022-02-11T03:41:42.178Z"
   },
   {
    "duration": 252,
    "start_time": "2022-02-11T03:41:42.490Z"
   },
   {
    "duration": 233,
    "start_time": "2022-02-11T03:41:42.743Z"
   },
   {
    "duration": 4,
    "start_time": "2022-02-11T03:41:42.977Z"
   },
   {
    "duration": 6,
    "start_time": "2022-02-11T03:41:42.982Z"
   },
   {
    "duration": 8,
    "start_time": "2022-02-11T03:41:42.989Z"
   },
   {
    "duration": 6,
    "start_time": "2022-02-11T03:41:42.998Z"
   },
   {
    "duration": 6,
    "start_time": "2022-02-11T03:42:36.592Z"
   },
   {
    "duration": 5,
    "start_time": "2022-02-11T03:42:39.777Z"
   },
   {
    "duration": 5,
    "start_time": "2022-02-11T03:43:42.796Z"
   },
   {
    "duration": 6,
    "start_time": "2022-02-11T03:43:49.264Z"
   },
   {
    "duration": 4,
    "start_time": "2022-02-11T03:43:54.903Z"
   },
   {
    "duration": 4,
    "start_time": "2022-02-11T03:53:22.541Z"
   },
   {
    "duration": 8,
    "start_time": "2022-02-11T03:57:57.743Z"
   },
   {
    "duration": 76,
    "start_time": "2022-02-11T04:28:47.539Z"
   },
   {
    "duration": 1120,
    "start_time": "2022-02-12T03:53:59.031Z"
   },
   {
    "duration": 466,
    "start_time": "2022-02-12T03:54:00.153Z"
   },
   {
    "duration": 140,
    "start_time": "2022-02-12T03:54:00.622Z"
   },
   {
    "duration": 106,
    "start_time": "2022-02-12T03:54:00.764Z"
   },
   {
    "duration": 11,
    "start_time": "2022-02-12T03:54:00.871Z"
   },
   {
    "duration": 69,
    "start_time": "2022-02-12T03:54:00.899Z"
   },
   {
    "duration": 35,
    "start_time": "2022-02-12T03:54:00.970Z"
   },
   {
    "duration": 22,
    "start_time": "2022-02-12T03:54:01.007Z"
   },
   {
    "duration": 31,
    "start_time": "2022-02-12T03:54:01.032Z"
   },
   {
    "duration": 49,
    "start_time": "2022-02-12T03:54:01.066Z"
   },
   {
    "duration": 20,
    "start_time": "2022-02-12T03:54:01.117Z"
   },
   {
    "duration": 4,
    "start_time": "2022-02-12T03:54:01.139Z"
   },
   {
    "duration": 35,
    "start_time": "2022-02-12T03:54:01.145Z"
   },
   {
    "duration": 101,
    "start_time": "2022-02-12T03:54:01.199Z"
   },
   {
    "duration": 39,
    "start_time": "2022-02-12T03:54:01.302Z"
   },
   {
    "duration": 24,
    "start_time": "2022-02-12T03:54:01.343Z"
   },
   {
    "duration": 35,
    "start_time": "2022-02-12T03:54:01.369Z"
   },
   {
    "duration": 48,
    "start_time": "2022-02-12T03:54:01.406Z"
   },
   {
    "duration": 18,
    "start_time": "2022-02-12T03:54:01.455Z"
   },
   {
    "duration": 36,
    "start_time": "2022-02-12T03:54:01.475Z"
   },
   {
    "duration": 28,
    "start_time": "2022-02-12T03:54:01.513Z"
   },
   {
    "duration": 58,
    "start_time": "2022-02-12T03:54:01.542Z"
   },
   {
    "duration": 42,
    "start_time": "2022-02-12T03:54:01.602Z"
   },
   {
    "duration": 59,
    "start_time": "2022-02-12T03:54:01.646Z"
   },
   {
    "duration": 10,
    "start_time": "2022-02-12T03:54:01.707Z"
   },
   {
    "duration": 24,
    "start_time": "2022-02-12T03:54:01.719Z"
   },
   {
    "duration": 82,
    "start_time": "2022-02-12T03:54:01.747Z"
   },
   {
    "duration": 5,
    "start_time": "2022-02-12T03:54:01.831Z"
   },
   {
    "duration": 47,
    "start_time": "2022-02-12T03:54:01.838Z"
   },
   {
    "duration": 462,
    "start_time": "2022-02-12T03:54:01.887Z"
   },
   {
    "duration": 170,
    "start_time": "2022-02-12T03:54:02.351Z"
   },
   {
    "duration": 622,
    "start_time": "2022-02-12T03:54:02.523Z"
   },
   {
    "duration": 157,
    "start_time": "2022-02-12T03:54:03.147Z"
   },
   {
    "duration": 433,
    "start_time": "2022-02-12T03:54:03.306Z"
   },
   {
    "duration": 159,
    "start_time": "2022-02-12T03:54:03.741Z"
   },
   {
    "duration": 540,
    "start_time": "2022-02-12T03:54:03.902Z"
   },
   {
    "duration": 174,
    "start_time": "2022-02-12T03:54:04.444Z"
   },
   {
    "duration": 448,
    "start_time": "2022-02-12T03:54:04.620Z"
   },
   {
    "duration": 168,
    "start_time": "2022-02-12T03:54:05.070Z"
   },
   {
    "duration": 446,
    "start_time": "2022-02-12T03:54:05.240Z"
   },
   {
    "duration": 164,
    "start_time": "2022-02-12T03:54:05.688Z"
   },
   {
    "duration": 365,
    "start_time": "2022-02-12T03:54:05.854Z"
   },
   {
    "duration": 449,
    "start_time": "2022-02-12T03:54:06.221Z"
   },
   {
    "duration": 370,
    "start_time": "2022-02-12T03:54:06.672Z"
   },
   {
    "duration": 336,
    "start_time": "2022-02-12T03:54:07.044Z"
   },
   {
    "duration": 5,
    "start_time": "2022-02-12T03:54:07.381Z"
   },
   {
    "duration": 13,
    "start_time": "2022-02-12T03:54:07.388Z"
   },
   {
    "duration": 13,
    "start_time": "2022-02-12T03:54:07.403Z"
   },
   {
    "duration": 10,
    "start_time": "2022-02-12T03:54:07.418Z"
   },
   {
    "duration": 269,
    "start_time": "2022-02-12T11:27:48.512Z"
   },
   {
    "duration": 1140,
    "start_time": "2022-02-12T11:28:01.966Z"
   },
   {
    "duration": 449,
    "start_time": "2022-02-12T11:28:03.108Z"
   },
   {
    "duration": 139,
    "start_time": "2022-02-12T11:28:03.559Z"
   },
   {
    "duration": 107,
    "start_time": "2022-02-12T11:28:03.700Z"
   },
   {
    "duration": 11,
    "start_time": "2022-02-12T11:28:03.809Z"
   },
   {
    "duration": 92,
    "start_time": "2022-02-12T11:28:03.822Z"
   },
   {
    "duration": 12,
    "start_time": "2022-02-12T11:28:03.916Z"
   },
   {
    "duration": 34,
    "start_time": "2022-02-12T11:28:03.932Z"
   },
   {
    "duration": 52,
    "start_time": "2022-02-12T11:28:03.969Z"
   },
   {
    "duration": 23,
    "start_time": "2022-02-12T11:28:04.023Z"
   },
   {
    "duration": 27,
    "start_time": "2022-02-12T11:28:04.047Z"
   },
   {
    "duration": 14,
    "start_time": "2022-02-12T11:28:04.075Z"
   },
   {
    "duration": 53,
    "start_time": "2022-02-12T11:28:04.091Z"
   },
   {
    "duration": 119,
    "start_time": "2022-02-12T11:28:04.147Z"
   },
   {
    "duration": 47,
    "start_time": "2022-02-12T11:28:04.268Z"
   },
   {
    "duration": 25,
    "start_time": "2022-02-12T11:28:04.316Z"
   },
   {
    "duration": 12,
    "start_time": "2022-02-12T11:28:04.343Z"
   },
   {
    "duration": 65,
    "start_time": "2022-02-12T11:28:04.356Z"
   },
   {
    "duration": 18,
    "start_time": "2022-02-12T11:28:04.423Z"
   },
   {
    "duration": 26,
    "start_time": "2022-02-12T11:28:04.443Z"
   },
   {
    "duration": 43,
    "start_time": "2022-02-12T11:28:04.470Z"
   },
   {
    "duration": 30,
    "start_time": "2022-02-12T11:28:04.515Z"
   },
   {
    "duration": 60,
    "start_time": "2022-02-12T11:28:04.549Z"
   },
   {
    "duration": 32,
    "start_time": "2022-02-12T11:28:04.612Z"
   },
   {
    "duration": 20,
    "start_time": "2022-02-12T11:28:04.646Z"
   },
   {
    "duration": 24,
    "start_time": "2022-02-12T11:28:04.668Z"
   },
   {
    "duration": 51,
    "start_time": "2022-02-12T11:28:04.694Z"
   },
   {
    "duration": 5,
    "start_time": "2022-02-12T11:28:04.747Z"
   },
   {
    "duration": 44,
    "start_time": "2022-02-12T11:28:04.753Z"
   },
   {
    "duration": 465,
    "start_time": "2022-02-12T11:28:04.799Z"
   },
   {
    "duration": 182,
    "start_time": "2022-02-12T11:28:05.265Z"
   },
   {
    "duration": 444,
    "start_time": "2022-02-12T11:28:05.449Z"
   },
   {
    "duration": 163,
    "start_time": "2022-02-12T11:28:05.895Z"
   },
   {
    "duration": 460,
    "start_time": "2022-02-12T11:28:06.060Z"
   },
   {
    "duration": 160,
    "start_time": "2022-02-12T11:28:06.523Z"
   },
   {
    "duration": 538,
    "start_time": "2022-02-12T11:28:06.686Z"
   },
   {
    "duration": 172,
    "start_time": "2022-02-12T11:28:07.226Z"
   },
   {
    "duration": 435,
    "start_time": "2022-02-12T11:28:07.400Z"
   },
   {
    "duration": 163,
    "start_time": "2022-02-12T11:28:07.837Z"
   },
   {
    "duration": 454,
    "start_time": "2022-02-12T11:28:08.003Z"
   },
   {
    "duration": 180,
    "start_time": "2022-02-12T11:28:08.459Z"
   },
   {
    "duration": 346,
    "start_time": "2022-02-12T11:28:08.641Z"
   },
   {
    "duration": 427,
    "start_time": "2022-02-12T11:28:08.988Z"
   },
   {
    "duration": 539,
    "start_time": "2022-02-12T11:28:09.416Z"
   },
   {
    "duration": 386,
    "start_time": "2022-02-12T11:28:09.956Z"
   },
   {
    "duration": 5,
    "start_time": "2022-02-12T11:28:10.343Z"
   },
   {
    "duration": 50,
    "start_time": "2022-02-12T11:28:10.350Z"
   },
   {
    "duration": 32,
    "start_time": "2022-02-12T11:28:10.402Z"
   },
   {
    "duration": 32,
    "start_time": "2022-02-12T11:28:10.436Z"
   },
   {
    "duration": 323,
    "start_time": "2022-02-13T07:09:59.736Z"
   },
   {
    "duration": 1001,
    "start_time": "2022-02-13T07:10:04.040Z"
   },
   {
    "duration": 371,
    "start_time": "2022-02-13T07:10:05.043Z"
   },
   {
    "duration": 108,
    "start_time": "2022-02-13T07:10:05.416Z"
   },
   {
    "duration": 67,
    "start_time": "2022-02-13T07:10:05.526Z"
   },
   {
    "duration": 7387,
    "start_time": "2022-02-13T07:10:05.595Z"
   },
   {
    "duration": -47,
    "start_time": "2022-02-13T07:10:13.032Z"
   },
   {
    "duration": -49,
    "start_time": "2022-02-13T07:10:13.035Z"
   },
   {
    "duration": -52,
    "start_time": "2022-02-13T07:10:13.038Z"
   },
   {
    "duration": -54,
    "start_time": "2022-02-13T07:10:13.041Z"
   },
   {
    "duration": -57,
    "start_time": "2022-02-13T07:10:13.045Z"
   },
   {
    "duration": -59,
    "start_time": "2022-02-13T07:10:13.048Z"
   },
   {
    "duration": -61,
    "start_time": "2022-02-13T07:10:13.051Z"
   },
   {
    "duration": -63,
    "start_time": "2022-02-13T07:10:13.054Z"
   },
   {
    "duration": -66,
    "start_time": "2022-02-13T07:10:13.057Z"
   },
   {
    "duration": -73,
    "start_time": "2022-02-13T07:10:13.065Z"
   },
   {
    "duration": -75,
    "start_time": "2022-02-13T07:10:13.068Z"
   },
   {
    "duration": -77,
    "start_time": "2022-02-13T07:10:13.071Z"
   },
   {
    "duration": -80,
    "start_time": "2022-02-13T07:10:13.074Z"
   },
   {
    "duration": -81,
    "start_time": "2022-02-13T07:10:13.076Z"
   },
   {
    "duration": -83,
    "start_time": "2022-02-13T07:10:13.080Z"
   },
   {
    "duration": -84,
    "start_time": "2022-02-13T07:10:13.082Z"
   },
   {
    "duration": -88,
    "start_time": "2022-02-13T07:10:13.086Z"
   },
   {
    "duration": -89,
    "start_time": "2022-02-13T07:10:13.088Z"
   },
   {
    "duration": -91,
    "start_time": "2022-02-13T07:10:13.091Z"
   },
   {
    "duration": -93,
    "start_time": "2022-02-13T07:10:13.094Z"
   },
   {
    "duration": -96,
    "start_time": "2022-02-13T07:10:13.098Z"
   },
   {
    "duration": -99,
    "start_time": "2022-02-13T07:10:13.102Z"
   },
   {
    "duration": -102,
    "start_time": "2022-02-13T07:10:13.105Z"
   },
   {
    "duration": -104,
    "start_time": "2022-02-13T07:10:13.108Z"
   },
   {
    "duration": -107,
    "start_time": "2022-02-13T07:10:13.112Z"
   },
   {
    "duration": -110,
    "start_time": "2022-02-13T07:10:13.115Z"
   },
   {
    "duration": -112,
    "start_time": "2022-02-13T07:10:13.118Z"
   },
   {
    "duration": -120,
    "start_time": "2022-02-13T07:10:13.127Z"
   },
   {
    "duration": -123,
    "start_time": "2022-02-13T07:10:13.131Z"
   },
   {
    "duration": -125,
    "start_time": "2022-02-13T07:10:13.134Z"
   },
   {
    "duration": -127,
    "start_time": "2022-02-13T07:10:13.137Z"
   },
   {
    "duration": -130,
    "start_time": "2022-02-13T07:10:13.140Z"
   },
   {
    "duration": -132,
    "start_time": "2022-02-13T07:10:13.143Z"
   },
   {
    "duration": -134,
    "start_time": "2022-02-13T07:10:13.146Z"
   },
   {
    "duration": -137,
    "start_time": "2022-02-13T07:10:13.150Z"
   },
   {
    "duration": -138,
    "start_time": "2022-02-13T07:10:13.152Z"
   },
   {
    "duration": -140,
    "start_time": "2022-02-13T07:10:13.155Z"
   },
   {
    "duration": -142,
    "start_time": "2022-02-13T07:10:13.157Z"
   },
   {
    "duration": -144,
    "start_time": "2022-02-13T07:10:13.160Z"
   },
   {
    "duration": -146,
    "start_time": "2022-02-13T07:10:13.163Z"
   },
   {
    "duration": -148,
    "start_time": "2022-02-13T07:10:13.166Z"
   },
   {
    "duration": -149,
    "start_time": "2022-02-13T07:10:13.168Z"
   },
   {
    "duration": -152,
    "start_time": "2022-02-13T07:10:13.171Z"
   },
   {
    "duration": -153,
    "start_time": "2022-02-13T07:10:13.173Z"
   },
   {
    "duration": 3,
    "start_time": "2022-02-13T07:10:42.919Z"
   },
   {
    "duration": 377,
    "start_time": "2022-02-13T07:10:42.924Z"
   },
   {
    "duration": 85,
    "start_time": "2022-02-13T07:10:43.303Z"
   },
   {
    "duration": 49,
    "start_time": "2022-02-13T07:10:43.389Z"
   },
   {
    "duration": 57,
    "start_time": "2022-02-13T07:10:43.439Z"
   },
   {
    "duration": 10,
    "start_time": "2022-02-13T07:10:43.498Z"
   },
   {
    "duration": 14,
    "start_time": "2022-02-13T07:10:43.510Z"
   },
   {
    "duration": 50,
    "start_time": "2022-02-13T07:10:43.526Z"
   },
   {
    "duration": 20,
    "start_time": "2022-02-13T07:10:43.578Z"
   },
   {
    "duration": 17,
    "start_time": "2022-02-13T07:10:43.599Z"
   },
   {
    "duration": 4,
    "start_time": "2022-02-13T07:10:43.617Z"
   },
   {
    "duration": 286,
    "start_time": "2022-02-13T07:10:43.622Z"
   },
   {
    "duration": -48,
    "start_time": "2022-02-13T07:10:43.959Z"
   },
   {
    "duration": -51,
    "start_time": "2022-02-13T07:10:43.963Z"
   },
   {
    "duration": -53,
    "start_time": "2022-02-13T07:10:43.966Z"
   },
   {
    "duration": -56,
    "start_time": "2022-02-13T07:10:43.970Z"
   },
   {
    "duration": -58,
    "start_time": "2022-02-13T07:10:43.973Z"
   },
   {
    "duration": -65,
    "start_time": "2022-02-13T07:10:43.981Z"
   },
   {
    "duration": -67,
    "start_time": "2022-02-13T07:10:43.984Z"
   },
   {
    "duration": -69,
    "start_time": "2022-02-13T07:10:43.987Z"
   },
   {
    "duration": -71,
    "start_time": "2022-02-13T07:10:43.990Z"
   },
   {
    "duration": -73,
    "start_time": "2022-02-13T07:10:43.993Z"
   },
   {
    "duration": -75,
    "start_time": "2022-02-13T07:10:43.996Z"
   },
   {
    "duration": -78,
    "start_time": "2022-02-13T07:10:44.000Z"
   },
   {
    "duration": -80,
    "start_time": "2022-02-13T07:10:44.003Z"
   },
   {
    "duration": -82,
    "start_time": "2022-02-13T07:10:44.006Z"
   },
   {
    "duration": -84,
    "start_time": "2022-02-13T07:10:44.009Z"
   },
   {
    "duration": -87,
    "start_time": "2022-02-13T07:10:44.013Z"
   },
   {
    "duration": -89,
    "start_time": "2022-02-13T07:10:44.016Z"
   },
   {
    "duration": -91,
    "start_time": "2022-02-13T07:10:44.019Z"
   },
   {
    "duration": -93,
    "start_time": "2022-02-13T07:10:44.022Z"
   },
   {
    "duration": -95,
    "start_time": "2022-02-13T07:10:44.025Z"
   },
   {
    "duration": -97,
    "start_time": "2022-02-13T07:10:44.028Z"
   },
   {
    "duration": -98,
    "start_time": "2022-02-13T07:10:44.030Z"
   },
   {
    "duration": -100,
    "start_time": "2022-02-13T07:10:44.033Z"
   },
   {
    "duration": -102,
    "start_time": "2022-02-13T07:10:44.036Z"
   },
   {
    "duration": -104,
    "start_time": "2022-02-13T07:10:44.039Z"
   },
   {
    "duration": -106,
    "start_time": "2022-02-13T07:10:44.042Z"
   },
   {
    "duration": -108,
    "start_time": "2022-02-13T07:10:44.045Z"
   },
   {
    "duration": -110,
    "start_time": "2022-02-13T07:10:44.048Z"
   },
   {
    "duration": -112,
    "start_time": "2022-02-13T07:10:44.051Z"
   },
   {
    "duration": -114,
    "start_time": "2022-02-13T07:10:44.054Z"
   },
   {
    "duration": -116,
    "start_time": "2022-02-13T07:10:44.057Z"
   },
   {
    "duration": -118,
    "start_time": "2022-02-13T07:10:44.060Z"
   },
   {
    "duration": -120,
    "start_time": "2022-02-13T07:10:44.063Z"
   },
   {
    "duration": -127,
    "start_time": "2022-02-13T07:10:44.071Z"
   },
   {
    "duration": -129,
    "start_time": "2022-02-13T07:10:44.074Z"
   },
   {
    "duration": -132,
    "start_time": "2022-02-13T07:10:44.078Z"
   },
   {
    "duration": 3,
    "start_time": "2022-02-13T07:11:19.430Z"
   },
   {
    "duration": 383,
    "start_time": "2022-02-13T07:11:19.436Z"
   },
   {
    "duration": 89,
    "start_time": "2022-02-13T07:11:19.821Z"
   },
   {
    "duration": 50,
    "start_time": "2022-02-13T07:11:19.912Z"
   },
   {
    "duration": 47,
    "start_time": "2022-02-13T07:11:19.972Z"
   },
   {
    "duration": 11,
    "start_time": "2022-02-13T07:11:20.021Z"
   },
   {
    "duration": 44,
    "start_time": "2022-02-13T07:11:20.034Z"
   },
   {
    "duration": 26,
    "start_time": "2022-02-13T07:11:20.080Z"
   },
   {
    "duration": 19,
    "start_time": "2022-02-13T07:11:20.109Z"
   },
   {
    "duration": 17,
    "start_time": "2022-02-13T07:11:20.129Z"
   },
   {
    "duration": 4,
    "start_time": "2022-02-13T07:11:20.171Z"
   },
   {
    "duration": 60,
    "start_time": "2022-02-13T07:11:20.176Z"
   },
   {
    "duration": 43,
    "start_time": "2022-02-13T07:11:20.238Z"
   },
   {
    "duration": 22,
    "start_time": "2022-02-13T07:11:20.283Z"
   },
   {
    "duration": 9,
    "start_time": "2022-02-13T07:11:20.307Z"
   },
   {
    "duration": 23,
    "start_time": "2022-02-13T07:11:20.318Z"
   },
   {
    "duration": 37,
    "start_time": "2022-02-13T07:11:20.343Z"
   },
   {
    "duration": 14,
    "start_time": "2022-02-13T07:11:20.382Z"
   },
   {
    "duration": 21,
    "start_time": "2022-02-13T07:11:20.397Z"
   },
   {
    "duration": 25,
    "start_time": "2022-02-13T07:11:20.419Z"
   },
   {
    "duration": 56,
    "start_time": "2022-02-13T07:11:20.445Z"
   },
   {
    "duration": 26,
    "start_time": "2022-02-13T07:11:20.503Z"
   },
   {
    "duration": 7,
    "start_time": "2022-02-13T07:11:20.530Z"
   },
   {
    "duration": 4,
    "start_time": "2022-02-13T07:11:20.540Z"
   },
   {
    "duration": 47,
    "start_time": "2022-02-13T07:11:20.545Z"
   },
   {
    "duration": 3,
    "start_time": "2022-02-13T07:11:20.593Z"
   },
   {
    "duration": 26,
    "start_time": "2022-02-13T07:11:20.597Z"
   },
   {
    "duration": 350,
    "start_time": "2022-02-13T07:11:20.624Z"
   },
   {
    "duration": 135,
    "start_time": "2022-02-13T07:11:20.975Z"
   },
   {
    "duration": 318,
    "start_time": "2022-02-13T07:11:21.111Z"
   },
   {
    "duration": 114,
    "start_time": "2022-02-13T07:11:21.431Z"
   },
   {
    "duration": 321,
    "start_time": "2022-02-13T07:11:21.547Z"
   },
   {
    "duration": 112,
    "start_time": "2022-02-13T07:11:21.870Z"
   },
   {
    "duration": 389,
    "start_time": "2022-02-13T07:11:21.984Z"
   },
   {
    "duration": 127,
    "start_time": "2022-02-13T07:11:22.374Z"
   },
   {
    "duration": 388,
    "start_time": "2022-02-13T07:11:22.503Z"
   },
   {
    "duration": 131,
    "start_time": "2022-02-13T07:11:22.893Z"
   },
   {
    "duration": 319,
    "start_time": "2022-02-13T07:11:23.025Z"
   },
   {
    "duration": 115,
    "start_time": "2022-02-13T07:11:23.346Z"
   },
   {
    "duration": 255,
    "start_time": "2022-02-13T07:11:23.463Z"
   },
   {
    "duration": 316,
    "start_time": "2022-02-13T07:11:23.719Z"
   },
   {
    "duration": 254,
    "start_time": "2022-02-13T07:11:24.037Z"
   },
   {
    "duration": 268,
    "start_time": "2022-02-13T07:11:24.292Z"
   },
   {
    "duration": 4,
    "start_time": "2022-02-13T07:11:24.561Z"
   },
   {
    "duration": 3,
    "start_time": "2022-02-13T07:11:24.572Z"
   },
   {
    "duration": 8,
    "start_time": "2022-02-13T07:11:24.576Z"
   },
   {
    "duration": 4,
    "start_time": "2022-02-13T07:11:24.585Z"
   },
   {
    "duration": 77,
    "start_time": "2022-02-13T07:15:10.287Z"
   },
   {
    "duration": 75,
    "start_time": "2022-02-13T07:15:17.712Z"
   },
   {
    "duration": 1058,
    "start_time": "2022-02-13T07:15:36.788Z"
   },
   {
    "duration": 354,
    "start_time": "2022-02-13T07:15:37.848Z"
   },
   {
    "duration": 109,
    "start_time": "2022-02-13T07:15:38.206Z"
   },
   {
    "duration": 62,
    "start_time": "2022-02-13T07:15:38.316Z"
   },
   {
    "duration": 47,
    "start_time": "2022-02-13T07:15:38.380Z"
   },
   {
    "duration": 12,
    "start_time": "2022-02-13T07:15:38.429Z"
   },
   {
    "duration": 37,
    "start_time": "2022-02-13T07:15:38.444Z"
   },
   {
    "duration": 25,
    "start_time": "2022-02-13T07:15:38.484Z"
   },
   {
    "duration": 22,
    "start_time": "2022-02-13T07:15:38.511Z"
   },
   {
    "duration": 43,
    "start_time": "2022-02-13T07:15:38.535Z"
   },
   {
    "duration": 4,
    "start_time": "2022-02-13T07:15:38.580Z"
   },
   {
    "duration": 97,
    "start_time": "2022-02-13T07:15:38.586Z"
   },
   {
    "duration": 33,
    "start_time": "2022-02-13T07:15:38.685Z"
   },
   {
    "duration": 22,
    "start_time": "2022-02-13T07:15:38.720Z"
   },
   {
    "duration": 28,
    "start_time": "2022-02-13T07:15:38.744Z"
   },
   {
    "duration": 26,
    "start_time": "2022-02-13T07:15:38.774Z"
   },
   {
    "duration": 366,
    "start_time": "2022-02-13T07:15:38.802Z"
   },
   {
    "duration": -42,
    "start_time": "2022-02-13T07:15:39.213Z"
   },
   {
    "duration": -44,
    "start_time": "2022-02-13T07:15:39.217Z"
   },
   {
    "duration": -46,
    "start_time": "2022-02-13T07:15:39.220Z"
   },
   {
    "duration": -49,
    "start_time": "2022-02-13T07:15:39.224Z"
   },
   {
    "duration": -51,
    "start_time": "2022-02-13T07:15:39.227Z"
   },
   {
    "duration": -53,
    "start_time": "2022-02-13T07:15:39.231Z"
   },
   {
    "duration": -55,
    "start_time": "2022-02-13T07:15:39.234Z"
   },
   {
    "duration": -58,
    "start_time": "2022-02-13T07:15:39.238Z"
   },
   {
    "duration": -59,
    "start_time": "2022-02-13T07:15:39.241Z"
   },
   {
    "duration": -62,
    "start_time": "2022-02-13T07:15:39.245Z"
   },
   {
    "duration": -63,
    "start_time": "2022-02-13T07:15:39.247Z"
   },
   {
    "duration": -69,
    "start_time": "2022-02-13T07:15:39.255Z"
   },
   {
    "duration": -71,
    "start_time": "2022-02-13T07:15:39.258Z"
   },
   {
    "duration": -73,
    "start_time": "2022-02-13T07:15:39.261Z"
   },
   {
    "duration": -74,
    "start_time": "2022-02-13T07:15:39.263Z"
   },
   {
    "duration": -76,
    "start_time": "2022-02-13T07:15:39.267Z"
   },
   {
    "duration": -78,
    "start_time": "2022-02-13T07:15:39.270Z"
   },
   {
    "duration": -80,
    "start_time": "2022-02-13T07:15:39.273Z"
   },
   {
    "duration": -81,
    "start_time": "2022-02-13T07:15:39.276Z"
   },
   {
    "duration": -83,
    "start_time": "2022-02-13T07:15:39.279Z"
   },
   {
    "duration": -85,
    "start_time": "2022-02-13T07:15:39.282Z"
   },
   {
    "duration": -86,
    "start_time": "2022-02-13T07:15:39.285Z"
   },
   {
    "duration": -88,
    "start_time": "2022-02-13T07:15:39.288Z"
   },
   {
    "duration": -90,
    "start_time": "2022-02-13T07:15:39.291Z"
   },
   {
    "duration": -92,
    "start_time": "2022-02-13T07:15:39.294Z"
   },
   {
    "duration": -93,
    "start_time": "2022-02-13T07:15:39.297Z"
   },
   {
    "duration": -95,
    "start_time": "2022-02-13T07:15:39.300Z"
   },
   {
    "duration": -97,
    "start_time": "2022-02-13T07:15:39.304Z"
   },
   {
    "duration": -99,
    "start_time": "2022-02-13T07:15:39.307Z"
   },
   {
    "duration": -107,
    "start_time": "2022-02-13T07:15:39.316Z"
   },
   {
    "duration": 63,
    "start_time": "2022-02-13T07:16:48.450Z"
   },
   {
    "duration": 961,
    "start_time": "2022-02-13T07:16:58.299Z"
   },
   {
    "duration": 353,
    "start_time": "2022-02-13T07:16:59.262Z"
   },
   {
    "duration": 102,
    "start_time": "2022-02-13T07:16:59.617Z"
   },
   {
    "duration": 60,
    "start_time": "2022-02-13T07:16:59.721Z"
   },
   {
    "duration": 50,
    "start_time": "2022-02-13T07:16:59.783Z"
   },
   {
    "duration": 11,
    "start_time": "2022-02-13T07:16:59.834Z"
   },
   {
    "duration": 36,
    "start_time": "2022-02-13T07:16:59.846Z"
   },
   {
    "duration": 25,
    "start_time": "2022-02-13T07:16:59.885Z"
   },
   {
    "duration": 19,
    "start_time": "2022-02-13T07:16:59.912Z"
   },
   {
    "duration": 38,
    "start_time": "2022-02-13T07:16:59.933Z"
   },
   {
    "duration": 4,
    "start_time": "2022-02-13T07:16:59.973Z"
   },
   {
    "duration": 73,
    "start_time": "2022-02-13T07:16:59.979Z"
   },
   {
    "duration": 47,
    "start_time": "2022-02-13T07:17:00.054Z"
   },
   {
    "duration": 23,
    "start_time": "2022-02-13T07:17:00.102Z"
   },
   {
    "duration": 9,
    "start_time": "2022-02-13T07:17:00.127Z"
   },
   {
    "duration": 53,
    "start_time": "2022-02-13T07:17:00.138Z"
   },
   {
    "duration": 13,
    "start_time": "2022-02-13T07:17:00.192Z"
   },
   {
    "duration": 20,
    "start_time": "2022-02-13T07:17:00.207Z"
   },
   {
    "duration": 21,
    "start_time": "2022-02-13T07:17:00.229Z"
   },
   {
    "duration": 40,
    "start_time": "2022-02-13T07:17:00.251Z"
   },
   {
    "duration": 30,
    "start_time": "2022-02-13T07:17:00.293Z"
   },
   {
    "duration": 27,
    "start_time": "2022-02-13T07:17:00.324Z"
   },
   {
    "duration": 23,
    "start_time": "2022-02-13T07:17:00.354Z"
   },
   {
    "duration": 4,
    "start_time": "2022-02-13T07:17:00.378Z"
   },
   {
    "duration": 25,
    "start_time": "2022-02-13T07:17:00.383Z"
   },
   {
    "duration": 3,
    "start_time": "2022-02-13T07:17:00.410Z"
   },
   {
    "duration": 27,
    "start_time": "2022-02-13T07:17:00.414Z"
   },
   {
    "duration": 352,
    "start_time": "2022-02-13T07:17:00.442Z"
   },
   {
    "duration": 129,
    "start_time": "2022-02-13T07:17:00.795Z"
   },
   {
    "duration": 335,
    "start_time": "2022-02-13T07:17:00.926Z"
   },
   {
    "duration": 124,
    "start_time": "2022-02-13T07:17:01.263Z"
   },
   {
    "duration": 331,
    "start_time": "2022-02-13T07:17:01.388Z"
   },
   {
    "duration": 126,
    "start_time": "2022-02-13T07:17:01.720Z"
   },
   {
    "duration": 408,
    "start_time": "2022-02-13T07:17:01.848Z"
   },
   {
    "duration": 125,
    "start_time": "2022-02-13T07:17:02.258Z"
   },
   {
    "duration": 324,
    "start_time": "2022-02-13T07:17:02.384Z"
   },
   {
    "duration": 127,
    "start_time": "2022-02-13T07:17:02.710Z"
   },
   {
    "duration": 335,
    "start_time": "2022-02-13T07:17:02.839Z"
   },
   {
    "duration": 122,
    "start_time": "2022-02-13T07:17:03.176Z"
   },
   {
    "duration": 310,
    "start_time": "2022-02-13T07:17:03.300Z"
   },
   {
    "duration": 467,
    "start_time": "2022-02-13T07:17:03.611Z"
   },
   {
    "duration": 264,
    "start_time": "2022-02-13T07:17:04.080Z"
   },
   {
    "duration": 271,
    "start_time": "2022-02-13T07:17:04.345Z"
   },
   {
    "duration": 4,
    "start_time": "2022-02-13T07:17:04.617Z"
   },
   {
    "duration": 6,
    "start_time": "2022-02-13T07:17:04.623Z"
   },
   {
    "duration": 7,
    "start_time": "2022-02-13T07:17:04.630Z"
   },
   {
    "duration": 5,
    "start_time": "2022-02-13T07:17:04.638Z"
   },
   {
    "duration": 81,
    "start_time": "2022-02-13T07:18:17.038Z"
   },
   {
    "duration": 79,
    "start_time": "2022-02-13T07:18:25.710Z"
   },
   {
    "duration": 36,
    "start_time": "2022-02-13T07:18:37.431Z"
   },
   {
    "duration": 19,
    "start_time": "2022-02-13T07:18:44.822Z"
   },
   {
    "duration": 3,
    "start_time": "2022-02-13T07:18:55.676Z"
   },
   {
    "duration": 362,
    "start_time": "2022-02-13T07:18:55.681Z"
   },
   {
    "duration": 89,
    "start_time": "2022-02-13T07:18:56.044Z"
   },
   {
    "duration": 57,
    "start_time": "2022-02-13T07:18:56.135Z"
   },
   {
    "duration": 43,
    "start_time": "2022-02-13T07:18:56.194Z"
   },
   {
    "duration": 9,
    "start_time": "2022-02-13T07:18:56.239Z"
   },
   {
    "duration": 34,
    "start_time": "2022-02-13T07:18:56.250Z"
   },
   {
    "duration": 24,
    "start_time": "2022-02-13T07:18:56.286Z"
   },
   {
    "duration": 17,
    "start_time": "2022-02-13T07:18:56.312Z"
   },
   {
    "duration": 15,
    "start_time": "2022-02-13T07:18:56.331Z"
   },
   {
    "duration": 24,
    "start_time": "2022-02-13T07:18:56.348Z"
   },
   {
    "duration": 83,
    "start_time": "2022-02-13T07:18:56.373Z"
   },
   {
    "duration": 45,
    "start_time": "2022-02-13T07:18:56.457Z"
   },
   {
    "duration": 17,
    "start_time": "2022-02-13T07:18:56.503Z"
   },
   {
    "duration": 9,
    "start_time": "2022-02-13T07:18:56.521Z"
   },
   {
    "duration": 54,
    "start_time": "2022-02-13T07:18:56.532Z"
   },
   {
    "duration": 15,
    "start_time": "2022-02-13T07:18:56.588Z"
   },
   {
    "duration": 16,
    "start_time": "2022-02-13T07:18:56.605Z"
   },
   {
    "duration": 49,
    "start_time": "2022-02-13T07:18:56.623Z"
   },
   {
    "duration": 26,
    "start_time": "2022-02-13T07:18:56.674Z"
   },
   {
    "duration": 33,
    "start_time": "2022-02-13T07:18:56.701Z"
   },
   {
    "duration": 49,
    "start_time": "2022-02-13T07:18:56.736Z"
   },
   {
    "duration": 7,
    "start_time": "2022-02-13T07:18:56.787Z"
   },
   {
    "duration": 3,
    "start_time": "2022-02-13T07:18:56.795Z"
   },
   {
    "duration": 26,
    "start_time": "2022-02-13T07:18:56.800Z"
   },
   {
    "duration": 4,
    "start_time": "2022-02-13T07:18:56.827Z"
   },
   {
    "duration": 49,
    "start_time": "2022-02-13T07:18:56.832Z"
   },
   {
    "duration": 329,
    "start_time": "2022-02-13T07:18:56.882Z"
   },
   {
    "duration": 119,
    "start_time": "2022-02-13T07:18:57.213Z"
   },
   {
    "duration": 314,
    "start_time": "2022-02-13T07:18:57.333Z"
   },
   {
    "duration": 114,
    "start_time": "2022-02-13T07:18:57.648Z"
   },
   {
    "duration": 375,
    "start_time": "2022-02-13T07:18:57.763Z"
   },
   {
    "duration": 120,
    "start_time": "2022-02-13T07:18:58.140Z"
   },
   {
    "duration": 327,
    "start_time": "2022-02-13T07:18:58.261Z"
   },
   {
    "duration": 127,
    "start_time": "2022-02-13T07:18:58.590Z"
   },
   {
    "duration": 327,
    "start_time": "2022-02-13T07:18:58.719Z"
   },
   {
    "duration": 125,
    "start_time": "2022-02-13T07:18:59.048Z"
   },
   {
    "duration": 324,
    "start_time": "2022-02-13T07:18:59.175Z"
   },
   {
    "duration": 190,
    "start_time": "2022-02-13T07:18:59.501Z"
   },
   {
    "duration": 254,
    "start_time": "2022-02-13T07:18:59.693Z"
   },
   {
    "duration": 260,
    "start_time": "2022-02-13T07:18:59.949Z"
   },
   {
    "duration": 253,
    "start_time": "2022-02-13T07:19:00.211Z"
   },
   {
    "duration": 273,
    "start_time": "2022-02-13T07:19:00.466Z"
   },
   {
    "duration": 3,
    "start_time": "2022-02-13T07:19:00.741Z"
   },
   {
    "duration": 7,
    "start_time": "2022-02-13T07:19:00.746Z"
   },
   {
    "duration": 17,
    "start_time": "2022-02-13T07:19:00.755Z"
   },
   {
    "duration": 6,
    "start_time": "2022-02-13T07:19:00.773Z"
   },
   {
    "duration": 72,
    "start_time": "2022-02-13T07:20:13.910Z"
   },
   {
    "duration": 78,
    "start_time": "2022-02-13T07:20:26.477Z"
   },
   {
    "duration": 5,
    "start_time": "2022-02-13T07:49:45.619Z"
   },
   {
    "duration": 360,
    "start_time": "2022-02-13T07:49:54.875Z"
   },
   {
    "duration": 281,
    "start_time": "2022-02-13T07:49:58.786Z"
   },
   {
    "duration": 5,
    "start_time": "2022-02-13T07:50:05.868Z"
   },
   {
    "duration": 1007,
    "start_time": "2022-02-13T07:57:16.860Z"
   },
   {
    "duration": 377,
    "start_time": "2022-02-13T07:57:17.869Z"
   },
   {
    "duration": 111,
    "start_time": "2022-02-13T07:57:18.248Z"
   },
   {
    "duration": 68,
    "start_time": "2022-02-13T07:57:18.360Z"
   },
   {
    "duration": 70,
    "start_time": "2022-02-13T07:57:18.429Z"
   },
   {
    "duration": 10,
    "start_time": "2022-02-13T07:57:18.501Z"
   },
   {
    "duration": 22,
    "start_time": "2022-02-13T07:57:18.512Z"
   },
   {
    "duration": 35,
    "start_time": "2022-02-13T07:57:18.537Z"
   },
   {
    "duration": 22,
    "start_time": "2022-02-13T07:57:18.574Z"
   },
   {
    "duration": 18,
    "start_time": "2022-02-13T07:57:18.598Z"
   },
   {
    "duration": 4,
    "start_time": "2022-02-13T07:57:18.617Z"
   },
   {
    "duration": 110,
    "start_time": "2022-02-13T07:57:18.622Z"
   },
   {
    "duration": 5,
    "start_time": "2022-02-13T07:57:18.733Z"
   },
   {
    "duration": 50,
    "start_time": "2022-02-13T07:57:18.739Z"
   },
   {
    "duration": 20,
    "start_time": "2022-02-13T07:57:18.791Z"
   },
   {
    "duration": 10,
    "start_time": "2022-02-13T07:57:18.813Z"
   },
   {
    "duration": 48,
    "start_time": "2022-02-13T07:57:18.824Z"
   },
   {
    "duration": 17,
    "start_time": "2022-02-13T07:57:18.873Z"
   },
   {
    "duration": 16,
    "start_time": "2022-02-13T07:57:18.891Z"
   },
   {
    "duration": 22,
    "start_time": "2022-02-13T07:57:18.909Z"
   },
   {
    "duration": 50,
    "start_time": "2022-02-13T07:57:18.933Z"
   },
   {
    "duration": 32,
    "start_time": "2022-02-13T07:57:18.985Z"
   },
   {
    "duration": 28,
    "start_time": "2022-02-13T07:57:19.019Z"
   },
   {
    "duration": 23,
    "start_time": "2022-02-13T07:57:19.049Z"
   },
   {
    "duration": 5,
    "start_time": "2022-02-13T07:57:19.074Z"
   },
   {
    "duration": 30,
    "start_time": "2022-02-13T07:57:19.081Z"
   },
   {
    "duration": 4,
    "start_time": "2022-02-13T07:57:19.112Z"
   },
   {
    "duration": 25,
    "start_time": "2022-02-13T07:57:19.117Z"
   },
   {
    "duration": 365,
    "start_time": "2022-02-13T07:57:19.144Z"
   },
   {
    "duration": 129,
    "start_time": "2022-02-13T07:57:19.510Z"
   },
   {
    "duration": 335,
    "start_time": "2022-02-13T07:57:19.640Z"
   },
   {
    "duration": 119,
    "start_time": "2022-02-13T07:57:19.977Z"
   },
   {
    "duration": 322,
    "start_time": "2022-02-13T07:57:20.097Z"
   },
   {
    "duration": 118,
    "start_time": "2022-02-13T07:57:20.421Z"
   },
   {
    "duration": 406,
    "start_time": "2022-02-13T07:57:20.540Z"
   },
   {
    "duration": 133,
    "start_time": "2022-02-13T07:57:20.947Z"
   },
   {
    "duration": 353,
    "start_time": "2022-02-13T07:57:21.082Z"
   },
   {
    "duration": 127,
    "start_time": "2022-02-13T07:57:21.437Z"
   },
   {
    "duration": 349,
    "start_time": "2022-02-13T07:57:21.565Z"
   },
   {
    "duration": 125,
    "start_time": "2022-02-13T07:57:21.915Z"
   },
   {
    "duration": 311,
    "start_time": "2022-02-13T07:57:22.041Z"
   },
   {
    "duration": 327,
    "start_time": "2022-02-13T07:57:22.354Z"
   },
   {
    "duration": 279,
    "start_time": "2022-02-13T07:57:22.683Z"
   },
   {
    "duration": 277,
    "start_time": "2022-02-13T07:57:22.964Z"
   },
   {
    "duration": 5,
    "start_time": "2022-02-13T07:57:23.243Z"
   },
   {
    "duration": 5,
    "start_time": "2022-02-13T07:57:23.250Z"
   },
   {
    "duration": 19,
    "start_time": "2022-02-13T07:57:23.257Z"
   },
   {
    "duration": 3,
    "start_time": "2022-02-13T07:57:23.278Z"
   },
   {
    "duration": 14,
    "start_time": "2022-02-13T08:04:28.149Z"
   },
   {
    "duration": 1053,
    "start_time": "2022-02-13T08:04:47.254Z"
   },
   {
    "duration": 392,
    "start_time": "2022-02-13T08:04:48.308Z"
   },
   {
    "duration": 109,
    "start_time": "2022-02-13T08:04:48.704Z"
   },
   {
    "duration": 65,
    "start_time": "2022-02-13T08:04:48.815Z"
   },
   {
    "duration": 53,
    "start_time": "2022-02-13T08:04:48.881Z"
   },
   {
    "duration": 11,
    "start_time": "2022-02-13T08:04:48.935Z"
   },
   {
    "duration": 35,
    "start_time": "2022-02-13T08:04:48.948Z"
   },
   {
    "duration": 35,
    "start_time": "2022-02-13T08:04:48.985Z"
   },
   {
    "duration": 22,
    "start_time": "2022-02-13T08:04:49.021Z"
   },
   {
    "duration": 19,
    "start_time": "2022-02-13T08:04:49.044Z"
   },
   {
    "duration": 4,
    "start_time": "2022-02-13T08:04:49.071Z"
   },
   {
    "duration": 24,
    "start_time": "2022-02-13T08:04:49.077Z"
   },
   {
    "duration": 96,
    "start_time": "2022-02-13T08:04:49.102Z"
   },
   {
    "duration": 4,
    "start_time": "2022-02-13T08:04:49.200Z"
   },
   {
    "duration": 50,
    "start_time": "2022-02-13T08:04:49.206Z"
   },
   {
    "duration": 27,
    "start_time": "2022-02-13T08:04:49.258Z"
   },
   {
    "duration": 11,
    "start_time": "2022-02-13T08:04:49.287Z"
   },
   {
    "duration": 36,
    "start_time": "2022-02-13T08:04:49.299Z"
   },
   {
    "duration": 14,
    "start_time": "2022-02-13T08:04:49.337Z"
   },
   {
    "duration": 28,
    "start_time": "2022-02-13T08:04:49.353Z"
   },
   {
    "duration": 22,
    "start_time": "2022-02-13T08:04:49.382Z"
   },
   {
    "duration": 26,
    "start_time": "2022-02-13T08:04:49.407Z"
   },
   {
    "duration": 57,
    "start_time": "2022-02-13T08:04:49.435Z"
   },
   {
    "duration": 30,
    "start_time": "2022-02-13T08:04:49.494Z"
   },
   {
    "duration": 8,
    "start_time": "2022-02-13T08:04:49.526Z"
   },
   {
    "duration": 9,
    "start_time": "2022-02-13T08:04:49.536Z"
   },
   {
    "duration": 49,
    "start_time": "2022-02-13T08:04:49.546Z"
   },
   {
    "duration": 5,
    "start_time": "2022-02-13T08:04:49.596Z"
   },
   {
    "duration": 39,
    "start_time": "2022-02-13T08:04:49.602Z"
   },
   {
    "duration": 344,
    "start_time": "2022-02-13T08:04:49.642Z"
   },
   {
    "duration": 126,
    "start_time": "2022-02-13T08:04:49.988Z"
   },
   {
    "duration": 326,
    "start_time": "2022-02-13T08:04:50.116Z"
   },
   {
    "duration": 116,
    "start_time": "2022-02-13T08:04:50.444Z"
   },
   {
    "duration": 324,
    "start_time": "2022-02-13T08:04:50.561Z"
   },
   {
    "duration": 137,
    "start_time": "2022-02-13T08:04:50.887Z"
   },
   {
    "duration": 398,
    "start_time": "2022-02-13T08:04:51.026Z"
   },
   {
    "duration": 123,
    "start_time": "2022-02-13T08:04:51.425Z"
   },
   {
    "duration": 326,
    "start_time": "2022-02-13T08:04:51.549Z"
   },
   {
    "duration": 124,
    "start_time": "2022-02-13T08:04:51.877Z"
   },
   {
    "duration": 337,
    "start_time": "2022-02-13T08:04:52.002Z"
   },
   {
    "duration": 118,
    "start_time": "2022-02-13T08:04:52.341Z"
   },
   {
    "duration": 261,
    "start_time": "2022-02-13T08:04:52.460Z"
   },
   {
    "duration": 336,
    "start_time": "2022-02-13T08:04:52.722Z"
   },
   {
    "duration": 331,
    "start_time": "2022-02-13T08:04:53.059Z"
   },
   {
    "duration": 421,
    "start_time": "2022-02-13T08:04:53.392Z"
   },
   {
    "duration": 4,
    "start_time": "2022-02-13T08:04:53.814Z"
   },
   {
    "duration": 11,
    "start_time": "2022-02-13T08:04:53.820Z"
   },
   {
    "duration": 8,
    "start_time": "2022-02-13T08:04:53.832Z"
   },
   {
    "duration": 10,
    "start_time": "2022-02-13T08:04:53.841Z"
   },
   {
    "duration": 17,
    "start_time": "2022-02-13T08:06:07.202Z"
   },
   {
    "duration": 13,
    "start_time": "2022-02-13T08:06:18.223Z"
   },
   {
    "duration": 18,
    "start_time": "2022-02-13T08:06:24.234Z"
   },
   {
    "duration": 369,
    "start_time": "2022-02-13T08:07:01.203Z"
   },
   {
    "duration": 17,
    "start_time": "2022-02-13T08:07:06.266Z"
   },
   {
    "duration": 10,
    "start_time": "2022-02-13T08:07:53.395Z"
   },
   {
    "duration": 293,
    "start_time": "2022-02-13T08:08:03.235Z"
   },
   {
    "duration": 308,
    "start_time": "2022-02-13T08:08:15.123Z"
   },
   {
    "duration": 10,
    "start_time": "2022-02-13T08:08:21.627Z"
   },
   {
    "duration": 9,
    "start_time": "2022-02-13T08:08:38.850Z"
   },
   {
    "duration": 395,
    "start_time": "2022-02-13T08:09:10.314Z"
   },
   {
    "duration": 12,
    "start_time": "2022-02-13T08:09:15.298Z"
   },
   {
    "duration": 3,
    "start_time": "2022-02-13T08:09:33.025Z"
   },
   {
    "duration": 372,
    "start_time": "2022-02-13T08:09:33.030Z"
   },
   {
    "duration": 85,
    "start_time": "2022-02-13T08:09:33.404Z"
   },
   {
    "duration": 49,
    "start_time": "2022-02-13T08:09:33.491Z"
   },
   {
    "duration": 65,
    "start_time": "2022-02-13T08:09:33.542Z"
   },
   {
    "duration": 10,
    "start_time": "2022-02-13T08:09:33.608Z"
   },
   {
    "duration": 14,
    "start_time": "2022-02-13T08:09:33.621Z"
   },
   {
    "duration": 50,
    "start_time": "2022-02-13T08:09:33.637Z"
   },
   {
    "duration": 21,
    "start_time": "2022-02-13T08:09:33.689Z"
   },
   {
    "duration": 19,
    "start_time": "2022-02-13T08:09:33.711Z"
   },
   {
    "duration": 4,
    "start_time": "2022-02-13T08:09:33.732Z"
   },
   {
    "duration": 34,
    "start_time": "2022-02-13T08:09:33.738Z"
   },
   {
    "duration": 79,
    "start_time": "2022-02-13T08:09:33.773Z"
   },
   {
    "duration": 4,
    "start_time": "2022-02-13T08:09:33.853Z"
   },
   {
    "duration": 35,
    "start_time": "2022-02-13T08:09:33.872Z"
   },
   {
    "duration": 17,
    "start_time": "2022-02-13T08:09:33.908Z"
   },
   {
    "duration": 9,
    "start_time": "2022-02-13T08:09:33.926Z"
   },
   {
    "duration": 51,
    "start_time": "2022-02-13T08:09:33.936Z"
   },
   {
    "duration": 15,
    "start_time": "2022-02-13T08:09:33.990Z"
   },
   {
    "duration": 14,
    "start_time": "2022-02-13T08:09:34.007Z"
   },
   {
    "duration": 21,
    "start_time": "2022-02-13T08:09:34.023Z"
   },
   {
    "duration": 47,
    "start_time": "2022-02-13T08:09:34.045Z"
   },
   {
    "duration": 30,
    "start_time": "2022-02-13T08:09:34.094Z"
   },
   {
    "duration": 26,
    "start_time": "2022-02-13T08:09:34.125Z"
   },
   {
    "duration": 23,
    "start_time": "2022-02-13T08:09:34.152Z"
   },
   {
    "duration": 3,
    "start_time": "2022-02-13T08:09:34.177Z"
   },
   {
    "duration": 26,
    "start_time": "2022-02-13T08:09:34.181Z"
   },
   {
    "duration": 3,
    "start_time": "2022-02-13T08:09:34.208Z"
   },
   {
    "duration": 24,
    "start_time": "2022-02-13T08:09:34.213Z"
   },
   {
    "duration": 351,
    "start_time": "2022-02-13T08:09:34.239Z"
   },
   {
    "duration": 130,
    "start_time": "2022-02-13T08:09:34.592Z"
   },
   {
    "duration": 336,
    "start_time": "2022-02-13T08:09:34.723Z"
   },
   {
    "duration": 118,
    "start_time": "2022-02-13T08:09:35.061Z"
   },
   {
    "duration": 838,
    "start_time": "2022-02-13T08:09:35.182Z"
   },
   {
    "duration": 117,
    "start_time": "2022-02-13T08:09:36.022Z"
   },
   {
    "duration": 325,
    "start_time": "2022-02-13T08:09:36.141Z"
   },
   {
    "duration": 127,
    "start_time": "2022-02-13T08:09:36.467Z"
   },
   {
    "duration": 334,
    "start_time": "2022-02-13T08:09:36.595Z"
   },
   {
    "duration": 135,
    "start_time": "2022-02-13T08:09:36.930Z"
   },
   {
    "duration": 337,
    "start_time": "2022-02-13T08:09:37.067Z"
   },
   {
    "duration": 194,
    "start_time": "2022-02-13T08:09:37.405Z"
   },
   {
    "duration": 272,
    "start_time": "2022-02-13T08:09:37.600Z"
   },
   {
    "duration": 267,
    "start_time": "2022-02-13T08:09:37.874Z"
   },
   {
    "duration": 264,
    "start_time": "2022-02-13T08:09:38.142Z"
   },
   {
    "duration": 266,
    "start_time": "2022-02-13T08:09:38.407Z"
   },
   {
    "duration": 4,
    "start_time": "2022-02-13T08:09:38.674Z"
   },
   {
    "duration": 5,
    "start_time": "2022-02-13T08:09:38.680Z"
   },
   {
    "duration": 7,
    "start_time": "2022-02-13T08:09:38.686Z"
   },
   {
    "duration": 4,
    "start_time": "2022-02-13T08:09:38.695Z"
   },
   {
    "duration": 304,
    "start_time": "2022-02-13T08:10:11.138Z"
   },
   {
    "duration": 10,
    "start_time": "2022-02-13T08:10:14.834Z"
   },
   {
    "duration": 9,
    "start_time": "2022-02-13T08:10:28.970Z"
   },
   {
    "duration": 268,
    "start_time": "2022-02-13T08:11:50.994Z"
   },
   {
    "duration": 13,
    "start_time": "2022-02-13T08:11:55.498Z"
   },
   {
    "duration": 285,
    "start_time": "2022-02-13T08:12:46.857Z"
   },
   {
    "duration": 7,
    "start_time": "2022-02-13T08:12:53.233Z"
   },
   {
    "duration": 276,
    "start_time": "2022-02-13T08:13:21.916Z"
   },
   {
    "duration": 20,
    "start_time": "2022-02-13T08:13:41.689Z"
   },
   {
    "duration": 5,
    "start_time": "2022-02-13T08:17:56.578Z"
   },
   {
    "duration": 6,
    "start_time": "2022-02-13T08:20:21.105Z"
   },
   {
    "duration": 6,
    "start_time": "2022-02-13T08:23:48.913Z"
   },
   {
    "duration": 89,
    "start_time": "2022-02-13T08:24:10.809Z"
   },
   {
    "duration": 9,
    "start_time": "2022-02-13T08:24:19.201Z"
   },
   {
    "duration": 5,
    "start_time": "2022-02-13T08:24:59.913Z"
   },
   {
    "duration": 7062,
    "start_time": "2022-02-13T08:33:06.719Z"
   },
   {
    "duration": 5,
    "start_time": "2022-02-13T08:33:14.600Z"
   },
   {
    "duration": 3,
    "start_time": "2022-02-13T08:36:51.689Z"
   },
   {
    "duration": 497,
    "start_time": "2022-02-13T08:36:51.694Z"
   },
   {
    "duration": 87,
    "start_time": "2022-02-13T08:36:52.193Z"
   },
   {
    "duration": 52,
    "start_time": "2022-02-13T08:36:52.282Z"
   },
   {
    "duration": 65,
    "start_time": "2022-02-13T08:36:52.336Z"
   },
   {
    "duration": 13,
    "start_time": "2022-02-13T08:36:52.403Z"
   },
   {
    "duration": 15,
    "start_time": "2022-02-13T08:36:52.417Z"
   },
   {
    "duration": 61,
    "start_time": "2022-02-13T08:36:52.434Z"
   },
   {
    "duration": 28,
    "start_time": "2022-02-13T08:36:52.499Z"
   },
   {
    "duration": 24,
    "start_time": "2022-02-13T08:36:52.529Z"
   },
   {
    "duration": 18,
    "start_time": "2022-02-13T08:36:52.555Z"
   },
   {
    "duration": 29,
    "start_time": "2022-02-13T08:36:52.575Z"
   },
   {
    "duration": 13,
    "start_time": "2022-02-13T08:36:52.605Z"
   },
   {
    "duration": 5,
    "start_time": "2022-02-13T08:36:52.620Z"
   },
   {
    "duration": 130,
    "start_time": "2022-02-13T08:36:52.627Z"
   },
   {
    "duration": 5,
    "start_time": "2022-02-13T08:36:52.759Z"
   },
   {
    "duration": 39,
    "start_time": "2022-02-13T08:36:52.781Z"
   },
   {
    "duration": 18,
    "start_time": "2022-02-13T08:36:52.822Z"
   },
   {
    "duration": 10,
    "start_time": "2022-02-13T08:36:52.842Z"
   },
   {
    "duration": 50,
    "start_time": "2022-02-13T08:36:52.854Z"
   },
   {
    "duration": 15,
    "start_time": "2022-02-13T08:36:52.906Z"
   },
   {
    "duration": 16,
    "start_time": "2022-02-13T08:36:52.923Z"
   },
   {
    "duration": 47,
    "start_time": "2022-02-13T08:36:52.940Z"
   },
   {
    "duration": 27,
    "start_time": "2022-02-13T08:36:52.989Z"
   },
   {
    "duration": 33,
    "start_time": "2022-02-13T08:36:53.017Z"
   },
   {
    "duration": 45,
    "start_time": "2022-02-13T08:36:53.052Z"
   },
   {
    "duration": 7,
    "start_time": "2022-02-13T08:36:53.100Z"
   },
   {
    "duration": 3,
    "start_time": "2022-02-13T08:36:53.109Z"
   },
   {
    "duration": 31,
    "start_time": "2022-02-13T08:36:53.114Z"
   },
   {
    "duration": 4,
    "start_time": "2022-02-13T08:36:53.146Z"
   },
   {
    "duration": 27,
    "start_time": "2022-02-13T08:36:53.172Z"
   },
   {
    "duration": 355,
    "start_time": "2022-02-13T08:36:53.200Z"
   },
   {
    "duration": 205,
    "start_time": "2022-02-13T08:36:53.557Z"
   },
   {
    "duration": 334,
    "start_time": "2022-02-13T08:36:53.764Z"
   },
   {
    "duration": 121,
    "start_time": "2022-02-13T08:36:54.099Z"
   },
   {
    "duration": 350,
    "start_time": "2022-02-13T08:36:54.221Z"
   },
   {
    "duration": 119,
    "start_time": "2022-02-13T08:36:54.573Z"
   },
   {
    "duration": 348,
    "start_time": "2022-02-13T08:36:54.693Z"
   },
   {
    "duration": 126,
    "start_time": "2022-02-13T08:36:55.043Z"
   },
   {
    "duration": 421,
    "start_time": "2022-02-13T08:36:55.171Z"
   },
   {
    "duration": 128,
    "start_time": "2022-02-13T08:36:55.594Z"
   },
   {
    "duration": 453,
    "start_time": "2022-02-13T08:36:55.723Z"
   },
   {
    "duration": 218,
    "start_time": "2022-02-13T08:36:56.178Z"
   },
   {
    "duration": 268,
    "start_time": "2022-02-13T08:36:56.398Z"
   },
   {
    "duration": 257,
    "start_time": "2022-02-13T08:36:56.671Z"
   },
   {
    "duration": 375,
    "start_time": "2022-02-13T08:36:56.929Z"
   },
   {
    "duration": 361,
    "start_time": "2022-02-13T08:36:57.305Z"
   },
   {
    "duration": 5,
    "start_time": "2022-02-13T08:36:57.671Z"
   },
   {
    "duration": 11,
    "start_time": "2022-02-13T08:36:57.678Z"
   },
   {
    "duration": 16,
    "start_time": "2022-02-13T08:36:57.691Z"
   },
   {
    "duration": 22,
    "start_time": "2022-02-13T08:36:57.708Z"
   },
   {
    "duration": 18,
    "start_time": "2022-02-13T08:37:37.664Z"
   },
   {
    "duration": 18,
    "start_time": "2022-02-13T08:37:39.695Z"
   },
   {
    "duration": 39,
    "start_time": "2022-02-13T08:37:55.680Z"
   },
   {
    "duration": 28,
    "start_time": "2022-02-13T08:38:06.197Z"
   },
   {
    "duration": 45,
    "start_time": "2022-02-13T08:38:12.831Z"
   },
   {
    "duration": 18,
    "start_time": "2022-02-13T08:39:56.583Z"
   },
   {
    "duration": 9,
    "start_time": "2022-02-13T08:39:57.832Z"
   },
   {
    "duration": -22,
    "start_time": "2022-02-13T08:40:19.548Z"
   },
   {
    "duration": 406,
    "start_time": "2022-02-13T08:40:20.775Z"
   },
   {
    "duration": 2299,
    "start_time": "2022-02-13T08:40:22.735Z"
   },
   {
    "duration": 18,
    "start_time": "2022-02-13T08:40:29.927Z"
   },
   {
    "duration": 26,
    "start_time": "2022-02-13T08:40:58.511Z"
   },
   {
    "duration": 30,
    "start_time": "2022-02-13T08:41:05.446Z"
   },
   {
    "duration": 4,
    "start_time": "2022-02-13T08:43:33.584Z"
   },
   {
    "duration": 9,
    "start_time": "2022-02-13T08:43:39.919Z"
   },
   {
    "duration": 18,
    "start_time": "2022-02-13T08:51:23.943Z"
   },
   {
    "duration": 17,
    "start_time": "2022-02-13T08:51:29.807Z"
   },
   {
    "duration": 18,
    "start_time": "2022-02-13T08:51:30.798Z"
   },
   {
    "duration": 1027,
    "start_time": "2022-02-13T08:51:46.416Z"
   },
   {
    "duration": 395,
    "start_time": "2022-02-13T08:51:47.445Z"
   },
   {
    "duration": 113,
    "start_time": "2022-02-13T08:51:47.843Z"
   },
   {
    "duration": 66,
    "start_time": "2022-02-13T08:51:47.958Z"
   },
   {
    "duration": 62,
    "start_time": "2022-02-13T08:51:48.026Z"
   },
   {
    "duration": 10,
    "start_time": "2022-02-13T08:51:48.090Z"
   },
   {
    "duration": 13,
    "start_time": "2022-02-13T08:51:48.103Z"
   },
   {
    "duration": 26,
    "start_time": "2022-02-13T08:51:48.118Z"
   },
   {
    "duration": 45,
    "start_time": "2022-02-13T08:51:48.145Z"
   },
   {
    "duration": 20,
    "start_time": "2022-02-13T08:51:48.192Z"
   },
   {
    "duration": 4,
    "start_time": "2022-02-13T08:51:48.213Z"
   },
   {
    "duration": 25,
    "start_time": "2022-02-13T08:51:48.219Z"
   },
   {
    "duration": 36,
    "start_time": "2022-02-13T08:51:48.246Z"
   },
   {
    "duration": 5,
    "start_time": "2022-02-13T08:51:48.283Z"
   },
   {
    "duration": 102,
    "start_time": "2022-02-13T08:51:48.289Z"
   },
   {
    "duration": 5,
    "start_time": "2022-02-13T08:51:48.392Z"
   },
   {
    "duration": 39,
    "start_time": "2022-02-13T08:51:48.398Z"
   },
   {
    "duration": 40,
    "start_time": "2022-02-13T08:51:48.439Z"
   },
   {
    "duration": 14,
    "start_time": "2022-02-13T08:51:48.480Z"
   },
   {
    "duration": 28,
    "start_time": "2022-02-13T08:51:48.496Z"
   },
   {
    "duration": 7,
    "start_time": "2022-02-13T08:51:48.525Z"
   },
   {
    "duration": 37,
    "start_time": "2022-02-13T08:51:48.535Z"
   },
   {
    "duration": 16,
    "start_time": "2022-02-13T08:51:48.574Z"
   },
   {
    "duration": 22,
    "start_time": "2022-02-13T08:51:48.591Z"
   },
   {
    "duration": 27,
    "start_time": "2022-02-13T08:51:48.615Z"
   },
   {
    "duration": 56,
    "start_time": "2022-02-13T08:51:48.643Z"
   },
   {
    "duration": 28,
    "start_time": "2022-02-13T08:51:48.701Z"
   },
   {
    "duration": 9,
    "start_time": "2022-02-13T08:51:48.731Z"
   },
   {
    "duration": 4,
    "start_time": "2022-02-13T08:51:48.741Z"
   },
   {
    "duration": 48,
    "start_time": "2022-02-13T08:51:48.747Z"
   },
   {
    "duration": 3,
    "start_time": "2022-02-13T08:51:48.797Z"
   },
   {
    "duration": 25,
    "start_time": "2022-02-13T08:51:48.802Z"
   },
   {
    "duration": 360,
    "start_time": "2022-02-13T08:51:48.829Z"
   },
   {
    "duration": 129,
    "start_time": "2022-02-13T08:51:49.190Z"
   },
   {
    "duration": 317,
    "start_time": "2022-02-13T08:51:49.320Z"
   },
   {
    "duration": 116,
    "start_time": "2022-02-13T08:51:49.639Z"
   },
   {
    "duration": 325,
    "start_time": "2022-02-13T08:51:49.756Z"
   },
   {
    "duration": 117,
    "start_time": "2022-02-13T08:51:50.083Z"
   },
   {
    "duration": 415,
    "start_time": "2022-02-13T08:51:50.201Z"
   },
   {
    "duration": 133,
    "start_time": "2022-02-13T08:51:50.617Z"
   },
   {
    "duration": 339,
    "start_time": "2022-02-13T08:51:50.751Z"
   },
   {
    "duration": 126,
    "start_time": "2022-02-13T08:51:51.092Z"
   },
   {
    "duration": 539,
    "start_time": "2022-02-13T08:51:51.220Z"
   },
   {
    "duration": 123,
    "start_time": "2022-02-13T08:51:51.761Z"
   },
   {
    "duration": 271,
    "start_time": "2022-02-13T08:51:51.886Z"
   },
   {
    "duration": 322,
    "start_time": "2022-02-13T08:51:52.159Z"
   },
   {
    "duration": 268,
    "start_time": "2022-02-13T08:51:52.482Z"
   },
   {
    "duration": 275,
    "start_time": "2022-02-13T08:51:52.752Z"
   },
   {
    "duration": 4,
    "start_time": "2022-02-13T08:51:53.028Z"
   },
   {
    "duration": 5,
    "start_time": "2022-02-13T08:51:53.034Z"
   },
   {
    "duration": 8,
    "start_time": "2022-02-13T08:51:53.040Z"
   },
   {
    "duration": 25,
    "start_time": "2022-02-13T08:51:53.049Z"
   },
   {
    "duration": 330,
    "start_time": "2022-02-13T08:51:59.408Z"
   },
   {
    "duration": 18,
    "start_time": "2022-02-13T08:52:07.041Z"
   },
   {
    "duration": 17,
    "start_time": "2022-02-13T08:52:33.521Z"
   },
   {
    "duration": 16,
    "start_time": "2022-02-13T08:52:48.648Z"
   },
   {
    "duration": 18,
    "start_time": "2022-02-13T08:52:55.697Z"
   },
   {
    "duration": 88,
    "start_time": "2022-02-13T08:54:37.001Z"
   },
   {
    "duration": 17,
    "start_time": "2022-02-13T08:55:14.529Z"
   },
   {
    "duration": 26,
    "start_time": "2022-02-13T08:55:27.041Z"
   },
   {
    "duration": 32,
    "start_time": "2022-02-13T08:55:46.978Z"
   },
   {
    "duration": 5,
    "start_time": "2022-02-13T08:57:33.593Z"
   },
   {
    "duration": 274,
    "start_time": "2022-02-13T08:57:41.161Z"
   },
   {
    "duration": 290,
    "start_time": "2022-02-13T08:57:45.216Z"
   },
   {
    "duration": 319,
    "start_time": "2022-02-13T08:57:53.873Z"
   },
   {
    "duration": 272,
    "start_time": "2022-02-13T08:57:56.921Z"
   },
   {
    "duration": 5,
    "start_time": "2022-02-13T08:58:07.970Z"
   },
   {
    "duration": 10,
    "start_time": "2022-02-13T08:58:20.768Z"
   },
   {
    "duration": 9,
    "start_time": "2022-02-13T08:59:31.048Z"
   },
   {
    "duration": 5,
    "start_time": "2022-02-13T09:00:48.696Z"
   },
   {
    "duration": 93,
    "start_time": "2022-02-13T09:24:19.870Z"
   },
   {
    "duration": 6,
    "start_time": "2022-02-13T09:25:04.391Z"
   },
   {
    "duration": 5,
    "start_time": "2022-02-13T09:27:37.109Z"
   },
   {
    "duration": 6,
    "start_time": "2022-02-13T09:27:39.710Z"
   },
   {
    "duration": 359,
    "start_time": "2022-02-13T09:28:48.542Z"
   },
   {
    "duration": 280,
    "start_time": "2022-02-13T09:28:55.253Z"
   },
   {
    "duration": 337,
    "start_time": "2022-02-13T09:29:09.173Z"
   },
   {
    "duration": 349,
    "start_time": "2022-02-13T09:29:20.389Z"
   },
   {
    "duration": 3,
    "start_time": "2022-02-13T09:29:40.148Z"
   },
   {
    "duration": 411,
    "start_time": "2022-02-13T09:29:40.153Z"
   },
   {
    "duration": 86,
    "start_time": "2022-02-13T09:29:40.566Z"
   },
   {
    "duration": 62,
    "start_time": "2022-02-13T09:29:40.653Z"
   },
   {
    "duration": 64,
    "start_time": "2022-02-13T09:29:40.717Z"
   },
   {
    "duration": 21,
    "start_time": "2022-02-13T09:29:40.783Z"
   },
   {
    "duration": 14,
    "start_time": "2022-02-13T09:29:40.808Z"
   },
   {
    "duration": 47,
    "start_time": "2022-02-13T09:29:40.825Z"
   },
   {
    "duration": 22,
    "start_time": "2022-02-13T09:29:40.874Z"
   },
   {
    "duration": 19,
    "start_time": "2022-02-13T09:29:40.897Z"
   },
   {
    "duration": 5,
    "start_time": "2022-02-13T09:29:40.917Z"
   },
   {
    "duration": 48,
    "start_time": "2022-02-13T09:29:40.924Z"
   },
   {
    "duration": 12,
    "start_time": "2022-02-13T09:29:40.974Z"
   },
   {
    "duration": 5,
    "start_time": "2022-02-13T09:29:40.987Z"
   },
   {
    "duration": 107,
    "start_time": "2022-02-13T09:29:40.994Z"
   },
   {
    "duration": 4,
    "start_time": "2022-02-13T09:29:41.103Z"
   },
   {
    "duration": 36,
    "start_time": "2022-02-13T09:29:41.109Z"
   },
   {
    "duration": 38,
    "start_time": "2022-02-13T09:29:41.147Z"
   },
   {
    "duration": 14,
    "start_time": "2022-02-13T09:29:41.188Z"
   },
   {
    "duration": 27,
    "start_time": "2022-02-13T09:29:41.204Z"
   },
   {
    "duration": 7,
    "start_time": "2022-02-13T09:29:41.232Z"
   },
   {
    "duration": 41,
    "start_time": "2022-02-13T09:29:41.241Z"
   },
   {
    "duration": 16,
    "start_time": "2022-02-13T09:29:41.284Z"
   },
   {
    "duration": 24,
    "start_time": "2022-02-13T09:29:41.301Z"
   },
   {
    "duration": 3,
    "start_time": "2022-02-13T09:29:41.327Z"
   },
   {
    "duration": 56,
    "start_time": "2022-02-13T09:29:41.332Z"
   },
   {
    "duration": 5,
    "start_time": "2022-02-13T09:29:41.389Z"
   },
   {
    "duration": 6,
    "start_time": "2022-02-13T09:29:41.396Z"
   },
   {
    "duration": 36,
    "start_time": "2022-02-13T09:29:41.403Z"
   },
   {
    "duration": 57,
    "start_time": "2022-02-13T09:29:41.441Z"
   },
   {
    "duration": 6,
    "start_time": "2022-02-13T09:29:41.500Z"
   },
   {
    "duration": 4,
    "start_time": "2022-02-13T09:29:41.508Z"
   },
   {
    "duration": 32,
    "start_time": "2022-02-13T09:29:41.513Z"
   },
   {
    "duration": 24,
    "start_time": "2022-02-13T09:29:41.547Z"
   },
   {
    "duration": 27,
    "start_time": "2022-02-13T09:29:41.573Z"
   },
   {
    "duration": 364,
    "start_time": "2022-02-13T09:29:41.602Z"
   },
   {
    "duration": 132,
    "start_time": "2022-02-13T09:29:41.971Z"
   },
   {
    "duration": 339,
    "start_time": "2022-02-13T09:29:42.104Z"
   },
   {
    "duration": 124,
    "start_time": "2022-02-13T09:29:42.444Z"
   },
   {
    "duration": 407,
    "start_time": "2022-02-13T09:29:42.572Z"
   },
   {
    "duration": 127,
    "start_time": "2022-02-13T09:29:42.980Z"
   },
   {
    "duration": 360,
    "start_time": "2022-02-13T09:29:43.109Z"
   },
   {
    "duration": 138,
    "start_time": "2022-02-13T09:29:43.471Z"
   },
   {
    "duration": 501,
    "start_time": "2022-02-13T09:29:43.611Z"
   },
   {
    "duration": 393,
    "start_time": "2022-02-13T09:29:44.114Z"
   },
   {
    "duration": 377,
    "start_time": "2022-02-13T09:29:44.509Z"
   },
   {
    "duration": 228,
    "start_time": "2022-02-13T09:29:44.888Z"
   },
   {
    "duration": 282,
    "start_time": "2022-02-13T09:29:45.117Z"
   },
   {
    "duration": 272,
    "start_time": "2022-02-13T09:29:45.401Z"
   },
   {
    "duration": 279,
    "start_time": "2022-02-13T09:29:45.674Z"
   },
   {
    "duration": 266,
    "start_time": "2022-02-13T09:29:45.954Z"
   },
   {
    "duration": 5,
    "start_time": "2022-02-13T09:29:46.223Z"
   },
   {
    "duration": 6,
    "start_time": "2022-02-13T09:29:46.230Z"
   },
   {
    "duration": 8,
    "start_time": "2022-02-13T09:29:46.238Z"
   },
   {
    "duration": 23,
    "start_time": "2022-02-13T09:29:46.251Z"
   },
   {
    "duration": 90,
    "start_time": "2022-02-13T09:31:16.078Z"
   },
   {
    "duration": 5,
    "start_time": "2022-02-13T09:32:41.910Z"
   },
   {
    "duration": 6,
    "start_time": "2022-02-13T09:33:05.349Z"
   },
   {
    "duration": 19,
    "start_time": "2022-02-13T09:33:16.117Z"
   },
   {
    "duration": 1281,
    "start_time": "2022-02-13T09:36:14.103Z"
   },
   {
    "duration": 369,
    "start_time": "2022-02-13T09:36:15.386Z"
   },
   {
    "duration": 114,
    "start_time": "2022-02-13T09:36:15.757Z"
   },
   {
    "duration": 59,
    "start_time": "2022-02-13T09:36:15.873Z"
   },
   {
    "duration": 75,
    "start_time": "2022-02-13T09:36:15.934Z"
   },
   {
    "duration": 10,
    "start_time": "2022-02-13T09:36:16.011Z"
   },
   {
    "duration": 17,
    "start_time": "2022-02-13T09:36:16.023Z"
   },
   {
    "duration": 48,
    "start_time": "2022-02-13T09:36:16.042Z"
   },
   {
    "duration": 22,
    "start_time": "2022-02-13T09:36:16.092Z"
   },
   {
    "duration": 17,
    "start_time": "2022-02-13T09:36:16.116Z"
   },
   {
    "duration": 4,
    "start_time": "2022-02-13T09:36:16.134Z"
   },
   {
    "duration": 45,
    "start_time": "2022-02-13T09:36:16.139Z"
   },
   {
    "duration": 10,
    "start_time": "2022-02-13T09:36:16.186Z"
   },
   {
    "duration": 5,
    "start_time": "2022-02-13T09:36:16.197Z"
   },
   {
    "duration": 101,
    "start_time": "2022-02-13T09:36:16.203Z"
   },
   {
    "duration": 4,
    "start_time": "2022-02-13T09:36:16.305Z"
   },
   {
    "duration": 48,
    "start_time": "2022-02-13T09:36:16.310Z"
   },
   {
    "duration": 23,
    "start_time": "2022-02-13T09:36:16.360Z"
   },
   {
    "duration": 14,
    "start_time": "2022-02-13T09:36:16.385Z"
   },
   {
    "duration": 30,
    "start_time": "2022-02-13T09:36:16.401Z"
   },
   {
    "duration": 6,
    "start_time": "2022-02-13T09:36:16.433Z"
   },
   {
    "duration": 32,
    "start_time": "2022-02-13T09:36:16.441Z"
   },
   {
    "duration": 23,
    "start_time": "2022-02-13T09:36:16.476Z"
   },
   {
    "duration": 34,
    "start_time": "2022-02-13T09:36:16.501Z"
   },
   {
    "duration": 4,
    "start_time": "2022-02-13T09:36:16.537Z"
   },
   {
    "duration": 42,
    "start_time": "2022-02-13T09:36:16.543Z"
   },
   {
    "duration": 5,
    "start_time": "2022-02-13T09:36:16.586Z"
   },
   {
    "duration": 19,
    "start_time": "2022-02-13T09:36:16.592Z"
   },
   {
    "duration": 32,
    "start_time": "2022-02-13T09:36:16.612Z"
   },
   {
    "duration": 30,
    "start_time": "2022-02-13T09:36:16.645Z"
   },
   {
    "duration": 30,
    "start_time": "2022-02-13T09:36:16.677Z"
   },
   {
    "duration": 7,
    "start_time": "2022-02-13T09:36:16.708Z"
   },
   {
    "duration": 5,
    "start_time": "2022-02-13T09:36:16.717Z"
   },
   {
    "duration": 29,
    "start_time": "2022-02-13T09:36:16.724Z"
   },
   {
    "duration": 3,
    "start_time": "2022-02-13T09:36:16.772Z"
   },
   {
    "duration": 27,
    "start_time": "2022-02-13T09:36:16.776Z"
   },
   {
    "duration": 347,
    "start_time": "2022-02-13T09:36:16.805Z"
   },
   {
    "duration": 129,
    "start_time": "2022-02-13T09:36:17.154Z"
   },
   {
    "duration": 314,
    "start_time": "2022-02-13T09:36:17.285Z"
   },
   {
    "duration": 121,
    "start_time": "2022-02-13T09:36:17.601Z"
   },
   {
    "duration": 327,
    "start_time": "2022-02-13T09:36:17.723Z"
   },
   {
    "duration": 113,
    "start_time": "2022-02-13T09:36:18.052Z"
   },
   {
    "duration": 407,
    "start_time": "2022-02-13T09:36:18.166Z"
   },
   {
    "duration": 120,
    "start_time": "2022-02-13T09:36:18.575Z"
   },
   {
    "duration": 326,
    "start_time": "2022-02-13T09:36:18.696Z"
   },
   {
    "duration": 132,
    "start_time": "2022-02-13T09:36:19.023Z"
   },
   {
    "duration": 344,
    "start_time": "2022-02-13T09:36:19.156Z"
   },
   {
    "duration": 127,
    "start_time": "2022-02-13T09:36:19.502Z"
   },
   {
    "duration": 267,
    "start_time": "2022-02-13T09:36:19.631Z"
   },
   {
    "duration": 335,
    "start_time": "2022-02-13T09:36:19.899Z"
   },
   {
    "duration": 268,
    "start_time": "2022-02-13T09:36:20.236Z"
   },
   {
    "duration": 275,
    "start_time": "2022-02-13T09:36:20.506Z"
   },
   {
    "duration": 5,
    "start_time": "2022-02-13T09:36:20.783Z"
   },
   {
    "duration": 5,
    "start_time": "2022-02-13T09:36:20.790Z"
   },
   {
    "duration": 7,
    "start_time": "2022-02-13T09:36:20.797Z"
   },
   {
    "duration": 4,
    "start_time": "2022-02-13T09:36:20.806Z"
   },
   {
    "duration": 437,
    "start_time": "2022-02-13T09:38:38.390Z"
   },
   {
    "duration": 30,
    "start_time": "2022-02-13T09:38:53.887Z"
   },
   {
    "duration": 31,
    "start_time": "2022-02-13T09:39:21.670Z"
   },
   {
    "duration": 1095,
    "start_time": "2022-02-13T09:39:59.535Z"
   },
   {
    "duration": 407,
    "start_time": "2022-02-13T09:40:00.632Z"
   },
   {
    "duration": 131,
    "start_time": "2022-02-13T09:40:01.041Z"
   },
   {
    "duration": 74,
    "start_time": "2022-02-13T09:40:01.174Z"
   },
   {
    "duration": 87,
    "start_time": "2022-02-13T09:40:01.250Z"
   },
   {
    "duration": 13,
    "start_time": "2022-02-13T09:40:01.338Z"
   },
   {
    "duration": 17,
    "start_time": "2022-02-13T09:40:01.372Z"
   },
   {
    "duration": 30,
    "start_time": "2022-02-13T09:40:01.393Z"
   },
   {
    "duration": 51,
    "start_time": "2022-02-13T09:40:01.426Z"
   },
   {
    "duration": 26,
    "start_time": "2022-02-13T09:40:01.479Z"
   },
   {
    "duration": 4,
    "start_time": "2022-02-13T09:40:01.508Z"
   },
   {
    "duration": 27,
    "start_time": "2022-02-13T09:40:01.514Z"
   },
   {
    "duration": 34,
    "start_time": "2022-02-13T09:40:01.544Z"
   },
   {
    "duration": 6,
    "start_time": "2022-02-13T09:40:01.580Z"
   },
   {
    "duration": 113,
    "start_time": "2022-02-13T09:40:01.588Z"
   },
   {
    "duration": 6,
    "start_time": "2022-02-13T09:40:01.702Z"
   },
   {
    "duration": 52,
    "start_time": "2022-02-13T09:40:01.709Z"
   },
   {
    "duration": 26,
    "start_time": "2022-02-13T09:40:01.763Z"
   },
   {
    "duration": 18,
    "start_time": "2022-02-13T09:40:01.791Z"
   },
   {
    "duration": 34,
    "start_time": "2022-02-13T09:40:01.811Z"
   },
   {
    "duration": 32,
    "start_time": "2022-02-13T09:40:01.847Z"
   },
   {
    "duration": 22,
    "start_time": "2022-02-13T09:40:01.881Z"
   },
   {
    "duration": 18,
    "start_time": "2022-02-13T09:40:01.906Z"
   },
   {
    "duration": 54,
    "start_time": "2022-02-13T09:40:01.926Z"
   },
   {
    "duration": 4,
    "start_time": "2022-02-13T09:40:01.981Z"
   },
   {
    "duration": 47,
    "start_time": "2022-02-13T09:40:01.987Z"
   },
   {
    "duration": 5,
    "start_time": "2022-02-13T09:40:02.036Z"
   },
   {
    "duration": 9,
    "start_time": "2022-02-13T09:40:02.042Z"
   },
   {
    "duration": 23,
    "start_time": "2022-02-13T09:40:02.054Z"
   },
   {
    "duration": 28,
    "start_time": "2022-02-13T09:40:02.079Z"
   },
   {
    "duration": 24,
    "start_time": "2022-02-13T09:40:02.109Z"
   },
   {
    "duration": 58,
    "start_time": "2022-02-13T09:40:02.135Z"
   },
   {
    "duration": 33,
    "start_time": "2022-02-13T09:40:02.195Z"
   },
   {
    "duration": 8,
    "start_time": "2022-02-13T09:40:02.230Z"
   },
   {
    "duration": 4,
    "start_time": "2022-02-13T09:40:02.239Z"
   },
   {
    "duration": 55,
    "start_time": "2022-02-13T09:40:02.244Z"
   },
   {
    "duration": 4,
    "start_time": "2022-02-13T09:40:02.300Z"
   },
   {
    "duration": 26,
    "start_time": "2022-02-13T09:40:02.305Z"
   },
   {
    "duration": 345,
    "start_time": "2022-02-13T09:40:02.333Z"
   },
   {
    "duration": 125,
    "start_time": "2022-02-13T09:40:02.679Z"
   },
   {
    "duration": 332,
    "start_time": "2022-02-13T09:40:02.806Z"
   },
   {
    "duration": 121,
    "start_time": "2022-02-13T09:40:03.139Z"
   },
   {
    "duration": 320,
    "start_time": "2022-02-13T09:40:03.262Z"
   },
   {
    "duration": 120,
    "start_time": "2022-02-13T09:40:03.584Z"
   },
   {
    "duration": 426,
    "start_time": "2022-02-13T09:40:03.706Z"
   },
   {
    "duration": 145,
    "start_time": "2022-02-13T09:40:04.134Z"
   },
   {
    "duration": 333,
    "start_time": "2022-02-13T09:40:04.281Z"
   },
   {
    "duration": 258,
    "start_time": "2022-02-13T09:40:04.616Z"
   },
   {
    "duration": 491,
    "start_time": "2022-02-13T09:40:04.876Z"
   },
   {
    "duration": 117,
    "start_time": "2022-02-13T09:40:05.372Z"
   },
   {
    "duration": 255,
    "start_time": "2022-02-13T09:40:05.490Z"
   },
   {
    "duration": 337,
    "start_time": "2022-02-13T09:40:05.748Z"
   },
   {
    "duration": 265,
    "start_time": "2022-02-13T09:40:06.087Z"
   },
   {
    "duration": 268,
    "start_time": "2022-02-13T09:40:06.354Z"
   },
   {
    "duration": 3,
    "start_time": "2022-02-13T09:40:06.624Z"
   },
   {
    "duration": 6,
    "start_time": "2022-02-13T09:40:06.629Z"
   },
   {
    "duration": 7,
    "start_time": "2022-02-13T09:40:06.636Z"
   },
   {
    "duration": 5,
    "start_time": "2022-02-13T09:40:06.644Z"
   },
   {
    "duration": 3,
    "start_time": "2022-02-13T09:42:58.573Z"
   },
   {
    "duration": 33,
    "start_time": "2022-02-13T09:43:03.229Z"
   },
   {
    "duration": 8,
    "start_time": "2022-02-13T09:43:12.894Z"
   },
   {
    "duration": 6,
    "start_time": "2022-02-13T09:43:35.790Z"
   },
   {
    "duration": 6,
    "start_time": "2022-02-13T09:43:41.182Z"
   },
   {
    "duration": 12,
    "start_time": "2022-02-13T09:43:42.511Z"
   },
   {
    "duration": 6,
    "start_time": "2022-02-13T09:43:48.126Z"
   },
   {
    "duration": 1068,
    "start_time": "2022-02-13T09:43:58.173Z"
   },
   {
    "duration": 431,
    "start_time": "2022-02-13T09:43:59.243Z"
   },
   {
    "duration": 107,
    "start_time": "2022-02-13T09:43:59.676Z"
   },
   {
    "duration": 58,
    "start_time": "2022-02-13T09:43:59.784Z"
   },
   {
    "duration": 68,
    "start_time": "2022-02-13T09:43:59.843Z"
   },
   {
    "duration": 10,
    "start_time": "2022-02-13T09:43:59.912Z"
   },
   {
    "duration": 14,
    "start_time": "2022-02-13T09:43:59.924Z"
   },
   {
    "duration": 58,
    "start_time": "2022-02-13T09:43:59.941Z"
   },
   {
    "duration": 21,
    "start_time": "2022-02-13T09:44:00.001Z"
   },
   {
    "duration": 17,
    "start_time": "2022-02-13T09:44:00.024Z"
   },
   {
    "duration": 4,
    "start_time": "2022-02-13T09:44:00.042Z"
   },
   {
    "duration": 40,
    "start_time": "2022-02-13T09:44:00.048Z"
   },
   {
    "duration": 11,
    "start_time": "2022-02-13T09:44:00.090Z"
   },
   {
    "duration": 6,
    "start_time": "2022-02-13T09:44:00.104Z"
   },
   {
    "duration": 115,
    "start_time": "2022-02-13T09:44:00.111Z"
   },
   {
    "duration": 4,
    "start_time": "2022-02-13T09:44:00.227Z"
   },
   {
    "duration": 55,
    "start_time": "2022-02-13T09:44:00.233Z"
   },
   {
    "duration": 24,
    "start_time": "2022-02-13T09:44:00.290Z"
   },
   {
    "duration": 16,
    "start_time": "2022-02-13T09:44:00.315Z"
   },
   {
    "duration": 46,
    "start_time": "2022-02-13T09:44:00.332Z"
   },
   {
    "duration": 8,
    "start_time": "2022-02-13T09:44:00.380Z"
   },
   {
    "duration": 18,
    "start_time": "2022-02-13T09:44:00.390Z"
   },
   {
    "duration": 17,
    "start_time": "2022-02-13T09:44:00.412Z"
   },
   {
    "duration": 50,
    "start_time": "2022-02-13T09:44:00.431Z"
   },
   {
    "duration": 5,
    "start_time": "2022-02-13T09:44:00.483Z"
   },
   {
    "duration": 40,
    "start_time": "2022-02-13T09:44:00.489Z"
   },
   {
    "duration": 5,
    "start_time": "2022-02-13T09:44:00.531Z"
   },
   {
    "duration": 9,
    "start_time": "2022-02-13T09:44:00.538Z"
   },
   {
    "duration": 40,
    "start_time": "2022-02-13T09:44:00.548Z"
   },
   {
    "duration": 12,
    "start_time": "2022-02-13T09:44:00.590Z"
   },
   {
    "duration": 37,
    "start_time": "2022-02-13T09:44:00.603Z"
   },
   {
    "duration": 10,
    "start_time": "2022-02-13T09:44:00.642Z"
   },
   {
    "duration": 40,
    "start_time": "2022-02-13T09:44:00.654Z"
   },
   {
    "duration": 40,
    "start_time": "2022-02-13T09:44:00.695Z"
   },
   {
    "duration": 7,
    "start_time": "2022-02-13T09:44:00.737Z"
   },
   {
    "duration": 14,
    "start_time": "2022-02-13T09:44:00.746Z"
   },
   {
    "duration": 43,
    "start_time": "2022-02-13T09:44:00.762Z"
   },
   {
    "duration": 3,
    "start_time": "2022-02-13T09:44:00.807Z"
   },
   {
    "duration": 42,
    "start_time": "2022-02-13T09:44:00.812Z"
   },
   {
    "duration": 355,
    "start_time": "2022-02-13T09:44:00.856Z"
   },
   {
    "duration": 141,
    "start_time": "2022-02-13T09:44:01.212Z"
   },
   {
    "duration": 374,
    "start_time": "2022-02-13T09:44:01.355Z"
   },
   {
    "duration": 132,
    "start_time": "2022-02-13T09:44:01.731Z"
   },
   {
    "duration": 353,
    "start_time": "2022-02-13T09:44:01.864Z"
   },
   {
    "duration": 137,
    "start_time": "2022-02-13T09:44:02.219Z"
   },
   {
    "duration": 400,
    "start_time": "2022-02-13T09:44:02.358Z"
   },
   {
    "duration": 157,
    "start_time": "2022-02-13T09:44:02.760Z"
   },
   {
    "duration": 333,
    "start_time": "2022-02-13T09:44:02.918Z"
   },
   {
    "duration": 121,
    "start_time": "2022-02-13T09:44:03.253Z"
   },
   {
    "duration": 798,
    "start_time": "2022-02-13T09:44:03.375Z"
   },
   {
    "duration": 125,
    "start_time": "2022-02-13T09:44:04.175Z"
   },
   {
    "duration": 254,
    "start_time": "2022-02-13T09:44:04.302Z"
   },
   {
    "duration": 356,
    "start_time": "2022-02-13T09:44:04.559Z"
   },
   {
    "duration": 272,
    "start_time": "2022-02-13T09:44:04.917Z"
   },
   {
    "duration": 271,
    "start_time": "2022-02-13T09:44:05.191Z"
   },
   {
    "duration": 9,
    "start_time": "2022-02-13T09:44:05.464Z"
   },
   {
    "duration": 6,
    "start_time": "2022-02-13T09:44:05.475Z"
   },
   {
    "duration": 9,
    "start_time": "2022-02-13T09:44:05.483Z"
   },
   {
    "duration": 6,
    "start_time": "2022-02-13T09:44:05.493Z"
   },
   {
    "duration": 7369,
    "start_time": "2022-02-13T09:53:00.556Z"
   },
   {
    "duration": 7391,
    "start_time": "2022-02-13T09:53:09.228Z"
   },
   {
    "duration": 20,
    "start_time": "2022-02-13T09:53:29.372Z"
   },
   {
    "duration": -34,
    "start_time": "2022-02-13T09:56:36.860Z"
   },
   {
    "duration": 4,
    "start_time": "2022-02-13T09:56:57.213Z"
   },
   {
    "duration": 8,
    "start_time": "2022-02-13T09:57:04.163Z"
   },
   {
    "duration": 4,
    "start_time": "2022-02-13T09:57:09.153Z"
   },
   {
    "duration": 4,
    "start_time": "2022-02-13T09:57:59.611Z"
   },
   {
    "duration": 4,
    "start_time": "2022-02-13T09:58:52.347Z"
   },
   {
    "duration": 3,
    "start_time": "2022-02-13T09:59:19.507Z"
   },
   {
    "duration": 434,
    "start_time": "2022-02-13T09:59:19.512Z"
   },
   {
    "duration": 92,
    "start_time": "2022-02-13T09:59:19.948Z"
   },
   {
    "duration": 63,
    "start_time": "2022-02-13T09:59:20.042Z"
   },
   {
    "duration": 51,
    "start_time": "2022-02-13T09:59:20.106Z"
   },
   {
    "duration": 11,
    "start_time": "2022-02-13T09:59:20.171Z"
   },
   {
    "duration": 15,
    "start_time": "2022-02-13T09:59:20.185Z"
   },
   {
    "duration": 28,
    "start_time": "2022-02-13T09:59:20.202Z"
   },
   {
    "duration": 53,
    "start_time": "2022-02-13T09:59:20.232Z"
   },
   {
    "duration": 17,
    "start_time": "2022-02-13T09:59:20.286Z"
   },
   {
    "duration": 3,
    "start_time": "2022-02-13T09:59:20.305Z"
   },
   {
    "duration": 24,
    "start_time": "2022-02-13T09:59:20.310Z"
   },
   {
    "duration": 11,
    "start_time": "2022-02-13T09:59:20.336Z"
   },
   {
    "duration": 23,
    "start_time": "2022-02-13T09:59:20.349Z"
   },
   {
    "duration": 67,
    "start_time": "2022-02-13T09:59:20.374Z"
   },
   {
    "duration": 4,
    "start_time": "2022-02-13T09:59:20.443Z"
   },
   {
    "duration": 55,
    "start_time": "2022-02-13T09:59:20.449Z"
   },
   {
    "duration": 16,
    "start_time": "2022-02-13T09:59:20.506Z"
   },
   {
    "duration": 13,
    "start_time": "2022-02-13T09:59:20.525Z"
   },
   {
    "duration": 41,
    "start_time": "2022-02-13T09:59:20.540Z"
   },
   {
    "duration": 6,
    "start_time": "2022-02-13T09:59:20.583Z"
   },
   {
    "duration": 17,
    "start_time": "2022-02-13T09:59:20.590Z"
   },
   {
    "duration": 16,
    "start_time": "2022-02-13T09:59:20.609Z"
   },
   {
    "duration": 48,
    "start_time": "2022-02-13T09:59:20.627Z"
   },
   {
    "duration": 5,
    "start_time": "2022-02-13T09:59:20.677Z"
   },
   {
    "duration": 27,
    "start_time": "2022-02-13T09:59:20.683Z"
   },
   {
    "duration": 5,
    "start_time": "2022-02-13T09:59:20.712Z"
   },
   {
    "duration": 6,
    "start_time": "2022-02-13T09:59:20.719Z"
   },
   {
    "duration": 46,
    "start_time": "2022-02-13T09:59:20.726Z"
   },
   {
    "duration": 5,
    "start_time": "2022-02-13T09:59:20.773Z"
   },
   {
    "duration": 25,
    "start_time": "2022-02-13T09:59:20.779Z"
   },
   {
    "duration": 7,
    "start_time": "2022-02-13T09:59:20.806Z"
   },
   {
    "duration": 5,
    "start_time": "2022-02-13T09:59:20.814Z"
   },
   {
    "duration": 58,
    "start_time": "2022-02-13T09:59:20.820Z"
   },
   {
    "duration": 16,
    "start_time": "2022-02-13T09:59:20.880Z"
   },
   {
    "duration": 7,
    "start_time": "2022-02-13T09:59:20.898Z"
   },
   {
    "duration": 4,
    "start_time": "2022-02-13T09:59:20.906Z"
   },
   {
    "duration": 32,
    "start_time": "2022-02-13T09:59:20.911Z"
   },
   {
    "duration": 29,
    "start_time": "2022-02-13T09:59:20.944Z"
   },
   {
    "duration": 27,
    "start_time": "2022-02-13T09:59:20.975Z"
   },
   {
    "duration": 354,
    "start_time": "2022-02-13T09:59:21.004Z"
   },
   {
    "duration": 128,
    "start_time": "2022-02-13T09:59:21.359Z"
   },
   {
    "duration": 326,
    "start_time": "2022-02-13T09:59:21.489Z"
   },
   {
    "duration": 123,
    "start_time": "2022-02-13T09:59:21.817Z"
   },
   {
    "duration": 397,
    "start_time": "2022-02-13T09:59:21.941Z"
   },
   {
    "duration": 115,
    "start_time": "2022-02-13T09:59:22.340Z"
   },
   {
    "duration": 331,
    "start_time": "2022-02-13T09:59:22.456Z"
   },
   {
    "duration": 149,
    "start_time": "2022-02-13T09:59:22.789Z"
   },
   {
    "duration": 362,
    "start_time": "2022-02-13T09:59:22.940Z"
   },
   {
    "duration": 136,
    "start_time": "2022-02-13T09:59:23.304Z"
   },
   {
    "duration": 347,
    "start_time": "2022-02-13T09:59:23.441Z"
   },
   {
    "duration": 227,
    "start_time": "2022-02-13T09:59:23.789Z"
   },
   {
    "duration": 260,
    "start_time": "2022-02-13T09:59:24.018Z"
   },
   {
    "duration": 259,
    "start_time": "2022-02-13T09:59:24.280Z"
   },
   {
    "duration": 269,
    "start_time": "2022-02-13T09:59:24.543Z"
   },
   {
    "duration": 390,
    "start_time": "2022-02-13T09:59:24.813Z"
   },
   {
    "duration": 5,
    "start_time": "2022-02-13T09:59:25.204Z"
   },
   {
    "duration": 7,
    "start_time": "2022-02-13T09:59:25.210Z"
   },
   {
    "duration": 7,
    "start_time": "2022-02-13T09:59:25.219Z"
   },
   {
    "duration": 4,
    "start_time": "2022-02-13T09:59:25.228Z"
   },
   {
    "duration": 456,
    "start_time": "2022-02-13T10:05:27.739Z"
   },
   {
    "duration": 280,
    "start_time": "2022-02-13T10:06:05.419Z"
   },
   {
    "duration": 254,
    "start_time": "2022-02-13T10:06:58.683Z"
   },
   {
    "duration": 333,
    "start_time": "2022-02-13T10:07:30.483Z"
   },
   {
    "duration": 269,
    "start_time": "2022-02-13T10:07:46.570Z"
   },
   {
    "duration": 305,
    "start_time": "2022-02-13T10:07:50.922Z"
   },
   {
    "duration": 279,
    "start_time": "2022-02-13T10:08:47.395Z"
   },
   {
    "duration": 96,
    "start_time": "2022-02-13T10:09:16.554Z"
   },
   {
    "duration": 404,
    "start_time": "2022-02-13T10:09:28.307Z"
   },
   {
    "duration": 259,
    "start_time": "2022-02-13T10:09:38.410Z"
   },
   {
    "duration": 358,
    "start_time": "2022-02-13T10:09:50.602Z"
   },
   {
    "duration": 998,
    "start_time": "2022-02-13T10:10:45.084Z"
   },
   {
    "duration": 382,
    "start_time": "2022-02-13T10:10:46.084Z"
   },
   {
    "duration": 115,
    "start_time": "2022-02-13T10:10:46.468Z"
   },
   {
    "duration": 60,
    "start_time": "2022-02-13T10:10:46.585Z"
   },
   {
    "duration": 68,
    "start_time": "2022-02-13T10:10:46.647Z"
   },
   {
    "duration": 11,
    "start_time": "2022-02-13T10:10:46.717Z"
   },
   {
    "duration": 14,
    "start_time": "2022-02-13T10:10:46.730Z"
   },
   {
    "duration": 29,
    "start_time": "2022-02-13T10:10:46.771Z"
   },
   {
    "duration": 20,
    "start_time": "2022-02-13T10:10:46.802Z"
   },
   {
    "duration": 17,
    "start_time": "2022-02-13T10:10:46.824Z"
   },
   {
    "duration": 4,
    "start_time": "2022-02-13T10:10:46.843Z"
   },
   {
    "duration": 46,
    "start_time": "2022-02-13T10:10:46.848Z"
   },
   {
    "duration": 10,
    "start_time": "2022-02-13T10:10:46.896Z"
   },
   {
    "duration": 5,
    "start_time": "2022-02-13T10:10:46.907Z"
   },
   {
    "duration": 115,
    "start_time": "2022-02-13T10:10:46.913Z"
   },
   {
    "duration": 5,
    "start_time": "2022-02-13T10:10:47.029Z"
   },
   {
    "duration": 51,
    "start_time": "2022-02-13T10:10:47.036Z"
   },
   {
    "duration": 22,
    "start_time": "2022-02-13T10:10:47.089Z"
   },
   {
    "duration": 16,
    "start_time": "2022-02-13T10:10:47.112Z"
   },
   {
    "duration": 50,
    "start_time": "2022-02-13T10:10:47.130Z"
   },
   {
    "duration": 7,
    "start_time": "2022-02-13T10:10:47.182Z"
   },
   {
    "duration": 17,
    "start_time": "2022-02-13T10:10:47.190Z"
   },
   {
    "duration": 17,
    "start_time": "2022-02-13T10:10:47.210Z"
   },
   {
    "duration": 50,
    "start_time": "2022-02-13T10:10:47.230Z"
   },
   {
    "duration": 4,
    "start_time": "2022-02-13T10:10:47.281Z"
   },
   {
    "duration": 27,
    "start_time": "2022-02-13T10:10:47.287Z"
   },
   {
    "duration": 4,
    "start_time": "2022-02-13T10:10:47.316Z"
   },
   {
    "duration": 6,
    "start_time": "2022-02-13T10:10:47.322Z"
   },
   {
    "duration": 44,
    "start_time": "2022-02-13T10:10:47.329Z"
   },
   {
    "duration": 7,
    "start_time": "2022-02-13T10:10:47.375Z"
   },
   {
    "duration": 25,
    "start_time": "2022-02-13T10:10:47.384Z"
   },
   {
    "duration": 8,
    "start_time": "2022-02-13T10:10:47.411Z"
   },
   {
    "duration": 3,
    "start_time": "2022-02-13T10:10:47.421Z"
   },
   {
    "duration": 71,
    "start_time": "2022-02-13T10:10:47.425Z"
   },
   {
    "duration": 16,
    "start_time": "2022-02-13T10:10:47.497Z"
   },
   {
    "duration": 7,
    "start_time": "2022-02-13T10:10:47.514Z"
   },
   {
    "duration": 3,
    "start_time": "2022-02-13T10:10:47.522Z"
   },
   {
    "duration": 51,
    "start_time": "2022-02-13T10:10:47.527Z"
   },
   {
    "duration": 3,
    "start_time": "2022-02-13T10:10:47.580Z"
   },
   {
    "duration": 37,
    "start_time": "2022-02-13T10:10:47.585Z"
   },
   {
    "duration": 355,
    "start_time": "2022-02-13T10:10:47.623Z"
   },
   {
    "duration": 132,
    "start_time": "2022-02-13T10:10:47.979Z"
   },
   {
    "duration": 339,
    "start_time": "2022-02-13T10:10:48.113Z"
   },
   {
    "duration": 117,
    "start_time": "2022-02-13T10:10:48.454Z"
   },
   {
    "duration": 327,
    "start_time": "2022-02-13T10:10:48.573Z"
   },
   {
    "duration": 125,
    "start_time": "2022-02-13T10:10:48.902Z"
   },
   {
    "duration": 400,
    "start_time": "2022-02-13T10:10:49.028Z"
   },
   {
    "duration": 124,
    "start_time": "2022-02-13T10:10:49.429Z"
   },
   {
    "duration": 337,
    "start_time": "2022-02-13T10:10:49.555Z"
   },
   {
    "duration": 183,
    "start_time": "2022-02-13T10:10:49.894Z"
   },
   {
    "duration": 496,
    "start_time": "2022-02-13T10:10:50.079Z"
   },
   {
    "duration": 125,
    "start_time": "2022-02-13T10:10:50.576Z"
   },
   {
    "duration": 268,
    "start_time": "2022-02-13T10:10:50.703Z"
   },
   {
    "duration": 353,
    "start_time": "2022-02-13T10:10:50.973Z"
   },
   {
    "duration": 265,
    "start_time": "2022-02-13T10:10:51.328Z"
   },
   {
    "duration": 357,
    "start_time": "2022-02-13T10:10:51.595Z"
   },
   {
    "duration": 5,
    "start_time": "2022-02-13T10:10:51.954Z"
   },
   {
    "duration": 4,
    "start_time": "2022-02-13T10:10:51.972Z"
   },
   {
    "duration": 8,
    "start_time": "2022-02-13T10:10:51.978Z"
   },
   {
    "duration": 5,
    "start_time": "2022-02-13T10:10:51.987Z"
   },
   {
    "duration": 7,
    "start_time": "2022-02-13T10:24:37.661Z"
   },
   {
    "duration": 6,
    "start_time": "2022-02-13T10:24:50.670Z"
   },
   {
    "duration": 1012,
    "start_time": "2022-02-13T10:26:03.019Z"
   },
   {
    "duration": 391,
    "start_time": "2022-02-13T10:26:04.033Z"
   },
   {
    "duration": 109,
    "start_time": "2022-02-13T10:26:04.426Z"
   },
   {
    "duration": 61,
    "start_time": "2022-02-13T10:26:04.537Z"
   },
   {
    "duration": 51,
    "start_time": "2022-02-13T10:26:04.600Z"
   },
   {
    "duration": 22,
    "start_time": "2022-02-13T10:26:04.652Z"
   },
   {
    "duration": 13,
    "start_time": "2022-02-13T10:26:04.676Z"
   },
   {
    "duration": 28,
    "start_time": "2022-02-13T10:26:04.691Z"
   },
   {
    "duration": 20,
    "start_time": "2022-02-13T10:26:04.721Z"
   },
   {
    "duration": 43,
    "start_time": "2022-02-13T10:26:04.743Z"
   },
   {
    "duration": 4,
    "start_time": "2022-02-13T10:26:04.787Z"
   },
   {
    "duration": 26,
    "start_time": "2022-02-13T10:26:04.793Z"
   },
   {
    "duration": 11,
    "start_time": "2022-02-13T10:26:04.820Z"
   },
   {
    "duration": 4,
    "start_time": "2022-02-13T10:26:04.832Z"
   },
   {
    "duration": 119,
    "start_time": "2022-02-13T10:26:04.838Z"
   },
   {
    "duration": 5,
    "start_time": "2022-02-13T10:26:04.958Z"
   },
   {
    "duration": 41,
    "start_time": "2022-02-13T10:26:04.971Z"
   },
   {
    "duration": 21,
    "start_time": "2022-02-13T10:26:05.014Z"
   },
   {
    "duration": 35,
    "start_time": "2022-02-13T10:26:05.037Z"
   },
   {
    "duration": 30,
    "start_time": "2022-02-13T10:26:05.073Z"
   },
   {
    "duration": 7,
    "start_time": "2022-02-13T10:26:05.105Z"
   },
   {
    "duration": 17,
    "start_time": "2022-02-13T10:26:05.114Z"
   },
   {
    "duration": 41,
    "start_time": "2022-02-13T10:26:05.135Z"
   },
   {
    "duration": 26,
    "start_time": "2022-02-13T10:26:05.178Z"
   },
   {
    "duration": 5,
    "start_time": "2022-02-13T10:26:05.205Z"
   },
   {
    "duration": 41,
    "start_time": "2022-02-13T10:26:05.212Z"
   },
   {
    "duration": 19,
    "start_time": "2022-02-13T10:26:05.255Z"
   },
   {
    "duration": 8,
    "start_time": "2022-02-13T10:26:05.275Z"
   },
   {
    "duration": 13,
    "start_time": "2022-02-13T10:26:05.284Z"
   },
   {
    "duration": 7,
    "start_time": "2022-02-13T10:26:05.299Z"
   },
   {
    "duration": 25,
    "start_time": "2022-02-13T10:26:05.307Z"
   },
   {
    "duration": 8,
    "start_time": "2022-02-13T10:26:05.334Z"
   },
   {
    "duration": 29,
    "start_time": "2022-02-13T10:26:05.343Z"
   },
   {
    "duration": 31,
    "start_time": "2022-02-13T10:26:05.374Z"
   },
   {
    "duration": 15,
    "start_time": "2022-02-13T10:26:05.407Z"
   },
   {
    "duration": 5,
    "start_time": "2022-02-13T10:26:05.424Z"
   },
   {
    "duration": 9,
    "start_time": "2022-02-13T10:26:05.430Z"
   },
   {
    "duration": 32,
    "start_time": "2022-02-13T10:26:05.440Z"
   },
   {
    "duration": 4,
    "start_time": "2022-02-13T10:26:05.473Z"
   },
   {
    "duration": 29,
    "start_time": "2022-02-13T10:26:05.479Z"
   },
   {
    "duration": 3,
    "start_time": "2022-02-13T10:26:05.509Z"
   },
   {
    "duration": 24,
    "start_time": "2022-02-13T10:26:05.514Z"
   },
   {
    "duration": 355,
    "start_time": "2022-02-13T10:26:05.540Z"
   },
   {
    "duration": 121,
    "start_time": "2022-02-13T10:26:05.896Z"
   },
   {
    "duration": 328,
    "start_time": "2022-02-13T10:26:06.019Z"
   },
   {
    "duration": 117,
    "start_time": "2022-02-13T10:26:06.349Z"
   },
   {
    "duration": 313,
    "start_time": "2022-02-13T10:26:06.467Z"
   },
   {
    "duration": 115,
    "start_time": "2022-02-13T10:26:06.782Z"
   },
   {
    "duration": 410,
    "start_time": "2022-02-13T10:26:06.899Z"
   },
   {
    "duration": 126,
    "start_time": "2022-02-13T10:26:07.311Z"
   },
   {
    "duration": 353,
    "start_time": "2022-02-13T10:26:07.438Z"
   },
   {
    "duration": 131,
    "start_time": "2022-02-13T10:26:07.793Z"
   },
   {
    "duration": 342,
    "start_time": "2022-02-13T10:26:07.926Z"
   },
   {
    "duration": 121,
    "start_time": "2022-02-13T10:26:08.271Z"
   },
   {
    "duration": 259,
    "start_time": "2022-02-13T10:26:08.394Z"
   },
   {
    "duration": 341,
    "start_time": "2022-02-13T10:26:08.654Z"
   },
   {
    "duration": 304,
    "start_time": "2022-02-13T10:26:08.997Z"
   },
   {
    "duration": 255,
    "start_time": "2022-02-13T10:26:09.302Z"
   },
   {
    "duration": 4,
    "start_time": "2022-02-13T10:26:09.558Z"
   },
   {
    "duration": 6,
    "start_time": "2022-02-13T10:26:09.564Z"
   },
   {
    "duration": 10,
    "start_time": "2022-02-13T10:26:09.572Z"
   },
   {
    "duration": 5,
    "start_time": "2022-02-13T10:26:09.583Z"
   },
   {
    "duration": 1074,
    "start_time": "2022-02-13T10:35:45.988Z"
   },
   {
    "duration": 384,
    "start_time": "2022-02-13T10:35:47.065Z"
   },
   {
    "duration": 155,
    "start_time": "2022-02-13T10:35:47.451Z"
   },
   {
    "duration": 84,
    "start_time": "2022-02-13T10:35:47.608Z"
   },
   {
    "duration": 52,
    "start_time": "2022-02-13T10:35:47.694Z"
   },
   {
    "duration": 26,
    "start_time": "2022-02-13T10:35:47.748Z"
   },
   {
    "duration": 14,
    "start_time": "2022-02-13T10:35:47.776Z"
   },
   {
    "duration": 40,
    "start_time": "2022-02-13T10:35:47.793Z"
   },
   {
    "duration": 50,
    "start_time": "2022-02-13T10:35:47.835Z"
   },
   {
    "duration": 25,
    "start_time": "2022-02-13T10:35:47.888Z"
   },
   {
    "duration": 5,
    "start_time": "2022-02-13T10:35:47.915Z"
   },
   {
    "duration": 31,
    "start_time": "2022-02-13T10:35:47.922Z"
   },
   {
    "duration": 15,
    "start_time": "2022-02-13T10:35:47.972Z"
   },
   {
    "duration": 6,
    "start_time": "2022-02-13T10:35:47.989Z"
   },
   {
    "duration": 148,
    "start_time": "2022-02-13T10:35:47.996Z"
   },
   {
    "duration": 4,
    "start_time": "2022-02-13T10:35:48.146Z"
   },
   {
    "duration": 55,
    "start_time": "2022-02-13T10:35:48.152Z"
   },
   {
    "duration": 34,
    "start_time": "2022-02-13T10:35:48.209Z"
   },
   {
    "duration": 17,
    "start_time": "2022-02-13T10:35:48.245Z"
   },
   {
    "duration": 34,
    "start_time": "2022-02-13T10:35:48.264Z"
   },
   {
    "duration": 8,
    "start_time": "2022-02-13T10:35:48.300Z"
   },
   {
    "duration": 17,
    "start_time": "2022-02-13T10:35:48.310Z"
   },
   {
    "duration": 43,
    "start_time": "2022-02-13T10:35:48.330Z"
   },
   {
    "duration": 29,
    "start_time": "2022-02-13T10:35:48.375Z"
   },
   {
    "duration": 4,
    "start_time": "2022-02-13T10:35:48.406Z"
   },
   {
    "duration": 29,
    "start_time": "2022-02-13T10:35:48.412Z"
   },
   {
    "duration": 29,
    "start_time": "2022-02-13T10:35:48.443Z"
   },
   {
    "duration": 6,
    "start_time": "2022-02-13T10:35:48.474Z"
   },
   {
    "duration": 26,
    "start_time": "2022-02-13T10:35:48.482Z"
   },
   {
    "duration": 12,
    "start_time": "2022-02-13T10:35:48.509Z"
   },
   {
    "duration": 35,
    "start_time": "2022-02-13T10:35:48.523Z"
   },
   {
    "duration": 35,
    "start_time": "2022-02-13T10:35:48.559Z"
   },
   {
    "duration": 31,
    "start_time": "2022-02-13T10:35:48.596Z"
   },
   {
    "duration": 67,
    "start_time": "2022-02-13T10:35:48.629Z"
   },
   {
    "duration": 23,
    "start_time": "2022-02-13T10:35:48.698Z"
   },
   {
    "duration": 13,
    "start_time": "2022-02-13T10:35:48.723Z"
   },
   {
    "duration": 6,
    "start_time": "2022-02-13T10:35:48.738Z"
   },
   {
    "duration": 29,
    "start_time": "2022-02-13T10:35:48.746Z"
   },
   {
    "duration": 6,
    "start_time": "2022-02-13T10:35:48.777Z"
   },
   {
    "duration": 70,
    "start_time": "2022-02-13T10:35:48.785Z"
   },
   {
    "duration": 4,
    "start_time": "2022-02-13T10:35:48.857Z"
   },
   {
    "duration": 27,
    "start_time": "2022-02-13T10:35:48.863Z"
   },
   {
    "duration": 344,
    "start_time": "2022-02-13T10:35:48.891Z"
   },
   {
    "duration": 132,
    "start_time": "2022-02-13T10:35:49.237Z"
   },
   {
    "duration": 342,
    "start_time": "2022-02-13T10:35:49.371Z"
   },
   {
    "duration": 128,
    "start_time": "2022-02-13T10:35:49.715Z"
   },
   {
    "duration": 328,
    "start_time": "2022-02-13T10:35:49.845Z"
   },
   {
    "duration": 127,
    "start_time": "2022-02-13T10:35:50.175Z"
   },
   {
    "duration": 410,
    "start_time": "2022-02-13T10:35:50.304Z"
   },
   {
    "duration": 128,
    "start_time": "2022-02-13T10:35:50.716Z"
   },
   {
    "duration": 364,
    "start_time": "2022-02-13T10:35:50.846Z"
   },
   {
    "duration": 139,
    "start_time": "2022-02-13T10:35:51.212Z"
   },
   {
    "duration": 339,
    "start_time": "2022-02-13T10:35:51.353Z"
   },
   {
    "duration": 190,
    "start_time": "2022-02-13T10:35:51.694Z"
   },
   {
    "duration": 436,
    "start_time": "2022-02-13T10:35:51.886Z"
   },
   {
    "duration": 360,
    "start_time": "2022-02-13T10:35:52.324Z"
   },
   {
    "duration": 302,
    "start_time": "2022-02-13T10:35:52.686Z"
   },
   {
    "duration": 259,
    "start_time": "2022-02-13T10:35:52.990Z"
   },
   {
    "duration": 4,
    "start_time": "2022-02-13T10:35:53.251Z"
   },
   {
    "duration": 26,
    "start_time": "2022-02-13T10:35:53.256Z"
   },
   {
    "duration": 20,
    "start_time": "2022-02-13T10:35:53.284Z"
   },
   {
    "duration": 14,
    "start_time": "2022-02-13T10:35:53.306Z"
   },
   {
    "duration": 1056,
    "start_time": "2022-02-13T10:47:20.067Z"
   },
   {
    "duration": 392,
    "start_time": "2022-02-13T10:47:21.125Z"
   },
   {
    "duration": 118,
    "start_time": "2022-02-13T10:47:21.519Z"
   },
   {
    "duration": 70,
    "start_time": "2022-02-13T10:47:21.639Z"
   },
   {
    "duration": 65,
    "start_time": "2022-02-13T10:47:21.711Z"
   },
   {
    "duration": 11,
    "start_time": "2022-02-13T10:47:21.777Z"
   },
   {
    "duration": 15,
    "start_time": "2022-02-13T10:47:21.789Z"
   },
   {
    "duration": 28,
    "start_time": "2022-02-13T10:47:21.806Z"
   },
   {
    "duration": 41,
    "start_time": "2022-02-13T10:47:21.836Z"
   },
   {
    "duration": 16,
    "start_time": "2022-02-13T10:47:21.879Z"
   },
   {
    "duration": 4,
    "start_time": "2022-02-13T10:47:21.897Z"
   },
   {
    "duration": 27,
    "start_time": "2022-02-13T10:47:21.902Z"
   },
   {
    "duration": 10,
    "start_time": "2022-02-13T10:47:21.931Z"
   },
   {
    "duration": 29,
    "start_time": "2022-02-13T10:47:21.942Z"
   },
   {
    "duration": 88,
    "start_time": "2022-02-13T10:47:21.973Z"
   },
   {
    "duration": 13,
    "start_time": "2022-02-13T10:47:22.062Z"
   },
   {
    "duration": 49,
    "start_time": "2022-02-13T10:47:22.076Z"
   },
   {
    "duration": 20,
    "start_time": "2022-02-13T10:47:22.126Z"
   },
   {
    "duration": 15,
    "start_time": "2022-02-13T10:47:22.147Z"
   },
   {
    "duration": 28,
    "start_time": "2022-02-13T10:47:22.172Z"
   },
   {
    "duration": 7,
    "start_time": "2022-02-13T10:47:22.202Z"
   },
   {
    "duration": 33,
    "start_time": "2022-02-13T10:47:22.211Z"
   },
   {
    "duration": 27,
    "start_time": "2022-02-13T10:47:22.247Z"
   },
   {
    "duration": 25,
    "start_time": "2022-02-13T10:47:22.276Z"
   },
   {
    "duration": 5,
    "start_time": "2022-02-13T10:47:22.303Z"
   },
   {
    "duration": 34,
    "start_time": "2022-02-13T10:47:22.310Z"
   },
   {
    "duration": 25,
    "start_time": "2022-02-13T10:47:22.346Z"
   },
   {
    "duration": 6,
    "start_time": "2022-02-13T10:47:22.373Z"
   },
   {
    "duration": 20,
    "start_time": "2022-02-13T10:47:22.381Z"
   },
   {
    "duration": 17,
    "start_time": "2022-02-13T10:47:22.403Z"
   },
   {
    "duration": 28,
    "start_time": "2022-02-13T10:47:22.421Z"
   },
   {
    "duration": 5,
    "start_time": "2022-02-13T10:47:22.451Z"
   },
   {
    "duration": 3,
    "start_time": "2022-02-13T10:47:22.458Z"
   },
   {
    "duration": 37,
    "start_time": "2022-02-13T10:47:22.462Z"
   },
   {
    "duration": 16,
    "start_time": "2022-02-13T10:47:22.500Z"
   },
   {
    "duration": 5,
    "start_time": "2022-02-13T10:47:22.517Z"
   },
   {
    "duration": 14,
    "start_time": "2022-02-13T10:47:22.523Z"
   },
   {
    "duration": 12,
    "start_time": "2022-02-13T10:47:22.538Z"
   },
   {
    "duration": 21,
    "start_time": "2022-02-13T10:47:22.551Z"
   },
   {
    "duration": 37,
    "start_time": "2022-02-13T10:47:22.573Z"
   },
   {
    "duration": 4,
    "start_time": "2022-02-13T10:47:22.611Z"
   },
   {
    "duration": 30,
    "start_time": "2022-02-13T10:47:22.616Z"
   },
   {
    "duration": 378,
    "start_time": "2022-02-13T10:47:22.648Z"
   },
   {
    "duration": 167,
    "start_time": "2022-02-13T10:47:23.028Z"
   },
   {
    "duration": 331,
    "start_time": "2022-02-13T10:47:23.197Z"
   },
   {
    "duration": 119,
    "start_time": "2022-02-13T10:47:23.530Z"
   },
   {
    "duration": 322,
    "start_time": "2022-02-13T10:47:23.650Z"
   },
   {
    "duration": 119,
    "start_time": "2022-02-13T10:47:23.974Z"
   },
   {
    "duration": 403,
    "start_time": "2022-02-13T10:47:24.095Z"
   },
   {
    "duration": 131,
    "start_time": "2022-02-13T10:47:24.499Z"
   },
   {
    "duration": 346,
    "start_time": "2022-02-13T10:47:24.632Z"
   },
   {
    "duration": 151,
    "start_time": "2022-02-13T10:47:24.979Z"
   },
   {
    "duration": 361,
    "start_time": "2022-02-13T10:47:25.132Z"
   },
   {
    "duration": 127,
    "start_time": "2022-02-13T10:47:25.495Z"
   },
   {
    "duration": 265,
    "start_time": "2022-02-13T10:47:25.624Z"
   },
   {
    "duration": 354,
    "start_time": "2022-02-13T10:47:25.891Z"
   },
   {
    "duration": 265,
    "start_time": "2022-02-13T10:47:26.247Z"
   },
   {
    "duration": 255,
    "start_time": "2022-02-13T10:47:26.513Z"
   },
   {
    "duration": 4,
    "start_time": "2022-02-13T10:47:26.770Z"
   },
   {
    "duration": 6,
    "start_time": "2022-02-13T10:47:26.776Z"
   },
   {
    "duration": 6,
    "start_time": "2022-02-13T10:47:26.784Z"
   },
   {
    "duration": 4,
    "start_time": "2022-02-13T10:47:26.792Z"
   },
   {
    "duration": 994,
    "start_time": "2022-02-13T11:02:27.674Z"
   },
   {
    "duration": 389,
    "start_time": "2022-02-13T11:02:28.672Z"
   },
   {
    "duration": 113,
    "start_time": "2022-02-13T11:02:29.063Z"
   },
   {
    "duration": 59,
    "start_time": "2022-02-13T11:02:29.178Z"
   },
   {
    "duration": 76,
    "start_time": "2022-02-13T11:02:29.239Z"
   },
   {
    "duration": 11,
    "start_time": "2022-02-13T11:02:29.316Z"
   },
   {
    "duration": 15,
    "start_time": "2022-02-13T11:02:29.329Z"
   },
   {
    "duration": 28,
    "start_time": "2022-02-13T11:02:29.371Z"
   },
   {
    "duration": 20,
    "start_time": "2022-02-13T11:02:29.401Z"
   },
   {
    "duration": 18,
    "start_time": "2022-02-13T11:02:29.423Z"
   },
   {
    "duration": 4,
    "start_time": "2022-02-13T11:02:29.442Z"
   },
   {
    "duration": 22,
    "start_time": "2022-02-13T11:02:29.471Z"
   },
   {
    "duration": 11,
    "start_time": "2022-02-13T11:02:29.494Z"
   },
   {
    "duration": 4,
    "start_time": "2022-02-13T11:02:29.506Z"
   },
   {
    "duration": 106,
    "start_time": "2022-02-13T11:02:29.511Z"
   },
   {
    "duration": 5,
    "start_time": "2022-02-13T11:02:29.618Z"
   },
   {
    "duration": 50,
    "start_time": "2022-02-13T11:02:29.624Z"
   },
   {
    "duration": 19,
    "start_time": "2022-02-13T11:02:29.676Z"
   },
   {
    "duration": 13,
    "start_time": "2022-02-13T11:02:29.697Z"
   },
   {
    "duration": 30,
    "start_time": "2022-02-13T11:02:29.712Z"
   },
   {
    "duration": 27,
    "start_time": "2022-02-13T11:02:29.744Z"
   },
   {
    "duration": 18,
    "start_time": "2022-02-13T11:02:29.773Z"
   },
   {
    "duration": 16,
    "start_time": "2022-02-13T11:02:29.794Z"
   },
   {
    "duration": 24,
    "start_time": "2022-02-13T11:02:29.812Z"
   },
   {
    "duration": 5,
    "start_time": "2022-02-13T11:02:29.837Z"
   },
   {
    "duration": 28,
    "start_time": "2022-02-13T11:02:29.871Z"
   },
   {
    "duration": 4,
    "start_time": "2022-02-13T11:02:29.901Z"
   },
   {
    "duration": 6,
    "start_time": "2022-02-13T11:02:29.906Z"
   },
   {
    "duration": 13,
    "start_time": "2022-02-13T11:02:29.914Z"
   },
   {
    "duration": 4,
    "start_time": "2022-02-13T11:02:29.929Z"
   },
   {
    "duration": 53,
    "start_time": "2022-02-13T11:02:29.934Z"
   },
   {
    "duration": 6,
    "start_time": "2022-02-13T11:02:29.989Z"
   },
   {
    "duration": 3,
    "start_time": "2022-02-13T11:02:29.997Z"
   },
   {
    "duration": 31,
    "start_time": "2022-02-13T11:02:30.002Z"
   },
   {
    "duration": 40,
    "start_time": "2022-02-13T11:02:30.035Z"
   },
   {
    "duration": 7,
    "start_time": "2022-02-13T11:02:30.076Z"
   },
   {
    "duration": 9,
    "start_time": "2022-02-13T11:02:30.085Z"
   },
   {
    "duration": 15,
    "start_time": "2022-02-13T11:02:30.096Z"
   },
   {
    "duration": 7,
    "start_time": "2022-02-13T11:02:30.113Z"
   },
   {
    "duration": 47,
    "start_time": "2022-02-13T11:02:30.121Z"
   },
   {
    "duration": 4,
    "start_time": "2022-02-13T11:02:30.169Z"
   },
   {
    "duration": 40,
    "start_time": "2022-02-13T11:02:30.174Z"
   },
   {
    "duration": 348,
    "start_time": "2022-02-13T11:02:30.216Z"
   },
   {
    "duration": 125,
    "start_time": "2022-02-13T11:02:30.566Z"
   },
   {
    "duration": 415,
    "start_time": "2022-02-13T11:02:30.692Z"
   },
   {
    "duration": 124,
    "start_time": "2022-02-13T11:02:31.109Z"
   },
   {
    "duration": 362,
    "start_time": "2022-02-13T11:02:31.235Z"
   },
   {
    "duration": 124,
    "start_time": "2022-02-13T11:02:31.599Z"
   },
   {
    "duration": 413,
    "start_time": "2022-02-13T11:02:31.725Z"
   },
   {
    "duration": 130,
    "start_time": "2022-02-13T11:02:32.140Z"
   },
   {
    "duration": 341,
    "start_time": "2022-02-13T11:02:32.272Z"
   },
   {
    "duration": 123,
    "start_time": "2022-02-13T11:02:32.614Z"
   },
   {
    "duration": 336,
    "start_time": "2022-02-13T11:02:32.739Z"
   },
   {
    "duration": 122,
    "start_time": "2022-02-13T11:02:33.076Z"
   },
   {
    "duration": 262,
    "start_time": "2022-02-13T11:02:33.199Z"
   },
   {
    "duration": 336,
    "start_time": "2022-02-13T11:02:33.463Z"
   },
   {
    "duration": 266,
    "start_time": "2022-02-13T11:02:33.801Z"
   },
   {
    "duration": 248,
    "start_time": "2022-02-13T11:02:34.068Z"
   },
   {
    "duration": 4,
    "start_time": "2022-02-13T11:02:34.318Z"
   },
   {
    "duration": 5,
    "start_time": "2022-02-13T11:02:34.323Z"
   },
   {
    "duration": 6,
    "start_time": "2022-02-13T11:02:34.330Z"
   },
   {
    "duration": 4,
    "start_time": "2022-02-13T11:02:34.338Z"
   },
   {
    "duration": 1138,
    "start_time": "2022-02-14T03:07:11.367Z"
   },
   {
    "duration": 409,
    "start_time": "2022-02-14T03:07:12.508Z"
   },
   {
    "duration": 142,
    "start_time": "2022-02-14T03:07:12.920Z"
   },
   {
    "duration": 84,
    "start_time": "2022-02-14T03:07:13.064Z"
   },
   {
    "duration": 83,
    "start_time": "2022-02-14T03:07:13.150Z"
   },
   {
    "duration": 11,
    "start_time": "2022-02-14T03:07:13.235Z"
   },
   {
    "duration": 19,
    "start_time": "2022-02-14T03:07:13.248Z"
   },
   {
    "duration": 56,
    "start_time": "2022-02-14T03:07:13.270Z"
   },
   {
    "duration": 24,
    "start_time": "2022-02-14T03:07:13.328Z"
   },
   {
    "duration": 20,
    "start_time": "2022-02-14T03:07:13.353Z"
   },
   {
    "duration": 5,
    "start_time": "2022-02-14T03:07:13.375Z"
   },
   {
    "duration": 52,
    "start_time": "2022-02-14T03:07:13.381Z"
   },
   {
    "duration": 13,
    "start_time": "2022-02-14T03:07:13.435Z"
   },
   {
    "duration": 6,
    "start_time": "2022-02-14T03:07:13.450Z"
   },
   {
    "duration": 136,
    "start_time": "2022-02-14T03:07:13.457Z"
   },
   {
    "duration": 6,
    "start_time": "2022-02-14T03:07:13.594Z"
   },
   {
    "duration": 46,
    "start_time": "2022-02-14T03:07:13.608Z"
   },
   {
    "duration": 24,
    "start_time": "2022-02-14T03:07:13.656Z"
   },
   {
    "duration": 37,
    "start_time": "2022-02-14T03:07:13.682Z"
   },
   {
    "duration": 33,
    "start_time": "2022-02-14T03:07:13.721Z"
   },
   {
    "duration": 10,
    "start_time": "2022-02-14T03:07:13.756Z"
   },
   {
    "duration": 45,
    "start_time": "2022-02-14T03:07:13.768Z"
   },
   {
    "duration": 21,
    "start_time": "2022-02-14T03:07:13.818Z"
   },
   {
    "duration": 29,
    "start_time": "2022-02-14T03:07:13.841Z"
   },
   {
    "duration": 4,
    "start_time": "2022-02-14T03:07:13.872Z"
   },
   {
    "duration": 33,
    "start_time": "2022-02-14T03:07:13.908Z"
   },
   {
    "duration": 6,
    "start_time": "2022-02-14T03:07:13.943Z"
   },
   {
    "duration": 7,
    "start_time": "2022-02-14T03:07:13.951Z"
   },
   {
    "duration": 48,
    "start_time": "2022-02-14T03:07:13.960Z"
   },
   {
    "duration": 8,
    "start_time": "2022-02-14T03:07:14.010Z"
   },
   {
    "duration": 33,
    "start_time": "2022-02-14T03:07:14.020Z"
   },
   {
    "duration": 9,
    "start_time": "2022-02-14T03:07:14.055Z"
   },
   {
    "duration": 4,
    "start_time": "2022-02-14T03:07:14.066Z"
   },
   {
    "duration": 69,
    "start_time": "2022-02-14T03:07:14.072Z"
   },
   {
    "duration": 20,
    "start_time": "2022-02-14T03:07:14.143Z"
   },
   {
    "duration": 8,
    "start_time": "2022-02-14T03:07:14.166Z"
   },
   {
    "duration": 35,
    "start_time": "2022-02-14T03:07:14.176Z"
   },
   {
    "duration": 9,
    "start_time": "2022-02-14T03:07:14.212Z"
   },
   {
    "duration": 7,
    "start_time": "2022-02-14T03:07:14.223Z"
   },
   {
    "duration": 38,
    "start_time": "2022-02-14T03:07:14.232Z"
   },
   {
    "duration": 5,
    "start_time": "2022-02-14T03:07:14.272Z"
   },
   {
    "duration": 34,
    "start_time": "2022-02-14T03:07:14.307Z"
   },
   {
    "duration": 406,
    "start_time": "2022-02-14T03:07:14.343Z"
   },
   {
    "duration": 158,
    "start_time": "2022-02-14T03:07:14.751Z"
   },
   {
    "duration": 390,
    "start_time": "2022-02-14T03:07:14.911Z"
   },
   {
    "duration": 140,
    "start_time": "2022-02-14T03:07:15.308Z"
   },
   {
    "duration": 360,
    "start_time": "2022-02-14T03:07:15.450Z"
   },
   {
    "duration": 152,
    "start_time": "2022-02-14T03:07:15.812Z"
   },
   {
    "duration": 468,
    "start_time": "2022-02-14T03:07:15.966Z"
   },
   {
    "duration": 156,
    "start_time": "2022-02-14T03:07:16.436Z"
   },
   {
    "duration": 397,
    "start_time": "2022-02-14T03:07:16.594Z"
   },
   {
    "duration": 150,
    "start_time": "2022-02-14T03:07:16.992Z"
   },
   {
    "duration": 392,
    "start_time": "2022-02-14T03:07:17.144Z"
   },
   {
    "duration": 146,
    "start_time": "2022-02-14T03:07:17.538Z"
   },
   {
    "duration": 321,
    "start_time": "2022-02-14T03:07:17.686Z"
   },
   {
    "duration": 500,
    "start_time": "2022-02-14T03:07:18.009Z"
   },
   {
    "duration": 312,
    "start_time": "2022-02-14T03:07:18.511Z"
   },
   {
    "duration": 320,
    "start_time": "2022-02-14T03:07:18.825Z"
   },
   {
    "duration": 6,
    "start_time": "2022-02-14T03:07:19.147Z"
   },
   {
    "duration": 9,
    "start_time": "2022-02-14T03:07:19.155Z"
   },
   {
    "duration": 17,
    "start_time": "2022-02-14T03:07:19.166Z"
   },
   {
    "duration": 5,
    "start_time": "2022-02-14T03:07:19.185Z"
   },
   {
    "duration": 51,
    "start_time": "2022-02-14T03:30:05.459Z"
   },
   {
    "duration": 50,
    "start_time": "2022-02-14T03:30:11.044Z"
   },
   {
    "duration": 49,
    "start_time": "2022-02-14T03:30:42.944Z"
   },
   {
    "duration": 8,
    "start_time": "2022-02-14T03:30:46.319Z"
   },
   {
    "duration": 55,
    "start_time": "2022-02-14T03:30:50.644Z"
   },
   {
    "duration": 359,
    "start_time": "2022-02-14T07:39:17.100Z"
   },
   {
    "duration": 1429,
    "start_time": "2022-02-14T07:39:21.508Z"
   },
   {
    "duration": 540,
    "start_time": "2022-02-14T07:39:22.939Z"
   },
   {
    "duration": 182,
    "start_time": "2022-02-14T07:39:23.483Z"
   },
   {
    "duration": 119,
    "start_time": "2022-02-14T07:39:23.670Z"
   },
   {
    "duration": 108,
    "start_time": "2022-02-14T07:39:23.792Z"
   },
   {
    "duration": 18,
    "start_time": "2022-02-14T07:39:23.903Z"
   },
   {
    "duration": 48,
    "start_time": "2022-02-14T07:39:23.923Z"
   },
   {
    "duration": 42,
    "start_time": "2022-02-14T07:39:23.975Z"
   },
   {
    "duration": 55,
    "start_time": "2022-02-14T07:39:24.020Z"
   },
   {
    "duration": 26,
    "start_time": "2022-02-14T07:39:24.077Z"
   },
   {
    "duration": 6,
    "start_time": "2022-02-14T07:39:24.106Z"
   },
   {
    "duration": 57,
    "start_time": "2022-02-14T07:39:24.114Z"
   },
   {
    "duration": 15,
    "start_time": "2022-02-14T07:39:24.173Z"
   },
   {
    "duration": 7,
    "start_time": "2022-02-14T07:39:24.190Z"
   },
   {
    "duration": 181,
    "start_time": "2022-02-14T07:39:24.200Z"
   },
   {
    "duration": 7,
    "start_time": "2022-02-14T07:39:24.384Z"
   },
   {
    "duration": 86,
    "start_time": "2022-02-14T07:39:24.393Z"
   },
   {
    "duration": 31,
    "start_time": "2022-02-14T07:39:24.482Z"
   },
   {
    "duration": 22,
    "start_time": "2022-02-14T07:39:24.515Z"
   },
   {
    "duration": 70,
    "start_time": "2022-02-14T07:39:24.540Z"
   },
   {
    "duration": 13,
    "start_time": "2022-02-14T07:39:24.614Z"
   },
   {
    "duration": 59,
    "start_time": "2022-02-14T07:39:24.630Z"
   },
   {
    "duration": 30,
    "start_time": "2022-02-14T07:39:24.694Z"
   },
   {
    "duration": 89,
    "start_time": "2022-02-14T07:39:24.730Z"
   },
   {
    "duration": 7,
    "start_time": "2022-02-14T07:39:24.822Z"
   },
   {
    "duration": 96,
    "start_time": "2022-02-14T07:39:24.832Z"
   },
   {
    "duration": 9,
    "start_time": "2022-02-14T07:39:24.931Z"
   },
   {
    "duration": 11,
    "start_time": "2022-02-14T07:39:24.942Z"
   },
   {
    "duration": 18,
    "start_time": "2022-02-14T07:39:24.970Z"
   },
   {
    "duration": 12,
    "start_time": "2022-02-14T07:39:24.990Z"
   },
   {
    "duration": 72,
    "start_time": "2022-02-14T07:39:25.005Z"
   },
   {
    "duration": 10,
    "start_time": "2022-02-14T07:39:25.080Z"
   },
   {
    "duration": 8,
    "start_time": "2022-02-14T07:39:25.092Z"
   },
   {
    "duration": 85,
    "start_time": "2022-02-14T07:39:25.102Z"
   },
   {
    "duration": 29,
    "start_time": "2022-02-14T07:39:25.189Z"
   },
   {
    "duration": 13,
    "start_time": "2022-02-14T07:39:25.221Z"
   },
   {
    "duration": 40,
    "start_time": "2022-02-14T07:39:25.238Z"
   },
   {
    "duration": 27,
    "start_time": "2022-02-14T07:39:25.280Z"
   },
   {
    "duration": 5,
    "start_time": "2022-02-14T07:39:25.310Z"
   },
   {
    "duration": 104,
    "start_time": "2022-02-14T07:39:25.318Z"
   },
   {
    "duration": 5,
    "start_time": "2022-02-14T07:39:25.425Z"
   },
   {
    "duration": 67,
    "start_time": "2022-02-14T07:39:25.432Z"
   },
   {
    "duration": 987,
    "start_time": "2022-02-14T07:39:25.502Z"
   },
   {
    "duration": 242,
    "start_time": "2022-02-14T07:39:26.492Z"
   },
   {
    "duration": 653,
    "start_time": "2022-02-14T07:39:26.736Z"
   },
   {
    "duration": 218,
    "start_time": "2022-02-14T07:39:27.392Z"
   },
   {
    "duration": 624,
    "start_time": "2022-02-14T07:39:27.612Z"
   },
   {
    "duration": 217,
    "start_time": "2022-02-14T07:39:28.239Z"
   },
   {
    "duration": 1058,
    "start_time": "2022-02-14T07:39:28.458Z"
   },
   {
    "duration": 340,
    "start_time": "2022-02-14T07:39:29.519Z"
   },
   {
    "duration": 992,
    "start_time": "2022-02-14T07:39:29.862Z"
   },
   {
    "duration": 348,
    "start_time": "2022-02-14T07:39:30.857Z"
   },
   {
    "duration": 644,
    "start_time": "2022-02-14T07:39:31.208Z"
   },
   {
    "duration": 239,
    "start_time": "2022-02-14T07:39:31.855Z"
   },
   {
    "duration": 751,
    "start_time": "2022-02-14T07:39:32.097Z"
   },
   {
    "duration": 913,
    "start_time": "2022-02-14T07:39:32.851Z"
   },
   {
    "duration": 770,
    "start_time": "2022-02-14T07:39:33.770Z"
   },
   {
    "duration": 740,
    "start_time": "2022-02-14T07:39:34.543Z"
   },
   {
    "duration": 6,
    "start_time": "2022-02-14T07:39:35.285Z"
   },
   {
    "duration": 10,
    "start_time": "2022-02-14T07:39:35.293Z"
   },
   {
    "duration": 10,
    "start_time": "2022-02-14T07:39:35.306Z"
   },
   {
    "duration": 51,
    "start_time": "2022-02-14T07:39:35.318Z"
   },
   {
    "duration": 7,
    "start_time": "2022-02-14T07:45:44.717Z"
   },
   {
    "duration": 66,
    "start_time": "2022-02-14T07:46:17.783Z"
   },
   {
    "duration": 417,
    "start_time": "2022-02-14T07:46:25.453Z"
   },
   {
    "duration": -57,
    "start_time": "2022-02-14T07:46:25.929Z"
   },
   {
    "duration": 4,
    "start_time": "2022-02-14T07:46:44.663Z"
   },
   {
    "duration": 566,
    "start_time": "2022-02-14T07:46:44.671Z"
   },
   {
    "duration": 155,
    "start_time": "2022-02-14T07:46:45.240Z"
   },
   {
    "duration": 124,
    "start_time": "2022-02-14T07:46:45.399Z"
   },
   {
    "duration": 110,
    "start_time": "2022-02-14T07:46:45.526Z"
   },
   {
    "duration": 44,
    "start_time": "2022-02-14T07:46:45.638Z"
   },
   {
    "duration": 34,
    "start_time": "2022-02-14T07:46:45.687Z"
   },
   {
    "duration": 66,
    "start_time": "2022-02-14T07:46:45.724Z"
   },
   {
    "duration": 32,
    "start_time": "2022-02-14T07:46:45.793Z"
   },
   {
    "duration": 48,
    "start_time": "2022-02-14T07:46:45.828Z"
   },
   {
    "duration": 9,
    "start_time": "2022-02-14T07:46:45.880Z"
   },
   {
    "duration": 36,
    "start_time": "2022-02-14T07:46:45.892Z"
   },
   {
    "duration": 40,
    "start_time": "2022-02-14T07:46:45.931Z"
   },
   {
    "duration": 8,
    "start_time": "2022-02-14T07:46:45.974Z"
   },
   {
    "duration": 154,
    "start_time": "2022-02-14T07:46:45.985Z"
   },
   {
    "duration": 27,
    "start_time": "2022-02-14T07:46:46.142Z"
   },
   {
    "duration": 62,
    "start_time": "2022-02-14T07:46:46.172Z"
   },
   {
    "duration": 41,
    "start_time": "2022-02-14T07:46:46.237Z"
   },
   {
    "duration": 22,
    "start_time": "2022-02-14T07:46:46.285Z"
   },
   {
    "duration": 73,
    "start_time": "2022-02-14T07:46:46.311Z"
   },
   {
    "duration": 12,
    "start_time": "2022-02-14T07:46:46.387Z"
   },
   {
    "duration": 27,
    "start_time": "2022-02-14T07:46:46.402Z"
   },
   {
    "duration": 59,
    "start_time": "2022-02-14T07:46:46.432Z"
   },
   {
    "duration": 42,
    "start_time": "2022-02-14T07:46:46.494Z"
   },
   {
    "duration": 29,
    "start_time": "2022-02-14T07:46:46.539Z"
   },
   {
    "duration": 56,
    "start_time": "2022-02-14T07:46:46.571Z"
   },
   {
    "duration": 10,
    "start_time": "2022-02-14T07:46:46.630Z"
   },
   {
    "duration": 12,
    "start_time": "2022-02-14T07:46:46.670Z"
   },
   {
    "duration": 18,
    "start_time": "2022-02-14T07:46:46.685Z"
   },
   {
    "duration": 10,
    "start_time": "2022-02-14T07:46:46.706Z"
   },
   {
    "duration": 86,
    "start_time": "2022-02-14T07:46:46.718Z"
   },
   {
    "duration": 10,
    "start_time": "2022-02-14T07:46:46.807Z"
   },
   {
    "duration": 7,
    "start_time": "2022-02-14T07:46:46.819Z"
   },
   {
    "duration": 86,
    "start_time": "2022-02-14T07:46:46.828Z"
   },
   {
    "duration": 26,
    "start_time": "2022-02-14T07:46:46.917Z"
   },
   {
    "duration": 10,
    "start_time": "2022-02-14T07:46:46.969Z"
   },
   {
    "duration": 10,
    "start_time": "2022-02-14T07:46:46.981Z"
   },
   {
    "duration": 12,
    "start_time": "2022-02-14T07:46:46.994Z"
   },
   {
    "duration": 5,
    "start_time": "2022-02-14T07:46:47.009Z"
   },
   {
    "duration": 94,
    "start_time": "2022-02-14T07:46:47.016Z"
   },
   {
    "duration": 6,
    "start_time": "2022-02-14T07:46:47.112Z"
   },
   {
    "duration": 70,
    "start_time": "2022-02-14T07:46:47.121Z"
   },
   {
    "duration": 648,
    "start_time": "2022-02-14T07:46:47.194Z"
   },
   {
    "duration": 234,
    "start_time": "2022-02-14T07:46:47.845Z"
   },
   {
    "duration": 631,
    "start_time": "2022-02-14T07:46:48.082Z"
   },
   {
    "duration": 308,
    "start_time": "2022-02-14T07:46:48.715Z"
   },
   {
    "duration": 620,
    "start_time": "2022-02-14T07:46:49.025Z"
   },
   {
    "duration": 228,
    "start_time": "2022-02-14T07:46:49.647Z"
   },
   {
    "duration": 632,
    "start_time": "2022-02-14T07:46:49.877Z"
   },
   {
    "duration": 230,
    "start_time": "2022-02-14T07:46:50.512Z"
   },
   {
    "duration": 641,
    "start_time": "2022-02-14T07:46:50.746Z"
   },
   {
    "duration": 238,
    "start_time": "2022-02-14T07:46:51.390Z"
   },
   {
    "duration": 743,
    "start_time": "2022-02-14T07:46:51.631Z"
   },
   {
    "duration": 295,
    "start_time": "2022-02-14T07:46:52.377Z"
   },
   {
    "duration": 801,
    "start_time": "2022-02-14T07:46:52.679Z"
   },
   {
    "duration": 519,
    "start_time": "2022-02-14T07:46:53.483Z"
   },
   {
    "duration": 501,
    "start_time": "2022-02-14T07:46:54.006Z"
   },
   {
    "duration": 480,
    "start_time": "2022-02-14T07:46:54.511Z"
   },
   {
    "duration": 8,
    "start_time": "2022-02-14T07:46:54.994Z"
   },
   {
    "duration": 10,
    "start_time": "2022-02-14T07:46:55.005Z"
   },
   {
    "duration": 51,
    "start_time": "2022-02-14T07:46:55.018Z"
   },
   {
    "duration": 8,
    "start_time": "2022-02-14T07:46:55.072Z"
   },
   {
    "duration": 95,
    "start_time": "2022-02-14T07:53:43.070Z"
   },
   {
    "duration": 11,
    "start_time": "2022-02-14T07:55:09.022Z"
   },
   {
    "duration": 1162,
    "start_time": "2022-02-17T07:08:23.166Z"
   },
   {
    "duration": 444,
    "start_time": "2022-02-17T07:08:24.330Z"
   },
   {
    "duration": 150,
    "start_time": "2022-02-17T07:08:24.777Z"
   },
   {
    "duration": 86,
    "start_time": "2022-02-17T07:08:24.930Z"
   },
   {
    "duration": 71,
    "start_time": "2022-02-17T07:08:25.018Z"
   },
   {
    "duration": 26,
    "start_time": "2022-02-17T07:08:25.091Z"
   },
   {
    "duration": 35,
    "start_time": "2022-02-17T07:08:25.120Z"
   },
   {
    "duration": 52,
    "start_time": "2022-02-17T07:08:25.158Z"
   },
   {
    "duration": 24,
    "start_time": "2022-02-17T07:08:25.213Z"
   },
   {
    "duration": 22,
    "start_time": "2022-02-17T07:08:25.239Z"
   },
   {
    "duration": 6,
    "start_time": "2022-02-17T07:08:25.263Z"
   },
   {
    "duration": 58,
    "start_time": "2022-02-17T07:08:25.271Z"
   },
   {
    "duration": 14,
    "start_time": "2022-02-17T07:08:25.331Z"
   },
   {
    "duration": 6,
    "start_time": "2022-02-17T07:08:25.347Z"
   },
   {
    "duration": 140,
    "start_time": "2022-02-17T07:08:25.355Z"
   },
   {
    "duration": 5,
    "start_time": "2022-02-17T07:08:25.497Z"
   },
   {
    "duration": 48,
    "start_time": "2022-02-17T07:08:25.507Z"
   },
   {
    "duration": 25,
    "start_time": "2022-02-17T07:08:25.557Z"
   },
   {
    "duration": 36,
    "start_time": "2022-02-17T07:08:25.584Z"
   },
   {
    "duration": 35,
    "start_time": "2022-02-17T07:08:25.623Z"
   },
   {
    "duration": 10,
    "start_time": "2022-02-17T07:08:25.660Z"
   },
   {
    "duration": 53,
    "start_time": "2022-02-17T07:08:25.673Z"
   },
   {
    "duration": 23,
    "start_time": "2022-02-17T07:08:25.728Z"
   },
   {
    "duration": 54,
    "start_time": "2022-02-17T07:08:25.753Z"
   },
   {
    "duration": 6,
    "start_time": "2022-02-17T07:08:25.810Z"
   },
   {
    "duration": 53,
    "start_time": "2022-02-17T07:08:25.818Z"
   },
   {
    "duration": 6,
    "start_time": "2022-02-17T07:08:25.875Z"
   },
   {
    "duration": 26,
    "start_time": "2022-02-17T07:08:25.883Z"
   },
   {
    "duration": 10,
    "start_time": "2022-02-17T07:08:25.911Z"
   },
   {
    "duration": 11,
    "start_time": "2022-02-17T07:08:25.923Z"
   },
   {
    "duration": 44,
    "start_time": "2022-02-17T07:08:25.936Z"
   },
   {
    "duration": 35,
    "start_time": "2022-02-17T07:08:25.982Z"
   },
   {
    "duration": 8,
    "start_time": "2022-02-17T07:08:26.019Z"
   },
   {
    "duration": 44,
    "start_time": "2022-02-17T07:08:26.029Z"
   },
   {
    "duration": 41,
    "start_time": "2022-02-17T07:08:26.075Z"
   },
   {
    "duration": 7,
    "start_time": "2022-02-17T07:08:26.118Z"
   },
   {
    "duration": 10,
    "start_time": "2022-02-17T07:08:26.127Z"
   },
   {
    "duration": 15,
    "start_time": "2022-02-17T07:08:26.139Z"
   },
   {
    "duration": 5,
    "start_time": "2022-02-17T07:08:26.156Z"
   },
   {
    "duration": 66,
    "start_time": "2022-02-17T07:08:26.163Z"
   },
   {
    "duration": 4,
    "start_time": "2022-02-17T07:08:26.231Z"
   },
   {
    "duration": 35,
    "start_time": "2022-02-17T07:08:26.237Z"
   },
   {
    "duration": 448,
    "start_time": "2022-02-17T07:08:26.274Z"
   },
   {
    "duration": 174,
    "start_time": "2022-02-17T07:08:26.724Z"
   },
   {
    "duration": 410,
    "start_time": "2022-02-17T07:08:26.900Z"
   },
   {
    "duration": 144,
    "start_time": "2022-02-17T07:08:27.312Z"
   },
   {
    "duration": 395,
    "start_time": "2022-02-17T07:08:27.457Z"
   },
   {
    "duration": 147,
    "start_time": "2022-02-17T07:08:27.854Z"
   },
   {
    "duration": 516,
    "start_time": "2022-02-17T07:08:28.003Z"
   },
   {
    "duration": 156,
    "start_time": "2022-02-17T07:08:28.521Z"
   },
   {
    "duration": 414,
    "start_time": "2022-02-17T07:08:28.679Z"
   },
   {
    "duration": 149,
    "start_time": "2022-02-17T07:08:29.095Z"
   },
   {
    "duration": 405,
    "start_time": "2022-02-17T07:08:29.246Z"
   },
   {
    "duration": 165,
    "start_time": "2022-02-17T07:08:29.653Z"
   },
   {
    "duration": 329,
    "start_time": "2022-02-17T07:08:29.820Z"
   },
   {
    "duration": 422,
    "start_time": "2022-02-17T07:08:30.150Z"
   },
   {
    "duration": 328,
    "start_time": "2022-02-17T07:08:30.573Z"
   },
   {
    "duration": 312,
    "start_time": "2022-02-17T07:08:30.908Z"
   },
   {
    "duration": 6,
    "start_time": "2022-02-17T07:08:31.222Z"
   },
   {
    "duration": 10,
    "start_time": "2022-02-17T07:08:31.230Z"
   },
   {
    "duration": 18,
    "start_time": "2022-02-17T07:08:31.241Z"
   },
   {
    "duration": 29,
    "start_time": "2022-02-17T07:08:31.261Z"
   },
   {
    "duration": 57,
    "start_time": "2022-06-02T12:10:19.819Z"
   },
   {
    "duration": 1130,
    "start_time": "2022-06-15T08:05:48.153Z"
   },
   {
    "duration": 1160,
    "start_time": "2022-06-15T08:05:49.290Z"
   },
   {
    "duration": 142,
    "start_time": "2022-06-15T08:05:50.452Z"
   },
   {
    "duration": 72,
    "start_time": "2022-06-15T08:05:50.597Z"
   },
   {
    "duration": 87,
    "start_time": "2022-06-15T08:05:50.672Z"
   },
   {
    "duration": 36,
    "start_time": "2022-06-15T08:05:50.761Z"
   },
   {
    "duration": 30,
    "start_time": "2022-06-15T08:05:50.799Z"
   },
   {
    "duration": 46,
    "start_time": "2022-06-15T08:05:50.831Z"
   },
   {
    "duration": 31,
    "start_time": "2022-06-15T08:05:50.879Z"
   },
   {
    "duration": 24,
    "start_time": "2022-06-15T08:05:50.913Z"
   },
   {
    "duration": 11,
    "start_time": "2022-06-15T08:05:50.939Z"
   },
   {
    "duration": 25,
    "start_time": "2022-06-15T08:05:50.952Z"
   },
   {
    "duration": 35,
    "start_time": "2022-06-15T08:05:50.978Z"
   },
   {
    "duration": 6,
    "start_time": "2022-06-15T08:05:51.015Z"
   },
   {
    "duration": 99,
    "start_time": "2022-06-15T08:05:51.023Z"
   },
   {
    "duration": 4,
    "start_time": "2022-06-15T08:05:51.124Z"
   },
   {
    "duration": 40,
    "start_time": "2022-06-15T08:05:51.130Z"
   },
   {
    "duration": 32,
    "start_time": "2022-06-15T08:05:51.172Z"
   },
   {
    "duration": 21,
    "start_time": "2022-06-15T08:05:51.206Z"
   },
   {
    "duration": 30,
    "start_time": "2022-06-15T08:05:51.229Z"
   },
   {
    "duration": 8,
    "start_time": "2022-06-15T08:05:51.261Z"
   },
   {
    "duration": 19,
    "start_time": "2022-06-15T08:05:51.294Z"
   },
   {
    "duration": 20,
    "start_time": "2022-06-15T08:05:51.314Z"
   },
   {
    "duration": 27,
    "start_time": "2022-06-15T08:05:51.335Z"
   },
   {
    "duration": 33,
    "start_time": "2022-06-15T08:05:51.364Z"
   },
   {
    "duration": 33,
    "start_time": "2022-06-15T08:05:51.398Z"
   },
   {
    "duration": 5,
    "start_time": "2022-06-15T08:05:51.433Z"
   },
   {
    "duration": 7,
    "start_time": "2022-06-15T08:05:51.442Z"
   },
   {
    "duration": 11,
    "start_time": "2022-06-15T08:05:51.451Z"
   },
   {
    "duration": 35,
    "start_time": "2022-06-15T08:05:51.463Z"
   },
   {
    "duration": 26,
    "start_time": "2022-06-15T08:05:51.500Z"
   },
   {
    "duration": 8,
    "start_time": "2022-06-15T08:05:51.528Z"
   },
   {
    "duration": 6,
    "start_time": "2022-06-15T08:05:51.538Z"
   },
   {
    "duration": 56,
    "start_time": "2022-06-15T08:05:51.545Z"
   },
   {
    "duration": 18,
    "start_time": "2022-06-15T08:05:51.603Z"
   },
   {
    "duration": 8,
    "start_time": "2022-06-15T08:05:51.622Z"
   },
   {
    "duration": 6,
    "start_time": "2022-06-15T08:05:51.631Z"
   },
   {
    "duration": 12,
    "start_time": "2022-06-15T08:05:51.638Z"
   },
   {
    "duration": 3,
    "start_time": "2022-06-15T08:05:51.652Z"
   },
   {
    "duration": 62,
    "start_time": "2022-06-15T08:05:51.657Z"
   },
   {
    "duration": 4,
    "start_time": "2022-06-15T08:05:51.720Z"
   },
   {
    "duration": 46,
    "start_time": "2022-06-15T08:05:51.725Z"
   },
   {
    "duration": 265,
    "start_time": "2022-06-15T08:05:51.773Z"
   },
   {
    "duration": 123,
    "start_time": "2022-06-15T08:05:52.040Z"
   },
   {
    "duration": 258,
    "start_time": "2022-06-15T08:05:52.165Z"
   },
   {
    "duration": 95,
    "start_time": "2022-06-15T08:05:52.424Z"
   },
   {
    "duration": 218,
    "start_time": "2022-06-15T08:05:52.521Z"
   },
   {
    "duration": 89,
    "start_time": "2022-06-15T08:05:52.741Z"
   },
   {
    "duration": 328,
    "start_time": "2022-06-15T08:05:52.832Z"
   },
   {
    "duration": 100,
    "start_time": "2022-06-15T08:05:53.162Z"
   },
   {
    "duration": 246,
    "start_time": "2022-06-15T08:05:53.263Z"
   },
   {
    "duration": 99,
    "start_time": "2022-06-15T08:05:53.511Z"
   },
   {
    "duration": 265,
    "start_time": "2022-06-15T08:05:53.612Z"
   },
   {
    "duration": 96,
    "start_time": "2022-06-15T08:05:53.878Z"
   },
   {
    "duration": 240,
    "start_time": "2022-06-15T08:05:53.976Z"
   },
   {
    "duration": 296,
    "start_time": "2022-06-15T08:05:54.217Z"
   },
   {
    "duration": 214,
    "start_time": "2022-06-15T08:05:54.515Z"
   },
   {
    "duration": 214,
    "start_time": "2022-06-15T08:05:54.730Z"
   },
   {
    "duration": 5,
    "start_time": "2022-06-15T08:05:54.946Z"
   },
   {
    "duration": 36,
    "start_time": "2022-06-15T08:05:54.952Z"
   },
   {
    "duration": 17,
    "start_time": "2022-06-15T08:05:54.989Z"
   },
   {
    "duration": 6,
    "start_time": "2022-06-15T08:05:55.008Z"
   },
   {
    "duration": 986,
    "start_time": "2022-06-15T08:06:55.695Z"
   },
   {
    "duration": 420,
    "start_time": "2022-06-15T08:06:56.683Z"
   },
   {
    "duration": 132,
    "start_time": "2022-06-15T08:06:57.105Z"
   },
   {
    "duration": 84,
    "start_time": "2022-06-15T08:06:57.240Z"
   },
   {
    "duration": 116,
    "start_time": "2022-06-15T08:06:57.326Z"
   },
   {
    "duration": 21,
    "start_time": "2022-06-15T08:06:57.444Z"
   },
   {
    "duration": 44,
    "start_time": "2022-06-15T08:06:57.467Z"
   },
   {
    "duration": 36,
    "start_time": "2022-06-15T08:06:57.513Z"
   },
   {
    "duration": 44,
    "start_time": "2022-06-15T08:06:57.551Z"
   },
   {
    "duration": 19,
    "start_time": "2022-06-15T08:06:57.598Z"
   },
   {
    "duration": 4,
    "start_time": "2022-06-15T08:06:57.619Z"
   },
   {
    "duration": 36,
    "start_time": "2022-06-15T08:06:57.625Z"
   },
   {
    "duration": 46,
    "start_time": "2022-06-15T08:06:57.663Z"
   },
   {
    "duration": 5,
    "start_time": "2022-06-15T08:06:57.710Z"
   },
   {
    "duration": 95,
    "start_time": "2022-06-15T08:06:57.717Z"
   },
   {
    "duration": 6,
    "start_time": "2022-06-15T08:06:57.814Z"
   },
   {
    "duration": 38,
    "start_time": "2022-06-15T08:06:57.822Z"
   },
   {
    "duration": 39,
    "start_time": "2022-06-15T08:06:57.861Z"
   },
   {
    "duration": 15,
    "start_time": "2022-06-15T08:06:57.902Z"
   },
   {
    "duration": 40,
    "start_time": "2022-06-15T08:06:57.919Z"
   },
   {
    "duration": 8,
    "start_time": "2022-06-15T08:06:57.961Z"
   },
   {
    "duration": 43,
    "start_time": "2022-06-15T08:06:57.970Z"
   },
   {
    "duration": 26,
    "start_time": "2022-06-15T08:06:58.014Z"
   },
   {
    "duration": 33,
    "start_time": "2022-06-15T08:06:58.042Z"
   },
   {
    "duration": 5,
    "start_time": "2022-06-15T08:06:58.095Z"
   },
   {
    "duration": 32,
    "start_time": "2022-06-15T08:06:58.102Z"
   },
   {
    "duration": 4,
    "start_time": "2022-06-15T08:06:58.136Z"
   },
   {
    "duration": 8,
    "start_time": "2022-06-15T08:06:58.144Z"
   },
   {
    "duration": 41,
    "start_time": "2022-06-15T08:06:58.153Z"
   },
   {
    "duration": 5,
    "start_time": "2022-06-15T08:06:58.196Z"
   },
   {
    "duration": 33,
    "start_time": "2022-06-15T08:06:58.203Z"
   },
   {
    "duration": 10,
    "start_time": "2022-06-15T08:06:58.238Z"
   },
   {
    "duration": 3,
    "start_time": "2022-06-15T08:06:58.250Z"
   },
   {
    "duration": 55,
    "start_time": "2022-06-15T08:06:58.255Z"
   },
   {
    "duration": 17,
    "start_time": "2022-06-15T08:06:58.311Z"
   },
   {
    "duration": 6,
    "start_time": "2022-06-15T08:06:58.329Z"
   },
   {
    "duration": 10,
    "start_time": "2022-06-15T08:06:58.336Z"
   },
   {
    "duration": 14,
    "start_time": "2022-06-15T08:06:58.348Z"
   },
   {
    "duration": 3,
    "start_time": "2022-06-15T08:06:58.363Z"
   },
   {
    "duration": 57,
    "start_time": "2022-06-15T08:06:58.368Z"
   },
   {
    "duration": 5,
    "start_time": "2022-06-15T08:06:58.427Z"
   },
   {
    "duration": 32,
    "start_time": "2022-06-15T08:06:58.434Z"
   },
   {
    "duration": 261,
    "start_time": "2022-06-15T08:06:58.467Z"
   },
   {
    "duration": 128,
    "start_time": "2022-06-15T08:06:58.730Z"
   },
   {
    "duration": 237,
    "start_time": "2022-06-15T08:06:58.859Z"
   },
   {
    "duration": 82,
    "start_time": "2022-06-15T08:06:59.097Z"
   },
   {
    "duration": 224,
    "start_time": "2022-06-15T08:06:59.195Z"
   },
   {
    "duration": 93,
    "start_time": "2022-06-15T08:06:59.421Z"
   },
   {
    "duration": 320,
    "start_time": "2022-06-15T08:06:59.516Z"
   },
   {
    "duration": 103,
    "start_time": "2022-06-15T08:06:59.838Z"
   },
   {
    "duration": 247,
    "start_time": "2022-06-15T08:06:59.943Z"
   },
   {
    "duration": 107,
    "start_time": "2022-06-15T08:07:00.195Z"
   },
   {
    "duration": 261,
    "start_time": "2022-06-15T08:07:00.303Z"
   },
   {
    "duration": 97,
    "start_time": "2022-06-15T08:07:00.565Z"
   },
   {
    "duration": 225,
    "start_time": "2022-06-15T08:07:00.664Z"
   },
   {
    "duration": 341,
    "start_time": "2022-06-15T08:07:00.894Z"
   },
   {
    "duration": 231,
    "start_time": "2022-06-15T08:07:01.237Z"
   },
   {
    "duration": 208,
    "start_time": "2022-06-15T08:07:01.470Z"
   },
   {
    "duration": 4,
    "start_time": "2022-06-15T08:07:01.680Z"
   },
   {
    "duration": 15,
    "start_time": "2022-06-15T08:07:01.686Z"
   },
   {
    "duration": 23,
    "start_time": "2022-06-15T08:07:01.702Z"
   },
   {
    "duration": 15,
    "start_time": "2022-06-15T08:07:01.726Z"
   }
  ],
  "colab": {
   "collapsed_sections": [],
   "name": "Проект 4. Мегалайн.ipynb",
   "provenance": []
  },
  "kernelspec": {
   "display_name": "Python 3 (ipykernel)",
   "language": "python",
   "name": "python3"
  },
  "language_info": {
   "codemirror_mode": {
    "name": "ipython",
    "version": 3
   },
   "file_extension": ".py",
   "mimetype": "text/x-python",
   "name": "python",
   "nbconvert_exporter": "python",
   "pygments_lexer": "ipython3",
   "version": "3.9.5"
  },
  "toc": {
   "base_numbering": 1,
   "nav_menu": {
    "height": "186px",
    "width": "504px"
   },
   "number_sections": true,
   "sideBar": true,
   "skip_h1_title": true,
   "title_cell": "Содержание",
   "title_sidebar": "Contents",
   "toc_cell": true,
   "toc_position": {
    "height": "calc(100% - 180px)",
    "left": "10px",
    "top": "150px",
    "width": "384px"
   },
   "toc_section_display": true,
   "toc_window_display": true
  }
 },
 "nbformat": 4,
 "nbformat_minor": 1
}
