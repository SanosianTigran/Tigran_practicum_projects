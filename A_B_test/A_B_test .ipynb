{
 "cells": [
  {
   "cell_type": "markdown",
   "metadata": {},
   "source": [
    "## Импорт бибилотек "
   ]
  },
  {
   "cell_type": "code",
   "execution_count": 1,
   "metadata": {},
   "outputs": [],
   "source": [
    "import pandas as pd \n",
    "import numpy as np\n",
    "import seaborn as sns \n",
    "from matplotlib import pyplot as plt\n",
    "import scipy.stats as stats\n",
    "import datetime as dt"
   ]
  },
  {
   "cell_type": "markdown",
   "metadata": {},
   "source": [
    "## Знакомство с данными "
   ]
  },
  {
   "cell_type": "markdown",
   "metadata": {},
   "source": [
    "Сохраню данные в соответствующие переменные и после буду анализировать их. "
   ]
  },
  {
   "cell_type": "code",
   "execution_count": 2,
   "metadata": {},
   "outputs": [],
   "source": [
    "data = pd.read_csv('~hypothesis.csv')\n",
    "orders = pd.read_csv('~orders.csv')\n",
    "visitors = pd.read_csv('~visitors.csv')"
   ]
  },
  {
   "cell_type": "markdown",
   "metadata": {},
   "source": [
    "Для оценки качества полученных данных я воспользуюсь несколькими методами:\n",
    "\n",
    "1. `.info()` для вывода краткой общей информации о таблице;\n",
    "2. `.columns` для проверки корректности стилистики названий столбцов;\n",
    "3.  `duplicated().sum()` для проверки на дубликаты."
   ]
  },
  {
   "cell_type": "markdown",
   "metadata": {},
   "source": [
    "Свою работы я поделю на 2 части: \n",
    "1. Сначала займусь приоритизацией гипотез. Познакомлюсь с данными датасета гипотез и, собственно, сделаю приоритизацию. \n",
    "2. После проанализию A/B тест."
   ]
  },
  {
   "cell_type": "markdown",
   "metadata": {},
   "source": [
    "## Приоритизация гипотез"
   ]
  },
  {
   "cell_type": "markdown",
   "metadata": {},
   "source": [
    "### Проверка данных датафрейма"
   ]
  },
  {
   "cell_type": "code",
   "execution_count": 3,
   "metadata": {},
   "outputs": [
    {
     "name": "stdout",
     "output_type": "stream",
     "text": [
      "<class 'pandas.core.frame.DataFrame'>\n",
      "RangeIndex: 9 entries, 0 to 8\n",
      "Data columns (total 5 columns):\n",
      " #   Column      Non-Null Count  Dtype \n",
      "---  ------      --------------  ----- \n",
      " 0   Hypothesis  9 non-null      object\n",
      " 1   Reach       9 non-null      int64 \n",
      " 2   Impact      9 non-null      int64 \n",
      " 3   Confidence  9 non-null      int64 \n",
      " 4   Efforts     9 non-null      int64 \n",
      "dtypes: int64(4), object(1)\n",
      "memory usage: 488.0+ bytes\n"
     ]
    }
   ],
   "source": [
    "data.info()"
   ]
  },
  {
   "cell_type": "code",
   "execution_count": 4,
   "metadata": {},
   "outputs": [
    {
     "data": {
      "text/html": [
       "<div>\n",
       "<style scoped>\n",
       "    .dataframe tbody tr th:only-of-type {\n",
       "        vertical-align: middle;\n",
       "    }\n",
       "\n",
       "    .dataframe tbody tr th {\n",
       "        vertical-align: top;\n",
       "    }\n",
       "\n",
       "    .dataframe thead th {\n",
       "        text-align: right;\n",
       "    }\n",
       "</style>\n",
       "<table border=\"1\" class=\"dataframe\">\n",
       "  <thead>\n",
       "    <tr style=\"text-align: right;\">\n",
       "      <th></th>\n",
       "      <th>hypothesis</th>\n",
       "      <th>reach</th>\n",
       "      <th>impact</th>\n",
       "      <th>confidence</th>\n",
       "      <th>efforts</th>\n",
       "    </tr>\n",
       "  </thead>\n",
       "  <tbody>\n",
       "    <tr>\n",
       "      <th>0</th>\n",
       "      <td>Добавить два новых канала привлечения трафика, что позволит привлекать на 30% больше пользователей</td>\n",
       "      <td>3</td>\n",
       "      <td>10</td>\n",
       "      <td>8</td>\n",
       "      <td>6</td>\n",
       "    </tr>\n",
       "    <tr>\n",
       "      <th>1</th>\n",
       "      <td>Запустить собственную службу доставки, что сократит срок доставки заказов</td>\n",
       "      <td>2</td>\n",
       "      <td>5</td>\n",
       "      <td>4</td>\n",
       "      <td>10</td>\n",
       "    </tr>\n",
       "    <tr>\n",
       "      <th>2</th>\n",
       "      <td>Добавить блоки рекомендаций товаров на сайт интернет магазина, чтобы повысить конверсию и средни...</td>\n",
       "      <td>8</td>\n",
       "      <td>3</td>\n",
       "      <td>7</td>\n",
       "      <td>3</td>\n",
       "    </tr>\n",
       "    <tr>\n",
       "      <th>3</th>\n",
       "      <td>Изменить структура категорий, что увеличит конверсию, т.к. пользователи быстрее найдут нужный товар</td>\n",
       "      <td>8</td>\n",
       "      <td>3</td>\n",
       "      <td>3</td>\n",
       "      <td>8</td>\n",
       "    </tr>\n",
       "    <tr>\n",
       "      <th>4</th>\n",
       "      <td>Изменить цвет фона главной страницы, чтобы увеличить вовлеченность пользователей</td>\n",
       "      <td>3</td>\n",
       "      <td>1</td>\n",
       "      <td>1</td>\n",
       "      <td>1</td>\n",
       "    </tr>\n",
       "    <tr>\n",
       "      <th>5</th>\n",
       "      <td>Добавить страницу отзывов клиентов о магазине, что позволит увеличить количество заказов</td>\n",
       "      <td>3</td>\n",
       "      <td>2</td>\n",
       "      <td>2</td>\n",
       "      <td>3</td>\n",
       "    </tr>\n",
       "    <tr>\n",
       "      <th>6</th>\n",
       "      <td>Показать на главной странице баннеры с актуальными акциями и распродажами, чтобы увеличить конве...</td>\n",
       "      <td>5</td>\n",
       "      <td>3</td>\n",
       "      <td>8</td>\n",
       "      <td>3</td>\n",
       "    </tr>\n",
       "    <tr>\n",
       "      <th>7</th>\n",
       "      <td>Добавить форму подписки на все основные страницы, чтобы собрать базу клиентов для email-рассылок</td>\n",
       "      <td>10</td>\n",
       "      <td>7</td>\n",
       "      <td>8</td>\n",
       "      <td>5</td>\n",
       "    </tr>\n",
       "    <tr>\n",
       "      <th>8</th>\n",
       "      <td>Запустить акцию, дающую скидку на товар в день рождения</td>\n",
       "      <td>1</td>\n",
       "      <td>9</td>\n",
       "      <td>9</td>\n",
       "      <td>5</td>\n",
       "    </tr>\n",
       "  </tbody>\n",
       "</table>\n",
       "</div>"
      ],
      "text/plain": [
       "                                                                                            hypothesis  \\\n",
       "0   Добавить два новых канала привлечения трафика, что позволит привлекать на 30% больше пользователей   \n",
       "1                            Запустить собственную службу доставки, что сократит срок доставки заказов   \n",
       "2  Добавить блоки рекомендаций товаров на сайт интернет магазина, чтобы повысить конверсию и средни...   \n",
       "3  Изменить структура категорий, что увеличит конверсию, т.к. пользователи быстрее найдут нужный товар   \n",
       "4                     Изменить цвет фона главной страницы, чтобы увеличить вовлеченность пользователей   \n",
       "5             Добавить страницу отзывов клиентов о магазине, что позволит увеличить количество заказов   \n",
       "6  Показать на главной странице баннеры с актуальными акциями и распродажами, чтобы увеличить конве...   \n",
       "7     Добавить форму подписки на все основные страницы, чтобы собрать базу клиентов для email-рассылок   \n",
       "8                                              Запустить акцию, дающую скидку на товар в день рождения   \n",
       "\n",
       "   reach  impact  confidence  efforts  \n",
       "0      3      10           8        6  \n",
       "1      2       5           4       10  \n",
       "2      8       3           7        3  \n",
       "3      8       3           3        8  \n",
       "4      3       1           1        1  \n",
       "5      3       2           2        3  \n",
       "6      5       3           8        3  \n",
       "7     10       7           8        5  \n",
       "8      1       9           9        5  "
      ]
     },
     "execution_count": 4,
     "metadata": {},
     "output_type": "execute_result"
    }
   ],
   "source": [
    "data.columns = data.columns.str.lower()\n",
    "pd.set_option(\"max_colwidth\", 100)\n",
    "data"
   ]
  },
  {
   "cell_type": "code",
   "execution_count": 5,
   "metadata": {},
   "outputs": [
    {
     "data": {
      "text/plain": [
       "0"
      ]
     },
     "execution_count": 5,
     "metadata": {},
     "output_type": "execute_result"
    }
   ],
   "source": [
    "data.duplicated().sum()"
   ]
  },
  {
   "cell_type": "markdown",
   "metadata": {},
   "source": [
    "1. Дублей нет.\n",
    "2. Пропусков нет.\n",
    "3. Перевел заголовки датафрейма в нижний регистр. \n",
    "4. С данными датафрейма с гипотезами все хорошо. Перейдем к приоритизации. "
   ]
  },
  {
   "cell_type": "markdown",
   "metadata": {},
   "source": [
    "### Приоритизация гипотез\n",
    "Взгляну на данные.\n",
    "\n",
    "Сначала приоритизируем методом ICE. После перейдем к фрейворку RICE. Выделю полученные различия и опишу причины их появления."
   ]
  },
  {
   "cell_type": "code",
   "execution_count": 6,
   "metadata": {},
   "outputs": [
    {
     "data": {
      "text/html": [
       "<div>\n",
       "<style scoped>\n",
       "    .dataframe tbody tr th:only-of-type {\n",
       "        vertical-align: middle;\n",
       "    }\n",
       "\n",
       "    .dataframe tbody tr th {\n",
       "        vertical-align: top;\n",
       "    }\n",
       "\n",
       "    .dataframe thead th {\n",
       "        text-align: right;\n",
       "    }\n",
       "</style>\n",
       "<table border=\"1\" class=\"dataframe\">\n",
       "  <thead>\n",
       "    <tr style=\"text-align: right;\">\n",
       "      <th></th>\n",
       "      <th>hypothesis</th>\n",
       "      <th>reach</th>\n",
       "      <th>impact</th>\n",
       "      <th>confidence</th>\n",
       "      <th>efforts</th>\n",
       "    </tr>\n",
       "  </thead>\n",
       "  <tbody>\n",
       "    <tr>\n",
       "      <th>0</th>\n",
       "      <td>Добавить два новых канала привлечения трафика, что позволит привлекать на 30% больше пользователей</td>\n",
       "      <td>3</td>\n",
       "      <td>10</td>\n",
       "      <td>8</td>\n",
       "      <td>6</td>\n",
       "    </tr>\n",
       "    <tr>\n",
       "      <th>1</th>\n",
       "      <td>Запустить собственную службу доставки, что сократит срок доставки заказов</td>\n",
       "      <td>2</td>\n",
       "      <td>5</td>\n",
       "      <td>4</td>\n",
       "      <td>10</td>\n",
       "    </tr>\n",
       "    <tr>\n",
       "      <th>2</th>\n",
       "      <td>Добавить блоки рекомендаций товаров на сайт интернет магазина, чтобы повысить конверсию и средни...</td>\n",
       "      <td>8</td>\n",
       "      <td>3</td>\n",
       "      <td>7</td>\n",
       "      <td>3</td>\n",
       "    </tr>\n",
       "    <tr>\n",
       "      <th>3</th>\n",
       "      <td>Изменить структура категорий, что увеличит конверсию, т.к. пользователи быстрее найдут нужный товар</td>\n",
       "      <td>8</td>\n",
       "      <td>3</td>\n",
       "      <td>3</td>\n",
       "      <td>8</td>\n",
       "    </tr>\n",
       "    <tr>\n",
       "      <th>4</th>\n",
       "      <td>Изменить цвет фона главной страницы, чтобы увеличить вовлеченность пользователей</td>\n",
       "      <td>3</td>\n",
       "      <td>1</td>\n",
       "      <td>1</td>\n",
       "      <td>1</td>\n",
       "    </tr>\n",
       "    <tr>\n",
       "      <th>5</th>\n",
       "      <td>Добавить страницу отзывов клиентов о магазине, что позволит увеличить количество заказов</td>\n",
       "      <td>3</td>\n",
       "      <td>2</td>\n",
       "      <td>2</td>\n",
       "      <td>3</td>\n",
       "    </tr>\n",
       "    <tr>\n",
       "      <th>6</th>\n",
       "      <td>Показать на главной странице баннеры с актуальными акциями и распродажами, чтобы увеличить конве...</td>\n",
       "      <td>5</td>\n",
       "      <td>3</td>\n",
       "      <td>8</td>\n",
       "      <td>3</td>\n",
       "    </tr>\n",
       "    <tr>\n",
       "      <th>7</th>\n",
       "      <td>Добавить форму подписки на все основные страницы, чтобы собрать базу клиентов для email-рассылок</td>\n",
       "      <td>10</td>\n",
       "      <td>7</td>\n",
       "      <td>8</td>\n",
       "      <td>5</td>\n",
       "    </tr>\n",
       "    <tr>\n",
       "      <th>8</th>\n",
       "      <td>Запустить акцию, дающую скидку на товар в день рождения</td>\n",
       "      <td>1</td>\n",
       "      <td>9</td>\n",
       "      <td>9</td>\n",
       "      <td>5</td>\n",
       "    </tr>\n",
       "  </tbody>\n",
       "</table>\n",
       "</div>"
      ],
      "text/plain": [
       "                                                                                            hypothesis  \\\n",
       "0   Добавить два новых канала привлечения трафика, что позволит привлекать на 30% больше пользователей   \n",
       "1                            Запустить собственную службу доставки, что сократит срок доставки заказов   \n",
       "2  Добавить блоки рекомендаций товаров на сайт интернет магазина, чтобы повысить конверсию и средни...   \n",
       "3  Изменить структура категорий, что увеличит конверсию, т.к. пользователи быстрее найдут нужный товар   \n",
       "4                     Изменить цвет фона главной страницы, чтобы увеличить вовлеченность пользователей   \n",
       "5             Добавить страницу отзывов клиентов о магазине, что позволит увеличить количество заказов   \n",
       "6  Показать на главной странице баннеры с актуальными акциями и распродажами, чтобы увеличить конве...   \n",
       "7     Добавить форму подписки на все основные страницы, чтобы собрать базу клиентов для email-рассылок   \n",
       "8                                              Запустить акцию, дающую скидку на товар в день рождения   \n",
       "\n",
       "   reach  impact  confidence  efforts  \n",
       "0      3      10           8        6  \n",
       "1      2       5           4       10  \n",
       "2      8       3           7        3  \n",
       "3      8       3           3        8  \n",
       "4      3       1           1        1  \n",
       "5      3       2           2        3  \n",
       "6      5       3           8        3  \n",
       "7     10       7           8        5  \n",
       "8      1       9           9        5  "
      ]
     },
     "metadata": {},
     "output_type": "display_data"
    }
   ],
   "source": [
    "display(data)"
   ]
  },
  {
   "cell_type": "markdown",
   "metadata": {},
   "source": [
    "**ICE**"
   ]
  },
  {
   "cell_type": "markdown",
   "metadata": {},
   "source": [
    "Формула ICE: \n",
    "$$ICE = \\frac{Impact * Confidence}{Efforts}$$"
   ]
  },
  {
   "cell_type": "code",
   "execution_count": 7,
   "metadata": {},
   "outputs": [
    {
     "data": {
      "text/html": [
       "<div>\n",
       "<style scoped>\n",
       "    .dataframe tbody tr th:only-of-type {\n",
       "        vertical-align: middle;\n",
       "    }\n",
       "\n",
       "    .dataframe tbody tr th {\n",
       "        vertical-align: top;\n",
       "    }\n",
       "\n",
       "    .dataframe thead th {\n",
       "        text-align: right;\n",
       "    }\n",
       "</style>\n",
       "<table border=\"1\" class=\"dataframe\">\n",
       "  <thead>\n",
       "    <tr style=\"text-align: right;\">\n",
       "      <th></th>\n",
       "      <th>index</th>\n",
       "      <th>hypothesis</th>\n",
       "      <th>reach</th>\n",
       "      <th>impact</th>\n",
       "      <th>confidence</th>\n",
       "      <th>efforts</th>\n",
       "      <th>ICE</th>\n",
       "    </tr>\n",
       "  </thead>\n",
       "  <tbody>\n",
       "    <tr>\n",
       "      <th>0</th>\n",
       "      <td>8</td>\n",
       "      <td>Запустить акцию, дающую скидку на товар в день рождения</td>\n",
       "      <td>1</td>\n",
       "      <td>9</td>\n",
       "      <td>9</td>\n",
       "      <td>5</td>\n",
       "      <td>16.200000</td>\n",
       "    </tr>\n",
       "    <tr>\n",
       "      <th>1</th>\n",
       "      <td>0</td>\n",
       "      <td>Добавить два новых канала привлечения трафика, что позволит привлекать на 30% больше пользователей</td>\n",
       "      <td>3</td>\n",
       "      <td>10</td>\n",
       "      <td>8</td>\n",
       "      <td>6</td>\n",
       "      <td>13.333333</td>\n",
       "    </tr>\n",
       "    <tr>\n",
       "      <th>2</th>\n",
       "      <td>7</td>\n",
       "      <td>Добавить форму подписки на все основные страницы, чтобы собрать базу клиентов для email-рассылок</td>\n",
       "      <td>10</td>\n",
       "      <td>7</td>\n",
       "      <td>8</td>\n",
       "      <td>5</td>\n",
       "      <td>11.200000</td>\n",
       "    </tr>\n",
       "    <tr>\n",
       "      <th>3</th>\n",
       "      <td>6</td>\n",
       "      <td>Показать на главной странице баннеры с актуальными акциями и распродажами, чтобы увеличить конве...</td>\n",
       "      <td>5</td>\n",
       "      <td>3</td>\n",
       "      <td>8</td>\n",
       "      <td>3</td>\n",
       "      <td>8.000000</td>\n",
       "    </tr>\n",
       "    <tr>\n",
       "      <th>4</th>\n",
       "      <td>2</td>\n",
       "      <td>Добавить блоки рекомендаций товаров на сайт интернет магазина, чтобы повысить конверсию и средни...</td>\n",
       "      <td>8</td>\n",
       "      <td>3</td>\n",
       "      <td>7</td>\n",
       "      <td>3</td>\n",
       "      <td>7.000000</td>\n",
       "    </tr>\n",
       "    <tr>\n",
       "      <th>5</th>\n",
       "      <td>1</td>\n",
       "      <td>Запустить собственную службу доставки, что сократит срок доставки заказов</td>\n",
       "      <td>2</td>\n",
       "      <td>5</td>\n",
       "      <td>4</td>\n",
       "      <td>10</td>\n",
       "      <td>2.000000</td>\n",
       "    </tr>\n",
       "    <tr>\n",
       "      <th>6</th>\n",
       "      <td>5</td>\n",
       "      <td>Добавить страницу отзывов клиентов о магазине, что позволит увеличить количество заказов</td>\n",
       "      <td>3</td>\n",
       "      <td>2</td>\n",
       "      <td>2</td>\n",
       "      <td>3</td>\n",
       "      <td>1.333333</td>\n",
       "    </tr>\n",
       "    <tr>\n",
       "      <th>7</th>\n",
       "      <td>3</td>\n",
       "      <td>Изменить структура категорий, что увеличит конверсию, т.к. пользователи быстрее найдут нужный товар</td>\n",
       "      <td>8</td>\n",
       "      <td>3</td>\n",
       "      <td>3</td>\n",
       "      <td>8</td>\n",
       "      <td>1.125000</td>\n",
       "    </tr>\n",
       "    <tr>\n",
       "      <th>8</th>\n",
       "      <td>4</td>\n",
       "      <td>Изменить цвет фона главной страницы, чтобы увеличить вовлеченность пользователей</td>\n",
       "      <td>3</td>\n",
       "      <td>1</td>\n",
       "      <td>1</td>\n",
       "      <td>1</td>\n",
       "      <td>1.000000</td>\n",
       "    </tr>\n",
       "  </tbody>\n",
       "</table>\n",
       "</div>"
      ],
      "text/plain": [
       "   index  \\\n",
       "0      8   \n",
       "1      0   \n",
       "2      7   \n",
       "3      6   \n",
       "4      2   \n",
       "5      1   \n",
       "6      5   \n",
       "7      3   \n",
       "8      4   \n",
       "\n",
       "                                                                                            hypothesis  \\\n",
       "0                                              Запустить акцию, дающую скидку на товар в день рождения   \n",
       "1   Добавить два новых канала привлечения трафика, что позволит привлекать на 30% больше пользователей   \n",
       "2     Добавить форму подписки на все основные страницы, чтобы собрать базу клиентов для email-рассылок   \n",
       "3  Показать на главной странице баннеры с актуальными акциями и распродажами, чтобы увеличить конве...   \n",
       "4  Добавить блоки рекомендаций товаров на сайт интернет магазина, чтобы повысить конверсию и средни...   \n",
       "5                            Запустить собственную службу доставки, что сократит срок доставки заказов   \n",
       "6             Добавить страницу отзывов клиентов о магазине, что позволит увеличить количество заказов   \n",
       "7  Изменить структура категорий, что увеличит конверсию, т.к. пользователи быстрее найдут нужный товар   \n",
       "8                     Изменить цвет фона главной страницы, чтобы увеличить вовлеченность пользователей   \n",
       "\n",
       "   reach  impact  confidence  efforts        ICE  \n",
       "0      1       9           9        5  16.200000  \n",
       "1      3      10           8        6  13.333333  \n",
       "2     10       7           8        5  11.200000  \n",
       "3      5       3           8        3   8.000000  \n",
       "4      8       3           7        3   7.000000  \n",
       "5      2       5           4       10   2.000000  \n",
       "6      3       2           2        3   1.333333  \n",
       "7      8       3           3        8   1.125000  \n",
       "8      3       1           1        1   1.000000  "
      ]
     },
     "execution_count": 7,
     "metadata": {},
     "output_type": "execute_result"
    }
   ],
   "source": [
    "data['ICE'] = data['impact'] * data['confidence'] / data['efforts']\n",
    "data = data.sort_values(by='ICE', ascending=False).reset_index()\n",
    "data"
   ]
  },
  {
   "cell_type": "markdown",
   "metadata": {},
   "source": [
    "**RICE**"
   ]
  },
  {
   "cell_type": "markdown",
   "metadata": {},
   "source": [
    "Формула RICE:\n",
    "\n",
    "$$RICE = \\frac{Rearch * Impact * Confidence}{Efforts}$$"
   ]
  },
  {
   "cell_type": "code",
   "execution_count": 8,
   "metadata": {},
   "outputs": [
    {
     "data": {
      "text/html": [
       "<div>\n",
       "<style scoped>\n",
       "    .dataframe tbody tr th:only-of-type {\n",
       "        vertical-align: middle;\n",
       "    }\n",
       "\n",
       "    .dataframe tbody tr th {\n",
       "        vertical-align: top;\n",
       "    }\n",
       "\n",
       "    .dataframe thead th {\n",
       "        text-align: right;\n",
       "    }\n",
       "</style>\n",
       "<table border=\"1\" class=\"dataframe\">\n",
       "  <thead>\n",
       "    <tr style=\"text-align: right;\">\n",
       "      <th></th>\n",
       "      <th>index</th>\n",
       "      <th>hypothesis</th>\n",
       "      <th>reach</th>\n",
       "      <th>impact</th>\n",
       "      <th>confidence</th>\n",
       "      <th>efforts</th>\n",
       "      <th>ICE</th>\n",
       "      <th>RICE</th>\n",
       "    </tr>\n",
       "  </thead>\n",
       "  <tbody>\n",
       "    <tr>\n",
       "      <th>0</th>\n",
       "      <td>8</td>\n",
       "      <td>Запустить акцию, дающую скидку на товар в день рождения</td>\n",
       "      <td>1</td>\n",
       "      <td>9</td>\n",
       "      <td>9</td>\n",
       "      <td>5</td>\n",
       "      <td>16.200000</td>\n",
       "      <td>16.2</td>\n",
       "    </tr>\n",
       "    <tr>\n",
       "      <th>1</th>\n",
       "      <td>0</td>\n",
       "      <td>Добавить два новых канала привлечения трафика, что позволит привлекать на 30% больше пользователей</td>\n",
       "      <td>3</td>\n",
       "      <td>10</td>\n",
       "      <td>8</td>\n",
       "      <td>6</td>\n",
       "      <td>13.333333</td>\n",
       "      <td>40.0</td>\n",
       "    </tr>\n",
       "    <tr>\n",
       "      <th>2</th>\n",
       "      <td>7</td>\n",
       "      <td>Добавить форму подписки на все основные страницы, чтобы собрать базу клиентов для email-рассылок</td>\n",
       "      <td>10</td>\n",
       "      <td>7</td>\n",
       "      <td>8</td>\n",
       "      <td>5</td>\n",
       "      <td>11.200000</td>\n",
       "      <td>112.0</td>\n",
       "    </tr>\n",
       "    <tr>\n",
       "      <th>3</th>\n",
       "      <td>6</td>\n",
       "      <td>Показать на главной странице баннеры с актуальными акциями и распродажами, чтобы увеличить конве...</td>\n",
       "      <td>5</td>\n",
       "      <td>3</td>\n",
       "      <td>8</td>\n",
       "      <td>3</td>\n",
       "      <td>8.000000</td>\n",
       "      <td>40.0</td>\n",
       "    </tr>\n",
       "    <tr>\n",
       "      <th>4</th>\n",
       "      <td>2</td>\n",
       "      <td>Добавить блоки рекомендаций товаров на сайт интернет магазина, чтобы повысить конверсию и средни...</td>\n",
       "      <td>8</td>\n",
       "      <td>3</td>\n",
       "      <td>7</td>\n",
       "      <td>3</td>\n",
       "      <td>7.000000</td>\n",
       "      <td>56.0</td>\n",
       "    </tr>\n",
       "    <tr>\n",
       "      <th>5</th>\n",
       "      <td>1</td>\n",
       "      <td>Запустить собственную службу доставки, что сократит срок доставки заказов</td>\n",
       "      <td>2</td>\n",
       "      <td>5</td>\n",
       "      <td>4</td>\n",
       "      <td>10</td>\n",
       "      <td>2.000000</td>\n",
       "      <td>4.0</td>\n",
       "    </tr>\n",
       "    <tr>\n",
       "      <th>6</th>\n",
       "      <td>5</td>\n",
       "      <td>Добавить страницу отзывов клиентов о магазине, что позволит увеличить количество заказов</td>\n",
       "      <td>3</td>\n",
       "      <td>2</td>\n",
       "      <td>2</td>\n",
       "      <td>3</td>\n",
       "      <td>1.333333</td>\n",
       "      <td>4.0</td>\n",
       "    </tr>\n",
       "    <tr>\n",
       "      <th>7</th>\n",
       "      <td>3</td>\n",
       "      <td>Изменить структура категорий, что увеличит конверсию, т.к. пользователи быстрее найдут нужный товар</td>\n",
       "      <td>8</td>\n",
       "      <td>3</td>\n",
       "      <td>3</td>\n",
       "      <td>8</td>\n",
       "      <td>1.125000</td>\n",
       "      <td>9.0</td>\n",
       "    </tr>\n",
       "    <tr>\n",
       "      <th>8</th>\n",
       "      <td>4</td>\n",
       "      <td>Изменить цвет фона главной страницы, чтобы увеличить вовлеченность пользователей</td>\n",
       "      <td>3</td>\n",
       "      <td>1</td>\n",
       "      <td>1</td>\n",
       "      <td>1</td>\n",
       "      <td>1.000000</td>\n",
       "      <td>3.0</td>\n",
       "    </tr>\n",
       "  </tbody>\n",
       "</table>\n",
       "</div>"
      ],
      "text/plain": [
       "   index  \\\n",
       "0      8   \n",
       "1      0   \n",
       "2      7   \n",
       "3      6   \n",
       "4      2   \n",
       "5      1   \n",
       "6      5   \n",
       "7      3   \n",
       "8      4   \n",
       "\n",
       "                                                                                            hypothesis  \\\n",
       "0                                              Запустить акцию, дающую скидку на товар в день рождения   \n",
       "1   Добавить два новых канала привлечения трафика, что позволит привлекать на 30% больше пользователей   \n",
       "2     Добавить форму подписки на все основные страницы, чтобы собрать базу клиентов для email-рассылок   \n",
       "3  Показать на главной странице баннеры с актуальными акциями и распродажами, чтобы увеличить конве...   \n",
       "4  Добавить блоки рекомендаций товаров на сайт интернет магазина, чтобы повысить конверсию и средни...   \n",
       "5                            Запустить собственную службу доставки, что сократит срок доставки заказов   \n",
       "6             Добавить страницу отзывов клиентов о магазине, что позволит увеличить количество заказов   \n",
       "7  Изменить структура категорий, что увеличит конверсию, т.к. пользователи быстрее найдут нужный товар   \n",
       "8                     Изменить цвет фона главной страницы, чтобы увеличить вовлеченность пользователей   \n",
       "\n",
       "   reach  impact  confidence  efforts        ICE   RICE  \n",
       "0      1       9           9        5  16.200000   16.2  \n",
       "1      3      10           8        6  13.333333   40.0  \n",
       "2     10       7           8        5  11.200000  112.0  \n",
       "3      5       3           8        3   8.000000   40.0  \n",
       "4      8       3           7        3   7.000000   56.0  \n",
       "5      2       5           4       10   2.000000    4.0  \n",
       "6      3       2           2        3   1.333333    4.0  \n",
       "7      8       3           3        8   1.125000    9.0  \n",
       "8      3       1           1        1   1.000000    3.0  "
      ]
     },
     "execution_count": 8,
     "metadata": {},
     "output_type": "execute_result"
    }
   ],
   "source": [
    "data['RICE'] = data['reach'] * data['impact'] * data['confidence'] / data['efforts']\n",
    "pd.set_option(\"max_colwidth\", 100)\n",
    "data.sort_values(by='RICE', ascending=False).reset_index()\n",
    "data"
   ]
  },
  {
   "cell_type": "code",
   "execution_count": 9,
   "metadata": {},
   "outputs": [
    {
     "data": {
      "image/png": "[encoded data removed]",
      "text/plain": [
       "<Figure size 1080x360 with 1 Axes>"
      ]
     },
     "metadata": {
      "needs_background": "light"
     },
     "output_type": "display_data"
    }
   ],
   "source": [
    "x_values = pd.Series(range(0,len(data['ICE'])))\n",
    "fig = plt.figure(figsize=(15,5))\n",
    "plt.scatter(data['index'], data['ICE'])\n",
    "plt.scatter(data['index'], data['RICE'])\n",
    "plt.xlabel('Номер гипотезы')\n",
    "plt.ylabel('Значение')\n",
    "plt.title('Значения ICE и RICE')\n",
    "plt.show()"
   ]
  },
  {
   "cell_type": "markdown",
   "metadata": {},
   "source": [
    "### Выводы после приоритизации гипотез"
   ]
  },
  {
   "cell_type": "markdown",
   "metadata": {},
   "source": [
    "В рамках проведения приоритизации гипотез методом `ICE` мы видим, что наиболее перспективной является 9-я гипотеза \"Запустить акцию, дающую скидку на товар в день рождения\", поскольку именно у этой гипотизы наилучшее соотношение значения влияния (насколько сильно) изменения на пользователей, уверенности в этом и необходимых трудозатрат на реализацию изменения. \n",
    "\n",
    "В тройке лидеров также гипотеза о добавлении двух новых каналов привлечения трафика и добавлении формы подписки на основные страницы, чтобы собрать базу клиентов для email-рассылок. \n",
    "\n",
    "При применении модификации `RICE` мы видим существенное изменение в приоритизации гипотез. Так, лидер метода `ICE` уже только на 5-м месте. В первую же тройку вошли 8-я (\"Добавить форму подписки на все основные страницы сайта, чтобы собрать базу клиентов для email-рассылок.\"), 3-я (\"Добавить блоки рекомендация товаров на сайт интернет магазина, чтобы повысить конверсию и средний чек заказа\") и 1-я (\"Добавить два новых канала привлечения трафика, что позволит привлекать на 30% больше пользователей\"). \n",
    "\n",
    "Произошло это из-за того, что метод `RICE` в отличие от `ICE` учитывает еще один показатель - Reach (скольких пользователей затронет изменение, которое вы хотите внести). И в ходе анализа мы выявили, что при лучшем соотношении значения влияния внесенных изменений на пользователей, уверенности в этом и необходимых трудозатрат на реализацию изменений 9-я гипотеза (лидер метода `ICE`) охватывает значительно меньше аудитории, чем 4 гипотезы, которые выше в рейтинге. Это, собственно, и служит причиной полученных изменений, поскольку охват как показатель для внедрения изменений критичен. "
   ]
  },
  {
   "cell_type": "markdown",
   "metadata": {},
   "source": [
    "## Анализ А/B теста\n",
    "\n",
    "1. В данном блоке своей работы я также сначала взгяну на полученным данные. \n",
    "2. Использую методы, описанные ниже для знакомства с датафреймами.\n",
    "3. Сделаю предобработку, если потребуется.\n",
    "4. После перейду к анализу.\n",
    "\n",
    "Я понимаю, что пункты 1 и 2 в моей работе уже повторяются, поскольку все знакомство и предобработку можно было сделать в одном блоке, но мне удобнее разделить работу по смысловым задачам таким образом. \n",
    "\n",
    "Методы для ознакомления с данными: \n",
    "1. `.info()` для вывода краткой общей информации о таблице;\n",
    "2. `.columns` для проверки корректности стилистики названий столбцов;\n",
    "3.  `duplicated().sum()` для проверки на дубликаты."
   ]
  },
  {
   "cell_type": "markdown",
   "metadata": {},
   "source": [
    "### Знакомство с полученным датафреймами"
   ]
  },
  {
   "cell_type": "code",
   "execution_count": 10,
   "metadata": {},
   "outputs": [
    {
     "name": "stdout",
     "output_type": "stream",
     "text": [
      "<class 'pandas.core.frame.DataFrame'>\n",
      "RangeIndex: 1197 entries, 0 to 1196\n",
      "Data columns (total 5 columns):\n",
      " #   Column         Non-Null Count  Dtype \n",
      "---  ------         --------------  ----- \n",
      " 0   transactionId  1197 non-null   int64 \n",
      " 1   visitorId      1197 non-null   int64 \n",
      " 2   date           1197 non-null   object\n",
      " 3   revenue        1197 non-null   int64 \n",
      " 4   group          1197 non-null   object\n",
      "dtypes: int64(3), object(2)\n",
      "memory usage: 46.9+ KB\n"
     ]
    }
   ],
   "source": [
    "orders.info()"
   ]
  },
  {
   "cell_type": "code",
   "execution_count": 11,
   "metadata": {},
   "outputs": [
    {
     "data": {
      "text/plain": [
       "Index(['transactionId', 'visitorId', 'date', 'revenue', 'group'], dtype='object')"
      ]
     },
     "execution_count": 11,
     "metadata": {},
     "output_type": "execute_result"
    }
   ],
   "source": [
    "orders.columns"
   ]
  },
  {
   "cell_type": "code",
   "execution_count": 12,
   "metadata": {},
   "outputs": [
    {
     "data": {
      "text/plain": [
       "0"
      ]
     },
     "execution_count": 12,
     "metadata": {},
     "output_type": "execute_result"
    }
   ],
   "source": [
    "orders.duplicated().sum()"
   ]
  },
  {
   "cell_type": "code",
   "execution_count": 13,
   "metadata": {},
   "outputs": [
    {
     "name": "stdout",
     "output_type": "stream",
     "text": [
      "<class 'pandas.core.frame.DataFrame'>\n",
      "RangeIndex: 62 entries, 0 to 61\n",
      "Data columns (total 3 columns):\n",
      " #   Column    Non-Null Count  Dtype \n",
      "---  ------    --------------  ----- \n",
      " 0   date      62 non-null     object\n",
      " 1   group     62 non-null     object\n",
      " 2   visitors  62 non-null     int64 \n",
      "dtypes: int64(1), object(2)\n",
      "memory usage: 1.6+ KB\n"
     ]
    }
   ],
   "source": [
    "visitors.info()"
   ]
  },
  {
   "cell_type": "code",
   "execution_count": 14,
   "metadata": {},
   "outputs": [
    {
     "data": {
      "text/plain": [
       "Index(['date', 'group', 'visitors'], dtype='object')"
      ]
     },
     "execution_count": 14,
     "metadata": {},
     "output_type": "execute_result"
    }
   ],
   "source": [
    "visitors.columns"
   ]
  },
  {
   "cell_type": "code",
   "execution_count": 15,
   "metadata": {},
   "outputs": [
    {
     "data": {
      "text/plain": [
       "0"
      ]
     },
     "execution_count": 15,
     "metadata": {},
     "output_type": "execute_result"
    }
   ],
   "source": [
    "visitors.duplicated().sum()"
   ]
  },
  {
   "cell_type": "markdown",
   "metadata": {},
   "source": [
    "### Выводы по знакомству с полученным данными "
   ]
  },
  {
   "cell_type": "markdown",
   "metadata": {},
   "source": [
    "1. В обоих датафреймах нет пропусков.\n",
    "2. В обоих датафреймах нет явных дубликатов.\n",
    "3. Стоит добавить \"змеиный регистр\" в заголовки датафрейма с заказами (можно, наверно, этого и не делать)\n",
    "4. Приведу также формат данных к нужному в столбцах с датами. "
   ]
  },
  {
   "cell_type": "markdown",
   "metadata": {},
   "source": [
    "### Предобработка данных \n",
    "\n",
    "Она займет совсем немного времени."
   ]
  },
  {
   "cell_type": "code",
   "execution_count": 16,
   "metadata": {},
   "outputs": [
    {
     "data": {
      "text/html": [
       "<div>\n",
       "<style scoped>\n",
       "    .dataframe tbody tr th:only-of-type {\n",
       "        vertical-align: middle;\n",
       "    }\n",
       "\n",
       "    .dataframe tbody tr th {\n",
       "        vertical-align: top;\n",
       "    }\n",
       "\n",
       "    .dataframe thead th {\n",
       "        text-align: right;\n",
       "    }\n",
       "</style>\n",
       "<table border=\"1\" class=\"dataframe\">\n",
       "  <thead>\n",
       "    <tr style=\"text-align: right;\">\n",
       "      <th></th>\n",
       "      <th>transaction_id</th>\n",
       "      <th>visitor_id</th>\n",
       "      <th>date</th>\n",
       "      <th>revenue</th>\n",
       "      <th>group</th>\n",
       "    </tr>\n",
       "  </thead>\n",
       "  <tbody>\n",
       "    <tr>\n",
       "      <th>0</th>\n",
       "      <td>3667963787</td>\n",
       "      <td>3312258926</td>\n",
       "      <td>2019-08-15</td>\n",
       "      <td>1650</td>\n",
       "      <td>B</td>\n",
       "    </tr>\n",
       "    <tr>\n",
       "      <th>1</th>\n",
       "      <td>2804400009</td>\n",
       "      <td>3642806036</td>\n",
       "      <td>2019-08-15</td>\n",
       "      <td>730</td>\n",
       "      <td>B</td>\n",
       "    </tr>\n",
       "    <tr>\n",
       "      <th>2</th>\n",
       "      <td>2961555356</td>\n",
       "      <td>4069496402</td>\n",
       "      <td>2019-08-15</td>\n",
       "      <td>400</td>\n",
       "      <td>A</td>\n",
       "    </tr>\n",
       "    <tr>\n",
       "      <th>3</th>\n",
       "      <td>3797467345</td>\n",
       "      <td>1196621759</td>\n",
       "      <td>2019-08-15</td>\n",
       "      <td>9759</td>\n",
       "      <td>B</td>\n",
       "    </tr>\n",
       "    <tr>\n",
       "      <th>4</th>\n",
       "      <td>2282983706</td>\n",
       "      <td>2322279887</td>\n",
       "      <td>2019-08-15</td>\n",
       "      <td>2308</td>\n",
       "      <td>B</td>\n",
       "    </tr>\n",
       "  </tbody>\n",
       "</table>\n",
       "</div>"
      ],
      "text/plain": [
       "   transaction_id  visitor_id        date  revenue group\n",
       "0      3667963787  3312258926  2019-08-15     1650     B\n",
       "1      2804400009  3642806036  2019-08-15      730     B\n",
       "2      2961555356  4069496402  2019-08-15      400     A\n",
       "3      3797467345  1196621759  2019-08-15     9759     B\n",
       "4      2282983706  2322279887  2019-08-15     2308     B"
      ]
     },
     "execution_count": 16,
     "metadata": {},
     "output_type": "execute_result"
    }
   ],
   "source": [
    "orders = orders.rename(columns={'transactionId' : 'transaction_id', 'visitorId' : 'visitor_id'})\n",
    "orders.head()"
   ]
  },
  {
   "cell_type": "code",
   "execution_count": 17,
   "metadata": {},
   "outputs": [
    {
     "name": "stdout",
     "output_type": "stream",
     "text": [
      "<class 'pandas.core.frame.DataFrame'>\n",
      "RangeIndex: 1197 entries, 0 to 1196\n",
      "Data columns (total 5 columns):\n",
      " #   Column          Non-Null Count  Dtype         \n",
      "---  ------          --------------  -----         \n",
      " 0   transaction_id  1197 non-null   int64         \n",
      " 1   visitor_id      1197 non-null   int64         \n",
      " 2   date            1197 non-null   datetime64[ns]\n",
      " 3   revenue         1197 non-null   int64         \n",
      " 4   group           1197 non-null   object        \n",
      "dtypes: datetime64[ns](1), int64(3), object(1)\n",
      "memory usage: 46.9+ KB\n"
     ]
    }
   ],
   "source": [
    "orders['date'] = orders['date'].map(\n",
    "    lambda x: dt.datetime.strptime(x, '%Y-%m-%d'))\n",
    "orders.info()"
   ]
  },
  {
   "cell_type": "code",
   "execution_count": 18,
   "metadata": {},
   "outputs": [
    {
     "name": "stdout",
     "output_type": "stream",
     "text": [
      "<class 'pandas.core.frame.DataFrame'>\n",
      "RangeIndex: 62 entries, 0 to 61\n",
      "Data columns (total 3 columns):\n",
      " #   Column    Non-Null Count  Dtype         \n",
      "---  ------    --------------  -----         \n",
      " 0   date      62 non-null     datetime64[ns]\n",
      " 1   group     62 non-null     object        \n",
      " 2   visitors  62 non-null     int64         \n",
      "dtypes: datetime64[ns](1), int64(1), object(1)\n",
      "memory usage: 1.6+ KB\n"
     ]
    }
   ],
   "source": [
    "visitors['date'] = visitors['date'].map(\n",
    "    lambda x: dt.datetime.strptime(x, '%Y-%m-%d'))\n",
    "visitors.info()"
   ]
  },
  {
   "cell_type": "markdown",
   "metadata": {},
   "source": [
    "Закончили с предобработкой данных. В данном блоке делать больше нечего. Перейдем непосредственно к анализу и интерпретации результатов. "
   ]
  },
  {
   "cell_type": "markdown",
   "metadata": {},
   "source": [
    "**Проверка кол-ва пользователей в выборках**"
   ]
  },
  {
   "cell_type": "code",
   "execution_count": 19,
   "metadata": {},
   "outputs": [
    {
     "name": "stdout",
     "output_type": "stream",
     "text": [
      "Кол-во пользователей, попавших в выборку A: 557\n",
      "Кол-во пользователей, попавших в выборку B: 640\n"
     ]
    }
   ],
   "source": [
    "print('Кол-во пользователей, попавших в выборку A:', orders[orders['group'] == 'A']['visitor_id'].count())\n",
    "print('Кол-во пользователей, попавших в выборку B:', orders[orders['group'] == 'B']['visitor_id'].count())"
   ]
  },
  {
   "cell_type": "markdown",
   "metadata": {},
   "source": [
    "Видим, что по кол-ву выборки немного отличаются друг от друга (46,5% и 53,5%). В целом, это не критично.\n",
    "\n",
    "Также посмотрю, есть ли у нас пользователи, которые попали в обе выборки."
   ]
  },
  {
   "cell_type": "code",
   "execution_count": 20,
   "metadata": {},
   "outputs": [
    {
     "data": {
      "text/plain": [
       "58"
      ]
     },
     "execution_count": 20,
     "metadata": {},
     "output_type": "execute_result"
    }
   ],
   "source": [
    "orders.groupby(by='visitor_id').agg({'group' : 'nunique'}).query('group > 1').shape[0]"
   ]
  },
  {
   "cell_type": "markdown",
   "metadata": {},
   "source": [
    "Видим, что пересечений по пользователям в двух группах 58.Удалять, наверно, их не стоит, так как мы сильно исказим наш тест. "
   ]
  },
  {
   "cell_type": "markdown",
   "metadata": {},
   "source": [
    "### Подготовка данных к построению графиков"
   ]
  },
  {
   "cell_type": "markdown",
   "metadata": {},
   "source": [
    "У нас пока что нет кумулятивных данных по нашим выборкам. Получим их. Для этого создадим массив уникальных пар значений дат и групп теста, чтобы потом собрать агрегированные данные по датам о заказах."
   ]
  },
  {
   "cell_type": "code",
   "execution_count": 21,
   "metadata": {},
   "outputs": [],
   "source": [
    "datesGroups = orders[['date','group']].drop_duplicates() "
   ]
  },
  {
   "cell_type": "markdown",
   "metadata": {},
   "source": [
    "Аггрегируем данные для датафрейма `orders`. Найдем максимальную дату, число уникальных ID заказов и пользователей и подсчитаем сумму средних чеков. Сохраню данные в датафрейм `ordersAggregated`."
   ]
  },
  {
   "cell_type": "code",
   "execution_count": 22,
   "metadata": {},
   "outputs": [
    {
     "data": {
      "text/html": [
       "<div>\n",
       "<style scoped>\n",
       "    .dataframe tbody tr th:only-of-type {\n",
       "        vertical-align: middle;\n",
       "    }\n",
       "\n",
       "    .dataframe tbody tr th {\n",
       "        vertical-align: top;\n",
       "    }\n",
       "\n",
       "    .dataframe thead th {\n",
       "        text-align: right;\n",
       "    }\n",
       "</style>\n",
       "<table border=\"1\" class=\"dataframe\">\n",
       "  <thead>\n",
       "    <tr style=\"text-align: right;\">\n",
       "      <th></th>\n",
       "      <th>date</th>\n",
       "      <th>group</th>\n",
       "      <th>transaction_id</th>\n",
       "      <th>visitor_id</th>\n",
       "      <th>revenue</th>\n",
       "    </tr>\n",
       "  </thead>\n",
       "  <tbody>\n",
       "    <tr>\n",
       "      <th>55</th>\n",
       "      <td>2019-08-01</td>\n",
       "      <td>A</td>\n",
       "      <td>24</td>\n",
       "      <td>20</td>\n",
       "      <td>148579</td>\n",
       "    </tr>\n",
       "    <tr>\n",
       "      <th>66</th>\n",
       "      <td>2019-08-01</td>\n",
       "      <td>B</td>\n",
       "      <td>21</td>\n",
       "      <td>20</td>\n",
       "      <td>101217</td>\n",
       "    </tr>\n",
       "    <tr>\n",
       "      <th>175</th>\n",
       "      <td>2019-08-02</td>\n",
       "      <td>A</td>\n",
       "      <td>44</td>\n",
       "      <td>38</td>\n",
       "      <td>242401</td>\n",
       "    </tr>\n",
       "    <tr>\n",
       "      <th>173</th>\n",
       "      <td>2019-08-02</td>\n",
       "      <td>B</td>\n",
       "      <td>45</td>\n",
       "      <td>43</td>\n",
       "      <td>266748</td>\n",
       "    </tr>\n",
       "    <tr>\n",
       "      <th>291</th>\n",
       "      <td>2019-08-03</td>\n",
       "      <td>A</td>\n",
       "      <td>68</td>\n",
       "      <td>62</td>\n",
       "      <td>354874</td>\n",
       "    </tr>\n",
       "  </tbody>\n",
       "</table>\n",
       "</div>"
      ],
      "text/plain": [
       "          date group  transaction_id  visitor_id  revenue\n",
       "55  2019-08-01     A              24          20   148579\n",
       "66  2019-08-01     B              21          20   101217\n",
       "175 2019-08-02     A              44          38   242401\n",
       "173 2019-08-02     B              45          43   266748\n",
       "291 2019-08-03     A              68          62   354874"
      ]
     },
     "execution_count": 22,
     "metadata": {},
     "output_type": "execute_result"
    }
   ],
   "source": [
    "ordersAggregated = datesGroups.apply(lambda x: orders[np.logical_and(orders['date'] <= x['date'], orders['group'] == x['group'])]\\\n",
    ".agg({'date' : 'max', 'group' : 'max', 'transaction_id' : 'nunique', 'visitor_id' : 'nunique', 'revenue' : 'sum'}), axis=1).sort_values(by=['date','group'])\n",
    "ordersAggregated.head()"
   ]
  },
  {
   "cell_type": "markdown",
   "metadata": {},
   "source": [
    "То же самое делаем и для датафрейма `visitors`."
   ]
  },
  {
   "cell_type": "code",
   "execution_count": 23,
   "metadata": {},
   "outputs": [
    {
     "data": {
      "text/html": [
       "<div>\n",
       "<style scoped>\n",
       "    .dataframe tbody tr th:only-of-type {\n",
       "        vertical-align: middle;\n",
       "    }\n",
       "\n",
       "    .dataframe tbody tr th {\n",
       "        vertical-align: top;\n",
       "    }\n",
       "\n",
       "    .dataframe thead th {\n",
       "        text-align: right;\n",
       "    }\n",
       "</style>\n",
       "<table border=\"1\" class=\"dataframe\">\n",
       "  <thead>\n",
       "    <tr style=\"text-align: right;\">\n",
       "      <th></th>\n",
       "      <th>date</th>\n",
       "      <th>group</th>\n",
       "      <th>visitors</th>\n",
       "    </tr>\n",
       "  </thead>\n",
       "  <tbody>\n",
       "    <tr>\n",
       "      <th>55</th>\n",
       "      <td>2019-08-01</td>\n",
       "      <td>A</td>\n",
       "      <td>719</td>\n",
       "    </tr>\n",
       "    <tr>\n",
       "      <th>66</th>\n",
       "      <td>2019-08-01</td>\n",
       "      <td>B</td>\n",
       "      <td>713</td>\n",
       "    </tr>\n",
       "    <tr>\n",
       "      <th>175</th>\n",
       "      <td>2019-08-02</td>\n",
       "      <td>A</td>\n",
       "      <td>1338</td>\n",
       "    </tr>\n",
       "    <tr>\n",
       "      <th>173</th>\n",
       "      <td>2019-08-02</td>\n",
       "      <td>B</td>\n",
       "      <td>1294</td>\n",
       "    </tr>\n",
       "    <tr>\n",
       "      <th>291</th>\n",
       "      <td>2019-08-03</td>\n",
       "      <td>A</td>\n",
       "      <td>1845</td>\n",
       "    </tr>\n",
       "  </tbody>\n",
       "</table>\n",
       "</div>"
      ],
      "text/plain": [
       "          date group  visitors\n",
       "55  2019-08-01     A       719\n",
       "66  2019-08-01     B       713\n",
       "175 2019-08-02     A      1338\n",
       "173 2019-08-02     B      1294\n",
       "291 2019-08-03     A      1845"
      ]
     },
     "execution_count": 23,
     "metadata": {},
     "output_type": "execute_result"
    }
   ],
   "source": [
    "visitorsAggregated = datesGroups.apply(lambda x: visitors[np.logical_and(visitors['date'] <= x['date'], visitors['group'] == x['group'])].agg({'date' : 'max', 'group' : 'max', 'visitors' : 'sum'}), axis=1).sort_values(by=['date','group']) \n",
    "visitorsAggregated.head()"
   ]
  },
  {
   "cell_type": "markdown",
   "metadata": {},
   "source": [
    "Наконец, объединим 2 получившихся датафрейма в один, чтобы было удобнее дальше работать с ним (и только с ним одним). Переменную назову `cumulativeData`."
   ]
  },
  {
   "cell_type": "code",
   "execution_count": 24,
   "metadata": {},
   "outputs": [],
   "source": [
    "cumulativeData = ordersAggregated.merge(visitorsAggregated, left_on=['date', 'group'], right_on=['date', 'group'])\n",
    "cumulativeData.columns = ['date', 'group', 'orders', 'buyers', 'revenue', 'visitors']"
   ]
  },
  {
   "cell_type": "code",
   "execution_count": 25,
   "metadata": {},
   "outputs": [
    {
     "name": "stdout",
     "output_type": "stream",
     "text": [
      "<class 'pandas.core.frame.DataFrame'>\n",
      "Int64Index: 62 entries, 0 to 61\n",
      "Data columns (total 6 columns):\n",
      " #   Column    Non-Null Count  Dtype         \n",
      "---  ------    --------------  -----         \n",
      " 0   date      62 non-null     datetime64[ns]\n",
      " 1   group     62 non-null     object        \n",
      " 2   orders    62 non-null     int64         \n",
      " 3   buyers    62 non-null     int64         \n",
      " 4   revenue   62 non-null     int64         \n",
      " 5   visitors  62 non-null     int64         \n",
      "dtypes: datetime64[ns](1), int64(4), object(1)\n",
      "memory usage: 3.4+ KB\n"
     ]
    }
   ],
   "source": [
    "cumulativeData.info()"
   ]
  },
  {
   "cell_type": "markdown",
   "metadata": {},
   "source": [
    "**Промежуточный вывод**\n",
    "\n",
    "Итак. Мы получили один датафрейм, которые включает в себя данные 2-х таблиц, рассмотренных ранее, а также включается в себя кумулятивные данные по выручке и заказам. Также, в нашем датафрейме есть деление на группы A и B, что позволяет нам дальше легко построить необходимые графики кумулятивной выручки по группам. "
   ]
  },
  {
   "cell_type": "markdown",
   "metadata": {},
   "source": [
    "### График кумулятивной выручки по группам\n",
    "\n",
    "1. Сначало расчитаем кумулятивные данные по каждой группе.\n",
    "2. После построим графики данных.\n",
    "3. Дальше напишу выводы по полученным результатам. "
   ]
  },
  {
   "cell_type": "markdown",
   "metadata": {},
   "source": [
    "Для построения графика разобъем наш датафрейм по группам и построим plot. "
   ]
  },
  {
   "cell_type": "code",
   "execution_count": 26,
   "metadata": {},
   "outputs": [],
   "source": [
    "cumulativeRevenueA = cumulativeData[cumulativeData['group'] == 'A'][['date','revenue', 'orders']]\n",
    "cumulativeRevenueB = cumulativeData[cumulativeData['group'] == 'B'][['date','revenue', 'orders']]"
   ]
  },
  {
   "cell_type": "code",
   "execution_count": 27,
   "metadata": {},
   "outputs": [
    {
     "data": {
      "image/png": "[encoded data removed]",
      "text/plain": [
       "<Figure size 1080x360 with 1 Axes>"
      ]
     },
     "metadata": {
      "needs_background": "light"
     },
     "output_type": "display_data"
    }
   ],
   "source": [
    "fig = plt.figure(figsize=(15,5))\n",
    "plt.plot(cumulativeRevenueA['date'], cumulativeRevenueA['revenue'], label='A')\n",
    "plt.plot(cumulativeRevenueB['date'], cumulativeRevenueB['revenue'], label='B')\n",
    "plt.legend()\n",
    "plt.xlabel('дата')\n",
    "plt.ylabel('выручка')\n",
    "plt.title('Кумулятивная выручка по группам')\n",
    "plt.show()"
   ]
  },
  {
   "cell_type": "markdown",
   "metadata": {},
   "source": [
    "### Выводы по графику кумулятивной выручки по группам\n"
   ]
  },
  {
   "cell_type": "markdown",
   "metadata": {},
   "source": [
    "1. Выручка в группе `A` растет равномерно в течение времени. \n",
    "2. Выручка в группе `B` имеет резкий скачок 17 августа 2019 года. На графике отчетливо виден этот скачок. Явный всплеск заказов в эту дату. Второй возможной причиной такого скачка может быть появление одного или нескольких покупателей, сделавших большое кол-во заказов в этот день. \n",
    "\n",
    "Рассмотрим также график по группам средних чеков."
   ]
  },
  {
   "cell_type": "markdown",
   "metadata": {},
   "source": [
    "### График кумулятивного среднего чека по группам"
   ]
  },
  {
   "cell_type": "code",
   "execution_count": 28,
   "metadata": {},
   "outputs": [
    {
     "data": {
      "image/png": "[encoded data removed]",
      "text/plain": [
       "<Figure size 864x360 with 1 Axes>"
      ]
     },
     "metadata": {
      "needs_background": "light"
     },
     "output_type": "display_data"
    }
   ],
   "source": [
    "fig = plt.figure(figsize=(12,5))\n",
    "plt.plot(cumulativeRevenueA['date'], cumulativeRevenueA['revenue']/cumulativeRevenueA['orders'], label='A')\n",
    "plt.plot(cumulativeRevenueB['date'], cumulativeRevenueB['revenue']/cumulativeRevenueB['orders'], label='B')\n",
    "plt.xlabel('дата')\n",
    "plt.ylabel('сумма чека')\n",
    "plt.title('Средний чек по группам')\n",
    "plt.legend() \n",
    "plt.show()"
   ]
  },
  {
   "cell_type": "markdown",
   "metadata": {},
   "source": [
    "### Выводы по графику среднего чека по группам\n",
    "\n",
    "1. Показатель среднего чека ведет себя неравномерно в течение времени для обоих групп. \n",
    "2. Стабильный рост в течение нескольких дней для группы `A`, начиная с 5 августа 2019 года. \n",
    "3. Резкий скачок среднего чека для группы `B` 17 августа 2019 года. Собственно, это и служит причиной резкого увеличения кумулятивной выручки в этот день на предыдущем графике. \n",
    "4. Средний чек остается приблизительно на одном и том же уровне с небольшими колебаниями, начиная с 13 августа 2019 года для группы `A`. \n",
    "5. После резкого скачка 17 августа 2019 года видим небольшое снижение значения средней выручки для группы `B`."
   ]
  },
  {
   "cell_type": "markdown",
   "metadata": {},
   "source": [
    "### График относительного изменения кумулятивного среднего чека группы B к группе A"
   ]
  },
  {
   "cell_type": "markdown",
   "metadata": {},
   "source": [
    "Объединим временно датафреймы с нашими группами и сохраним все в переменную `mergedCumulativeRevenue`, чтобы было проще построить график относительного изменения среднего чека группы B к среднему чеку группы А. "
   ]
  },
  {
   "cell_type": "code",
   "execution_count": 29,
   "metadata": {},
   "outputs": [],
   "source": [
    "mergedCumulativeRevenue = cumulativeRevenueA.merge(cumulativeRevenueB, left_on='date', right_on='date', how='left', suffixes=['A', 'B'])"
   ]
  },
  {
   "cell_type": "code",
   "execution_count": 30,
   "metadata": {},
   "outputs": [
    {
     "data": {
      "image/png": "[encoded data removed]",
      "text/plain": [
       "<Figure size 1080x360 with 1 Axes>"
      ]
     },
     "metadata": {
      "needs_background": "light"
     },
     "output_type": "display_data"
    }
   ],
   "source": [
    "fig = plt.figure(figsize=(15,5))\n",
    "plt.plot(mergedCumulativeRevenue['date'], (mergedCumulativeRevenue['revenueB']/mergedCumulativeRevenue['ordersB'])/(mergedCumulativeRevenue['revenueA']/mergedCumulativeRevenue['ordersA'])-1)\n",
    "plt.axhline(y=0, color='black', linestyle='--') \n",
    "plt.title('Изменение кумулятивного среднего чека')\n",
    "plt.xlabel('Дата')\n",
    "plt.ylabel('соотношение ср. чека B к A')\n",
    "plt.show()"
   ]
  },
  {
   "cell_type": "markdown",
   "metadata": {},
   "source": [
    "### Выводы по графику изменения кумулятивного среднего чека\n",
    "\n",
    "1. В нескольких точках на графике видны резкие скачки как в сторону роста разницы, так и в сторону падения. \n",
    "Это подтверждает версию о том, что в наших данных есть покупки с очень высокими средними чеками.\n",
    "2. Дополнительно отмечу, что высокие средние чеки есть в обоих группах, так как мы видим на графике, как 9 августа 2019 года соотношение среднего чека группы `B` к среднему чеку группы `A` снижается и опускается ниже `0`. В этот момент, предположу, в группе `A` были совершены крупные покупки. Либо в группе `B` делали аномально низкие по стоимости покупки. "
   ]
  },
  {
   "cell_type": "markdown",
   "metadata": {},
   "source": [
    "### График кумулятивной конверсии по группам\n",
    "\n",
    "Теперь в нашем анализе рассмотрим график кумулятивной конверсии по группам.\n",
    "\n",
    "Создадим дополнительную колонку в нашем датафрейме и отдельные переменные для группы `A` и `B`."
   ]
  },
  {
   "cell_type": "code",
   "execution_count": 31,
   "metadata": {},
   "outputs": [
    {
     "data": {
      "text/html": [
       "<div>\n",
       "<style scoped>\n",
       "    .dataframe tbody tr th:only-of-type {\n",
       "        vertical-align: middle;\n",
       "    }\n",
       "\n",
       "    .dataframe tbody tr th {\n",
       "        vertical-align: top;\n",
       "    }\n",
       "\n",
       "    .dataframe thead th {\n",
       "        text-align: right;\n",
       "    }\n",
       "</style>\n",
       "<table border=\"1\" class=\"dataframe\">\n",
       "  <thead>\n",
       "    <tr style=\"text-align: right;\">\n",
       "      <th></th>\n",
       "      <th>date</th>\n",
       "      <th>group</th>\n",
       "      <th>orders</th>\n",
       "      <th>buyers</th>\n",
       "      <th>revenue</th>\n",
       "      <th>visitors</th>\n",
       "      <th>conversion</th>\n",
       "    </tr>\n",
       "  </thead>\n",
       "  <tbody>\n",
       "    <tr>\n",
       "      <th>0</th>\n",
       "      <td>2019-08-01</td>\n",
       "      <td>A</td>\n",
       "      <td>24</td>\n",
       "      <td>20</td>\n",
       "      <td>148579</td>\n",
       "      <td>719</td>\n",
       "      <td>0.033380</td>\n",
       "    </tr>\n",
       "    <tr>\n",
       "      <th>1</th>\n",
       "      <td>2019-08-01</td>\n",
       "      <td>B</td>\n",
       "      <td>21</td>\n",
       "      <td>20</td>\n",
       "      <td>101217</td>\n",
       "      <td>713</td>\n",
       "      <td>0.029453</td>\n",
       "    </tr>\n",
       "    <tr>\n",
       "      <th>2</th>\n",
       "      <td>2019-08-02</td>\n",
       "      <td>A</td>\n",
       "      <td>44</td>\n",
       "      <td>38</td>\n",
       "      <td>242401</td>\n",
       "      <td>1338</td>\n",
       "      <td>0.032885</td>\n",
       "    </tr>\n",
       "    <tr>\n",
       "      <th>3</th>\n",
       "      <td>2019-08-02</td>\n",
       "      <td>B</td>\n",
       "      <td>45</td>\n",
       "      <td>43</td>\n",
       "      <td>266748</td>\n",
       "      <td>1294</td>\n",
       "      <td>0.034776</td>\n",
       "    </tr>\n",
       "    <tr>\n",
       "      <th>4</th>\n",
       "      <td>2019-08-03</td>\n",
       "      <td>A</td>\n",
       "      <td>68</td>\n",
       "      <td>62</td>\n",
       "      <td>354874</td>\n",
       "      <td>1845</td>\n",
       "      <td>0.036856</td>\n",
       "    </tr>\n",
       "  </tbody>\n",
       "</table>\n",
       "</div>"
      ],
      "text/plain": [
       "        date group  orders  buyers  revenue  visitors  conversion\n",
       "0 2019-08-01     A      24      20   148579       719    0.033380\n",
       "1 2019-08-01     B      21      20   101217       713    0.029453\n",
       "2 2019-08-02     A      44      38   242401      1338    0.032885\n",
       "3 2019-08-02     B      45      43   266748      1294    0.034776\n",
       "4 2019-08-03     A      68      62   354874      1845    0.036856"
      ]
     },
     "execution_count": 31,
     "metadata": {},
     "output_type": "execute_result"
    }
   ],
   "source": [
    "cumulativeData['conversion'] = cumulativeData['orders']/cumulativeData['visitors']\n",
    "cumulativeData.head()"
   ]
  },
  {
   "cell_type": "markdown",
   "metadata": {},
   "source": [
    "Переменные: "
   ]
  },
  {
   "cell_type": "code",
   "execution_count": 32,
   "metadata": {},
   "outputs": [],
   "source": [
    "cumulativeDataA = cumulativeData[cumulativeData['group']=='A']\n",
    "cumulativeDataB = cumulativeData[cumulativeData['group']=='B']"
   ]
  },
  {
   "cell_type": "markdown",
   "metadata": {},
   "source": [
    "Графики: "
   ]
  },
  {
   "cell_type": "code",
   "execution_count": 33,
   "metadata": {},
   "outputs": [
    {
     "data": {
      "image/png": "[encoded data removed]",
      "text/plain": [
       "<Figure size 1080x360 with 1 Axes>"
      ]
     },
     "metadata": {
      "needs_background": "light"
     },
     "output_type": "display_data"
    }
   ],
   "source": [
    "fig = plt.figure(figsize=(15,5))\n",
    "plt.plot(cumulativeDataA['date'], cumulativeDataA['conversion'], label='A')\n",
    "plt.plot(cumulativeDataB['date'], cumulativeDataB['conversion'], label='B')\n",
    "plt.title('Куммулятивная конверсия для групп А и B')\n",
    "plt.xlabel('Дата')\n",
    "plt.ylabel('Конверсия')\n",
    "plt.legend()\n",
    "plt.show()"
   ]
  },
  {
   "cell_type": "markdown",
   "metadata": {},
   "source": [
    "### Выводы по графику куммулятивной конверсии \n",
    "\n",
    "1. Видим, что в целом группа B конвертируется лучше группы A.\n",
    "2. На графике отчетливо виден скачен конверсии в первые 2 дня для группы А и последующее резкое снижение. \n",
    "3. Для группы В резкий рост конверсии произошел 5 августа. \n",
    "4. Судя по графику, вероятно, можно сказать, что уровень колебаний у группы В сильно выше, чем у группы А."
   ]
  },
  {
   "cell_type": "markdown",
   "metadata": {},
   "source": [
    "### График относительного изменения кумулятивной конверсии группы B к группе A\n",
    "\n",
    "Посмотрим также на изменение конверсии группы В к группе А.\n",
    "1. Объединим данные двух групп в один датафрейм, чтобы было удобнее строить график. \n",
    "2. Построим сам график и проанализируем его."
   ]
  },
  {
   "cell_type": "code",
   "execution_count": 34,
   "metadata": {},
   "outputs": [],
   "source": [
    "mergedCumulativeConversions = cumulativeDataA[['date','conversion']].merge(cumulativeDataB[['date','conversion']], left_on='date', right_on='date', how='left', suffixes=['A', 'B'])"
   ]
  },
  {
   "cell_type": "code",
   "execution_count": 35,
   "metadata": {},
   "outputs": [
    {
     "data": {
      "image/png": "[encoded data removed]",
      "text/plain": [
       "<Figure size 1080x360 with 1 Axes>"
      ]
     },
     "metadata": {
      "needs_background": "light"
     },
     "output_type": "display_data"
    }
   ],
   "source": [
    "fig = plt.figure(figsize=(15,5))\n",
    "plt.plot(mergedCumulativeConversions['date'], mergedCumulativeConversions['conversionB']/mergedCumulativeConversions['conversionA']-1, label=\"Относительный прирост конверсии группы B относительно группы A\")\n",
    "\n",
    "plt.axhline(y=0, color='black', linestyle='--')\n",
    "plt.axhline(y=-0.1, color='grey', linestyle='--')\n",
    "\n",
    "plt.title('Относительный прирост конверсии группы B относительно группы A')\n",
    "plt.xlabel('Дата')\n",
    "plt.ylabel('Прирост')\n",
    "plt.show()"
   ]
  },
  {
   "cell_type": "markdown",
   "metadata": {},
   "source": [
    "### Вывод по графику относительного изменения кумулятивной конверсии\n"
   ]
  },
  {
   "cell_type": "markdown",
   "metadata": {},
   "source": [
    "1. В начале теста группа B значительно проигрывала группе A, затем вырвалась вперёд.\n",
    "2. Относительный прирост держится сильно выше 0 на протяжении почти всего рассматриваемого периода. \n",
    "3. Возможной причиной могут послужить выбросы (или аномально высокие чеки) в группе В. "
   ]
  },
  {
   "cell_type": "markdown",
   "metadata": {},
   "source": [
    "## Анализ аномально высоких значений в выборках"
   ]
  },
  {
   "cell_type": "markdown",
   "metadata": {},
   "source": [
    "### Анализ аномалий по кол-ву заказов"
   ]
  },
  {
   "cell_type": "markdown",
   "metadata": {},
   "source": [
    "Рассмотрим аномалии в наших данных, поскольку они могут крайне сильно повлиять на наши результаты. Возможно, придется отсечь часть данных. \n",
    "\n",
    "1. Для начала сделаю сводную таблицу, в которой будет отражено кол-во покупок на каждого пользователя. \n",
    "2. Построю гистрограмму распределения количества заказов на одного пользователя.\n",
    "3. Построю точечную диаграмму числа заказов на одного пользователя.\n",
    "4. Посчитаю 95 и 99 персентили в данных. \n",
    "5. Приму решение, стоит ли очищать данные от аномалий (и если да, то какие данные необходимо удалить)."
   ]
  },
  {
   "cell_type": "code",
   "execution_count": 36,
   "metadata": {},
   "outputs": [
    {
     "data": {
      "text/html": [
       "<div>\n",
       "<style scoped>\n",
       "    .dataframe tbody tr th:only-of-type {\n",
       "        vertical-align: middle;\n",
       "    }\n",
       "\n",
       "    .dataframe tbody tr th {\n",
       "        vertical-align: top;\n",
       "    }\n",
       "\n",
       "    .dataframe thead th {\n",
       "        text-align: right;\n",
       "    }\n",
       "</style>\n",
       "<table border=\"1\" class=\"dataframe\">\n",
       "  <thead>\n",
       "    <tr style=\"text-align: right;\">\n",
       "      <th></th>\n",
       "      <th>visitor_id</th>\n",
       "      <th>orders</th>\n",
       "    </tr>\n",
       "  </thead>\n",
       "  <tbody>\n",
       "    <tr>\n",
       "      <th>1023</th>\n",
       "      <td>4256040402</td>\n",
       "      <td>11</td>\n",
       "    </tr>\n",
       "    <tr>\n",
       "      <th>591</th>\n",
       "      <td>2458001652</td>\n",
       "      <td>11</td>\n",
       "    </tr>\n",
       "    <tr>\n",
       "      <th>569</th>\n",
       "      <td>2378935119</td>\n",
       "      <td>9</td>\n",
       "    </tr>\n",
       "    <tr>\n",
       "      <th>487</th>\n",
       "      <td>2038680547</td>\n",
       "      <td>8</td>\n",
       "    </tr>\n",
       "    <tr>\n",
       "      <th>44</th>\n",
       "      <td>199603092</td>\n",
       "      <td>5</td>\n",
       "    </tr>\n",
       "    <tr>\n",
       "      <th>...</th>\n",
       "      <td>...</td>\n",
       "      <td>...</td>\n",
       "    </tr>\n",
       "    <tr>\n",
       "      <th>359</th>\n",
       "      <td>1484903144</td>\n",
       "      <td>1</td>\n",
       "    </tr>\n",
       "    <tr>\n",
       "      <th>360</th>\n",
       "      <td>1485964287</td>\n",
       "      <td>1</td>\n",
       "    </tr>\n",
       "    <tr>\n",
       "      <th>361</th>\n",
       "      <td>1494664757</td>\n",
       "      <td>1</td>\n",
       "    </tr>\n",
       "    <tr>\n",
       "      <th>362</th>\n",
       "      <td>1495112755</td>\n",
       "      <td>1</td>\n",
       "    </tr>\n",
       "    <tr>\n",
       "      <th>1030</th>\n",
       "      <td>4283872382</td>\n",
       "      <td>1</td>\n",
       "    </tr>\n",
       "  </tbody>\n",
       "</table>\n",
       "<p>1031 rows × 2 columns</p>\n",
       "</div>"
      ],
      "text/plain": [
       "      visitor_id  orders\n",
       "1023  4256040402      11\n",
       "591   2458001652      11\n",
       "569   2378935119       9\n",
       "487   2038680547       8\n",
       "44     199603092       5\n",
       "...          ...     ...\n",
       "359   1484903144       1\n",
       "360   1485964287       1\n",
       "361   1494664757       1\n",
       "362   1495112755       1\n",
       "1030  4283872382       1\n",
       "\n",
       "[1031 rows x 2 columns]"
      ]
     },
     "execution_count": 36,
     "metadata": {},
     "output_type": "execute_result"
    }
   ],
   "source": [
    "ordersByUsers = (\n",
    "    orders.groupby('visitor_id', as_index=False)\n",
    "    .agg({'transaction_id': 'nunique'})\n",
    ")\n",
    "\n",
    "ordersByUsers.columns = ['visitor_id', 'orders']\n",
    "ordersByUsers.sort_values(by='orders', ascending=False)"
   ]
  },
  {
   "cell_type": "code",
   "execution_count": 37,
   "metadata": {},
   "outputs": [
    {
     "data": {
      "image/png": "[encoded data removed]",
      "text/plain": [
       "<Figure size 864x360 with 1 Axes>"
      ]
     },
     "metadata": {
      "needs_background": "light"
     },
     "output_type": "display_data"
    }
   ],
   "source": [
    "ordersByUsers['orders'].hist(bins=25, figsize=(12,5))\n",
    "plt.title('Распределение кол-ва заказов на одного пользователя')\n",
    "plt.xlabel('кол-во заказов')\n",
    "plt.ylabel('кол-во данных')\n",
    "plt.show()"
   ]
  },
  {
   "cell_type": "markdown",
   "metadata": {},
   "source": [
    "**Промежуточный итог**\n",
    "\n",
    "1. Подавляющее большинство кользователей сделали 1 заказ за рассматриваемый период.\n",
    "2. Однако, доля пользователей с кол-вом заказов 2-4 достаточно значительна, ввиду чего их также стоит рассматирвать."
   ]
  },
  {
   "cell_type": "code",
   "execution_count": 38,
   "metadata": {},
   "outputs": [
    {
     "data": {
      "image/png": "[encoded data removed]",
      "text/plain": [
       "<Figure size 864x360 with 1 Axes>"
      ]
     },
     "metadata": {
      "needs_background": "light"
     },
     "output_type": "display_data"
    }
   ],
   "source": [
    "fig = plt.figure(figsize=(12,5))\n",
    "x_values = pd.Series(range(0,len(ordersByUsers)))\n",
    "plt.scatter(x_values, ordersByUsers['orders']) \n",
    "plt.title('Распределение кол-ва заказов на одного пользователя')\n",
    "plt.xlabel('кол-во данных')\n",
    "plt.ylabel('кол-во заказов')\n",
    "plt.show()"
   ]
  },
  {
   "cell_type": "markdown",
   "metadata": {},
   "source": [
    "**Промежуточный итог**\n",
    "\n",
    "1. Подтверждается, что большая часть пользователей сделала 1 заказ за рассматриваемый период. \n",
    "2. На точечной диаграмме более отчетливо видно, что кол-во пользователей с 2-4 заказами достаточно велико. \n",
    "3. Однако, их точная доля непонятна. В этом нам поможет расчет 95 и 99 персентилей в разрезе кол-ва заказов. "
   ]
  },
  {
   "cell_type": "markdown",
   "metadata": {},
   "source": [
    "Посчитаем также 95-й и 99-й персентили."
   ]
  },
  {
   "cell_type": "code",
   "execution_count": 39,
   "metadata": {},
   "outputs": [
    {
     "name": "stdout",
     "output_type": "stream",
     "text": [
      "[2. 4.]\n"
     ]
    }
   ],
   "source": [
    "print(np.percentile(ordersByUsers['orders'], [95, 99])) "
   ]
  },
  {
   "cell_type": "markdown",
   "metadata": {},
   "source": [
    "### Вывод по анализу аномалий в разрезе кол-ва заказов"
   ]
  },
  {
   "cell_type": "markdown",
   "metadata": {},
   "source": [
    "Итак. Как видно выше, 99% пользователей не сделало больше 4 заказов за анализируемый период. При этом, 95% пользователей сделали всего 2 заказа. \n",
    "\n",
    "В качестве границы для определения аномальных значений я выберу значение в 4 заказа. Так, мы потеряем не очень большое кол-во пользователей, при этом сохраним качество данных. "
   ]
  },
  {
   "cell_type": "markdown",
   "metadata": {},
   "source": [
    "### Анализ аномалий по стоимости заказов\n",
    "\n",
    "Проведем такой же анализ, только в разрезе стоимости заказов."
   ]
  },
  {
   "cell_type": "code",
   "execution_count": 40,
   "metadata": {},
   "outputs": [
    {
     "data": {
      "text/plain": [
       "array([1294500,  202740,   93940,   92550,   86620,   78990,   67990,\n",
       "         66350,   65710])"
      ]
     },
     "execution_count": 40,
     "metadata": {},
     "output_type": "execute_result"
    }
   ],
   "source": [
    "orders['revenue'].sort_values(ascending=False).head(10).unique()"
   ]
  },
  {
   "cell_type": "markdown",
   "metadata": {},
   "source": [
    "Мы видим 2 очень больших заказа в наших данных: 1 294 500 и 202 740. Они потенциально могут очень сильно влиять на результаты нашего исследования. "
   ]
  },
  {
   "cell_type": "code",
   "execution_count": 41,
   "metadata": {},
   "outputs": [
    {
     "data": {
      "image/png": "[encoded data removed]",
      "text/plain": [
       "<Figure size 864x360 with 1 Axes>"
      ]
     },
     "metadata": {
      "needs_background": "light"
     },
     "output_type": "display_data"
    }
   ],
   "source": [
    "orders['revenue'].hist(bins=40, figsize=(12,5))\n",
    "plt.title('Распределение данных')\n",
    "plt.xlabel('стоимость заказа')\n",
    "plt.ylabel('кол-во данных')\n",
    "plt.show()"
   ]
  },
  {
   "cell_type": "code",
   "execution_count": 42,
   "metadata": {},
   "outputs": [
    {
     "data": {
      "image/png": "[encoded data removed]",
      "text/plain": [
       "<Figure size 864x360 with 1 Axes>"
      ]
     },
     "metadata": {
      "needs_background": "light"
     },
     "output_type": "display_data"
    }
   ],
   "source": [
    "fig = plt.figure(figsize=(12,5))\n",
    "x_values = pd.Series(range(0,len(orders['revenue'])))\n",
    "plt.scatter(x_values, orders['revenue']) \n",
    "plt.title('Точечная диаграмма по стоимости заказов')\n",
    "plt.xlabel('Кол-во данных')\n",
    "plt.ylabel('стоимость заказа')\n",
    "plt.show()"
   ]
  },
  {
   "cell_type": "markdown",
   "metadata": {},
   "source": [
    "Посчитаем также 95 и 99 персентили стоимости заказов"
   ]
  },
  {
   "cell_type": "code",
   "execution_count": 43,
   "metadata": {},
   "outputs": [
    {
     "name": "stdout",
     "output_type": "stream",
     "text": [
      "[28000.  58233.2]\n"
     ]
    }
   ],
   "source": [
    "print(np.percentile(orders['revenue'],  [95, 99]))"
   ]
  },
  {
   "cell_type": "markdown",
   "metadata": {},
   "source": [
    "### Выводы по анализу аномалий по стоимости заказов"
   ]
  },
  {
   "cell_type": "markdown",
   "metadata": {},
   "source": [
    "1. Не более 5% пользователей совершили покупку суммой свыше 28000.\n",
    "2. Не более 1% пользователей совершили покупку суммой свыше 58233.2. \n",
    "\n",
    "В качестве границы для определения аномальных значений я выберу значение в 58233.2. Так, мы потеряем не очень большое кол-во пользователей, при этом сохраним качество данных. "
   ]
  },
  {
   "cell_type": "markdown",
   "metadata": {},
   "source": [
    "## Анализ статистической значимости данных по сырым данным "
   ]
  },
  {
   "cell_type": "markdown",
   "metadata": {},
   "source": [
    "### Подготовка данных"
   ]
  },
  {
   "cell_type": "markdown",
   "metadata": {},
   "source": [
    "Необходимо подготовить наши данные для теста. Сделаем это в несколько этапов: \n",
    "1. Определим кол-во пользователей на определенную дату для обеих групп. Данные сохраню в переменные `visitorsPerDateA` и `visitorsPerDateB`.\n",
    "2. Затем посчитаем кол-во пользователей до определенной даты. Другими словами, посчитаем кумулятивное значение пользователей на определенную дату. Это данные сохраню в переменные `visitorsCummulativeA` и `visitorsCummulativeB`.  \n",
    "3. Определим также кол-во заказов на конкретную дату. Данные сохраню в переменные `ordersPerDateA` и `ordersPerDateB`.\n",
    "4. Посчитаем также кумулятивные значения кол-ва заказов на определенную дату. Соответствующие переменные : `ordersCummulativeA ` и `ordersCummulativeB`.\n",
    "5. Объединим все полученные датафреймы в один единый для того, чтобы было удобнее дальше с ними работать (фактически, с одним датафреймом вместо 8). \n",
    "6. Посчитаем статистическую значимость различий в конверсии между группам по \"сырым\" данным."
   ]
  },
  {
   "cell_type": "markdown",
   "metadata": {},
   "source": [
    "**Кол-во пользователей на определенную дату**"
   ]
  },
  {
   "cell_type": "code",
   "execution_count": 44,
   "metadata": {},
   "outputs": [],
   "source": [
    "visitorsADaily = visitors[visitors['group'] == 'A'][['date', 'visitors']]\n",
    "visitorsADaily.columns = ['date', 'visitorsPerDateA']\n",
    "\n",
    "visitorsBDaily = visitors[visitors['group'] == 'B'][['date', 'visitors']]\n",
    "visitorsBDaily.columns = ['date', 'visitorsPerDateB']"
   ]
  },
  {
   "cell_type": "markdown",
   "metadata": {},
   "source": [
    "**Кол-во пользователей (кумулятивное значение) на определенную дату**"
   ]
  },
  {
   "cell_type": "code",
   "execution_count": 45,
   "metadata": {},
   "outputs": [],
   "source": [
    "visitorsACummulative = visitorsADaily.apply(\n",
    "    lambda x: visitorsADaily[visitorsADaily['date'] <= x['date']].agg(\n",
    "        {'date': 'max', 'visitorsPerDateA': 'sum'}\n",
    "    ),\n",
    "    axis=1,\n",
    ")\n",
    "visitorsACummulative.columns = ['date', 'visitorsCummulativeA']\n",
    "\n",
    "\n",
    "visitorsBCummulative = visitorsBDaily.apply(\n",
    "    lambda x: visitorsBDaily[visitorsBDaily['date'] <= x['date']].agg(\n",
    "        {'date': 'max', 'visitorsPerDateB': 'sum'}\n",
    "    ),\n",
    "    axis=1,\n",
    ")\n",
    "visitorsBCummulative.columns = ['date', 'visitorsCummulativeB']"
   ]
  },
  {
   "cell_type": "markdown",
   "metadata": {},
   "source": [
    "**Кол-во заказов на определенную дату**"
   ]
  },
  {
   "cell_type": "code",
   "execution_count": 46,
   "metadata": {},
   "outputs": [],
   "source": [
    "ordersADaily = (\n",
    "    orders[orders['group'] == 'A'][['date', 'transaction_id', 'visitor_id', 'revenue']]\n",
    "    .groupby('date', as_index=False)\n",
    "    .agg({'transaction_id': pd.Series.nunique, 'revenue': 'sum'})\n",
    ")\n",
    "ordersADaily.columns = ['date', 'ordersPerDateA', 'revenuePerDateA']\n",
    "\n",
    "ordersBDaily = (\n",
    "    orders[orders['group'] == 'B'][['date', 'transaction_id', 'visitor_id', 'revenue']]\n",
    "    .groupby('date', as_index=False)\n",
    "    .agg({'transaction_id': pd.Series.nunique, 'revenue': 'sum'})\n",
    ")\n",
    "ordersBDaily.columns = ['date', 'ordersPerDateB', 'revenuePerDateB']"
   ]
  },
  {
   "cell_type": "markdown",
   "metadata": {},
   "source": [
    "**Кумулятивные значения кол-ва заказов на определенную дату**"
   ]
  },
  {
   "cell_type": "code",
   "execution_count": 47,
   "metadata": {},
   "outputs": [],
   "source": [
    "ordersACummulative = ordersADaily.apply(\n",
    "    lambda x: ordersADaily[ordersADaily['date'] <= x['date']].agg(\n",
    "        {'date': 'max', 'ordersPerDateA': 'sum', 'revenuePerDateA': 'sum'}\n",
    "    ),\n",
    "    axis=1,\n",
    ").sort_values(by=['date'])\n",
    "ordersACummulative.columns = [\n",
    "    'date',\n",
    "    'ordersCummulativeA',\n",
    "    'revenueCummulativeA']\n",
    "\n",
    "\n",
    "ordersBCummulative = ordersBDaily.apply(\n",
    "    lambda x: ordersBDaily[ordersBDaily['date'] <= x['date']].agg(\n",
    "        {'date': 'max', 'ordersPerDateB': 'sum', 'revenuePerDateB': 'sum'}\n",
    "    ),\n",
    "    axis=1,\n",
    ").sort_values(by=['date'])\n",
    "ordersBCummulative.columns = [\n",
    "    'date',\n",
    "    'ordersCummulativeB',\n",
    "    'revenueCummulativeB',\n",
    "]"
   ]
  },
  {
   "cell_type": "markdown",
   "metadata": {},
   "source": [
    "**Объединение датафреймов**\n",
    "\n",
    "Объединение проведем по столбцу с датой, так как все эти данные у нас рассматриваются за один и тот же период. "
   ]
  },
  {
   "cell_type": "code",
   "execution_count": 48,
   "metadata": {},
   "outputs": [
    {
     "data": {
      "text/html": [
       "<div>\n",
       "<style scoped>\n",
       "    .dataframe tbody tr th:only-of-type {\n",
       "        vertical-align: middle;\n",
       "    }\n",
       "\n",
       "    .dataframe tbody tr th {\n",
       "        vertical-align: top;\n",
       "    }\n",
       "\n",
       "    .dataframe thead th {\n",
       "        text-align: right;\n",
       "    }\n",
       "</style>\n",
       "<table border=\"1\" class=\"dataframe\">\n",
       "  <thead>\n",
       "    <tr style=\"text-align: right;\">\n",
       "      <th></th>\n",
       "      <th>date</th>\n",
       "      <th>ordersPerDateA</th>\n",
       "      <th>revenuePerDateA</th>\n",
       "      <th>ordersPerDateB</th>\n",
       "      <th>revenuePerDateB</th>\n",
       "      <th>ordersCummulativeA</th>\n",
       "      <th>revenueCummulativeA</th>\n",
       "      <th>ordersCummulativeB</th>\n",
       "      <th>revenueCummulativeB</th>\n",
       "      <th>visitorsPerDateA</th>\n",
       "      <th>visitorsPerDateB</th>\n",
       "      <th>visitorsCummulativeA</th>\n",
       "      <th>visitorsCummulativeB</th>\n",
       "    </tr>\n",
       "  </thead>\n",
       "  <tbody>\n",
       "    <tr>\n",
       "      <th>0</th>\n",
       "      <td>2019-08-01</td>\n",
       "      <td>24</td>\n",
       "      <td>148579</td>\n",
       "      <td>21</td>\n",
       "      <td>101217</td>\n",
       "      <td>24</td>\n",
       "      <td>148579</td>\n",
       "      <td>21</td>\n",
       "      <td>101217</td>\n",
       "      <td>719</td>\n",
       "      <td>713</td>\n",
       "      <td>719</td>\n",
       "      <td>713</td>\n",
       "    </tr>\n",
       "    <tr>\n",
       "      <th>1</th>\n",
       "      <td>2019-08-02</td>\n",
       "      <td>20</td>\n",
       "      <td>93822</td>\n",
       "      <td>24</td>\n",
       "      <td>165531</td>\n",
       "      <td>44</td>\n",
       "      <td>242401</td>\n",
       "      <td>45</td>\n",
       "      <td>266748</td>\n",
       "      <td>619</td>\n",
       "      <td>581</td>\n",
       "      <td>1338</td>\n",
       "      <td>1294</td>\n",
       "    </tr>\n",
       "    <tr>\n",
       "      <th>2</th>\n",
       "      <td>2019-08-03</td>\n",
       "      <td>24</td>\n",
       "      <td>112473</td>\n",
       "      <td>16</td>\n",
       "      <td>114248</td>\n",
       "      <td>68</td>\n",
       "      <td>354874</td>\n",
       "      <td>61</td>\n",
       "      <td>380996</td>\n",
       "      <td>507</td>\n",
       "      <td>509</td>\n",
       "      <td>1845</td>\n",
       "      <td>1803</td>\n",
       "    </tr>\n",
       "    <tr>\n",
       "      <th>3</th>\n",
       "      <td>2019-08-04</td>\n",
       "      <td>16</td>\n",
       "      <td>70825</td>\n",
       "      <td>17</td>\n",
       "      <td>108571</td>\n",
       "      <td>84</td>\n",
       "      <td>425699</td>\n",
       "      <td>78</td>\n",
       "      <td>489567</td>\n",
       "      <td>717</td>\n",
       "      <td>770</td>\n",
       "      <td>2562</td>\n",
       "      <td>2573</td>\n",
       "    </tr>\n",
       "    <tr>\n",
       "      <th>4</th>\n",
       "      <td>2019-08-05</td>\n",
       "      <td>25</td>\n",
       "      <td>124218</td>\n",
       "      <td>23</td>\n",
       "      <td>92428</td>\n",
       "      <td>109</td>\n",
       "      <td>549917</td>\n",
       "      <td>101</td>\n",
       "      <td>581995</td>\n",
       "      <td>756</td>\n",
       "      <td>707</td>\n",
       "      <td>3318</td>\n",
       "      <td>3280</td>\n",
       "    </tr>\n",
       "  </tbody>\n",
       "</table>\n",
       "</div>"
      ],
      "text/plain": [
       "        date  ordersPerDateA  revenuePerDateA  ordersPerDateB  \\\n",
       "0 2019-08-01              24           148579              21   \n",
       "1 2019-08-02              20            93822              24   \n",
       "2 2019-08-03              24           112473              16   \n",
       "3 2019-08-04              16            70825              17   \n",
       "4 2019-08-05              25           124218              23   \n",
       "\n",
       "   revenuePerDateB  ordersCummulativeA  revenueCummulativeA  \\\n",
       "0           101217                  24               148579   \n",
       "1           165531                  44               242401   \n",
       "2           114248                  68               354874   \n",
       "3           108571                  84               425699   \n",
       "4            92428                 109               549917   \n",
       "\n",
       "   ordersCummulativeB  revenueCummulativeB  visitorsPerDateA  \\\n",
       "0                  21               101217               719   \n",
       "1                  45               266748               619   \n",
       "2                  61               380996               507   \n",
       "3                  78               489567               717   \n",
       "4                 101               581995               756   \n",
       "\n",
       "   visitorsPerDateB  visitorsCummulativeA  visitorsCummulativeB  \n",
       "0               713                   719                   713  \n",
       "1               581                  1338                  1294  \n",
       "2               509                  1845                  1803  \n",
       "3               770                  2562                  2573  \n",
       "4               707                  3318                  3280  "
      ]
     },
     "metadata": {},
     "output_type": "display_data"
    }
   ],
   "source": [
    "data_merged = (\n",
    "    ordersADaily.merge(\n",
    "        ordersBDaily, left_on='date', right_on='date', how='left'\n",
    "    )\n",
    "    .merge(ordersACummulative, left_on='date', right_on='date', how='left')\n",
    "    .merge(ordersBCummulative, left_on='date', right_on='date', how='left')\n",
    "    .merge(visitorsADaily, left_on='date', right_on='date', how='left')\n",
    "    .merge(visitorsBDaily, left_on='date', right_on='date', how='left')\n",
    "    .merge(visitorsACummulative, left_on='date', right_on='date', how='left')\n",
    "    .merge(visitorsBCummulative, left_on='date', right_on='date', how='left')\n",
    ")\n",
    "\n",
    "display(data_merged.head()) "
   ]
  },
  {
   "cell_type": "markdown",
   "metadata": {},
   "source": [
    "Теперь посчитаем статистическую значимость. Посчитаем кол-во заказов для каждого пользователя в каждой группе. Информацию сохраню в переменные `ordersByUsersA` и `ordersByUsersB`. А также объявим 2 новые переменные `sampleA` и `sampleB`, в которых пользователям из разных групп будет соответствовать количество заказов. Напротив тех пользователей, которые ничего не заказали, я укажу 0."
   ]
  },
  {
   "cell_type": "code",
   "execution_count": 49,
   "metadata": {},
   "outputs": [],
   "source": [
    "ordersByUsersA = (\n",
    "    orders[orders['group'] == 'A']\n",
    "    .groupby('visitor_id', as_index=False)\n",
    "    .agg({'transaction_id': pd.Series.nunique})\n",
    ")\n",
    "ordersByUsersA.columns = ['userId', 'orders']\n",
    "\n",
    "ordersByUsersB = (\n",
    "    orders[orders['group'] == 'B']\n",
    "    .groupby('visitor_id', as_index=False)\n",
    "    .agg({'transaction_id': pd.Series.nunique})\n",
    ")\n",
    "ordersByUsersB.columns = ['userId', 'orders'] "
   ]
  },
  {
   "cell_type": "markdown",
   "metadata": {},
   "source": [
    "Теперь зададим переменные `sampleA` и `sampleB`, в которые объединим все данные по каждой группе. "
   ]
  },
  {
   "cell_type": "code",
   "execution_count": 50,
   "metadata": {},
   "outputs": [],
   "source": [
    "sampleA = pd.concat([ordersByUsersA['orders'],pd.Series(0, index=np.arange(data_merged['visitorsPerDateA'].sum() - len(ordersByUsersA['orders'])), name='orders')],axis=0)\n",
    "\n",
    "sampleB = pd.concat([ordersByUsersB['orders'],pd.Series(0, index=np.arange(data_merged['visitorsPerDateB'].sum() - len(ordersByUsersB['orders'])), name='orders')],axis=0) "
   ]
  },
  {
   "cell_type": "markdown",
   "metadata": {},
   "source": [
    "### Cтатистическая значимость различий в конверсии между группами по «сырым» данным"
   ]
  },
  {
   "cell_type": "markdown",
   "metadata": {},
   "source": [
    "Теперь у нас все готово к проведению проверки критерием Манна-Уитни.\n",
    "Проведем тест и, заодно, посчитаем, есть ли какой-то проигрыш или выигрыш в значениях у группы `B` перед группой `A`.\n",
    "\n",
    "Посчитаем статистическую значимость различий в конверсии между группами по «сырым» данным. \n",
    "\n",
    "Для этого первоначально необходимо сформулировать нулевую и альтернативную гипотезы. \n",
    "\n",
    "`H₀ - конверсии между группами равны`. Другими словами, различий между конверсиями групп нет. \n",
    "`H₁ - конверсии между группами не равны`. Другими словами, различия между конверсиями групп присутствуют.  "
   ]
  },
  {
   "cell_type": "code",
   "execution_count": 51,
   "metadata": {},
   "outputs": [
    {
     "name": "stdout",
     "output_type": "stream",
     "text": [
      "p-value: 0.0168\n",
      "Относительный выигрыш группы B: 13.8%\n"
     ]
    }
   ],
   "source": [
    "print('p-value:', \"{0:.4f}\".format(stats.mannwhitneyu(sampleA, sampleB)[1]))\n",
    "\n",
    "print('Относительный выигрыш группы B:',\"{0:.1f}%\".format((sampleB.mean() / sampleA.mean() - 1)*100))"
   ]
  },
  {
   "cell_type": "markdown",
   "metadata": {},
   "source": [
    "### Вывод по тесту по критерию Манна-Уитни\n",
    "\n",
    "1. Мы видим, что полученное значение p-value сильно меньше нашей alpha - 0.05. Это говорит о том, что нулевую гипотезу о том, что статистически значимых различий в конверсии между группами нет, отвергаем. \n",
    "2. Относительный выигрыш группы B перед группой A равен 13,8%. "
   ]
  },
  {
   "cell_type": "markdown",
   "metadata": {},
   "source": [
    "### Cтатистическая значимость различий в среднем чеке заказа между группами по «сырым» данным\n",
    "\n",
    "Проведем аналогичный тест и по различиям в среднем чеке заказа между группами. \n",
    "Наши гипотезы следующие: \n",
    "`H₀ - Различий в среднем чеке между группами нет`.\n",
    "`H₁ - различия в среднем чеке между группами есть`.  \n",
    "\n",
    "Все данные у нас уже подготовлены для теста. Передадим критерию `mannwhitneyu()` данные о выручке и проведем тест. "
   ]
  },
  {
   "cell_type": "code",
   "execution_count": 52,
   "metadata": {},
   "outputs": [
    {
     "name": "stdout",
     "output_type": "stream",
     "text": [
      "p-value:0.729\n",
      "Относительный выигрыш группы B: 25.9%\n"
     ]
    }
   ],
   "source": [
    "print('p-value:''{0:.3f}'.format(stats.mannwhitneyu(orders[orders['group']=='A']['revenue'], orders[orders['group']=='B']['revenue'])[1]))\n",
    "print('Относительный выигрыш группы B:', '{0:.1f}%'.format((orders[orders['group']=='B']['revenue'].mean()/orders[orders['group']=='A']['revenue'].mean()-1)*100)) "
   ]
  },
  {
   "cell_type": "markdown",
   "metadata": {},
   "source": [
    "### Вывод по тесту по критерию Манна-Уитни\n",
    "\n",
    "1. Первое число, полученное в результате теста, сильно выше установленного нами alpha - 0.05. Это говорит о том, что причин отвергать нулевую гипотезу и считать, что в среднем чеке есть различия, нет.\n",
    "2. При этом, мы видим, что средний чек у группы В выше на почти 26%. Предположу, что такая ситуация возникла из-за того, что в группу B попал тот покупатель, который совершил покупки суммой свыше 1 млн рублей. \n",
    "\n",
    "Собственно, чтобы получить чуть более реалистичную картину, стоит провести тест по очищенным данным. "
   ]
  },
  {
   "cell_type": "markdown",
   "metadata": {},
   "source": [
    "## Статистическая значимость по очищенным данным"
   ]
  },
  {
   "cell_type": "markdown",
   "metadata": {},
   "source": [
    "Чуть ранее я установил следующие критерии, по которым буду очищать данные от аномалий: \n",
    "\n",
    "    1. В качестве границы для определения аномальных значений по кол-ву заказов я выберу значение в 4 заказа. \n",
    "    2. В качестве границы для определения аномальных значений по стоимости заказа я выберу значение в 58233.2."
   ]
  },
  {
   "cell_type": "markdown",
   "metadata": {},
   "source": [
    "Я сначала посмотрю, сколько всего \"аномальных\" пользователей у нас в данных, а после отсеку их из выборок. "
   ]
  },
  {
   "cell_type": "markdown",
   "metadata": {},
   "source": [
    "**Кол-во аномальных пользователей по кол-ву заказов**"
   ]
  },
  {
   "cell_type": "code",
   "execution_count": 53,
   "metadata": {},
   "outputs": [
    {
     "name": "stdout",
     "output_type": "stream",
     "text": [
      "Кол-во аномальных пользователей без привязки ко второму критерию: (5,)\n"
     ]
    }
   ],
   "source": [
    "usersWithManyOrders = pd.concat(\n",
    "    [\n",
    "        ordersByUsersA[ordersByUsersA['orders'] > 4]['userId'],\n",
    "        ordersByUsersB[ordersByUsersB['orders'] > 4]['userId'],\n",
    "    ],\n",
    "    axis=0,\n",
    ")\n",
    "print('Кол-во аномальных пользователей без привязки ко второму критерию:', usersWithManyOrders.shape)"
   ]
  },
  {
   "cell_type": "markdown",
   "metadata": {},
   "source": [
    "Таких аномалий (без привязки ко второму критерию) всего 5. "
   ]
  },
  {
   "cell_type": "markdown",
   "metadata": {},
   "source": [
    "**Кол-во аномальных пользователей по сумме заказа**"
   ]
  },
  {
   "cell_type": "code",
   "execution_count": 54,
   "metadata": {},
   "outputs": [
    {
     "name": "stdout",
     "output_type": "stream",
     "text": [
      "Кол-во аномальных пользователей без привязки к первому критерию: (12,)\n"
     ]
    }
   ],
   "source": [
    "usersWithExpensiveOrders = orders[orders['revenue'] > 58233.2]['visitor_id']\n",
    "print('Кол-во аномальных пользователей без привязки к первому критерию:', usersWithExpensiveOrders.shape)"
   ]
  },
  {
   "cell_type": "markdown",
   "metadata": {},
   "source": [
    "Таких аномалий (без привязки к первому критерию) всего 12. \n",
    "\n",
    "Объединю эти данные в один датафрейм, чтобы исключить дублирующие строки, и чтобы дальше было проще исключить их из общего датафрейма."
   ]
  },
  {
   "cell_type": "code",
   "execution_count": 55,
   "metadata": {},
   "outputs": [
    {
     "name": "stdout",
     "output_type": "stream",
     "text": [
      "Кол-во аномальных пользователей (15,)\n"
     ]
    }
   ],
   "source": [
    "abnormalUsers = (\n",
    "    pd.concat([usersWithManyOrders, usersWithExpensiveOrders], axis=0)\n",
    "    .drop_duplicates()\n",
    "    .sort_values()\n",
    ")\n",
    "print('Кол-во аномальных пользователей', abnormalUsers.shape)"
   ]
  },
  {
   "cell_type": "markdown",
   "metadata": {},
   "source": [
    "Итак, у нас всего 15 аномалий, превышающих установленные ранее пороговые значения. Почистим наши данные с помощью `np.logical_not` для обеих групп и проведем повторно тест. "
   ]
  },
  {
   "cell_type": "markdown",
   "metadata": {},
   "source": [
    "**Для группы `A`**"
   ]
  },
  {
   "cell_type": "code",
   "execution_count": 56,
   "metadata": {},
   "outputs": [],
   "source": [
    "sampleAFiltered = pd.concat(\n",
    "    [\n",
    "        ordersByUsersA[\n",
    "            np.logical_not(ordersByUsersA['userId'].isin(abnormalUsers))\n",
    "        ]['orders'],\n",
    "        pd.Series(\n",
    "            0,\n",
    "            index=np.arange(\n",
    "                data_merged['visitorsPerDateA'].sum() - len(ordersByUsersA['orders'])\n",
    "            ),\n",
    "            name='orders',\n",
    "        ),\n",
    "    ],\n",
    "    axis=0,\n",
    ")"
   ]
  },
  {
   "cell_type": "markdown",
   "metadata": {},
   "source": [
    "**Для группы `B`**"
   ]
  },
  {
   "cell_type": "code",
   "execution_count": 57,
   "metadata": {},
   "outputs": [],
   "source": [
    "sampleBFiltered = pd.concat(\n",
    "    [\n",
    "        ordersByUsersB[\n",
    "            np.logical_not(ordersByUsersB['userId'].isin(abnormalUsers))\n",
    "        ]['orders'],\n",
    "        pd.Series(\n",
    "            0,\n",
    "            index=np.arange(\n",
    "                data_merged['visitorsPerDateB'].sum() - len(ordersByUsersB['orders'])\n",
    "            ),\n",
    "            name='orders',\n",
    "        ),\n",
    "    ],\n",
    "    axis=0,\n",
    ") "
   ]
  },
  {
   "cell_type": "markdown",
   "metadata": {},
   "source": [
    "### Cтатистическая значимость различий в конверсии между группами по «очищенным» данным\n",
    "\n",
    "Наши гипотезы те же, что и раньше.\n",
    "\n",
    "`H₀ - конверсии между группами равны`. Другими словами, различий между конверсиями групп нет. \n",
    "`H₁ - конверсии между группами не равны`. Другими словами, различия между конверсиями групп присутствуют.  "
   ]
  },
  {
   "cell_type": "markdown",
   "metadata": {},
   "source": [
    "Применим статистический критерий Манна-Уитни к полученным выборкам."
   ]
  },
  {
   "cell_type": "code",
   "execution_count": 58,
   "metadata": {},
   "outputs": [
    {
     "name": "stdout",
     "output_type": "stream",
     "text": [
      "p-value 0.0144\n",
      "Относительный выигрыш группы B 15.3%\n"
     ]
    }
   ],
   "source": [
    "print('p-value', '{0:.4f}'.format(stats.mannwhitneyu(sampleAFiltered, sampleBFiltered)[1]))\n",
    "print('Относительный выигрыш группы B','{0:.1f}%'.format((sampleBFiltered.mean()/sampleAFiltered.mean()-1)*100)) "
   ]
  },
  {
   "cell_type": "markdown",
   "metadata": {},
   "source": [
    "**Промежуточный итог**\n",
    "\n",
    "Результаты теста на статистическую значимость различий в конверсии между группами по \"очищенным\" данным практически не изменились.\n",
    "\n",
    "P-value все также ниже нашей alpha, что не дает оснований нам не отвергать нулевую гипотезу. Одновременно, относительный выигрыш увеличился до 15.33%. "
   ]
  },
  {
   "cell_type": "markdown",
   "metadata": {},
   "source": [
    "### Статистическая значимость различий в среднем чеке заказа между группами по «очищенным» данным\n",
    "\n",
    "То же самое сделаем и в разрезе средних чеков групп `A` и `B`. \n",
    "\n",
    "`H₀ - Различий в среднем чеке между группами нет`.\n",
    "`H₁ - различия в среднем чеке между группами есть`.  "
   ]
  },
  {
   "cell_type": "code",
   "execution_count": 59,
   "metadata": {},
   "outputs": [
    {
     "name": "stdout",
     "output_type": "stream",
     "text": [
      "p-value: 0.851\n",
      "Относительный проигрыщ группы B: -0.006\n"
     ]
    }
   ],
   "source": [
    "print('p-value:',\n",
    "    '{0:.3f}'.format(\n",
    "        stats.mannwhitneyu(\n",
    "            orders[\n",
    "                np.logical_and(\n",
    "                    orders['group'] == 'A',\n",
    "                    np.logical_not(orders['visitor_id'].isin(abnormalUsers)),\n",
    "                )\n",
    "            ]['revenue'],\n",
    "            orders[\n",
    "                np.logical_and(\n",
    "                    orders['group'] == 'B',\n",
    "                    np.logical_not(orders['visitor_id'].isin(abnormalUsers)),\n",
    "                )\n",
    "            ]['revenue'],\n",
    "        )[1]\n",
    "    )\n",
    ")\n",
    "\n",
    "print('Относительный проигрыщ группы B:',\n",
    "    \"{0:.3f}\".format(\n",
    "        orders[\n",
    "            np.logical_and(\n",
    "                orders['group'] == 'B',\n",
    "                np.logical_not(orders['visitor_id'].isin(abnormalUsers)),\n",
    "            )\n",
    "        ]['revenue'].mean()\n",
    "        / orders[\n",
    "            np.logical_and(\n",
    "                orders['group'] == 'A',\n",
    "                np.logical_not(orders['visitor_id'].isin(abnormalUsers)),\n",
    "            )\n",
    "        ]['revenue'].mean()\n",
    "        - 1\n",
    "    )\n",
    ") "
   ]
  },
  {
   "cell_type": "markdown",
   "metadata": {},
   "source": [
    "**Промежуточный вывод**\n",
    "\n",
    "1. Первое число (p-value) по-прежнему сильно выше нашего alpha - 0.05, что говорит нам о том, что мы не отвергаем нашу нулевую гипотезу. \n",
    "2. Разница между сегментами сократилась очень сильно с 26% до небольшого отрицательного значения. Это, собственно, хорошо показывает влияние аномально высоких значений и подтверждает мое предположение, что покупатель с общей сумму покупки выше 1 млн рублей попал в группу B. "
   ]
  },
  {
   "cell_type": "markdown",
   "metadata": {},
   "source": [
    "## Выводы по проекту"
   ]
  },
  {
   "cell_type": "markdown",
   "metadata": {},
   "source": [
    "1. Есть статистически значимое различие по конверсии между группами как по «сырым», так и по данным после фильтрации аномалий.\n",
    "2. По «сырым» данным нет статистически значимого различия по среднему чеку между группами. По очищенным также не наблюдается наличие статистически значимого различия по среднему чеку. \n",
    "3. Основываясь на графике относительного прироста конверсии группы B по отношению к группе А, можно сказать, что различия между конверсиями есть. Более того, конверсия группы В лучше конверсии группы А. \n",
    "4. График относительного изменения отношения среднего чека группы В к среднему чеку группы А колеблется во времени. Однако, по нему видно, что за исключением нескольких дней, средний чек группы В сильно выше среднего чека группы А. \n",
    "\n",
    "Основываясь на этом, тест можно признать успешным. Его стоит остановить, а внесенные изменения экстраполировать на более широкую аудиторию."
   ]
  }
 ],
 "metadata": {
  "ExecuteTimeLog": [
   {
    "duration": 1366,
    "start_time": "2022-04-04T13:44:29.021Z"
   },
   {
    "duration": 3,
    "start_time": "2022-04-04T13:45:02.233Z"
   },
   {
    "duration": 4,
    "start_time": "2022-04-04T13:45:05.898Z"
   },
   {
    "duration": 4,
    "start_time": "2022-04-04T13:45:57.578Z"
   },
   {
    "duration": 14,
    "start_time": "2022-04-04T13:46:56.570Z"
   },
   {
    "duration": 47,
    "start_time": "2022-04-04T13:47:39.193Z"
   },
   {
    "duration": 83,
    "start_time": "2022-04-04T13:47:57.866Z"
   },
   {
    "duration": 102,
    "start_time": "2022-04-04T13:50:07.152Z"
   },
   {
    "duration": 13,
    "start_time": "2022-04-04T13:50:11.615Z"
   },
   {
    "duration": 8,
    "start_time": "2022-04-04T13:50:22.432Z"
   },
   {
    "duration": 13,
    "start_time": "2022-04-04T13:50:42.319Z"
   },
   {
    "duration": 6,
    "start_time": "2022-04-04T13:51:32.726Z"
   },
   {
    "duration": 92,
    "start_time": "2022-04-04T13:52:15.487Z"
   },
   {
    "duration": 10,
    "start_time": "2022-04-04T13:57:31.283Z"
   },
   {
    "duration": 10,
    "start_time": "2022-04-04T13:57:32.908Z"
   },
   {
    "duration": 3,
    "start_time": "2022-04-04T13:57:34.820Z"
   },
   {
    "duration": 43,
    "start_time": "2022-04-04T13:57:34.825Z"
   },
   {
    "duration": 11,
    "start_time": "2022-04-04T13:57:34.870Z"
   },
   {
    "duration": 10,
    "start_time": "2022-04-04T13:57:34.883Z"
   },
   {
    "duration": 36,
    "start_time": "2022-04-04T13:57:50.562Z"
   },
   {
    "duration": 4,
    "start_time": "2022-04-04T13:57:56.995Z"
   },
   {
    "duration": 15,
    "start_time": "2022-04-04T13:57:58.987Z"
   },
   {
    "duration": 6,
    "start_time": "2022-04-04T13:58:41.972Z"
   },
   {
    "duration": 19,
    "start_time": "2022-04-04T13:58:45.003Z"
   },
   {
    "duration": 12,
    "start_time": "2022-04-04T13:59:41.259Z"
   },
   {
    "duration": 3,
    "start_time": "2022-04-04T13:59:50.043Z"
   },
   {
    "duration": 44,
    "start_time": "2022-04-04T13:59:50.048Z"
   },
   {
    "duration": 11,
    "start_time": "2022-04-04T13:59:50.094Z"
   },
   {
    "duration": 8,
    "start_time": "2022-04-04T13:59:50.108Z"
   },
   {
    "duration": 1804,
    "start_time": "2022-04-04T13:59:50.118Z"
   },
   {
    "duration": 11,
    "start_time": "2022-04-04T14:00:13.243Z"
   },
   {
    "duration": 8,
    "start_time": "2022-04-04T14:00:33.194Z"
   },
   {
    "duration": 5,
    "start_time": "2022-04-04T14:00:41.961Z"
   },
   {
    "duration": 4,
    "start_time": "2022-04-04T14:01:23.170Z"
   },
   {
    "duration": 14,
    "start_time": "2022-04-04T14:01:25.538Z"
   },
   {
    "duration": 12,
    "start_time": "2022-04-04T14:01:29.994Z"
   },
   {
    "duration": 1215,
    "start_time": "2022-04-04T14:01:40.115Z"
   },
   {
    "duration": 38,
    "start_time": "2022-04-04T14:01:41.332Z"
   },
   {
    "duration": 12,
    "start_time": "2022-04-04T14:01:41.372Z"
   },
   {
    "duration": 10,
    "start_time": "2022-04-04T14:01:41.386Z"
   },
   {
    "duration": 14,
    "start_time": "2022-04-04T14:01:41.398Z"
   },
   {
    "duration": 8,
    "start_time": "2022-04-04T14:01:41.413Z"
   },
   {
    "duration": 3265,
    "start_time": "2022-04-04T14:01:41.423Z"
   },
   {
    "duration": 8,
    "start_time": "2022-04-04T14:03:42.050Z"
   },
   {
    "duration": 1185,
    "start_time": "2022-04-04T14:03:47.628Z"
   },
   {
    "duration": 38,
    "start_time": "2022-04-04T14:03:48.815Z"
   },
   {
    "duration": 11,
    "start_time": "2022-04-04T14:03:48.855Z"
   },
   {
    "duration": 11,
    "start_time": "2022-04-04T14:03:48.868Z"
   },
   {
    "duration": 12,
    "start_time": "2022-04-04T14:03:48.881Z"
   },
   {
    "duration": 8,
    "start_time": "2022-04-04T14:03:48.894Z"
   },
   {
    "duration": 16,
    "start_time": "2022-04-04T14:03:48.904Z"
   },
   {
    "duration": 14,
    "start_time": "2022-04-04T14:14:56.600Z"
   },
   {
    "duration": 14,
    "start_time": "2022-04-04T14:15:03.639Z"
   },
   {
    "duration": 1272,
    "start_time": "2022-04-04T14:15:08.951Z"
   },
   {
    "duration": 40,
    "start_time": "2022-04-04T14:15:10.226Z"
   },
   {
    "duration": 13,
    "start_time": "2022-04-04T14:15:10.268Z"
   },
   {
    "duration": 10,
    "start_time": "2022-04-04T14:15:10.284Z"
   },
   {
    "duration": 16,
    "start_time": "2022-04-04T14:15:10.296Z"
   },
   {
    "duration": 9,
    "start_time": "2022-04-04T14:15:10.313Z"
   },
   {
    "duration": 22,
    "start_time": "2022-04-04T14:15:10.324Z"
   },
   {
    "duration": 14,
    "start_time": "2022-04-04T14:15:10.348Z"
   },
   {
    "duration": 1197,
    "start_time": "2022-04-04T14:17:08.843Z"
   },
   {
    "duration": 41,
    "start_time": "2022-04-04T14:17:10.042Z"
   },
   {
    "duration": 14,
    "start_time": "2022-04-04T14:17:10.085Z"
   },
   {
    "duration": 23,
    "start_time": "2022-04-04T14:17:10.101Z"
   },
   {
    "duration": 19,
    "start_time": "2022-04-04T14:17:10.127Z"
   },
   {
    "duration": 19,
    "start_time": "2022-04-04T14:17:10.148Z"
   },
   {
    "duration": 31,
    "start_time": "2022-04-04T14:17:10.169Z"
   },
   {
    "duration": 15,
    "start_time": "2022-04-04T14:17:10.202Z"
   },
   {
    "duration": 11,
    "start_time": "2022-04-04T14:17:34.542Z"
   },
   {
    "duration": 1215,
    "start_time": "2022-04-04T14:17:49.880Z"
   },
   {
    "duration": 39,
    "start_time": "2022-04-04T14:17:51.097Z"
   },
   {
    "duration": 13,
    "start_time": "2022-04-04T14:17:51.138Z"
   },
   {
    "duration": 16,
    "start_time": "2022-04-04T14:17:51.153Z"
   },
   {
    "duration": 6,
    "start_time": "2022-04-04T14:17:51.172Z"
   },
   {
    "duration": 11,
    "start_time": "2022-04-04T14:17:51.180Z"
   },
   {
    "duration": 15,
    "start_time": "2022-04-04T14:17:51.193Z"
   },
   {
    "duration": 16,
    "start_time": "2022-04-04T14:17:51.239Z"
   },
   {
    "duration": 103,
    "start_time": "2022-04-04T14:19:02.815Z"
   },
   {
    "duration": 15,
    "start_time": "2022-04-04T14:19:08.424Z"
   },
   {
    "duration": 16,
    "start_time": "2022-04-04T14:23:16.102Z"
   },
   {
    "duration": 18,
    "start_time": "2022-04-04T14:23:21.310Z"
   },
   {
    "duration": 17,
    "start_time": "2022-04-04T14:23:24.910Z"
   },
   {
    "duration": 1215,
    "start_time": "2022-04-04T14:23:29.494Z"
   },
   {
    "duration": 39,
    "start_time": "2022-04-04T14:23:30.712Z"
   },
   {
    "duration": 12,
    "start_time": "2022-04-04T14:23:30.753Z"
   },
   {
    "duration": 22,
    "start_time": "2022-04-04T14:23:30.767Z"
   },
   {
    "duration": 12,
    "start_time": "2022-04-04T14:23:30.791Z"
   },
   {
    "duration": 15,
    "start_time": "2022-04-04T14:23:30.804Z"
   },
   {
    "duration": 21,
    "start_time": "2022-04-04T14:23:30.821Z"
   },
   {
    "duration": 16,
    "start_time": "2022-04-04T14:23:30.844Z"
   },
   {
    "duration": 90,
    "start_time": "2022-04-04T14:23:30.862Z"
   },
   {
    "duration": 3,
    "start_time": "2022-04-04T14:34:34.917Z"
   },
   {
    "duration": 4,
    "start_time": "2022-04-04T14:39:48.636Z"
   },
   {
    "duration": 103,
    "start_time": "2022-04-04T14:41:18.341Z"
   },
   {
    "duration": 17,
    "start_time": "2022-04-04T14:41:32.814Z"
   },
   {
    "duration": 15,
    "start_time": "2022-04-04T14:41:41.374Z"
   },
   {
    "duration": 3,
    "start_time": "2022-04-04T14:43:49.221Z"
   },
   {
    "duration": 15,
    "start_time": "2022-04-04T14:43:57.421Z"
   },
   {
    "duration": 2,
    "start_time": "2022-04-04T14:44:13.013Z"
   },
   {
    "duration": 16,
    "start_time": "2022-04-04T14:44:15.237Z"
   },
   {
    "duration": 3,
    "start_time": "2022-04-04T14:46:19.053Z"
   },
   {
    "duration": 15,
    "start_time": "2022-04-04T14:46:21.813Z"
   },
   {
    "duration": 10,
    "start_time": "2022-04-04T14:48:06.677Z"
   },
   {
    "duration": 4,
    "start_time": "2022-04-04T14:48:18.044Z"
   },
   {
    "duration": 6,
    "start_time": "2022-04-04T14:48:30.500Z"
   },
   {
    "duration": 11,
    "start_time": "2022-04-04T14:48:52.228Z"
   },
   {
    "duration": 4,
    "start_time": "2022-04-04T14:49:00.492Z"
   },
   {
    "duration": 6,
    "start_time": "2022-04-04T14:49:06.308Z"
   },
   {
    "duration": 6,
    "start_time": "2022-04-04T14:49:27.580Z"
   },
   {
    "duration": 5,
    "start_time": "2022-04-04T14:49:28.339Z"
   },
   {
    "duration": 14,
    "start_time": "2022-04-04T14:54:05.059Z"
   },
   {
    "duration": 3,
    "start_time": "2022-04-04T14:56:42.628Z"
   },
   {
    "duration": 48,
    "start_time": "2022-04-05T07:11:28.079Z"
   },
   {
    "duration": 1402,
    "start_time": "2022-04-05T07:11:31.048Z"
   },
   {
    "duration": 41,
    "start_time": "2022-04-05T07:11:32.453Z"
   },
   {
    "duration": 11,
    "start_time": "2022-04-05T07:11:32.495Z"
   },
   {
    "duration": 13,
    "start_time": "2022-04-05T07:11:32.508Z"
   },
   {
    "duration": 5,
    "start_time": "2022-04-05T07:11:32.522Z"
   },
   {
    "duration": 12,
    "start_time": "2022-04-05T07:11:32.529Z"
   },
   {
    "duration": 19,
    "start_time": "2022-04-05T07:11:32.543Z"
   },
   {
    "duration": 14,
    "start_time": "2022-04-05T07:11:32.564Z"
   },
   {
    "duration": 6,
    "start_time": "2022-04-05T07:11:32.580Z"
   },
   {
    "duration": 14,
    "start_time": "2022-04-05T07:11:32.588Z"
   },
   {
    "duration": 31,
    "start_time": "2022-04-05T07:11:32.604Z"
   },
   {
    "duration": 18,
    "start_time": "2022-04-05T07:11:32.637Z"
   },
   {
    "duration": 11,
    "start_time": "2022-04-05T07:11:32.656Z"
   },
   {
    "duration": 6,
    "start_time": "2022-04-05T07:11:32.669Z"
   },
   {
    "duration": 6,
    "start_time": "2022-04-05T07:11:32.676Z"
   },
   {
    "duration": 14,
    "start_time": "2022-04-05T07:11:32.683Z"
   },
   {
    "duration": 300,
    "start_time": "2022-04-05T07:20:29.614Z"
   },
   {
    "duration": 265,
    "start_time": "2022-04-05T07:20:39.492Z"
   },
   {
    "duration": 199,
    "start_time": "2022-04-05T07:20:45.149Z"
   },
   {
    "duration": 187,
    "start_time": "2022-04-05T07:20:49.077Z"
   },
   {
    "duration": 324,
    "start_time": "2022-04-05T07:20:58.725Z"
   },
   {
    "duration": 1212,
    "start_time": "2022-04-05T07:21:04.197Z"
   },
   {
    "duration": 52,
    "start_time": "2022-04-05T07:21:05.411Z"
   },
   {
    "duration": 12,
    "start_time": "2022-04-05T07:21:05.465Z"
   },
   {
    "duration": 14,
    "start_time": "2022-04-05T07:21:05.480Z"
   },
   {
    "duration": 7,
    "start_time": "2022-04-05T07:21:05.496Z"
   },
   {
    "duration": 11,
    "start_time": "2022-04-05T07:21:05.505Z"
   },
   {
    "duration": 25,
    "start_time": "2022-04-05T07:21:05.518Z"
   },
   {
    "duration": 28,
    "start_time": "2022-04-05T07:21:05.545Z"
   },
   {
    "duration": 16,
    "start_time": "2022-04-05T07:21:05.575Z"
   },
   {
    "duration": 9,
    "start_time": "2022-04-05T07:21:05.594Z"
   },
   {
    "duration": 11,
    "start_time": "2022-04-05T07:21:05.605Z"
   },
   {
    "duration": 28,
    "start_time": "2022-04-05T07:21:05.618Z"
   },
   {
    "duration": 7,
    "start_time": "2022-04-05T07:21:05.648Z"
   },
   {
    "duration": 6,
    "start_time": "2022-04-05T07:21:05.657Z"
   },
   {
    "duration": 14,
    "start_time": "2022-04-05T07:21:05.665Z"
   },
   {
    "duration": 217,
    "start_time": "2022-04-05T07:21:05.681Z"
   },
   {
    "duration": 12,
    "start_time": "2022-04-05T07:21:20.682Z"
   },
   {
    "duration": 23,
    "start_time": "2022-04-05T07:21:33.147Z"
   },
   {
    "duration": 709,
    "start_time": "2022-04-05T07:21:37.555Z"
   },
   {
    "duration": 2126,
    "start_time": "2022-04-05T07:21:50.965Z"
   },
   {
    "duration": 55,
    "start_time": "2022-04-05T07:21:53.093Z"
   },
   {
    "duration": 12,
    "start_time": "2022-04-05T07:21:53.150Z"
   },
   {
    "duration": 16,
    "start_time": "2022-04-05T07:21:53.164Z"
   },
   {
    "duration": 6,
    "start_time": "2022-04-05T07:21:53.182Z"
   },
   {
    "duration": 13,
    "start_time": "2022-04-05T07:21:53.190Z"
   },
   {
    "duration": 14,
    "start_time": "2022-04-05T07:21:53.204Z"
   },
   {
    "duration": 15,
    "start_time": "2022-04-05T07:21:53.233Z"
   },
   {
    "duration": 10,
    "start_time": "2022-04-05T07:21:53.251Z"
   },
   {
    "duration": 6,
    "start_time": "2022-04-05T07:21:53.262Z"
   },
   {
    "duration": 6,
    "start_time": "2022-04-05T07:21:53.270Z"
   },
   {
    "duration": 10,
    "start_time": "2022-04-05T07:21:53.277Z"
   },
   {
    "duration": 7,
    "start_time": "2022-04-05T07:21:53.288Z"
   },
   {
    "duration": 7,
    "start_time": "2022-04-05T07:21:53.334Z"
   },
   {
    "duration": 21,
    "start_time": "2022-04-05T07:21:53.343Z"
   },
   {
    "duration": 23,
    "start_time": "2022-04-05T07:21:53.365Z"
   },
   {
    "duration": 872,
    "start_time": "2022-04-05T07:22:23.126Z"
   },
   {
    "duration": 1946,
    "start_time": "2022-04-05T07:22:27.022Z"
   },
   {
    "duration": 1265,
    "start_time": "2022-04-05T07:22:33.824Z"
   },
   {
    "duration": 40,
    "start_time": "2022-04-05T07:22:35.091Z"
   },
   {
    "duration": 14,
    "start_time": "2022-04-05T07:22:35.136Z"
   },
   {
    "duration": 13,
    "start_time": "2022-04-05T07:22:35.153Z"
   },
   {
    "duration": 5,
    "start_time": "2022-04-05T07:22:35.168Z"
   },
   {
    "duration": 13,
    "start_time": "2022-04-05T07:22:35.175Z"
   },
   {
    "duration": 15,
    "start_time": "2022-04-05T07:22:35.190Z"
   },
   {
    "duration": 20,
    "start_time": "2022-04-05T07:22:35.232Z"
   },
   {
    "duration": 11,
    "start_time": "2022-04-05T07:22:35.253Z"
   },
   {
    "duration": 9,
    "start_time": "2022-04-05T07:22:35.266Z"
   },
   {
    "duration": 6,
    "start_time": "2022-04-05T07:22:35.277Z"
   },
   {
    "duration": 14,
    "start_time": "2022-04-05T07:22:35.285Z"
   },
   {
    "duration": 33,
    "start_time": "2022-04-05T07:22:35.301Z"
   },
   {
    "duration": 18,
    "start_time": "2022-04-05T07:22:35.337Z"
   },
   {
    "duration": 13,
    "start_time": "2022-04-05T07:22:35.356Z"
   },
   {
    "duration": 19,
    "start_time": "2022-04-05T07:22:35.371Z"
   },
   {
    "duration": 694,
    "start_time": "2022-04-05T07:22:35.391Z"
   },
   {
    "duration": 12,
    "start_time": "2022-04-05T07:22:51.350Z"
   },
   {
    "duration": 1512,
    "start_time": "2022-04-05T07:23:01.950Z"
   },
   {
    "duration": 0,
    "start_time": "2022-04-05T07:23:03.464Z"
   },
   {
    "duration": 1281,
    "start_time": "2022-04-05T07:23:09.510Z"
   },
   {
    "duration": 41,
    "start_time": "2022-04-05T07:23:10.793Z"
   },
   {
    "duration": 14,
    "start_time": "2022-04-05T07:23:10.836Z"
   },
   {
    "duration": 13,
    "start_time": "2022-04-05T07:23:10.853Z"
   },
   {
    "duration": 5,
    "start_time": "2022-04-05T07:23:10.868Z"
   },
   {
    "duration": 13,
    "start_time": "2022-04-05T07:23:10.875Z"
   },
   {
    "duration": 17,
    "start_time": "2022-04-05T07:23:10.890Z"
   },
   {
    "duration": 43,
    "start_time": "2022-04-05T07:23:10.909Z"
   },
   {
    "duration": 14,
    "start_time": "2022-04-05T07:23:10.954Z"
   },
   {
    "duration": 7,
    "start_time": "2022-04-05T07:23:10.971Z"
   },
   {
    "duration": 10,
    "start_time": "2022-04-05T07:23:10.979Z"
   },
   {
    "duration": 15,
    "start_time": "2022-04-05T07:23:10.990Z"
   },
   {
    "duration": 28,
    "start_time": "2022-04-05T07:23:11.007Z"
   },
   {
    "duration": 17,
    "start_time": "2022-04-05T07:23:11.037Z"
   },
   {
    "duration": 16,
    "start_time": "2022-04-05T07:23:11.056Z"
   },
   {
    "duration": 22,
    "start_time": "2022-04-05T07:23:11.074Z"
   },
   {
    "duration": 11,
    "start_time": "2022-04-05T07:23:11.098Z"
   },
   {
    "duration": 106,
    "start_time": "2022-04-05T07:27:53.282Z"
   },
   {
    "duration": 6,
    "start_time": "2022-04-05T07:28:55.348Z"
   },
   {
    "duration": 256,
    "start_time": "2022-04-05T07:29:21.251Z"
   },
   {
    "duration": 167,
    "start_time": "2022-04-05T07:29:32.474Z"
   },
   {
    "duration": 14,
    "start_time": "2022-04-05T07:33:18.163Z"
   },
   {
    "duration": 10,
    "start_time": "2022-04-05T07:33:24.498Z"
   },
   {
    "duration": 8,
    "start_time": "2022-04-05T07:33:53.645Z"
   },
   {
    "duration": 6,
    "start_time": "2022-04-05T07:35:37.490Z"
   },
   {
    "duration": 6,
    "start_time": "2022-04-05T07:35:52.844Z"
   },
   {
    "duration": 5,
    "start_time": "2022-04-05T07:36:25.331Z"
   },
   {
    "duration": 31,
    "start_time": "2022-04-05T07:38:23.714Z"
   },
   {
    "duration": 23,
    "start_time": "2022-04-05T07:38:49.779Z"
   },
   {
    "duration": 24,
    "start_time": "2022-04-05T07:38:57.258Z"
   },
   {
    "duration": 1230,
    "start_time": "2022-04-05T07:39:11.153Z"
   },
   {
    "duration": 35,
    "start_time": "2022-04-05T07:39:12.385Z"
   },
   {
    "duration": 11,
    "start_time": "2022-04-05T07:39:12.422Z"
   },
   {
    "duration": 26,
    "start_time": "2022-04-05T07:39:12.435Z"
   },
   {
    "duration": 6,
    "start_time": "2022-04-05T07:39:12.463Z"
   },
   {
    "duration": 12,
    "start_time": "2022-04-05T07:39:12.470Z"
   },
   {
    "duration": 13,
    "start_time": "2022-04-05T07:39:12.484Z"
   },
   {
    "duration": 13,
    "start_time": "2022-04-05T07:39:12.499Z"
   },
   {
    "duration": 26,
    "start_time": "2022-04-05T07:39:12.514Z"
   },
   {
    "duration": 13,
    "start_time": "2022-04-05T07:39:12.546Z"
   },
   {
    "duration": 10,
    "start_time": "2022-04-05T07:39:12.561Z"
   },
   {
    "duration": 10,
    "start_time": "2022-04-05T07:39:12.572Z"
   },
   {
    "duration": 7,
    "start_time": "2022-04-05T07:39:12.584Z"
   },
   {
    "duration": 8,
    "start_time": "2022-04-05T07:39:12.593Z"
   },
   {
    "duration": 34,
    "start_time": "2022-04-05T07:39:12.603Z"
   },
   {
    "duration": 26,
    "start_time": "2022-04-05T07:39:12.639Z"
   },
   {
    "duration": 12,
    "start_time": "2022-04-05T07:39:12.667Z"
   },
   {
    "duration": 12,
    "start_time": "2022-04-05T07:39:12.681Z"
   },
   {
    "duration": 139,
    "start_time": "2022-04-05T07:39:12.695Z"
   },
   {
    "duration": 0,
    "start_time": "2022-04-05T07:39:12.837Z"
   },
   {
    "duration": 0,
    "start_time": "2022-04-05T07:39:12.838Z"
   },
   {
    "duration": 9,
    "start_time": "2022-04-05T07:39:31.906Z"
   },
   {
    "duration": 175,
    "start_time": "2022-04-05T07:39:42.290Z"
   },
   {
    "duration": 172,
    "start_time": "2022-04-05T07:39:56.114Z"
   },
   {
    "duration": 1254,
    "start_time": "2022-04-05T07:40:47.224Z"
   },
   {
    "duration": 37,
    "start_time": "2022-04-05T07:40:48.480Z"
   },
   {
    "duration": 11,
    "start_time": "2022-04-05T07:40:48.519Z"
   },
   {
    "duration": 25,
    "start_time": "2022-04-05T07:40:48.533Z"
   },
   {
    "duration": 5,
    "start_time": "2022-04-05T07:40:48.560Z"
   },
   {
    "duration": 9,
    "start_time": "2022-04-05T07:40:48.567Z"
   },
   {
    "duration": 13,
    "start_time": "2022-04-05T07:40:48.578Z"
   },
   {
    "duration": 15,
    "start_time": "2022-04-05T07:40:48.592Z"
   },
   {
    "duration": 41,
    "start_time": "2022-04-05T07:40:48.608Z"
   },
   {
    "duration": 7,
    "start_time": "2022-04-05T07:40:48.651Z"
   },
   {
    "duration": 7,
    "start_time": "2022-04-05T07:40:48.660Z"
   },
   {
    "duration": 11,
    "start_time": "2022-04-05T07:40:48.668Z"
   },
   {
    "duration": 7,
    "start_time": "2022-04-05T07:40:48.680Z"
   },
   {
    "duration": 7,
    "start_time": "2022-04-05T07:40:48.688Z"
   },
   {
    "duration": 50,
    "start_time": "2022-04-05T07:40:48.697Z"
   },
   {
    "duration": 22,
    "start_time": "2022-04-05T07:40:48.749Z"
   },
   {
    "duration": 11,
    "start_time": "2022-04-05T07:40:48.773Z"
   },
   {
    "duration": 122,
    "start_time": "2022-04-05T07:40:48.786Z"
   },
   {
    "duration": 0,
    "start_time": "2022-04-05T07:40:48.910Z"
   },
   {
    "duration": 0,
    "start_time": "2022-04-05T07:40:48.911Z"
   },
   {
    "duration": 7,
    "start_time": "2022-04-05T07:40:52.377Z"
   },
   {
    "duration": 170,
    "start_time": "2022-04-05T07:40:53.585Z"
   },
   {
    "duration": 118,
    "start_time": "2022-04-05T07:56:48.991Z"
   },
   {
    "duration": 121,
    "start_time": "2022-04-05T07:57:18.671Z"
   },
   {
    "duration": 122,
    "start_time": "2022-04-05T07:57:23.950Z"
   },
   {
    "duration": 137,
    "start_time": "2022-04-05T07:57:27.823Z"
   },
   {
    "duration": 7,
    "start_time": "2022-04-05T07:59:17.350Z"
   },
   {
    "duration": 9,
    "start_time": "2022-04-05T08:00:16.943Z"
   },
   {
    "duration": 10,
    "start_time": "2022-04-05T08:00:24.349Z"
   },
   {
    "duration": 9,
    "start_time": "2022-04-05T08:00:30.077Z"
   },
   {
    "duration": 7,
    "start_time": "2022-04-05T08:00:31.910Z"
   },
   {
    "duration": 9,
    "start_time": "2022-04-05T08:00:32.622Z"
   },
   {
    "duration": 9,
    "start_time": "2022-04-05T08:04:05.429Z"
   },
   {
    "duration": 244,
    "start_time": "2022-04-05T08:04:06.013Z"
   },
   {
    "duration": 137,
    "start_time": "2022-04-05T08:05:24.253Z"
   },
   {
    "duration": 157,
    "start_time": "2022-04-05T08:05:38.344Z"
   },
   {
    "duration": 197,
    "start_time": "2022-04-05T08:07:14.060Z"
   },
   {
    "duration": 188,
    "start_time": "2022-04-05T08:07:21.925Z"
   },
   {
    "duration": 264,
    "start_time": "2022-04-05T08:10:33.444Z"
   },
   {
    "duration": 222,
    "start_time": "2022-04-05T08:10:55.724Z"
   },
   {
    "duration": 160,
    "start_time": "2022-04-05T08:11:11.083Z"
   },
   {
    "duration": 83,
    "start_time": "2022-04-05T08:11:18.356Z"
   },
   {
    "duration": 134,
    "start_time": "2022-04-05T08:11:21.533Z"
   },
   {
    "duration": 85,
    "start_time": "2022-04-05T08:11:37.372Z"
   },
   {
    "duration": 271,
    "start_time": "2022-04-05T08:11:58.044Z"
   },
   {
    "duration": 87,
    "start_time": "2022-04-05T08:12:37.779Z"
   },
   {
    "duration": 190,
    "start_time": "2022-04-05T08:13:01.669Z"
   },
   {
    "duration": 95,
    "start_time": "2022-04-05T08:13:33.107Z"
   },
   {
    "duration": 187,
    "start_time": "2022-04-05T08:14:09.277Z"
   },
   {
    "duration": 187,
    "start_time": "2022-04-05T08:15:19.180Z"
   },
   {
    "duration": 89,
    "start_time": "2022-04-05T08:15:22.867Z"
   },
   {
    "duration": 1349,
    "start_time": "2022-04-05T08:15:28.003Z"
   },
   {
    "duration": 40,
    "start_time": "2022-04-05T08:15:29.354Z"
   },
   {
    "duration": 15,
    "start_time": "2022-04-05T08:15:29.396Z"
   },
   {
    "duration": 13,
    "start_time": "2022-04-05T08:15:29.413Z"
   },
   {
    "duration": 6,
    "start_time": "2022-04-05T08:15:29.428Z"
   },
   {
    "duration": 20,
    "start_time": "2022-04-05T08:15:29.436Z"
   },
   {
    "duration": 15,
    "start_time": "2022-04-05T08:15:29.458Z"
   },
   {
    "duration": 13,
    "start_time": "2022-04-05T08:15:29.475Z"
   },
   {
    "duration": 11,
    "start_time": "2022-04-05T08:15:29.490Z"
   },
   {
    "duration": 4,
    "start_time": "2022-04-05T08:15:29.504Z"
   },
   {
    "duration": 8,
    "start_time": "2022-04-05T08:15:29.532Z"
   },
   {
    "duration": 19,
    "start_time": "2022-04-05T08:15:29.542Z"
   },
   {
    "duration": 6,
    "start_time": "2022-04-05T08:15:29.563Z"
   },
   {
    "duration": 6,
    "start_time": "2022-04-05T08:15:29.571Z"
   },
   {
    "duration": 12,
    "start_time": "2022-04-05T08:15:29.578Z"
   },
   {
    "duration": 47,
    "start_time": "2022-04-05T08:15:29.592Z"
   },
   {
    "duration": 25,
    "start_time": "2022-04-05T08:15:29.643Z"
   },
   {
    "duration": 5,
    "start_time": "2022-04-05T08:15:29.671Z"
   },
   {
    "duration": 177,
    "start_time": "2022-04-05T08:15:29.678Z"
   },
   {
    "duration": 141,
    "start_time": "2022-04-05T08:15:29.857Z"
   },
   {
    "duration": 8,
    "start_time": "2022-04-05T08:15:30.000Z"
   },
   {
    "duration": 27,
    "start_time": "2022-04-05T08:15:30.010Z"
   },
   {
    "duration": 18,
    "start_time": "2022-04-05T08:15:30.039Z"
   },
   {
    "duration": 174,
    "start_time": "2022-04-05T08:15:30.059Z"
   },
   {
    "duration": 190,
    "start_time": "2022-04-05T08:15:37.220Z"
   },
   {
    "duration": 190,
    "start_time": "2022-04-05T08:16:50.379Z"
   },
   {
    "duration": 79,
    "start_time": "2022-04-05T08:18:15.548Z"
   },
   {
    "duration": 88,
    "start_time": "2022-04-05T08:18:22.500Z"
   },
   {
    "duration": 189,
    "start_time": "2022-04-05T08:18:31.132Z"
   },
   {
    "duration": 184,
    "start_time": "2022-04-05T08:18:43.346Z"
   },
   {
    "duration": 191,
    "start_time": "2022-04-05T08:19:00.117Z"
   },
   {
    "duration": 289,
    "start_time": "2022-04-05T08:19:40.587Z"
   },
   {
    "duration": 86,
    "start_time": "2022-04-05T08:19:48.499Z"
   },
   {
    "duration": 87,
    "start_time": "2022-04-05T08:19:54.404Z"
   },
   {
    "duration": 195,
    "start_time": "2022-04-05T08:21:12.700Z"
   },
   {
    "duration": 5,
    "start_time": "2022-04-05T08:22:54.266Z"
   },
   {
    "duration": 87,
    "start_time": "2022-04-05T08:23:06.603Z"
   },
   {
    "duration": 269,
    "start_time": "2022-04-05T08:23:18.780Z"
   },
   {
    "duration": 105,
    "start_time": "2022-04-05T08:23:29.786Z"
   },
   {
    "duration": 135,
    "start_time": "2022-04-05T08:23:43.283Z"
   },
   {
    "duration": 131,
    "start_time": "2022-04-05T08:23:56.379Z"
   },
   {
    "duration": 143,
    "start_time": "2022-04-05T08:24:00.211Z"
   },
   {
    "duration": 139,
    "start_time": "2022-04-05T08:24:08.347Z"
   },
   {
    "duration": 296,
    "start_time": "2022-04-05T08:24:15.044Z"
   },
   {
    "duration": 3257,
    "start_time": "2022-04-05T08:26:31.012Z"
   },
   {
    "duration": 3383,
    "start_time": "2022-04-05T08:26:37.500Z"
   },
   {
    "duration": 214,
    "start_time": "2022-04-05T08:26:48.084Z"
   },
   {
    "duration": 9,
    "start_time": "2022-04-05T08:26:53.291Z"
   },
   {
    "duration": 6,
    "start_time": "2022-04-05T08:27:22.420Z"
   },
   {
    "duration": 175,
    "start_time": "2022-04-05T08:27:25.811Z"
   },
   {
    "duration": 200,
    "start_time": "2022-04-05T08:27:42.941Z"
   },
   {
    "duration": 188,
    "start_time": "2022-04-05T08:27:47.699Z"
   },
   {
    "duration": 192,
    "start_time": "2022-04-05T08:28:04.876Z"
   },
   {
    "duration": 12,
    "start_time": "2022-04-05T08:35:00.181Z"
   },
   {
    "duration": 1267,
    "start_time": "2022-04-05T08:35:05.660Z"
   },
   {
    "duration": 10,
    "start_time": "2022-04-05T08:35:09.404Z"
   },
   {
    "duration": 10,
    "start_time": "2022-04-05T08:35:30.380Z"
   },
   {
    "duration": 0,
    "start_time": "2022-04-05T08:35:48.599Z"
   },
   {
    "duration": 1228,
    "start_time": "2022-04-05T08:35:53.864Z"
   },
   {
    "duration": 36,
    "start_time": "2022-04-05T08:35:55.094Z"
   },
   {
    "duration": 18,
    "start_time": "2022-04-05T08:35:55.132Z"
   },
   {
    "duration": 16,
    "start_time": "2022-04-05T08:35:55.152Z"
   },
   {
    "duration": 7,
    "start_time": "2022-04-05T08:35:55.169Z"
   },
   {
    "duration": 13,
    "start_time": "2022-04-05T08:35:55.177Z"
   },
   {
    "duration": 15,
    "start_time": "2022-04-05T08:35:55.192Z"
   },
   {
    "duration": 42,
    "start_time": "2022-04-05T08:35:55.208Z"
   },
   {
    "duration": 11,
    "start_time": "2022-04-05T08:35:55.252Z"
   },
   {
    "duration": 5,
    "start_time": "2022-04-05T08:35:55.266Z"
   },
   {
    "duration": 7,
    "start_time": "2022-04-05T08:35:55.273Z"
   },
   {
    "duration": 10,
    "start_time": "2022-04-05T08:35:55.282Z"
   },
   {
    "duration": 6,
    "start_time": "2022-04-05T08:35:55.294Z"
   },
   {
    "duration": 6,
    "start_time": "2022-04-05T08:35:55.333Z"
   },
   {
    "duration": 18,
    "start_time": "2022-04-05T08:35:55.341Z"
   },
   {
    "duration": 21,
    "start_time": "2022-04-05T08:35:55.360Z"
   },
   {
    "duration": 14,
    "start_time": "2022-04-05T08:35:55.382Z"
   },
   {
    "duration": 8,
    "start_time": "2022-04-05T08:35:55.398Z"
   },
   {
    "duration": 200,
    "start_time": "2022-04-05T08:35:55.408Z"
   },
   {
    "duration": 147,
    "start_time": "2022-04-05T08:35:55.609Z"
   },
   {
    "duration": 6,
    "start_time": "2022-04-05T08:35:55.758Z"
   },
   {
    "duration": 14,
    "start_time": "2022-04-05T08:35:55.766Z"
   },
   {
    "duration": 6,
    "start_time": "2022-04-05T08:35:55.782Z"
   },
   {
    "duration": 290,
    "start_time": "2022-04-05T08:35:55.790Z"
   },
   {
    "duration": 199,
    "start_time": "2022-04-05T08:35:56.082Z"
   },
   {
    "duration": 344,
    "start_time": "2022-04-05T08:37:05.116Z"
   },
   {
    "duration": 94,
    "start_time": "2022-04-05T08:37:10.460Z"
   },
   {
    "duration": 197,
    "start_time": "2022-04-05T08:37:20.757Z"
   },
   {
    "duration": 10,
    "start_time": "2022-04-05T08:37:25.772Z"
   },
   {
    "duration": 1192,
    "start_time": "2022-04-05T08:37:31.195Z"
   },
   {
    "duration": 36,
    "start_time": "2022-04-05T08:37:32.389Z"
   },
   {
    "duration": 15,
    "start_time": "2022-04-05T08:37:32.427Z"
   },
   {
    "duration": 17,
    "start_time": "2022-04-05T08:37:32.445Z"
   },
   {
    "duration": 5,
    "start_time": "2022-04-05T08:37:32.464Z"
   },
   {
    "duration": 9,
    "start_time": "2022-04-05T08:37:32.471Z"
   },
   {
    "duration": 15,
    "start_time": "2022-04-05T08:37:32.481Z"
   },
   {
    "duration": 46,
    "start_time": "2022-04-05T08:37:32.498Z"
   },
   {
    "duration": 14,
    "start_time": "2022-04-05T08:37:32.547Z"
   },
   {
    "duration": 9,
    "start_time": "2022-04-05T08:37:32.564Z"
   },
   {
    "duration": 8,
    "start_time": "2022-04-05T08:37:32.575Z"
   },
   {
    "duration": 13,
    "start_time": "2022-04-05T08:37:32.585Z"
   },
   {
    "duration": 6,
    "start_time": "2022-04-05T08:37:32.600Z"
   },
   {
    "duration": 33,
    "start_time": "2022-04-05T08:37:32.607Z"
   },
   {
    "duration": 24,
    "start_time": "2022-04-05T08:37:32.642Z"
   },
   {
    "duration": 22,
    "start_time": "2022-04-05T08:37:32.667Z"
   },
   {
    "duration": 13,
    "start_time": "2022-04-05T08:37:32.691Z"
   },
   {
    "duration": 29,
    "start_time": "2022-04-05T08:37:32.706Z"
   },
   {
    "duration": 173,
    "start_time": "2022-04-05T08:37:32.738Z"
   },
   {
    "duration": 133,
    "start_time": "2022-04-05T08:37:32.913Z"
   },
   {
    "duration": 8,
    "start_time": "2022-04-05T08:37:33.049Z"
   },
   {
    "duration": 11,
    "start_time": "2022-04-05T08:37:33.059Z"
   },
   {
    "duration": 8,
    "start_time": "2022-04-05T08:37:33.072Z"
   },
   {
    "duration": 312,
    "start_time": "2022-04-05T08:37:33.081Z"
   },
   {
    "duration": 195,
    "start_time": "2022-04-05T08:37:33.395Z"
   },
   {
    "duration": 119,
    "start_time": "2022-04-05T08:44:03.874Z"
   },
   {
    "duration": 6,
    "start_time": "2022-04-05T08:44:12.274Z"
   },
   {
    "duration": 152,
    "start_time": "2022-04-05T08:44:27.082Z"
   },
   {
    "duration": 357,
    "start_time": "2022-04-05T08:45:03.514Z"
   },
   {
    "duration": 296,
    "start_time": "2022-04-05T08:45:09.474Z"
   },
   {
    "duration": 312,
    "start_time": "2022-04-05T08:45:26.314Z"
   },
   {
    "duration": 302,
    "start_time": "2022-04-05T08:46:38.250Z"
   },
   {
    "duration": 263,
    "start_time": "2022-04-05T08:46:50.978Z"
   },
   {
    "duration": 1352,
    "start_time": "2022-04-05T11:53:34.414Z"
   },
   {
    "duration": 49,
    "start_time": "2022-04-05T11:53:35.768Z"
   },
   {
    "duration": 11,
    "start_time": "2022-04-05T11:53:35.819Z"
   },
   {
    "duration": 25,
    "start_time": "2022-04-05T11:53:35.832Z"
   },
   {
    "duration": 6,
    "start_time": "2022-04-05T11:53:35.859Z"
   },
   {
    "duration": 10,
    "start_time": "2022-04-05T11:53:35.867Z"
   },
   {
    "duration": 13,
    "start_time": "2022-04-05T11:53:35.879Z"
   },
   {
    "duration": 13,
    "start_time": "2022-04-05T11:53:35.894Z"
   },
   {
    "duration": 13,
    "start_time": "2022-04-05T11:53:35.940Z"
   },
   {
    "duration": 5,
    "start_time": "2022-04-05T11:53:35.955Z"
   },
   {
    "duration": 6,
    "start_time": "2022-04-05T11:53:35.962Z"
   },
   {
    "duration": 9,
    "start_time": "2022-04-05T11:53:35.970Z"
   },
   {
    "duration": 5,
    "start_time": "2022-04-05T11:53:35.981Z"
   },
   {
    "duration": 6,
    "start_time": "2022-04-05T11:53:35.988Z"
   },
   {
    "duration": 38,
    "start_time": "2022-04-05T11:53:35.995Z"
   },
   {
    "duration": 25,
    "start_time": "2022-04-05T11:53:36.035Z"
   },
   {
    "duration": 11,
    "start_time": "2022-04-05T11:53:36.062Z"
   },
   {
    "duration": 6,
    "start_time": "2022-04-05T11:53:36.075Z"
   },
   {
    "duration": 208,
    "start_time": "2022-04-05T11:53:36.082Z"
   },
   {
    "duration": 142,
    "start_time": "2022-04-05T11:53:36.292Z"
   },
   {
    "duration": 9,
    "start_time": "2022-04-05T11:53:36.437Z"
   },
   {
    "duration": 24,
    "start_time": "2022-04-05T11:53:36.448Z"
   },
   {
    "duration": 7,
    "start_time": "2022-04-05T11:53:36.474Z"
   },
   {
    "duration": 298,
    "start_time": "2022-04-05T11:53:36.482Z"
   },
   {
    "duration": 198,
    "start_time": "2022-04-05T11:53:36.781Z"
   },
   {
    "duration": 6,
    "start_time": "2022-04-05T11:53:36.980Z"
   },
   {
    "duration": 320,
    "start_time": "2022-04-05T11:53:36.988Z"
   },
   {
    "duration": 13,
    "start_time": "2022-04-05T11:53:48.886Z"
   },
   {
    "duration": 6,
    "start_time": "2022-04-05T11:53:56.071Z"
   },
   {
    "duration": 15,
    "start_time": "2022-04-05T11:56:20.048Z"
   },
   {
    "duration": 40,
    "start_time": "2022-04-05T11:57:35.452Z"
   },
   {
    "duration": 109,
    "start_time": "2022-04-05T11:57:43.063Z"
   },
   {
    "duration": 9,
    "start_time": "2022-04-05T11:57:58.720Z"
   },
   {
    "duration": 11,
    "start_time": "2022-04-05T11:58:03.045Z"
   },
   {
    "duration": 8,
    "start_time": "2022-04-05T11:58:04.799Z"
   },
   {
    "duration": 15,
    "start_time": "2022-04-05T11:58:08.639Z"
   },
   {
    "duration": 1170,
    "start_time": "2022-04-05T11:58:14.171Z"
   },
   {
    "duration": 41,
    "start_time": "2022-04-05T11:58:15.347Z"
   },
   {
    "duration": 11,
    "start_time": "2022-04-05T11:58:15.390Z"
   },
   {
    "duration": 14,
    "start_time": "2022-04-05T11:58:15.404Z"
   },
   {
    "duration": 5,
    "start_time": "2022-04-05T11:58:15.420Z"
   },
   {
    "duration": 12,
    "start_time": "2022-04-05T11:58:15.427Z"
   },
   {
    "duration": 31,
    "start_time": "2022-04-05T11:58:15.441Z"
   },
   {
    "duration": 14,
    "start_time": "2022-04-05T11:58:15.474Z"
   },
   {
    "duration": 12,
    "start_time": "2022-04-05T11:58:15.490Z"
   },
   {
    "duration": 9,
    "start_time": "2022-04-05T11:58:15.505Z"
   },
   {
    "duration": 19,
    "start_time": "2022-04-05T11:58:15.515Z"
   },
   {
    "duration": 27,
    "start_time": "2022-04-05T11:58:15.536Z"
   },
   {
    "duration": 7,
    "start_time": "2022-04-05T11:58:15.565Z"
   },
   {
    "duration": 13,
    "start_time": "2022-04-05T11:58:15.573Z"
   },
   {
    "duration": 19,
    "start_time": "2022-04-05T11:58:15.588Z"
   },
   {
    "duration": 42,
    "start_time": "2022-04-05T11:58:15.608Z"
   },
   {
    "duration": 15,
    "start_time": "2022-04-05T11:58:15.651Z"
   },
   {
    "duration": 9,
    "start_time": "2022-04-05T11:58:15.668Z"
   },
   {
    "duration": 190,
    "start_time": "2022-04-05T11:58:15.678Z"
   },
   {
    "duration": 148,
    "start_time": "2022-04-05T11:58:15.870Z"
   },
   {
    "duration": 19,
    "start_time": "2022-04-05T11:58:16.019Z"
   },
   {
    "duration": 29,
    "start_time": "2022-04-05T11:58:16.040Z"
   },
   {
    "duration": 8,
    "start_time": "2022-04-05T11:58:16.071Z"
   },
   {
    "duration": 316,
    "start_time": "2022-04-05T11:58:16.081Z"
   },
   {
    "duration": 198,
    "start_time": "2022-04-05T11:58:16.398Z"
   },
   {
    "duration": 7,
    "start_time": "2022-04-05T11:58:16.597Z"
   },
   {
    "duration": 361,
    "start_time": "2022-04-05T11:58:16.606Z"
   },
   {
    "duration": 75,
    "start_time": "2022-04-05T11:58:16.970Z"
   },
   {
    "duration": 105,
    "start_time": "2022-04-05T11:58:31.964Z"
   },
   {
    "duration": 1164,
    "start_time": "2022-04-05T11:58:38.193Z"
   },
   {
    "duration": 35,
    "start_time": "2022-04-05T11:58:39.359Z"
   },
   {
    "duration": 12,
    "start_time": "2022-04-05T11:58:39.396Z"
   },
   {
    "duration": 19,
    "start_time": "2022-04-05T11:58:39.410Z"
   },
   {
    "duration": 6,
    "start_time": "2022-04-05T11:58:39.432Z"
   },
   {
    "duration": 10,
    "start_time": "2022-04-05T11:58:39.440Z"
   },
   {
    "duration": 15,
    "start_time": "2022-04-05T11:58:39.452Z"
   },
   {
    "duration": 14,
    "start_time": "2022-04-05T11:58:39.469Z"
   },
   {
    "duration": 13,
    "start_time": "2022-04-05T11:58:39.484Z"
   },
   {
    "duration": 38,
    "start_time": "2022-04-05T11:58:39.499Z"
   },
   {
    "duration": 10,
    "start_time": "2022-04-05T11:58:39.539Z"
   },
   {
    "duration": 16,
    "start_time": "2022-04-05T11:58:39.551Z"
   },
   {
    "duration": 12,
    "start_time": "2022-04-05T11:58:39.569Z"
   },
   {
    "duration": 10,
    "start_time": "2022-04-05T11:58:39.583Z"
   },
   {
    "duration": 15,
    "start_time": "2022-04-05T11:58:39.595Z"
   },
   {
    "duration": 41,
    "start_time": "2022-04-05T11:58:39.611Z"
   },
   {
    "duration": 25,
    "start_time": "2022-04-05T11:58:39.654Z"
   },
   {
    "duration": 7,
    "start_time": "2022-04-05T11:58:39.681Z"
   },
   {
    "duration": 202,
    "start_time": "2022-04-05T11:58:39.690Z"
   },
   {
    "duration": 136,
    "start_time": "2022-04-05T11:58:39.893Z"
   },
   {
    "duration": 8,
    "start_time": "2022-04-05T11:58:40.033Z"
   },
   {
    "duration": 20,
    "start_time": "2022-04-05T11:58:40.043Z"
   },
   {
    "duration": 13,
    "start_time": "2022-04-05T11:58:40.065Z"
   },
   {
    "duration": 287,
    "start_time": "2022-04-05T11:58:40.080Z"
   },
   {
    "duration": 200,
    "start_time": "2022-04-05T11:58:40.369Z"
   },
   {
    "duration": 6,
    "start_time": "2022-04-05T11:58:40.571Z"
   },
   {
    "duration": 293,
    "start_time": "2022-04-05T11:58:40.579Z"
   },
   {
    "duration": 144,
    "start_time": "2022-04-05T11:58:40.875Z"
   },
   {
    "duration": 9,
    "start_time": "2022-04-05T11:58:58.386Z"
   },
   {
    "duration": 1235,
    "start_time": "2022-04-05T11:59:03.934Z"
   },
   {
    "duration": 54,
    "start_time": "2022-04-05T11:59:05.171Z"
   },
   {
    "duration": 16,
    "start_time": "2022-04-05T11:59:05.226Z"
   },
   {
    "duration": 19,
    "start_time": "2022-04-05T11:59:05.245Z"
   },
   {
    "duration": 10,
    "start_time": "2022-04-05T11:59:05.266Z"
   },
   {
    "duration": 8,
    "start_time": "2022-04-05T11:59:05.278Z"
   },
   {
    "duration": 19,
    "start_time": "2022-04-05T11:59:05.288Z"
   },
   {
    "duration": 39,
    "start_time": "2022-04-05T11:59:05.309Z"
   },
   {
    "duration": 11,
    "start_time": "2022-04-05T11:59:05.350Z"
   },
   {
    "duration": 5,
    "start_time": "2022-04-05T11:59:05.364Z"
   },
   {
    "duration": 7,
    "start_time": "2022-04-05T11:59:05.371Z"
   },
   {
    "duration": 12,
    "start_time": "2022-04-05T11:59:05.379Z"
   },
   {
    "duration": 8,
    "start_time": "2022-04-05T11:59:05.392Z"
   },
   {
    "duration": 7,
    "start_time": "2022-04-05T11:59:05.434Z"
   },
   {
    "duration": 19,
    "start_time": "2022-04-05T11:59:05.443Z"
   },
   {
    "duration": 21,
    "start_time": "2022-04-05T11:59:05.464Z"
   },
   {
    "duration": 14,
    "start_time": "2022-04-05T11:59:05.487Z"
   },
   {
    "duration": 9,
    "start_time": "2022-04-05T11:59:05.502Z"
   },
   {
    "duration": 187,
    "start_time": "2022-04-05T11:59:05.536Z"
   },
   {
    "duration": 149,
    "start_time": "2022-04-05T11:59:05.725Z"
   },
   {
    "duration": 7,
    "start_time": "2022-04-05T11:59:05.875Z"
   },
   {
    "duration": 12,
    "start_time": "2022-04-05T11:59:05.884Z"
   },
   {
    "duration": 6,
    "start_time": "2022-04-05T11:59:05.898Z"
   },
   {
    "duration": 321,
    "start_time": "2022-04-05T11:59:05.905Z"
   },
   {
    "duration": 250,
    "start_time": "2022-04-05T11:59:06.232Z"
   },
   {
    "duration": 6,
    "start_time": "2022-04-05T11:59:06.484Z"
   },
   {
    "duration": 337,
    "start_time": "2022-04-05T11:59:06.492Z"
   },
   {
    "duration": 20,
    "start_time": "2022-04-05T11:59:06.833Z"
   },
   {
    "duration": 4,
    "start_time": "2022-04-05T12:00:05.398Z"
   },
   {
    "duration": 148,
    "start_time": "2022-04-05T12:00:22.126Z"
   },
   {
    "duration": 283,
    "start_time": "2022-04-05T12:00:56.871Z"
   },
   {
    "duration": 266,
    "start_time": "2022-04-05T12:01:09.079Z"
   },
   {
    "duration": 211,
    "start_time": "2022-04-05T12:01:21.030Z"
   },
   {
    "duration": 208,
    "start_time": "2022-04-05T12:01:41.847Z"
   },
   {
    "duration": 203,
    "start_time": "2022-04-05T12:02:16.311Z"
   },
   {
    "duration": 293,
    "start_time": "2022-04-05T12:02:22.335Z"
   },
   {
    "duration": 291,
    "start_time": "2022-04-05T12:02:51.295Z"
   },
   {
    "duration": 322,
    "start_time": "2022-04-05T12:54:41.673Z"
   },
   {
    "duration": 4,
    "start_time": "2022-04-05T12:58:24.817Z"
   },
   {
    "duration": 136,
    "start_time": "2022-04-05T12:58:32.377Z"
   },
   {
    "duration": 14,
    "start_time": "2022-04-05T12:59:32.346Z"
   },
   {
    "duration": 8,
    "start_time": "2022-04-05T12:59:36.082Z"
   },
   {
    "duration": 300,
    "start_time": "2022-04-05T12:59:37.002Z"
   },
   {
    "duration": 7,
    "start_time": "2022-04-05T12:59:38.897Z"
   },
   {
    "duration": 299,
    "start_time": "2022-04-05T12:59:40.450Z"
   },
   {
    "duration": 329,
    "start_time": "2022-04-05T13:00:03.451Z"
   },
   {
    "duration": 306,
    "start_time": "2022-04-05T13:00:09.497Z"
   },
   {
    "duration": 319,
    "start_time": "2022-04-05T13:00:16.637Z"
   },
   {
    "duration": 306,
    "start_time": "2022-04-05T13:00:45.046Z"
   },
   {
    "duration": 308,
    "start_time": "2022-04-05T13:01:07.249Z"
   },
   {
    "duration": 191,
    "start_time": "2022-04-05T13:15:03.755Z"
   },
   {
    "duration": 228,
    "start_time": "2022-04-05T13:17:44.867Z"
   },
   {
    "duration": 123,
    "start_time": "2022-04-05T13:17:49.544Z"
   },
   {
    "duration": 14,
    "start_time": "2022-04-05T13:19:09.395Z"
   },
   {
    "duration": 13,
    "start_time": "2022-04-05T13:19:34.082Z"
   },
   {
    "duration": 13,
    "start_time": "2022-04-05T13:19:50.458Z"
   },
   {
    "duration": 16,
    "start_time": "2022-04-05T13:20:01.779Z"
   },
   {
    "duration": 14,
    "start_time": "2022-04-05T13:20:10.324Z"
   },
   {
    "duration": 19,
    "start_time": "2022-04-05T13:20:24.730Z"
   },
   {
    "duration": 15,
    "start_time": "2022-04-05T13:20:37.347Z"
   },
   {
    "duration": 240,
    "start_time": "2022-04-05T13:21:06.244Z"
   },
   {
    "duration": 16,
    "start_time": "2022-04-05T13:21:14.587Z"
   },
   {
    "duration": 10,
    "start_time": "2022-04-05T13:22:16.045Z"
   },
   {
    "duration": 101,
    "start_time": "2022-04-05T13:22:22.707Z"
   },
   {
    "duration": 9,
    "start_time": "2022-04-05T13:22:30.179Z"
   },
   {
    "duration": 17,
    "start_time": "2022-04-05T13:22:39.139Z"
   },
   {
    "duration": 14,
    "start_time": "2022-04-05T13:25:33.970Z"
   },
   {
    "duration": 11,
    "start_time": "2022-04-05T13:28:03.883Z"
   },
   {
    "duration": 15,
    "start_time": "2022-04-05T13:28:07.986Z"
   },
   {
    "duration": 16,
    "start_time": "2022-04-05T13:28:30.522Z"
   },
   {
    "duration": 15,
    "start_time": "2022-04-05T13:28:35.867Z"
   },
   {
    "duration": 15,
    "start_time": "2022-04-05T13:28:38.571Z"
   },
   {
    "duration": 17,
    "start_time": "2022-04-05T13:30:00.140Z"
   },
   {
    "duration": 7,
    "start_time": "2022-04-05T13:30:14.292Z"
   },
   {
    "duration": 12,
    "start_time": "2022-04-05T13:30:21.985Z"
   },
   {
    "duration": 10,
    "start_time": "2022-04-05T13:30:39.706Z"
   },
   {
    "duration": 1158,
    "start_time": "2022-04-05T13:34:13.650Z"
   },
   {
    "duration": 40,
    "start_time": "2022-04-05T13:34:14.810Z"
   },
   {
    "duration": 11,
    "start_time": "2022-04-05T13:34:14.852Z"
   },
   {
    "duration": 15,
    "start_time": "2022-04-05T13:34:14.865Z"
   },
   {
    "duration": 5,
    "start_time": "2022-04-05T13:34:14.882Z"
   },
   {
    "duration": 12,
    "start_time": "2022-04-05T13:34:14.889Z"
   },
   {
    "duration": 16,
    "start_time": "2022-04-05T13:34:14.902Z"
   },
   {
    "duration": 32,
    "start_time": "2022-04-05T13:34:14.920Z"
   },
   {
    "duration": 11,
    "start_time": "2022-04-05T13:34:14.954Z"
   },
   {
    "duration": 5,
    "start_time": "2022-04-05T13:34:14.968Z"
   },
   {
    "duration": 7,
    "start_time": "2022-04-05T13:34:14.975Z"
   },
   {
    "duration": 12,
    "start_time": "2022-04-05T13:34:14.983Z"
   },
   {
    "duration": 39,
    "start_time": "2022-04-05T13:34:14.996Z"
   },
   {
    "duration": 12,
    "start_time": "2022-04-05T13:34:15.038Z"
   },
   {
    "duration": 11,
    "start_time": "2022-04-05T13:34:15.052Z"
   },
   {
    "duration": 22,
    "start_time": "2022-04-05T13:34:15.065Z"
   },
   {
    "duration": 13,
    "start_time": "2022-04-05T13:34:15.089Z"
   },
   {
    "duration": 8,
    "start_time": "2022-04-05T13:34:15.133Z"
   },
   {
    "duration": 185,
    "start_time": "2022-04-05T13:34:15.143Z"
   },
   {
    "duration": 143,
    "start_time": "2022-04-05T13:34:15.332Z"
   },
   {
    "duration": 6,
    "start_time": "2022-04-05T13:34:15.477Z"
   },
   {
    "duration": 12,
    "start_time": "2022-04-05T13:34:15.485Z"
   },
   {
    "duration": 9,
    "start_time": "2022-04-05T13:34:15.499Z"
   },
   {
    "duration": 296,
    "start_time": "2022-04-05T13:34:15.510Z"
   },
   {
    "duration": 206,
    "start_time": "2022-04-05T13:34:15.808Z"
   },
   {
    "duration": 6,
    "start_time": "2022-04-05T13:34:16.017Z"
   },
   {
    "duration": 329,
    "start_time": "2022-04-05T13:34:16.034Z"
   },
   {
    "duration": 11,
    "start_time": "2022-04-05T13:34:16.366Z"
   },
   {
    "duration": 4,
    "start_time": "2022-04-05T13:34:16.379Z"
   },
   {
    "duration": 222,
    "start_time": "2022-04-05T13:34:16.385Z"
   },
   {
    "duration": 7,
    "start_time": "2022-04-05T13:34:16.609Z"
   },
   {
    "duration": 342,
    "start_time": "2022-04-05T13:34:16.618Z"
   },
   {
    "duration": 7,
    "start_time": "2022-04-05T13:34:16.962Z"
   },
   {
    "duration": 9,
    "start_time": "2022-04-05T13:34:16.971Z"
   },
   {
    "duration": 13,
    "start_time": "2022-04-05T13:34:34.684Z"
   },
   {
    "duration": 268,
    "start_time": "2022-04-05T13:35:09.213Z"
   },
   {
    "duration": 137,
    "start_time": "2022-04-05T13:35:16.028Z"
   },
   {
    "duration": 228,
    "start_time": "2022-04-05T13:36:19.933Z"
   },
   {
    "duration": 140,
    "start_time": "2022-04-05T13:36:23.587Z"
   },
   {
    "duration": 136,
    "start_time": "2022-04-05T13:36:56.548Z"
   },
   {
    "duration": 101,
    "start_time": "2022-04-05T13:37:22.963Z"
   },
   {
    "duration": 101,
    "start_time": "2022-04-05T13:37:39.245Z"
   },
   {
    "duration": 207,
    "start_time": "2022-04-05T13:37:56.845Z"
   },
   {
    "duration": 192,
    "start_time": "2022-04-05T13:38:02.221Z"
   },
   {
    "duration": 171,
    "start_time": "2022-04-05T13:38:24.835Z"
   },
   {
    "duration": 202,
    "start_time": "2022-04-05T13:38:27.163Z"
   },
   {
    "duration": 168,
    "start_time": "2022-04-05T13:38:55.380Z"
   },
   {
    "duration": 108,
    "start_time": "2022-04-05T13:39:13.867Z"
   },
   {
    "duration": 242,
    "start_time": "2022-04-05T13:39:35.934Z"
   },
   {
    "duration": 147,
    "start_time": "2022-04-05T13:40:06.171Z"
   },
   {
    "duration": 129,
    "start_time": "2022-04-05T13:40:13.467Z"
   },
   {
    "duration": 5,
    "start_time": "2022-04-05T13:40:52.954Z"
   },
   {
    "duration": 12,
    "start_time": "2022-04-05T13:44:08.403Z"
   },
   {
    "duration": 136,
    "start_time": "2022-04-05T13:44:14.754Z"
   },
   {
    "duration": 15,
    "start_time": "2022-04-05T13:51:23.240Z"
   },
   {
    "duration": 152,
    "start_time": "2022-04-05T14:15:07.931Z"
   },
   {
    "duration": 13,
    "start_time": "2022-04-05T14:15:19.506Z"
   },
   {
    "duration": 1857,
    "start_time": "2022-04-05T14:15:58.570Z"
   },
   {
    "duration": 117,
    "start_time": "2022-04-05T14:16:05.411Z"
   },
   {
    "duration": 136,
    "start_time": "2022-04-05T14:16:15.026Z"
   },
   {
    "duration": 108,
    "start_time": "2022-04-05T14:16:47.874Z"
   },
   {
    "duration": 120,
    "start_time": "2022-04-05T14:17:31.098Z"
   },
   {
    "duration": 116,
    "start_time": "2022-04-05T14:18:04.211Z"
   },
   {
    "duration": 122,
    "start_time": "2022-04-05T14:18:10.210Z"
   },
   {
    "duration": 13,
    "start_time": "2022-04-05T14:18:21.706Z"
   },
   {
    "duration": 137,
    "start_time": "2022-04-05T14:19:49.323Z"
   },
   {
    "duration": 225,
    "start_time": "2022-04-05T14:19:54.131Z"
   },
   {
    "duration": 6,
    "start_time": "2022-04-05T14:20:18.395Z"
   },
   {
    "duration": 7,
    "start_time": "2022-04-05T14:20:44.698Z"
   },
   {
    "duration": 141,
    "start_time": "2022-04-05T14:28:33.067Z"
   },
   {
    "duration": 211,
    "start_time": "2022-04-05T14:28:38.204Z"
   },
   {
    "duration": 160,
    "start_time": "2022-04-05T14:28:43.355Z"
   },
   {
    "duration": 146,
    "start_time": "2022-04-05T14:28:48.610Z"
   },
   {
    "duration": 158,
    "start_time": "2022-04-05T14:28:58.667Z"
   },
   {
    "duration": 147,
    "start_time": "2022-04-05T14:29:03.971Z"
   },
   {
    "duration": 136,
    "start_time": "2022-04-05T14:29:07.451Z"
   },
   {
    "duration": 156,
    "start_time": "2022-04-05T14:29:13.763Z"
   },
   {
    "duration": 168,
    "start_time": "2022-04-05T14:29:18.307Z"
   },
   {
    "duration": 260,
    "start_time": "2022-04-05T14:31:01.747Z"
   },
   {
    "duration": 4,
    "start_time": "2022-04-05T14:38:51.162Z"
   },
   {
    "duration": 1673,
    "start_time": "2022-04-05T14:38:54.211Z"
   },
   {
    "duration": 1946,
    "start_time": "2022-04-05T14:39:00.211Z"
   },
   {
    "duration": 4,
    "start_time": "2022-04-05T14:39:08.163Z"
   },
   {
    "duration": 5,
    "start_time": "2022-04-05T14:39:27.210Z"
   },
   {
    "duration": 5,
    "start_time": "2022-04-05T14:39:41.363Z"
   },
   {
    "duration": 131,
    "start_time": "2022-04-05T14:41:08.153Z"
   },
   {
    "duration": 136,
    "start_time": "2022-04-05T15:01:34.239Z"
   },
   {
    "duration": 177,
    "start_time": "2022-04-05T15:01:52.531Z"
   },
   {
    "duration": 13,
    "start_time": "2022-04-05T15:02:24.371Z"
   },
   {
    "duration": 138,
    "start_time": "2022-04-05T15:02:53.545Z"
   },
   {
    "duration": 151,
    "start_time": "2022-04-05T15:03:02.788Z"
   },
   {
    "duration": 185,
    "start_time": "2022-04-05T15:03:32.163Z"
   },
   {
    "duration": 46,
    "start_time": "2022-04-05T19:02:47.879Z"
   },
   {
    "duration": 1345,
    "start_time": "2022-04-05T19:03:00.797Z"
   },
   {
    "duration": 38,
    "start_time": "2022-04-05T19:03:02.144Z"
   },
   {
    "duration": 12,
    "start_time": "2022-04-05T19:03:02.183Z"
   },
   {
    "duration": 14,
    "start_time": "2022-04-05T19:03:02.197Z"
   },
   {
    "duration": 6,
    "start_time": "2022-04-05T19:03:02.212Z"
   },
   {
    "duration": 18,
    "start_time": "2022-04-05T19:03:02.220Z"
   },
   {
    "duration": 18,
    "start_time": "2022-04-05T19:03:02.240Z"
   },
   {
    "duration": 12,
    "start_time": "2022-04-05T19:03:02.260Z"
   },
   {
    "duration": 15,
    "start_time": "2022-04-05T19:03:02.273Z"
   },
   {
    "duration": 5,
    "start_time": "2022-04-05T19:03:02.291Z"
   },
   {
    "duration": 21,
    "start_time": "2022-04-05T19:03:02.297Z"
   },
   {
    "duration": 27,
    "start_time": "2022-04-05T19:03:02.320Z"
   },
   {
    "duration": 25,
    "start_time": "2022-04-05T19:03:02.349Z"
   },
   {
    "duration": 37,
    "start_time": "2022-04-05T19:03:02.375Z"
   },
   {
    "duration": 28,
    "start_time": "2022-04-05T19:03:02.414Z"
   },
   {
    "duration": 33,
    "start_time": "2022-04-05T19:03:02.443Z"
   },
   {
    "duration": 24,
    "start_time": "2022-04-05T19:03:02.478Z"
   },
   {
    "duration": 18,
    "start_time": "2022-04-05T19:03:02.503Z"
   },
   {
    "duration": 171,
    "start_time": "2022-04-05T19:03:02.523Z"
   },
   {
    "duration": 118,
    "start_time": "2022-04-05T19:03:02.696Z"
   },
   {
    "duration": 7,
    "start_time": "2022-04-05T19:03:02.815Z"
   },
   {
    "duration": 30,
    "start_time": "2022-04-05T19:03:02.824Z"
   },
   {
    "duration": 19,
    "start_time": "2022-04-05T19:03:02.856Z"
   },
   {
    "duration": 268,
    "start_time": "2022-04-05T19:03:02.877Z"
   },
   {
    "duration": 178,
    "start_time": "2022-04-05T19:03:03.147Z"
   },
   {
    "duration": 6,
    "start_time": "2022-04-05T19:03:03.327Z"
   },
   {
    "duration": 367,
    "start_time": "2022-04-05T19:03:03.334Z"
   },
   {
    "duration": 10,
    "start_time": "2022-04-05T19:03:03.705Z"
   },
   {
    "duration": 38,
    "start_time": "2022-04-05T19:03:03.717Z"
   },
   {
    "duration": 217,
    "start_time": "2022-04-05T19:03:03.757Z"
   },
   {
    "duration": 7,
    "start_time": "2022-04-05T19:03:03.976Z"
   },
   {
    "duration": 274,
    "start_time": "2022-04-05T19:03:03.984Z"
   },
   {
    "duration": 12,
    "start_time": "2022-04-05T19:03:04.263Z"
   },
   {
    "duration": 157,
    "start_time": "2022-04-05T19:03:04.277Z"
   },
   {
    "duration": 135,
    "start_time": "2022-04-05T19:03:04.436Z"
   },
   {
    "duration": 5,
    "start_time": "2022-04-05T19:03:04.573Z"
   },
   {
    "duration": 8,
    "start_time": "2022-04-05T19:03:04.579Z"
   },
   {
    "duration": 190,
    "start_time": "2022-04-05T19:03:04.588Z"
   },
   {
    "duration": 109,
    "start_time": "2022-04-05T19:03:04.780Z"
   },
   {
    "duration": 0,
    "start_time": "2022-04-05T19:03:04.891Z"
   },
   {
    "duration": 210,
    "start_time": "2022-04-05T19:03:29.759Z"
   },
   {
    "duration": 138,
    "start_time": "2022-04-05T19:03:39.517Z"
   },
   {
    "duration": 159,
    "start_time": "2022-04-05T19:05:03.529Z"
   },
   {
    "duration": 132,
    "start_time": "2022-04-05T19:05:17.825Z"
   },
   {
    "duration": 121,
    "start_time": "2022-04-05T19:05:24.970Z"
   },
   {
    "duration": 1192,
    "start_time": "2022-04-05T19:05:35.522Z"
   },
   {
    "duration": 38,
    "start_time": "2022-04-05T19:05:36.716Z"
   },
   {
    "duration": 12,
    "start_time": "2022-04-05T19:05:36.756Z"
   },
   {
    "duration": 12,
    "start_time": "2022-04-05T19:05:36.770Z"
   },
   {
    "duration": 6,
    "start_time": "2022-04-05T19:05:36.784Z"
   },
   {
    "duration": 15,
    "start_time": "2022-04-05T19:05:36.791Z"
   },
   {
    "duration": 21,
    "start_time": "2022-04-05T19:05:36.808Z"
   },
   {
    "duration": 47,
    "start_time": "2022-04-05T19:05:36.831Z"
   },
   {
    "duration": 15,
    "start_time": "2022-04-05T19:05:36.879Z"
   },
   {
    "duration": 8,
    "start_time": "2022-04-05T19:05:36.896Z"
   },
   {
    "duration": 8,
    "start_time": "2022-04-05T19:05:36.906Z"
   },
   {
    "duration": 11,
    "start_time": "2022-04-05T19:05:36.915Z"
   },
   {
    "duration": 7,
    "start_time": "2022-04-05T19:05:36.928Z"
   },
   {
    "duration": 27,
    "start_time": "2022-04-05T19:05:36.937Z"
   },
   {
    "duration": 8,
    "start_time": "2022-04-05T19:05:36.966Z"
   },
   {
    "duration": 23,
    "start_time": "2022-04-05T19:05:36.975Z"
   },
   {
    "duration": 18,
    "start_time": "2022-04-05T19:05:37.001Z"
   },
   {
    "duration": 11,
    "start_time": "2022-04-05T19:05:37.020Z"
   },
   {
    "duration": 179,
    "start_time": "2022-04-05T19:05:37.032Z"
   },
   {
    "duration": 170,
    "start_time": "2022-04-05T19:05:37.212Z"
   },
   {
    "duration": 6,
    "start_time": "2022-04-05T19:05:37.384Z"
   },
   {
    "duration": 15,
    "start_time": "2022-04-05T19:05:37.391Z"
   },
   {
    "duration": 6,
    "start_time": "2022-04-05T19:05:37.407Z"
   },
   {
    "duration": 272,
    "start_time": "2022-04-05T19:05:37.415Z"
   },
   {
    "duration": 181,
    "start_time": "2022-04-05T19:05:37.688Z"
   },
   {
    "duration": 6,
    "start_time": "2022-04-05T19:05:37.871Z"
   },
   {
    "duration": 276,
    "start_time": "2022-04-05T19:05:37.878Z"
   },
   {
    "duration": 15,
    "start_time": "2022-04-05T19:05:38.157Z"
   },
   {
    "duration": 7,
    "start_time": "2022-04-05T19:05:38.173Z"
   },
   {
    "duration": 208,
    "start_time": "2022-04-05T19:05:38.182Z"
   },
   {
    "duration": 8,
    "start_time": "2022-04-05T19:05:38.391Z"
   },
   {
    "duration": 273,
    "start_time": "2022-04-05T19:05:38.401Z"
   },
   {
    "duration": 12,
    "start_time": "2022-04-05T19:05:38.676Z"
   },
   {
    "duration": 168,
    "start_time": "2022-04-05T19:05:38.689Z"
   },
   {
    "duration": 219,
    "start_time": "2022-04-05T19:05:38.863Z"
   },
   {
    "duration": 0,
    "start_time": "2022-04-05T19:05:39.084Z"
   },
   {
    "duration": 0,
    "start_time": "2022-04-05T19:05:39.086Z"
   },
   {
    "duration": 0,
    "start_time": "2022-04-05T19:05:39.087Z"
   },
   {
    "duration": 0,
    "start_time": "2022-04-05T19:05:39.088Z"
   },
   {
    "duration": 0,
    "start_time": "2022-04-05T19:05:39.089Z"
   },
   {
    "duration": 1804,
    "start_time": "2022-04-05T19:06:09.767Z"
   },
   {
    "duration": 206,
    "start_time": "2022-04-05T19:06:43.316Z"
   },
   {
    "duration": 119,
    "start_time": "2022-04-05T19:08:59.218Z"
   },
   {
    "duration": 3,
    "start_time": "2022-04-05T19:09:04.161Z"
   },
   {
    "duration": 38,
    "start_time": "2022-04-05T19:09:04.166Z"
   },
   {
    "duration": 9,
    "start_time": "2022-04-05T19:09:04.206Z"
   },
   {
    "duration": 12,
    "start_time": "2022-04-05T19:09:04.216Z"
   },
   {
    "duration": 10,
    "start_time": "2022-04-05T19:09:04.230Z"
   },
   {
    "duration": 20,
    "start_time": "2022-04-05T19:09:04.241Z"
   },
   {
    "duration": 18,
    "start_time": "2022-04-05T19:09:04.262Z"
   },
   {
    "duration": 21,
    "start_time": "2022-04-05T19:09:04.281Z"
   },
   {
    "duration": 15,
    "start_time": "2022-04-05T19:09:04.303Z"
   },
   {
    "duration": 13,
    "start_time": "2022-04-05T19:09:04.320Z"
   },
   {
    "duration": 13,
    "start_time": "2022-04-05T19:09:04.335Z"
   },
   {
    "duration": 21,
    "start_time": "2022-04-05T19:09:04.350Z"
   },
   {
    "duration": 14,
    "start_time": "2022-04-05T19:09:04.374Z"
   },
   {
    "duration": 15,
    "start_time": "2022-04-05T19:09:04.390Z"
   },
   {
    "duration": 17,
    "start_time": "2022-04-05T19:09:04.407Z"
   },
   {
    "duration": 26,
    "start_time": "2022-04-05T19:09:04.425Z"
   },
   {
    "duration": 15,
    "start_time": "2022-04-05T19:09:04.452Z"
   },
   {
    "duration": 8,
    "start_time": "2022-04-05T19:09:04.469Z"
   },
   {
    "duration": 154,
    "start_time": "2022-04-05T19:09:04.478Z"
   },
   {
    "duration": 162,
    "start_time": "2022-04-05T19:09:04.633Z"
   },
   {
    "duration": 9,
    "start_time": "2022-04-05T19:09:04.797Z"
   },
   {
    "duration": 11,
    "start_time": "2022-04-05T19:09:04.808Z"
   },
   {
    "duration": 6,
    "start_time": "2022-04-05T19:09:04.821Z"
   },
   {
    "duration": 210,
    "start_time": "2022-04-05T19:09:04.828Z"
   },
   {
    "duration": 179,
    "start_time": "2022-04-05T19:09:05.039Z"
   },
   {
    "duration": 5,
    "start_time": "2022-04-05T19:09:05.220Z"
   },
   {
    "duration": 316,
    "start_time": "2022-04-05T19:09:05.227Z"
   },
   {
    "duration": 20,
    "start_time": "2022-04-05T19:09:05.544Z"
   },
   {
    "duration": 9,
    "start_time": "2022-04-05T19:09:05.565Z"
   },
   {
    "duration": 199,
    "start_time": "2022-04-05T19:09:05.575Z"
   },
   {
    "duration": 8,
    "start_time": "2022-04-05T19:09:05.776Z"
   },
   {
    "duration": 301,
    "start_time": "2022-04-05T19:09:05.785Z"
   },
   {
    "duration": 13,
    "start_time": "2022-04-05T19:09:06.088Z"
   },
   {
    "duration": 152,
    "start_time": "2022-04-05T19:09:06.103Z"
   },
   {
    "duration": 128,
    "start_time": "2022-04-05T19:09:06.257Z"
   },
   {
    "duration": 4,
    "start_time": "2022-04-05T19:09:06.387Z"
   },
   {
    "duration": 9,
    "start_time": "2022-04-05T19:09:06.395Z"
   },
   {
    "duration": 179,
    "start_time": "2022-04-05T19:09:06.406Z"
   },
   {
    "duration": 225,
    "start_time": "2022-04-05T19:09:06.587Z"
   },
   {
    "duration": 4,
    "start_time": "2022-04-05T19:09:06.813Z"
   },
   {
    "duration": 5,
    "start_time": "2022-04-05T19:23:29.374Z"
   },
   {
    "duration": 10,
    "start_time": "2022-04-05T19:23:34.140Z"
   },
   {
    "duration": 7,
    "start_time": "2022-04-05T19:23:53.409Z"
   },
   {
    "duration": 79,
    "start_time": "2022-04-05T19:25:19.075Z"
   },
   {
    "duration": 8,
    "start_time": "2022-04-05T19:25:24.382Z"
   },
   {
    "duration": 15,
    "start_time": "2022-04-05T19:28:46.179Z"
   },
   {
    "duration": 19,
    "start_time": "2022-04-05T19:29:13.680Z"
   },
   {
    "duration": 14,
    "start_time": "2022-04-05T19:29:32.538Z"
   },
   {
    "duration": 9,
    "start_time": "2022-04-05T19:29:36.476Z"
   },
   {
    "duration": 25,
    "start_time": "2022-04-05T19:30:08.363Z"
   },
   {
    "duration": 50,
    "start_time": "2022-04-05T19:30:45.289Z"
   },
   {
    "duration": 9,
    "start_time": "2022-04-05T19:30:49.816Z"
   },
   {
    "duration": 48,
    "start_time": "2022-04-05T19:31:01.173Z"
   },
   {
    "duration": 94,
    "start_time": "2022-04-05T19:31:23.789Z"
   },
   {
    "duration": 8,
    "start_time": "2022-04-05T19:31:27.950Z"
   },
   {
    "duration": 87,
    "start_time": "2022-04-05T19:31:35.035Z"
   },
   {
    "duration": 24,
    "start_time": "2022-04-05T19:33:32.430Z"
   },
   {
    "duration": 33,
    "start_time": "2022-04-05T19:33:40.575Z"
   },
   {
    "duration": 93,
    "start_time": "2022-04-05T19:34:50.917Z"
   },
   {
    "duration": 87,
    "start_time": "2022-04-05T19:34:59.313Z"
   },
   {
    "duration": 1299,
    "start_time": "2022-04-06T05:54:32.586Z"
   },
   {
    "duration": 76,
    "start_time": "2022-04-06T05:54:33.886Z"
   },
   {
    "duration": 11,
    "start_time": "2022-04-06T05:54:33.963Z"
   },
   {
    "duration": 26,
    "start_time": "2022-04-06T05:54:33.976Z"
   },
   {
    "duration": 31,
    "start_time": "2022-04-06T05:54:34.004Z"
   },
   {
    "duration": 33,
    "start_time": "2022-04-06T05:54:34.036Z"
   },
   {
    "duration": 43,
    "start_time": "2022-04-06T05:54:34.071Z"
   },
   {
    "duration": 13,
    "start_time": "2022-04-06T05:54:34.116Z"
   },
   {
    "duration": 35,
    "start_time": "2022-04-06T05:54:34.131Z"
   },
   {
    "duration": 29,
    "start_time": "2022-04-06T05:54:34.169Z"
   },
   {
    "duration": 30,
    "start_time": "2022-04-06T05:54:34.199Z"
   },
   {
    "duration": 24,
    "start_time": "2022-04-06T05:54:34.230Z"
   },
   {
    "duration": 35,
    "start_time": "2022-04-06T05:54:34.256Z"
   },
   {
    "duration": 25,
    "start_time": "2022-04-06T05:54:34.292Z"
   },
   {
    "duration": 37,
    "start_time": "2022-04-06T05:54:34.319Z"
   },
   {
    "duration": 34,
    "start_time": "2022-04-06T05:54:34.358Z"
   },
   {
    "duration": 37,
    "start_time": "2022-04-06T05:54:34.393Z"
   },
   {
    "duration": 30,
    "start_time": "2022-04-06T05:54:34.431Z"
   },
   {
    "duration": 197,
    "start_time": "2022-04-06T05:54:34.463Z"
   },
   {
    "duration": 128,
    "start_time": "2022-04-06T05:54:34.662Z"
   },
   {
    "duration": 10,
    "start_time": "2022-04-06T05:54:34.801Z"
   },
   {
    "duration": 55,
    "start_time": "2022-04-06T05:54:34.813Z"
   },
   {
    "duration": 30,
    "start_time": "2022-04-06T05:54:34.869Z"
   },
   {
    "duration": 283,
    "start_time": "2022-04-06T05:54:34.901Z"
   },
   {
    "duration": 188,
    "start_time": "2022-04-06T05:54:35.186Z"
   },
   {
    "duration": 6,
    "start_time": "2022-04-06T05:54:35.375Z"
   },
   {
    "duration": 362,
    "start_time": "2022-04-06T05:54:35.383Z"
   },
   {
    "duration": 10,
    "start_time": "2022-04-06T05:54:35.749Z"
   },
   {
    "duration": 6,
    "start_time": "2022-04-06T05:54:35.760Z"
   },
   {
    "duration": 215,
    "start_time": "2022-04-06T05:54:35.767Z"
   },
   {
    "duration": 7,
    "start_time": "2022-04-06T05:54:35.984Z"
   },
   {
    "duration": 310,
    "start_time": "2022-04-06T05:54:36.001Z"
   },
   {
    "duration": 11,
    "start_time": "2022-04-06T05:54:36.314Z"
   },
   {
    "duration": 149,
    "start_time": "2022-04-06T05:54:36.327Z"
   },
   {
    "duration": 152,
    "start_time": "2022-04-06T05:54:36.477Z"
   },
   {
    "duration": 4,
    "start_time": "2022-04-06T05:54:36.631Z"
   },
   {
    "duration": 16,
    "start_time": "2022-04-06T05:54:36.636Z"
   },
   {
    "duration": 181,
    "start_time": "2022-04-06T05:54:36.654Z"
   },
   {
    "duration": 240,
    "start_time": "2022-04-06T05:54:36.837Z"
   },
   {
    "duration": 4,
    "start_time": "2022-04-06T05:54:37.079Z"
   },
   {
    "duration": 18,
    "start_time": "2022-04-06T05:54:37.085Z"
   },
   {
    "duration": 89,
    "start_time": "2022-04-06T05:54:37.106Z"
   },
   {
    "duration": 28,
    "start_time": "2022-04-06T05:54:37.201Z"
   },
   {
    "duration": 120,
    "start_time": "2022-04-06T05:54:37.231Z"
   },
   {
    "duration": 30,
    "start_time": "2022-04-06T05:54:37.353Z"
   },
   {
    "duration": 162,
    "start_time": "2022-04-06T05:59:26.568Z"
   },
   {
    "duration": 155,
    "start_time": "2022-04-06T06:00:59.609Z"
   },
   {
    "duration": 9,
    "start_time": "2022-04-06T06:01:04.312Z"
   },
   {
    "duration": 121,
    "start_time": "2022-04-06T06:02:38.265Z"
   },
   {
    "duration": 7,
    "start_time": "2022-04-06T06:03:09.032Z"
   },
   {
    "duration": 5,
    "start_time": "2022-04-06T06:03:14.288Z"
   },
   {
    "duration": 176,
    "start_time": "2022-04-06T06:08:16.719Z"
   },
   {
    "duration": 23,
    "start_time": "2022-04-06T06:10:06.776Z"
   },
   {
    "duration": 21,
    "start_time": "2022-04-06T06:17:38.127Z"
   },
   {
    "duration": 10,
    "start_time": "2022-04-06T06:42:03.196Z"
   },
   {
    "duration": 3194,
    "start_time": "2022-04-06T07:21:48.824Z"
   },
   {
    "duration": 8,
    "start_time": "2022-04-06T07:22:10.337Z"
   },
   {
    "duration": 169,
    "start_time": "2022-04-06T07:22:23.786Z"
   },
   {
    "duration": 5,
    "start_time": "2022-04-06T07:22:40.641Z"
   },
   {
    "duration": 11,
    "start_time": "2022-04-06T07:22:48.984Z"
   },
   {
    "duration": 6,
    "start_time": "2022-04-06T07:23:01.968Z"
   },
   {
    "duration": 2674,
    "start_time": "2022-04-06T07:24:27.112Z"
   },
   {
    "duration": 5,
    "start_time": "2022-04-06T07:24:41.824Z"
   },
   {
    "duration": 6,
    "start_time": "2022-04-06T07:24:49.144Z"
   },
   {
    "duration": 6,
    "start_time": "2022-04-06T07:26:45.512Z"
   },
   {
    "duration": 148,
    "start_time": "2022-04-06T07:27:45.328Z"
   },
   {
    "duration": 5,
    "start_time": "2022-04-06T07:33:43.888Z"
   },
   {
    "duration": 163,
    "start_time": "2022-04-06T07:34:17.304Z"
   },
   {
    "duration": 6,
    "start_time": "2022-04-06T07:34:39.888Z"
   },
   {
    "duration": 21,
    "start_time": "2022-04-06T07:35:56.257Z"
   },
   {
    "duration": 20,
    "start_time": "2022-04-06T07:36:25.360Z"
   },
   {
    "duration": 2809,
    "start_time": "2022-04-06T07:42:39.671Z"
   },
   {
    "duration": 15,
    "start_time": "2022-04-06T07:43:15.544Z"
   },
   {
    "duration": 1297,
    "start_time": "2022-04-06T08:16:33.124Z"
   },
   {
    "duration": 77,
    "start_time": "2022-04-06T08:16:34.423Z"
   },
   {
    "duration": 12,
    "start_time": "2022-04-06T08:16:34.501Z"
   },
   {
    "duration": 12,
    "start_time": "2022-04-06T08:16:34.516Z"
   },
   {
    "duration": 5,
    "start_time": "2022-04-06T08:16:34.530Z"
   },
   {
    "duration": 10,
    "start_time": "2022-04-06T08:16:34.536Z"
   },
   {
    "duration": 19,
    "start_time": "2022-04-06T08:16:34.548Z"
   },
   {
    "duration": 38,
    "start_time": "2022-04-06T08:16:34.568Z"
   },
   {
    "duration": 17,
    "start_time": "2022-04-06T08:16:34.608Z"
   },
   {
    "duration": 5,
    "start_time": "2022-04-06T08:16:34.628Z"
   },
   {
    "duration": 11,
    "start_time": "2022-04-06T08:16:34.635Z"
   },
   {
    "duration": 13,
    "start_time": "2022-04-06T08:16:34.648Z"
   },
   {
    "duration": 8,
    "start_time": "2022-04-06T08:16:34.663Z"
   },
   {
    "duration": 31,
    "start_time": "2022-04-06T08:16:34.673Z"
   },
   {
    "duration": 11,
    "start_time": "2022-04-06T08:16:34.706Z"
   },
   {
    "duration": 24,
    "start_time": "2022-04-06T08:16:34.719Z"
   },
   {
    "duration": 16,
    "start_time": "2022-04-06T08:16:34.745Z"
   },
   {
    "duration": 9,
    "start_time": "2022-04-06T08:16:34.764Z"
   },
   {
    "duration": 286,
    "start_time": "2022-04-06T08:16:34.774Z"
   },
   {
    "duration": 128,
    "start_time": "2022-04-06T08:16:35.061Z"
   },
   {
    "duration": 15,
    "start_time": "2022-04-06T08:16:35.191Z"
   },
   {
    "duration": 14,
    "start_time": "2022-04-06T08:16:35.207Z"
   },
   {
    "duration": 7,
    "start_time": "2022-04-06T08:16:35.222Z"
   },
   {
    "duration": 377,
    "start_time": "2022-04-06T08:16:35.231Z"
   },
   {
    "duration": 191,
    "start_time": "2022-04-06T08:16:35.610Z"
   },
   {
    "duration": 6,
    "start_time": "2022-04-06T08:16:35.802Z"
   },
   {
    "duration": 301,
    "start_time": "2022-04-06T08:16:35.810Z"
   },
   {
    "duration": 11,
    "start_time": "2022-04-06T08:16:36.117Z"
   },
   {
    "duration": 20,
    "start_time": "2022-04-06T08:16:36.129Z"
   },
   {
    "duration": 209,
    "start_time": "2022-04-06T08:16:36.151Z"
   },
   {
    "duration": 8,
    "start_time": "2022-04-06T08:16:36.362Z"
   },
   {
    "duration": 416,
    "start_time": "2022-04-06T08:16:36.372Z"
   },
   {
    "duration": 23,
    "start_time": "2022-04-06T08:16:36.791Z"
   },
   {
    "duration": 252,
    "start_time": "2022-04-06T08:16:36.816Z"
   },
   {
    "duration": 311,
    "start_time": "2022-04-06T08:16:37.070Z"
   },
   {
    "duration": 5,
    "start_time": "2022-04-06T08:16:37.383Z"
   },
   {
    "duration": 14,
    "start_time": "2022-04-06T08:16:37.389Z"
   },
   {
    "duration": 294,
    "start_time": "2022-04-06T08:16:37.405Z"
   },
   {
    "duration": 323,
    "start_time": "2022-04-06T08:16:37.701Z"
   },
   {
    "duration": 7,
    "start_time": "2022-04-06T08:16:38.026Z"
   },
   {
    "duration": 19,
    "start_time": "2022-04-06T08:16:38.035Z"
   },
   {
    "duration": 128,
    "start_time": "2022-04-06T08:16:38.056Z"
   },
   {
    "duration": 55,
    "start_time": "2022-04-06T08:16:38.186Z"
   },
   {
    "duration": 132,
    "start_time": "2022-04-06T08:16:38.243Z"
   },
   {
    "duration": 38,
    "start_time": "2022-04-06T08:16:38.377Z"
   },
   {
    "duration": 172,
    "start_time": "2022-04-06T08:16:38.417Z"
   },
   {
    "duration": 15,
    "start_time": "2022-04-06T08:16:38.590Z"
   },
   {
    "duration": 34,
    "start_time": "2022-04-06T08:16:38.606Z"
   },
   {
    "duration": 10,
    "start_time": "2022-04-06T08:16:38.641Z"
   },
   {
    "duration": 7,
    "start_time": "2022-04-06T08:16:38.653Z"
   },
   {
    "duration": 25,
    "start_time": "2022-04-06T08:16:38.661Z"
   },
   {
    "duration": 21,
    "start_time": "2022-04-06T08:16:38.688Z"
   },
   {
    "duration": 22,
    "start_time": "2022-04-06T08:16:38.711Z"
   },
   {
    "duration": 25,
    "start_time": "2022-04-06T08:16:38.735Z"
   },
   {
    "duration": 27,
    "start_time": "2022-04-06T08:16:38.762Z"
   },
   {
    "duration": 13,
    "start_time": "2022-04-06T08:16:38.791Z"
   },
   {
    "duration": 131,
    "start_time": "2022-04-06T08:20:36.292Z"
   },
   {
    "duration": 171,
    "start_time": "2022-04-06T08:20:55.788Z"
   },
   {
    "duration": 1509,
    "start_time": "2022-04-06T10:35:37.979Z"
   },
   {
    "duration": 76,
    "start_time": "2022-04-06T10:35:39.490Z"
   },
   {
    "duration": 11,
    "start_time": "2022-04-06T10:35:39.568Z"
   },
   {
    "duration": 15,
    "start_time": "2022-04-06T10:35:39.581Z"
   },
   {
    "duration": 5,
    "start_time": "2022-04-06T10:35:39.597Z"
   },
   {
    "duration": 10,
    "start_time": "2022-04-06T10:35:39.603Z"
   },
   {
    "duration": 14,
    "start_time": "2022-04-06T10:35:39.615Z"
   },
   {
    "duration": 13,
    "start_time": "2022-04-06T10:35:39.630Z"
   },
   {
    "duration": 11,
    "start_time": "2022-04-06T10:35:39.645Z"
   },
   {
    "duration": 7,
    "start_time": "2022-04-06T10:35:39.658Z"
   },
   {
    "duration": 7,
    "start_time": "2022-04-06T10:35:39.666Z"
   },
   {
    "duration": 36,
    "start_time": "2022-04-06T10:35:39.674Z"
   },
   {
    "duration": 7,
    "start_time": "2022-04-06T10:35:39.711Z"
   },
   {
    "duration": 8,
    "start_time": "2022-04-06T10:35:39.719Z"
   },
   {
    "duration": 12,
    "start_time": "2022-04-06T10:35:39.729Z"
   },
   {
    "duration": 23,
    "start_time": "2022-04-06T10:35:39.742Z"
   },
   {
    "duration": 35,
    "start_time": "2022-04-06T10:35:39.766Z"
   },
   {
    "duration": 5,
    "start_time": "2022-04-06T10:35:39.803Z"
   },
   {
    "duration": 170,
    "start_time": "2022-04-06T10:35:39.810Z"
   },
   {
    "duration": 132,
    "start_time": "2022-04-06T10:35:39.982Z"
   },
   {
    "duration": 7,
    "start_time": "2022-04-06T10:35:40.115Z"
   },
   {
    "duration": 17,
    "start_time": "2022-04-06T10:35:40.123Z"
   },
   {
    "duration": 6,
    "start_time": "2022-04-06T10:35:40.142Z"
   },
   {
    "duration": 286,
    "start_time": "2022-04-06T10:35:40.150Z"
   },
   {
    "duration": 194,
    "start_time": "2022-04-06T10:35:40.438Z"
   },
   {
    "duration": 6,
    "start_time": "2022-04-06T10:35:40.634Z"
   },
   {
    "duration": 303,
    "start_time": "2022-04-06T10:35:40.642Z"
   },
   {
    "duration": 11,
    "start_time": "2022-04-06T10:35:40.949Z"
   },
   {
    "duration": 7,
    "start_time": "2022-04-06T10:35:40.961Z"
   },
   {
    "duration": 209,
    "start_time": "2022-04-06T10:35:40.969Z"
   },
   {
    "duration": 8,
    "start_time": "2022-04-06T10:35:41.180Z"
   },
   {
    "duration": 296,
    "start_time": "2022-04-06T10:35:41.189Z"
   },
   {
    "duration": 20,
    "start_time": "2022-04-06T10:35:41.486Z"
   },
   {
    "duration": 148,
    "start_time": "2022-04-06T10:35:41.508Z"
   },
   {
    "duration": 136,
    "start_time": "2022-04-06T10:35:41.657Z"
   },
   {
    "duration": 7,
    "start_time": "2022-04-06T10:35:41.794Z"
   },
   {
    "duration": 7,
    "start_time": "2022-04-06T10:35:41.803Z"
   },
   {
    "duration": 185,
    "start_time": "2022-04-06T10:35:41.812Z"
   },
   {
    "duration": 224,
    "start_time": "2022-04-06T10:35:41.999Z"
   },
   {
    "duration": 5,
    "start_time": "2022-04-06T10:35:42.225Z"
   },
   {
    "duration": 8,
    "start_time": "2022-04-06T10:35:42.232Z"
   },
   {
    "duration": 101,
    "start_time": "2022-04-06T10:35:42.242Z"
   },
   {
    "duration": 23,
    "start_time": "2022-04-06T10:35:42.345Z"
   },
   {
    "duration": 109,
    "start_time": "2022-04-06T10:35:42.370Z"
   },
   {
    "duration": 39,
    "start_time": "2022-04-06T10:35:42.481Z"
   },
   {
    "duration": 139,
    "start_time": "2022-04-06T10:35:42.522Z"
   },
   {
    "duration": 7,
    "start_time": "2022-04-06T10:35:42.663Z"
   },
   {
    "duration": 36,
    "start_time": "2022-04-06T10:35:42.671Z"
   },
   {
    "duration": 10,
    "start_time": "2022-04-06T10:35:42.709Z"
   },
   {
    "duration": 6,
    "start_time": "2022-04-06T10:35:42.720Z"
   },
   {
    "duration": 6,
    "start_time": "2022-04-06T10:35:42.727Z"
   },
   {
    "duration": 6,
    "start_time": "2022-04-06T10:35:42.734Z"
   },
   {
    "duration": 6,
    "start_time": "2022-04-06T10:35:42.742Z"
   },
   {
    "duration": 6,
    "start_time": "2022-04-06T10:35:42.749Z"
   },
   {
    "duration": 53,
    "start_time": "2022-04-06T10:35:42.757Z"
   },
   {
    "duration": 12,
    "start_time": "2022-04-06T10:35:42.812Z"
   },
   {
    "duration": 1071,
    "start_time": "2022-04-06T10:57:31.529Z"
   },
   {
    "duration": 76,
    "start_time": "2022-04-06T10:57:32.601Z"
   },
   {
    "duration": 10,
    "start_time": "2022-04-06T10:57:32.678Z"
   },
   {
    "duration": 12,
    "start_time": "2022-04-06T10:57:32.690Z"
   },
   {
    "duration": 4,
    "start_time": "2022-04-06T10:57:32.704Z"
   },
   {
    "duration": 9,
    "start_time": "2022-04-06T10:57:32.709Z"
   },
   {
    "duration": 12,
    "start_time": "2022-04-06T10:57:32.719Z"
   },
   {
    "duration": 12,
    "start_time": "2022-04-06T10:57:32.732Z"
   },
   {
    "duration": 12,
    "start_time": "2022-04-06T10:57:32.745Z"
   },
   {
    "duration": 7,
    "start_time": "2022-04-06T10:57:32.759Z"
   },
   {
    "duration": 35,
    "start_time": "2022-04-06T10:57:32.767Z"
   },
   {
    "duration": 10,
    "start_time": "2022-04-06T10:57:32.803Z"
   },
   {
    "duration": 6,
    "start_time": "2022-04-06T10:57:32.814Z"
   },
   {
    "duration": 10,
    "start_time": "2022-04-06T10:57:32.821Z"
   },
   {
    "duration": 13,
    "start_time": "2022-04-06T10:57:32.833Z"
   },
   {
    "duration": 30,
    "start_time": "2022-04-06T10:57:32.847Z"
   },
   {
    "duration": 23,
    "start_time": "2022-04-06T10:57:32.879Z"
   },
   {
    "duration": 6,
    "start_time": "2022-04-06T10:57:32.904Z"
   },
   {
    "duration": 165,
    "start_time": "2022-04-06T10:57:32.913Z"
   },
   {
    "duration": 134,
    "start_time": "2022-04-06T10:57:33.080Z"
   },
   {
    "duration": 6,
    "start_time": "2022-04-06T10:57:33.215Z"
   },
   {
    "duration": 10,
    "start_time": "2022-04-06T10:57:33.222Z"
   },
   {
    "duration": 8,
    "start_time": "2022-04-06T10:57:33.233Z"
   },
   {
    "duration": 274,
    "start_time": "2022-04-06T10:57:33.242Z"
   },
   {
    "duration": 185,
    "start_time": "2022-04-06T10:57:33.518Z"
   },
   {
    "duration": 6,
    "start_time": "2022-04-06T10:57:33.705Z"
   },
   {
    "duration": 278,
    "start_time": "2022-04-06T10:57:33.712Z"
   },
   {
    "duration": 15,
    "start_time": "2022-04-06T10:57:33.994Z"
   },
   {
    "duration": 5,
    "start_time": "2022-04-06T10:57:34.010Z"
   },
   {
    "duration": 209,
    "start_time": "2022-04-06T10:57:34.017Z"
   },
   {
    "duration": 8,
    "start_time": "2022-04-06T10:57:34.228Z"
   },
   {
    "duration": 273,
    "start_time": "2022-04-06T10:57:34.237Z"
   },
   {
    "duration": 13,
    "start_time": "2022-04-06T10:57:34.511Z"
   },
   {
    "duration": 164,
    "start_time": "2022-04-06T10:57:34.525Z"
   },
   {
    "duration": 139,
    "start_time": "2022-04-06T10:57:34.691Z"
   },
   {
    "duration": 4,
    "start_time": "2022-04-06T10:57:34.832Z"
   },
   {
    "duration": 6,
    "start_time": "2022-04-06T10:57:34.838Z"
   },
   {
    "duration": 185,
    "start_time": "2022-04-06T10:57:34.846Z"
   },
   {
    "duration": 232,
    "start_time": "2022-04-06T10:57:35.033Z"
   },
   {
    "duration": 4,
    "start_time": "2022-04-06T10:57:35.266Z"
   },
   {
    "duration": 8,
    "start_time": "2022-04-06T10:57:35.272Z"
   },
   {
    "duration": 86,
    "start_time": "2022-04-06T10:57:35.282Z"
   },
   {
    "duration": 31,
    "start_time": "2022-04-06T10:57:35.370Z"
   },
   {
    "duration": 88,
    "start_time": "2022-04-06T10:57:35.402Z"
   },
   {
    "duration": 33,
    "start_time": "2022-04-06T10:57:35.491Z"
   },
   {
    "duration": 138,
    "start_time": "2022-04-06T10:57:35.525Z"
   },
   {
    "duration": 6,
    "start_time": "2022-04-06T10:57:35.665Z"
   },
   {
    "duration": 33,
    "start_time": "2022-04-06T10:57:35.672Z"
   },
   {
    "duration": 10,
    "start_time": "2022-04-06T10:57:35.707Z"
   },
   {
    "duration": 7,
    "start_time": "2022-04-06T10:57:35.718Z"
   },
   {
    "duration": 7,
    "start_time": "2022-04-06T10:57:35.727Z"
   },
   {
    "duration": 10,
    "start_time": "2022-04-06T10:57:35.736Z"
   },
   {
    "duration": 9,
    "start_time": "2022-04-06T10:57:35.747Z"
   },
   {
    "duration": 14,
    "start_time": "2022-04-06T10:57:35.758Z"
   },
   {
    "duration": 41,
    "start_time": "2022-04-06T10:57:35.774Z"
   },
   {
    "duration": 14,
    "start_time": "2022-04-06T10:57:35.817Z"
   },
   {
    "duration": 103,
    "start_time": "2022-04-06T11:17:34.445Z"
   },
   {
    "duration": 13,
    "start_time": "2022-04-06T11:17:40.116Z"
   },
   {
    "duration": 8,
    "start_time": "2022-04-06T11:17:45.629Z"
   },
   {
    "duration": 29,
    "start_time": "2022-04-06T11:24:24.606Z"
   },
   {
    "duration": 1485,
    "start_time": "2022-04-06T11:24:30.323Z"
   },
   {
    "duration": 68,
    "start_time": "2022-04-06T11:24:31.810Z"
   },
   {
    "duration": 15,
    "start_time": "2022-04-06T11:24:31.880Z"
   },
   {
    "duration": 19,
    "start_time": "2022-04-06T11:24:31.897Z"
   },
   {
    "duration": 7,
    "start_time": "2022-04-06T11:24:31.917Z"
   },
   {
    "duration": 15,
    "start_time": "2022-04-06T11:24:31.926Z"
   },
   {
    "duration": 20,
    "start_time": "2022-04-06T11:24:31.942Z"
   },
   {
    "duration": 13,
    "start_time": "2022-04-06T11:24:31.964Z"
   },
   {
    "duration": 34,
    "start_time": "2022-04-06T11:24:31.979Z"
   },
   {
    "duration": 5,
    "start_time": "2022-04-06T11:24:32.016Z"
   },
   {
    "duration": 9,
    "start_time": "2022-04-06T11:24:32.022Z"
   },
   {
    "duration": 13,
    "start_time": "2022-04-06T11:24:32.033Z"
   },
   {
    "duration": 18,
    "start_time": "2022-04-06T11:24:32.048Z"
   },
   {
    "duration": 25,
    "start_time": "2022-04-06T11:24:32.068Z"
   },
   {
    "duration": 24,
    "start_time": "2022-04-06T11:24:32.095Z"
   },
   {
    "duration": 33,
    "start_time": "2022-04-06T11:24:32.121Z"
   },
   {
    "duration": 19,
    "start_time": "2022-04-06T11:24:32.156Z"
   },
   {
    "duration": 13,
    "start_time": "2022-04-06T11:24:32.177Z"
   },
   {
    "duration": 287,
    "start_time": "2022-04-06T11:24:32.192Z"
   },
   {
    "duration": 220,
    "start_time": "2022-04-06T11:24:32.482Z"
   },
   {
    "duration": 12,
    "start_time": "2022-04-06T11:24:32.705Z"
   },
   {
    "duration": 13,
    "start_time": "2022-04-06T11:24:32.719Z"
   },
   {
    "duration": 33,
    "start_time": "2022-04-06T11:24:32.733Z"
   },
   {
    "duration": 409,
    "start_time": "2022-04-06T11:24:32.769Z"
   },
   {
    "duration": 261,
    "start_time": "2022-04-06T11:24:33.180Z"
   },
   {
    "duration": 8,
    "start_time": "2022-04-06T11:24:33.442Z"
   },
   {
    "duration": 295,
    "start_time": "2022-04-06T11:24:33.451Z"
   },
   {
    "duration": 15,
    "start_time": "2022-04-06T11:24:33.752Z"
   },
   {
    "duration": 6,
    "start_time": "2022-04-06T11:24:33.769Z"
   },
   {
    "duration": 299,
    "start_time": "2022-04-06T11:24:33.776Z"
   },
   {
    "duration": 10,
    "start_time": "2022-04-06T11:24:34.078Z"
   },
   {
    "duration": 388,
    "start_time": "2022-04-06T11:24:34.100Z"
   },
   {
    "duration": 23,
    "start_time": "2022-04-06T11:24:34.490Z"
   },
   {
    "duration": 164,
    "start_time": "2022-04-06T11:24:34.515Z"
   },
   {
    "duration": 150,
    "start_time": "2022-04-06T11:24:34.682Z"
   },
   {
    "duration": 5,
    "start_time": "2022-04-06T11:24:34.834Z"
   },
   {
    "duration": 10,
    "start_time": "2022-04-06T11:24:34.841Z"
   },
   {
    "duration": 344,
    "start_time": "2022-04-06T11:24:34.853Z"
   },
   {
    "duration": 297,
    "start_time": "2022-04-06T11:24:35.201Z"
   },
   {
    "duration": 4,
    "start_time": "2022-04-06T11:24:35.500Z"
   },
   {
    "duration": 7,
    "start_time": "2022-04-06T11:24:35.506Z"
   },
   {
    "duration": 107,
    "start_time": "2022-04-06T11:24:35.515Z"
   },
   {
    "duration": 63,
    "start_time": "2022-04-06T11:24:35.624Z"
   },
   {
    "duration": 141,
    "start_time": "2022-04-06T11:24:35.690Z"
   },
   {
    "duration": 37,
    "start_time": "2022-04-06T11:24:35.833Z"
   },
   {
    "duration": 225,
    "start_time": "2022-04-06T11:24:35.871Z"
   },
   {
    "duration": 3171,
    "start_time": "2022-04-06T11:24:36.098Z"
   },
   {
    "duration": 0,
    "start_time": "2022-04-06T11:24:39.271Z"
   },
   {
    "duration": 0,
    "start_time": "2022-04-06T11:24:39.272Z"
   },
   {
    "duration": 0,
    "start_time": "2022-04-06T11:24:39.274Z"
   },
   {
    "duration": 0,
    "start_time": "2022-04-06T11:24:39.275Z"
   },
   {
    "duration": 0,
    "start_time": "2022-04-06T11:24:39.276Z"
   },
   {
    "duration": 0,
    "start_time": "2022-04-06T11:24:39.278Z"
   },
   {
    "duration": 0,
    "start_time": "2022-04-06T11:24:39.279Z"
   },
   {
    "duration": 0,
    "start_time": "2022-04-06T11:24:39.281Z"
   },
   {
    "duration": 0,
    "start_time": "2022-04-06T11:24:39.282Z"
   },
   {
    "duration": 7,
    "start_time": "2022-04-06T11:25:06.009Z"
   },
   {
    "duration": 1431,
    "start_time": "2022-04-06T11:25:15.370Z"
   },
   {
    "duration": 67,
    "start_time": "2022-04-06T11:25:16.804Z"
   },
   {
    "duration": 13,
    "start_time": "2022-04-06T11:25:16.873Z"
   },
   {
    "duration": 14,
    "start_time": "2022-04-06T11:25:16.889Z"
   },
   {
    "duration": 7,
    "start_time": "2022-04-06T11:25:16.906Z"
   },
   {
    "duration": 13,
    "start_time": "2022-04-06T11:25:16.915Z"
   },
   {
    "duration": 19,
    "start_time": "2022-04-06T11:25:16.930Z"
   },
   {
    "duration": 21,
    "start_time": "2022-04-06T11:25:16.951Z"
   },
   {
    "duration": 43,
    "start_time": "2022-04-06T11:25:16.974Z"
   },
   {
    "duration": 7,
    "start_time": "2022-04-06T11:25:17.021Z"
   },
   {
    "duration": 8,
    "start_time": "2022-04-06T11:25:17.030Z"
   },
   {
    "duration": 15,
    "start_time": "2022-04-06T11:25:17.041Z"
   },
   {
    "duration": 44,
    "start_time": "2022-04-06T11:25:17.059Z"
   },
   {
    "duration": 6,
    "start_time": "2022-04-06T11:25:17.106Z"
   },
   {
    "duration": 12,
    "start_time": "2022-04-06T11:25:17.114Z"
   },
   {
    "duration": 34,
    "start_time": "2022-04-06T11:25:17.128Z"
   },
   {
    "duration": 46,
    "start_time": "2022-04-06T11:25:17.164Z"
   },
   {
    "duration": 7,
    "start_time": "2022-04-06T11:25:17.212Z"
   },
   {
    "duration": 189,
    "start_time": "2022-04-06T11:25:17.221Z"
   },
   {
    "duration": 153,
    "start_time": "2022-04-06T11:25:17.412Z"
   },
   {
    "duration": 9,
    "start_time": "2022-04-06T11:25:17.568Z"
   },
   {
    "duration": 23,
    "start_time": "2022-04-06T11:25:17.581Z"
   },
   {
    "duration": 9,
    "start_time": "2022-04-06T11:25:17.606Z"
   },
   {
    "duration": 304,
    "start_time": "2022-04-06T11:25:17.617Z"
   },
   {
    "duration": 299,
    "start_time": "2022-04-06T11:25:17.923Z"
   },
   {
    "duration": 7,
    "start_time": "2022-04-06T11:25:18.224Z"
   },
   {
    "duration": 300,
    "start_time": "2022-04-06T11:25:18.233Z"
   },
   {
    "duration": 11,
    "start_time": "2022-04-06T11:25:18.537Z"
   },
   {
    "duration": 8,
    "start_time": "2022-04-06T11:25:18.550Z"
   },
   {
    "duration": 223,
    "start_time": "2022-04-06T11:25:18.559Z"
   },
   {
    "duration": 17,
    "start_time": "2022-04-06T11:25:18.784Z"
   },
   {
    "duration": 326,
    "start_time": "2022-04-06T11:25:18.803Z"
   },
   {
    "duration": 16,
    "start_time": "2022-04-06T11:25:19.131Z"
   },
   {
    "duration": 162,
    "start_time": "2022-04-06T11:25:19.148Z"
   },
   {
    "duration": 154,
    "start_time": "2022-04-06T11:25:19.312Z"
   },
   {
    "duration": 5,
    "start_time": "2022-04-06T11:25:19.468Z"
   },
   {
    "duration": 8,
    "start_time": "2022-04-06T11:25:19.475Z"
   },
   {
    "duration": 218,
    "start_time": "2022-04-06T11:25:19.502Z"
   },
   {
    "duration": 362,
    "start_time": "2022-04-06T11:25:19.722Z"
   },
   {
    "duration": 14,
    "start_time": "2022-04-06T11:25:20.087Z"
   },
   {
    "duration": 8,
    "start_time": "2022-04-06T11:25:20.103Z"
   },
   {
    "duration": 102,
    "start_time": "2022-04-06T11:25:20.113Z"
   },
   {
    "duration": 37,
    "start_time": "2022-04-06T11:25:20.217Z"
   },
   {
    "duration": 169,
    "start_time": "2022-04-06T11:25:20.256Z"
   },
   {
    "duration": 40,
    "start_time": "2022-04-06T11:25:20.427Z"
   },
   {
    "duration": 279,
    "start_time": "2022-04-06T11:25:20.469Z"
   },
   {
    "duration": 6,
    "start_time": "2022-04-06T11:25:20.750Z"
   },
   {
    "duration": 29,
    "start_time": "2022-04-06T11:25:20.758Z"
   },
   {
    "duration": 13,
    "start_time": "2022-04-06T11:25:20.800Z"
   },
   {
    "duration": 11,
    "start_time": "2022-04-06T11:25:20.816Z"
   },
   {
    "duration": 7,
    "start_time": "2022-04-06T11:25:20.829Z"
   },
   {
    "duration": 8,
    "start_time": "2022-04-06T11:25:20.837Z"
   },
   {
    "duration": 2841,
    "start_time": "2022-04-06T11:25:20.847Z"
   },
   {
    "duration": 0,
    "start_time": "2022-04-06T11:25:23.690Z"
   },
   {
    "duration": 0,
    "start_time": "2022-04-06T11:25:23.691Z"
   },
   {
    "duration": 0,
    "start_time": "2022-04-06T11:25:23.692Z"
   },
   {
    "duration": 7,
    "start_time": "2022-04-06T11:29:03.796Z"
   },
   {
    "duration": 6,
    "start_time": "2022-04-06T11:29:10.651Z"
   },
   {
    "duration": 1213,
    "start_time": "2022-04-06T11:29:19.650Z"
   },
   {
    "duration": 66,
    "start_time": "2022-04-06T11:29:20.865Z"
   },
   {
    "duration": 11,
    "start_time": "2022-04-06T11:29:20.933Z"
   },
   {
    "duration": 12,
    "start_time": "2022-04-06T11:29:20.947Z"
   },
   {
    "duration": 7,
    "start_time": "2022-04-06T11:29:20.961Z"
   },
   {
    "duration": 11,
    "start_time": "2022-04-06T11:29:20.970Z"
   },
   {
    "duration": 30,
    "start_time": "2022-04-06T11:29:20.984Z"
   },
   {
    "duration": 14,
    "start_time": "2022-04-06T11:29:21.016Z"
   },
   {
    "duration": 13,
    "start_time": "2022-04-06T11:29:21.032Z"
   },
   {
    "duration": 9,
    "start_time": "2022-04-06T11:29:21.048Z"
   },
   {
    "duration": 8,
    "start_time": "2022-04-06T11:29:21.058Z"
   },
   {
    "duration": 40,
    "start_time": "2022-04-06T11:29:21.068Z"
   },
   {
    "duration": 5,
    "start_time": "2022-04-06T11:29:21.109Z"
   },
   {
    "duration": 9,
    "start_time": "2022-04-06T11:29:21.116Z"
   },
   {
    "duration": 11,
    "start_time": "2022-04-06T11:29:21.126Z"
   },
   {
    "duration": 24,
    "start_time": "2022-04-06T11:29:21.139Z"
   },
   {
    "duration": 44,
    "start_time": "2022-04-06T11:29:21.165Z"
   },
   {
    "duration": 7,
    "start_time": "2022-04-06T11:29:21.211Z"
   },
   {
    "duration": 282,
    "start_time": "2022-04-06T11:29:21.220Z"
   },
   {
    "duration": 188,
    "start_time": "2022-04-06T11:29:21.504Z"
   },
   {
    "duration": 15,
    "start_time": "2022-04-06T11:29:21.694Z"
   },
   {
    "duration": 18,
    "start_time": "2022-04-06T11:29:21.711Z"
   },
   {
    "duration": 9,
    "start_time": "2022-04-06T11:29:21.731Z"
   },
   {
    "duration": 295,
    "start_time": "2022-04-06T11:29:21.741Z"
   },
   {
    "duration": 198,
    "start_time": "2022-04-06T11:29:22.039Z"
   },
   {
    "duration": 7,
    "start_time": "2022-04-06T11:29:22.239Z"
   },
   {
    "duration": 288,
    "start_time": "2022-04-06T11:29:22.248Z"
   },
   {
    "duration": 11,
    "start_time": "2022-04-06T11:29:22.540Z"
   },
   {
    "duration": 6,
    "start_time": "2022-04-06T11:29:22.553Z"
   },
   {
    "duration": 220,
    "start_time": "2022-04-06T11:29:22.561Z"
   },
   {
    "duration": 8,
    "start_time": "2022-04-06T11:29:22.783Z"
   },
   {
    "duration": 321,
    "start_time": "2022-04-06T11:29:22.802Z"
   },
   {
    "duration": 13,
    "start_time": "2022-04-06T11:29:23.125Z"
   },
   {
    "duration": 252,
    "start_time": "2022-04-06T11:29:23.140Z"
   },
   {
    "duration": 144,
    "start_time": "2022-04-06T11:29:23.394Z"
   },
   {
    "duration": 5,
    "start_time": "2022-04-06T11:29:23.539Z"
   },
   {
    "duration": 14,
    "start_time": "2022-04-06T11:29:23.545Z"
   },
   {
    "duration": 191,
    "start_time": "2022-04-06T11:29:23.560Z"
   },
   {
    "duration": 232,
    "start_time": "2022-04-06T11:29:23.753Z"
   },
   {
    "duration": 4,
    "start_time": "2022-04-06T11:29:23.987Z"
   },
   {
    "duration": 12,
    "start_time": "2022-04-06T11:29:23.993Z"
   },
   {
    "duration": 99,
    "start_time": "2022-04-06T11:29:24.006Z"
   },
   {
    "duration": 26,
    "start_time": "2022-04-06T11:29:24.107Z"
   },
   {
    "duration": 116,
    "start_time": "2022-04-06T11:29:24.135Z"
   },
   {
    "duration": 29,
    "start_time": "2022-04-06T11:29:24.253Z"
   },
   {
    "duration": 161,
    "start_time": "2022-04-06T11:29:24.284Z"
   },
   {
    "duration": 7,
    "start_time": "2022-04-06T11:29:24.447Z"
   },
   {
    "duration": 25,
    "start_time": "2022-04-06T11:29:24.455Z"
   },
   {
    "duration": 26,
    "start_time": "2022-04-06T11:29:24.482Z"
   },
   {
    "duration": 7,
    "start_time": "2022-04-06T11:29:24.510Z"
   },
   {
    "duration": 6,
    "start_time": "2022-04-06T11:29:24.519Z"
   },
   {
    "duration": 12,
    "start_time": "2022-04-06T11:29:24.527Z"
   },
   {
    "duration": 18,
    "start_time": "2022-04-06T11:29:24.541Z"
   },
   {
    "duration": 19,
    "start_time": "2022-04-06T11:29:24.561Z"
   },
   {
    "duration": 39,
    "start_time": "2022-04-06T11:29:24.582Z"
   },
   {
    "duration": 13,
    "start_time": "2022-04-06T11:29:24.623Z"
   },
   {
    "duration": 1277,
    "start_time": "2022-04-06T12:18:10.968Z"
   },
   {
    "duration": 66,
    "start_time": "2022-04-06T12:18:12.247Z"
   },
   {
    "duration": 11,
    "start_time": "2022-04-06T12:18:12.318Z"
   },
   {
    "duration": 17,
    "start_time": "2022-04-06T12:18:12.332Z"
   },
   {
    "duration": 6,
    "start_time": "2022-04-06T12:18:12.351Z"
   },
   {
    "duration": 9,
    "start_time": "2022-04-06T12:18:12.359Z"
   },
   {
    "duration": 34,
    "start_time": "2022-04-06T12:18:12.370Z"
   },
   {
    "duration": 20,
    "start_time": "2022-04-06T12:18:12.406Z"
   },
   {
    "duration": 15,
    "start_time": "2022-04-06T12:18:12.428Z"
   },
   {
    "duration": 10,
    "start_time": "2022-04-06T12:18:12.445Z"
   },
   {
    "duration": 11,
    "start_time": "2022-04-06T12:18:12.457Z"
   },
   {
    "duration": 11,
    "start_time": "2022-04-06T12:18:12.470Z"
   },
   {
    "duration": 5,
    "start_time": "2022-04-06T12:18:12.505Z"
   },
   {
    "duration": 13,
    "start_time": "2022-04-06T12:18:12.513Z"
   },
   {
    "duration": 10,
    "start_time": "2022-04-06T12:18:12.527Z"
   },
   {
    "duration": 24,
    "start_time": "2022-04-06T12:18:12.539Z"
   },
   {
    "duration": 41,
    "start_time": "2022-04-06T12:18:12.565Z"
   },
   {
    "duration": 6,
    "start_time": "2022-04-06T12:18:12.613Z"
   },
   {
    "duration": 185,
    "start_time": "2022-04-06T12:18:12.621Z"
   },
   {
    "duration": 140,
    "start_time": "2022-04-06T12:18:12.807Z"
   },
   {
    "duration": 7,
    "start_time": "2022-04-06T12:18:12.949Z"
   },
   {
    "duration": 12,
    "start_time": "2022-04-06T12:18:12.958Z"
   },
   {
    "duration": 33,
    "start_time": "2022-04-06T12:18:12.972Z"
   },
   {
    "duration": 304,
    "start_time": "2022-04-06T12:18:13.009Z"
   },
   {
    "duration": 213,
    "start_time": "2022-04-06T12:18:13.317Z"
   },
   {
    "duration": 6,
    "start_time": "2022-04-06T12:18:13.533Z"
   },
   {
    "duration": 299,
    "start_time": "2022-04-06T12:18:13.541Z"
   },
   {
    "duration": 11,
    "start_time": "2022-04-06T12:18:13.845Z"
   },
   {
    "duration": 4,
    "start_time": "2022-04-06T12:18:13.859Z"
   },
   {
    "duration": 258,
    "start_time": "2022-04-06T12:18:13.866Z"
   },
   {
    "duration": 10,
    "start_time": "2022-04-06T12:18:14.126Z"
   },
   {
    "duration": 341,
    "start_time": "2022-04-06T12:18:14.138Z"
   },
   {
    "duration": 16,
    "start_time": "2022-04-06T12:18:14.481Z"
   },
   {
    "duration": 171,
    "start_time": "2022-04-06T12:18:14.504Z"
   },
   {
    "duration": 159,
    "start_time": "2022-04-06T12:18:14.677Z"
   },
   {
    "duration": 5,
    "start_time": "2022-04-06T12:18:14.839Z"
   },
   {
    "duration": 14,
    "start_time": "2022-04-06T12:18:14.846Z"
   },
   {
    "duration": 295,
    "start_time": "2022-04-06T12:18:14.862Z"
   },
   {
    "duration": 262,
    "start_time": "2022-04-06T12:18:15.159Z"
   },
   {
    "duration": 6,
    "start_time": "2022-04-06T12:18:15.423Z"
   },
   {
    "duration": 16,
    "start_time": "2022-04-06T12:18:15.430Z"
   },
   {
    "duration": 108,
    "start_time": "2022-04-06T12:18:15.448Z"
   },
   {
    "duration": 27,
    "start_time": "2022-04-06T12:18:15.557Z"
   },
   {
    "duration": 119,
    "start_time": "2022-04-06T12:18:15.586Z"
   },
   {
    "duration": 30,
    "start_time": "2022-04-06T12:18:15.707Z"
   },
   {
    "duration": 150,
    "start_time": "2022-04-06T12:18:15.739Z"
   },
   {
    "duration": 12,
    "start_time": "2022-04-06T12:18:15.890Z"
   },
   {
    "duration": 39,
    "start_time": "2022-04-06T12:18:15.904Z"
   },
   {
    "duration": 10,
    "start_time": "2022-04-06T12:18:15.945Z"
   },
   {
    "duration": 27,
    "start_time": "2022-04-06T12:18:15.956Z"
   },
   {
    "duration": 18,
    "start_time": "2022-04-06T12:18:15.984Z"
   },
   {
    "duration": 23,
    "start_time": "2022-04-06T12:18:16.006Z"
   },
   {
    "duration": 22,
    "start_time": "2022-04-06T12:18:16.031Z"
   },
   {
    "duration": 27,
    "start_time": "2022-04-06T12:18:16.055Z"
   },
   {
    "duration": 48,
    "start_time": "2022-04-06T12:18:16.084Z"
   },
   {
    "duration": 18,
    "start_time": "2022-04-06T12:18:16.134Z"
   },
   {
    "duration": 5,
    "start_time": "2022-04-06T12:21:20.429Z"
   },
   {
    "duration": 12,
    "start_time": "2022-04-06T12:22:47.486Z"
   },
   {
    "duration": 7,
    "start_time": "2022-04-06T12:23:37.206Z"
   },
   {
    "duration": 9,
    "start_time": "2022-04-06T12:23:41.964Z"
   },
   {
    "duration": 155,
    "start_time": "2022-04-06T12:24:03.380Z"
   },
   {
    "duration": 8,
    "start_time": "2022-04-06T12:24:10.221Z"
   },
   {
    "duration": 12,
    "start_time": "2022-04-06T12:24:21.461Z"
   },
   {
    "duration": 13,
    "start_time": "2022-04-06T12:25:01.357Z"
   },
   {
    "duration": 19,
    "start_time": "2022-04-06T12:25:27.989Z"
   },
   {
    "duration": 1248,
    "start_time": "2022-04-06T12:30:07.317Z"
   },
   {
    "duration": 86,
    "start_time": "2022-04-06T12:30:08.567Z"
   },
   {
    "duration": 13,
    "start_time": "2022-04-06T12:30:08.657Z"
   },
   {
    "duration": 19,
    "start_time": "2022-04-06T12:30:08.672Z"
   },
   {
    "duration": 15,
    "start_time": "2022-04-06T12:30:08.693Z"
   },
   {
    "duration": 21,
    "start_time": "2022-04-06T12:30:08.710Z"
   },
   {
    "duration": 19,
    "start_time": "2022-04-06T12:30:08.734Z"
   },
   {
    "duration": 39,
    "start_time": "2022-04-06T12:30:08.756Z"
   },
   {
    "duration": 29,
    "start_time": "2022-04-06T12:30:08.797Z"
   },
   {
    "duration": 5,
    "start_time": "2022-04-06T12:30:08.830Z"
   },
   {
    "duration": 21,
    "start_time": "2022-04-06T12:30:08.837Z"
   },
   {
    "duration": 13,
    "start_time": "2022-04-06T12:30:08.859Z"
   },
   {
    "duration": 10,
    "start_time": "2022-04-06T12:30:08.874Z"
   },
   {
    "duration": 16,
    "start_time": "2022-04-06T12:30:08.886Z"
   },
   {
    "duration": 22,
    "start_time": "2022-04-06T12:30:08.904Z"
   },
   {
    "duration": 31,
    "start_time": "2022-04-06T12:30:08.928Z"
   },
   {
    "duration": 16,
    "start_time": "2022-04-06T12:30:08.961Z"
   },
   {
    "duration": 30,
    "start_time": "2022-04-06T12:30:08.979Z"
   },
   {
    "duration": 244,
    "start_time": "2022-04-06T12:30:09.015Z"
   },
   {
    "duration": 192,
    "start_time": "2022-04-06T12:30:09.261Z"
   },
   {
    "duration": 8,
    "start_time": "2022-04-06T12:30:09.455Z"
   },
   {
    "duration": 18,
    "start_time": "2022-04-06T12:30:09.465Z"
   },
   {
    "duration": 26,
    "start_time": "2022-04-06T12:30:09.485Z"
   },
   {
    "duration": 318,
    "start_time": "2022-04-06T12:30:09.513Z"
   },
   {
    "duration": 211,
    "start_time": "2022-04-06T12:30:09.832Z"
   },
   {
    "duration": 7,
    "start_time": "2022-04-06T12:30:10.045Z"
   },
   {
    "duration": 302,
    "start_time": "2022-04-06T12:30:10.054Z"
   },
   {
    "duration": 11,
    "start_time": "2022-04-06T12:30:10.360Z"
   },
   {
    "duration": 6,
    "start_time": "2022-04-06T12:30:10.373Z"
   },
   {
    "duration": 365,
    "start_time": "2022-04-06T12:30:10.380Z"
   },
   {
    "duration": 12,
    "start_time": "2022-04-06T12:30:10.747Z"
   },
   {
    "duration": 457,
    "start_time": "2022-04-06T12:30:10.761Z"
   },
   {
    "duration": 15,
    "start_time": "2022-04-06T12:30:11.220Z"
   },
   {
    "duration": 171,
    "start_time": "2022-04-06T12:30:11.237Z"
   },
   {
    "duration": 143,
    "start_time": "2022-04-06T12:30:11.411Z"
   },
   {
    "duration": 4,
    "start_time": "2022-04-06T12:30:11.557Z"
   },
   {
    "duration": 14,
    "start_time": "2022-04-06T12:30:11.563Z"
   },
   {
    "duration": 212,
    "start_time": "2022-04-06T12:30:11.579Z"
   },
   {
    "duration": 243,
    "start_time": "2022-04-06T12:30:11.793Z"
   },
   {
    "duration": 5,
    "start_time": "2022-04-06T12:30:12.037Z"
   },
   {
    "duration": 7,
    "start_time": "2022-04-06T12:30:12.045Z"
   },
   {
    "duration": 112,
    "start_time": "2022-04-06T12:30:12.054Z"
   },
   {
    "duration": 37,
    "start_time": "2022-04-06T12:30:12.167Z"
   },
   {
    "duration": 110,
    "start_time": "2022-04-06T12:30:12.207Z"
   },
   {
    "duration": 37,
    "start_time": "2022-04-06T12:30:12.319Z"
   },
   {
    "duration": 292,
    "start_time": "2022-04-06T12:30:12.358Z"
   },
   {
    "duration": 7,
    "start_time": "2022-04-06T12:30:12.652Z"
   },
   {
    "duration": 59,
    "start_time": "2022-04-06T12:30:12.661Z"
   },
   {
    "duration": 16,
    "start_time": "2022-04-06T12:30:12.725Z"
   },
   {
    "duration": 8,
    "start_time": "2022-04-06T12:30:12.743Z"
   },
   {
    "duration": 7,
    "start_time": "2022-04-06T12:30:12.753Z"
   },
   {
    "duration": 9,
    "start_time": "2022-04-06T12:30:12.763Z"
   },
   {
    "duration": 6,
    "start_time": "2022-04-06T12:30:12.807Z"
   },
   {
    "duration": 8,
    "start_time": "2022-04-06T12:30:12.815Z"
   },
   {
    "duration": 23,
    "start_time": "2022-04-06T12:30:12.826Z"
   },
   {
    "duration": 22,
    "start_time": "2022-04-06T12:30:12.851Z"
   },
   {
    "duration": 173,
    "start_time": "2022-04-06T12:30:12.875Z"
   },
   {
    "duration": 1263,
    "start_time": "2022-04-06T12:30:27.497Z"
   },
   {
    "duration": 1505,
    "start_time": "2022-04-06T12:30:28.762Z"
   },
   {
    "duration": 13,
    "start_time": "2022-04-06T12:30:30.269Z"
   },
   {
    "duration": 19,
    "start_time": "2022-04-06T12:30:30.284Z"
   },
   {
    "duration": 8,
    "start_time": "2022-04-06T12:30:30.305Z"
   },
   {
    "duration": 14,
    "start_time": "2022-04-06T12:30:30.315Z"
   },
   {
    "duration": 17,
    "start_time": "2022-04-06T12:30:30.331Z"
   },
   {
    "duration": 16,
    "start_time": "2022-04-06T12:30:30.349Z"
   },
   {
    "duration": 13,
    "start_time": "2022-04-06T12:30:30.367Z"
   },
   {
    "duration": 8,
    "start_time": "2022-04-06T12:30:30.403Z"
   },
   {
    "duration": 15,
    "start_time": "2022-04-06T12:30:30.413Z"
   },
   {
    "duration": 30,
    "start_time": "2022-04-06T12:30:30.429Z"
   },
   {
    "duration": 55,
    "start_time": "2022-04-06T12:30:30.461Z"
   },
   {
    "duration": 41,
    "start_time": "2022-04-06T12:30:30.518Z"
   },
   {
    "duration": 26,
    "start_time": "2022-04-06T12:30:30.560Z"
   },
   {
    "duration": 41,
    "start_time": "2022-04-06T12:30:30.588Z"
   },
   {
    "duration": 13,
    "start_time": "2022-04-06T12:30:30.630Z"
   },
   {
    "duration": 7,
    "start_time": "2022-04-06T12:30:30.645Z"
   },
   {
    "duration": 192,
    "start_time": "2022-04-06T12:30:30.654Z"
   },
   {
    "duration": 140,
    "start_time": "2022-04-06T12:30:30.848Z"
   },
   {
    "duration": 13,
    "start_time": "2022-04-06T12:30:30.991Z"
   },
   {
    "duration": 13,
    "start_time": "2022-04-06T12:30:31.009Z"
   },
   {
    "duration": 8,
    "start_time": "2022-04-06T12:30:31.024Z"
   },
   {
    "duration": 313,
    "start_time": "2022-04-06T12:30:31.034Z"
   },
   {
    "duration": 198,
    "start_time": "2022-04-06T12:30:31.349Z"
   },
   {
    "duration": 8,
    "start_time": "2022-04-06T12:30:31.549Z"
   },
   {
    "duration": 322,
    "start_time": "2022-04-06T12:30:31.559Z"
   },
   {
    "duration": 11,
    "start_time": "2022-04-06T12:30:31.885Z"
   },
   {
    "duration": 5,
    "start_time": "2022-04-06T12:30:31.905Z"
   },
   {
    "duration": 224,
    "start_time": "2022-04-06T12:30:31.913Z"
   },
   {
    "duration": 8,
    "start_time": "2022-04-06T12:30:32.138Z"
   },
   {
    "duration": 373,
    "start_time": "2022-04-06T12:30:32.147Z"
   },
   {
    "duration": 21,
    "start_time": "2022-04-06T12:30:32.522Z"
   },
   {
    "duration": 286,
    "start_time": "2022-04-06T12:30:32.546Z"
   },
   {
    "duration": 230,
    "start_time": "2022-04-06T12:30:32.835Z"
   },
   {
    "duration": 5,
    "start_time": "2022-04-06T12:30:33.067Z"
   },
   {
    "duration": 6,
    "start_time": "2022-04-06T12:30:33.074Z"
   },
   {
    "duration": 205,
    "start_time": "2022-04-06T12:30:33.082Z"
   },
   {
    "duration": 317,
    "start_time": "2022-04-06T12:30:33.289Z"
   },
   {
    "duration": 5,
    "start_time": "2022-04-06T12:30:33.608Z"
   },
   {
    "duration": 8,
    "start_time": "2022-04-06T12:30:33.615Z"
   },
   {
    "duration": 115,
    "start_time": "2022-04-06T12:30:33.624Z"
   },
   {
    "duration": 27,
    "start_time": "2022-04-06T12:30:33.741Z"
   },
   {
    "duration": 117,
    "start_time": "2022-04-06T12:30:33.770Z"
   },
   {
    "duration": 44,
    "start_time": "2022-04-06T12:30:33.890Z"
   },
   {
    "duration": 145,
    "start_time": "2022-04-06T12:30:33.936Z"
   },
   {
    "duration": 21,
    "start_time": "2022-04-06T12:30:34.082Z"
   },
   {
    "duration": 35,
    "start_time": "2022-04-06T12:30:34.105Z"
   },
   {
    "duration": 12,
    "start_time": "2022-04-06T12:30:34.142Z"
   },
   {
    "duration": 7,
    "start_time": "2022-04-06T12:30:34.156Z"
   },
   {
    "duration": 6,
    "start_time": "2022-04-06T12:30:34.165Z"
   },
   {
    "duration": 36,
    "start_time": "2022-04-06T12:30:34.173Z"
   },
   {
    "duration": 10,
    "start_time": "2022-04-06T12:30:34.211Z"
   },
   {
    "duration": 6,
    "start_time": "2022-04-06T12:30:34.223Z"
   },
   {
    "duration": 38,
    "start_time": "2022-04-06T12:30:34.231Z"
   },
   {
    "duration": 39,
    "start_time": "2022-04-06T12:30:34.270Z"
   },
   {
    "duration": 1273,
    "start_time": "2022-04-07T07:03:00.347Z"
   },
   {
    "duration": 64,
    "start_time": "2022-04-07T07:03:01.622Z"
   },
   {
    "duration": 38,
    "start_time": "2022-04-07T07:03:01.687Z"
   },
   {
    "duration": 22,
    "start_time": "2022-04-07T07:03:01.727Z"
   },
   {
    "duration": 10,
    "start_time": "2022-04-07T07:03:01.751Z"
   },
   {
    "duration": 17,
    "start_time": "2022-04-07T07:03:01.762Z"
   },
   {
    "duration": 25,
    "start_time": "2022-04-07T07:03:01.781Z"
   },
   {
    "duration": 12,
    "start_time": "2022-04-07T07:03:01.807Z"
   },
   {
    "duration": 23,
    "start_time": "2022-04-07T07:03:01.821Z"
   },
   {
    "duration": 6,
    "start_time": "2022-04-07T07:03:01.847Z"
   },
   {
    "duration": 14,
    "start_time": "2022-04-07T07:03:01.854Z"
   },
   {
    "duration": 23,
    "start_time": "2022-04-07T07:03:01.869Z"
   },
   {
    "duration": 11,
    "start_time": "2022-04-07T07:03:01.893Z"
   },
   {
    "duration": 10,
    "start_time": "2022-04-07T07:03:01.906Z"
   },
   {
    "duration": 14,
    "start_time": "2022-04-07T07:03:01.917Z"
   },
   {
    "duration": 29,
    "start_time": "2022-04-07T07:03:01.933Z"
   },
   {
    "duration": 14,
    "start_time": "2022-04-07T07:03:01.964Z"
   },
   {
    "duration": 10,
    "start_time": "2022-04-07T07:03:01.979Z"
   },
   {
    "duration": 183,
    "start_time": "2022-04-07T07:03:01.990Z"
   },
   {
    "duration": 132,
    "start_time": "2022-04-07T07:03:02.174Z"
   },
   {
    "duration": 6,
    "start_time": "2022-04-07T07:03:02.308Z"
   },
   {
    "duration": 11,
    "start_time": "2022-04-07T07:03:02.316Z"
   },
   {
    "duration": 6,
    "start_time": "2022-04-07T07:03:02.329Z"
   },
   {
    "duration": 297,
    "start_time": "2022-04-07T07:03:02.336Z"
   },
   {
    "duration": 197,
    "start_time": "2022-04-07T07:03:02.635Z"
   },
   {
    "duration": 6,
    "start_time": "2022-04-07T07:03:02.834Z"
   },
   {
    "duration": 292,
    "start_time": "2022-04-07T07:03:02.842Z"
   },
   {
    "duration": 11,
    "start_time": "2022-04-07T07:03:03.138Z"
   },
   {
    "duration": 20,
    "start_time": "2022-04-07T07:03:03.150Z"
   },
   {
    "duration": 204,
    "start_time": "2022-04-07T07:03:03.172Z"
   },
   {
    "duration": 8,
    "start_time": "2022-04-07T07:03:03.377Z"
   },
   {
    "duration": 300,
    "start_time": "2022-04-07T07:03:03.386Z"
   },
   {
    "duration": 21,
    "start_time": "2022-04-07T07:03:03.688Z"
   },
   {
    "duration": 147,
    "start_time": "2022-04-07T07:03:03.711Z"
   },
   {
    "duration": 129,
    "start_time": "2022-04-07T07:03:03.860Z"
   },
   {
    "duration": 12,
    "start_time": "2022-04-07T07:03:03.990Z"
   },
   {
    "duration": 26,
    "start_time": "2022-04-07T07:03:04.004Z"
   },
   {
    "duration": 170,
    "start_time": "2022-04-07T07:03:04.032Z"
   },
   {
    "duration": 212,
    "start_time": "2022-04-07T07:03:04.204Z"
   },
   {
    "duration": 4,
    "start_time": "2022-04-07T07:03:04.418Z"
   },
   {
    "duration": 13,
    "start_time": "2022-04-07T07:03:04.423Z"
   },
   {
    "duration": 98,
    "start_time": "2022-04-07T07:03:04.437Z"
   },
   {
    "duration": 26,
    "start_time": "2022-04-07T07:03:04.536Z"
   },
   {
    "duration": 102,
    "start_time": "2022-04-07T07:03:04.563Z"
   },
   {
    "duration": 40,
    "start_time": "2022-04-07T07:03:04.667Z"
   },
   {
    "duration": 147,
    "start_time": "2022-04-07T07:03:04.708Z"
   },
   {
    "duration": 6,
    "start_time": "2022-04-07T07:03:04.857Z"
   },
   {
    "duration": 38,
    "start_time": "2022-04-07T07:03:04.864Z"
   },
   {
    "duration": 10,
    "start_time": "2022-04-07T07:03:04.904Z"
   },
   {
    "duration": 7,
    "start_time": "2022-04-07T07:03:04.915Z"
   },
   {
    "duration": 10,
    "start_time": "2022-04-07T07:03:04.923Z"
   },
   {
    "duration": 7,
    "start_time": "2022-04-07T07:03:04.934Z"
   },
   {
    "duration": 10,
    "start_time": "2022-04-07T07:03:04.943Z"
   },
   {
    "duration": 9,
    "start_time": "2022-04-07T07:03:04.955Z"
   },
   {
    "duration": 52,
    "start_time": "2022-04-07T07:03:04.965Z"
   },
   {
    "duration": 13,
    "start_time": "2022-04-07T07:03:05.018Z"
   },
   {
    "duration": 4,
    "start_time": "2022-04-07T08:01:56.341Z"
   },
   {
    "duration": 7,
    "start_time": "2022-04-07T11:13:06.830Z"
   },
   {
    "duration": 50,
    "start_time": "2022-04-08T10:41:20.073Z"
   },
   {
    "duration": 1423,
    "start_time": "2022-04-08T10:41:24.933Z"
   },
   {
    "duration": 61,
    "start_time": "2022-04-08T10:41:26.358Z"
   },
   {
    "duration": 13,
    "start_time": "2022-04-08T10:41:26.421Z"
   },
   {
    "duration": 20,
    "start_time": "2022-04-08T10:41:26.436Z"
   },
   {
    "duration": 6,
    "start_time": "2022-04-08T10:41:26.457Z"
   },
   {
    "duration": 15,
    "start_time": "2022-04-08T10:41:26.465Z"
   },
   {
    "duration": 16,
    "start_time": "2022-04-08T10:41:26.482Z"
   },
   {
    "duration": 43,
    "start_time": "2022-04-08T10:41:26.500Z"
   },
   {
    "duration": 74,
    "start_time": "2022-04-08T10:41:26.545Z"
   },
   {
    "duration": 0,
    "start_time": "2022-04-08T10:41:26.632Z"
   },
   {
    "duration": 0,
    "start_time": "2022-04-08T10:41:26.633Z"
   },
   {
    "duration": 0,
    "start_time": "2022-04-08T10:41:26.635Z"
   },
   {
    "duration": 0,
    "start_time": "2022-04-08T10:41:26.636Z"
   },
   {
    "duration": 0,
    "start_time": "2022-04-08T10:41:26.637Z"
   },
   {
    "duration": 0,
    "start_time": "2022-04-08T10:41:26.638Z"
   },
   {
    "duration": 0,
    "start_time": "2022-04-08T10:41:26.639Z"
   },
   {
    "duration": 0,
    "start_time": "2022-04-08T10:41:26.640Z"
   },
   {
    "duration": 0,
    "start_time": "2022-04-08T10:41:26.641Z"
   },
   {
    "duration": 0,
    "start_time": "2022-04-08T10:41:26.642Z"
   },
   {
    "duration": 0,
    "start_time": "2022-04-08T10:41:26.643Z"
   },
   {
    "duration": 0,
    "start_time": "2022-04-08T10:41:26.644Z"
   },
   {
    "duration": 0,
    "start_time": "2022-04-08T10:41:26.646Z"
   },
   {
    "duration": 0,
    "start_time": "2022-04-08T10:41:26.647Z"
   },
   {
    "duration": 0,
    "start_time": "2022-04-08T10:41:26.648Z"
   },
   {
    "duration": 0,
    "start_time": "2022-04-08T10:41:26.649Z"
   },
   {
    "duration": 0,
    "start_time": "2022-04-08T10:41:26.650Z"
   },
   {
    "duration": 0,
    "start_time": "2022-04-08T10:41:26.651Z"
   },
   {
    "duration": 0,
    "start_time": "2022-04-08T10:41:26.652Z"
   },
   {
    "duration": 0,
    "start_time": "2022-04-08T10:41:26.653Z"
   },
   {
    "duration": 0,
    "start_time": "2022-04-08T10:41:26.654Z"
   },
   {
    "duration": 0,
    "start_time": "2022-04-08T10:41:26.655Z"
   },
   {
    "duration": 0,
    "start_time": "2022-04-08T10:41:26.656Z"
   },
   {
    "duration": 0,
    "start_time": "2022-04-08T10:41:26.658Z"
   },
   {
    "duration": 0,
    "start_time": "2022-04-08T10:41:26.659Z"
   },
   {
    "duration": 0,
    "start_time": "2022-04-08T10:41:26.660Z"
   },
   {
    "duration": 0,
    "start_time": "2022-04-08T10:41:26.661Z"
   },
   {
    "duration": 0,
    "start_time": "2022-04-08T10:41:26.662Z"
   },
   {
    "duration": 0,
    "start_time": "2022-04-08T10:41:26.663Z"
   },
   {
    "duration": 0,
    "start_time": "2022-04-08T10:41:26.664Z"
   },
   {
    "duration": 0,
    "start_time": "2022-04-08T10:41:26.665Z"
   },
   {
    "duration": 0,
    "start_time": "2022-04-08T10:41:26.666Z"
   },
   {
    "duration": 0,
    "start_time": "2022-04-08T10:41:26.667Z"
   },
   {
    "duration": 0,
    "start_time": "2022-04-08T10:41:26.732Z"
   },
   {
    "duration": 0,
    "start_time": "2022-04-08T10:41:26.733Z"
   },
   {
    "duration": 0,
    "start_time": "2022-04-08T10:41:26.734Z"
   },
   {
    "duration": 0,
    "start_time": "2022-04-08T10:41:26.735Z"
   },
   {
    "duration": 0,
    "start_time": "2022-04-08T10:41:26.736Z"
   },
   {
    "duration": 0,
    "start_time": "2022-04-08T10:41:26.737Z"
   },
   {
    "duration": 0,
    "start_time": "2022-04-08T10:41:26.738Z"
   },
   {
    "duration": 0,
    "start_time": "2022-04-08T10:41:26.739Z"
   },
   {
    "duration": 0,
    "start_time": "2022-04-08T10:41:26.740Z"
   },
   {
    "duration": 0,
    "start_time": "2022-04-08T10:41:26.741Z"
   },
   {
    "duration": 0,
    "start_time": "2022-04-08T10:41:26.742Z"
   },
   {
    "duration": 0,
    "start_time": "2022-04-08T10:41:26.743Z"
   },
   {
    "duration": 0,
    "start_time": "2022-04-08T10:41:26.744Z"
   },
   {
    "duration": 0,
    "start_time": "2022-04-08T10:41:26.745Z"
   },
   {
    "duration": 0,
    "start_time": "2022-04-08T10:41:26.746Z"
   },
   {
    "duration": 0,
    "start_time": "2022-04-08T10:41:26.747Z"
   },
   {
    "duration": 3,
    "start_time": "2022-04-08T10:41:40.213Z"
   },
   {
    "duration": 3,
    "start_time": "2022-04-08T10:45:26.589Z"
   },
   {
    "duration": 64,
    "start_time": "2022-04-08T10:45:26.595Z"
   },
   {
    "duration": 13,
    "start_time": "2022-04-08T10:45:26.661Z"
   },
   {
    "duration": 14,
    "start_time": "2022-04-08T10:45:26.676Z"
   },
   {
    "duration": 12,
    "start_time": "2022-04-08T10:45:26.692Z"
   },
   {
    "duration": 27,
    "start_time": "2022-04-08T10:45:26.706Z"
   },
   {
    "duration": 21,
    "start_time": "2022-04-08T10:45:26.735Z"
   },
   {
    "duration": 22,
    "start_time": "2022-04-08T10:45:26.758Z"
   },
   {
    "duration": 13,
    "start_time": "2022-04-08T10:45:26.783Z"
   },
   {
    "duration": 5,
    "start_time": "2022-04-08T10:45:26.831Z"
   },
   {
    "duration": 10,
    "start_time": "2022-04-08T10:45:26.837Z"
   },
   {
    "duration": 12,
    "start_time": "2022-04-08T10:45:26.849Z"
   },
   {
    "duration": 8,
    "start_time": "2022-04-08T10:45:26.864Z"
   },
   {
    "duration": 10,
    "start_time": "2022-04-08T10:45:26.874Z"
   },
   {
    "duration": 12,
    "start_time": "2022-04-08T10:45:26.886Z"
   },
   {
    "duration": 56,
    "start_time": "2022-04-08T10:45:26.899Z"
   },
   {
    "duration": 18,
    "start_time": "2022-04-08T10:45:26.957Z"
   },
   {
    "duration": 10,
    "start_time": "2022-04-08T10:45:26.977Z"
   },
   {
    "duration": 182,
    "start_time": "2022-04-08T10:45:26.989Z"
   },
   {
    "duration": 135,
    "start_time": "2022-04-08T10:45:27.173Z"
   },
   {
    "duration": 7,
    "start_time": "2022-04-08T10:45:27.310Z"
   },
   {
    "duration": 30,
    "start_time": "2022-04-08T10:45:27.318Z"
   },
   {
    "duration": 10,
    "start_time": "2022-04-08T10:45:27.351Z"
   },
   {
    "duration": 316,
    "start_time": "2022-04-08T10:45:27.365Z"
   },
   {
    "duration": 219,
    "start_time": "2022-04-08T10:45:27.682Z"
   },
   {
    "duration": 7,
    "start_time": "2022-04-08T10:45:27.903Z"
   },
   {
    "duration": 395,
    "start_time": "2022-04-08T10:45:27.911Z"
   },
   {
    "duration": 11,
    "start_time": "2022-04-08T10:45:28.308Z"
   },
   {
    "duration": 10,
    "start_time": "2022-04-08T10:45:28.321Z"
   },
   {
    "duration": 244,
    "start_time": "2022-04-08T10:45:28.333Z"
   },
   {
    "duration": 9,
    "start_time": "2022-04-08T10:45:28.579Z"
   },
   {
    "duration": 306,
    "start_time": "2022-04-08T10:45:28.590Z"
   },
   {
    "duration": 12,
    "start_time": "2022-04-08T10:45:28.899Z"
   },
   {
    "duration": 194,
    "start_time": "2022-04-08T10:45:28.913Z"
   },
   {
    "duration": 156,
    "start_time": "2022-04-08T10:45:29.109Z"
   },
   {
    "duration": 4,
    "start_time": "2022-04-08T10:45:29.267Z"
   },
   {
    "duration": 9,
    "start_time": "2022-04-08T10:45:29.273Z"
   },
   {
    "duration": 226,
    "start_time": "2022-04-08T10:45:29.284Z"
   },
   {
    "duration": 251,
    "start_time": "2022-04-08T10:45:29.512Z"
   },
   {
    "duration": 4,
    "start_time": "2022-04-08T10:45:29.765Z"
   },
   {
    "duration": 9,
    "start_time": "2022-04-08T10:45:29.771Z"
   },
   {
    "duration": 107,
    "start_time": "2022-04-08T10:45:29.782Z"
   },
   {
    "duration": 27,
    "start_time": "2022-04-08T10:45:29.891Z"
   },
   {
    "duration": 116,
    "start_time": "2022-04-08T10:45:29.920Z"
   },
   {
    "duration": 33,
    "start_time": "2022-04-08T10:45:30.038Z"
   },
   {
    "duration": 168,
    "start_time": "2022-04-08T10:45:30.072Z"
   },
   {
    "duration": 7,
    "start_time": "2022-04-08T10:45:30.242Z"
   },
   {
    "duration": 27,
    "start_time": "2022-04-08T10:45:30.251Z"
   },
   {
    "duration": 4,
    "start_time": "2022-04-08T10:45:30.280Z"
   },
   {
    "duration": 13,
    "start_time": "2022-04-08T10:45:30.285Z"
   },
   {
    "duration": 35,
    "start_time": "2022-04-08T10:45:30.300Z"
   },
   {
    "duration": 30,
    "start_time": "2022-04-08T10:45:30.337Z"
   },
   {
    "duration": 18,
    "start_time": "2022-04-08T10:45:30.369Z"
   },
   {
    "duration": 18,
    "start_time": "2022-04-08T10:45:30.389Z"
   },
   {
    "duration": 11,
    "start_time": "2022-04-08T10:45:30.409Z"
   },
   {
    "duration": 30,
    "start_time": "2022-04-08T10:45:30.422Z"
   },
   {
    "duration": 14,
    "start_time": "2022-04-08T10:45:30.454Z"
   },
   {
    "duration": 12,
    "start_time": "2022-04-08T10:46:16.741Z"
   },
   {
    "duration": 13,
    "start_time": "2022-04-08T10:46:44.917Z"
   },
   {
    "duration": 11,
    "start_time": "2022-04-08T10:46:53.389Z"
   },
   {
    "duration": 140,
    "start_time": "2022-04-08T10:47:12.109Z"
   },
   {
    "duration": 4,
    "start_time": "2022-04-08T10:47:21.964Z"
   },
   {
    "duration": 4,
    "start_time": "2022-04-08T10:47:24.668Z"
   },
   {
    "duration": 2458,
    "start_time": "2022-04-08T10:47:28.316Z"
   },
   {
    "duration": 10,
    "start_time": "2022-04-08T10:48:17.061Z"
   },
   {
    "duration": 2225,
    "start_time": "2022-04-08T10:49:05.676Z"
   },
   {
    "duration": 20,
    "start_time": "2022-04-08T10:49:21.379Z"
   },
   {
    "duration": 8,
    "start_time": "2022-04-08T10:49:26.732Z"
   },
   {
    "duration": 12,
    "start_time": "2022-04-08T10:54:33.770Z"
   },
   {
    "duration": 10,
    "start_time": "2022-04-08T10:54:49.201Z"
   },
   {
    "duration": 9,
    "start_time": "2022-04-08T10:55:08.259Z"
   },
   {
    "duration": 8,
    "start_time": "2022-04-08T11:33:02.973Z"
   },
   {
    "duration": 24,
    "start_time": "2022-04-08T11:34:15.527Z"
   },
   {
    "duration": 38,
    "start_time": "2022-04-08T11:34:35.381Z"
   },
   {
    "duration": 27,
    "start_time": "2022-04-08T11:34:38.589Z"
   },
   {
    "duration": 25,
    "start_time": "2022-04-08T11:35:34.429Z"
   },
   {
    "duration": 25,
    "start_time": "2022-04-08T11:35:43.221Z"
   },
   {
    "duration": 24,
    "start_time": "2022-04-08T11:35:50.886Z"
   },
   {
    "duration": 4,
    "start_time": "2022-04-08T11:36:05.918Z"
   },
   {
    "duration": 148,
    "start_time": "2022-04-08T11:36:17.999Z"
   },
   {
    "duration": 24,
    "start_time": "2022-04-08T11:36:21.693Z"
   },
   {
    "duration": 25,
    "start_time": "2022-04-08T11:36:25.628Z"
   },
   {
    "duration": 25,
    "start_time": "2022-04-08T11:36:31.069Z"
   },
   {
    "duration": 10,
    "start_time": "2022-04-08T11:39:56.918Z"
   },
   {
    "duration": 12,
    "start_time": "2022-04-08T11:40:10.495Z"
   },
   {
    "duration": 341,
    "start_time": "2022-04-08T11:40:25.934Z"
   },
   {
    "duration": 11,
    "start_time": "2022-04-08T11:40:29.108Z"
   },
   {
    "duration": 7,
    "start_time": "2022-04-08T11:41:13.541Z"
   },
   {
    "duration": 5,
    "start_time": "2022-04-08T11:41:46.518Z"
   },
   {
    "duration": 6,
    "start_time": "2022-04-08T11:42:56.205Z"
   },
   {
    "duration": 5,
    "start_time": "2022-04-08T11:42:59.148Z"
   },
   {
    "duration": 9,
    "start_time": "2022-04-08T11:43:29.462Z"
   },
   {
    "duration": 135,
    "start_time": "2022-04-08T11:43:40.885Z"
   },
   {
    "duration": 6,
    "start_time": "2022-04-08T11:43:46.789Z"
   },
   {
    "duration": 5,
    "start_time": "2022-04-08T11:43:52.805Z"
   },
   {
    "duration": 24,
    "start_time": "2022-04-08T11:46:06.125Z"
   },
   {
    "duration": 25,
    "start_time": "2022-04-08T11:46:42.716Z"
   },
   {
    "duration": 26,
    "start_time": "2022-04-08T11:47:06.325Z"
   },
   {
    "duration": 25,
    "start_time": "2022-04-08T11:47:10.492Z"
   },
   {
    "duration": 27,
    "start_time": "2022-04-08T11:47:15.412Z"
   },
   {
    "duration": 14,
    "start_time": "2022-04-08T11:47:29.596Z"
   },
   {
    "duration": 3,
    "start_time": "2022-04-08T12:15:44.027Z"
   },
   {
    "duration": 79,
    "start_time": "2022-04-08T12:15:44.032Z"
   },
   {
    "duration": 12,
    "start_time": "2022-04-08T12:15:44.113Z"
   },
   {
    "duration": 21,
    "start_time": "2022-04-08T12:15:44.126Z"
   },
   {
    "duration": 9,
    "start_time": "2022-04-08T12:15:44.149Z"
   },
   {
    "duration": 13,
    "start_time": "2022-04-08T12:15:44.160Z"
   },
   {
    "duration": 20,
    "start_time": "2022-04-08T12:15:44.175Z"
   },
   {
    "duration": 43,
    "start_time": "2022-04-08T12:15:44.197Z"
   },
   {
    "duration": 11,
    "start_time": "2022-04-08T12:15:44.242Z"
   },
   {
    "duration": 11,
    "start_time": "2022-04-08T12:15:44.255Z"
   },
   {
    "duration": 8,
    "start_time": "2022-04-08T12:15:44.269Z"
   },
   {
    "duration": 13,
    "start_time": "2022-04-08T12:15:44.279Z"
   },
   {
    "duration": 8,
    "start_time": "2022-04-08T12:15:44.294Z"
   },
   {
    "duration": 6,
    "start_time": "2022-04-08T12:15:44.332Z"
   },
   {
    "duration": 12,
    "start_time": "2022-04-08T12:15:44.340Z"
   },
   {
    "duration": 22,
    "start_time": "2022-04-08T12:15:44.353Z"
   },
   {
    "duration": 17,
    "start_time": "2022-04-08T12:15:44.377Z"
   },
   {
    "duration": 11,
    "start_time": "2022-04-08T12:15:44.396Z"
   },
   {
    "duration": 32,
    "start_time": "2022-04-08T12:15:44.409Z"
   },
   {
    "duration": 12,
    "start_time": "2022-04-08T12:15:44.442Z"
   },
   {
    "duration": 190,
    "start_time": "2022-04-08T12:15:44.456Z"
   },
   {
    "duration": 137,
    "start_time": "2022-04-08T12:15:44.648Z"
   },
   {
    "duration": 7,
    "start_time": "2022-04-08T12:15:44.787Z"
   },
   {
    "duration": 20,
    "start_time": "2022-04-08T12:15:44.796Z"
   },
   {
    "duration": 17,
    "start_time": "2022-04-08T12:15:44.819Z"
   },
   {
    "duration": 240,
    "start_time": "2022-04-08T12:15:44.838Z"
   },
   {
    "duration": 232,
    "start_time": "2022-04-08T12:15:45.081Z"
   },
   {
    "duration": 18,
    "start_time": "2022-04-08T12:15:45.315Z"
   },
   {
    "duration": 350,
    "start_time": "2022-04-08T12:15:45.338Z"
   },
   {
    "duration": 13,
    "start_time": "2022-04-08T12:15:45.690Z"
   },
   {
    "duration": 7,
    "start_time": "2022-04-08T12:15:45.705Z"
   },
   {
    "duration": 248,
    "start_time": "2022-04-08T12:15:45.731Z"
   },
   {
    "duration": 10,
    "start_time": "2022-04-08T12:15:45.980Z"
   },
   {
    "duration": 380,
    "start_time": "2022-04-08T12:15:45.992Z"
   },
   {
    "duration": 15,
    "start_time": "2022-04-08T12:15:46.374Z"
   },
   {
    "duration": 194,
    "start_time": "2022-04-08T12:15:46.391Z"
   },
   {
    "duration": 166,
    "start_time": "2022-04-08T12:15:46.588Z"
   },
   {
    "duration": 5,
    "start_time": "2022-04-08T12:15:46.757Z"
   },
   {
    "duration": 15,
    "start_time": "2022-04-08T12:15:46.764Z"
   },
   {
    "duration": 234,
    "start_time": "2022-04-08T12:15:46.781Z"
   },
   {
    "duration": 181,
    "start_time": "2022-04-08T12:15:47.017Z"
   },
   {
    "duration": 5,
    "start_time": "2022-04-08T12:15:47.200Z"
   },
   {
    "duration": 25,
    "start_time": "2022-04-08T12:15:47.207Z"
   },
   {
    "duration": 186,
    "start_time": "2022-04-08T12:15:47.234Z"
   },
   {
    "duration": 33,
    "start_time": "2022-04-08T12:15:47.422Z"
   },
   {
    "duration": 117,
    "start_time": "2022-04-08T12:15:47.457Z"
   },
   {
    "duration": 32,
    "start_time": "2022-04-08T12:15:47.576Z"
   },
   {
    "duration": 184,
    "start_time": "2022-04-08T12:15:47.610Z"
   },
   {
    "duration": 8,
    "start_time": "2022-04-08T12:15:47.796Z"
   },
   {
    "duration": 43,
    "start_time": "2022-04-08T12:15:47.806Z"
   },
   {
    "duration": 4,
    "start_time": "2022-04-08T12:15:47.851Z"
   },
   {
    "duration": 14,
    "start_time": "2022-04-08T12:15:47.857Z"
   },
   {
    "duration": 11,
    "start_time": "2022-04-08T12:15:47.873Z"
   },
   {
    "duration": 8,
    "start_time": "2022-04-08T12:15:47.885Z"
   },
   {
    "duration": 16,
    "start_time": "2022-04-08T12:15:47.895Z"
   },
   {
    "duration": 6,
    "start_time": "2022-04-08T12:15:47.931Z"
   },
   {
    "duration": 7,
    "start_time": "2022-04-08T12:15:47.939Z"
   },
   {
    "duration": 27,
    "start_time": "2022-04-08T12:15:47.947Z"
   },
   {
    "duration": 14,
    "start_time": "2022-04-08T12:15:47.976Z"
   },
   {
    "duration": 151,
    "start_time": "2022-04-08T12:16:30.937Z"
   },
   {
    "duration": 11,
    "start_time": "2022-04-08T13:05:56.217Z"
   },
   {
    "duration": 2182,
    "start_time": "2022-04-08T13:06:05.777Z"
   },
   {
    "duration": 2364,
    "start_time": "2022-04-08T13:06:09.024Z"
   },
   {
    "duration": 12,
    "start_time": "2022-04-08T13:06:20.055Z"
   },
   {
    "duration": 17,
    "start_time": "2022-04-08T13:08:41.985Z"
   },
   {
    "duration": 18,
    "start_time": "2022-04-08T13:08:46.744Z"
   },
   {
    "duration": 11,
    "start_time": "2022-04-08T13:09:25.776Z"
   },
   {
    "duration": 12,
    "start_time": "2022-04-08T13:09:42.608Z"
   },
   {
    "duration": 12,
    "start_time": "2022-04-08T13:09:46.777Z"
   },
   {
    "duration": 24,
    "start_time": "2022-04-08T13:09:51.600Z"
   },
   {
    "duration": 23,
    "start_time": "2022-04-08T13:09:53.216Z"
   },
   {
    "duration": 23,
    "start_time": "2022-04-08T13:09:54.488Z"
   },
   {
    "duration": 23,
    "start_time": "2022-04-08T13:09:55.808Z"
   },
   {
    "duration": 24,
    "start_time": "2022-04-08T13:09:56.927Z"
   },
   {
    "duration": 12,
    "start_time": "2022-04-08T13:10:02.320Z"
   },
   {
    "duration": 11,
    "start_time": "2022-04-08T13:10:10.976Z"
   },
   {
    "duration": 17,
    "start_time": "2022-04-08T13:10:40.519Z"
   },
   {
    "duration": 11,
    "start_time": "2022-04-08T13:10:49.704Z"
   },
   {
    "duration": 11,
    "start_time": "2022-04-08T13:10:54.656Z"
   },
   {
    "duration": 17,
    "start_time": "2022-04-08T13:11:36.520Z"
   },
   {
    "duration": 14,
    "start_time": "2022-04-08T13:11:46.656Z"
   },
   {
    "duration": 16,
    "start_time": "2022-04-08T13:11:56.584Z"
   },
   {
    "duration": 1188,
    "start_time": "2022-04-08T13:12:44.687Z"
   },
   {
    "duration": 94,
    "start_time": "2022-04-08T13:12:45.877Z"
   },
   {
    "duration": 12,
    "start_time": "2022-04-08T13:12:45.973Z"
   },
   {
    "duration": 15,
    "start_time": "2022-04-08T13:12:45.987Z"
   },
   {
    "duration": 5,
    "start_time": "2022-04-08T13:12:46.004Z"
   },
   {
    "duration": 11,
    "start_time": "2022-04-08T13:12:46.011Z"
   },
   {
    "duration": 17,
    "start_time": "2022-04-08T13:12:46.023Z"
   },
   {
    "duration": 14,
    "start_time": "2022-04-08T13:12:46.041Z"
   },
   {
    "duration": 13,
    "start_time": "2022-04-08T13:12:46.057Z"
   },
   {
    "duration": 5,
    "start_time": "2022-04-08T13:12:46.073Z"
   },
   {
    "duration": 11,
    "start_time": "2022-04-08T13:12:46.079Z"
   },
   {
    "duration": 9,
    "start_time": "2022-04-08T13:12:46.092Z"
   },
   {
    "duration": 33,
    "start_time": "2022-04-08T13:12:46.103Z"
   },
   {
    "duration": 8,
    "start_time": "2022-04-08T13:12:46.138Z"
   },
   {
    "duration": 11,
    "start_time": "2022-04-08T13:12:46.148Z"
   },
   {
    "duration": 23,
    "start_time": "2022-04-08T13:12:46.161Z"
   },
   {
    "duration": 17,
    "start_time": "2022-04-08T13:12:46.186Z"
   },
   {
    "duration": 27,
    "start_time": "2022-04-08T13:12:46.205Z"
   },
   {
    "duration": 10,
    "start_time": "2022-04-08T13:12:46.234Z"
   },
   {
    "duration": 6,
    "start_time": "2022-04-08T13:12:46.246Z"
   },
   {
    "duration": 202,
    "start_time": "2022-04-08T13:12:46.254Z"
   },
   {
    "duration": 138,
    "start_time": "2022-04-08T13:12:46.458Z"
   },
   {
    "duration": 7,
    "start_time": "2022-04-08T13:12:46.598Z"
   },
   {
    "duration": 28,
    "start_time": "2022-04-08T13:12:46.607Z"
   },
   {
    "duration": 12,
    "start_time": "2022-04-08T13:12:46.637Z"
   },
   {
    "duration": 314,
    "start_time": "2022-04-08T13:12:46.651Z"
   },
   {
    "duration": 216,
    "start_time": "2022-04-08T13:12:46.967Z"
   },
   {
    "duration": 6,
    "start_time": "2022-04-08T13:12:47.187Z"
   },
   {
    "duration": 351,
    "start_time": "2022-04-08T13:12:47.194Z"
   },
   {
    "duration": 10,
    "start_time": "2022-04-08T13:12:47.547Z"
   },
   {
    "duration": 9,
    "start_time": "2022-04-08T13:12:47.559Z"
   },
   {
    "duration": 246,
    "start_time": "2022-04-08T13:12:47.570Z"
   },
   {
    "duration": 16,
    "start_time": "2022-04-08T13:12:47.818Z"
   },
   {
    "duration": 319,
    "start_time": "2022-04-08T13:12:47.836Z"
   },
   {
    "duration": 12,
    "start_time": "2022-04-08T13:12:48.157Z"
   },
   {
    "duration": 175,
    "start_time": "2022-04-08T13:12:48.171Z"
   },
   {
    "duration": 159,
    "start_time": "2022-04-08T13:12:48.348Z"
   },
   {
    "duration": 4,
    "start_time": "2022-04-08T13:12:48.509Z"
   },
   {
    "duration": 18,
    "start_time": "2022-04-08T13:12:48.514Z"
   },
   {
    "duration": 204,
    "start_time": "2022-04-08T13:12:48.534Z"
   },
   {
    "duration": 246,
    "start_time": "2022-04-08T13:12:48.739Z"
   },
   {
    "duration": 4,
    "start_time": "2022-04-08T13:12:48.987Z"
   },
   {
    "duration": 11,
    "start_time": "2022-04-08T13:12:48.993Z"
   },
   {
    "duration": 98,
    "start_time": "2022-04-08T13:12:49.006Z"
   },
   {
    "duration": 35,
    "start_time": "2022-04-08T13:12:49.106Z"
   },
   {
    "duration": 106,
    "start_time": "2022-04-08T13:12:49.143Z"
   },
   {
    "duration": 34,
    "start_time": "2022-04-08T13:12:49.251Z"
   },
   {
    "duration": 165,
    "start_time": "2022-04-08T13:12:49.286Z"
   },
   {
    "duration": 6,
    "start_time": "2022-04-08T13:12:49.453Z"
   },
   {
    "duration": 26,
    "start_time": "2022-04-08T13:12:49.461Z"
   },
   {
    "duration": 3,
    "start_time": "2022-04-08T13:12:49.489Z"
   },
   {
    "duration": 12,
    "start_time": "2022-04-08T13:12:49.494Z"
   },
   {
    "duration": 30,
    "start_time": "2022-04-08T13:12:49.507Z"
   },
   {
    "duration": 7,
    "start_time": "2022-04-08T13:12:49.539Z"
   },
   {
    "duration": 7,
    "start_time": "2022-04-08T13:12:49.548Z"
   },
   {
    "duration": 6,
    "start_time": "2022-04-08T13:12:49.557Z"
   },
   {
    "duration": 7,
    "start_time": "2022-04-08T13:12:49.565Z"
   },
   {
    "duration": 26,
    "start_time": "2022-04-08T13:12:49.573Z"
   },
   {
    "duration": 45,
    "start_time": "2022-04-08T13:12:49.600Z"
   },
   {
    "duration": 11,
    "start_time": "2022-04-08T13:13:20.752Z"
   },
   {
    "duration": 10,
    "start_time": "2022-04-08T13:14:20.320Z"
   },
   {
    "duration": 1287,
    "start_time": "2022-04-08T13:14:31.209Z"
   },
   {
    "duration": 74,
    "start_time": "2022-04-08T13:14:32.498Z"
   },
   {
    "duration": 12,
    "start_time": "2022-04-08T13:14:32.574Z"
   },
   {
    "duration": 17,
    "start_time": "2022-04-08T13:14:32.588Z"
   },
   {
    "duration": 7,
    "start_time": "2022-04-08T13:14:32.607Z"
   },
   {
    "duration": 12,
    "start_time": "2022-04-08T13:14:32.616Z"
   },
   {
    "duration": 16,
    "start_time": "2022-04-08T13:14:32.630Z"
   },
   {
    "duration": 15,
    "start_time": "2022-04-08T13:14:32.647Z"
   },
   {
    "duration": 20,
    "start_time": "2022-04-08T13:14:32.664Z"
   },
   {
    "duration": 10,
    "start_time": "2022-04-08T13:14:32.687Z"
   },
   {
    "duration": 14,
    "start_time": "2022-04-08T13:14:32.699Z"
   },
   {
    "duration": 27,
    "start_time": "2022-04-08T13:14:32.715Z"
   },
   {
    "duration": 9,
    "start_time": "2022-04-08T13:14:32.744Z"
   },
   {
    "duration": 15,
    "start_time": "2022-04-08T13:14:32.755Z"
   },
   {
    "duration": 13,
    "start_time": "2022-04-08T13:14:32.771Z"
   },
   {
    "duration": 24,
    "start_time": "2022-04-08T13:14:32.786Z"
   },
   {
    "duration": 31,
    "start_time": "2022-04-08T13:14:32.812Z"
   },
   {
    "duration": 9,
    "start_time": "2022-04-08T13:14:32.846Z"
   },
   {
    "duration": 12,
    "start_time": "2022-04-08T13:14:32.857Z"
   },
   {
    "duration": 15,
    "start_time": "2022-04-08T13:14:32.871Z"
   },
   {
    "duration": 199,
    "start_time": "2022-04-08T13:14:32.888Z"
   },
   {
    "duration": 133,
    "start_time": "2022-04-08T13:14:33.089Z"
   },
   {
    "duration": 13,
    "start_time": "2022-04-08T13:14:33.224Z"
   },
   {
    "duration": 19,
    "start_time": "2022-04-08T13:14:33.238Z"
   },
   {
    "duration": 13,
    "start_time": "2022-04-08T13:14:33.258Z"
   },
   {
    "duration": 310,
    "start_time": "2022-04-08T13:14:33.273Z"
   },
   {
    "duration": 249,
    "start_time": "2022-04-08T13:14:33.585Z"
   },
   {
    "duration": 7,
    "start_time": "2022-04-08T13:14:33.838Z"
   },
   {
    "duration": 495,
    "start_time": "2022-04-08T13:14:33.847Z"
   },
   {
    "duration": 12,
    "start_time": "2022-04-08T13:14:34.343Z"
   },
   {
    "duration": 6,
    "start_time": "2022-04-08T13:14:34.356Z"
   },
   {
    "duration": 493,
    "start_time": "2022-04-08T13:14:34.364Z"
   },
   {
    "duration": 12,
    "start_time": "2022-04-08T13:14:34.859Z"
   },
   {
    "duration": 572,
    "start_time": "2022-04-08T13:14:34.873Z"
   },
   {
    "duration": 13,
    "start_time": "2022-04-08T13:14:35.447Z"
   },
   {
    "duration": 292,
    "start_time": "2022-04-08T13:14:35.462Z"
   },
   {
    "duration": 160,
    "start_time": "2022-04-08T13:14:35.756Z"
   },
   {
    "duration": 4,
    "start_time": "2022-04-08T13:14:35.918Z"
   },
   {
    "duration": 6,
    "start_time": "2022-04-08T13:14:35.932Z"
   },
   {
    "duration": 220,
    "start_time": "2022-04-08T13:14:35.940Z"
   },
   {
    "duration": 240,
    "start_time": "2022-04-08T13:14:36.162Z"
   },
   {
    "duration": 5,
    "start_time": "2022-04-08T13:14:36.403Z"
   },
   {
    "duration": 24,
    "start_time": "2022-04-08T13:14:36.409Z"
   },
   {
    "duration": 98,
    "start_time": "2022-04-08T13:14:36.435Z"
   },
   {
    "duration": 25,
    "start_time": "2022-04-08T13:14:36.534Z"
   },
   {
    "duration": 119,
    "start_time": "2022-04-08T13:14:36.561Z"
   },
   {
    "duration": 31,
    "start_time": "2022-04-08T13:14:36.681Z"
   },
   {
    "duration": 168,
    "start_time": "2022-04-08T13:14:36.713Z"
   },
   {
    "duration": 6,
    "start_time": "2022-04-08T13:14:36.882Z"
   },
   {
    "duration": 29,
    "start_time": "2022-04-08T13:14:36.890Z"
   },
   {
    "duration": 14,
    "start_time": "2022-04-08T13:14:36.920Z"
   },
   {
    "duration": 13,
    "start_time": "2022-04-08T13:14:36.935Z"
   },
   {
    "duration": 7,
    "start_time": "2022-04-08T13:14:36.949Z"
   },
   {
    "duration": 11,
    "start_time": "2022-04-08T13:14:36.958Z"
   },
   {
    "duration": 12,
    "start_time": "2022-04-08T13:14:36.970Z"
   },
   {
    "duration": 12,
    "start_time": "2022-04-08T13:14:36.984Z"
   },
   {
    "duration": 9,
    "start_time": "2022-04-08T13:14:36.998Z"
   },
   {
    "duration": 48,
    "start_time": "2022-04-08T13:14:37.009Z"
   },
   {
    "duration": 15,
    "start_time": "2022-04-08T13:14:37.058Z"
   },
   {
    "duration": 11,
    "start_time": "2022-04-08T13:14:46.868Z"
   },
   {
    "duration": 11,
    "start_time": "2022-04-08T13:14:52.987Z"
   },
   {
    "duration": 12,
    "start_time": "2022-04-08T13:15:04.497Z"
   },
   {
    "duration": 12,
    "start_time": "2022-04-08T13:15:09.787Z"
   },
   {
    "duration": 11,
    "start_time": "2022-04-08T13:15:13.675Z"
   },
   {
    "duration": 11,
    "start_time": "2022-04-08T13:15:20.267Z"
   },
   {
    "duration": 16,
    "start_time": "2022-04-08T13:15:48.539Z"
   },
   {
    "duration": 104,
    "start_time": "2022-04-08T13:19:28.971Z"
   },
   {
    "duration": 9,
    "start_time": "2022-04-08T13:19:34.755Z"
   },
   {
    "duration": 5,
    "start_time": "2022-04-08T13:19:37.859Z"
   },
   {
    "duration": 5,
    "start_time": "2022-04-08T13:19:43.027Z"
   },
   {
    "duration": 225,
    "start_time": "2022-04-08T13:19:54.204Z"
   },
   {
    "duration": 8,
    "start_time": "2022-04-08T13:20:01.235Z"
   },
   {
    "duration": 6,
    "start_time": "2022-04-08T13:20:04.578Z"
   },
   {
    "duration": 1250,
    "start_time": "2022-04-08T13:21:15.855Z"
   },
   {
    "duration": 75,
    "start_time": "2022-04-08T13:21:17.107Z"
   },
   {
    "duration": 13,
    "start_time": "2022-04-08T13:21:17.184Z"
   },
   {
    "duration": 16,
    "start_time": "2022-04-08T13:21:17.199Z"
   },
   {
    "duration": 6,
    "start_time": "2022-04-08T13:21:17.216Z"
   },
   {
    "duration": 11,
    "start_time": "2022-04-08T13:21:17.224Z"
   },
   {
    "duration": 19,
    "start_time": "2022-04-08T13:21:17.237Z"
   },
   {
    "duration": 16,
    "start_time": "2022-04-08T13:21:17.257Z"
   },
   {
    "duration": 12,
    "start_time": "2022-04-08T13:21:17.275Z"
   },
   {
    "duration": 17,
    "start_time": "2022-04-08T13:21:17.290Z"
   },
   {
    "duration": 23,
    "start_time": "2022-04-08T13:21:17.308Z"
   },
   {
    "duration": 6,
    "start_time": "2022-04-08T13:21:17.333Z"
   },
   {
    "duration": 15,
    "start_time": "2022-04-08T13:21:17.341Z"
   },
   {
    "duration": 6,
    "start_time": "2022-04-08T13:21:17.357Z"
   },
   {
    "duration": 8,
    "start_time": "2022-04-08T13:21:17.365Z"
   },
   {
    "duration": 13,
    "start_time": "2022-04-08T13:21:17.375Z"
   },
   {
    "duration": 43,
    "start_time": "2022-04-08T13:21:17.390Z"
   },
   {
    "duration": 17,
    "start_time": "2022-04-08T13:21:17.435Z"
   },
   {
    "duration": 11,
    "start_time": "2022-04-08T13:21:17.454Z"
   },
   {
    "duration": 15,
    "start_time": "2022-04-08T13:21:17.467Z"
   },
   {
    "duration": 6,
    "start_time": "2022-04-08T13:21:17.484Z"
   },
   {
    "duration": 201,
    "start_time": "2022-04-08T13:21:17.491Z"
   },
   {
    "duration": 140,
    "start_time": "2022-04-08T13:21:17.693Z"
   },
   {
    "duration": 7,
    "start_time": "2022-04-08T13:21:17.835Z"
   },
   {
    "duration": 20,
    "start_time": "2022-04-08T13:21:17.844Z"
   },
   {
    "duration": 14,
    "start_time": "2022-04-08T13:21:17.866Z"
   },
   {
    "duration": 331,
    "start_time": "2022-04-08T13:21:17.882Z"
   },
   {
    "duration": 234,
    "start_time": "2022-04-08T13:21:18.217Z"
   },
   {
    "duration": 6,
    "start_time": "2022-04-08T13:21:18.453Z"
   },
   {
    "duration": 320,
    "start_time": "2022-04-08T13:21:18.461Z"
   },
   {
    "duration": 12,
    "start_time": "2022-04-08T13:21:18.782Z"
   },
   {
    "duration": 13,
    "start_time": "2022-04-08T13:21:18.796Z"
   },
   {
    "duration": 451,
    "start_time": "2022-04-08T13:21:18.811Z"
   },
   {
    "duration": 8,
    "start_time": "2022-04-08T13:21:19.264Z"
   },
   {
    "duration": 568,
    "start_time": "2022-04-08T13:21:19.274Z"
   },
   {
    "duration": 14,
    "start_time": "2022-04-08T13:21:19.844Z"
   },
   {
    "duration": 387,
    "start_time": "2022-04-08T13:21:19.860Z"
   },
   {
    "duration": 318,
    "start_time": "2022-04-08T13:21:20.249Z"
   },
   {
    "duration": 5,
    "start_time": "2022-04-08T13:21:20.569Z"
   },
   {
    "duration": 60,
    "start_time": "2022-04-08T13:21:20.575Z"
   },
   {
    "duration": 308,
    "start_time": "2022-04-08T13:21:20.637Z"
   },
   {
    "duration": 174,
    "start_time": "2022-04-08T13:21:20.948Z"
   },
   {
    "duration": 9,
    "start_time": "2022-04-08T13:21:21.124Z"
   },
   {
    "duration": 9,
    "start_time": "2022-04-08T13:21:21.135Z"
   },
   {
    "duration": 102,
    "start_time": "2022-04-08T13:21:21.145Z"
   },
   {
    "duration": 26,
    "start_time": "2022-04-08T13:21:21.249Z"
   },
   {
    "duration": 105,
    "start_time": "2022-04-08T13:21:21.277Z"
   },
   {
    "duration": 29,
    "start_time": "2022-04-08T13:21:21.384Z"
   },
   {
    "duration": 157,
    "start_time": "2022-04-08T13:21:21.431Z"
   },
   {
    "duration": 6,
    "start_time": "2022-04-08T13:21:21.590Z"
   },
   {
    "duration": 37,
    "start_time": "2022-04-08T13:21:21.598Z"
   },
   {
    "duration": 4,
    "start_time": "2022-04-08T13:21:21.636Z"
   },
   {
    "duration": 14,
    "start_time": "2022-04-08T13:21:21.642Z"
   },
   {
    "duration": 7,
    "start_time": "2022-04-08T13:21:21.658Z"
   },
   {
    "duration": 8,
    "start_time": "2022-04-08T13:21:21.667Z"
   },
   {
    "duration": 9,
    "start_time": "2022-04-08T13:21:21.677Z"
   },
   {
    "duration": 46,
    "start_time": "2022-04-08T13:21:21.688Z"
   },
   {
    "duration": 10,
    "start_time": "2022-04-08T13:21:21.736Z"
   },
   {
    "duration": 30,
    "start_time": "2022-04-08T13:21:21.748Z"
   },
   {
    "duration": 18,
    "start_time": "2022-04-08T13:21:21.780Z"
   },
   {
    "duration": 112,
    "start_time": "2022-04-08T13:22:12.712Z"
   },
   {
    "duration": 171,
    "start_time": "2022-04-08T13:22:59.792Z"
   },
   {
    "duration": 183,
    "start_time": "2022-04-08T13:24:15.537Z"
   },
   {
    "duration": 249,
    "start_time": "2022-04-08T13:24:52.056Z"
   },
   {
    "duration": 162,
    "start_time": "2022-04-08T13:25:12.825Z"
   },
   {
    "duration": 163,
    "start_time": "2022-04-08T13:25:27.248Z"
   },
   {
    "duration": 1372,
    "start_time": "2022-04-08T13:33:31.084Z"
   },
   {
    "duration": 65,
    "start_time": "2022-04-08T13:33:32.458Z"
   },
   {
    "duration": 18,
    "start_time": "2022-04-08T13:33:32.525Z"
   },
   {
    "duration": 26,
    "start_time": "2022-04-08T13:33:32.546Z"
   },
   {
    "duration": 11,
    "start_time": "2022-04-08T13:33:32.574Z"
   },
   {
    "duration": 16,
    "start_time": "2022-04-08T13:33:32.587Z"
   },
   {
    "duration": 37,
    "start_time": "2022-04-08T13:33:32.605Z"
   },
   {
    "duration": 19,
    "start_time": "2022-04-08T13:33:32.644Z"
   },
   {
    "duration": 226,
    "start_time": "2022-04-08T13:33:32.665Z"
   },
   {
    "duration": 13,
    "start_time": "2022-04-08T13:33:32.894Z"
   },
   {
    "duration": 7,
    "start_time": "2022-04-08T13:33:32.909Z"
   },
   {
    "duration": 21,
    "start_time": "2022-04-08T13:33:32.934Z"
   },
   {
    "duration": 20,
    "start_time": "2022-04-08T13:33:32.957Z"
   },
   {
    "duration": 15,
    "start_time": "2022-04-08T13:33:32.979Z"
   },
   {
    "duration": 16,
    "start_time": "2022-04-08T13:33:32.996Z"
   },
   {
    "duration": 17,
    "start_time": "2022-04-08T13:33:33.014Z"
   },
   {
    "duration": 46,
    "start_time": "2022-04-08T13:33:33.033Z"
   },
   {
    "duration": 29,
    "start_time": "2022-04-08T13:33:33.081Z"
   },
   {
    "duration": 31,
    "start_time": "2022-04-08T13:33:33.112Z"
   },
   {
    "duration": 24,
    "start_time": "2022-04-08T13:33:33.145Z"
   },
   {
    "duration": 11,
    "start_time": "2022-04-08T13:33:33.171Z"
   },
   {
    "duration": 213,
    "start_time": "2022-04-08T13:33:33.184Z"
   },
   {
    "duration": 160,
    "start_time": "2022-04-08T13:33:33.399Z"
   },
   {
    "duration": 8,
    "start_time": "2022-04-08T13:33:33.560Z"
   },
   {
    "duration": 18,
    "start_time": "2022-04-08T13:33:33.570Z"
   },
   {
    "duration": 11,
    "start_time": "2022-04-08T13:33:33.589Z"
   },
   {
    "duration": 371,
    "start_time": "2022-04-08T13:33:33.602Z"
   },
   {
    "duration": 251,
    "start_time": "2022-04-08T13:33:33.977Z"
   },
   {
    "duration": 8,
    "start_time": "2022-04-08T13:33:34.233Z"
   },
   {
    "duration": 351,
    "start_time": "2022-04-08T13:33:34.244Z"
   },
   {
    "duration": 11,
    "start_time": "2022-04-08T13:33:34.597Z"
   },
   {
    "duration": 7,
    "start_time": "2022-04-08T13:33:34.610Z"
   },
   {
    "duration": 288,
    "start_time": "2022-04-08T13:33:34.619Z"
   },
   {
    "duration": 9,
    "start_time": "2022-04-08T13:33:34.908Z"
   },
   {
    "duration": 617,
    "start_time": "2022-04-08T13:33:34.919Z"
   },
   {
    "duration": 20,
    "start_time": "2022-04-08T13:33:35.539Z"
   },
   {
    "duration": 480,
    "start_time": "2022-04-08T13:33:35.561Z"
   },
   {
    "duration": 398,
    "start_time": "2022-04-08T13:33:36.044Z"
   },
   {
    "duration": 9,
    "start_time": "2022-04-08T13:33:36.444Z"
   },
   {
    "duration": 15,
    "start_time": "2022-04-08T13:33:36.454Z"
   },
   {
    "duration": 703,
    "start_time": "2022-04-08T13:33:36.470Z"
   },
   {
    "duration": 204,
    "start_time": "2022-04-08T13:33:37.175Z"
   },
   {
    "duration": 5,
    "start_time": "2022-04-08T13:33:37.381Z"
   },
   {
    "duration": 13,
    "start_time": "2022-04-08T13:33:37.388Z"
   },
   {
    "duration": 123,
    "start_time": "2022-04-08T13:33:37.404Z"
   },
   {
    "duration": 41,
    "start_time": "2022-04-08T13:33:37.532Z"
   },
   {
    "duration": 110,
    "start_time": "2022-04-08T13:33:37.575Z"
   },
   {
    "duration": 31,
    "start_time": "2022-04-08T13:33:37.687Z"
   },
   {
    "duration": 176,
    "start_time": "2022-04-08T13:33:37.735Z"
   },
   {
    "duration": 8,
    "start_time": "2022-04-08T13:33:37.913Z"
   },
   {
    "duration": 36,
    "start_time": "2022-04-08T13:33:37.933Z"
   },
   {
    "duration": 5,
    "start_time": "2022-04-08T13:33:37.971Z"
   },
   {
    "duration": 21,
    "start_time": "2022-04-08T13:33:37.978Z"
   },
   {
    "duration": 8,
    "start_time": "2022-04-08T13:33:38.001Z"
   },
   {
    "duration": 7,
    "start_time": "2022-04-08T13:33:38.031Z"
   },
   {
    "duration": 20,
    "start_time": "2022-04-08T13:33:38.040Z"
   },
   {
    "duration": 10,
    "start_time": "2022-04-08T13:33:38.062Z"
   },
   {
    "duration": 8,
    "start_time": "2022-04-08T13:33:38.074Z"
   },
   {
    "duration": 65,
    "start_time": "2022-04-08T13:33:38.084Z"
   },
   {
    "duration": 17,
    "start_time": "2022-04-08T13:33:38.151Z"
   },
   {
    "duration": 184,
    "start_time": "2022-04-08T13:34:18.179Z"
   },
   {
    "duration": 177,
    "start_time": "2022-04-08T13:34:24.555Z"
   },
   {
    "duration": 132,
    "start_time": "2022-04-08T13:38:40.511Z"
   },
   {
    "duration": 13,
    "start_time": "2022-04-08T13:39:05.834Z"
   },
   {
    "duration": 1322,
    "start_time": "2022-04-08T13:46:39.206Z"
   },
   {
    "duration": 64,
    "start_time": "2022-04-08T13:46:40.530Z"
   },
   {
    "duration": 12,
    "start_time": "2022-04-08T13:46:40.596Z"
   },
   {
    "duration": 15,
    "start_time": "2022-04-08T13:46:40.611Z"
   },
   {
    "duration": 6,
    "start_time": "2022-04-08T13:46:40.628Z"
   },
   {
    "duration": 12,
    "start_time": "2022-04-08T13:46:40.636Z"
   },
   {
    "duration": 16,
    "start_time": "2022-04-08T13:46:40.650Z"
   },
   {
    "duration": 20,
    "start_time": "2022-04-08T13:46:40.668Z"
   },
   {
    "duration": 220,
    "start_time": "2022-04-08T13:46:40.690Z"
   },
   {
    "duration": 22,
    "start_time": "2022-04-08T13:46:40.913Z"
   },
   {
    "duration": 7,
    "start_time": "2022-04-08T13:46:40.937Z"
   },
   {
    "duration": 8,
    "start_time": "2022-04-08T13:46:40.946Z"
   },
   {
    "duration": 12,
    "start_time": "2022-04-08T13:46:40.956Z"
   },
   {
    "duration": 7,
    "start_time": "2022-04-08T13:46:40.970Z"
   },
   {
    "duration": 8,
    "start_time": "2022-04-08T13:46:40.979Z"
   },
   {
    "duration": 47,
    "start_time": "2022-04-08T13:46:40.989Z"
   },
   {
    "duration": 23,
    "start_time": "2022-04-08T13:46:41.038Z"
   },
   {
    "duration": 15,
    "start_time": "2022-04-08T13:46:41.063Z"
   },
   {
    "duration": 11,
    "start_time": "2022-04-08T13:46:41.080Z"
   },
   {
    "duration": 10,
    "start_time": "2022-04-08T13:46:41.094Z"
   },
   {
    "duration": 32,
    "start_time": "2022-04-08T13:46:41.106Z"
   },
   {
    "duration": 199,
    "start_time": "2022-04-08T13:46:41.140Z"
   },
   {
    "duration": 146,
    "start_time": "2022-04-08T13:46:41.341Z"
   },
   {
    "duration": 7,
    "start_time": "2022-04-08T13:46:41.489Z"
   },
   {
    "duration": 19,
    "start_time": "2022-04-08T13:46:41.498Z"
   },
   {
    "duration": 7,
    "start_time": "2022-04-08T13:46:41.532Z"
   },
   {
    "duration": 328,
    "start_time": "2022-04-08T13:46:41.541Z"
   },
   {
    "duration": 228,
    "start_time": "2022-04-08T13:46:41.873Z"
   },
   {
    "duration": 6,
    "start_time": "2022-04-08T13:46:42.103Z"
   },
   {
    "duration": 376,
    "start_time": "2022-04-08T13:46:42.111Z"
   },
   {
    "duration": 12,
    "start_time": "2022-04-08T13:46:42.489Z"
   },
   {
    "duration": 6,
    "start_time": "2022-04-08T13:46:42.503Z"
   },
   {
    "duration": 267,
    "start_time": "2022-04-08T13:46:42.511Z"
   },
   {
    "duration": 9,
    "start_time": "2022-04-08T13:46:42.780Z"
   },
   {
    "duration": 397,
    "start_time": "2022-04-08T13:46:42.792Z"
   },
   {
    "duration": 13,
    "start_time": "2022-04-08T13:46:43.191Z"
   },
   {
    "duration": 207,
    "start_time": "2022-04-08T13:46:43.206Z"
   },
   {
    "duration": 164,
    "start_time": "2022-04-08T13:46:43.415Z"
   },
   {
    "duration": 5,
    "start_time": "2022-04-08T13:46:43.580Z"
   },
   {
    "duration": 12,
    "start_time": "2022-04-08T13:46:43.587Z"
   },
   {
    "duration": 312,
    "start_time": "2022-04-08T13:46:43.600Z"
   },
   {
    "duration": 175,
    "start_time": "2022-04-08T13:46:43.914Z"
   },
   {
    "duration": 4,
    "start_time": "2022-04-08T13:46:44.091Z"
   },
   {
    "duration": 10,
    "start_time": "2022-04-08T13:46:44.097Z"
   },
   {
    "duration": 112,
    "start_time": "2022-04-08T13:46:44.109Z"
   },
   {
    "duration": 28,
    "start_time": "2022-04-08T13:46:44.232Z"
   },
   {
    "duration": 116,
    "start_time": "2022-04-08T13:46:44.262Z"
   },
   {
    "duration": 36,
    "start_time": "2022-04-08T13:46:44.380Z"
   },
   {
    "duration": 162,
    "start_time": "2022-04-08T13:46:44.418Z"
   },
   {
    "duration": 6,
    "start_time": "2022-04-08T13:46:44.582Z"
   },
   {
    "duration": 55,
    "start_time": "2022-04-08T13:46:44.590Z"
   },
   {
    "duration": 4,
    "start_time": "2022-04-08T13:46:44.647Z"
   },
   {
    "duration": 14,
    "start_time": "2022-04-08T13:46:44.653Z"
   },
   {
    "duration": 7,
    "start_time": "2022-04-08T13:46:44.669Z"
   },
   {
    "duration": 10,
    "start_time": "2022-04-08T13:46:44.678Z"
   },
   {
    "duration": 8,
    "start_time": "2022-04-08T13:46:44.690Z"
   },
   {
    "duration": 37,
    "start_time": "2022-04-08T13:46:44.699Z"
   },
   {
    "duration": 12,
    "start_time": "2022-04-08T13:46:44.737Z"
   },
   {
    "duration": 33,
    "start_time": "2022-04-08T13:46:44.751Z"
   },
   {
    "duration": 15,
    "start_time": "2022-04-08T13:46:44.786Z"
   },
   {
    "duration": 17,
    "start_time": "2022-04-08T13:47:18.669Z"
   },
   {
    "duration": 25,
    "start_time": "2022-04-08T13:47:32.933Z"
   },
   {
    "duration": 16,
    "start_time": "2022-04-08T13:47:47.597Z"
   },
   {
    "duration": 15,
    "start_time": "2022-04-08T13:47:54.525Z"
   },
   {
    "duration": 1288,
    "start_time": "2022-04-08T13:48:01.537Z"
   },
   {
    "duration": 66,
    "start_time": "2022-04-08T13:48:02.827Z"
   },
   {
    "duration": 14,
    "start_time": "2022-04-08T13:48:02.894Z"
   },
   {
    "duration": 19,
    "start_time": "2022-04-08T13:48:02.910Z"
   },
   {
    "duration": 28,
    "start_time": "2022-04-08T13:48:02.930Z"
   },
   {
    "duration": 20,
    "start_time": "2022-04-08T13:48:02.959Z"
   },
   {
    "duration": 25,
    "start_time": "2022-04-08T13:48:02.980Z"
   },
   {
    "duration": 17,
    "start_time": "2022-04-08T13:48:03.006Z"
   },
   {
    "duration": 216,
    "start_time": "2022-04-08T13:48:03.024Z"
   },
   {
    "duration": 13,
    "start_time": "2022-04-08T13:48:03.242Z"
   },
   {
    "duration": 33,
    "start_time": "2022-04-08T13:48:03.256Z"
   },
   {
    "duration": 22,
    "start_time": "2022-04-08T13:48:03.290Z"
   },
   {
    "duration": 19,
    "start_time": "2022-04-08T13:48:03.315Z"
   },
   {
    "duration": 22,
    "start_time": "2022-04-08T13:48:03.336Z"
   },
   {
    "duration": 23,
    "start_time": "2022-04-08T13:48:03.360Z"
   },
   {
    "duration": 27,
    "start_time": "2022-04-08T13:48:03.385Z"
   },
   {
    "duration": 34,
    "start_time": "2022-04-08T13:48:03.413Z"
   },
   {
    "duration": 24,
    "start_time": "2022-04-08T13:48:03.449Z"
   },
   {
    "duration": 24,
    "start_time": "2022-04-08T13:48:03.475Z"
   },
   {
    "duration": 21,
    "start_time": "2022-04-08T13:48:03.501Z"
   },
   {
    "duration": 13,
    "start_time": "2022-04-08T13:48:03.524Z"
   },
   {
    "duration": 181,
    "start_time": "2022-04-08T13:48:03.539Z"
   },
   {
    "duration": 145,
    "start_time": "2022-04-08T13:48:03.722Z"
   },
   {
    "duration": 7,
    "start_time": "2022-04-08T13:48:03.869Z"
   },
   {
    "duration": 37,
    "start_time": "2022-04-08T13:48:03.878Z"
   },
   {
    "duration": 11,
    "start_time": "2022-04-08T13:48:03.918Z"
   },
   {
    "duration": 304,
    "start_time": "2022-04-08T13:48:03.931Z"
   },
   {
    "duration": 226,
    "start_time": "2022-04-08T13:48:04.239Z"
   },
   {
    "duration": 7,
    "start_time": "2022-04-08T13:48:04.467Z"
   },
   {
    "duration": 332,
    "start_time": "2022-04-08T13:48:04.476Z"
   },
   {
    "duration": 12,
    "start_time": "2022-04-08T13:48:04.810Z"
   },
   {
    "duration": 6,
    "start_time": "2022-04-08T13:48:04.832Z"
   },
   {
    "duration": 265,
    "start_time": "2022-04-08T13:48:04.841Z"
   },
   {
    "duration": 9,
    "start_time": "2022-04-08T13:48:05.108Z"
   },
   {
    "duration": 352,
    "start_time": "2022-04-08T13:48:05.119Z"
   },
   {
    "duration": 15,
    "start_time": "2022-04-08T13:48:05.473Z"
   },
   {
    "duration": 198,
    "start_time": "2022-04-08T13:48:05.490Z"
   },
   {
    "duration": 163,
    "start_time": "2022-04-08T13:48:05.690Z"
   },
   {
    "duration": 5,
    "start_time": "2022-04-08T13:48:05.855Z"
   },
   {
    "duration": 13,
    "start_time": "2022-04-08T13:48:05.862Z"
   },
   {
    "duration": 310,
    "start_time": "2022-04-08T13:48:05.877Z"
   },
   {
    "duration": 180,
    "start_time": "2022-04-08T13:48:06.189Z"
   },
   {
    "duration": 4,
    "start_time": "2022-04-08T13:48:06.372Z"
   },
   {
    "duration": 10,
    "start_time": "2022-04-08T13:48:06.378Z"
   },
   {
    "duration": 114,
    "start_time": "2022-04-08T13:48:06.390Z"
   },
   {
    "duration": 39,
    "start_time": "2022-04-08T13:48:06.506Z"
   },
   {
    "duration": 110,
    "start_time": "2022-04-08T13:48:06.547Z"
   },
   {
    "duration": 31,
    "start_time": "2022-04-08T13:48:06.659Z"
   },
   {
    "duration": 168,
    "start_time": "2022-04-08T13:48:06.692Z"
   },
   {
    "duration": 6,
    "start_time": "2022-04-08T13:48:06.862Z"
   },
   {
    "duration": 29,
    "start_time": "2022-04-08T13:48:06.870Z"
   },
   {
    "duration": 3,
    "start_time": "2022-04-08T13:48:06.901Z"
   },
   {
    "duration": 37,
    "start_time": "2022-04-08T13:48:06.906Z"
   },
   {
    "duration": 7,
    "start_time": "2022-04-08T13:48:06.945Z"
   },
   {
    "duration": 8,
    "start_time": "2022-04-08T13:48:06.953Z"
   },
   {
    "duration": 8,
    "start_time": "2022-04-08T13:48:06.963Z"
   },
   {
    "duration": 8,
    "start_time": "2022-04-08T13:48:06.972Z"
   },
   {
    "duration": 7,
    "start_time": "2022-04-08T13:48:06.981Z"
   },
   {
    "duration": 53,
    "start_time": "2022-04-08T13:48:06.990Z"
   },
   {
    "duration": 16,
    "start_time": "2022-04-08T13:48:07.045Z"
   },
   {
    "duration": 1216,
    "start_time": "2022-04-09T03:54:58.491Z"
   },
   {
    "duration": 39,
    "start_time": "2022-04-09T03:54:59.710Z"
   },
   {
    "duration": 13,
    "start_time": "2022-04-09T03:54:59.751Z"
   },
   {
    "duration": 23,
    "start_time": "2022-04-09T03:54:59.766Z"
   },
   {
    "duration": 7,
    "start_time": "2022-04-09T03:54:59.790Z"
   },
   {
    "duration": 13,
    "start_time": "2022-04-09T03:54:59.799Z"
   },
   {
    "duration": 26,
    "start_time": "2022-04-09T03:54:59.814Z"
   },
   {
    "duration": 16,
    "start_time": "2022-04-09T03:54:59.842Z"
   },
   {
    "duration": 187,
    "start_time": "2022-04-09T03:54:59.859Z"
   },
   {
    "duration": 12,
    "start_time": "2022-04-09T03:55:00.050Z"
   },
   {
    "duration": 14,
    "start_time": "2022-04-09T03:55:00.064Z"
   },
   {
    "duration": 14,
    "start_time": "2022-04-09T03:55:00.080Z"
   },
   {
    "duration": 13,
    "start_time": "2022-04-09T03:55:00.096Z"
   },
   {
    "duration": 30,
    "start_time": "2022-04-09T03:55:00.111Z"
   },
   {
    "duration": 22,
    "start_time": "2022-04-09T03:55:00.142Z"
   },
   {
    "duration": 27,
    "start_time": "2022-04-09T03:55:00.166Z"
   },
   {
    "duration": 33,
    "start_time": "2022-04-09T03:55:00.195Z"
   },
   {
    "duration": 20,
    "start_time": "2022-04-09T03:55:00.230Z"
   },
   {
    "duration": 13,
    "start_time": "2022-04-09T03:55:00.252Z"
   },
   {
    "duration": 16,
    "start_time": "2022-04-09T03:55:00.267Z"
   },
   {
    "duration": 22,
    "start_time": "2022-04-09T03:55:00.285Z"
   },
   {
    "duration": 179,
    "start_time": "2022-04-09T03:55:00.309Z"
   },
   {
    "duration": 140,
    "start_time": "2022-04-09T03:55:00.490Z"
   },
   {
    "duration": 7,
    "start_time": "2022-04-09T03:55:00.639Z"
   },
   {
    "duration": 22,
    "start_time": "2022-04-09T03:55:00.648Z"
   },
   {
    "duration": 20,
    "start_time": "2022-04-09T03:55:00.672Z"
   },
   {
    "duration": 286,
    "start_time": "2022-04-09T03:55:00.694Z"
   },
   {
    "duration": 204,
    "start_time": "2022-04-09T03:55:00.985Z"
   },
   {
    "duration": 7,
    "start_time": "2022-04-09T03:55:01.191Z"
   },
   {
    "duration": 344,
    "start_time": "2022-04-09T03:55:01.200Z"
   },
   {
    "duration": 13,
    "start_time": "2022-04-09T03:55:01.547Z"
   },
   {
    "duration": 11,
    "start_time": "2022-04-09T03:55:01.563Z"
   },
   {
    "duration": 241,
    "start_time": "2022-04-09T03:55:01.576Z"
   },
   {
    "duration": 20,
    "start_time": "2022-04-09T03:55:01.819Z"
   },
   {
    "duration": 313,
    "start_time": "2022-04-09T03:55:01.841Z"
   },
   {
    "duration": 14,
    "start_time": "2022-04-09T03:55:02.156Z"
   },
   {
    "duration": 174,
    "start_time": "2022-04-09T03:55:02.171Z"
   },
   {
    "duration": 157,
    "start_time": "2022-04-09T03:55:02.347Z"
   },
   {
    "duration": 5,
    "start_time": "2022-04-09T03:55:02.506Z"
   },
   {
    "duration": 18,
    "start_time": "2022-04-09T03:55:02.513Z"
   },
   {
    "duration": 273,
    "start_time": "2022-04-09T03:55:02.533Z"
   },
   {
    "duration": 160,
    "start_time": "2022-04-09T03:55:02.808Z"
   },
   {
    "duration": 5,
    "start_time": "2022-04-09T03:55:02.970Z"
   },
   {
    "duration": 13,
    "start_time": "2022-04-09T03:55:02.977Z"
   },
   {
    "duration": 97,
    "start_time": "2022-04-09T03:55:02.992Z"
   },
   {
    "duration": 39,
    "start_time": "2022-04-09T03:55:03.091Z"
   },
   {
    "duration": 109,
    "start_time": "2022-04-09T03:55:03.132Z"
   },
   {
    "duration": 34,
    "start_time": "2022-04-09T03:55:03.244Z"
   },
   {
    "duration": 178,
    "start_time": "2022-04-09T03:55:03.280Z"
   },
   {
    "duration": 8,
    "start_time": "2022-04-09T03:55:03.460Z"
   },
   {
    "duration": 28,
    "start_time": "2022-04-09T03:55:03.470Z"
   },
   {
    "duration": 4,
    "start_time": "2022-04-09T03:55:03.500Z"
   },
   {
    "duration": 40,
    "start_time": "2022-04-09T03:55:03.506Z"
   },
   {
    "duration": 16,
    "start_time": "2022-04-09T03:55:03.548Z"
   },
   {
    "duration": 16,
    "start_time": "2022-04-09T03:55:03.566Z"
   },
   {
    "duration": 12,
    "start_time": "2022-04-09T03:55:03.584Z"
   },
   {
    "duration": 14,
    "start_time": "2022-04-09T03:55:03.598Z"
   },
   {
    "duration": 12,
    "start_time": "2022-04-09T03:55:03.614Z"
   },
   {
    "duration": 36,
    "start_time": "2022-04-09T03:55:03.628Z"
   },
   {
    "duration": 15,
    "start_time": "2022-04-09T03:55:03.666Z"
   },
   {
    "duration": 1029,
    "start_time": "2022-06-16T07:13:46.539Z"
   },
   {
    "duration": 190,
    "start_time": "2022-06-16T07:13:47.570Z"
   },
   {
    "duration": 10,
    "start_time": "2022-06-16T07:13:47.762Z"
   },
   {
    "duration": 11,
    "start_time": "2022-06-16T07:13:47.774Z"
   },
   {
    "duration": 4,
    "start_time": "2022-06-16T07:13:47.787Z"
   },
   {
    "duration": 12,
    "start_time": "2022-06-16T07:13:47.793Z"
   },
   {
    "duration": 13,
    "start_time": "2022-06-16T07:13:47.806Z"
   },
   {
    "duration": 12,
    "start_time": "2022-06-16T07:13:47.820Z"
   },
   {
    "duration": 171,
    "start_time": "2022-06-16T07:13:47.834Z"
   },
   {
    "duration": 19,
    "start_time": "2022-06-16T07:13:48.008Z"
   },
   {
    "duration": 7,
    "start_time": "2022-06-16T07:13:48.029Z"
   },
   {
    "duration": 8,
    "start_time": "2022-06-16T07:13:48.037Z"
   },
   {
    "duration": 9,
    "start_time": "2022-06-16T07:13:48.047Z"
   },
   {
    "duration": 25,
    "start_time": "2022-06-16T07:13:48.058Z"
   },
   {
    "duration": 9,
    "start_time": "2022-06-16T07:13:48.085Z"
   },
   {
    "duration": 11,
    "start_time": "2022-06-16T07:13:48.096Z"
   },
   {
    "duration": 22,
    "start_time": "2022-06-16T07:13:48.109Z"
   },
   {
    "duration": 11,
    "start_time": "2022-06-16T07:13:48.133Z"
   },
   {
    "duration": 6,
    "start_time": "2022-06-16T07:13:48.146Z"
   },
   {
    "duration": 8,
    "start_time": "2022-06-16T07:13:48.153Z"
   },
   {
    "duration": 4,
    "start_time": "2022-06-16T07:13:48.163Z"
   },
   {
    "duration": 171,
    "start_time": "2022-06-16T07:13:48.168Z"
   },
   {
    "duration": 122,
    "start_time": "2022-06-16T07:13:48.340Z"
   },
   {
    "duration": 7,
    "start_time": "2022-06-16T07:13:48.463Z"
   },
   {
    "duration": 15,
    "start_time": "2022-06-16T07:13:48.472Z"
   },
   {
    "duration": 7,
    "start_time": "2022-06-16T07:13:48.488Z"
   },
   {
    "duration": 247,
    "start_time": "2022-06-16T07:13:48.497Z"
   },
   {
    "duration": 205,
    "start_time": "2022-06-16T07:13:48.748Z"
   },
   {
    "duration": 6,
    "start_time": "2022-06-16T07:13:48.954Z"
   },
   {
    "duration": 271,
    "start_time": "2022-06-16T07:13:48.961Z"
   },
   {
    "duration": 11,
    "start_time": "2022-06-16T07:13:49.234Z"
   },
   {
    "duration": 21,
    "start_time": "2022-06-16T07:13:49.246Z"
   },
   {
    "duration": 184,
    "start_time": "2022-06-16T07:13:49.268Z"
   },
   {
    "duration": 6,
    "start_time": "2022-06-16T07:13:49.454Z"
   },
   {
    "duration": 268,
    "start_time": "2022-06-16T07:13:49.462Z"
   },
   {
    "duration": 10,
    "start_time": "2022-06-16T07:13:49.732Z"
   },
   {
    "duration": 148,
    "start_time": "2022-06-16T07:13:49.743Z"
   },
   {
    "duration": 130,
    "start_time": "2022-06-16T07:13:49.893Z"
   },
   {
    "duration": 4,
    "start_time": "2022-06-16T07:13:50.026Z"
   },
   {
    "duration": 11,
    "start_time": "2022-06-16T07:13:50.032Z"
   },
   {
    "duration": 241,
    "start_time": "2022-06-16T07:13:50.045Z"
   },
   {
    "duration": 140,
    "start_time": "2022-06-16T07:13:50.288Z"
   },
   {
    "duration": 4,
    "start_time": "2022-06-16T07:13:50.430Z"
   },
   {
    "duration": 9,
    "start_time": "2022-06-16T07:13:50.435Z"
   },
   {
    "duration": 92,
    "start_time": "2022-06-16T07:13:50.445Z"
   },
   {
    "duration": 39,
    "start_time": "2022-06-16T07:13:50.539Z"
   },
   {
    "duration": 122,
    "start_time": "2022-06-16T07:13:50.580Z"
   },
   {
    "duration": 33,
    "start_time": "2022-06-16T07:13:50.704Z"
   },
   {
    "duration": 133,
    "start_time": "2022-06-16T07:13:50.739Z"
   },
   {
    "duration": 6,
    "start_time": "2022-06-16T07:13:50.874Z"
   },
   {
    "duration": 24,
    "start_time": "2022-06-16T07:13:50.882Z"
   },
   {
    "duration": 21,
    "start_time": "2022-06-16T07:13:50.907Z"
   },
   {
    "duration": 6,
    "start_time": "2022-06-16T07:13:50.929Z"
   },
   {
    "duration": 5,
    "start_time": "2022-06-16T07:13:50.937Z"
   },
   {
    "duration": 7,
    "start_time": "2022-06-16T07:13:50.943Z"
   },
   {
    "duration": 25,
    "start_time": "2022-06-16T07:13:50.951Z"
   },
   {
    "duration": 16,
    "start_time": "2022-06-16T07:13:50.978Z"
   },
   {
    "duration": 32,
    "start_time": "2022-06-16T07:13:50.995Z"
   },
   {
    "duration": 12,
    "start_time": "2022-06-16T07:13:51.028Z"
   }
  ],
  "kernelspec": {
   "display_name": "Python 3 (ipykernel)",
   "language": "python",
   "name": "python3"
  },
  "language_info": {
   "codemirror_mode": {
    "name": "ipython",
    "version": 3
   },
   "file_extension": ".py",
   "mimetype": "text/x-python",
   "name": "python",
   "nbconvert_exporter": "python",
   "pygments_lexer": "ipython3",
   "version": "3.9.5"
  },
  "toc": {
   "base_numbering": 1,
   "nav_menu": {},
   "number_sections": true,
   "sideBar": true,
   "skip_h1_title": true,
   "title_cell": "Table of Contents",
   "title_sidebar": "Contents",
   "toc_cell": false,
   "toc_position": {
    "height": "calc(100% - 180px)",
    "left": "10px",
    "top": "150px",
    "width": "366.391px"
   },
   "toc_section_display": true,
   "toc_window_display": true
  }
 },
 "nbformat": 4,
 "nbformat_minor": 2
}
