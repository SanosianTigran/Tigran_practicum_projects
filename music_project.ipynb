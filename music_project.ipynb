{
 "cells": [
  {
   "cell_type": "markdown",
   "metadata": {},
   "source": [
    "# Цели проекта \n",
    "\n",
    "Проверить на данных:\n",
    "\n",
    "1. насколько сильно отличается активность пользователей в Москве и Санкт-Петербурге в зависимости от дня недели. \n",
    "2. Выявить различия в жанровых предпочтениях слушателей Москвы и Санкт-Петербурга.\n",
    "\n",
    "\n",
    "Мы проверяем 3 основные гипотезы: \n",
    "\n",
    "1. Активность пользователей зависит от дня недели. Причём в Москве и Петербурге это проявляется по-разному.\n",
    "2. Утром в понедельник в Москве преобладают одни жанры музыки, а в Петербурге — другие. Это верно и для вечера пятницы.\n",
    "3. Москва и Петербург предпочитают разные жанры музыки. В Москве чаще слушают поп-музыку, в Петербурге — русский рэп."
   ]
  },
  {
   "cell_type": "markdown",
   "metadata": {
    "id": "E0vqbgi9ay0H"
   },
   "source": [
    "# Я.Музыка"
   ]
  },
  {
   "cell_type": "markdown",
   "metadata": {
    "id": "VUC88oWjTJw2"
   },
   "source": [
    "Сравнение Москвы и Петербурга окружено мифами. Например:\n",
    " * Москва — мегаполис, подчинённый жёсткому ритму рабочей недели;\n",
    " * Петербург — культурная столица, со своими вкусами.\n",
    "\n",
    "На данных Яндекс.Музыки вы сравните поведение пользователей двух столиц.\n",
    "\n",
    "**Цель исследования** — проверьте три гипотезы:\n",
    "1. Активность пользователей зависит от дня недели. Причём в Москве и Петербурге это проявляется по-разному.\n",
    "2. В понедельник утром в Москве преобладают одни жанры, а в Петербурге — другие. Так же и вечером пятницы преобладают разные жанры — в зависимости от города. \n",
    "3. Москва и Петербург предпочитают разные жанры музыки. В Москве чаще слушают поп-музыку, в Петербурге — русский рэп.\n",
    "\n",
    "**Ход исследования**\n",
    "\n",
    "Данные о поведении пользователей вы получите из файла `yandex_music_project.csv`. О качестве данных ничего не известно. Поэтому перед проверкой гипотез понадобится обзор данных. \n",
    "\n",
    "Вы проверите данные на ошибки и оцените их влияние на исследование. Затем, на этапе предобработки вы поищете возможность исправить самые критичные ошибки данных.\n",
    " \n",
    "Таким образом, исследование пройдёт в три этапа:\n",
    " 1. Обзор данных.\n",
    " 2. Предобработка данных.\n",
    " 3. Проверка гипотез.\n",
    "\n"
   ]
  },
  {
   "cell_type": "markdown",
   "metadata": {
    "id": "Ml1hmfXC_Zcs"
   },
   "source": [
    "## Обзор данных\n",
    "\n",
    "Составьте первое представление о данных Яндекс.Музыки.\n",
    "\n",
    "\n"
   ]
  },
  {
   "cell_type": "markdown",
   "metadata": {
    "id": "57eAOGIz_Zcs"
   },
   "source": [
    "Основной инструмент аналитика — `pandas`. Импортируйте эту библиотеку."
   ]
  },
  {
   "cell_type": "code",
   "execution_count": 1,
   "metadata": {
    "id": "AXN7PHPN_Zcs"
   },
   "outputs": [],
   "source": [
    "import pandas as pd"
   ]
  },
  {
   "cell_type": "markdown",
   "metadata": {
    "id": "SG23P8tt_Zcs"
   },
   "source": [
    "Прочитайте файл `yandex_music_project.csv` из папки `/datasets` и сохраните его в переменной `df`:"
   ]
  },
  {
   "cell_type": "code",
   "execution_count": 2,
   "metadata": {
    "id": "fFVu7vqh_Zct"
   },
   "outputs": [],
   "source": [
    "df = pd.read_csv('~_music_project.csv')"
   ]
  },
  {
   "cell_type": "markdown",
   "metadata": {
    "id": "rDoOMd3uTqnZ"
   },
   "source": [
    "Выведите на экран первые десять строк таблицы:"
   ]
  },
  {
   "cell_type": "code",
   "execution_count": 3,
   "metadata": {
    "id": "oWTVX3gW_Zct"
   },
   "outputs": [
    {
     "data": {
      "text/html": [
       "<div>\n",
       "<style scoped>\n",
       "    .dataframe tbody tr th:only-of-type {\n",
       "        vertical-align: middle;\n",
       "    }\n",
       "\n",
       "    .dataframe tbody tr th {\n",
       "        vertical-align: top;\n",
       "    }\n",
       "\n",
       "    .dataframe thead th {\n",
       "        text-align: right;\n",
       "    }\n",
       "</style>\n",
       "<table border=\"1\" class=\"dataframe\">\n",
       "  <thead>\n",
       "    <tr style=\"text-align: right;\">\n",
       "      <th></th>\n",
       "      <th>userID</th>\n",
       "      <th>Track</th>\n",
       "      <th>artist</th>\n",
       "      <th>genre</th>\n",
       "      <th>City</th>\n",
       "      <th>time</th>\n",
       "      <th>Day</th>\n",
       "    </tr>\n",
       "  </thead>\n",
       "  <tbody>\n",
       "    <tr>\n",
       "      <th>0</th>\n",
       "      <td>FFB692EC</td>\n",
       "      <td>Kamigata To Boots</td>\n",
       "      <td>The Mass Missile</td>\n",
       "      <td>rock</td>\n",
       "      <td>Saint-Petersburg</td>\n",
       "      <td>20:28:33</td>\n",
       "      <td>Wednesday</td>\n",
       "    </tr>\n",
       "    <tr>\n",
       "      <th>1</th>\n",
       "      <td>55204538</td>\n",
       "      <td>Delayed Because of Accident</td>\n",
       "      <td>Andreas Rönnberg</td>\n",
       "      <td>rock</td>\n",
       "      <td>Moscow</td>\n",
       "      <td>14:07:09</td>\n",
       "      <td>Friday</td>\n",
       "    </tr>\n",
       "    <tr>\n",
       "      <th>2</th>\n",
       "      <td>20EC38</td>\n",
       "      <td>Funiculì funiculà</td>\n",
       "      <td>Mario Lanza</td>\n",
       "      <td>pop</td>\n",
       "      <td>Saint-Petersburg</td>\n",
       "      <td>20:58:07</td>\n",
       "      <td>Wednesday</td>\n",
       "    </tr>\n",
       "    <tr>\n",
       "      <th>3</th>\n",
       "      <td>A3DD03C9</td>\n",
       "      <td>Dragons in the Sunset</td>\n",
       "      <td>Fire + Ice</td>\n",
       "      <td>folk</td>\n",
       "      <td>Saint-Petersburg</td>\n",
       "      <td>08:37:09</td>\n",
       "      <td>Monday</td>\n",
       "    </tr>\n",
       "    <tr>\n",
       "      <th>4</th>\n",
       "      <td>E2DC1FAE</td>\n",
       "      <td>Soul People</td>\n",
       "      <td>Space Echo</td>\n",
       "      <td>dance</td>\n",
       "      <td>Moscow</td>\n",
       "      <td>08:34:34</td>\n",
       "      <td>Monday</td>\n",
       "    </tr>\n",
       "    <tr>\n",
       "      <th>5</th>\n",
       "      <td>842029A1</td>\n",
       "      <td>Преданная</td>\n",
       "      <td>IMPERVTOR</td>\n",
       "      <td>rusrap</td>\n",
       "      <td>Saint-Petersburg</td>\n",
       "      <td>13:09:41</td>\n",
       "      <td>Friday</td>\n",
       "    </tr>\n",
       "    <tr>\n",
       "      <th>6</th>\n",
       "      <td>4CB90AA5</td>\n",
       "      <td>True</td>\n",
       "      <td>Roman Messer</td>\n",
       "      <td>dance</td>\n",
       "      <td>Moscow</td>\n",
       "      <td>13:00:07</td>\n",
       "      <td>Wednesday</td>\n",
       "    </tr>\n",
       "    <tr>\n",
       "      <th>7</th>\n",
       "      <td>F03E1C1F</td>\n",
       "      <td>Feeling This Way</td>\n",
       "      <td>Polina Griffith</td>\n",
       "      <td>dance</td>\n",
       "      <td>Moscow</td>\n",
       "      <td>20:47:49</td>\n",
       "      <td>Wednesday</td>\n",
       "    </tr>\n",
       "    <tr>\n",
       "      <th>8</th>\n",
       "      <td>8FA1D3BE</td>\n",
       "      <td>И вновь продолжается бой</td>\n",
       "      <td>NaN</td>\n",
       "      <td>ruspop</td>\n",
       "      <td>Moscow</td>\n",
       "      <td>09:17:40</td>\n",
       "      <td>Friday</td>\n",
       "    </tr>\n",
       "    <tr>\n",
       "      <th>9</th>\n",
       "      <td>E772D5C0</td>\n",
       "      <td>Pessimist</td>\n",
       "      <td>NaN</td>\n",
       "      <td>dance</td>\n",
       "      <td>Saint-Petersburg</td>\n",
       "      <td>21:20:49</td>\n",
       "      <td>Wednesday</td>\n",
       "    </tr>\n",
       "  </tbody>\n",
       "</table>\n",
       "</div>"
      ],
      "text/plain": [
       "     userID                        Track            artist   genre  \\\n",
       "0  FFB692EC            Kamigata To Boots  The Mass Missile    rock   \n",
       "1  55204538  Delayed Because of Accident  Andreas Rönnberg    rock   \n",
       "2    20EC38            Funiculì funiculà       Mario Lanza     pop   \n",
       "3  A3DD03C9        Dragons in the Sunset        Fire + Ice    folk   \n",
       "4  E2DC1FAE                  Soul People        Space Echo   dance   \n",
       "5  842029A1                    Преданная         IMPERVTOR  rusrap   \n",
       "6  4CB90AA5                         True      Roman Messer   dance   \n",
       "7  F03E1C1F             Feeling This Way   Polina Griffith   dance   \n",
       "8  8FA1D3BE     И вновь продолжается бой               NaN  ruspop   \n",
       "9  E772D5C0                    Pessimist               NaN   dance   \n",
       "\n",
       "             City        time        Day  \n",
       "0  Saint-Petersburg  20:28:33  Wednesday  \n",
       "1            Moscow  14:07:09     Friday  \n",
       "2  Saint-Petersburg  20:58:07  Wednesday  \n",
       "3  Saint-Petersburg  08:37:09     Monday  \n",
       "4            Moscow  08:34:34     Monday  \n",
       "5  Saint-Petersburg  13:09:41     Friday  \n",
       "6            Moscow  13:00:07  Wednesday  \n",
       "7            Moscow  20:47:49  Wednesday  \n",
       "8            Moscow  09:17:40     Friday  \n",
       "9  Saint-Petersburg  21:20:49  Wednesday  "
      ]
     },
     "metadata": {},
     "output_type": "display_data"
    }
   ],
   "source": [
    "display(df.head(10))"
   ]
  },
  {
   "cell_type": "markdown",
   "metadata": {
    "id": "EO73Kwic_Zct"
   },
   "source": [
    "Одной командой получить общую информацию о таблице:"
   ]
  },
  {
   "cell_type": "code",
   "execution_count": 4,
   "metadata": {
    "id": "DSf2kIb-_Zct"
   },
   "outputs": [
    {
     "name": "stdout",
     "output_type": "stream",
     "text": [
      "<class 'pandas.core.frame.DataFrame'>\n",
      "RangeIndex: 65079 entries, 0 to 65078\n",
      "Data columns (total 7 columns):\n",
      " #   Column    Non-Null Count  Dtype \n",
      "---  ------    --------------  ----- \n",
      " 0     userID  65079 non-null  object\n",
      " 1   Track     63848 non-null  object\n",
      " 2   artist    57876 non-null  object\n",
      " 3   genre     63881 non-null  object\n",
      " 4     City    65079 non-null  object\n",
      " 5   time      65079 non-null  object\n",
      " 6   Day       65079 non-null  object\n",
      "dtypes: object(7)\n",
      "memory usage: 3.5+ MB\n"
     ]
    }
   ],
   "source": [
    "df.info()"
   ]
  },
  {
   "cell_type": "markdown",
   "metadata": {
    "id": "TaQ2Iwbr_Zct"
   },
   "source": [
    "Итак, в таблице семь столбцов. Тип данных во всех столбцах — `object`.\n",
    "\n",
    "Согласно документации к данным:\n",
    "* `userID` — идентификатор пользователя;\n",
    "* `Track` — название трека;  \n",
    "* `artist` — имя исполнителя;\n",
    "* `genre` — название жанра;\n",
    "* `City` — город пользователя;\n",
    "* `time` — время начала прослушивания;\n",
    "* `Day` — день недели.\n",
    "\n",
    "В названиях колонок видны три нарушения стиля:\n",
    "1. Строчные буквы сочетаются с прописными.\n",
    "2. Встречаются пробелы.\n",
    "3. Найдите ещё одну проблему в названии колонок и опишите её в этом пункте.\n",
    "\n",
    "   Третья проблема, осложняющая работу с датафреймом - отсутствие \"змеиного\" регистра (UserID). \n",
    "\n",
    "Количество значений в столбцах различается. Значит, в данных есть пропущенные значения.\n"
   ]
  },
  {
   "cell_type": "markdown",
   "metadata": {
    "id": "MCB6-dXG_Zct"
   },
   "source": [
    "**Выводы**\n",
    "\n",
    "В каждой строке таблицы — данные о прослушанном треке. Часть колонок описывает саму композицию: название, исполнителя и жанр. Остальные данные рассказывают о пользователе: из какого он города, когда он слушал музыку. \n",
    "\n",
    "Предварительно можно утверждать, что, данных достаточно для проверки гипотез. Но встречаются пропуски в данных, а в названиях колонок — расхождения с хорошим стилем.\n",
    "\n",
    "Чтобы двигаться дальше, нужно устранить проблемы в данных."
   ]
  },
  {
   "cell_type": "markdown",
   "metadata": {
    "id": "SjYF6Ub9_Zct"
   },
   "source": [
    "## Предобработка данных\n",
    "Исправьте стиль в заголовках столбцов, исключите пропуски. Затем проверьте данные на дубликаты."
   ]
  },
  {
   "cell_type": "markdown",
   "metadata": {
    "id": "dIaKXr29_Zct"
   },
   "source": [
    "### Стиль заголовков\n",
    "Выведите на экран названия столбцов:"
   ]
  },
  {
   "cell_type": "code",
   "execution_count": 5,
   "metadata": {
    "id": "oKOTdF_Q_Zct"
   },
   "outputs": [
    {
     "name": "stdout",
     "output_type": "stream",
     "text": [
      "Index(['  userID', 'Track', 'artist', 'genre', '  City  ', 'time', 'Day'], dtype='object')\n"
     ]
    }
   ],
   "source": [
    "print(df.columns)"
   ]
  },
  {
   "cell_type": "markdown",
   "metadata": {
    "id": "zj5534cv_Zct"
   },
   "source": [
    "Приведите названия в соответствие с хорошим стилем:\n",
    "* несколько слов в названии запишите в «змеином_регистре»,\n",
    "* все символы сделайте строчными,\n",
    "* устраните пробелы.\n",
    "\n",
    "Для этого переименуйте колонки так:\n",
    "* `'  userID'` → `'user_id'`;\n",
    "* `'Track'` → `'track'`;\n",
    "* `'  City  '` → `'city'`;\n",
    "* `'Day'` → `'day'`."
   ]
  },
  {
   "cell_type": "code",
   "execution_count": 6,
   "metadata": {
    "id": "ISlFqs5y_Zct"
   },
   "outputs": [],
   "source": [
    "df = df.rename(columns = {'  userID' : 'user_id', 'Track' : 'track', '  City  ': 'city', 'Day' : 'day'})"
   ]
  },
  {
   "cell_type": "markdown",
   "metadata": {
    "id": "1dqbh00J_Zct"
   },
   "source": [
    "Проверьте результат. Для этого ещё раз выведите на экран названия столбцов:"
   ]
  },
  {
   "cell_type": "code",
   "execution_count": 7,
   "metadata": {
    "id": "d4NOAmTW_Zct"
   },
   "outputs": [
    {
     "name": "stdout",
     "output_type": "stream",
     "text": [
      "Index(['user_id', 'track', 'artist', 'genre', 'city', 'time', 'day'], dtype='object')\n"
     ]
    }
   ],
   "source": [
    "print(df.columns)"
   ]
  },
  {
   "cell_type": "markdown",
   "metadata": {
    "id": "5ISfbcfY_Zct"
   },
   "source": [
    "### Пропуски значений\n",
    "Сначала посчитайте, сколько в таблице пропущенных значений. Для этого достаточно двух методов `pandas`:"
   ]
  },
  {
   "cell_type": "code",
   "execution_count": 8,
   "metadata": {
    "id": "RskX29qr_Zct"
   },
   "outputs": [
    {
     "name": "stdout",
     "output_type": "stream",
     "text": [
      "user_id       0\n",
      "track      1231\n",
      "artist     7203\n",
      "genre      1198\n",
      "city          0\n",
      "time          0\n",
      "day           0\n",
      "dtype: int64\n"
     ]
    }
   ],
   "source": [
    "print(df.isna().sum())"
   ]
  },
  {
   "cell_type": "markdown",
   "metadata": {
    "id": "qubhgnlO_Zct"
   },
   "source": [
    "Не все пропущенные значения влияют на исследование. Так в `track` и `artist` пропуски не важны для вашей работы. Достаточно заменить их явными обозначениями.\n",
    "\n",
    "Но пропуски в `genre` могут помешать сравнению музыкальных вкусов в Москве и Санкт-Петербурге. На практике было бы правильно установить причину пропусков и восстановить данные. Такой возможности нет в учебном проекте. Придётся:\n",
    "* заполнить и эти пропуски явными обозначениями,\n",
    "* оценить, насколько они повредят расчётам. "
   ]
  },
  {
   "cell_type": "markdown",
   "metadata": {
    "id": "fSv2laPA_Zct"
   },
   "source": [
    "Замените пропущенные значения в столбцах `track`, `artist` и `genre` на строку `'unknown'`. Для этого создайте список `columns_to_replace`, переберите его элементы циклом `for` и для каждого столбца выполните замену пропущенных значений:"
   ]
  },
  {
   "cell_type": "code",
   "execution_count": 9,
   "metadata": {
    "id": "KplB5qWs_Zct"
   },
   "outputs": [],
   "source": [
    "columns_to_replace = ['track', 'artist', 'genre']\n",
    "\n",
    "for column in columns_to_replace:\n",
    "    df[column] = df[column].fillna('unknown')\n",
    "# перебор названий столбцов в цикле и замена пропущенных значений на 'unknown'"
   ]
  },
  {
   "cell_type": "markdown",
   "metadata": {
    "id": "Ilsm-MZo_Zct"
   },
   "source": [
    "Убедитесь, что в таблице не осталось пропусков. Для этого ещё раз посчитайте пропущенные значения."
   ]
  },
  {
   "cell_type": "code",
   "execution_count": 10,
   "metadata": {
    "id": "Tq4nYRX4_Zct"
   },
   "outputs": [
    {
     "name": "stdout",
     "output_type": "stream",
     "text": [
      "user_id    0\n",
      "track      0\n",
      "artist     0\n",
      "genre      0\n",
      "city       0\n",
      "time       0\n",
      "day        0\n",
      "dtype: int64\n"
     ]
    }
   ],
   "source": [
    "print(df.isna().sum())"
   ]
  },
  {
   "cell_type": "markdown",
   "metadata": {
    "id": "BWKRtBJ3_Zct"
   },
   "source": [
    "### Дубликаты\n",
    "Посчитайте явные дубликаты в таблице одной командой:"
   ]
  },
  {
   "cell_type": "code",
   "execution_count": 11,
   "metadata": {
    "id": "36eES_S0_Zct"
   },
   "outputs": [
    {
     "data": {
      "text/plain": [
       "3826"
      ]
     },
     "execution_count": 11,
     "metadata": {},
     "output_type": "execute_result"
    }
   ],
   "source": [
    "df.duplicated().sum()"
   ]
  },
  {
   "cell_type": "markdown",
   "metadata": {
    "id": "Ot25h6XR_Zct"
   },
   "source": [
    "Вызовите специальный метод `pandas`, чтобы удалить явные дубликаты:"
   ]
  },
  {
   "cell_type": "code",
   "execution_count": 12,
   "metadata": {
    "id": "exFHq6tt_Zct"
   },
   "outputs": [],
   "source": [
    "df = df.drop_duplicates().reset_index(drop=True)"
   ]
  },
  {
   "cell_type": "markdown",
   "metadata": {
    "id": "Im2YwBEG_Zct"
   },
   "source": [
    "Ещё раз посчитайте явные дубликаты в таблице — убедитесь, что полностью от них избавились:"
   ]
  },
  {
   "cell_type": "code",
   "execution_count": 13,
   "metadata": {
    "id": "-8PuNWQ0_Zct"
   },
   "outputs": [
    {
     "data": {
      "text/plain": [
       "0"
      ]
     },
     "execution_count": 13,
     "metadata": {},
     "output_type": "execute_result"
    }
   ],
   "source": [
    "df.duplicated().sum()"
   ]
  },
  {
   "cell_type": "markdown",
   "metadata": {
    "id": "QlFBsxAr_Zct"
   },
   "source": [
    "Теперь избавьтесь от неявных дубликатов в колонке `genre`. Например, название одного и того же жанра может быть записано немного по-разному. Такие ошибки тоже повлияют на результат исследования."
   ]
  },
  {
   "cell_type": "markdown",
   "metadata": {
    "id": "eSjWwsOh_Zct"
   },
   "source": [
    "Выведите на экран список уникальных названий жанров, отсортированный в алфавитном порядке. Для этого:\n",
    "* извлеките нужный столбец датафрейма, \n",
    "* примените к нему метод сортировки,\n",
    "* для отсортированного столбца вызовите метод, который вернёт уникальные значения из столбца."
   ]
  },
  {
   "cell_type": "code",
   "execution_count": 14,
   "metadata": {
    "id": "JIUcqzZN_Zct"
   },
   "outputs": [
    {
     "name": "stdout",
     "output_type": "stream",
     "text": [
      "['acid' 'acoustic' 'action' 'adult' 'africa' 'afrikaans' 'alternative'\n",
      " 'alternativepunk' 'ambient' 'americana' 'animated' 'anime' 'arabesk'\n",
      " 'arabic' 'arena' 'argentinetango' 'art' 'audiobook' 'author' 'avantgarde'\n",
      " 'axé' 'baile' 'balkan' 'beats' 'bigroom' 'black' 'bluegrass' 'blues'\n",
      " 'bollywood' 'bossa' 'brazilian' 'breakbeat' 'breaks' 'broadway'\n",
      " 'cantautori' 'cantopop' 'canzone' 'caribbean' 'caucasian' 'celtic'\n",
      " 'chamber' 'chanson' 'children' 'chill' 'chinese' 'choral' 'christian'\n",
      " 'christmas' 'classical' 'classicmetal' 'club' 'colombian' 'comedy'\n",
      " 'conjazz' 'contemporary' 'country' 'cuban' 'dance' 'dancehall' 'dancepop'\n",
      " 'dark' 'death' 'deep' 'deutschrock' 'deutschspr' 'dirty' 'disco' 'dnb'\n",
      " 'documentary' 'downbeat' 'downtempo' 'drum' 'dub' 'dubstep' 'eastern'\n",
      " 'easy' 'electronic' 'electropop' 'emo' 'entehno' 'epicmetal' 'estrada'\n",
      " 'ethnic' 'eurofolk' 'european' 'experimental' 'extrememetal' 'fado'\n",
      " 'fairytail' 'film' 'fitness' 'flamenco' 'folk' 'folklore' 'folkmetal'\n",
      " 'folkrock' 'folktronica' 'forró' 'frankreich' 'französisch' 'french'\n",
      " 'funk' 'future' 'gangsta' 'garage' 'german' 'ghazal' 'gitarre' 'glitch'\n",
      " 'gospel' 'gothic' 'grime' 'grunge' 'gypsy' 'handsup' \"hard'n'heavy\"\n",
      " 'hardcore' 'hardstyle' 'hardtechno' 'hip' 'hip-hop' 'hiphop' 'historisch'\n",
      " 'holiday' 'hop' 'horror' 'house' 'hymn' 'idm' 'independent' 'indian'\n",
      " 'indie' 'indipop' 'industrial' 'inspirational' 'instrumental'\n",
      " 'international' 'irish' 'jam' 'japanese' 'jazz' 'jewish' 'jpop' 'jungle'\n",
      " 'k-pop' 'karadeniz' 'karaoke' 'kayokyoku' 'korean' 'laiko' 'latin'\n",
      " 'latino' 'leftfield' 'local' 'lounge' 'loungeelectronic' 'lovers'\n",
      " 'malaysian' 'mandopop' 'marschmusik' 'meditative' 'mediterranean'\n",
      " 'melodic' 'metal' 'metalcore' 'mexican' 'middle' 'minimal'\n",
      " 'miscellaneous' 'modern' 'mood' 'mpb' 'muslim' 'native' 'neoklassik'\n",
      " 'neue' 'new' 'newage' 'newwave' 'nu' 'nujazz' 'numetal' 'oceania' 'old'\n",
      " 'opera' 'orchestral' 'other' 'piano' 'podcasts' 'pop' 'popdance'\n",
      " 'popelectronic' 'popeurodance' 'poprussian' 'post' 'posthardcore'\n",
      " 'postrock' 'power' 'progmetal' 'progressive' 'psychedelic' 'punjabi'\n",
      " 'punk' 'quebecois' 'ragga' 'ram' 'rancheras' 'rap' 'rave' 'reggae'\n",
      " 'reggaeton' 'regional' 'relax' 'religious' 'retro' 'rhythm' 'rnb' 'rnr'\n",
      " 'rock' 'rockabilly' 'rockalternative' 'rockindie' 'rockother' 'romance'\n",
      " 'roots' 'ruspop' 'rusrap' 'rusrock' 'russian' 'salsa' 'samba' 'scenic'\n",
      " 'schlager' 'self' 'sertanejo' 'shanson' 'shoegazing' 'showtunes' 'singer'\n",
      " 'ska' 'skarock' 'slow' 'smooth' 'soft' 'soul' 'soulful' 'sound'\n",
      " 'soundtrack' 'southern' 'specialty' 'speech' 'spiritual' 'sport'\n",
      " 'stonerrock' 'surf' 'swing' 'synthpop' 'synthrock' 'sängerportrait'\n",
      " 'tango' 'tanzorchester' 'taraftar' 'tatar' 'tech' 'techno' 'teen'\n",
      " 'thrash' 'top' 'traditional' 'tradjazz' 'trance' 'tribal' 'trip'\n",
      " 'triphop' 'tropical' 'türk' 'türkçe' 'ukrrock' 'unknown' 'urban' 'uzbek'\n",
      " 'variété' 'vi' 'videogame' 'vocal' 'western' 'world' 'worldbeat' 'ïîï'\n",
      " 'электроника']\n"
     ]
    }
   ],
   "source": [
    "print(df['genre'].sort_values().unique())"
   ]
  },
  {
   "cell_type": "markdown",
   "metadata": {
    "id": "qej-Qmuo_Zct"
   },
   "source": [
    "Просмотрите список и найдите неявные дубликаты названия `hiphop`. Это могут быть названия с ошибками или альтернативные названия того же жанра.\n",
    "\n",
    "Вы увидите следующие неявные дубликаты:\n",
    "* *hip*,\n",
    "* *hop*,\n",
    "* *hip-hop*.\n",
    "\n",
    "Чтобы очистить от них таблицу, напишите функцию `replace_wrong_genres()` с двумя параметрами: \n",
    "* `wrong_genres` — список дубликатов,\n",
    "* `correct_genre` — строка с правильным значением.\n",
    "\n",
    "Функция должна исправить колонку `genre` в таблице `df`: заменить каждое значение из списка `wrong_genres` на значение из `correct_genre`."
   ]
  },
  {
   "cell_type": "code",
   "execution_count": 15,
   "metadata": {
    "id": "ErNDkmns_Zct"
   },
   "outputs": [],
   "source": [
    "def replace_wrong_genres(wrong_genres, correct_genre):\n",
    "    for wrong_genre in wrong_genres:\n",
    "        df['genre'] = df['genre'].replace(wrong_genre, correct_genre)\n",
    "    "
   ]
  },
  {
   "cell_type": "markdown",
   "metadata": {
    "id": "aDoBJxbA_Zct"
   },
   "source": [
    "Вызовите `replace_wrong_genres()` и передайте ей такие аргументы, чтобы она устранила неявные дубликаты: вместо `hip`, `hop` и `hip-hop` в таблице должно быть значение `hiphop`:"
   ]
  },
  {
   "cell_type": "code",
   "execution_count": 16,
   "metadata": {
    "id": "YN5i2hpmSo09"
   },
   "outputs": [],
   "source": [
    "replace_wrong_genres(['hip', 'hop', 'hip-hop'], 'hiphop')"
   ]
  },
  {
   "cell_type": "markdown",
   "metadata": {
    "id": "zQKF16_RG15m"
   },
   "source": [
    "Проверьте, что заменили неправильные названия:\n",
    "\n",
    "*   hip\n",
    "*   hop\n",
    "*   hip-hop\n",
    "\n",
    "Выведите отсортированный список уникальных значений столбца `genre`:"
   ]
  },
  {
   "cell_type": "code",
   "execution_count": 17,
   "metadata": {
    "id": "wvixALnFG15m"
   },
   "outputs": [
    {
     "name": "stdout",
     "output_type": "stream",
     "text": [
      "['acid', 'acoustic', 'action', 'adult', 'africa', 'afrikaans', 'alternative', 'alternativepunk', 'ambient', 'americana', 'animated', 'anime', 'arabesk', 'arabic', 'arena', 'argentinetango', 'art', 'audiobook', 'author', 'avantgarde', 'axé', 'baile', 'balkan', 'beats', 'bigroom', 'black', 'bluegrass', 'blues', 'bollywood', 'bossa', 'brazilian', 'breakbeat', 'breaks', 'broadway', 'cantautori', 'cantopop', 'canzone', 'caribbean', 'caucasian', 'celtic', 'chamber', 'chanson', 'children', 'chill', 'chinese', 'choral', 'christian', 'christmas', 'classical', 'classicmetal', 'club', 'colombian', 'comedy', 'conjazz', 'contemporary', 'country', 'cuban', 'dance', 'dancehall', 'dancepop', 'dark', 'death', 'deep', 'deutschrock', 'deutschspr', 'dirty', 'disco', 'dnb', 'documentary', 'downbeat', 'downtempo', 'drum', 'dub', 'dubstep', 'eastern', 'easy', 'electronic', 'electropop', 'emo', 'entehno', 'epicmetal', 'estrada', 'ethnic', 'eurofolk', 'european', 'experimental', 'extrememetal', 'fado', 'fairytail', 'film', 'fitness', 'flamenco', 'folk', 'folklore', 'folkmetal', 'folkrock', 'folktronica', 'forró', 'frankreich', 'französisch', 'french', 'funk', 'future', 'gangsta', 'garage', 'german', 'ghazal', 'gitarre', 'glitch', 'gospel', 'gothic', 'grime', 'grunge', 'gypsy', 'handsup', \"hard'n'heavy\", 'hardcore', 'hardstyle', 'hardtechno', 'hiphop', 'historisch', 'holiday', 'horror', 'house', 'hymn', 'idm', 'independent', 'indian', 'indie', 'indipop', 'industrial', 'inspirational', 'instrumental', 'international', 'irish', 'jam', 'japanese', 'jazz', 'jewish', 'jpop', 'jungle', 'k-pop', 'karadeniz', 'karaoke', 'kayokyoku', 'korean', 'laiko', 'latin', 'latino', 'leftfield', 'local', 'lounge', 'loungeelectronic', 'lovers', 'malaysian', 'mandopop', 'marschmusik', 'meditative', 'mediterranean', 'melodic', 'metal', 'metalcore', 'mexican', 'middle', 'minimal', 'miscellaneous', 'modern', 'mood', 'mpb', 'muslim', 'native', 'neoklassik', 'neue', 'new', 'newage', 'newwave', 'nu', 'nujazz', 'numetal', 'oceania', 'old', 'opera', 'orchestral', 'other', 'piano', 'podcasts', 'pop', 'popdance', 'popelectronic', 'popeurodance', 'poprussian', 'post', 'posthardcore', 'postrock', 'power', 'progmetal', 'progressive', 'psychedelic', 'punjabi', 'punk', 'quebecois', 'ragga', 'ram', 'rancheras', 'rap', 'rave', 'reggae', 'reggaeton', 'regional', 'relax', 'religious', 'retro', 'rhythm', 'rnb', 'rnr', 'rock', 'rockabilly', 'rockalternative', 'rockindie', 'rockother', 'romance', 'roots', 'ruspop', 'rusrap', 'rusrock', 'russian', 'salsa', 'samba', 'scenic', 'schlager', 'self', 'sertanejo', 'shanson', 'shoegazing', 'showtunes', 'singer', 'ska', 'skarock', 'slow', 'smooth', 'soft', 'soul', 'soulful', 'sound', 'soundtrack', 'southern', 'specialty', 'speech', 'spiritual', 'sport', 'stonerrock', 'surf', 'swing', 'synthpop', 'synthrock', 'sängerportrait', 'tango', 'tanzorchester', 'taraftar', 'tatar', 'tech', 'techno', 'teen', 'thrash', 'top', 'traditional', 'tradjazz', 'trance', 'tribal', 'trip', 'triphop', 'tropical', 'türk', 'türkçe', 'ukrrock', 'unknown', 'urban', 'uzbek', 'variété', 'vi', 'videogame', 'vocal', 'western', 'world', 'worldbeat', 'ïîï', 'электроника']\n"
     ]
    }
   ],
   "source": [
    "print(sorted(df['genre'].unique()))"
   ]
  },
  {
   "cell_type": "markdown",
   "metadata": {
    "id": "jz6a9-7HQUDd"
   },
   "source": [
    "**Выводы**\n",
    "\n",
    "Предобработка обнаружила три проблемы в данных:\n",
    "\n",
    "- нарушения в стиле заголовков,\n",
    "- пропущенные значения,\n",
    "- дубликаты — явные и неявные.\n",
    "\n",
    "Вы исправили заголовки, чтобы упростить работу с таблицей. Без дубликатов исследование станет более точным.\n",
    "\n",
    "Пропущенные значения вы заменили на `'unknown'`. Ещё предстоит увидеть, не повредят ли исследованию пропуски в колонке `genre`.\n",
    "\n",
    "Теперь можно перейти к проверке гипотез. "
   ]
  },
  {
   "cell_type": "markdown",
   "metadata": {
    "id": "WttZHXH0SqKk"
   },
   "source": [
    "## Проверка гипотез"
   ]
  },
  {
   "cell_type": "markdown",
   "metadata": {
    "id": "Im936VVi_Zcu"
   },
   "source": [
    "### Сравнение поведения пользователей двух столиц"
   ]
  },
  {
   "cell_type": "markdown",
   "metadata": {
    "id": "nwt_MuaL_Zcu"
   },
   "source": [
    "Первая гипотеза утверждает, что пользователи по-разному слушают музыку в Москве и Санкт-Петербурге. Проверьте это предположение по данным о трёх днях недели — понедельнике, среде и пятнице. Для этого:\n",
    "\n",
    "* Разделите пользователей Москвы и Санкт-Петербурга\n",
    "* Сравните, сколько треков послушала каждая группа пользователей в понедельник, среду и пятницу.\n"
   ]
  },
  {
   "cell_type": "markdown",
   "metadata": {
    "id": "8Dw_YMmT_Zcu"
   },
   "source": [
    "Для тренировки сначала выполните каждый из расчётов по отдельности. \n",
    "\n",
    "Оцените активность пользователей в каждом городе. Сгруппируйте данные по городу и посчитайте прослушивания в каждой группе.\n",
    "\n"
   ]
  },
  {
   "cell_type": "code",
   "execution_count": 18,
   "metadata": {
    "id": "0_Qs96oh_Zcu"
   },
   "outputs": [
    {
     "data": {
      "text/plain": [
       "city\n",
       "Moscow              42741\n",
       "Saint-Petersburg    18512\n",
       "Name: time, dtype: int64"
      ]
     },
     "execution_count": 18,
     "metadata": {},
     "output_type": "execute_result"
    }
   ],
   "source": [
    "df.groupby('city')['time'].count()"
   ]
  },
  {
   "cell_type": "markdown",
   "metadata": {
    "id": "dzli3w8o_Zcu"
   },
   "source": [
    "В Москве прослушиваний больше, чем в Петербурге. Из этого не следует, что московские пользователи чаще слушают музыку. Просто самих пользователей в Москве больше.\n",
    "\n",
    "Теперь сгруппируйте данные по дню недели и подсчитайте прослушивания в понедельник, среду и пятницу. Учтите, что в данных есть информация только о прослушиваниях только за эти дни.\n"
   ]
  },
  {
   "cell_type": "code",
   "execution_count": 19,
   "metadata": {
    "id": "uZMKjiJz_Zcu"
   },
   "outputs": [
    {
     "data": {
      "text/plain": [
       "day\n",
       "Friday       21840\n",
       "Monday       21354\n",
       "Wednesday    18059\n",
       "Name: time, dtype: int64"
      ]
     },
     "execution_count": 19,
     "metadata": {},
     "output_type": "execute_result"
    }
   ],
   "source": [
    "df.groupby('day')['time'].count()"
   ]
  },
  {
   "cell_type": "markdown",
   "metadata": {
    "id": "cC2tNrlL_Zcu"
   },
   "source": [
    "В среднем пользователи из двух городов менее активны по средам. Но картина может измениться, если рассмотреть каждый город в отдельности."
   ]
  },
  {
   "cell_type": "markdown",
   "metadata": {
    "id": "POzs8bGa_Zcu"
   },
   "source": [
    "Вы видели, как работает группировка по городу и по дням недели. Теперь напишите функцию, которая объединит два эти расчёта.\n",
    "\n",
    "Создайте функцию `number_tracks()`, которая посчитает прослушивания для заданного дня и города. Ей понадобятся два параметра:\n",
    "* день недели,\n",
    "* название города.\n",
    "\n",
    "В функции сохраните в переменную строки исходной таблицы, у которых значение:\n",
    "  * в колонке `day` равно параметру `day`,\n",
    "  * в колонке `city` равно параметру `city`.\n",
    "\n",
    "Для этого примените последовательную фильтрацию с логической индексацией.\n",
    "\n",
    "Затем посчитайте значения в столбце `user_id` получившейся таблицы. Результат сохраните в новую переменную. Верните эту переменную из функции."
   ]
  },
  {
   "cell_type": "code",
   "execution_count": 20,
   "metadata": {
    "id": "Nz3GdQB1_Zcu"
   },
   "outputs": [],
   "source": [
    "def number_tracks(day, city):\n",
    "    track_list = df[df['day'] == day]\n",
    "    track_list = track_list[track_list['city'] == city]\n",
    "    track_list_count = track_list['user_id'].count()\n",
    "    return track_list_count\n",
    "\n",
    "# <создание функции number_tracks()>\n",
    "# Объявляется функция с двумя параметрами: day, city.\n",
    "# В переменной track_list сохраняются те строки таблицы df, для которых \n",
    "# значение в столбце 'day' равно параметру day и одновременно значение\n",
    "# в столбце 'city' равно параметру city (используйте последовательную фильтрацию\n",
    "# с помощью логической индексации).\n",
    "# В переменной track_list_count сохраняется число значений столбца 'user_id',\n",
    "# рассчитанное методом count() для таблицы track_list.\n",
    "# Функция возвращает число - значение track_list_count.\n",
    "\n",
    "# Функция для подсчёта прослушиваний для конкретного города и дня.\n",
    "# С помощью последовательной фильтрации с логической индексацией она \n",
    "# сначала получит из исходной таблицы строки с нужным днём,\n",
    "# затем из результата отфильтрует строки с нужным городом,\n",
    "# методом count() посчитает количество значений в колонке user_id. \n",
    "# Это количество функция вернёт в качестве результата"
   ]
  },
  {
   "cell_type": "markdown",
   "metadata": {
    "id": "ytf7xFrFJQ2r"
   },
   "source": [
    "Вызовите `number_tracks()` шесть раз, меняя значение параметров — так, чтобы получить данные для каждого города в каждый из трёх дней."
   ]
  },
  {
   "cell_type": "code",
   "execution_count": 21,
   "metadata": {
    "id": "rJcRATNQ_Zcu"
   },
   "outputs": [
    {
     "data": {
      "text/plain": [
       "15740"
      ]
     },
     "execution_count": 21,
     "metadata": {},
     "output_type": "execute_result"
    }
   ],
   "source": [
    "number_tracks('Monday', 'Moscow')\n",
    "# количество прослушиваний в Москве по понедельникам"
   ]
  },
  {
   "cell_type": "code",
   "execution_count": 22,
   "metadata": {
    "id": "hq_ncZ5T_Zcu"
   },
   "outputs": [
    {
     "data": {
      "text/plain": [
       "5614"
      ]
     },
     "execution_count": 22,
     "metadata": {},
     "output_type": "execute_result"
    }
   ],
   "source": [
    "number_tracks('Monday', 'Saint-Petersburg')"
   ]
  },
  {
   "cell_type": "code",
   "execution_count": 23,
   "metadata": {
    "id": "_NTy2VPU_Zcu"
   },
   "outputs": [
    {
     "data": {
      "text/plain": [
       "11056"
      ]
     },
     "execution_count": 23,
     "metadata": {},
     "output_type": "execute_result"
    }
   ],
   "source": [
    "number_tracks('Wednesday', 'Moscow')"
   ]
  },
  {
   "cell_type": "code",
   "execution_count": 24,
   "metadata": {
    "id": "j2y3TAwo_Zcu"
   },
   "outputs": [
    {
     "data": {
      "text/plain": [
       "7003"
      ]
     },
     "execution_count": 24,
     "metadata": {},
     "output_type": "execute_result"
    }
   ],
   "source": [
    "number_tracks('Wednesday', 'Saint-Petersburg')"
   ]
  },
  {
   "cell_type": "code",
   "execution_count": 25,
   "metadata": {
    "id": "vYDw5u_K_Zcu"
   },
   "outputs": [
    {
     "data": {
      "text/plain": [
       "15945"
      ]
     },
     "execution_count": 25,
     "metadata": {},
     "output_type": "execute_result"
    }
   ],
   "source": [
    "number_tracks('Friday', 'Moscow')"
   ]
  },
  {
   "cell_type": "code",
   "execution_count": 26,
   "metadata": {
    "id": "8_yzFtW3_Zcu"
   },
   "outputs": [
    {
     "data": {
      "text/plain": [
       "5895"
      ]
     },
     "execution_count": 26,
     "metadata": {},
     "output_type": "execute_result"
    }
   ],
   "source": [
    "number_tracks('Friday', 'Saint-Petersburg')"
   ]
  },
  {
   "cell_type": "markdown",
   "metadata": {
    "id": "7QXffbO-_Zcu"
   },
   "source": [
    "Создайте c помощью конструктора `pd.DataFrame` таблицу, где\n",
    "* названия колонок — `['city', 'monday', 'wednesday', 'friday']`;\n",
    "* данные — результаты, которые вы получили с помощью `number_tracks`."
   ]
  },
  {
   "cell_type": "code",
   "execution_count": 27,
   "metadata": {
    "id": "APAcLpOr_Zcu"
   },
   "outputs": [
    {
     "data": {
      "text/html": [
       "<div>\n",
       "<style scoped>\n",
       "    .dataframe tbody tr th:only-of-type {\n",
       "        vertical-align: middle;\n",
       "    }\n",
       "\n",
       "    .dataframe tbody tr th {\n",
       "        vertical-align: top;\n",
       "    }\n",
       "\n",
       "    .dataframe thead th {\n",
       "        text-align: right;\n",
       "    }\n",
       "</style>\n",
       "<table border=\"1\" class=\"dataframe\">\n",
       "  <thead>\n",
       "    <tr style=\"text-align: right;\">\n",
       "      <th></th>\n",
       "      <th>city</th>\n",
       "      <th>monday</th>\n",
       "      <th>wednesday</th>\n",
       "      <th>friday</th>\n",
       "    </tr>\n",
       "  </thead>\n",
       "  <tbody>\n",
       "    <tr>\n",
       "      <th>0</th>\n",
       "      <td>Москва</td>\n",
       "      <td>15740</td>\n",
       "      <td>11056</td>\n",
       "      <td>15945</td>\n",
       "    </tr>\n",
       "    <tr>\n",
       "      <th>1</th>\n",
       "      <td>Saint-Petersburg</td>\n",
       "      <td>5614</td>\n",
       "      <td>7003</td>\n",
       "      <td>5895</td>\n",
       "    </tr>\n",
       "  </tbody>\n",
       "</table>\n",
       "</div>"
      ],
      "text/plain": [
       "               city  monday  wednesday  friday\n",
       "0            Москва   15740      11056   15945\n",
       "1  Saint-Petersburg    5614       7003    5895"
      ]
     },
     "metadata": {},
     "output_type": "display_data"
    }
   ],
   "source": [
    "data = [['Москва', 15740, 11056, 15945], ['Saint-Petersburg', 5614, 7003, 5895]]\n",
    "columns = ['city', 'monday', 'wednesday', 'friday']\n",
    "music_result = pd.DataFrame(data=data, columns=columns)\n",
    "display(music_result)"
   ]
  },
  {
   "cell_type": "markdown",
   "metadata": {
    "id": "-EgPIHYu_Zcu"
   },
   "source": [
    "**Выводы**\n",
    "\n",
    "Данные показывают разницу поведения пользователей:\n",
    "\n",
    "- В Москве пик прослушиваний приходится на понедельник и пятницу, а в среду заметен спад.\n",
    "- В Петербурге, наоборот, больше слушают музыку по средам. Активность в понедельник и пятницу здесь почти в равной мере уступает среде.\n",
    "\n",
    "Значит, данные говорят в пользу первой гипотезы."
   ]
  },
  {
   "cell_type": "markdown",
   "metadata": {
    "id": "atZAxtq4_Zcu"
   },
   "source": [
    "### Музыка в начале и в конце недели"
   ]
  },
  {
   "cell_type": "markdown",
   "metadata": {
    "id": "eXrQqXFH_Zcu"
   },
   "source": [
    "Согласно второй гипотезе, утром в понедельник в Москве преобладают одни жанры, а в Петербурге — другие. Так же и вечером пятницы преобладают разные жанры — в зависимости от города."
   ]
  },
  {
   "cell_type": "markdown",
   "metadata": {
    "id": "S8UcW6Hw_Zcu"
   },
   "source": [
    "Сохраните таблицы с данными в две переменные:\n",
    "* по Москве — в `moscow_general`;\n",
    "* по Санкт-Петербургу — в `spb_general`."
   ]
  },
  {
   "cell_type": "code",
   "execution_count": 28,
   "metadata": {
    "id": "qeaFfM_P_Zcu"
   },
   "outputs": [],
   "source": [
    "moscow_general = df[df['city'] == 'Moscow']\n",
    "# получение таблицы moscow_general из тех строк таблицы df, \n",
    "# для которых значение в столбце 'city' равно 'Moscow'\n"
   ]
  },
  {
   "cell_type": "code",
   "execution_count": 29,
   "metadata": {
    "id": "ORaVRKto_Zcu"
   },
   "outputs": [],
   "source": [
    "spb_general = df[df['city'] == 'Saint-Petersburg']\n",
    "# получение таблицы spb_general из тех строк таблицы df,\n",
    "# для которых значение в столбце 'city' равно 'Saint-Petersburg'\n"
   ]
  },
  {
   "cell_type": "markdown",
   "metadata": {
    "id": "MEJV-CX2_Zcu"
   },
   "source": [
    "Создайте функцию `genre_weekday()` с четырьмя параметрами:\n",
    "* таблица (датафрейм) с данными,\n",
    "* день недели,\n",
    "* начальная временная метка в формате 'hh:mm', \n",
    "* последняя временная метка в формате 'hh:mm'.\n",
    "\n",
    "Функция должна вернуть информацию о топ-10 жанров тех треков, которые прослушивали в указанный день, в промежутке между двумя отметками времени."
   ]
  },
  {
   "cell_type": "code",
   "execution_count": 30,
   "metadata": {
    "id": "laJT9BYl_Zcu"
   },
   "outputs": [],
   "source": [
    "def genre_weekday(table, day, time1, time2):\n",
    "    genre_df = table[table['day'] == day]\n",
    "    genre_df = genre_df[genre_df['time'] > time1] \n",
    "    genre_df = genre_df[genre_df['time'] < time2]\n",
    "                     \n",
    "    genre_df_count = genre_df.groupby('genre')['genre'].count()\n",
    "    genre_df_sorted = genre_df_count.sort_values(ascending=False)  \n",
    "                     \n",
    "    return genre_df_sorted.head(10)\n",
    "# Объявление функции genre_weekday() с параметрами table, day, time1, time2,\n",
    "# которая возвращает информацию о самых популярных жанрах в указанный день в\n",
    "# заданное время:\n",
    "# 1) в переменную genre_df сохраняются те строки переданного датафрейма table, для\n",
    "#    которых одновременно:\n",
    "#    - значение в столбце day равно значению аргумента day\n",
    "#    - значение в столбце time больше значения аргумента time1\n",
    "#    - значение в столбце time меньше значения аргумента time2\n",
    "#    Используйте последовательную фильтрацию с помощью логической индексации.\n",
    "# 2) сгруппировать датафрейм genre_df по столбцу genre, взять один из его\n",
    "#    столбцов и посчитать методом count() количество записей для каждого из\n",
    "#    присутствующих жанров, получившийся Series записать в переменную\n",
    "#    genre_df_count\n",
    "# 3) отсортировать genre_df_count по убыванию встречаемости и сохранить\n",
    "#    в переменную genre_df_sorted\n",
    "# 4) вернуть Series из 10 первых значений genre_df_sorted, это будут топ-10\n",
    "#    популярных жанров (в указанный день, в заданное время)"
   ]
  },
  {
   "cell_type": "markdown",
   "metadata": {
    "id": "la2s2_PF_Zcu"
   },
   "source": [
    "Cравните результаты функции `genre_weekday()` для Москвы и Санкт-Петербурга в понедельник утром (с 7:00 до 11:00) и в пятницу вечером (с 17:00 до 23:00):"
   ]
  },
  {
   "cell_type": "code",
   "execution_count": 31,
   "metadata": {
    "id": "yz7itPUQ_Zcu"
   },
   "outputs": [
    {
     "data": {
      "text/plain": [
       "genre\n",
       "pop            781\n",
       "dance          549\n",
       "electronic     480\n",
       "rock           474\n",
       "hiphop         286\n",
       "ruspop         186\n",
       "world          181\n",
       "rusrap         175\n",
       "alternative    164\n",
       "unknown        161\n",
       "Name: genre, dtype: int64"
      ]
     },
     "execution_count": 31,
     "metadata": {},
     "output_type": "execute_result"
    }
   ],
   "source": [
    "genre_weekday(moscow_general, 'Monday', '07:00', '11:00')\n",
    "# вызов функции для утра понедельника в Москве (вместо df — таблица moscow_general)\n",
    "# объекты, хранящие время, являются строками и сравниваются как строки\n",
    "# пример вызова: genre_weekday(moscow_general, 'Monday', '07:00', '11:00')"
   ]
  },
  {
   "cell_type": "code",
   "execution_count": 32,
   "metadata": {
    "id": "kwUcHPdy_Zcu"
   },
   "outputs": [
    {
     "data": {
      "text/plain": [
       "genre\n",
       "pop            218\n",
       "dance          182\n",
       "rock           162\n",
       "electronic     147\n",
       "hiphop          80\n",
       "ruspop          64\n",
       "alternative     58\n",
       "rusrap          55\n",
       "jazz            44\n",
       "classical       40\n",
       "Name: genre, dtype: int64"
      ]
     },
     "execution_count": 32,
     "metadata": {},
     "output_type": "execute_result"
    }
   ],
   "source": [
    "genre_weekday(spb_general, 'Monday', '07:00', '11:00')\n",
    "# вызов функции для утра понедельника в Петербурге (вместо df — таблица spb_general)"
   ]
  },
  {
   "cell_type": "code",
   "execution_count": 33,
   "metadata": {
    "id": "EzXVRE1o_Zcu"
   },
   "outputs": [
    {
     "data": {
      "text/plain": [
       "genre\n",
       "pop            713\n",
       "rock           517\n",
       "dance          495\n",
       "electronic     482\n",
       "hiphop         273\n",
       "world          208\n",
       "ruspop         170\n",
       "alternative    163\n",
       "classical      163\n",
       "rusrap         142\n",
       "Name: genre, dtype: int64"
      ]
     },
     "execution_count": 33,
     "metadata": {},
     "output_type": "execute_result"
    }
   ],
   "source": [
    "genre_weekday(moscow_general, 'Friday', '17:00', '23:00')"
   ]
  },
  {
   "cell_type": "code",
   "execution_count": 34,
   "metadata": {
    "id": "JZaEKu5v_Zcu"
   },
   "outputs": [
    {
     "data": {
      "text/plain": [
       "genre\n",
       "pop            256\n",
       "electronic     216\n",
       "rock           216\n",
       "dance          210\n",
       "hiphop          97\n",
       "alternative     63\n",
       "jazz            61\n",
       "classical       60\n",
       "rusrap          59\n",
       "world           54\n",
       "Name: genre, dtype: int64"
      ]
     },
     "execution_count": 34,
     "metadata": {},
     "output_type": "execute_result"
    }
   ],
   "source": [
    "genre_weekday(spb_general, 'Friday', '17:00', '23:00')"
   ]
  },
  {
   "cell_type": "markdown",
   "metadata": {
    "id": "wrCe4MNX_Zcu"
   },
   "source": [
    "**Выводы**\n",
    "\n",
    "Если сравнить топ-10 жанров в понедельник утром, можно сделать такие выводы:\n",
    "\n",
    "1. В Москве и Петербурге слушают похожую музыку. Единственное отличие — в московский рейтинг вошёл жанр “world”, а в петербургский — джаз и классика.\n",
    "\n",
    "2. В Москве пропущенных значений оказалось так много, что значение `'unknown'` заняло десятое место среди самых популярных жанров. Значит, пропущенные значения занимают существенную долю в данных и угрожают достоверности исследования.\n",
    "\n",
    "Вечер пятницы не меняет эту картину. Некоторые жанры поднимаются немного выше, другие спускаются, но в целом топ-10 остаётся тем же самым.\n",
    "\n",
    "Таким образом, вторая гипотеза подтвердилась лишь частично:\n",
    "* Пользователи слушают похожую музыку в начале недели и в конце.\n",
    "* Разница между Москвой и Петербургом не слишком выражена. В Москве чаще слушают русскую популярную музыку, в Петербурге — джаз.\n",
    "\n",
    "Однако пропуски в данных ставят под сомнение этот результат. В Москве их так много, что рейтинг топ-10 мог бы выглядеть иначе, если бы не утерянные  данные о жанрах."
   ]
  },
  {
   "cell_type": "markdown",
   "metadata": {
    "id": "JolODAqr_Zcu"
   },
   "source": [
    "### Жанровые предпочтения в Москве и Петербурге\n",
    "\n",
    "Гипотеза: Петербург — столица рэпа, музыку этого жанра там слушают чаще, чем в Москве.  А Москва — город контрастов, в котором, тем не менее, преобладает поп-музыка."
   ]
  },
  {
   "cell_type": "markdown",
   "metadata": {
    "id": "DlegSvaT_Zcu"
   },
   "source": [
    "Сгруппируйте таблицу `moscow_general` по жанру и посчитайте прослушивания треков каждого жанра методом `count()`. Затем отсортируйте результат в порядке убывания и сохраните его в таблице `moscow_genres`."
   ]
  },
  {
   "cell_type": "code",
   "execution_count": 35,
   "metadata": {
    "id": "r19lIPke_Zcu"
   },
   "outputs": [],
   "source": [
    "moscow_genres = moscow_general.groupby('genre')['genre'].count().sort_values(ascending=False)\n",
    "# одной строкой: группировка таблицы moscow_general по столбцу 'genre', \n",
    "# подсчёт числа значений 'genre' в этой группировке методом count(), \n",
    "# сортировка получившегося Series в порядке убывания и сохранение в moscow_genres"
   ]
  },
  {
   "cell_type": "markdown",
   "metadata": {
    "id": "6kMuomxTiIr8"
   },
   "source": [
    "Выведите на экран первые десять строк `moscow_genres`:"
   ]
  },
  {
   "cell_type": "code",
   "execution_count": 36,
   "metadata": {
    "id": "WhCSooF8_Zcv"
   },
   "outputs": [
    {
     "data": {
      "text/plain": [
       "genre\n",
       "pop            5892\n",
       "dance          4435\n",
       "rock           3965\n",
       "electronic     3786\n",
       "hiphop         2096\n",
       "classical      1616\n",
       "world          1432\n",
       "alternative    1379\n",
       "ruspop         1372\n",
       "rusrap         1161\n",
       "Name: genre, dtype: int64"
      ]
     },
     "execution_count": 36,
     "metadata": {},
     "output_type": "execute_result"
    }
   ],
   "source": [
    "moscow_genres.head(10)\n",
    "# просмотр первых 10 строк moscow_genres"
   ]
  },
  {
   "cell_type": "markdown",
   "metadata": {
    "id": "cnPG2vnN_Zcv"
   },
   "source": [
    "Теперь повторите то же и для Петербурга.\n",
    "\n",
    "Сгруппируйте таблицу `spb_general` по жанру. Посчитайте прослушивания треков каждого жанра. Результат отсортируйте в порядке убывания и сохраните в таблице `spb_genres`:\n"
   ]
  },
  {
   "cell_type": "code",
   "execution_count": 37,
   "metadata": {
    "id": "gluLIpE7_Zcv"
   },
   "outputs": [],
   "source": [
    "spb_genres = spb_general.groupby('genre')['genre'].count().sort_values(ascending=False)\n",
    "# одной строкой: группировка таблицы spb_general по столбцу 'genre', \n",
    "# подсчёт числа значений 'genre' в этой группировке методом count(), \n",
    "# сортировка получившегося Series в порядке убывания и сохранение в spb_genres"
   ]
  },
  {
   "cell_type": "markdown",
   "metadata": {
    "id": "5Doha_ODgyQ8"
   },
   "source": [
    "Выведите на экран первые десять строк `spb_genres`:"
   ]
  },
  {
   "cell_type": "code",
   "execution_count": 38,
   "metadata": {
    "id": "uaGJHjVU_Zcv"
   },
   "outputs": [
    {
     "data": {
      "text/plain": [
       "genre\n",
       "pop            2431\n",
       "dance          1932\n",
       "rock           1879\n",
       "electronic     1736\n",
       "hiphop          960\n",
       "alternative     649\n",
       "classical       646\n",
       "rusrap          564\n",
       "ruspop          538\n",
       "world           515\n",
       "Name: genre, dtype: int64"
      ]
     },
     "execution_count": 38,
     "metadata": {},
     "output_type": "execute_result"
    }
   ],
   "source": [
    "spb_genres.head(10)"
   ]
  },
  {
   "cell_type": "markdown",
   "metadata": {
    "id": "RY51YJYu_Zcv"
   },
   "source": [
    "**Выводы**"
   ]
  },
  {
   "cell_type": "markdown",
   "metadata": {
    "id": "nVhnJEm__Zcv"
   },
   "source": [
    "Гипотеза частично подтвердилась:\n",
    "* Поп-музыка — самый популярный жанр в Москве, как и предполагала гипотеза. Более того, в топ-10 жанров встречается близкий жанр — русская популярная музыка.\n",
    "* Вопреки ожиданиям, рэп одинаково популярен в Москве и Петербурге. \n"
   ]
  },
  {
   "cell_type": "markdown",
   "metadata": {
    "id": "ykKQ0N65_Zcv"
   },
   "source": [
    "## Итоги исследования"
   ]
  },
  {
   "cell_type": "markdown",
   "metadata": {
    "id": "tjUwbHb3_Zcv"
   },
   "source": [
    "Вы проверили три гипотезы и установили:\n",
    "\n",
    "1. День недели по-разному влияет на активность пользователей в Москве и Петербурге. \n",
    "\n",
    "Первая гипотеза полностью подтвердилась.\n",
    "\n",
    "2. Музыкальные предпочтения не сильно меняются в течение недели — будь то Москва или Петербург. Небольшие различия заметны в начале недели, по понедельникам:\n",
    "* в Москве слушают музыку жанра “world”,\n",
    "* в Петербурге — джаз и классику.\n",
    "\n",
    "Таким образом, вторая гипотеза подтвердилась лишь отчасти. Этот результат мог оказаться иным, если бы не пропуски в данных.\n",
    "\n",
    "3. Во вкусах пользователей Москвы и Петербурга больше общего чем различий. Вопреки ожиданиям, предпочтения жанров в Петербурге напоминают московские.\n",
    "\n",
    "Третья гипотеза не подтвердилась. Если различия в предпочтениях и существуют, на основной массе пользователей они незаметны.\n",
    "\n",
    "**На практике исследования содержат проверки статистических гипотез.**\n",
    "Из данных одного сервиса не всегда можно сделать вывод о всех жителях города.\n",
    "Проверки статистических гипотез покажут, насколько они достоверны, исходя из имеющихся данных. \n",
    "С методами проверок гипотез вы ещё познакомитесь в следующих темах."
   ]
  }
 ],
 "metadata": {
  "ExecuteTimeLog": [
   {
    "duration": 391,
    "start_time": "2021-12-20T19:43:56.510Z"
   },
   {
    "duration": 236,
    "start_time": "2021-12-20T19:46:00.956Z"
   },
   {
    "duration": 3,
    "start_time": "2021-12-20T19:46:51.650Z"
   },
   {
    "duration": 472,
    "start_time": "2021-12-20T19:46:51.657Z"
   },
   {
    "duration": 27,
    "start_time": "2021-12-20T19:46:52.132Z"
   },
   {
    "duration": 232,
    "start_time": "2021-12-20T19:46:52.167Z"
   },
   {
    "duration": 255,
    "start_time": "2021-12-20T19:46:52.401Z"
   },
   {
    "duration": 203,
    "start_time": "2021-12-20T19:46:52.659Z"
   },
   {
    "duration": 257,
    "start_time": "2021-12-20T19:46:52.867Z"
   },
   {
    "duration": 240,
    "start_time": "2021-12-20T19:46:53.128Z"
   },
   {
    "duration": 220,
    "start_time": "2021-12-20T19:46:53.371Z"
   },
   {
    "duration": 202,
    "start_time": "2021-12-20T19:46:53.594Z"
   },
   {
    "duration": 246,
    "start_time": "2021-12-20T19:46:53.799Z"
   },
   {
    "duration": 412,
    "start_time": "2021-12-20T19:46:54.047Z"
   },
   {
    "duration": 243,
    "start_time": "2021-12-20T19:46:54.462Z"
   },
   {
    "duration": 223,
    "start_time": "2021-12-20T19:46:54.708Z"
   },
   {
    "duration": 235,
    "start_time": "2021-12-20T19:46:54.935Z"
   },
   {
    "duration": 234,
    "start_time": "2021-12-20T19:46:55.174Z"
   },
   {
    "duration": 229,
    "start_time": "2021-12-20T19:46:55.411Z"
   },
   {
    "duration": 207,
    "start_time": "2021-12-20T19:46:55.643Z"
   },
   {
    "duration": 225,
    "start_time": "2021-12-20T19:46:55.855Z"
   },
   {
    "duration": 261,
    "start_time": "2021-12-20T19:46:56.084Z"
   },
   {
    "duration": 322,
    "start_time": "2021-12-20T19:46:56.348Z"
   },
   {
    "duration": 254,
    "start_time": "2021-12-20T19:46:56.678Z"
   },
   {
    "duration": 216,
    "start_time": "2021-12-20T19:46:56.935Z"
   },
   {
    "duration": 260,
    "start_time": "2021-12-20T19:46:57.154Z"
   },
   {
    "duration": 247,
    "start_time": "2021-12-20T19:46:57.416Z"
   },
   {
    "duration": 323,
    "start_time": "2021-12-20T19:46:57.666Z"
   },
   {
    "duration": 267,
    "start_time": "2021-12-20T19:46:57.992Z"
   },
   {
    "duration": 233,
    "start_time": "2021-12-20T19:46:58.261Z"
   },
   {
    "duration": 250,
    "start_time": "2021-12-20T19:46:58.499Z"
   },
   {
    "duration": 256,
    "start_time": "2021-12-20T19:46:58.752Z"
   },
   {
    "duration": 312,
    "start_time": "2021-12-20T19:46:59.010Z"
   },
   {
    "duration": 1594,
    "start_time": "2021-12-20T19:46:59.324Z"
   },
   {
    "duration": 1686,
    "start_time": "2021-12-20T19:47:00.921Z"
   },
   {
    "duration": 997,
    "start_time": "2021-12-20T19:47:02.610Z"
   },
   {
    "duration": 295,
    "start_time": "2021-12-20T19:47:03.609Z"
   },
   {
    "duration": 235,
    "start_time": "2021-12-20T19:47:03.907Z"
   },
   {
    "duration": 246,
    "start_time": "2021-12-20T19:47:04.145Z"
   },
   {
    "duration": 197,
    "start_time": "2021-12-20T19:47:04.393Z"
   },
   {
    "duration": 32,
    "start_time": "2021-12-20T19:47:17.375Z"
   },
   {
    "duration": 364,
    "start_time": "2021-12-21T04:54:01.776Z"
   },
   {
    "duration": 320,
    "start_time": "2021-12-21T04:54:36.783Z"
   },
   {
    "duration": 682,
    "start_time": "2021-12-21T04:54:46.262Z"
   },
   {
    "duration": 169,
    "start_time": "2021-12-21T04:54:47.622Z"
   },
   {
    "duration": 24,
    "start_time": "2021-12-21T04:54:49.807Z"
   },
   {
    "duration": 33,
    "start_time": "2021-12-21T04:54:51.631Z"
   },
   {
    "duration": 6,
    "start_time": "2021-12-21T04:54:53.871Z"
   },
   {
    "duration": 4,
    "start_time": "2021-12-21T04:55:54.207Z"
   },
   {
    "duration": 172,
    "start_time": "2021-12-21T04:55:55.231Z"
   },
   {
    "duration": 16,
    "start_time": "2021-12-21T04:55:56.319Z"
   },
   {
    "duration": 33,
    "start_time": "2021-12-21T04:55:57.999Z"
   },
   {
    "duration": 6,
    "start_time": "2021-12-21T04:56:00.151Z"
   },
   {
    "duration": 103,
    "start_time": "2021-12-21T04:57:24.727Z"
   },
   {
    "duration": 27,
    "start_time": "2021-12-21T04:57:30.007Z"
   },
   {
    "duration": 23,
    "start_time": "2021-12-21T04:57:31.135Z"
   },
   {
    "duration": 5,
    "start_time": "2021-12-21T04:57:32.535Z"
   },
   {
    "duration": 3,
    "start_time": "2021-12-21T05:00:41.289Z"
   },
   {
    "duration": 210,
    "start_time": "2021-12-21T05:00:41.295Z"
   },
   {
    "duration": 21,
    "start_time": "2021-12-21T05:00:41.509Z"
   },
   {
    "duration": 39,
    "start_time": "2021-12-21T05:00:41.533Z"
   },
   {
    "duration": 11,
    "start_time": "2021-12-21T05:00:41.574Z"
   },
   {
    "duration": 46,
    "start_time": "2021-12-21T05:00:41.587Z"
   },
   {
    "duration": 6,
    "start_time": "2021-12-21T05:00:41.635Z"
   },
   {
    "duration": 39,
    "start_time": "2021-12-21T05:00:41.645Z"
   },
   {
    "duration": 10,
    "start_time": "2021-12-21T05:00:41.687Z"
   },
   {
    "duration": 24,
    "start_time": "2021-12-21T05:00:41.699Z"
   },
   {
    "duration": 5,
    "start_time": "2021-12-21T05:00:41.725Z"
   },
   {
    "duration": 16,
    "start_time": "2021-12-21T05:00:41.732Z"
   },
   {
    "duration": 16,
    "start_time": "2021-12-21T05:00:41.750Z"
   },
   {
    "duration": 14,
    "start_time": "2021-12-21T05:00:41.769Z"
   },
   {
    "duration": 16,
    "start_time": "2021-12-21T05:00:41.785Z"
   },
   {
    "duration": 21,
    "start_time": "2021-12-21T05:00:41.803Z"
   },
   {
    "duration": 27,
    "start_time": "2021-12-21T05:00:41.827Z"
   },
   {
    "duration": 23,
    "start_time": "2021-12-21T05:00:41.857Z"
   },
   {
    "duration": 18,
    "start_time": "2021-12-21T05:00:41.882Z"
   },
   {
    "duration": 20,
    "start_time": "2021-12-21T05:00:41.902Z"
   },
   {
    "duration": 27,
    "start_time": "2021-12-21T05:00:41.924Z"
   },
   {
    "duration": 19,
    "start_time": "2021-12-21T05:00:41.954Z"
   },
   {
    "duration": 4,
    "start_time": "2021-12-21T05:00:41.977Z"
   },
   {
    "duration": 20,
    "start_time": "2021-12-21T05:00:41.984Z"
   },
   {
    "duration": 20,
    "start_time": "2021-12-21T05:00:42.006Z"
   },
   {
    "duration": 23,
    "start_time": "2021-12-21T05:00:42.029Z"
   },
   {
    "duration": 19,
    "start_time": "2021-12-21T05:00:42.055Z"
   },
   {
    "duration": 17,
    "start_time": "2021-12-21T05:00:42.077Z"
   },
   {
    "duration": 10,
    "start_time": "2021-12-21T05:00:42.096Z"
   },
   {
    "duration": 19,
    "start_time": "2021-12-21T05:00:42.108Z"
   },
   {
    "duration": 24,
    "start_time": "2021-12-21T05:00:42.130Z"
   },
   {
    "duration": 15,
    "start_time": "2021-12-21T05:00:42.156Z"
   },
   {
    "duration": 19,
    "start_time": "2021-12-21T05:00:42.173Z"
   },
   {
    "duration": 20,
    "start_time": "2021-12-21T05:00:42.194Z"
   },
   {
    "duration": 13,
    "start_time": "2021-12-21T05:00:42.216Z"
   },
   {
    "duration": 19,
    "start_time": "2021-12-21T05:00:42.231Z"
   },
   {
    "duration": 18,
    "start_time": "2021-12-21T05:00:42.252Z"
   },
   {
    "duration": 22,
    "start_time": "2021-12-21T05:00:42.272Z"
   },
   {
    "duration": 4,
    "start_time": "2021-12-21T05:23:08.149Z"
   },
   {
    "duration": 210,
    "start_time": "2021-12-21T05:23:08.156Z"
   },
   {
    "duration": 15,
    "start_time": "2021-12-21T05:23:08.369Z"
   },
   {
    "duration": 49,
    "start_time": "2021-12-21T05:23:08.386Z"
   },
   {
    "duration": 5,
    "start_time": "2021-12-21T05:23:08.437Z"
   },
   {
    "duration": 26,
    "start_time": "2021-12-21T05:23:08.445Z"
   },
   {
    "duration": 4,
    "start_time": "2021-12-21T05:23:08.474Z"
   },
   {
    "duration": 59,
    "start_time": "2021-12-21T05:23:08.481Z"
   },
   {
    "duration": 103,
    "start_time": "2021-12-21T05:23:08.543Z"
   },
   {
    "duration": -285,
    "start_time": "2021-12-21T05:23:08.934Z"
   },
   {
    "duration": -286,
    "start_time": "2021-12-21T05:23:08.937Z"
   },
   {
    "duration": -287,
    "start_time": "2021-12-21T05:23:08.939Z"
   },
   {
    "duration": -294,
    "start_time": "2021-12-21T05:23:08.948Z"
   },
   {
    "duration": -294,
    "start_time": "2021-12-21T05:23:08.950Z"
   },
   {
    "duration": -295,
    "start_time": "2021-12-21T05:23:08.952Z"
   },
   {
    "duration": -295,
    "start_time": "2021-12-21T05:23:08.954Z"
   },
   {
    "duration": -296,
    "start_time": "2021-12-21T05:23:08.956Z"
   },
   {
    "duration": -301,
    "start_time": "2021-12-21T05:23:08.963Z"
   },
   {
    "duration": -302,
    "start_time": "2021-12-21T05:23:08.965Z"
   },
   {
    "duration": -302,
    "start_time": "2021-12-21T05:23:08.967Z"
   },
   {
    "duration": -303,
    "start_time": "2021-12-21T05:23:08.969Z"
   },
   {
    "duration": -303,
    "start_time": "2021-12-21T05:23:08.971Z"
   },
   {
    "duration": -303,
    "start_time": "2021-12-21T05:23:08.972Z"
   },
   {
    "duration": -304,
    "start_time": "2021-12-21T05:23:08.974Z"
   },
   {
    "duration": -305,
    "start_time": "2021-12-21T05:23:08.976Z"
   },
   {
    "duration": -306,
    "start_time": "2021-12-21T05:23:08.979Z"
   },
   {
    "duration": -308,
    "start_time": "2021-12-21T05:23:08.982Z"
   },
   {
    "duration": -313,
    "start_time": "2021-12-21T05:23:08.988Z"
   },
   {
    "duration": -322,
    "start_time": "2021-12-21T05:23:08.999Z"
   },
   {
    "duration": -324,
    "start_time": "2021-12-21T05:23:09.002Z"
   },
   {
    "duration": -325,
    "start_time": "2021-12-21T05:23:09.004Z"
   },
   {
    "duration": -325,
    "start_time": "2021-12-21T05:23:09.006Z"
   },
   {
    "duration": -326,
    "start_time": "2021-12-21T05:23:09.008Z"
   },
   {
    "duration": -327,
    "start_time": "2021-12-21T05:23:09.010Z"
   },
   {
    "duration": -328,
    "start_time": "2021-12-21T05:23:09.013Z"
   },
   {
    "duration": -332,
    "start_time": "2021-12-21T05:23:09.018Z"
   },
   {
    "duration": -296,
    "start_time": "2021-12-21T05:23:09.020Z"
   },
   {
    "duration": -297,
    "start_time": "2021-12-21T05:23:09.022Z"
   },
   {
    "duration": 5,
    "start_time": "2021-12-21T05:24:18.856Z"
   },
   {
    "duration": 29,
    "start_time": "2021-12-21T05:24:22.304Z"
   },
   {
    "duration": 4,
    "start_time": "2021-12-21T05:24:52.266Z"
   },
   {
    "duration": 30,
    "start_time": "2021-12-21T05:24:54.210Z"
   },
   {
    "duration": 5,
    "start_time": "2021-12-21T05:25:23.610Z"
   },
   {
    "duration": 30,
    "start_time": "2021-12-21T05:25:24.986Z"
   },
   {
    "duration": 348,
    "start_time": "2021-12-21T05:26:33.291Z"
   },
   {
    "duration": 310,
    "start_time": "2021-12-21T05:27:14.539Z"
   },
   {
    "duration": 358,
    "start_time": "2021-12-21T05:28:38.546Z"
   },
   {
    "duration": 4,
    "start_time": "2021-12-21T05:28:45.154Z"
   },
   {
    "duration": 4,
    "start_time": "2021-12-21T05:28:46.850Z"
   },
   {
    "duration": 4,
    "start_time": "2021-12-21T05:28:47.938Z"
   },
   {
    "duration": 29,
    "start_time": "2021-12-21T05:28:49.194Z"
   },
   {
    "duration": 4,
    "start_time": "2021-12-21T05:28:51.514Z"
   },
   {
    "duration": 3,
    "start_time": "2021-12-21T06:03:27.291Z"
   },
   {
    "duration": 196,
    "start_time": "2021-12-21T06:03:27.297Z"
   },
   {
    "duration": 16,
    "start_time": "2021-12-21T06:03:27.496Z"
   },
   {
    "duration": 31,
    "start_time": "2021-12-21T06:03:27.523Z"
   },
   {
    "duration": 4,
    "start_time": "2021-12-21T06:03:27.557Z"
   },
   {
    "duration": 26,
    "start_time": "2021-12-21T06:03:27.564Z"
   },
   {
    "duration": 4,
    "start_time": "2021-12-21T06:03:27.624Z"
   },
   {
    "duration": 32,
    "start_time": "2021-12-21T06:03:27.632Z"
   },
   {
    "duration": 104,
    "start_time": "2021-12-21T06:03:27.667Z"
   },
   {
    "duration": -45,
    "start_time": "2021-12-21T06:03:27.819Z"
   },
   {
    "duration": -46,
    "start_time": "2021-12-21T06:03:27.821Z"
   },
   {
    "duration": -47,
    "start_time": "2021-12-21T06:03:27.824Z"
   },
   {
    "duration": -48,
    "start_time": "2021-12-21T06:03:27.827Z"
   },
   {
    "duration": -50,
    "start_time": "2021-12-21T06:03:27.830Z"
   },
   {
    "duration": -50,
    "start_time": "2021-12-21T06:03:27.832Z"
   },
   {
    "duration": -50,
    "start_time": "2021-12-21T06:03:27.834Z"
   },
   {
    "duration": -51,
    "start_time": "2021-12-21T06:03:27.836Z"
   },
   {
    "duration": -53,
    "start_time": "2021-12-21T06:03:27.839Z"
   },
   {
    "duration": -54,
    "start_time": "2021-12-21T06:03:27.841Z"
   },
   {
    "duration": -54,
    "start_time": "2021-12-21T06:03:27.843Z"
   },
   {
    "duration": -56,
    "start_time": "2021-12-21T06:03:27.846Z"
   },
   {
    "duration": -61,
    "start_time": "2021-12-21T06:03:27.852Z"
   },
   {
    "duration": -61,
    "start_time": "2021-12-21T06:03:27.854Z"
   },
   {
    "duration": -62,
    "start_time": "2021-12-21T06:03:27.856Z"
   },
   {
    "duration": -62,
    "start_time": "2021-12-21T06:03:27.858Z"
   },
   {
    "duration": -64,
    "start_time": "2021-12-21T06:03:27.861Z"
   },
   {
    "duration": -64,
    "start_time": "2021-12-21T06:03:27.863Z"
   },
   {
    "duration": -65,
    "start_time": "2021-12-21T06:03:27.865Z"
   },
   {
    "duration": -71,
    "start_time": "2021-12-21T06:03:27.872Z"
   },
   {
    "duration": -71,
    "start_time": "2021-12-21T06:03:27.874Z"
   },
   {
    "duration": -72,
    "start_time": "2021-12-21T06:03:27.876Z"
   },
   {
    "duration": -73,
    "start_time": "2021-12-21T06:03:27.879Z"
   },
   {
    "duration": -75,
    "start_time": "2021-12-21T06:03:27.882Z"
   },
   {
    "duration": -75,
    "start_time": "2021-12-21T06:03:27.884Z"
   },
   {
    "duration": -77,
    "start_time": "2021-12-21T06:03:27.887Z"
   },
   {
    "duration": -66,
    "start_time": "2021-12-21T06:03:27.889Z"
   },
   {
    "duration": -68,
    "start_time": "2021-12-21T06:03:27.892Z"
   },
   {
    "duration": -82,
    "start_time": "2021-12-21T06:03:27.908Z"
   },
   {
    "duration": 4,
    "start_time": "2021-12-21T06:04:19.404Z"
   },
   {
    "duration": 195,
    "start_time": "2021-12-21T06:04:19.410Z"
   },
   {
    "duration": 19,
    "start_time": "2021-12-21T06:04:19.608Z"
   },
   {
    "duration": 47,
    "start_time": "2021-12-21T06:04:19.630Z"
   },
   {
    "duration": 24,
    "start_time": "2021-12-21T06:04:19.680Z"
   },
   {
    "duration": 50,
    "start_time": "2021-12-21T06:04:19.706Z"
   },
   {
    "duration": 12,
    "start_time": "2021-12-21T06:04:19.759Z"
   },
   {
    "duration": 67,
    "start_time": "2021-12-21T06:04:19.775Z"
   },
   {
    "duration": 48,
    "start_time": "2021-12-21T06:04:19.845Z"
   },
   {
    "duration": 36,
    "start_time": "2021-12-21T06:04:19.895Z"
   },
   {
    "duration": 37,
    "start_time": "2021-12-21T06:04:19.933Z"
   },
   {
    "duration": 29,
    "start_time": "2021-12-21T06:04:19.973Z"
   },
   {
    "duration": 25,
    "start_time": "2021-12-21T06:04:20.005Z"
   },
   {
    "duration": 33,
    "start_time": "2021-12-21T06:04:20.032Z"
   },
   {
    "duration": 15,
    "start_time": "2021-12-21T06:04:20.067Z"
   },
   {
    "duration": 24,
    "start_time": "2021-12-21T06:04:20.084Z"
   },
   {
    "duration": 30,
    "start_time": "2021-12-21T06:04:20.111Z"
   },
   {
    "duration": 19,
    "start_time": "2021-12-21T06:04:20.143Z"
   },
   {
    "duration": 31,
    "start_time": "2021-12-21T06:04:20.166Z"
   },
   {
    "duration": 19,
    "start_time": "2021-12-21T06:04:20.200Z"
   },
   {
    "duration": 34,
    "start_time": "2021-12-21T06:04:20.221Z"
   },
   {
    "duration": 29,
    "start_time": "2021-12-21T06:04:20.257Z"
   },
   {
    "duration": 22,
    "start_time": "2021-12-21T06:04:20.289Z"
   },
   {
    "duration": 25,
    "start_time": "2021-12-21T06:04:20.313Z"
   },
   {
    "duration": 38,
    "start_time": "2021-12-21T06:04:20.340Z"
   },
   {
    "duration": 31,
    "start_time": "2021-12-21T06:04:20.380Z"
   },
   {
    "duration": 43,
    "start_time": "2021-12-21T06:04:20.413Z"
   },
   {
    "duration": 33,
    "start_time": "2021-12-21T06:04:20.459Z"
   },
   {
    "duration": 20,
    "start_time": "2021-12-21T06:04:20.494Z"
   },
   {
    "duration": 28,
    "start_time": "2021-12-21T06:04:20.516Z"
   },
   {
    "duration": 38,
    "start_time": "2021-12-21T06:04:20.546Z"
   },
   {
    "duration": 31,
    "start_time": "2021-12-21T06:04:20.587Z"
   },
   {
    "duration": 36,
    "start_time": "2021-12-21T06:04:20.620Z"
   },
   {
    "duration": 30,
    "start_time": "2021-12-21T06:04:20.659Z"
   },
   {
    "duration": 32,
    "start_time": "2021-12-21T06:04:20.692Z"
   },
   {
    "duration": 33,
    "start_time": "2021-12-21T06:04:20.727Z"
   },
   {
    "duration": 17,
    "start_time": "2021-12-21T06:04:20.762Z"
   },
   {
    "duration": 32,
    "start_time": "2021-12-21T06:04:20.782Z"
   },
   {
    "duration": 4,
    "start_time": "2021-12-21T06:41:29.687Z"
   },
   {
    "duration": 230,
    "start_time": "2021-12-21T06:41:29.694Z"
   },
   {
    "duration": 14,
    "start_time": "2021-12-21T06:41:29.927Z"
   },
   {
    "duration": 36,
    "start_time": "2021-12-21T06:41:29.944Z"
   },
   {
    "duration": 7,
    "start_time": "2021-12-21T06:41:29.983Z"
   },
   {
    "duration": 30,
    "start_time": "2021-12-21T06:41:30.024Z"
   },
   {
    "duration": 10,
    "start_time": "2021-12-21T06:41:30.056Z"
   },
   {
    "duration": 61,
    "start_time": "2021-12-21T06:41:30.071Z"
   },
   {
    "duration": 25,
    "start_time": "2021-12-21T06:41:30.136Z"
   },
   {
    "duration": 61,
    "start_time": "2021-12-21T06:41:30.164Z"
   },
   {
    "duration": 3,
    "start_time": "2021-12-21T06:41:30.227Z"
   },
   {
    "duration": 8,
    "start_time": "2021-12-21T06:41:30.233Z"
   },
   {
    "duration": 6,
    "start_time": "2021-12-21T06:41:30.244Z"
   },
   {
    "duration": 6,
    "start_time": "2021-12-21T06:41:30.253Z"
   },
   {
    "duration": 14,
    "start_time": "2021-12-21T06:41:30.262Z"
   },
   {
    "duration": 20,
    "start_time": "2021-12-21T06:41:30.279Z"
   },
   {
    "duration": 21,
    "start_time": "2021-12-21T06:41:30.302Z"
   },
   {
    "duration": 19,
    "start_time": "2021-12-21T06:41:30.326Z"
   },
   {
    "duration": 9,
    "start_time": "2021-12-21T06:41:30.348Z"
   },
   {
    "duration": 31,
    "start_time": "2021-12-21T06:41:30.360Z"
   },
   {
    "duration": 32,
    "start_time": "2021-12-21T06:41:30.393Z"
   },
   {
    "duration": 21,
    "start_time": "2021-12-21T06:41:30.427Z"
   },
   {
    "duration": 27,
    "start_time": "2021-12-21T06:41:30.454Z"
   },
   {
    "duration": 20,
    "start_time": "2021-12-21T06:41:30.485Z"
   },
   {
    "duration": 33,
    "start_time": "2021-12-21T06:41:30.508Z"
   },
   {
    "duration": 25,
    "start_time": "2021-12-21T06:41:30.543Z"
   },
   {
    "duration": 30,
    "start_time": "2021-12-21T06:41:30.570Z"
   },
   {
    "duration": 18,
    "start_time": "2021-12-21T06:41:30.602Z"
   },
   {
    "duration": 21,
    "start_time": "2021-12-21T06:41:30.622Z"
   },
   {
    "duration": 21,
    "start_time": "2021-12-21T06:41:30.646Z"
   },
   {
    "duration": 34,
    "start_time": "2021-12-21T06:41:30.669Z"
   },
   {
    "duration": 22,
    "start_time": "2021-12-21T06:41:30.705Z"
   },
   {
    "duration": 25,
    "start_time": "2021-12-21T06:41:30.730Z"
   },
   {
    "duration": 34,
    "start_time": "2021-12-21T06:41:30.757Z"
   },
   {
    "duration": 12,
    "start_time": "2021-12-21T06:41:30.794Z"
   },
   {
    "duration": 11,
    "start_time": "2021-12-21T06:41:30.809Z"
   },
   {
    "duration": 21,
    "start_time": "2021-12-21T06:41:30.822Z"
   },
   {
    "duration": 20,
    "start_time": "2021-12-21T06:41:30.845Z"
   },
   {
    "duration": 340,
    "start_time": "2021-12-21T06:51:11.100Z"
   },
   {
    "duration": 322,
    "start_time": "2021-12-21T06:51:52.724Z"
   },
   {
    "duration": 7,
    "start_time": "2021-12-21T06:52:17.168Z"
   },
   {
    "duration": 1,
    "start_time": "2021-12-21T06:52:17.179Z"
   },
   {
    "duration": 4,
    "start_time": "2021-12-21T06:52:17.925Z"
   },
   {
    "duration": 214,
    "start_time": "2021-12-21T06:52:17.932Z"
   },
   {
    "duration": 17,
    "start_time": "2021-12-21T06:52:18.149Z"
   },
   {
    "duration": 77,
    "start_time": "2021-12-21T06:52:18.169Z"
   },
   {
    "duration": 10,
    "start_time": "2021-12-21T06:52:18.249Z"
   },
   {
    "duration": 52,
    "start_time": "2021-12-21T06:52:18.262Z"
   },
   {
    "duration": 7,
    "start_time": "2021-12-21T06:52:18.317Z"
   },
   {
    "duration": 66,
    "start_time": "2021-12-21T06:52:18.329Z"
   },
   {
    "duration": 8772,
    "start_time": "2021-12-21T06:52:18.399Z"
   },
   {
    "duration": -12,
    "start_time": "2021-12-21T06:52:27.186Z"
   },
   {
    "duration": -16,
    "start_time": "2021-12-21T06:52:27.191Z"
   },
   {
    "duration": -23,
    "start_time": "2021-12-21T06:52:27.200Z"
   },
   {
    "duration": -24,
    "start_time": "2021-12-21T06:52:27.202Z"
   },
   {
    "duration": -25,
    "start_time": "2021-12-21T06:52:27.205Z"
   },
   {
    "duration": -25,
    "start_time": "2021-12-21T06:52:27.207Z"
   },
   {
    "duration": -31,
    "start_time": "2021-12-21T06:52:27.215Z"
   },
   {
    "duration": -32,
    "start_time": "2021-12-21T06:52:27.217Z"
   },
   {
    "duration": -34,
    "start_time": "2021-12-21T06:52:27.220Z"
   },
   {
    "duration": -34,
    "start_time": "2021-12-21T06:52:27.222Z"
   },
   {
    "duration": -33,
    "start_time": "2021-12-21T06:52:27.224Z"
   },
   {
    "duration": -39,
    "start_time": "2021-12-21T06:52:27.232Z"
   },
   {
    "duration": -41,
    "start_time": "2021-12-21T06:52:27.235Z"
   },
   {
    "duration": -41,
    "start_time": "2021-12-21T06:52:27.237Z"
   },
   {
    "duration": -42,
    "start_time": "2021-12-21T06:52:27.239Z"
   },
   {
    "duration": -43,
    "start_time": "2021-12-21T06:52:27.242Z"
   },
   {
    "duration": -48,
    "start_time": "2021-12-21T06:52:27.249Z"
   },
   {
    "duration": -50,
    "start_time": "2021-12-21T06:52:27.252Z"
   },
   {
    "duration": -50,
    "start_time": "2021-12-21T06:52:27.254Z"
   },
   {
    "duration": -51,
    "start_time": "2021-12-21T06:52:27.256Z"
   },
   {
    "duration": -58,
    "start_time": "2021-12-21T06:52:27.265Z"
   },
   {
    "duration": -59,
    "start_time": "2021-12-21T06:52:27.267Z"
   },
   {
    "duration": -60,
    "start_time": "2021-12-21T06:52:27.270Z"
   },
   {
    "duration": -61,
    "start_time": "2021-12-21T06:52:27.272Z"
   },
   {
    "duration": -62,
    "start_time": "2021-12-21T06:52:27.274Z"
   },
   {
    "duration": -69,
    "start_time": "2021-12-21T06:52:27.282Z"
   },
   {
    "duration": -63,
    "start_time": "2021-12-21T06:52:27.285Z"
   },
   {
    "duration": -64,
    "start_time": "2021-12-21T06:52:27.288Z"
   },
   {
    "duration": -64,
    "start_time": "2021-12-21T06:52:27.290Z"
   },
   {
    "duration": 30,
    "start_time": "2021-12-21T06:52:47.916Z"
   },
   {
    "duration": 9,
    "start_time": "2021-12-21T06:53:07.814Z"
   },
   {
    "duration": 4,
    "start_time": "2021-12-21T07:05:58.085Z"
   },
   {
    "duration": 220,
    "start_time": "2021-12-21T07:05:58.092Z"
   },
   {
    "duration": 19,
    "start_time": "2021-12-21T07:05:58.315Z"
   },
   {
    "duration": 50,
    "start_time": "2021-12-21T07:05:58.336Z"
   },
   {
    "duration": 29,
    "start_time": "2021-12-21T07:05:58.389Z"
   },
   {
    "duration": 44,
    "start_time": "2021-12-21T07:05:58.421Z"
   },
   {
    "duration": 5,
    "start_time": "2021-12-21T07:05:58.468Z"
   },
   {
    "duration": 63,
    "start_time": "2021-12-21T07:05:58.477Z"
   },
   {
    "duration": 27,
    "start_time": "2021-12-21T07:05:58.543Z"
   },
   {
    "duration": 40,
    "start_time": "2021-12-21T07:05:58.572Z"
   },
   {
    "duration": 22,
    "start_time": "2021-12-21T07:05:58.615Z"
   },
   {
    "duration": 33,
    "start_time": "2021-12-21T07:05:58.639Z"
   },
   {
    "duration": 27,
    "start_time": "2021-12-21T07:05:58.674Z"
   },
   {
    "duration": 36,
    "start_time": "2021-12-21T07:05:58.703Z"
   },
   {
    "duration": 33,
    "start_time": "2021-12-21T07:05:58.741Z"
   },
   {
    "duration": 17,
    "start_time": "2021-12-21T07:05:58.776Z"
   },
   {
    "duration": 11,
    "start_time": "2021-12-21T07:05:58.795Z"
   },
   {
    "duration": 7,
    "start_time": "2021-12-21T07:05:58.809Z"
   },
   {
    "duration": 10,
    "start_time": "2021-12-21T07:05:58.818Z"
   },
   {
    "duration": 7,
    "start_time": "2021-12-21T07:05:58.830Z"
   },
   {
    "duration": 3,
    "start_time": "2021-12-21T07:05:58.848Z"
   },
   {
    "duration": 7,
    "start_time": "2021-12-21T07:05:58.854Z"
   },
   {
    "duration": 3,
    "start_time": "2021-12-21T07:05:58.868Z"
   },
   {
    "duration": 7,
    "start_time": "2021-12-21T07:05:58.874Z"
   },
   {
    "duration": 6,
    "start_time": "2021-12-21T07:05:58.884Z"
   },
   {
    "duration": 33,
    "start_time": "2021-12-21T07:05:58.892Z"
   },
   {
    "duration": 8,
    "start_time": "2021-12-21T07:05:58.927Z"
   },
   {
    "duration": 9,
    "start_time": "2021-12-21T07:05:58.937Z"
   },
   {
    "duration": 6,
    "start_time": "2021-12-21T07:05:58.949Z"
   },
   {
    "duration": 6,
    "start_time": "2021-12-21T07:05:58.957Z"
   },
   {
    "duration": 10,
    "start_time": "2021-12-21T07:05:58.965Z"
   },
   {
    "duration": 7,
    "start_time": "2021-12-21T07:05:58.977Z"
   },
   {
    "duration": 9,
    "start_time": "2021-12-21T07:05:58.987Z"
   },
   {
    "duration": 3,
    "start_time": "2021-12-21T07:05:59.024Z"
   },
   {
    "duration": 5,
    "start_time": "2021-12-21T07:05:59.030Z"
   },
   {
    "duration": 6,
    "start_time": "2021-12-21T07:05:59.038Z"
   },
   {
    "duration": 6,
    "start_time": "2021-12-21T07:05:59.047Z"
   },
   {
    "duration": 6,
    "start_time": "2021-12-21T07:05:59.056Z"
   },
   {
    "duration": 310,
    "start_time": "2021-12-21T07:07:46.578Z"
   },
   {
    "duration": 311,
    "start_time": "2021-12-21T07:08:35.707Z"
   },
   {
    "duration": 36,
    "start_time": "2021-12-21T07:20:55.314Z"
   },
   {
    "duration": 28,
    "start_time": "2021-12-21T07:20:56.674Z"
   },
   {
    "duration": 4,
    "start_time": "2021-12-21T07:23:27.796Z"
   },
   {
    "duration": 212,
    "start_time": "2021-12-21T07:23:27.802Z"
   },
   {
    "duration": 17,
    "start_time": "2021-12-21T07:23:28.017Z"
   },
   {
    "duration": 34,
    "start_time": "2021-12-21T07:23:28.038Z"
   },
   {
    "duration": 6,
    "start_time": "2021-12-21T07:23:28.075Z"
   },
   {
    "duration": 54,
    "start_time": "2021-12-21T07:23:28.083Z"
   },
   {
    "duration": 4,
    "start_time": "2021-12-21T07:23:28.141Z"
   },
   {
    "duration": 32,
    "start_time": "2021-12-21T07:23:28.148Z"
   },
   {
    "duration": 57,
    "start_time": "2021-12-21T07:23:28.183Z"
   },
   {
    "duration": 30,
    "start_time": "2021-12-21T07:23:28.243Z"
   },
   {
    "duration": 4,
    "start_time": "2021-12-21T07:23:28.275Z"
   },
   {
    "duration": 6,
    "start_time": "2021-12-21T07:23:28.282Z"
   },
   {
    "duration": 10,
    "start_time": "2021-12-21T07:23:28.290Z"
   },
   {
    "duration": 9,
    "start_time": "2021-12-21T07:23:28.324Z"
   },
   {
    "duration": 7,
    "start_time": "2021-12-21T07:23:28.335Z"
   },
   {
    "duration": 10,
    "start_time": "2021-12-21T07:23:28.344Z"
   },
   {
    "duration": 8,
    "start_time": "2021-12-21T07:23:28.357Z"
   },
   {
    "duration": 7,
    "start_time": "2021-12-21T07:23:28.367Z"
   },
   {
    "duration": 3,
    "start_time": "2021-12-21T07:23:28.379Z"
   },
   {
    "duration": 38,
    "start_time": "2021-12-21T07:23:28.385Z"
   },
   {
    "duration": 5,
    "start_time": "2021-12-21T07:23:28.426Z"
   },
   {
    "duration": 6,
    "start_time": "2021-12-21T07:23:28.433Z"
   },
   {
    "duration": 6,
    "start_time": "2021-12-21T07:23:28.442Z"
   },
   {
    "duration": 6,
    "start_time": "2021-12-21T07:23:28.451Z"
   },
   {
    "duration": 7,
    "start_time": "2021-12-21T07:23:28.460Z"
   },
   {
    "duration": 9,
    "start_time": "2021-12-21T07:23:28.470Z"
   },
   {
    "duration": 6,
    "start_time": "2021-12-21T07:23:28.482Z"
   },
   {
    "duration": 32,
    "start_time": "2021-12-21T07:23:28.491Z"
   },
   {
    "duration": 9,
    "start_time": "2021-12-21T07:23:28.526Z"
   },
   {
    "duration": 10,
    "start_time": "2021-12-21T07:23:28.537Z"
   },
   {
    "duration": 14,
    "start_time": "2021-12-21T07:23:28.550Z"
   },
   {
    "duration": 7,
    "start_time": "2021-12-21T07:23:28.567Z"
   },
   {
    "duration": 10,
    "start_time": "2021-12-21T07:23:28.576Z"
   },
   {
    "duration": 6,
    "start_time": "2021-12-21T07:23:28.588Z"
   },
   {
    "duration": 6,
    "start_time": "2021-12-21T07:23:28.596Z"
   },
   {
    "duration": 18,
    "start_time": "2021-12-21T07:23:28.605Z"
   },
   {
    "duration": 6,
    "start_time": "2021-12-21T07:23:28.626Z"
   },
   {
    "duration": 9,
    "start_time": "2021-12-21T07:23:28.634Z"
   },
   {
    "duration": 76,
    "start_time": "2021-12-21T07:24:25.431Z"
   },
   {
    "duration": 329,
    "start_time": "2021-12-21T07:24:26.846Z"
   },
   {
    "duration": 72,
    "start_time": "2021-12-21T07:24:29.646Z"
   },
   {
    "duration": 382,
    "start_time": "2021-12-21T07:24:43.902Z"
   },
   {
    "duration": 4,
    "start_time": "2021-12-21T07:26:41.184Z"
   },
   {
    "duration": 187,
    "start_time": "2021-12-21T07:26:41.191Z"
   },
   {
    "duration": 16,
    "start_time": "2021-12-21T07:26:41.382Z"
   },
   {
    "duration": 48,
    "start_time": "2021-12-21T07:26:41.402Z"
   },
   {
    "duration": 6,
    "start_time": "2021-12-21T07:26:41.453Z"
   },
   {
    "duration": 20,
    "start_time": "2021-12-21T07:26:41.462Z"
   },
   {
    "duration": 41,
    "start_time": "2021-12-21T07:26:41.485Z"
   },
   {
    "duration": 31,
    "start_time": "2021-12-21T07:26:41.530Z"
   },
   {
    "duration": 23,
    "start_time": "2021-12-21T07:26:41.565Z"
   },
   {
    "duration": 56,
    "start_time": "2021-12-21T07:26:41.591Z"
   },
   {
    "duration": 120,
    "start_time": "2021-12-21T07:26:41.650Z"
   },
   {
    "duration": 347,
    "start_time": "2021-12-21T07:26:41.772Z"
   },
   {
    "duration": -20,
    "start_time": "2021-12-21T07:26:42.144Z"
   },
   {
    "duration": -33,
    "start_time": "2021-12-21T07:26:42.158Z"
   },
   {
    "duration": -39,
    "start_time": "2021-12-21T07:26:42.167Z"
   },
   {
    "duration": -39,
    "start_time": "2021-12-21T07:26:42.169Z"
   },
   {
    "duration": -40,
    "start_time": "2021-12-21T07:26:42.172Z"
   },
   {
    "duration": -40,
    "start_time": "2021-12-21T07:26:42.174Z"
   },
   {
    "duration": -47,
    "start_time": "2021-12-21T07:26:42.183Z"
   },
   {
    "duration": -47,
    "start_time": "2021-12-21T07:26:42.185Z"
   },
   {
    "duration": -48,
    "start_time": "2021-12-21T07:26:42.188Z"
   },
   {
    "duration": -48,
    "start_time": "2021-12-21T07:26:42.190Z"
   },
   {
    "duration": -49,
    "start_time": "2021-12-21T07:26:42.193Z"
   },
   {
    "duration": -55,
    "start_time": "2021-12-21T07:26:42.201Z"
   },
   {
    "duration": -55,
    "start_time": "2021-12-21T07:26:42.204Z"
   },
   {
    "duration": -55,
    "start_time": "2021-12-21T07:26:42.206Z"
   },
   {
    "duration": -93,
    "start_time": "2021-12-21T07:26:42.245Z"
   },
   {
    "duration": -100,
    "start_time": "2021-12-21T07:26:42.254Z"
   },
   {
    "duration": -100,
    "start_time": "2021-12-21T07:26:42.256Z"
   },
   {
    "duration": -102,
    "start_time": "2021-12-21T07:26:42.260Z"
   },
   {
    "duration": -102,
    "start_time": "2021-12-21T07:26:42.262Z"
   },
   {
    "duration": -103,
    "start_time": "2021-12-21T07:26:42.264Z"
   },
   {
    "duration": -103,
    "start_time": "2021-12-21T07:26:42.266Z"
   },
   {
    "duration": -109,
    "start_time": "2021-12-21T07:26:42.273Z"
   },
   {
    "duration": -113,
    "start_time": "2021-12-21T07:26:42.278Z"
   },
   {
    "duration": -115,
    "start_time": "2021-12-21T07:26:42.281Z"
   },
   {
    "duration": -62,
    "start_time": "2021-12-21T07:26:42.285Z"
   },
   {
    "duration": -65,
    "start_time": "2021-12-21T07:26:42.290Z"
   },
   {
    "duration": 324,
    "start_time": "2021-12-21T07:26:52.614Z"
   },
   {
    "duration": 405,
    "start_time": "2021-12-21T07:27:22.443Z"
   },
   {
    "duration": 88,
    "start_time": "2021-12-21T07:27:35.591Z"
   },
   {
    "duration": 86,
    "start_time": "2021-12-21T07:27:37.783Z"
   },
   {
    "duration": 80,
    "start_time": "2021-12-21T07:27:38.862Z"
   },
   {
    "duration": 3,
    "start_time": "2021-12-21T07:31:19.520Z"
   },
   {
    "duration": 209,
    "start_time": "2021-12-21T07:31:19.527Z"
   },
   {
    "duration": 17,
    "start_time": "2021-12-21T07:31:19.739Z"
   },
   {
    "duration": 36,
    "start_time": "2021-12-21T07:31:19.759Z"
   },
   {
    "duration": 28,
    "start_time": "2021-12-21T07:31:19.798Z"
   },
   {
    "duration": 17,
    "start_time": "2021-12-21T07:31:19.828Z"
   },
   {
    "duration": 5,
    "start_time": "2021-12-21T07:31:19.847Z"
   },
   {
    "duration": 31,
    "start_time": "2021-12-21T07:31:19.856Z"
   },
   {
    "duration": 56,
    "start_time": "2021-12-21T07:31:19.889Z"
   },
   {
    "duration": 30,
    "start_time": "2021-12-21T07:31:19.947Z"
   },
   {
    "duration": 105,
    "start_time": "2021-12-21T07:31:19.979Z"
   },
   {
    "duration": 105,
    "start_time": "2021-12-21T07:31:20.086Z"
   },
   {
    "duration": 89,
    "start_time": "2021-12-21T07:31:20.193Z"
   },
   {
    "duration": 3,
    "start_time": "2021-12-21T07:31:20.285Z"
   },
   {
    "duration": 10,
    "start_time": "2021-12-21T07:31:20.291Z"
   },
   {
    "duration": 21,
    "start_time": "2021-12-21T07:31:20.303Z"
   },
   {
    "duration": 10,
    "start_time": "2021-12-21T07:31:20.327Z"
   },
   {
    "duration": 8,
    "start_time": "2021-12-21T07:31:20.340Z"
   },
   {
    "duration": 8,
    "start_time": "2021-12-21T07:31:20.350Z"
   },
   {
    "duration": 8,
    "start_time": "2021-12-21T07:31:20.361Z"
   },
   {
    "duration": 9,
    "start_time": "2021-12-21T07:31:20.371Z"
   },
   {
    "duration": 7,
    "start_time": "2021-12-21T07:31:20.382Z"
   },
   {
    "duration": 4,
    "start_time": "2021-12-21T07:31:20.394Z"
   },
   {
    "duration": 24,
    "start_time": "2021-12-21T07:31:20.401Z"
   },
   {
    "duration": 8,
    "start_time": "2021-12-21T07:31:20.428Z"
   },
   {
    "duration": 11,
    "start_time": "2021-12-21T07:31:20.438Z"
   },
   {
    "duration": 19,
    "start_time": "2021-12-21T07:31:20.451Z"
   },
   {
    "duration": 15,
    "start_time": "2021-12-21T07:31:20.472Z"
   },
   {
    "duration": 19,
    "start_time": "2021-12-21T07:31:20.490Z"
   },
   {
    "duration": 24,
    "start_time": "2021-12-21T07:31:20.512Z"
   },
   {
    "duration": 23,
    "start_time": "2021-12-21T07:31:20.538Z"
   },
   {
    "duration": 32,
    "start_time": "2021-12-21T07:31:20.563Z"
   },
   {
    "duration": 31,
    "start_time": "2021-12-21T07:31:20.598Z"
   },
   {
    "duration": 19,
    "start_time": "2021-12-21T07:31:20.632Z"
   },
   {
    "duration": 13,
    "start_time": "2021-12-21T07:31:20.654Z"
   },
   {
    "duration": 26,
    "start_time": "2021-12-21T07:31:20.669Z"
   },
   {
    "duration": 12,
    "start_time": "2021-12-21T07:31:20.698Z"
   },
   {
    "duration": 19,
    "start_time": "2021-12-21T07:31:20.712Z"
   },
   {
    "duration": 9,
    "start_time": "2021-12-21T07:31:42.735Z"
   },
   {
    "duration": 3,
    "start_time": "2021-12-21T07:39:35.221Z"
   },
   {
    "duration": 218,
    "start_time": "2021-12-21T07:39:35.227Z"
   },
   {
    "duration": 15,
    "start_time": "2021-12-21T07:39:35.448Z"
   },
   {
    "duration": 36,
    "start_time": "2021-12-21T07:39:35.466Z"
   },
   {
    "duration": 22,
    "start_time": "2021-12-21T07:39:35.504Z"
   },
   {
    "duration": 24,
    "start_time": "2021-12-21T07:39:35.528Z"
   },
   {
    "duration": 5,
    "start_time": "2021-12-21T07:39:35.554Z"
   },
   {
    "duration": 32,
    "start_time": "2021-12-21T07:39:35.563Z"
   },
   {
    "duration": 22,
    "start_time": "2021-12-21T07:39:35.623Z"
   },
   {
    "duration": 26,
    "start_time": "2021-12-21T07:39:35.647Z"
   },
   {
    "duration": 103,
    "start_time": "2021-12-21T07:39:35.676Z"
   },
   {
    "duration": 98,
    "start_time": "2021-12-21T07:39:35.781Z"
   },
   {
    "duration": 84,
    "start_time": "2021-12-21T07:39:35.881Z"
   },
   {
    "duration": 101,
    "start_time": "2021-12-21T07:39:35.968Z"
   },
   {
    "duration": -26,
    "start_time": "2021-12-21T07:39:36.098Z"
   },
   {
    "duration": -26,
    "start_time": "2021-12-21T07:39:36.100Z"
   },
   {
    "duration": -28,
    "start_time": "2021-12-21T07:39:36.103Z"
   },
   {
    "duration": -39,
    "start_time": "2021-12-21T07:39:36.115Z"
   },
   {
    "duration": -39,
    "start_time": "2021-12-21T07:39:36.117Z"
   },
   {
    "duration": -41,
    "start_time": "2021-12-21T07:39:36.120Z"
   },
   {
    "duration": -42,
    "start_time": "2021-12-21T07:39:36.123Z"
   },
   {
    "duration": -44,
    "start_time": "2021-12-21T07:39:36.126Z"
   },
   {
    "duration": -44,
    "start_time": "2021-12-21T07:39:36.128Z"
   },
   {
    "duration": -45,
    "start_time": "2021-12-21T07:39:36.130Z"
   },
   {
    "duration": -45,
    "start_time": "2021-12-21T07:39:36.131Z"
   },
   {
    "duration": -45,
    "start_time": "2021-12-21T07:39:36.133Z"
   },
   {
    "duration": -47,
    "start_time": "2021-12-21T07:39:36.136Z"
   },
   {
    "duration": -47,
    "start_time": "2021-12-21T07:39:36.138Z"
   },
   {
    "duration": -52,
    "start_time": "2021-12-21T07:39:36.144Z"
   },
   {
    "duration": -52,
    "start_time": "2021-12-21T07:39:36.146Z"
   },
   {
    "duration": -53,
    "start_time": "2021-12-21T07:39:36.148Z"
   },
   {
    "duration": -54,
    "start_time": "2021-12-21T07:39:36.150Z"
   },
   {
    "duration": -54,
    "start_time": "2021-12-21T07:39:36.152Z"
   },
   {
    "duration": -56,
    "start_time": "2021-12-21T07:39:36.155Z"
   },
   {
    "duration": -57,
    "start_time": "2021-12-21T07:39:36.158Z"
   },
   {
    "duration": -58,
    "start_time": "2021-12-21T07:39:36.160Z"
   },
   {
    "duration": -57,
    "start_time": "2021-12-21T07:39:36.161Z"
   },
   {
    "duration": -58,
    "start_time": "2021-12-21T07:39:36.163Z"
   },
   {
    "duration": 45,
    "start_time": "2021-12-21T07:40:06.890Z"
   },
   {
    "duration": 219,
    "start_time": "2021-12-21T07:40:24.257Z"
   },
   {
    "duration": 341,
    "start_time": "2021-12-21T07:40:41.025Z"
   },
   {
    "duration": 9,
    "start_time": "2021-12-21T07:41:07.338Z"
   },
   {
    "duration": 4,
    "start_time": "2021-12-21T07:43:12.978Z"
   },
   {
    "duration": 4,
    "start_time": "2021-12-21T07:44:35.677Z"
   },
   {
    "duration": 211,
    "start_time": "2021-12-21T07:44:35.683Z"
   },
   {
    "duration": 26,
    "start_time": "2021-12-21T07:44:35.897Z"
   },
   {
    "duration": 39,
    "start_time": "2021-12-21T07:44:35.925Z"
   },
   {
    "duration": 24,
    "start_time": "2021-12-21T07:44:35.966Z"
   },
   {
    "duration": 29,
    "start_time": "2021-12-21T07:44:35.992Z"
   },
   {
    "duration": 12,
    "start_time": "2021-12-21T07:44:36.025Z"
   },
   {
    "duration": 47,
    "start_time": "2021-12-21T07:44:36.040Z"
   },
   {
    "duration": 36,
    "start_time": "2021-12-21T07:44:36.090Z"
   },
   {
    "duration": 38,
    "start_time": "2021-12-21T07:44:36.129Z"
   },
   {
    "duration": 100,
    "start_time": "2021-12-21T07:44:36.169Z"
   },
   {
    "duration": 96,
    "start_time": "2021-12-21T07:44:36.272Z"
   },
   {
    "duration": 79,
    "start_time": "2021-12-21T07:44:36.370Z"
   },
   {
    "duration": 10,
    "start_time": "2021-12-21T07:44:36.451Z"
   },
   {
    "duration": 19,
    "start_time": "2021-12-21T07:44:36.464Z"
   },
   {
    "duration": 24,
    "start_time": "2021-12-21T07:44:36.485Z"
   },
   {
    "duration": 21,
    "start_time": "2021-12-21T07:44:36.512Z"
   },
   {
    "duration": 18,
    "start_time": "2021-12-21T07:44:36.535Z"
   },
   {
    "duration": 14,
    "start_time": "2021-12-21T07:44:36.557Z"
   },
   {
    "duration": 16,
    "start_time": "2021-12-21T07:44:36.574Z"
   },
   {
    "duration": 36,
    "start_time": "2021-12-21T07:44:36.592Z"
   },
   {
    "duration": 21,
    "start_time": "2021-12-21T07:44:36.630Z"
   },
   {
    "duration": 20,
    "start_time": "2021-12-21T07:44:36.653Z"
   },
   {
    "duration": 27,
    "start_time": "2021-12-21T07:44:36.676Z"
   },
   {
    "duration": 11,
    "start_time": "2021-12-21T07:44:36.706Z"
   },
   {
    "duration": 20,
    "start_time": "2021-12-21T07:44:36.719Z"
   },
   {
    "duration": 22,
    "start_time": "2021-12-21T07:44:36.742Z"
   },
   {
    "duration": 13,
    "start_time": "2021-12-21T07:44:36.766Z"
   },
   {
    "duration": 31,
    "start_time": "2021-12-21T07:44:36.781Z"
   },
   {
    "duration": 30,
    "start_time": "2021-12-21T07:44:36.814Z"
   },
   {
    "duration": 30,
    "start_time": "2021-12-21T07:44:36.846Z"
   },
   {
    "duration": 35,
    "start_time": "2021-12-21T07:44:36.878Z"
   },
   {
    "duration": 37,
    "start_time": "2021-12-21T07:44:36.915Z"
   },
   {
    "duration": 20,
    "start_time": "2021-12-21T07:44:36.954Z"
   },
   {
    "duration": 17,
    "start_time": "2021-12-21T07:44:36.976Z"
   },
   {
    "duration": 29,
    "start_time": "2021-12-21T07:44:36.995Z"
   },
   {
    "duration": 33,
    "start_time": "2021-12-21T07:44:37.027Z"
   },
   {
    "duration": 30,
    "start_time": "2021-12-21T07:44:37.063Z"
   },
   {
    "duration": 379,
    "start_time": "2021-12-21T07:46:39.960Z"
   },
   {
    "duration": 305,
    "start_time": "2021-12-21T07:46:47.242Z"
   },
   {
    "duration": 4,
    "start_time": "2021-12-21T07:46:56.603Z"
   },
   {
    "duration": 614,
    "start_time": "2021-12-21T07:46:58.059Z"
   },
   {
    "duration": 4,
    "start_time": "2021-12-21T07:47:57.218Z"
   },
   {
    "duration": 632,
    "start_time": "2021-12-21T07:48:06.418Z"
   },
   {
    "duration": -200,
    "start_time": "2021-12-21T07:48:39.162Z"
   },
   {
    "duration": 4,
    "start_time": "2021-12-21T07:51:01.212Z"
   },
   {
    "duration": 3,
    "start_time": "2021-12-21T07:51:24.049Z"
   },
   {
    "duration": 175,
    "start_time": "2021-12-21T07:51:24.055Z"
   },
   {
    "duration": 16,
    "start_time": "2021-12-21T07:51:24.233Z"
   },
   {
    "duration": 65,
    "start_time": "2021-12-21T07:51:24.253Z"
   },
   {
    "duration": 37,
    "start_time": "2021-12-21T07:51:24.321Z"
   },
   {
    "duration": 51,
    "start_time": "2021-12-21T07:51:24.360Z"
   },
   {
    "duration": 23,
    "start_time": "2021-12-21T07:51:24.415Z"
   },
   {
    "duration": 73,
    "start_time": "2021-12-21T07:51:24.441Z"
   },
   {
    "duration": 49,
    "start_time": "2021-12-21T07:51:24.516Z"
   },
   {
    "duration": 61,
    "start_time": "2021-12-21T07:51:24.568Z"
   },
   {
    "duration": 106,
    "start_time": "2021-12-21T07:51:24.632Z"
   },
   {
    "duration": 96,
    "start_time": "2021-12-21T07:51:24.741Z"
   },
   {
    "duration": 84,
    "start_time": "2021-12-21T07:51:24.840Z"
   },
   {
    "duration": 9,
    "start_time": "2021-12-21T07:51:24.927Z"
   },
   {
    "duration": 34,
    "start_time": "2021-12-21T07:51:24.938Z"
   },
   {
    "duration": 9140,
    "start_time": "2021-12-21T07:51:24.974Z"
   },
   {
    "duration": -99,
    "start_time": "2021-12-21T07:51:34.217Z"
   },
   {
    "duration": -103,
    "start_time": "2021-12-21T07:51:34.223Z"
   },
   {
    "duration": -103,
    "start_time": "2021-12-21T07:51:34.225Z"
   },
   {
    "duration": -103,
    "start_time": "2021-12-21T07:51:34.227Z"
   },
   {
    "duration": -104,
    "start_time": "2021-12-21T07:51:34.229Z"
   },
   {
    "duration": -104,
    "start_time": "2021-12-21T07:51:34.231Z"
   },
   {
    "duration": -105,
    "start_time": "2021-12-21T07:51:34.234Z"
   },
   {
    "duration": -110,
    "start_time": "2021-12-21T07:51:34.240Z"
   },
   {
    "duration": -110,
    "start_time": "2021-12-21T07:51:34.242Z"
   },
   {
    "duration": -111,
    "start_time": "2021-12-21T07:51:34.244Z"
   },
   {
    "duration": -111,
    "start_time": "2021-12-21T07:51:34.246Z"
   },
   {
    "duration": -112,
    "start_time": "2021-12-21T07:51:34.248Z"
   },
   {
    "duration": -113,
    "start_time": "2021-12-21T07:51:34.251Z"
   },
   {
    "duration": -116,
    "start_time": "2021-12-21T07:51:34.256Z"
   },
   {
    "duration": -119,
    "start_time": "2021-12-21T07:51:34.260Z"
   },
   {
    "duration": -119,
    "start_time": "2021-12-21T07:51:34.262Z"
   },
   {
    "duration": -120,
    "start_time": "2021-12-21T07:51:34.264Z"
   },
   {
    "duration": -119,
    "start_time": "2021-12-21T07:51:34.265Z"
   },
   {
    "duration": -124,
    "start_time": "2021-12-21T07:51:34.271Z"
   },
   {
    "duration": -125,
    "start_time": "2021-12-21T07:51:34.274Z"
   },
   {
    "duration": -126,
    "start_time": "2021-12-21T07:51:34.276Z"
   },
   {
    "duration": -126,
    "start_time": "2021-12-21T07:51:34.278Z"
   },
   {
    "duration": -25,
    "start_time": "2021-12-21T07:52:04.171Z"
   },
   {
    "duration": 4,
    "start_time": "2021-12-21T07:52:04.867Z"
   },
   {
    "duration": 180,
    "start_time": "2021-12-21T07:52:04.874Z"
   },
   {
    "duration": 15,
    "start_time": "2021-12-21T07:52:05.058Z"
   },
   {
    "duration": 47,
    "start_time": "2021-12-21T07:52:05.076Z"
   },
   {
    "duration": 5,
    "start_time": "2021-12-21T07:52:05.126Z"
   },
   {
    "duration": 27,
    "start_time": "2021-12-21T07:52:05.134Z"
   },
   {
    "duration": 5,
    "start_time": "2021-12-21T07:52:05.163Z"
   },
   {
    "duration": 62,
    "start_time": "2021-12-21T07:52:05.172Z"
   },
   {
    "duration": 24,
    "start_time": "2021-12-21T07:52:05.238Z"
   },
   {
    "duration": 45,
    "start_time": "2021-12-21T07:52:05.265Z"
   },
   {
    "duration": 78,
    "start_time": "2021-12-21T07:52:05.324Z"
   },
   {
    "duration": 98,
    "start_time": "2021-12-21T07:52:05.404Z"
   },
   {
    "duration": 81,
    "start_time": "2021-12-21T07:52:05.504Z"
   },
   {
    "duration": 8,
    "start_time": "2021-12-21T07:52:05.588Z"
   },
   {
    "duration": 27,
    "start_time": "2021-12-21T07:52:05.598Z"
   },
   {
    "duration": 8594,
    "start_time": "2021-12-21T07:52:05.627Z"
   },
   {
    "duration": -42,
    "start_time": "2021-12-21T07:52:14.266Z"
   },
   {
    "duration": -47,
    "start_time": "2021-12-21T07:52:14.273Z"
   },
   {
    "duration": -49,
    "start_time": "2021-12-21T07:52:14.276Z"
   },
   {
    "duration": -50,
    "start_time": "2021-12-21T07:52:14.278Z"
   },
   {
    "duration": -50,
    "start_time": "2021-12-21T07:52:14.280Z"
   },
   {
    "duration": -52,
    "start_time": "2021-12-21T07:52:14.283Z"
   },
   {
    "duration": -58,
    "start_time": "2021-12-21T07:52:14.290Z"
   },
   {
    "duration": -60,
    "start_time": "2021-12-21T07:52:14.294Z"
   },
   {
    "duration": -61,
    "start_time": "2021-12-21T07:52:14.296Z"
   },
   {
    "duration": -61,
    "start_time": "2021-12-21T07:52:14.297Z"
   },
   {
    "duration": -63,
    "start_time": "2021-12-21T07:52:14.300Z"
   },
   {
    "duration": -67,
    "start_time": "2021-12-21T07:52:14.306Z"
   },
   {
    "duration": -68,
    "start_time": "2021-12-21T07:52:14.308Z"
   },
   {
    "duration": -69,
    "start_time": "2021-12-21T07:52:14.310Z"
   },
   {
    "duration": -70,
    "start_time": "2021-12-21T07:52:14.312Z"
   },
   {
    "duration": -70,
    "start_time": "2021-12-21T07:52:14.314Z"
   },
   {
    "duration": -71,
    "start_time": "2021-12-21T07:52:14.316Z"
   },
   {
    "duration": -76,
    "start_time": "2021-12-21T07:52:14.322Z"
   },
   {
    "duration": -76,
    "start_time": "2021-12-21T07:52:14.324Z"
   },
   {
    "duration": -77,
    "start_time": "2021-12-21T07:52:14.326Z"
   },
   {
    "duration": -77,
    "start_time": "2021-12-21T07:52:14.328Z"
   },
   {
    "duration": -78,
    "start_time": "2021-12-21T07:52:14.330Z"
   },
   {
    "duration": 4,
    "start_time": "2021-12-21T07:54:18.656Z"
   },
   {
    "duration": 205,
    "start_time": "2021-12-21T07:54:18.664Z"
   },
   {
    "duration": 17,
    "start_time": "2021-12-21T07:54:18.873Z"
   },
   {
    "duration": 57,
    "start_time": "2021-12-21T07:54:18.894Z"
   },
   {
    "duration": 6,
    "start_time": "2021-12-21T07:54:18.955Z"
   },
   {
    "duration": 21,
    "start_time": "2021-12-21T07:54:18.964Z"
   },
   {
    "duration": 36,
    "start_time": "2021-12-21T07:54:18.988Z"
   },
   {
    "duration": 32,
    "start_time": "2021-12-21T07:54:19.030Z"
   },
   {
    "duration": 23,
    "start_time": "2021-12-21T07:54:19.066Z"
   },
   {
    "duration": 32,
    "start_time": "2021-12-21T07:54:19.124Z"
   },
   {
    "duration": 105,
    "start_time": "2021-12-21T07:54:19.159Z"
   },
   {
    "duration": 110,
    "start_time": "2021-12-21T07:54:19.267Z"
   },
   {
    "duration": 83,
    "start_time": "2021-12-21T07:54:19.379Z"
   },
   {
    "duration": 11,
    "start_time": "2021-12-21T07:54:19.465Z"
   },
   {
    "duration": 6,
    "start_time": "2021-12-21T07:54:19.479Z"
   },
   {
    "duration": 9580,
    "start_time": "2021-12-21T07:54:19.487Z"
   },
   {
    "duration": -25,
    "start_time": "2021-12-21T07:54:29.096Z"
   },
   {
    "duration": -26,
    "start_time": "2021-12-21T07:54:29.098Z"
   },
   {
    "duration": -27,
    "start_time": "2021-12-21T07:54:29.101Z"
   },
   {
    "duration": -27,
    "start_time": "2021-12-21T07:54:29.103Z"
   },
   {
    "duration": -29,
    "start_time": "2021-12-21T07:54:29.106Z"
   },
   {
    "duration": -30,
    "start_time": "2021-12-21T07:54:29.108Z"
   },
   {
    "duration": -32,
    "start_time": "2021-12-21T07:54:29.111Z"
   },
   {
    "duration": -31,
    "start_time": "2021-12-21T07:54:29.112Z"
   },
   {
    "duration": -32,
    "start_time": "2021-12-21T07:54:29.114Z"
   },
   {
    "duration": -32,
    "start_time": "2021-12-21T07:54:29.116Z"
   },
   {
    "duration": -38,
    "start_time": "2021-12-21T07:54:29.123Z"
   },
   {
    "duration": -38,
    "start_time": "2021-12-21T07:54:29.125Z"
   },
   {
    "duration": -38,
    "start_time": "2021-12-21T07:54:29.127Z"
   },
   {
    "duration": -39,
    "start_time": "2021-12-21T07:54:29.129Z"
   },
   {
    "duration": -40,
    "start_time": "2021-12-21T07:54:29.132Z"
   },
   {
    "duration": -40,
    "start_time": "2021-12-21T07:54:29.134Z"
   },
   {
    "duration": -41,
    "start_time": "2021-12-21T07:54:29.136Z"
   },
   {
    "duration": -42,
    "start_time": "2021-12-21T07:54:29.139Z"
   },
   {
    "duration": -43,
    "start_time": "2021-12-21T07:54:29.141Z"
   },
   {
    "duration": -43,
    "start_time": "2021-12-21T07:54:29.143Z"
   },
   {
    "duration": -44,
    "start_time": "2021-12-21T07:54:29.145Z"
   },
   {
    "duration": -45,
    "start_time": "2021-12-21T07:54:29.148Z"
   },
   {
    "duration": 4,
    "start_time": "2021-12-21T08:00:38.072Z"
   },
   {
    "duration": -10,
    "start_time": "2021-12-21T08:00:47.889Z"
   },
   {
    "duration": 132,
    "start_time": "2021-12-21T08:01:06.736Z"
   },
   {
    "duration": 9,
    "start_time": "2021-12-21T08:01:12.416Z"
   },
   {
    "duration": 3,
    "start_time": "2021-12-21T16:25:15.408Z"
   },
   {
    "duration": 196,
    "start_time": "2021-12-21T16:25:15.414Z"
   },
   {
    "duration": 15,
    "start_time": "2021-12-21T16:25:15.613Z"
   },
   {
    "duration": 49,
    "start_time": "2021-12-21T16:25:15.632Z"
   },
   {
    "duration": 5,
    "start_time": "2021-12-21T16:25:15.683Z"
   },
   {
    "duration": 29,
    "start_time": "2021-12-21T16:25:15.690Z"
   },
   {
    "duration": 6,
    "start_time": "2021-12-21T16:25:15.722Z"
   },
   {
    "duration": 76,
    "start_time": "2021-12-21T16:25:15.732Z"
   },
   {
    "duration": 51,
    "start_time": "2021-12-21T16:25:15.814Z"
   },
   {
    "duration": 28,
    "start_time": "2021-12-21T16:25:15.868Z"
   },
   {
    "duration": 106,
    "start_time": "2021-12-21T16:25:15.899Z"
   },
   {
    "duration": 104,
    "start_time": "2021-12-21T16:25:16.008Z"
   },
   {
    "duration": 83,
    "start_time": "2021-12-21T16:25:16.115Z"
   },
   {
    "duration": 7,
    "start_time": "2021-12-21T16:25:16.201Z"
   },
   {
    "duration": 4,
    "start_time": "2021-12-21T16:25:16.211Z"
   },
   {
    "duration": 7685,
    "start_time": "2021-12-21T16:25:16.217Z"
   },
   {
    "duration": -52,
    "start_time": "2021-12-21T16:25:23.958Z"
   },
   {
    "duration": -52,
    "start_time": "2021-12-21T16:25:23.960Z"
   },
   {
    "duration": -53,
    "start_time": "2021-12-21T16:25:23.962Z"
   },
   {
    "duration": -54,
    "start_time": "2021-12-21T16:25:23.965Z"
   },
   {
    "duration": -55,
    "start_time": "2021-12-21T16:25:23.968Z"
   },
   {
    "duration": -57,
    "start_time": "2021-12-21T16:25:23.971Z"
   },
   {
    "duration": -57,
    "start_time": "2021-12-21T16:25:23.973Z"
   },
   {
    "duration": -57,
    "start_time": "2021-12-21T16:25:23.975Z"
   },
   {
    "duration": -57,
    "start_time": "2021-12-21T16:25:23.977Z"
   },
   {
    "duration": -63,
    "start_time": "2021-12-21T16:25:23.984Z"
   },
   {
    "duration": -63,
    "start_time": "2021-12-21T16:25:23.986Z"
   },
   {
    "duration": -64,
    "start_time": "2021-12-21T16:25:23.989Z"
   },
   {
    "duration": -64,
    "start_time": "2021-12-21T16:25:23.991Z"
   },
   {
    "duration": -65,
    "start_time": "2021-12-21T16:25:23.993Z"
   },
   {
    "duration": -65,
    "start_time": "2021-12-21T16:25:23.995Z"
   },
   {
    "duration": -73,
    "start_time": "2021-12-21T16:25:24.005Z"
   },
   {
    "duration": -75,
    "start_time": "2021-12-21T16:25:24.008Z"
   },
   {
    "duration": -76,
    "start_time": "2021-12-21T16:25:24.011Z"
   },
   {
    "duration": -77,
    "start_time": "2021-12-21T16:25:24.014Z"
   },
   {
    "duration": -79,
    "start_time": "2021-12-21T16:25:24.017Z"
   },
   {
    "duration": -79,
    "start_time": "2021-12-21T16:25:24.019Z"
   },
   {
    "duration": -80,
    "start_time": "2021-12-21T16:25:24.022Z"
   },
   {
    "duration": 5,
    "start_time": "2021-12-21T16:25:57.705Z"
   },
   {
    "duration": 10848,
    "start_time": "2021-12-21T16:25:59.976Z"
   },
   {
    "duration": -55,
    "start_time": "2021-12-21T16:26:10.882Z"
   },
   {
    "duration": 717,
    "start_time": "2021-12-21T21:05:49.973Z"
   },
   {
    "duration": 172,
    "start_time": "2021-12-21T21:05:50.693Z"
   },
   {
    "duration": 27,
    "start_time": "2021-12-21T21:05:50.868Z"
   },
   {
    "duration": 51,
    "start_time": "2021-12-21T21:05:50.898Z"
   },
   {
    "duration": 7,
    "start_time": "2021-12-21T21:05:50.952Z"
   },
   {
    "duration": 29,
    "start_time": "2021-12-21T21:05:50.961Z"
   },
   {
    "duration": 32,
    "start_time": "2021-12-21T21:05:50.992Z"
   },
   {
    "duration": 32,
    "start_time": "2021-12-21T21:05:51.026Z"
   },
   {
    "duration": 23,
    "start_time": "2021-12-21T21:05:51.062Z"
   },
   {
    "duration": 47,
    "start_time": "2021-12-21T21:05:51.089Z"
   },
   {
    "duration": 104,
    "start_time": "2021-12-21T21:05:51.138Z"
   },
   {
    "duration": 105,
    "start_time": "2021-12-21T21:05:51.244Z"
   },
   {
    "duration": 83,
    "start_time": "2021-12-21T21:05:51.351Z"
   },
   {
    "duration": 8,
    "start_time": "2021-12-21T21:05:51.436Z"
   },
   {
    "duration": 5,
    "start_time": "2021-12-21T21:05:51.447Z"
   },
   {
    "duration": 9281,
    "start_time": "2021-12-21T21:05:51.455Z"
   },
   {
    "duration": -157,
    "start_time": "2021-12-21T21:06:00.896Z"
   },
   {
    "duration": -159,
    "start_time": "2021-12-21T21:06:00.900Z"
   },
   {
    "duration": -163,
    "start_time": "2021-12-21T21:06:00.905Z"
   },
   {
    "duration": -166,
    "start_time": "2021-12-21T21:06:00.910Z"
   },
   {
    "duration": -170,
    "start_time": "2021-12-21T21:06:00.916Z"
   },
   {
    "duration": -173,
    "start_time": "2021-12-21T21:06:00.921Z"
   },
   {
    "duration": -176,
    "start_time": "2021-12-21T21:06:00.925Z"
   },
   {
    "duration": -179,
    "start_time": "2021-12-21T21:06:00.930Z"
   },
   {
    "duration": -183,
    "start_time": "2021-12-21T21:06:00.935Z"
   },
   {
    "duration": -187,
    "start_time": "2021-12-21T21:06:00.940Z"
   },
   {
    "duration": -192,
    "start_time": "2021-12-21T21:06:00.947Z"
   },
   {
    "duration": -196,
    "start_time": "2021-12-21T21:06:00.952Z"
   },
   {
    "duration": -198,
    "start_time": "2021-12-21T21:06:00.956Z"
   },
   {
    "duration": -201,
    "start_time": "2021-12-21T21:06:00.960Z"
   },
   {
    "duration": -204,
    "start_time": "2021-12-21T21:06:00.964Z"
   },
   {
    "duration": -206,
    "start_time": "2021-12-21T21:06:00.968Z"
   },
   {
    "duration": -209,
    "start_time": "2021-12-21T21:06:00.972Z"
   },
   {
    "duration": -216,
    "start_time": "2021-12-21T21:06:00.981Z"
   },
   {
    "duration": -219,
    "start_time": "2021-12-21T21:06:00.985Z"
   },
   {
    "duration": -221,
    "start_time": "2021-12-21T21:06:00.989Z"
   },
   {
    "duration": -232,
    "start_time": "2021-12-21T21:06:01.001Z"
   },
   {
    "duration": -237,
    "start_time": "2021-12-21T21:06:01.007Z"
   },
   {
    "duration": 4,
    "start_time": "2021-12-21T21:07:50.753Z"
   },
   {
    "duration": 348,
    "start_time": "2021-12-21T21:09:04.673Z"
   },
   {
    "duration": 477,
    "start_time": "2021-12-21T21:09:09.688Z"
   },
   {
    "duration": 10610,
    "start_time": "2021-12-21T21:09:19.615Z"
   },
   {
    "duration": -181,
    "start_time": "2021-12-21T21:09:30.411Z"
   },
   {
    "duration": 9185,
    "start_time": "2021-12-21T21:09:56.295Z"
   },
   {
    "duration": 4,
    "start_time": "2021-12-21T21:10:34.669Z"
   },
   {
    "duration": 9331,
    "start_time": "2021-12-21T21:10:37.453Z"
   },
   {
    "duration": 8457,
    "start_time": "2021-12-21T21:10:56.276Z"
   },
   {
    "duration": 4,
    "start_time": "2021-12-21T21:13:05.156Z"
   },
   {
    "duration": 15,
    "start_time": "2021-12-21T21:13:14.766Z"
   },
   {
    "duration": 8,
    "start_time": "2021-12-21T21:13:29.259Z"
   },
   {
    "duration": 3,
    "start_time": "2021-12-22T06:03:59.508Z"
   },
   {
    "duration": 215,
    "start_time": "2021-12-22T06:03:59.517Z"
   },
   {
    "duration": 17,
    "start_time": "2021-12-22T06:03:59.734Z"
   },
   {
    "duration": 34,
    "start_time": "2021-12-22T06:03:59.754Z"
   },
   {
    "duration": 5,
    "start_time": "2021-12-22T06:03:59.791Z"
   },
   {
    "duration": 27,
    "start_time": "2021-12-22T06:03:59.824Z"
   },
   {
    "duration": 5,
    "start_time": "2021-12-22T06:03:59.853Z"
   },
   {
    "duration": 35,
    "start_time": "2021-12-22T06:03:59.861Z"
   },
   {
    "duration": 24,
    "start_time": "2021-12-22T06:03:59.927Z"
   },
   {
    "duration": 65,
    "start_time": "2021-12-22T06:03:59.955Z"
   },
   {
    "duration": 109,
    "start_time": "2021-12-22T06:04:00.024Z"
   },
   {
    "duration": 108,
    "start_time": "2021-12-22T06:04:00.136Z"
   },
   {
    "duration": 85,
    "start_time": "2021-12-22T06:04:00.246Z"
   },
   {
    "duration": 9,
    "start_time": "2021-12-22T06:04:00.334Z"
   },
   {
    "duration": 8,
    "start_time": "2021-12-22T06:04:00.345Z"
   },
   {
    "duration": 650,
    "start_time": "2021-12-22T06:04:00.356Z"
   },
   {
    "duration": -86,
    "start_time": "2021-12-22T06:04:01.095Z"
   },
   {
    "duration": -94,
    "start_time": "2021-12-22T06:04:01.105Z"
   },
   {
    "duration": -99,
    "start_time": "2021-12-22T06:04:01.112Z"
   },
   {
    "duration": -102,
    "start_time": "2021-12-22T06:04:01.116Z"
   },
   {
    "duration": -104,
    "start_time": "2021-12-22T06:04:01.120Z"
   },
   {
    "duration": -106,
    "start_time": "2021-12-22T06:04:01.124Z"
   },
   {
    "duration": -109,
    "start_time": "2021-12-22T06:04:01.128Z"
   },
   {
    "duration": -111,
    "start_time": "2021-12-22T06:04:01.131Z"
   },
   {
    "duration": -113,
    "start_time": "2021-12-22T06:04:01.135Z"
   },
   {
    "duration": -114,
    "start_time": "2021-12-22T06:04:01.138Z"
   },
   {
    "duration": -116,
    "start_time": "2021-12-22T06:04:01.142Z"
   },
   {
    "duration": -117,
    "start_time": "2021-12-22T06:04:01.146Z"
   },
   {
    "duration": -120,
    "start_time": "2021-12-22T06:04:01.150Z"
   },
   {
    "duration": -123,
    "start_time": "2021-12-22T06:04:01.155Z"
   },
   {
    "duration": -125,
    "start_time": "2021-12-22T06:04:01.158Z"
   },
   {
    "duration": -126,
    "start_time": "2021-12-22T06:04:01.163Z"
   },
   {
    "duration": -137,
    "start_time": "2021-12-22T06:04:01.176Z"
   },
   {
    "duration": -140,
    "start_time": "2021-12-22T06:04:01.180Z"
   },
   {
    "duration": -141,
    "start_time": "2021-12-22T06:04:01.183Z"
   },
   {
    "duration": -144,
    "start_time": "2021-12-22T06:04:01.187Z"
   },
   {
    "duration": -147,
    "start_time": "2021-12-22T06:04:01.192Z"
   },
   {
    "duration": -150,
    "start_time": "2021-12-22T06:04:01.197Z"
   },
   {
    "duration": 4,
    "start_time": "2021-12-22T06:05:49.476Z"
   },
   {
    "duration": 865,
    "start_time": "2021-12-22T06:05:51.637Z"
   },
   {
    "duration": 4,
    "start_time": "2021-12-22T06:07:14.296Z"
   },
   {
    "duration": 720,
    "start_time": "2021-12-22T06:07:43.630Z"
   },
   {
    "duration": 933,
    "start_time": "2021-12-22T06:08:07.505Z"
   },
   {
    "duration": 668,
    "start_time": "2021-12-22T06:08:21.948Z"
   },
   {
    "duration": 675,
    "start_time": "2021-12-22T06:08:29.536Z"
   },
   {
    "duration": 3,
    "start_time": "2021-12-22T06:09:08.597Z"
   },
   {
    "duration": 14,
    "start_time": "2021-12-22T06:09:11.904Z"
   },
   {
    "duration": 8,
    "start_time": "2021-12-22T06:09:24.477Z"
   },
   {
    "duration": 5,
    "start_time": "2021-12-22T06:09:45.932Z"
   },
   {
    "duration": 223,
    "start_time": "2021-12-22T06:09:45.941Z"
   },
   {
    "duration": 15,
    "start_time": "2021-12-22T06:09:46.167Z"
   },
   {
    "duration": 48,
    "start_time": "2021-12-22T06:09:46.185Z"
   },
   {
    "duration": 7,
    "start_time": "2021-12-22T06:09:46.236Z"
   },
   {
    "duration": 38,
    "start_time": "2021-12-22T06:09:46.245Z"
   },
   {
    "duration": 5,
    "start_time": "2021-12-22T06:09:46.285Z"
   },
   {
    "duration": 60,
    "start_time": "2021-12-22T06:09:46.292Z"
   },
   {
    "duration": 22,
    "start_time": "2021-12-22T06:09:46.356Z"
   },
   {
    "duration": 50,
    "start_time": "2021-12-22T06:09:46.381Z"
   },
   {
    "duration": 97,
    "start_time": "2021-12-22T06:09:46.434Z"
   },
   {
    "duration": 104,
    "start_time": "2021-12-22T06:09:46.535Z"
   },
   {
    "duration": 82,
    "start_time": "2021-12-22T06:09:46.641Z"
   },
   {
    "duration": 10,
    "start_time": "2021-12-22T06:09:46.725Z"
   },
   {
    "duration": 13,
    "start_time": "2021-12-22T06:09:46.738Z"
   },
   {
    "duration": 16,
    "start_time": "2021-12-22T06:09:46.754Z"
   },
   {
    "duration": 9,
    "start_time": "2021-12-22T06:09:46.773Z"
   },
   {
    "duration": 38,
    "start_time": "2021-12-22T06:09:46.785Z"
   },
   {
    "duration": 9,
    "start_time": "2021-12-22T06:09:46.827Z"
   },
   {
    "duration": 25,
    "start_time": "2021-12-22T06:09:46.839Z"
   },
   {
    "duration": 19,
    "start_time": "2021-12-22T06:09:46.866Z"
   },
   {
    "duration": 10,
    "start_time": "2021-12-22T06:09:46.887Z"
   },
   {
    "duration": 18,
    "start_time": "2021-12-22T06:09:46.899Z"
   },
   {
    "duration": 17,
    "start_time": "2021-12-22T06:09:46.920Z"
   },
   {
    "duration": 16,
    "start_time": "2021-12-22T06:09:46.939Z"
   },
   {
    "duration": 26,
    "start_time": "2021-12-22T06:09:46.957Z"
   },
   {
    "duration": 25,
    "start_time": "2021-12-22T06:09:46.987Z"
   },
   {
    "duration": 19,
    "start_time": "2021-12-22T06:09:47.015Z"
   },
   {
    "duration": 21,
    "start_time": "2021-12-22T06:09:47.036Z"
   },
   {
    "duration": 14,
    "start_time": "2021-12-22T06:09:47.060Z"
   },
   {
    "duration": 26,
    "start_time": "2021-12-22T06:09:47.076Z"
   },
   {
    "duration": 16,
    "start_time": "2021-12-22T06:09:47.104Z"
   },
   {
    "duration": 34,
    "start_time": "2021-12-22T06:09:47.123Z"
   },
   {
    "duration": 7,
    "start_time": "2021-12-22T06:09:47.160Z"
   },
   {
    "duration": 5,
    "start_time": "2021-12-22T06:09:47.169Z"
   },
   {
    "duration": 5,
    "start_time": "2021-12-22T06:09:47.176Z"
   },
   {
    "duration": 6,
    "start_time": "2021-12-22T06:09:47.183Z"
   },
   {
    "duration": 7,
    "start_time": "2021-12-22T06:09:47.191Z"
   },
   {
    "duration": 3,
    "start_time": "2021-12-22T06:11:41.514Z"
   },
   {
    "duration": 244,
    "start_time": "2021-12-22T06:11:41.520Z"
   },
   {
    "duration": 16,
    "start_time": "2021-12-22T06:11:41.767Z"
   },
   {
    "duration": 64,
    "start_time": "2021-12-22T06:11:41.786Z"
   },
   {
    "duration": 21,
    "start_time": "2021-12-22T06:11:41.853Z"
   },
   {
    "duration": 25,
    "start_time": "2021-12-22T06:11:41.877Z"
   },
   {
    "duration": 11,
    "start_time": "2021-12-22T06:11:41.906Z"
   },
   {
    "duration": 64,
    "start_time": "2021-12-22T06:11:41.931Z"
   },
   {
    "duration": 24,
    "start_time": "2021-12-22T06:11:41.998Z"
   },
   {
    "duration": 57,
    "start_time": "2021-12-22T06:11:42.025Z"
   },
   {
    "duration": 101,
    "start_time": "2021-12-22T06:11:42.085Z"
   },
   {
    "duration": 107,
    "start_time": "2021-12-22T06:11:42.188Z"
   },
   {
    "duration": 89,
    "start_time": "2021-12-22T06:11:42.297Z"
   },
   {
    "duration": 9,
    "start_time": "2021-12-22T06:11:42.389Z"
   },
   {
    "duration": 30,
    "start_time": "2021-12-22T06:11:42.401Z"
   },
   {
    "duration": 51,
    "start_time": "2021-12-22T06:11:42.435Z"
   },
   {
    "duration": 33,
    "start_time": "2021-12-22T06:11:42.490Z"
   },
   {
    "duration": 14,
    "start_time": "2021-12-22T06:11:42.526Z"
   },
   {
    "duration": 22,
    "start_time": "2021-12-22T06:11:42.545Z"
   },
   {
    "duration": 27,
    "start_time": "2021-12-22T06:11:42.570Z"
   },
   {
    "duration": 42,
    "start_time": "2021-12-22T06:11:42.600Z"
   },
   {
    "duration": 25,
    "start_time": "2021-12-22T06:11:42.645Z"
   },
   {
    "duration": 23,
    "start_time": "2021-12-22T06:11:42.672Z"
   },
   {
    "duration": 8,
    "start_time": "2021-12-22T06:11:42.698Z"
   },
   {
    "duration": 28,
    "start_time": "2021-12-22T06:11:42.708Z"
   },
   {
    "duration": 28,
    "start_time": "2021-12-22T06:11:42.739Z"
   },
   {
    "duration": 12,
    "start_time": "2021-12-22T06:11:42.770Z"
   },
   {
    "duration": 29,
    "start_time": "2021-12-22T06:11:42.785Z"
   },
   {
    "duration": 27,
    "start_time": "2021-12-22T06:11:42.816Z"
   },
   {
    "duration": 24,
    "start_time": "2021-12-22T06:11:42.846Z"
   },
   {
    "duration": 37,
    "start_time": "2021-12-22T06:11:42.873Z"
   },
   {
    "duration": 20,
    "start_time": "2021-12-22T06:11:42.913Z"
   },
   {
    "duration": 40,
    "start_time": "2021-12-22T06:11:42.936Z"
   },
   {
    "duration": 19,
    "start_time": "2021-12-22T06:11:42.978Z"
   },
   {
    "duration": 30,
    "start_time": "2021-12-22T06:11:42.999Z"
   },
   {
    "duration": 19,
    "start_time": "2021-12-22T06:11:43.032Z"
   },
   {
    "duration": 29,
    "start_time": "2021-12-22T06:11:43.053Z"
   },
   {
    "duration": 27,
    "start_time": "2021-12-22T06:11:43.084Z"
   },
   {
    "duration": -344,
    "start_time": "2021-12-22T06:18:27.492Z"
   },
   {
    "duration": 29,
    "start_time": "2021-12-22T06:18:28.934Z"
   },
   {
    "duration": 28,
    "start_time": "2021-12-22T06:18:30.371Z"
   },
   {
    "duration": 5980,
    "start_time": "2021-12-22T06:18:31.996Z"
   },
   {
    "duration": -351,
    "start_time": "2021-12-22T06:18:38.331Z"
   },
   {
    "duration": 12182,
    "start_time": "2021-12-22T06:18:54.563Z"
   },
   {
    "duration": -345,
    "start_time": "2021-12-22T06:19:07.094Z"
   },
   {
    "duration": 3076,
    "start_time": "2021-12-22T06:19:46.259Z"
   },
   {
    "duration": 28,
    "start_time": "2021-12-22T06:19:49.538Z"
   },
   {
    "duration": 8692,
    "start_time": "2021-12-22T06:20:46.692Z"
   },
   {
    "duration": -347,
    "start_time": "2021-12-22T06:20:55.734Z"
   },
   {
    "duration": 21,
    "start_time": "2021-12-22T06:21:01.691Z"
   },
   {
    "duration": 22,
    "start_time": "2021-12-22T06:21:02.698Z"
   },
   {
    "duration": 32,
    "start_time": "2021-12-22T06:21:03.618Z"
   },
   {
    "duration": 10,
    "start_time": "2021-12-22T06:24:03.932Z"
   },
   {
    "duration": 247,
    "start_time": "2021-12-22T06:24:03.946Z"
   },
   {
    "duration": 15,
    "start_time": "2021-12-22T06:24:04.196Z"
   },
   {
    "duration": 58,
    "start_time": "2021-12-22T06:24:04.225Z"
   },
   {
    "duration": 5,
    "start_time": "2021-12-22T06:24:04.286Z"
   },
   {
    "duration": 32,
    "start_time": "2021-12-22T06:24:04.293Z"
   },
   {
    "duration": 6,
    "start_time": "2021-12-22T06:24:04.328Z"
   },
   {
    "duration": 44,
    "start_time": "2021-12-22T06:24:04.338Z"
   },
   {
    "duration": 54,
    "start_time": "2021-12-22T06:24:04.386Z"
   },
   {
    "duration": 32,
    "start_time": "2021-12-22T06:24:04.444Z"
   },
   {
    "duration": 107,
    "start_time": "2021-12-22T06:24:04.478Z"
   },
   {
    "duration": 111,
    "start_time": "2021-12-22T06:24:04.587Z"
   },
   {
    "duration": 90,
    "start_time": "2021-12-22T06:24:04.700Z"
   },
   {
    "duration": 8,
    "start_time": "2021-12-22T06:24:04.793Z"
   },
   {
    "duration": 20,
    "start_time": "2021-12-22T06:24:04.803Z"
   },
   {
    "duration": 20,
    "start_time": "2021-12-22T06:24:04.825Z"
   },
   {
    "duration": 8,
    "start_time": "2021-12-22T06:24:04.847Z"
   },
   {
    "duration": 7,
    "start_time": "2021-12-22T06:24:04.858Z"
   },
   {
    "duration": 7,
    "start_time": "2021-12-22T06:24:04.868Z"
   },
   {
    "duration": 6,
    "start_time": "2021-12-22T06:24:04.878Z"
   },
   {
    "duration": 47,
    "start_time": "2021-12-22T06:24:04.886Z"
   },
   {
    "duration": 11,
    "start_time": "2021-12-22T06:24:04.936Z"
   },
   {
    "duration": 3,
    "start_time": "2021-12-22T06:24:04.952Z"
   },
   {
    "duration": 5,
    "start_time": "2021-12-22T06:24:04.958Z"
   },
   {
    "duration": 6,
    "start_time": "2021-12-22T06:24:04.965Z"
   },
   {
    "duration": 7,
    "start_time": "2021-12-22T06:24:04.973Z"
   },
   {
    "duration": 6,
    "start_time": "2021-12-22T06:24:04.983Z"
   },
   {
    "duration": 5,
    "start_time": "2021-12-22T06:24:04.991Z"
   },
   {
    "duration": 8,
    "start_time": "2021-12-22T06:24:05.025Z"
   },
   {
    "duration": 15,
    "start_time": "2021-12-22T06:24:05.037Z"
   },
   {
    "duration": 14,
    "start_time": "2021-12-22T06:24:05.055Z"
   },
   {
    "duration": 7,
    "start_time": "2021-12-22T06:24:05.071Z"
   },
   {
    "duration": 10,
    "start_time": "2021-12-22T06:24:05.080Z"
   },
   {
    "duration": 6,
    "start_time": "2021-12-22T06:24:05.092Z"
   },
   {
    "duration": 23,
    "start_time": "2021-12-22T06:24:05.100Z"
   },
   {
    "duration": 18,
    "start_time": "2021-12-22T06:24:05.126Z"
   },
   {
    "duration": 8,
    "start_time": "2021-12-22T06:24:05.147Z"
   },
   {
    "duration": 12,
    "start_time": "2021-12-22T06:24:05.157Z"
   },
   {
    "duration": 15,
    "start_time": "2021-12-22T06:25:30.793Z"
   },
   {
    "duration": 17,
    "start_time": "2021-12-22T06:26:14.714Z"
   },
   {
    "duration": 5,
    "start_time": "2021-12-22T06:31:03.313Z"
   },
   {
    "duration": 477,
    "start_time": "2021-12-22T06:31:38.641Z"
   },
   {
    "duration": 475,
    "start_time": "2021-12-22T06:32:05.897Z"
   },
   {
    "duration": 836,
    "start_time": "2021-12-22T06:32:14.953Z"
   },
   {
    "duration": 11576,
    "start_time": "2021-12-22T06:33:11.334Z"
   },
   {
    "duration": 5,
    "start_time": "2021-12-22T06:33:58.618Z"
   },
   {
    "duration": 11833,
    "start_time": "2021-12-22T06:34:07.540Z"
   },
   {
    "duration": 4,
    "start_time": "2021-12-22T06:35:01.836Z"
   },
   {
    "duration": 53,
    "start_time": "2021-12-22T06:35:15.513Z"
   },
   {
    "duration": 31,
    "start_time": "2021-12-22T06:38:04.760Z"
   },
   {
    "duration": 5,
    "start_time": "2021-12-22T06:38:23.352Z"
   },
   {
    "duration": 27,
    "start_time": "2021-12-22T06:38:26.666Z"
   },
   {
    "duration": 27,
    "start_time": "2021-12-22T06:38:28.240Z"
   },
   {
    "duration": 34,
    "start_time": "2021-12-22T06:38:29.220Z"
   },
   {
    "duration": 24,
    "start_time": "2021-12-22T06:38:30.175Z"
   },
   {
    "duration": 35,
    "start_time": "2021-12-22T06:38:31.399Z"
   },
   {
    "duration": 60,
    "start_time": "2021-12-22T06:38:32.256Z"
   },
   {
    "duration": 933,
    "start_time": "2021-12-22T11:53:35.590Z"
   },
   {
    "duration": 179,
    "start_time": "2021-12-22T11:53:36.526Z"
   },
   {
    "duration": 27,
    "start_time": "2021-12-22T11:53:36.708Z"
   },
   {
    "duration": 50,
    "start_time": "2021-12-22T11:53:36.738Z"
   },
   {
    "duration": 5,
    "start_time": "2021-12-22T11:53:36.791Z"
   },
   {
    "duration": 28,
    "start_time": "2021-12-22T11:53:36.798Z"
   },
   {
    "duration": 33,
    "start_time": "2021-12-22T11:53:36.829Z"
   },
   {
    "duration": 31,
    "start_time": "2021-12-22T11:53:36.865Z"
   },
   {
    "duration": 23,
    "start_time": "2021-12-22T11:53:36.900Z"
   },
   {
    "duration": 62,
    "start_time": "2021-12-22T11:53:36.926Z"
   },
   {
    "duration": 102,
    "start_time": "2021-12-22T11:53:36.991Z"
   },
   {
    "duration": 121,
    "start_time": "2021-12-22T11:53:37.096Z"
   },
   {
    "duration": 87,
    "start_time": "2021-12-22T11:53:37.220Z"
   },
   {
    "duration": 10,
    "start_time": "2021-12-22T11:53:37.310Z"
   },
   {
    "duration": 4,
    "start_time": "2021-12-22T11:53:37.322Z"
   },
   {
    "duration": 40,
    "start_time": "2021-12-22T11:53:37.328Z"
   },
   {
    "duration": 9,
    "start_time": "2021-12-22T11:53:37.370Z"
   },
   {
    "duration": 16,
    "start_time": "2021-12-22T11:53:37.382Z"
   },
   {
    "duration": 14,
    "start_time": "2021-12-22T11:53:37.401Z"
   },
   {
    "duration": 5,
    "start_time": "2021-12-22T11:53:37.417Z"
   },
   {
    "duration": 29,
    "start_time": "2021-12-22T11:53:37.460Z"
   },
   {
    "duration": 25,
    "start_time": "2021-12-22T11:53:37.491Z"
   },
   {
    "duration": 59,
    "start_time": "2021-12-22T11:53:37.521Z"
   },
   {
    "duration": 24,
    "start_time": "2021-12-22T11:53:37.583Z"
   },
   {
    "duration": 69,
    "start_time": "2021-12-22T11:53:37.610Z"
   },
   {
    "duration": 23,
    "start_time": "2021-12-22T11:53:37.682Z"
   },
   {
    "duration": 3,
    "start_time": "2021-12-22T11:53:37.707Z"
   },
   {
    "duration": 5,
    "start_time": "2021-12-22T11:53:37.712Z"
   },
   {
    "duration": 5,
    "start_time": "2021-12-22T11:53:37.720Z"
   },
   {
    "duration": 33,
    "start_time": "2021-12-22T11:53:37.727Z"
   },
   {
    "duration": 14,
    "start_time": "2021-12-22T11:53:37.762Z"
   },
   {
    "duration": 9,
    "start_time": "2021-12-22T11:53:37.778Z"
   },
   {
    "duration": 15,
    "start_time": "2021-12-22T11:53:37.789Z"
   },
   {
    "duration": 5,
    "start_time": "2021-12-22T11:53:37.807Z"
   },
   {
    "duration": 6,
    "start_time": "2021-12-22T11:53:37.814Z"
   },
   {
    "duration": 5,
    "start_time": "2021-12-22T11:53:37.822Z"
   },
   {
    "duration": 6,
    "start_time": "2021-12-22T11:53:37.829Z"
   },
   {
    "duration": 23,
    "start_time": "2021-12-22T11:53:37.837Z"
   },
   {
    "duration": 334,
    "start_time": "2021-12-22T11:58:55.907Z"
   },
   {
    "duration": 390,
    "start_time": "2021-12-22T11:59:02.137Z"
   },
   {
    "duration": 361,
    "start_time": "2021-12-22T11:59:09.955Z"
   },
   {
    "duration": 4,
    "start_time": "2021-12-22T12:01:09.156Z"
   },
   {
    "duration": 233,
    "start_time": "2021-12-22T12:01:09.162Z"
   },
   {
    "duration": 16,
    "start_time": "2021-12-22T12:01:09.398Z"
   },
   {
    "duration": 61,
    "start_time": "2021-12-22T12:01:09.418Z"
   },
   {
    "duration": 5,
    "start_time": "2021-12-22T12:01:09.482Z"
   },
   {
    "duration": 19,
    "start_time": "2021-12-22T12:01:09.490Z"
   },
   {
    "duration": 4,
    "start_time": "2021-12-22T12:01:09.513Z"
   },
   {
    "duration": 65,
    "start_time": "2021-12-22T12:01:09.519Z"
   },
   {
    "duration": 23,
    "start_time": "2021-12-22T12:01:09.586Z"
   },
   {
    "duration": 48,
    "start_time": "2021-12-22T12:01:09.611Z"
   },
   {
    "duration": 81,
    "start_time": "2021-12-22T12:01:09.661Z"
   },
   {
    "duration": 99,
    "start_time": "2021-12-22T12:01:09.760Z"
   },
   {
    "duration": 74,
    "start_time": "2021-12-22T12:01:09.861Z"
   },
   {
    "duration": 23,
    "start_time": "2021-12-22T12:01:09.937Z"
   },
   {
    "duration": 4,
    "start_time": "2021-12-22T12:01:09.963Z"
   },
   {
    "duration": 15,
    "start_time": "2021-12-22T12:01:09.969Z"
   },
   {
    "duration": 8,
    "start_time": "2021-12-22T12:01:09.986Z"
   },
   {
    "duration": 16,
    "start_time": "2021-12-22T12:01:09.996Z"
   },
   {
    "duration": 15,
    "start_time": "2021-12-22T12:01:10.061Z"
   },
   {
    "duration": 4,
    "start_time": "2021-12-22T12:01:10.079Z"
   },
   {
    "duration": 33,
    "start_time": "2021-12-22T12:01:10.086Z"
   },
   {
    "duration": 52,
    "start_time": "2021-12-22T12:01:10.122Z"
   },
   {
    "duration": 28,
    "start_time": "2021-12-22T12:01:10.177Z"
   },
   {
    "duration": 22,
    "start_time": "2021-12-22T12:01:10.207Z"
   },
   {
    "duration": 27,
    "start_time": "2021-12-22T12:01:10.260Z"
   },
   {
    "duration": 24,
    "start_time": "2021-12-22T12:01:10.290Z"
   },
   {
    "duration": 358,
    "start_time": "2021-12-22T12:01:10.316Z"
   },
   {
    "duration": -14,
    "start_time": "2021-12-22T12:01:10.690Z"
   },
   {
    "duration": -20,
    "start_time": "2021-12-22T12:01:10.697Z"
   },
   {
    "duration": -21,
    "start_time": "2021-12-22T12:01:10.700Z"
   },
   {
    "duration": -23,
    "start_time": "2021-12-22T12:01:10.703Z"
   },
   {
    "duration": -23,
    "start_time": "2021-12-22T12:01:10.704Z"
   },
   {
    "duration": -25,
    "start_time": "2021-12-22T12:01:10.707Z"
   },
   {
    "duration": -30,
    "start_time": "2021-12-22T12:01:10.714Z"
   },
   {
    "duration": -32,
    "start_time": "2021-12-22T12:01:10.717Z"
   },
   {
    "duration": -33,
    "start_time": "2021-12-22T12:01:10.719Z"
   },
   {
    "duration": -33,
    "start_time": "2021-12-22T12:01:10.721Z"
   },
   {
    "duration": -33,
    "start_time": "2021-12-22T12:01:10.722Z"
   },
   {
    "duration": 28,
    "start_time": "2021-12-22T12:06:27.301Z"
   },
   {
    "duration": 26,
    "start_time": "2021-12-22T12:06:28.828Z"
   },
   {
    "duration": 29,
    "start_time": "2021-12-22T12:06:29.964Z"
   },
   {
    "duration": 29,
    "start_time": "2021-12-22T12:06:31.205Z"
   },
   {
    "duration": 6,
    "start_time": "2021-12-22T12:07:48.701Z"
   },
   {
    "duration": 787,
    "start_time": "2021-12-22T12:07:52.509Z"
   },
   {
    "duration": 5,
    "start_time": "2021-12-22T12:08:54.197Z"
   },
   {
    "duration": 21,
    "start_time": "2021-12-22T12:08:56.668Z"
   },
   {
    "duration": 19,
    "start_time": "2021-12-22T12:08:58.702Z"
   },
   {
    "duration": 20,
    "start_time": "2021-12-22T12:09:00.188Z"
   },
   {
    "duration": 20,
    "start_time": "2021-12-22T12:09:01.069Z"
   },
   {
    "duration": 22,
    "start_time": "2021-12-22T12:09:02.588Z"
   },
   {
    "duration": 20,
    "start_time": "2021-12-22T12:09:03.732Z"
   },
   {
    "duration": 347,
    "start_time": "2021-12-22T12:10:01.662Z"
   },
   {
    "duration": 717,
    "start_time": "2021-12-22T12:11:21.597Z"
   },
   {
    "duration": 189,
    "start_time": "2021-12-22T12:11:22.317Z"
   },
   {
    "duration": 25,
    "start_time": "2021-12-22T12:11:22.509Z"
   },
   {
    "duration": 52,
    "start_time": "2021-12-22T12:11:22.537Z"
   },
   {
    "duration": 5,
    "start_time": "2021-12-22T12:11:22.591Z"
   },
   {
    "duration": 29,
    "start_time": "2021-12-22T12:11:22.599Z"
   },
   {
    "duration": 29,
    "start_time": "2021-12-22T12:11:22.630Z"
   },
   {
    "duration": 29,
    "start_time": "2021-12-22T12:11:22.663Z"
   },
   {
    "duration": 22,
    "start_time": "2021-12-22T12:11:22.696Z"
   },
   {
    "duration": 56,
    "start_time": "2021-12-22T12:11:22.720Z"
   },
   {
    "duration": 100,
    "start_time": "2021-12-22T12:11:22.778Z"
   },
   {
    "duration": 108,
    "start_time": "2021-12-22T12:11:22.881Z"
   },
   {
    "duration": 83,
    "start_time": "2021-12-22T12:11:22.992Z"
   },
   {
    "duration": 9,
    "start_time": "2021-12-22T12:11:23.077Z"
   },
   {
    "duration": 11,
    "start_time": "2021-12-22T12:11:23.088Z"
   },
   {
    "duration": 31,
    "start_time": "2021-12-22T12:11:23.101Z"
   },
   {
    "duration": 15,
    "start_time": "2021-12-22T12:11:23.134Z"
   },
   {
    "duration": 21,
    "start_time": "2021-12-22T12:11:23.152Z"
   },
   {
    "duration": 14,
    "start_time": "2021-12-22T12:11:23.175Z"
   },
   {
    "duration": 5,
    "start_time": "2021-12-22T12:11:23.191Z"
   },
   {
    "duration": 31,
    "start_time": "2021-12-22T12:11:23.198Z"
   },
   {
    "duration": 42,
    "start_time": "2021-12-22T12:11:23.232Z"
   },
   {
    "duration": 18,
    "start_time": "2021-12-22T12:11:23.279Z"
   },
   {
    "duration": 17,
    "start_time": "2021-12-22T12:11:23.300Z"
   },
   {
    "duration": 52,
    "start_time": "2021-12-22T12:11:23.320Z"
   },
   {
    "duration": 19,
    "start_time": "2021-12-22T12:11:23.375Z"
   },
   {
    "duration": 470,
    "start_time": "2021-12-22T12:11:23.396Z"
   },
   {
    "duration": -10,
    "start_time": "2021-12-22T12:11:23.879Z"
   },
   {
    "duration": -14,
    "start_time": "2021-12-22T12:11:23.885Z"
   },
   {
    "duration": -14,
    "start_time": "2021-12-22T12:11:23.887Z"
   },
   {
    "duration": -14,
    "start_time": "2021-12-22T12:11:23.889Z"
   },
   {
    "duration": -13,
    "start_time": "2021-12-22T12:11:23.891Z"
   },
   {
    "duration": -14,
    "start_time": "2021-12-22T12:11:23.894Z"
   },
   {
    "duration": -14,
    "start_time": "2021-12-22T12:11:23.896Z"
   },
   {
    "duration": -14,
    "start_time": "2021-12-22T12:11:23.899Z"
   },
   {
    "duration": -14,
    "start_time": "2021-12-22T12:11:23.901Z"
   },
   {
    "duration": -18,
    "start_time": "2021-12-22T12:11:23.906Z"
   },
   {
    "duration": -19,
    "start_time": "2021-12-22T12:11:23.909Z"
   },
   {
    "duration": 12,
    "start_time": "2021-12-22T12:11:48.738Z"
   },
   {
    "duration": 4,
    "start_time": "2021-12-22T12:17:43.048Z"
   },
   {
    "duration": 201,
    "start_time": "2021-12-22T12:17:43.055Z"
   },
   {
    "duration": 16,
    "start_time": "2021-12-22T12:17:43.260Z"
   },
   {
    "duration": 31,
    "start_time": "2021-12-22T12:17:43.279Z"
   },
   {
    "duration": 6,
    "start_time": "2021-12-22T12:17:43.312Z"
   },
   {
    "duration": 55,
    "start_time": "2021-12-22T12:17:43.320Z"
   },
   {
    "duration": 5,
    "start_time": "2021-12-22T12:17:43.377Z"
   },
   {
    "duration": 31,
    "start_time": "2021-12-22T12:17:43.387Z"
   },
   {
    "duration": 52,
    "start_time": "2021-12-22T12:17:43.421Z"
   },
   {
    "duration": 30,
    "start_time": "2021-12-22T12:17:43.476Z"
   },
   {
    "duration": 104,
    "start_time": "2021-12-22T12:17:43.508Z"
   },
   {
    "duration": 108,
    "start_time": "2021-12-22T12:17:43.615Z"
   },
   {
    "duration": 96,
    "start_time": "2021-12-22T12:17:43.725Z"
   },
   {
    "duration": 8,
    "start_time": "2021-12-22T12:17:43.823Z"
   },
   {
    "duration": 4,
    "start_time": "2021-12-22T12:17:43.833Z"
   },
   {
    "duration": 30,
    "start_time": "2021-12-22T12:17:43.840Z"
   },
   {
    "duration": 9,
    "start_time": "2021-12-22T12:17:43.872Z"
   },
   {
    "duration": 15,
    "start_time": "2021-12-22T12:17:43.883Z"
   },
   {
    "duration": 14,
    "start_time": "2021-12-22T12:17:43.900Z"
   },
   {
    "duration": 43,
    "start_time": "2021-12-22T12:17:43.917Z"
   },
   {
    "duration": 25,
    "start_time": "2021-12-22T12:17:43.963Z"
   },
   {
    "duration": 17,
    "start_time": "2021-12-22T12:17:43.991Z"
   },
   {
    "duration": 56,
    "start_time": "2021-12-22T12:17:44.013Z"
   },
   {
    "duration": 18,
    "start_time": "2021-12-22T12:17:44.072Z"
   },
   {
    "duration": 20,
    "start_time": "2021-12-22T12:17:44.092Z"
   },
   {
    "duration": 55,
    "start_time": "2021-12-22T12:17:44.114Z"
   },
   {
    "duration": 12,
    "start_time": "2021-12-22T12:17:44.172Z"
   },
   {
    "duration": 4,
    "start_time": "2021-12-22T12:17:44.186Z"
   },
   {
    "duration": 4,
    "start_time": "2021-12-22T12:17:44.192Z"
   },
   {
    "duration": 9,
    "start_time": "2021-12-22T12:17:44.198Z"
   },
   {
    "duration": 8,
    "start_time": "2021-12-22T12:17:44.209Z"
   },
   {
    "duration": 4,
    "start_time": "2021-12-22T12:17:44.219Z"
   },
   {
    "duration": 35,
    "start_time": "2021-12-22T12:17:44.226Z"
   },
   {
    "duration": 5,
    "start_time": "2021-12-22T12:17:44.264Z"
   },
   {
    "duration": 7,
    "start_time": "2021-12-22T12:17:44.271Z"
   },
   {
    "duration": 5,
    "start_time": "2021-12-22T12:17:44.280Z"
   },
   {
    "duration": 4,
    "start_time": "2021-12-22T12:17:44.287Z"
   },
   {
    "duration": 5,
    "start_time": "2021-12-22T12:17:44.293Z"
   },
   {
    "duration": 20,
    "start_time": "2021-12-22T12:18:16.800Z"
   },
   {
    "duration": 33,
    "start_time": "2021-12-22T12:18:22.937Z"
   },
   {
    "duration": 11,
    "start_time": "2021-12-22T12:19:26.337Z"
   },
   {
    "duration": 29,
    "start_time": "2021-12-22T12:19:31.336Z"
   },
   {
    "duration": 16,
    "start_time": "2021-12-22T12:19:36.256Z"
   },
   {
    "duration": 16,
    "start_time": "2021-12-22T12:19:39.096Z"
   },
   {
    "duration": 112,
    "start_time": "2021-12-22T12:22:55.793Z"
   },
   {
    "duration": 114,
    "start_time": "2021-12-22T12:24:43.473Z"
   },
   {
    "duration": 6,
    "start_time": "2021-12-22T12:24:53.113Z"
   },
   {
    "duration": 5,
    "start_time": "2021-12-22T12:24:56.057Z"
   },
   {
    "duration": 11284,
    "start_time": "2021-12-22T12:26:43.721Z"
   },
   {
    "duration": 4,
    "start_time": "2021-12-22T12:27:20.757Z"
   },
   {
    "duration": 233,
    "start_time": "2021-12-22T12:27:20.765Z"
   },
   {
    "duration": 17,
    "start_time": "2021-12-22T12:27:21.001Z"
   },
   {
    "duration": 63,
    "start_time": "2021-12-22T12:27:21.023Z"
   },
   {
    "duration": 6,
    "start_time": "2021-12-22T12:27:21.089Z"
   },
   {
    "duration": 62,
    "start_time": "2021-12-22T12:27:21.098Z"
   },
   {
    "duration": 6,
    "start_time": "2021-12-22T12:27:21.163Z"
   },
   {
    "duration": 37,
    "start_time": "2021-12-22T12:27:21.173Z"
   },
   {
    "duration": 50,
    "start_time": "2021-12-22T12:27:21.213Z"
   },
   {
    "duration": 40,
    "start_time": "2021-12-22T12:27:21.266Z"
   },
   {
    "duration": 132,
    "start_time": "2021-12-22T12:27:21.309Z"
   },
   {
    "duration": 147,
    "start_time": "2021-12-22T12:27:21.444Z"
   },
   {
    "duration": 114,
    "start_time": "2021-12-22T12:27:21.594Z"
   },
   {
    "duration": 8,
    "start_time": "2021-12-22T12:27:21.711Z"
   },
   {
    "duration": 14,
    "start_time": "2021-12-22T12:27:21.721Z"
   },
   {
    "duration": 31,
    "start_time": "2021-12-22T12:27:21.738Z"
   },
   {
    "duration": 13,
    "start_time": "2021-12-22T12:27:21.772Z"
   },
   {
    "duration": 18,
    "start_time": "2021-12-22T12:27:21.789Z"
   },
   {
    "duration": 15,
    "start_time": "2021-12-22T12:27:21.810Z"
   },
   {
    "duration": 32,
    "start_time": "2021-12-22T12:27:21.827Z"
   },
   {
    "duration": 22,
    "start_time": "2021-12-22T12:27:21.862Z"
   },
   {
    "duration": 19,
    "start_time": "2021-12-22T12:27:21.887Z"
   },
   {
    "duration": 51,
    "start_time": "2021-12-22T12:27:21.911Z"
   },
   {
    "duration": 19,
    "start_time": "2021-12-22T12:27:21.965Z"
   },
   {
    "duration": 23,
    "start_time": "2021-12-22T12:27:21.987Z"
   },
   {
    "duration": 61,
    "start_time": "2021-12-22T12:27:22.014Z"
   },
   {
    "duration": 16,
    "start_time": "2021-12-22T12:27:22.079Z"
   },
   {
    "duration": 24,
    "start_time": "2021-12-22T12:27:22.098Z"
   },
   {
    "duration": 40,
    "start_time": "2021-12-22T12:27:22.126Z"
   },
   {
    "duration": 7,
    "start_time": "2021-12-22T12:27:22.169Z"
   },
   {
    "duration": 14951,
    "start_time": "2021-12-22T12:27:22.179Z"
   },
   {
    "duration": -31,
    "start_time": "2021-12-22T12:27:37.164Z"
   },
   {
    "duration": -35,
    "start_time": "2021-12-22T12:27:37.169Z"
   },
   {
    "duration": -37,
    "start_time": "2021-12-22T12:27:37.173Z"
   },
   {
    "duration": -40,
    "start_time": "2021-12-22T12:27:37.178Z"
   },
   {
    "duration": -41,
    "start_time": "2021-12-22T12:27:37.180Z"
   },
   {
    "duration": -42,
    "start_time": "2021-12-22T12:27:37.183Z"
   },
   {
    "duration": -43,
    "start_time": "2021-12-22T12:27:37.185Z"
   },
   {
    "duration": 105,
    "start_time": "2021-12-22T12:34:08.607Z"
   },
   {
    "duration": 110,
    "start_time": "2021-12-22T12:36:09.160Z"
   },
   {
    "duration": 6,
    "start_time": "2021-12-22T12:36:42.423Z"
   },
   {
    "duration": 8,
    "start_time": "2021-12-22T12:36:44.655Z"
   },
   {
    "duration": 25,
    "start_time": "2021-12-22T12:36:48.344Z"
   },
   {
    "duration": 22,
    "start_time": "2021-12-22T12:36:52.887Z"
   },
   {
    "duration": 23,
    "start_time": "2021-12-22T12:36:54.647Z"
   },
   {
    "duration": 21,
    "start_time": "2021-12-22T12:36:56.246Z"
   },
   {
    "duration": 116,
    "start_time": "2021-12-22T12:41:01.766Z"
   },
   {
    "duration": 17,
    "start_time": "2021-12-22T12:41:14.471Z"
   },
   {
    "duration": 23,
    "start_time": "2021-12-22T12:41:21.942Z"
   },
   {
    "duration": 11,
    "start_time": "2021-12-22T12:42:46.600Z"
   },
   {
    "duration": 11,
    "start_time": "2021-12-22T12:42:59.759Z"
   },
   {
    "duration": 4,
    "start_time": "2021-12-22T13:16:00.981Z"
   },
   {
    "duration": 279,
    "start_time": "2021-12-22T13:16:00.988Z"
   },
   {
    "duration": 21,
    "start_time": "2021-12-22T13:16:01.271Z"
   },
   {
    "duration": 35,
    "start_time": "2021-12-22T13:16:01.295Z"
   },
   {
    "duration": 31,
    "start_time": "2021-12-22T13:16:01.333Z"
   },
   {
    "duration": 56,
    "start_time": "2021-12-22T13:16:01.367Z"
   },
   {
    "duration": 6,
    "start_time": "2021-12-22T13:16:01.427Z"
   },
   {
    "duration": 51,
    "start_time": "2021-12-22T13:16:01.437Z"
   },
   {
    "duration": 26,
    "start_time": "2021-12-22T13:16:01.491Z"
   },
   {
    "duration": 59,
    "start_time": "2021-12-22T13:16:01.519Z"
   },
   {
    "duration": 373,
    "start_time": "2021-12-22T13:16:01.581Z"
   },
   {
    "duration": 176,
    "start_time": "2021-12-22T13:16:01.972Z"
   },
   {
    "duration": 179,
    "start_time": "2021-12-22T13:16:02.160Z"
   },
   {
    "duration": 20,
    "start_time": "2021-12-22T13:16:02.348Z"
   },
   {
    "duration": 7,
    "start_time": "2021-12-22T13:16:02.372Z"
   },
   {
    "duration": 20,
    "start_time": "2021-12-22T13:16:02.398Z"
   },
   {
    "duration": 9,
    "start_time": "2021-12-22T13:16:02.421Z"
   },
   {
    "duration": 35,
    "start_time": "2021-12-22T13:16:02.433Z"
   },
   {
    "duration": 19,
    "start_time": "2021-12-22T13:16:02.473Z"
   },
   {
    "duration": 6,
    "start_time": "2021-12-22T13:16:02.496Z"
   },
   {
    "duration": 29,
    "start_time": "2021-12-22T13:16:02.504Z"
   },
   {
    "duration": 24,
    "start_time": "2021-12-22T13:16:02.566Z"
   },
   {
    "duration": 19,
    "start_time": "2021-12-22T13:16:02.593Z"
   },
   {
    "duration": 19,
    "start_time": "2021-12-22T13:16:02.615Z"
   },
   {
    "duration": 25,
    "start_time": "2021-12-22T13:16:02.660Z"
   },
   {
    "duration": 19,
    "start_time": "2021-12-22T13:16:02.688Z"
   },
   {
    "duration": 12,
    "start_time": "2021-12-22T13:16:02.709Z"
   },
   {
    "duration": 22,
    "start_time": "2021-12-22T13:16:02.758Z"
   },
   {
    "duration": 14,
    "start_time": "2021-12-22T13:16:02.784Z"
   },
   {
    "duration": 6,
    "start_time": "2021-12-22T13:16:02.801Z"
   },
   {
    "duration": 79,
    "start_time": "2021-12-22T13:16:02.810Z"
   },
   {
    "duration": 19,
    "start_time": "2021-12-22T13:16:02.893Z"
   },
   {
    "duration": 25,
    "start_time": "2021-12-22T13:16:02.915Z"
   },
   {
    "duration": 28,
    "start_time": "2021-12-22T13:16:02.959Z"
   },
   {
    "duration": 10,
    "start_time": "2021-12-22T13:16:02.989Z"
   },
   {
    "duration": 7,
    "start_time": "2021-12-22T13:16:03.002Z"
   },
   {
    "duration": 9,
    "start_time": "2021-12-22T13:16:03.011Z"
   },
   {
    "duration": 8,
    "start_time": "2021-12-22T13:16:03.022Z"
   },
   {
    "duration": 481,
    "start_time": "2021-12-22T13:17:01.986Z"
   },
   {
    "duration": 387,
    "start_time": "2021-12-22T13:17:13.481Z"
   },
   {
    "duration": 10,
    "start_time": "2021-12-22T13:17:23.393Z"
   },
   {
    "duration": 7,
    "start_time": "2021-12-22T13:17:39.345Z"
   },
   {
    "duration": 4,
    "start_time": "2021-12-22T13:19:32.521Z"
   },
   {
    "duration": 219,
    "start_time": "2021-12-22T13:19:32.528Z"
   },
   {
    "duration": 23,
    "start_time": "2021-12-22T13:19:32.751Z"
   },
   {
    "duration": 36,
    "start_time": "2021-12-22T13:19:32.778Z"
   },
   {
    "duration": 7,
    "start_time": "2021-12-22T13:19:32.817Z"
   },
   {
    "duration": 27,
    "start_time": "2021-12-22T13:19:32.859Z"
   },
   {
    "duration": 6,
    "start_time": "2021-12-22T13:19:32.889Z"
   },
   {
    "duration": 32,
    "start_time": "2021-12-22T13:19:32.902Z"
   },
   {
    "duration": 49,
    "start_time": "2021-12-22T13:19:32.937Z"
   },
   {
    "duration": 29,
    "start_time": "2021-12-22T13:19:32.989Z"
   },
   {
    "duration": 112,
    "start_time": "2021-12-22T13:19:33.022Z"
   },
   {
    "duration": 110,
    "start_time": "2021-12-22T13:19:33.137Z"
   },
   {
    "duration": 86,
    "start_time": "2021-12-22T13:19:33.249Z"
   },
   {
    "duration": 26,
    "start_time": "2021-12-22T13:19:33.337Z"
   },
   {
    "duration": 14,
    "start_time": "2021-12-22T13:19:33.367Z"
   },
   {
    "duration": 15,
    "start_time": "2021-12-22T13:19:33.384Z"
   },
   {
    "duration": 8,
    "start_time": "2021-12-22T13:19:33.401Z"
   },
   {
    "duration": 15,
    "start_time": "2021-12-22T13:19:33.412Z"
   },
   {
    "duration": 52,
    "start_time": "2021-12-22T13:19:33.429Z"
   },
   {
    "duration": 4,
    "start_time": "2021-12-22T13:19:33.485Z"
   },
   {
    "duration": 25,
    "start_time": "2021-12-22T13:19:33.492Z"
   },
   {
    "duration": 57,
    "start_time": "2021-12-22T13:19:33.519Z"
   },
   {
    "duration": 19,
    "start_time": "2021-12-22T13:19:33.582Z"
   },
   {
    "duration": 18,
    "start_time": "2021-12-22T13:19:33.604Z"
   },
   {
    "duration": 52,
    "start_time": "2021-12-22T13:19:33.625Z"
   },
   {
    "duration": 20,
    "start_time": "2021-12-22T13:19:33.679Z"
   },
   {
    "duration": 13,
    "start_time": "2021-12-22T13:19:33.701Z"
   },
   {
    "duration": 58,
    "start_time": "2021-12-22T13:19:33.717Z"
   },
   {
    "duration": 19,
    "start_time": "2021-12-22T13:19:33.778Z"
   },
   {
    "duration": 6,
    "start_time": "2021-12-22T13:19:33.800Z"
   },
   {
    "duration": 62,
    "start_time": "2021-12-22T13:19:33.809Z"
   },
   {
    "duration": 20,
    "start_time": "2021-12-22T13:19:33.874Z"
   },
   {
    "duration": 23,
    "start_time": "2021-12-22T13:19:33.897Z"
   },
   {
    "duration": 50,
    "start_time": "2021-12-22T13:19:33.923Z"
   },
   {
    "duration": 15,
    "start_time": "2021-12-22T13:19:33.976Z"
   },
   {
    "duration": 8,
    "start_time": "2021-12-22T13:19:33.994Z"
   },
   {
    "duration": 12,
    "start_time": "2021-12-22T13:19:34.005Z"
   },
   {
    "duration": 43,
    "start_time": "2021-12-22T13:19:34.020Z"
   },
   {
    "duration": 4,
    "start_time": "2021-12-22T13:41:25.656Z"
   },
   {
    "duration": 249,
    "start_time": "2021-12-22T13:41:25.663Z"
   },
   {
    "duration": 24,
    "start_time": "2021-12-22T13:41:25.916Z"
   },
   {
    "duration": 56,
    "start_time": "2021-12-22T13:41:25.943Z"
   },
   {
    "duration": 7,
    "start_time": "2021-12-22T13:41:26.002Z"
   },
   {
    "duration": 64,
    "start_time": "2021-12-22T13:41:26.012Z"
   },
   {
    "duration": 7,
    "start_time": "2021-12-22T13:41:26.083Z"
   },
   {
    "duration": 44,
    "start_time": "2021-12-22T13:41:26.095Z"
   },
   {
    "duration": 34,
    "start_time": "2021-12-22T13:41:26.161Z"
   },
   {
    "duration": 35,
    "start_time": "2021-12-22T13:41:26.198Z"
   },
   {
    "duration": 156,
    "start_time": "2021-12-22T13:41:26.236Z"
   },
   {
    "duration": 131,
    "start_time": "2021-12-22T13:41:26.395Z"
   },
   {
    "duration": 105,
    "start_time": "2021-12-22T13:41:26.530Z"
   },
   {
    "duration": 22,
    "start_time": "2021-12-22T13:41:26.638Z"
   },
   {
    "duration": 8,
    "start_time": "2021-12-22T13:41:26.662Z"
   },
   {
    "duration": 18,
    "start_time": "2021-12-22T13:41:26.672Z"
   },
   {
    "duration": 13,
    "start_time": "2021-12-22T13:41:26.693Z"
   },
   {
    "duration": 15,
    "start_time": "2021-12-22T13:41:26.709Z"
   },
   {
    "duration": 22,
    "start_time": "2021-12-22T13:41:26.759Z"
   },
   {
    "duration": 11,
    "start_time": "2021-12-22T13:41:26.783Z"
   },
   {
    "duration": 25,
    "start_time": "2021-12-22T13:41:26.797Z"
   },
   {
    "duration": 52,
    "start_time": "2021-12-22T13:41:26.825Z"
   },
   {
    "duration": 25,
    "start_time": "2021-12-22T13:41:26.883Z"
   },
   {
    "duration": 49,
    "start_time": "2021-12-22T13:41:26.912Z"
   },
   {
    "duration": 31,
    "start_time": "2021-12-22T13:41:26.964Z"
   },
   {
    "duration": 22,
    "start_time": "2021-12-22T13:41:26.997Z"
   },
   {
    "duration": 43,
    "start_time": "2021-12-22T13:41:27.022Z"
   },
   {
    "duration": 27,
    "start_time": "2021-12-22T13:41:27.071Z"
   },
   {
    "duration": 16,
    "start_time": "2021-12-22T13:41:27.101Z"
   },
   {
    "duration": 6,
    "start_time": "2021-12-22T13:41:27.120Z"
   },
   {
    "duration": 60,
    "start_time": "2021-12-22T13:41:27.128Z"
   },
   {
    "duration": 19,
    "start_time": "2021-12-22T13:41:27.191Z"
   },
   {
    "duration": 58,
    "start_time": "2021-12-22T13:41:27.213Z"
   },
   {
    "duration": 18,
    "start_time": "2021-12-22T13:41:27.274Z"
   },
   {
    "duration": 10,
    "start_time": "2021-12-22T13:41:27.295Z"
   },
   {
    "duration": 6,
    "start_time": "2021-12-22T13:41:27.309Z"
   },
   {
    "duration": 55,
    "start_time": "2021-12-22T13:41:27.318Z"
   },
   {
    "duration": 19,
    "start_time": "2021-12-22T13:41:27.375Z"
   },
   {
    "duration": 3,
    "start_time": "2021-12-22T13:59:39.690Z"
   },
   {
    "duration": 187,
    "start_time": "2021-12-22T13:59:39.696Z"
   },
   {
    "duration": 16,
    "start_time": "2021-12-22T13:59:39.885Z"
   },
   {
    "duration": 33,
    "start_time": "2021-12-22T13:59:39.904Z"
   },
   {
    "duration": 5,
    "start_time": "2021-12-22T13:59:39.960Z"
   },
   {
    "duration": 24,
    "start_time": "2021-12-22T13:59:39.967Z"
   },
   {
    "duration": 5,
    "start_time": "2021-12-22T13:59:39.994Z"
   },
   {
    "duration": 63,
    "start_time": "2021-12-22T13:59:40.002Z"
   },
   {
    "duration": 25,
    "start_time": "2021-12-22T13:59:40.069Z"
   },
   {
    "duration": 31,
    "start_time": "2021-12-22T13:59:40.097Z"
   },
   {
    "duration": 82,
    "start_time": "2021-12-22T13:59:40.159Z"
   },
   {
    "duration": 104,
    "start_time": "2021-12-22T13:59:40.244Z"
   },
   {
    "duration": 77,
    "start_time": "2021-12-22T13:59:40.360Z"
   },
   {
    "duration": 25,
    "start_time": "2021-12-22T13:59:40.440Z"
   },
   {
    "duration": 4,
    "start_time": "2021-12-22T13:59:40.468Z"
   },
   {
    "duration": 16,
    "start_time": "2021-12-22T13:59:40.474Z"
   },
   {
    "duration": 8,
    "start_time": "2021-12-22T13:59:40.493Z"
   },
   {
    "duration": 14,
    "start_time": "2021-12-22T13:59:40.504Z"
   },
   {
    "duration": 16,
    "start_time": "2021-12-22T13:59:40.560Z"
   },
   {
    "duration": 5,
    "start_time": "2021-12-22T13:59:40.579Z"
   },
   {
    "duration": 28,
    "start_time": "2021-12-22T13:59:40.587Z"
   },
   {
    "duration": 53,
    "start_time": "2021-12-22T13:59:40.617Z"
   },
   {
    "duration": 18,
    "start_time": "2021-12-22T13:59:40.676Z"
   },
   {
    "duration": 18,
    "start_time": "2021-12-22T13:59:40.697Z"
   },
   {
    "duration": 54,
    "start_time": "2021-12-22T13:59:40.717Z"
   },
   {
    "duration": 18,
    "start_time": "2021-12-22T13:59:40.773Z"
   },
   {
    "duration": 12,
    "start_time": "2021-12-22T13:59:40.793Z"
   },
   {
    "duration": 20,
    "start_time": "2021-12-22T13:59:40.807Z"
   },
   {
    "duration": 45,
    "start_time": "2021-12-22T13:59:40.829Z"
   },
   {
    "duration": 6,
    "start_time": "2021-12-22T13:59:40.876Z"
   },
   {
    "duration": 28,
    "start_time": "2021-12-22T13:59:40.884Z"
   },
   {
    "duration": 45,
    "start_time": "2021-12-22T13:59:40.915Z"
   },
   {
    "duration": 22,
    "start_time": "2021-12-22T13:59:40.963Z"
   },
   {
    "duration": 15,
    "start_time": "2021-12-22T13:59:40.988Z"
   },
   {
    "duration": 11,
    "start_time": "2021-12-22T13:59:41.005Z"
   },
   {
    "duration": 43,
    "start_time": "2021-12-22T13:59:41.019Z"
   },
   {
    "duration": 11,
    "start_time": "2021-12-22T13:59:41.064Z"
   },
   {
    "duration": 7,
    "start_time": "2021-12-22T13:59:41.078Z"
   },
   {
    "duration": 4,
    "start_time": "2021-12-22T14:00:10.096Z"
   },
   {
    "duration": 189,
    "start_time": "2021-12-22T14:00:10.102Z"
   },
   {
    "duration": 16,
    "start_time": "2021-12-22T14:00:10.294Z"
   },
   {
    "duration": 53,
    "start_time": "2021-12-22T14:00:10.313Z"
   },
   {
    "duration": 7,
    "start_time": "2021-12-22T14:00:10.369Z"
   },
   {
    "duration": 30,
    "start_time": "2021-12-22T14:00:10.379Z"
   },
   {
    "duration": 6,
    "start_time": "2021-12-22T14:00:10.412Z"
   },
   {
    "duration": 30,
    "start_time": "2021-12-22T14:00:10.463Z"
   },
   {
    "duration": 22,
    "start_time": "2021-12-22T14:00:10.496Z"
   },
   {
    "duration": 45,
    "start_time": "2021-12-22T14:00:10.521Z"
   },
   {
    "duration": 109,
    "start_time": "2021-12-22T14:00:10.568Z"
   },
   {
    "duration": 113,
    "start_time": "2021-12-22T14:00:10.680Z"
   },
   {
    "duration": 93,
    "start_time": "2021-12-22T14:00:10.796Z"
   },
   {
    "duration": 10,
    "start_time": "2021-12-22T14:00:10.892Z"
   },
   {
    "duration": 5,
    "start_time": "2021-12-22T14:00:10.905Z"
   },
   {
    "duration": 15,
    "start_time": "2021-12-22T14:00:10.913Z"
   },
   {
    "duration": 9,
    "start_time": "2021-12-22T14:00:10.960Z"
   },
   {
    "duration": 16,
    "start_time": "2021-12-22T14:00:10.971Z"
   },
   {
    "duration": 17,
    "start_time": "2021-12-22T14:00:10.989Z"
   },
   {
    "duration": 6,
    "start_time": "2021-12-22T14:00:11.008Z"
   },
   {
    "duration": 25,
    "start_time": "2021-12-22T14:00:11.060Z"
   },
   {
    "duration": 26,
    "start_time": "2021-12-22T14:00:11.088Z"
   },
   {
    "duration": 45,
    "start_time": "2021-12-22T14:00:11.121Z"
   },
   {
    "duration": 21,
    "start_time": "2021-12-22T14:00:11.170Z"
   },
   {
    "duration": 23,
    "start_time": "2021-12-22T14:00:11.194Z"
   },
   {
    "duration": 27,
    "start_time": "2021-12-22T14:00:11.261Z"
   },
   {
    "duration": 12,
    "start_time": "2021-12-22T14:00:11.291Z"
   },
   {
    "duration": 21,
    "start_time": "2021-12-22T14:00:11.306Z"
   },
   {
    "duration": 40,
    "start_time": "2021-12-22T14:00:11.330Z"
   },
   {
    "duration": 5,
    "start_time": "2021-12-22T14:00:11.373Z"
   },
   {
    "duration": 29,
    "start_time": "2021-12-22T14:00:11.380Z"
   },
   {
    "duration": 49,
    "start_time": "2021-12-22T14:00:11.412Z"
   },
   {
    "duration": 22,
    "start_time": "2021-12-22T14:00:11.464Z"
   },
   {
    "duration": 17,
    "start_time": "2021-12-22T14:00:11.488Z"
   },
   {
    "duration": 11,
    "start_time": "2021-12-22T14:00:11.507Z"
   },
   {
    "duration": 41,
    "start_time": "2021-12-22T14:00:11.520Z"
   },
   {
    "duration": 9,
    "start_time": "2021-12-22T14:00:11.563Z"
   },
   {
    "duration": 6,
    "start_time": "2021-12-22T14:00:11.574Z"
   },
   {
    "duration": 555,
    "start_time": "2021-12-23T04:55:58.595Z"
   },
   {
    "duration": 139,
    "start_time": "2021-12-23T04:55:59.152Z"
   },
   {
    "duration": 17,
    "start_time": "2021-12-23T04:55:59.293Z"
   },
   {
    "duration": 31,
    "start_time": "2021-12-23T04:55:59.311Z"
   },
   {
    "duration": 14,
    "start_time": "2021-12-23T04:55:59.344Z"
   },
   {
    "duration": 32,
    "start_time": "2021-12-23T04:55:59.360Z"
   },
   {
    "duration": 4,
    "start_time": "2021-12-23T04:55:59.393Z"
   },
   {
    "duration": 31,
    "start_time": "2021-12-23T04:55:59.399Z"
   },
   {
    "duration": 23,
    "start_time": "2021-12-23T04:55:59.432Z"
   },
   {
    "duration": 23,
    "start_time": "2021-12-23T04:55:59.457Z"
   },
   {
    "duration": 59,
    "start_time": "2021-12-23T04:55:59.482Z"
   },
   {
    "duration": 81,
    "start_time": "2021-12-23T04:55:59.543Z"
   },
   {
    "duration": 64,
    "start_time": "2021-12-23T04:55:59.626Z"
   },
   {
    "duration": 6,
    "start_time": "2021-12-23T04:55:59.691Z"
   },
   {
    "duration": 3,
    "start_time": "2021-12-23T04:55:59.699Z"
   },
   {
    "duration": 10,
    "start_time": "2021-12-23T04:55:59.703Z"
   },
   {
    "duration": 5,
    "start_time": "2021-12-23T04:55:59.715Z"
   },
   {
    "duration": 10,
    "start_time": "2021-12-23T04:55:59.722Z"
   },
   {
    "duration": 10,
    "start_time": "2021-12-23T04:55:59.761Z"
   },
   {
    "duration": 3,
    "start_time": "2021-12-23T04:55:59.773Z"
   },
   {
    "duration": 20,
    "start_time": "2021-12-23T04:55:59.778Z"
   },
   {
    "duration": 14,
    "start_time": "2021-12-23T04:55:59.800Z"
   },
   {
    "duration": 13,
    "start_time": "2021-12-23T04:55:59.817Z"
   },
   {
    "duration": 38,
    "start_time": "2021-12-23T04:55:59.831Z"
   },
   {
    "duration": 15,
    "start_time": "2021-12-23T04:55:59.871Z"
   },
   {
    "duration": 13,
    "start_time": "2021-12-23T04:55:59.888Z"
   },
   {
    "duration": 8,
    "start_time": "2021-12-23T04:55:59.903Z"
   },
   {
    "duration": 12,
    "start_time": "2021-12-23T04:55:59.912Z"
   },
   {
    "duration": 41,
    "start_time": "2021-12-23T04:55:59.926Z"
   },
   {
    "duration": 3,
    "start_time": "2021-12-23T04:55:59.969Z"
   },
   {
    "duration": 21,
    "start_time": "2021-12-23T04:55:59.974Z"
   },
   {
    "duration": 13,
    "start_time": "2021-12-23T04:55:59.997Z"
   },
   {
    "duration": 19,
    "start_time": "2021-12-23T04:56:00.011Z"
   },
   {
    "duration": 39,
    "start_time": "2021-12-23T04:56:00.032Z"
   },
   {
    "duration": 8,
    "start_time": "2021-12-23T04:56:00.073Z"
   },
   {
    "duration": 6,
    "start_time": "2021-12-23T04:56:00.082Z"
   },
   {
    "duration": 11,
    "start_time": "2021-12-23T04:56:00.090Z"
   },
   {
    "duration": 7,
    "start_time": "2021-12-23T04:56:00.103Z"
   },
   {
    "duration": 397,
    "start_time": "2021-12-23T07:19:47.481Z"
   },
   {
    "duration": 1191,
    "start_time": "2021-12-23T07:20:00.226Z"
   },
   {
    "duration": 303,
    "start_time": "2021-12-23T07:20:01.421Z"
   },
   {
    "duration": 45,
    "start_time": "2021-12-23T07:20:01.728Z"
   },
   {
    "duration": 53,
    "start_time": "2021-12-23T07:20:01.777Z"
   },
   {
    "duration": 30,
    "start_time": "2021-12-23T07:20:01.833Z"
   },
   {
    "duration": 31,
    "start_time": "2021-12-23T07:20:01.867Z"
   },
   {
    "duration": 8,
    "start_time": "2021-12-23T07:20:01.901Z"
   },
   {
    "duration": 60,
    "start_time": "2021-12-23T07:20:01.915Z"
   },
   {
    "duration": 26,
    "start_time": "2021-12-23T07:20:01.979Z"
   },
   {
    "duration": 31,
    "start_time": "2021-12-23T07:20:02.008Z"
   },
   {
    "duration": 118,
    "start_time": "2021-12-23T07:20:02.041Z"
   },
   {
    "duration": 120,
    "start_time": "2021-12-23T07:20:02.161Z"
   },
   {
    "duration": 90,
    "start_time": "2021-12-23T07:20:02.284Z"
   },
   {
    "duration": 57,
    "start_time": "2021-12-23T07:20:02.376Z"
   },
   {
    "duration": 4,
    "start_time": "2021-12-23T07:20:02.436Z"
   },
   {
    "duration": 14,
    "start_time": "2021-12-23T07:20:02.461Z"
   },
   {
    "duration": 43,
    "start_time": "2021-12-23T07:20:02.478Z"
   },
   {
    "duration": 22,
    "start_time": "2021-12-23T07:20:02.524Z"
   },
   {
    "duration": 25,
    "start_time": "2021-12-23T07:20:02.549Z"
   },
   {
    "duration": 24,
    "start_time": "2021-12-23T07:20:02.577Z"
   },
   {
    "duration": 68,
    "start_time": "2021-12-23T07:20:02.604Z"
   },
   {
    "duration": 21,
    "start_time": "2021-12-23T07:20:02.675Z"
   },
   {
    "duration": 20,
    "start_time": "2021-12-23T07:20:02.701Z"
   },
   {
    "duration": 48,
    "start_time": "2021-12-23T07:20:02.724Z"
   },
   {
    "duration": 22,
    "start_time": "2021-12-23T07:20:02.775Z"
   },
   {
    "duration": 72,
    "start_time": "2021-12-23T07:20:02.801Z"
   },
   {
    "duration": 19,
    "start_time": "2021-12-23T07:20:02.877Z"
   },
   {
    "duration": 25,
    "start_time": "2021-12-23T07:20:02.899Z"
   },
   {
    "duration": 45,
    "start_time": "2021-12-23T07:20:02.927Z"
   },
   {
    "duration": 9,
    "start_time": "2021-12-23T07:20:02.975Z"
   },
   {
    "duration": 46,
    "start_time": "2021-12-23T07:20:02.987Z"
   },
   {
    "duration": 49,
    "start_time": "2021-12-23T07:20:03.036Z"
   },
   {
    "duration": 39,
    "start_time": "2021-12-23T07:20:03.089Z"
   },
   {
    "duration": 52,
    "start_time": "2021-12-23T07:20:03.131Z"
   },
   {
    "duration": 21,
    "start_time": "2021-12-23T07:20:03.186Z"
   },
   {
    "duration": 9,
    "start_time": "2021-12-23T07:20:03.210Z"
   },
   {
    "duration": 42,
    "start_time": "2021-12-23T07:20:03.222Z"
   },
   {
    "duration": 6,
    "start_time": "2021-12-23T07:20:03.267Z"
   },
   {
    "duration": 14,
    "start_time": "2021-12-23T07:22:46.152Z"
   },
   {
    "duration": 14,
    "start_time": "2021-12-23T07:22:52.575Z"
   },
   {
    "duration": 11,
    "start_time": "2021-12-23T07:35:42.100Z"
   },
   {
    "duration": 187,
    "start_time": "2021-12-23T07:35:48.246Z"
   },
   {
    "duration": 10,
    "start_time": "2021-12-23T07:35:49.381Z"
   },
   {
    "duration": 16,
    "start_time": "2021-12-23T07:35:56.806Z"
   },
   {
    "duration": 10,
    "start_time": "2021-12-23T07:36:08.070Z"
   },
   {
    "duration": 17,
    "start_time": "2021-12-23T07:36:16.582Z"
   },
   {
    "duration": 5,
    "start_time": "2021-12-23T07:36:44.750Z"
   },
   {
    "duration": 60,
    "start_time": "2021-12-23T07:37:08.134Z"
   },
   {
    "duration": 3,
    "start_time": "2021-12-23T07:38:17.643Z"
   },
   {
    "duration": 223,
    "start_time": "2021-12-23T07:38:17.649Z"
   },
   {
    "duration": 17,
    "start_time": "2021-12-23T07:38:17.875Z"
   },
   {
    "duration": 34,
    "start_time": "2021-12-23T07:38:17.894Z"
   },
   {
    "duration": 30,
    "start_time": "2021-12-23T07:38:17.930Z"
   },
   {
    "duration": 29,
    "start_time": "2021-12-23T07:38:17.963Z"
   },
   {
    "duration": 5,
    "start_time": "2021-12-23T07:38:17.995Z"
   },
   {
    "duration": 56,
    "start_time": "2021-12-23T07:38:18.006Z"
   },
   {
    "duration": 25,
    "start_time": "2021-12-23T07:38:18.066Z"
   },
   {
    "duration": 37,
    "start_time": "2021-12-23T07:38:18.093Z"
   },
   {
    "duration": 104,
    "start_time": "2021-12-23T07:38:18.133Z"
   },
   {
    "duration": 120,
    "start_time": "2021-12-23T07:38:18.240Z"
   },
   {
    "duration": 75,
    "start_time": "2021-12-23T07:38:18.362Z"
   },
   {
    "duration": 68,
    "start_time": "2021-12-23T07:38:18.439Z"
   },
   {
    "duration": 11,
    "start_time": "2021-12-23T07:38:18.509Z"
   },
   {
    "duration": 13,
    "start_time": "2021-12-23T07:38:18.522Z"
   },
   {
    "duration": 22,
    "start_time": "2021-12-23T07:38:18.537Z"
   },
   {
    "duration": 14,
    "start_time": "2021-12-23T07:38:18.561Z"
   },
   {
    "duration": 18,
    "start_time": "2021-12-23T07:38:18.578Z"
   },
   {
    "duration": 8,
    "start_time": "2021-12-23T07:38:18.598Z"
   },
   {
    "duration": 52,
    "start_time": "2021-12-23T07:38:18.608Z"
   },
   {
    "duration": 19,
    "start_time": "2021-12-23T07:38:18.663Z"
   },
   {
    "duration": 19,
    "start_time": "2021-12-23T07:38:18.687Z"
   },
   {
    "duration": 17,
    "start_time": "2021-12-23T07:38:18.709Z"
   },
   {
    "duration": 21,
    "start_time": "2021-12-23T07:38:18.760Z"
   },
   {
    "duration": 19,
    "start_time": "2021-12-23T07:38:18.783Z"
   },
   {
    "duration": 12,
    "start_time": "2021-12-23T07:38:18.804Z"
   },
   {
    "duration": 54,
    "start_time": "2021-12-23T07:38:18.818Z"
   },
   {
    "duration": 16,
    "start_time": "2021-12-23T07:38:18.875Z"
   },
   {
    "duration": 6,
    "start_time": "2021-12-23T07:38:18.893Z"
   },
   {
    "duration": 35,
    "start_time": "2021-12-23T07:38:18.901Z"
   },
   {
    "duration": 33,
    "start_time": "2021-12-23T07:38:18.939Z"
   },
   {
    "duration": 21,
    "start_time": "2021-12-23T07:38:18.974Z"
   },
   {
    "duration": 15,
    "start_time": "2021-12-23T07:38:18.997Z"
   },
   {
    "duration": 47,
    "start_time": "2021-12-23T07:38:19.015Z"
   },
   {
    "duration": 6,
    "start_time": "2021-12-23T07:38:19.065Z"
   },
   {
    "duration": 17,
    "start_time": "2021-12-23T07:38:19.074Z"
   },
   {
    "duration": 7,
    "start_time": "2021-12-23T07:38:19.093Z"
   },
   {
    "duration": 750,
    "start_time": "2021-12-23T20:39:37.553Z"
   },
   {
    "duration": 250,
    "start_time": "2021-12-23T20:39:38.305Z"
   },
   {
    "duration": 54,
    "start_time": "2021-12-23T20:39:38.559Z"
   },
   {
    "duration": 115,
    "start_time": "2021-12-23T20:39:38.617Z"
   },
   {
    "duration": 71,
    "start_time": "2021-12-23T20:39:38.735Z"
   },
   {
    "duration": 118,
    "start_time": "2021-12-23T20:39:38.809Z"
   },
   {
    "duration": 29,
    "start_time": "2021-12-23T20:39:38.930Z"
   },
   {
    "duration": 34,
    "start_time": "2021-12-23T20:39:38.962Z"
   },
   {
    "duration": 25,
    "start_time": "2021-12-23T20:39:39.000Z"
   },
   {
    "duration": 50,
    "start_time": "2021-12-23T20:39:39.027Z"
   },
   {
    "duration": 107,
    "start_time": "2021-12-23T20:39:39.081Z"
   },
   {
    "duration": 109,
    "start_time": "2021-12-23T20:39:39.191Z"
   },
   {
    "duration": 90,
    "start_time": "2021-12-23T20:39:39.302Z"
   },
   {
    "duration": 64,
    "start_time": "2021-12-23T20:39:39.396Z"
   },
   {
    "duration": 4,
    "start_time": "2021-12-23T20:39:39.462Z"
   },
   {
    "duration": 22,
    "start_time": "2021-12-23T20:39:39.468Z"
   },
   {
    "duration": 10,
    "start_time": "2021-12-23T20:39:39.492Z"
   },
   {
    "duration": 17,
    "start_time": "2021-12-23T20:39:39.504Z"
   },
   {
    "duration": 49,
    "start_time": "2021-12-23T20:39:39.524Z"
   },
   {
    "duration": 5,
    "start_time": "2021-12-23T20:39:39.575Z"
   },
   {
    "duration": 26,
    "start_time": "2021-12-23T20:39:39.582Z"
   },
   {
    "duration": 50,
    "start_time": "2021-12-23T20:39:39.610Z"
   },
   {
    "duration": 19,
    "start_time": "2021-12-23T20:39:39.665Z"
   },
   {
    "duration": 18,
    "start_time": "2021-12-23T20:39:39.687Z"
   },
   {
    "duration": 21,
    "start_time": "2021-12-23T20:39:39.708Z"
   },
   {
    "duration": 19,
    "start_time": "2021-12-23T20:39:39.760Z"
   },
   {
    "duration": 12,
    "start_time": "2021-12-23T20:39:39.781Z"
   },
   {
    "duration": 18,
    "start_time": "2021-12-23T20:39:39.795Z"
   },
   {
    "duration": 49,
    "start_time": "2021-12-23T20:39:39.816Z"
   },
   {
    "duration": 6,
    "start_time": "2021-12-23T20:39:39.868Z"
   },
   {
    "duration": 27,
    "start_time": "2021-12-23T20:39:39.877Z"
   },
   {
    "duration": 56,
    "start_time": "2021-12-23T20:39:39.907Z"
   },
   {
    "duration": 24,
    "start_time": "2021-12-23T20:39:39.966Z"
   },
   {
    "duration": 18,
    "start_time": "2021-12-23T20:39:39.993Z"
   },
   {
    "duration": 45,
    "start_time": "2021-12-23T20:39:40.014Z"
   },
   {
    "duration": 7,
    "start_time": "2021-12-23T20:39:40.061Z"
   },
   {
    "duration": 10,
    "start_time": "2021-12-23T20:39:40.070Z"
   },
   {
    "duration": 7,
    "start_time": "2021-12-23T20:39:40.082Z"
   },
   {
    "duration": 448,
    "start_time": "2022-06-15T07:16:31.754Z"
   },
   {
    "duration": 459,
    "start_time": "2022-06-15T07:16:32.204Z"
   },
   {
    "duration": 17,
    "start_time": "2022-06-15T07:16:32.665Z"
   },
   {
    "duration": 26,
    "start_time": "2022-06-15T07:16:32.684Z"
   },
   {
    "duration": 4,
    "start_time": "2022-06-15T07:16:32.712Z"
   },
   {
    "duration": 15,
    "start_time": "2022-06-15T07:16:32.718Z"
   },
   {
    "duration": 6,
    "start_time": "2022-06-15T07:16:32.735Z"
   },
   {
    "duration": 24,
    "start_time": "2022-06-15T07:16:32.743Z"
   },
   {
    "duration": 40,
    "start_time": "2022-06-15T07:16:32.768Z"
   },
   {
    "duration": 21,
    "start_time": "2022-06-15T07:16:32.811Z"
   },
   {
    "duration": 85,
    "start_time": "2022-06-15T07:16:32.833Z"
   },
   {
    "duration": 87,
    "start_time": "2022-06-15T07:16:32.920Z"
   },
   {
    "duration": 55,
    "start_time": "2022-06-15T07:16:33.009Z"
   },
   {
    "duration": 51,
    "start_time": "2022-06-15T07:16:33.066Z"
   },
   {
    "duration": 8,
    "start_time": "2022-06-15T07:16:33.119Z"
   },
   {
    "duration": 12,
    "start_time": "2022-06-15T07:16:33.129Z"
   },
   {
    "duration": 8,
    "start_time": "2022-06-15T07:16:33.143Z"
   },
   {
    "duration": 32,
    "start_time": "2022-06-15T07:16:33.152Z"
   },
   {
    "duration": 14,
    "start_time": "2022-06-15T07:16:33.186Z"
   },
   {
    "duration": 16,
    "start_time": "2022-06-15T07:16:33.201Z"
   },
   {
    "duration": 34,
    "start_time": "2022-06-15T07:16:33.219Z"
   },
   {
    "duration": 16,
    "start_time": "2022-06-15T07:16:33.255Z"
   },
   {
    "duration": 22,
    "start_time": "2022-06-15T07:16:33.273Z"
   },
   {
    "duration": 20,
    "start_time": "2022-06-15T07:16:33.297Z"
   },
   {
    "duration": 33,
    "start_time": "2022-06-15T07:16:33.319Z"
   },
   {
    "duration": 18,
    "start_time": "2022-06-15T07:16:33.354Z"
   },
   {
    "duration": 22,
    "start_time": "2022-06-15T07:16:33.373Z"
   },
   {
    "duration": 13,
    "start_time": "2022-06-15T07:16:33.398Z"
   },
   {
    "duration": 10,
    "start_time": "2022-06-15T07:16:33.413Z"
   },
   {
    "duration": 5,
    "start_time": "2022-06-15T07:16:33.425Z"
   },
   {
    "duration": 28,
    "start_time": "2022-06-15T07:16:33.432Z"
   },
   {
    "duration": 39,
    "start_time": "2022-06-15T07:16:33.462Z"
   },
   {
    "duration": 16,
    "start_time": "2022-06-15T07:16:33.503Z"
   },
   {
    "duration": 10,
    "start_time": "2022-06-15T07:16:33.520Z"
   },
   {
    "duration": 11,
    "start_time": "2022-06-15T07:16:33.531Z"
   },
   {
    "duration": 10,
    "start_time": "2022-06-15T07:16:33.543Z"
   },
   {
    "duration": 7,
    "start_time": "2022-06-15T07:16:33.555Z"
   },
   {
    "duration": 5,
    "start_time": "2022-06-15T07:16:33.563Z"
   }
  ],
  "colab": {
   "collapsed_sections": [
    "E0vqbgi9ay0H",
    "VUC88oWjTJw2"
   ],
   "name": "yandex_music_project_2021.2.ipynb",
   "provenance": []
  },
  "kernelspec": {
   "display_name": "Python 3 (ipykernel)",
   "language": "python",
   "name": "python3"
  },
  "language_info": {
   "codemirror_mode": {
    "name": "ipython",
    "version": 3
   },
   "file_extension": ".py",
   "mimetype": "text/x-python",
   "name": "python",
   "nbconvert_exporter": "python",
   "pygments_lexer": "ipython3",
   "version": "3.9.5"
  },
  "toc": {
   "base_numbering": 1,
   "nav_menu": {},
   "number_sections": true,
   "sideBar": true,
   "skip_h1_title": true,
   "title_cell": "Table of Contents",
   "title_sidebar": "Contents",
   "toc_cell": false,
   "toc_position": {},
   "toc_section_display": true,
   "toc_window_display": true
  }
 },
 "nbformat": 4,
 "nbformat_minor": 1
}
